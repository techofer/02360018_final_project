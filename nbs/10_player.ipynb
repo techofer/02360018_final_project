{
 "cells": [
  {
   "cell_type": "markdown",
   "metadata": {},
   "source": [
    "# player\n",
    "\n",
    "> This module training optimizing of RL agents on the electricity market environment."
   ]
  },
  {
   "cell_type": "code",
   "execution_count": null,
   "metadata": {},
   "outputs": [],
   "source": [
    "# | default_exp player"
   ]
  },
  {
   "cell_type": "code",
   "execution_count": null,
   "metadata": {},
   "outputs": [],
   "source": [
    "# | hide\n",
    "from nbdev.showdoc import *"
   ]
  },
  {
   "cell_type": "code",
   "execution_count": null,
   "metadata": {},
   "outputs": [],
   "source": [
    "# | export\n",
    "import pickle\n",
    "import shutil\n",
    "from abc import ABC\n",
    "from pathlib import Path\n",
    "\n",
    "import numpy as np\n",
    "import optuna\n",
    "import torch\n",
    "import yaml\n",
    "from sb3_contrib import MaskablePPO\n",
    "from sb3_contrib.common.maskable.policies import MaskableActorCriticPolicy\n",
    "from sb3_contrib.common.wrappers import ActionMasker\n",
    "from stable_baselines3 import A2C\n",
    "from stable_baselines3.common.callbacks import CheckpointCallback\n",
    "from stable_baselines3.common.monitor import Monitor\n",
    "from tqdm.notebook import tqdm\n",
    "\n",
    "from electricity_market.env import ElectricityMarketEnv, EnvConfig\n",
    "from electricity_market.utils import EvaluationData"
   ]
  },
  {
   "cell_type": "code",
   "execution_count": null,
   "metadata": {},
   "outputs": [],
   "source": [
    "# | export\n",
    "N_TRAIN_EPISODES = 3\n",
    "N_TRAILS = 10\n",
    "TRAIN_SEEDS = [\n",
    "    111111,\n",
    "    121212,\n",
    "    123456,\n",
    "    200000,\n",
    "    217890,\n",
    "    222222,\n",
    "    224775,\n",
    "    234567,\n",
    "    253084,\n",
    "    285234,\n",
    "    312135,\n",
    "    314831,\n",
    "    333333,\n",
    "    345678,\n",
    "    406339,\n",
    "    444444,\n",
    "    471678,\n",
    "    555555,\n",
    "    562845,\n",
    "    666666,\n",
    "    701753,\n",
    "    755460,\n",
    "    761386,\n",
    "    777777,\n",
    "    789391,\n",
    "    888888,\n",
    "    993068,\n",
    "    979797,\n",
    "    987654,\n",
    "    999999,\n",
    "]\n",
    "EVALUATE_SEEDS = [\n",
    "    117127,\n",
    "    136901,\n",
    "    223246,\n",
    "    243382,\n",
    "    245720,\n",
    "    248832,\n",
    "    288598,\n",
    "    374487,\n",
    "    447331,\n",
    "    447851,\n",
    "    490428,\n",
    "    553737,\n",
    "    557309,\n",
    "    571504,\n",
    "    601426,\n",
    "    632202,\n",
    "    653634,\n",
    "    844596,\n",
    "    848937,\n",
    "    849735,\n",
    "    865470,\n",
    "    866822,\n",
    "    876563,\n",
    "    880689,\n",
    "    887591,\n",
    "    911016,\n",
    "    920528,\n",
    "    963993,\n",
    "    967995,\n",
    "    992634,\n",
    "]\n",
    "ENV_CONFIG = EnvConfig()\n",
    "\n",
    "TENSORBOARD_PATH = Path(\"../tensorboard\")\n",
    "LOGS_PATH = Path(\"../logs\")\n",
    "\n",
    "# Set QUICK_MODE = True for CI\n",
    "QUICK_MODE = True\n",
    "\n",
    "if QUICK_MODE:\n",
    "    ENV_CONFIG = EnvConfig(max_timestep=10)\n",
    "    TRAIN_SEEDS = [10000]\n",
    "    EVALUATE_SEEDS = [90000]\n",
    "    TENSORBOARD_PATH = None\n",
    "    LOGS_PATH = None\n",
    "\n",
    "evaluation_data_per_agent = {}"
   ]
  },
  {
   "cell_type": "code",
   "execution_count": null,
   "metadata": {},
   "outputs": [],
   "source": [
    "# | hide\n",
    "\n",
    "# cleanup\n",
    "if not QUICK_MODE:\n",
    "    shutil.rmtree(TENSORBOARD_PATH, ignore_errors=True)\n",
    "    shutil.rmtree(LOGS_PATH, ignore_errors=True)"
   ]
  },
  {
   "cell_type": "code",
   "execution_count": null,
   "metadata": {},
   "outputs": [],
   "source": [
    "# | export\n",
    "\n",
    "\n",
    "class Agent(ABC):\n",
    "    def __init__(self, name, env, device):\n",
    "        self.name = name\n",
    "        self.device = device\n",
    "        self.env = env\n",
    "\n",
    "    def evaluate(self, render: bool = False) -> EvaluationData:\n",
    "        \"\"\"\n",
    "        Evaluate the model, and return EvaluationData.\n",
    "        \"\"\"\n",
    "        all_rewards = []\n",
    "\n",
    "        for seed in tqdm(EVALUATE_SEEDS, desc=\"seeds\"):\n",
    "            obs, _ = self.env.reset(seed=seed)\n",
    "            episode_rewards = []\n",
    "            done = False\n",
    "\n",
    "            while not done:\n",
    "                obs_tensor = torch.tensor(obs, dtype=torch.float64).to(self.device)\n",
    "\n",
    "                action = self.choose_action(obs_tensor)\n",
    "                obs, reward, done, truncated, _ = self.env.step(action)\n",
    "                episode_rewards.append(reward)\n",
    "\n",
    "                if render:\n",
    "                    self.env.render()\n",
    "\n",
    "                if truncated:\n",
    "                    break\n",
    "\n",
    "            all_rewards.append(np.sum(episode_rewards))\n",
    "\n",
    "        return EvaluationData(\n",
    "            episodes=list(range(len(all_rewards))),\n",
    "            rewards=all_rewards,\n",
    "        )\n",
    "\n",
    "    def choose_action(self, obs_tensor):\n",
    "        raise NotImplementedError\n",
    "\n",
    "\n",
    "class ModelAgent(Agent):\n",
    "    def __init__(self, name, env, env_config, model, device):\n",
    "        super().__init__(name, device=device, env=env)\n",
    "        self.model = model\n",
    "        self.env_config = env_config\n",
    "\n",
    "    def train(self) -> None:\n",
    "        \"\"\"\n",
    "        Train the model\n",
    "        \"\"\"\n",
    "        checkpoint_callback = CheckpointCallback(save_freq=1000, save_path=\"../logs/\")\n",
    "\n",
    "        for seed in tqdm(TRAIN_SEEDS, desc=\"seeds\"):\n",
    "            for _ in tqdm(range(N_TRAIN_EPISODES), desc=\"Training episodes\"):\n",
    "                self.env.reset(seed=seed)\n",
    "                self.model.learn(\n",
    "                    total_timesteps=self.env_config.max_timestep,\n",
    "                    callback=checkpoint_callback,\n",
    "                    reset_num_timesteps=False,\n",
    "                    tb_log_name=self.name,\n",
    "                )\n",
    "\n",
    "    def choose_action(self, obs_tensor):\n",
    "        action, _ = self.model.predict(obs_tensor, deterministic=True)\n",
    "        return action\n",
    "\n",
    "    def save_model(self, model_path: Path) -> None:\n",
    "        self.model.save(str(model_path))\n",
    "\n",
    "    def load_model(self, model_path: Path) -> None:\n",
    "        self.model.load(str(model_path))\n",
    "\n",
    "\n",
    "class MaskableAgent(Agent):\n",
    "    @staticmethod\n",
    "    def mask_fn(env):\n",
    "        \"\"\"\n",
    "        Placeholder mask function if needed.\n",
    "        \"\"\"\n",
    "        return env.unwrapped.action_masks()\n",
    "\n",
    "\n",
    "class MaskableModelAgent(MaskableAgent, ModelAgent):\n",
    "    def choose_action(self, obs_tensor):\n",
    "        action, _ = self.model.predict(\n",
    "            obs_tensor,\n",
    "            action_masks=MaskableAgent.mask_fn(self.env),\n",
    "            deterministic=True,\n",
    "        )"
   ]
  },
  {
   "cell_type": "code",
   "execution_count": null,
   "metadata": {},
   "outputs": [],
   "source": [
    "# | export\n",
    "\n",
    "\n",
    "class MaskableRandomAgent(MaskableAgent):\n",
    "    def __init__(\n",
    "        self,\n",
    "        env_config: EnvConfig | None = None,\n",
    "        render_mode: str | None = None,\n",
    "        name: str = \"MaskableRandomAgent\",\n",
    "    ):\n",
    "        \"\"\"\n",
    "        Initialize the agent and create the environment.\n",
    "        \"\"\"\n",
    "        device = \"cuda\" if torch.cuda.is_available() else \"cpu\"\n",
    "        env = ActionMasker(\n",
    "            ElectricityMarketEnv(env_config, render_mode=render_mode), self.mask_fn\n",
    "        )\n",
    "        super().__init__(name, device=device, env=env)\n",
    "\n",
    "    def choose_action(self, obs_tensor):\n",
    "        action_mask = self.env.action_masks()\n",
    "        valid_actions = np.where(action_mask)[0]\n",
    "        action = np.random.choice(valid_actions)\n",
    "\n",
    "        return action"
   ]
  },
  {
   "cell_type": "code",
   "execution_count": null,
   "metadata": {},
   "outputs": [],
   "source": [
    "# | export\n",
    "\n",
    "\n",
    "class A2CAgent(ModelAgent):\n",
    "    \"\"\"A2C Agent for the Electricity Market Environment.\"\"\"\n",
    "\n",
    "    def __init__(\n",
    "        self,\n",
    "        env_config: EnvConfig | None = None,\n",
    "        render_mode: str | None = None,\n",
    "        name: str = \"A2CAgent\",\n",
    "    ):\n",
    "        device = \"cuda\" if torch.cuda.is_available() else \"cpu\"\n",
    "        env = Monitor(\n",
    "            ElectricityMarketEnv(env_config, render_mode=render_mode),\n",
    "        )\n",
    "        model = A2C(\n",
    "            \"MlpPolicy\",\n",
    "            env,\n",
    "            verbose=0,\n",
    "            tensorboard_log=f\"./tensorboard/\",\n",
    "            device=device,\n",
    "        )\n",
    "        super().__init__(\n",
    "            name=name, env=env, model=model, device=device, env_config=env_config\n",
    "        )"
   ]
  },
  {
   "cell_type": "code",
   "execution_count": null,
   "metadata": {},
   "outputs": [],
   "source": [
    "# | export\n",
    "\n",
    "\n",
    "class MaskablePPOAgent(ModelAgent, MaskableAgent):\n",
    "    \"\"\"Maskable PPO Agent for the Electricity Market Environment.\"\"\"\n",
    "\n",
    "    def __init__(\n",
    "        self,\n",
    "        env_config: EnvConfig | None = None,\n",
    "        render_mode: str | None = None,\n",
    "        name: str = \"MaskablePPOAgent\",\n",
    "    ):\n",
    "        env = Monitor(\n",
    "            ActionMasker(\n",
    "                ElectricityMarketEnv(env_config, render_mode=render_mode),\n",
    "                self.mask_fn,\n",
    "            )\n",
    "        )\n",
    "        device = \"cuda\" if torch.cuda.is_available() else \"cpu\"\n",
    "        model = MaskablePPO(\n",
    "            MaskableActorCriticPolicy,\n",
    "            env,\n",
    "            verbose=0,\n",
    "            tensorboard_log=f\"./tensorboard/\",\n",
    "            device=device,\n",
    "        )\n",
    "        super().__init__(\n",
    "            name=name, env=env, model=model, device=device, env_config=env_config\n",
    "        )\n",
    "        self.optimized_hyperparameters = {}\n",
    "        self.env_config = env_config or EnvConfig()\n",
    "\n",
    "    def optimize(self) -> None:\n",
    "        \"\"\"\n",
    "        Optimize the agent with hyperparameters.\n",
    "        \"\"\"\n",
    "\n",
    "        def objective(trial):\n",
    "            learning_rate = trial.suggest_float(\"learning_rate\", 1e-5, 1e-3, log=True)\n",
    "            n_steps = trial.suggest_int(\"n_steps\", 32, 1024, log=True)\n",
    "            batch_size = trial.suggest_int(\"batch_size\", 16, 256, log=True)\n",
    "            gae_lambda = trial.suggest_float(\"gae_lambda\", 0.8, 1.0)\n",
    "            ent_coef = trial.suggest_float(\"ent_coef\", 0.0, 0.02)\n",
    "            vf_coef = trial.suggest_float(\"vf_coef\", 0.1, 1.0)\n",
    "            clip_range = trial.suggest_float(\"clip_range\", 0.1, 0.3)\n",
    "            max_grad_norm = trial.suggest_float(\"max_grad_norm\", 0.1, 1.0)\n",
    "\n",
    "            agent = MaskablePPOAgent(\n",
    "                self.env_config,\n",
    "            )\n",
    "\n",
    "            model = MaskablePPO(\n",
    "                MaskableActorCriticPolicy,\n",
    "                agent.env,\n",
    "                learning_rate=learning_rate,\n",
    "                n_steps=n_steps,\n",
    "                batch_size=batch_size,\n",
    "                gae_lambda=gae_lambda,\n",
    "                ent_coef=ent_coef,\n",
    "                vf_coef=vf_coef,\n",
    "                clip_range=clip_range,\n",
    "                max_grad_norm=max_grad_norm,\n",
    "                verbose=0,\n",
    "                device=self.device,\n",
    "            )\n",
    "\n",
    "            agent.model = model\n",
    "            agent.train()\n",
    "\n",
    "            return np.mean(agent.evaluate().rewards)\n",
    "\n",
    "        study = optuna.create_study(\n",
    "            study_name=self.name,\n",
    "            storage=\"sqlite:///optuna_study.db\",\n",
    "            load_if_exists=True,\n",
    "            direction=\"maximize\",\n",
    "            pruner=optuna.pruners.HyperbandPruner(),\n",
    "            sampler=optuna.samplers.TPESampler(),\n",
    "        )\n",
    "\n",
    "        study.optimize(\n",
    "            objective,\n",
    "            n_trials=N_TRAILS,\n",
    "            n_jobs=-1,\n",
    "            show_progress_bar=True,\n",
    "            catch=(ValueError,),\n",
    "        )\n",
    "\n",
    "        self.optimized_hyperparameters = study.best_params\n",
    "\n",
    "        self.model = MaskablePPO(\n",
    "            MaskableActorCriticPolicy,\n",
    "            self.env,\n",
    "            **self.optimized_hyperparameters,\n",
    "            verbose=0,\n",
    "            tensorboard_log=f\"./tensorboard/\",\n",
    "            device=self.device,\n",
    "        )\n",
    "\n",
    "    def export_hyperparameters(self, filename: str):\n",
    "        \"\"\"\n",
    "        Export optimized learned_hyperparameters to a YAML file.\n",
    "        \"\"\"\n",
    "        with open(filename, \"w\") as file:\n",
    "            yaml.dump(self.optimized_hyperparameters, file)"
   ]
  },
  {
   "cell_type": "markdown",
   "metadata": {},
   "source": "### Evaluation MaskableRandom on ElectricityMarketEnv\n"
  },
  {
   "cell_type": "code",
   "execution_count": null,
   "metadata": {},
   "outputs": [
    {
     "data": {
      "application/vnd.jupyter.widget-view+json": {
       "model_id": "7ebb523b2490456689b538924e58b392",
       "version_major": 2,
       "version_minor": 0
      },
      "text/plain": [
       "seeds:   0%|          | 0/30 [00:00<?, ?it/s]"
      ]
     },
     "metadata": {},
     "output_type": "display_data"
    }
   ],
   "source": [
    "# | hide\n",
    "maskable_random_agent = MaskableRandomAgent(render_mode=\"human\", env_config=ENV_CONFIG)\n",
    "\n",
    "evaluation_data_per_agent[maskable_random_agent.name] = maskable_random_agent.evaluate()"
   ]
  },
  {
   "cell_type": "markdown",
   "metadata": {},
   "source": "### Evaluation A2C on ElectricityMarketEnv\n"
  },
  {
   "cell_type": "code",
   "execution_count": null,
   "metadata": {},
   "outputs": [
    {
     "data": {
      "application/vnd.jupyter.widget-view+json": {
       "model_id": "4c10365121644fe28bcfe39f6d73475f",
       "version_major": 2,
       "version_minor": 0
      },
      "text/plain": [
       "seeds:   0%|          | 0/30 [00:00<?, ?it/s]"
      ]
     },
     "metadata": {},
     "output_type": "display_data"
    },
    {
     "data": {
      "application/vnd.jupyter.widget-view+json": {
       "model_id": "18b5d09993d44e8dbbe5dc140fa97970",
       "version_major": 2,
       "version_minor": 0
      },
      "text/plain": [
       "Training episodes:   0%|          | 0/3 [00:00<?, ?it/s]"
      ]
     },
     "metadata": {},
     "output_type": "display_data"
    },
    {
     "data": {
      "application/vnd.jupyter.widget-view+json": {
       "model_id": "f7f341fa40ae4b5e9a1e807fcf32fecd",
       "version_major": 2,
       "version_minor": 0
      },
      "text/plain": [
       "Training episodes:   0%|          | 0/3 [00:00<?, ?it/s]"
      ]
     },
     "metadata": {},
     "output_type": "display_data"
    },
    {
     "data": {
      "application/vnd.jupyter.widget-view+json": {
       "model_id": "3ae966912a854390b0974475ba00f310",
       "version_major": 2,
       "version_minor": 0
      },
      "text/plain": [
       "Training episodes:   0%|          | 0/3 [00:00<?, ?it/s]"
      ]
     },
     "metadata": {},
     "output_type": "display_data"
    },
    {
     "data": {
      "application/vnd.jupyter.widget-view+json": {
       "model_id": "48d06634e55a454fa8e48dd728e40777",
       "version_major": 2,
       "version_minor": 0
      },
      "text/plain": [
       "Training episodes:   0%|          | 0/3 [00:00<?, ?it/s]"
      ]
     },
     "metadata": {},
     "output_type": "display_data"
    },
    {
     "data": {
      "application/vnd.jupyter.widget-view+json": {
       "model_id": "dd938ced21f34d24851b53cd2f82cf2b",
       "version_major": 2,
       "version_minor": 0
      },
      "text/plain": [
       "Training episodes:   0%|          | 0/3 [00:00<?, ?it/s]"
      ]
     },
     "metadata": {},
     "output_type": "display_data"
    },
    {
     "data": {
      "application/vnd.jupyter.widget-view+json": {
       "model_id": "fe1470eacebd4310a34673b22039f873",
       "version_major": 2,
       "version_minor": 0
      },
      "text/plain": [
       "Training episodes:   0%|          | 0/3 [00:00<?, ?it/s]"
      ]
     },
     "metadata": {},
     "output_type": "display_data"
    },
    {
     "data": {
      "application/vnd.jupyter.widget-view+json": {
       "model_id": "977cb5e654934457bb7ffab831933533",
       "version_major": 2,
       "version_minor": 0
      },
      "text/plain": [
       "Training episodes:   0%|          | 0/3 [00:00<?, ?it/s]"
      ]
     },
     "metadata": {},
     "output_type": "display_data"
    },
    {
     "data": {
      "application/vnd.jupyter.widget-view+json": {
       "model_id": "dbaf26e901a044dbb1dfbce073845c1c",
       "version_major": 2,
       "version_minor": 0
      },
      "text/plain": [
       "Training episodes:   0%|          | 0/3 [00:00<?, ?it/s]"
      ]
     },
     "metadata": {},
     "output_type": "display_data"
    },
    {
     "data": {
      "application/vnd.jupyter.widget-view+json": {
       "model_id": "044c747ba36c408783fce0877a206211",
       "version_major": 2,
       "version_minor": 0
      },
      "text/plain": [
       "Training episodes:   0%|          | 0/3 [00:00<?, ?it/s]"
      ]
     },
     "metadata": {},
     "output_type": "display_data"
    },
    {
     "data": {
      "application/vnd.jupyter.widget-view+json": {
       "model_id": "fe74566382994105abde5350cc10d4b3",
       "version_major": 2,
       "version_minor": 0
      },
      "text/plain": [
       "Training episodes:   0%|          | 0/3 [00:00<?, ?it/s]"
      ]
     },
     "metadata": {},
     "output_type": "display_data"
    },
    {
     "data": {
      "application/vnd.jupyter.widget-view+json": {
       "model_id": "29a0eeb08e5d4f68866d1847d814dc27",
       "version_major": 2,
       "version_minor": 0
      },
      "text/plain": [
       "Training episodes:   0%|          | 0/3 [00:00<?, ?it/s]"
      ]
     },
     "metadata": {},
     "output_type": "display_data"
    },
    {
     "data": {
      "application/vnd.jupyter.widget-view+json": {
       "model_id": "829ba3faa46b4b9d9183119cc62272ab",
       "version_major": 2,
       "version_minor": 0
      },
      "text/plain": [
       "Training episodes:   0%|          | 0/3 [00:00<?, ?it/s]"
      ]
     },
     "metadata": {},
     "output_type": "display_data"
    },
    {
     "data": {
      "application/vnd.jupyter.widget-view+json": {
       "model_id": "093c6396fe274553ba267878baec16b5",
       "version_major": 2,
       "version_minor": 0
      },
      "text/plain": [
       "Training episodes:   0%|          | 0/3 [00:00<?, ?it/s]"
      ]
     },
     "metadata": {},
     "output_type": "display_data"
    },
    {
     "data": {
      "application/vnd.jupyter.widget-view+json": {
       "model_id": "0a9c98eddfe942639d97281ec3752b92",
       "version_major": 2,
       "version_minor": 0
      },
      "text/plain": [
       "Training episodes:   0%|          | 0/3 [00:00<?, ?it/s]"
      ]
     },
     "metadata": {},
     "output_type": "display_data"
    },
    {
     "data": {
      "application/vnd.jupyter.widget-view+json": {
       "model_id": "15b7ed4499ae4a118e7cd1ffd81e2995",
       "version_major": 2,
       "version_minor": 0
      },
      "text/plain": [
       "Training episodes:   0%|          | 0/3 [00:00<?, ?it/s]"
      ]
     },
     "metadata": {},
     "output_type": "display_data"
    },
    {
     "data": {
      "application/vnd.jupyter.widget-view+json": {
       "model_id": "779277b6d6a44a9084e12c5a0556db7c",
       "version_major": 2,
       "version_minor": 0
      },
      "text/plain": [
       "Training episodes:   0%|          | 0/3 [00:00<?, ?it/s]"
      ]
     },
     "metadata": {},
     "output_type": "display_data"
    },
    {
     "data": {
      "application/vnd.jupyter.widget-view+json": {
       "model_id": "88a81681263747b98033da12007d68af",
       "version_major": 2,
       "version_minor": 0
      },
      "text/plain": [
       "Training episodes:   0%|          | 0/3 [00:00<?, ?it/s]"
      ]
     },
     "metadata": {},
     "output_type": "display_data"
    },
    {
     "data": {
      "application/vnd.jupyter.widget-view+json": {
       "model_id": "912d27c01f294473a838a0e4f2404544",
       "version_major": 2,
       "version_minor": 0
      },
      "text/plain": [
       "Training episodes:   0%|          | 0/3 [00:00<?, ?it/s]"
      ]
     },
     "metadata": {},
     "output_type": "display_data"
    },
    {
     "data": {
      "application/vnd.jupyter.widget-view+json": {
       "model_id": "0389f618347d417ba045000e5808446e",
       "version_major": 2,
       "version_minor": 0
      },
      "text/plain": [
       "Training episodes:   0%|          | 0/3 [00:00<?, ?it/s]"
      ]
     },
     "metadata": {},
     "output_type": "display_data"
    },
    {
     "data": {
      "application/vnd.jupyter.widget-view+json": {
       "model_id": "5f27d9bca2da4a9c94cce6f605a5edca",
       "version_major": 2,
       "version_minor": 0
      },
      "text/plain": [
       "Training episodes:   0%|          | 0/3 [00:00<?, ?it/s]"
      ]
     },
     "metadata": {},
     "output_type": "display_data"
    },
    {
     "data": {
      "application/vnd.jupyter.widget-view+json": {
       "model_id": "c927256585d34d67a91c54d146508552",
       "version_major": 2,
       "version_minor": 0
      },
      "text/plain": [
       "Training episodes:   0%|          | 0/3 [00:00<?, ?it/s]"
      ]
     },
     "metadata": {},
     "output_type": "display_data"
    },
    {
     "data": {
      "application/vnd.jupyter.widget-view+json": {
       "model_id": "86e421c74f744f59bac1fa603cd3474e",
       "version_major": 2,
       "version_minor": 0
      },
      "text/plain": [
       "Training episodes:   0%|          | 0/3 [00:00<?, ?it/s]"
      ]
     },
     "metadata": {},
     "output_type": "display_data"
    },
    {
     "data": {
      "application/vnd.jupyter.widget-view+json": {
       "model_id": "aaa8c2ebd0264954825e40ddc79df64a",
       "version_major": 2,
       "version_minor": 0
      },
      "text/plain": [
       "Training episodes:   0%|          | 0/3 [00:00<?, ?it/s]"
      ]
     },
     "metadata": {},
     "output_type": "display_data"
    },
    {
     "data": {
      "application/vnd.jupyter.widget-view+json": {
       "model_id": "7f204ad5dd1f42639eda52eb5133d22c",
       "version_major": 2,
       "version_minor": 0
      },
      "text/plain": [
       "Training episodes:   0%|          | 0/3 [00:00<?, ?it/s]"
      ]
     },
     "metadata": {},
     "output_type": "display_data"
    },
    {
     "data": {
      "application/vnd.jupyter.widget-view+json": {
       "model_id": "194f99a020ce4a61a5c12157d0f930b1",
       "version_major": 2,
       "version_minor": 0
      },
      "text/plain": [
       "Training episodes:   0%|          | 0/3 [00:00<?, ?it/s]"
      ]
     },
     "metadata": {},
     "output_type": "display_data"
    },
    {
     "data": {
      "application/vnd.jupyter.widget-view+json": {
       "model_id": "861ad335955d455781f80ec71403a89a",
       "version_major": 2,
       "version_minor": 0
      },
      "text/plain": [
       "Training episodes:   0%|          | 0/3 [00:00<?, ?it/s]"
      ]
     },
     "metadata": {},
     "output_type": "display_data"
    },
    {
     "data": {
      "application/vnd.jupyter.widget-view+json": {
       "model_id": "661bf25424f54ba0b364869be3d1f1b2",
       "version_major": 2,
       "version_minor": 0
      },
      "text/plain": [
       "Training episodes:   0%|          | 0/3 [00:00<?, ?it/s]"
      ]
     },
     "metadata": {},
     "output_type": "display_data"
    },
    {
     "data": {
      "application/vnd.jupyter.widget-view+json": {
       "model_id": "662cbf14440b4129842daeb41da8af9a",
       "version_major": 2,
       "version_minor": 0
      },
      "text/plain": [
       "Training episodes:   0%|          | 0/3 [00:00<?, ?it/s]"
      ]
     },
     "metadata": {},
     "output_type": "display_data"
    },
    {
     "data": {
      "application/vnd.jupyter.widget-view+json": {
       "model_id": "16458684b6894044bd1d01ebe7312f57",
       "version_major": 2,
       "version_minor": 0
      },
      "text/plain": [
       "Training episodes:   0%|          | 0/3 [00:00<?, ?it/s]"
      ]
     },
     "metadata": {},
     "output_type": "display_data"
    },
    {
     "data": {
      "application/vnd.jupyter.widget-view+json": {
       "model_id": "fb00916779d84f88b4a09d2fa9ecc50b",
       "version_major": 2,
       "version_minor": 0
      },
      "text/plain": [
       "Training episodes:   0%|          | 0/3 [00:00<?, ?it/s]"
      ]
     },
     "metadata": {},
     "output_type": "display_data"
    },
    {
     "data": {
      "application/vnd.jupyter.widget-view+json": {
       "model_id": "f3c630f35fd247d986cc980e9b228778",
       "version_major": 2,
       "version_minor": 0
      },
      "text/plain": [
       "seeds:   0%|          | 0/30 [00:00<?, ?it/s]"
      ]
     },
     "metadata": {},
     "output_type": "display_data"
    }
   ],
   "source": [
    "# | hide\n",
    "a2c_agent = A2CAgent(render_mode=\"human\", env_config=ENV_CONFIG)\n",
    "\n",
    "a2c_agent.train()\n",
    "\n",
    "if not QUICK_MODE:\n",
    "    a2c_agent.save_model(f\"{a2c_agent.name}.model\")\n",
    "\n",
    "evaluation_data_per_agent[a2c_agent.name] = a2c_agent.evaluate()"
   ]
  },
  {
   "cell_type": "markdown",
   "metadata": {},
   "source": "### Evaluation MaskablePPO with default hyperparameters on ElectricityMarketEnv"
  },
  {
   "cell_type": "code",
   "execution_count": null,
   "metadata": {},
   "outputs": [
    {
     "data": {
      "application/vnd.jupyter.widget-view+json": {
       "model_id": "92d75da8b3ad440ca288643b8e9b7891",
       "version_major": 2,
       "version_minor": 0
      },
      "text/plain": [
       "seeds:   0%|          | 0/30 [00:00<?, ?it/s]"
      ]
     },
     "metadata": {},
     "output_type": "display_data"
    },
    {
     "data": {
      "application/vnd.jupyter.widget-view+json": {
       "model_id": "79654e606f9046fb82accc067d720f83",
       "version_major": 2,
       "version_minor": 0
      },
      "text/plain": [
       "Training episodes:   0%|          | 0/3 [00:00<?, ?it/s]"
      ]
     },
     "metadata": {},
     "output_type": "display_data"
    },
    {
     "data": {
      "application/vnd.jupyter.widget-view+json": {
       "model_id": "a463ceeb71734f5ea815697bf2382778",
       "version_major": 2,
       "version_minor": 0
      },
      "text/plain": [
       "Training episodes:   0%|          | 0/3 [00:00<?, ?it/s]"
      ]
     },
     "metadata": {},
     "output_type": "display_data"
    },
    {
     "data": {
      "application/vnd.jupyter.widget-view+json": {
       "model_id": "cb0e41ee853d472bafd2b004bd7da361",
       "version_major": 2,
       "version_minor": 0
      },
      "text/plain": [
       "Training episodes:   0%|          | 0/3 [00:00<?, ?it/s]"
      ]
     },
     "metadata": {},
     "output_type": "display_data"
    },
    {
     "data": {
      "application/vnd.jupyter.widget-view+json": {
       "model_id": "a890f87dcc554dbbb7ffb1de908a3be2",
       "version_major": 2,
       "version_minor": 0
      },
      "text/plain": [
       "Training episodes:   0%|          | 0/3 [00:00<?, ?it/s]"
      ]
     },
     "metadata": {},
     "output_type": "display_data"
    },
    {
     "data": {
      "application/vnd.jupyter.widget-view+json": {
       "model_id": "89f150a7506c4ce794f2b7a0f0b72fc5",
       "version_major": 2,
       "version_minor": 0
      },
      "text/plain": [
       "Training episodes:   0%|          | 0/3 [00:00<?, ?it/s]"
      ]
     },
     "metadata": {},
     "output_type": "display_data"
    },
    {
     "data": {
      "application/vnd.jupyter.widget-view+json": {
       "model_id": "10052de7add04a74b50f3940724e4019",
       "version_major": 2,
       "version_minor": 0
      },
      "text/plain": [
       "Training episodes:   0%|          | 0/3 [00:00<?, ?it/s]"
      ]
     },
     "metadata": {},
     "output_type": "display_data"
    },
    {
     "data": {
      "application/vnd.jupyter.widget-view+json": {
       "model_id": "3a626446543c47f4b3096a83be38b5f1",
       "version_major": 2,
       "version_minor": 0
      },
      "text/plain": [
       "Training episodes:   0%|          | 0/3 [00:00<?, ?it/s]"
      ]
     },
     "metadata": {},
     "output_type": "display_data"
    },
    {
     "data": {
      "application/vnd.jupyter.widget-view+json": {
       "model_id": "47646daaaac24df5a00e55d0db7c139a",
       "version_major": 2,
       "version_minor": 0
      },
      "text/plain": [
       "Training episodes:   0%|          | 0/3 [00:00<?, ?it/s]"
      ]
     },
     "metadata": {},
     "output_type": "display_data"
    },
    {
     "data": {
      "application/vnd.jupyter.widget-view+json": {
       "model_id": "c0067eae39aa4d9daeb594ec621e6b87",
       "version_major": 2,
       "version_minor": 0
      },
      "text/plain": [
       "Training episodes:   0%|          | 0/3 [00:00<?, ?it/s]"
      ]
     },
     "metadata": {},
     "output_type": "display_data"
    },
    {
     "data": {
      "application/vnd.jupyter.widget-view+json": {
       "model_id": "21066395da0d4ffc800bc0ce26287f6b",
       "version_major": 2,
       "version_minor": 0
      },
      "text/plain": [
       "Training episodes:   0%|          | 0/3 [00:00<?, ?it/s]"
      ]
     },
     "metadata": {},
     "output_type": "display_data"
    },
    {
     "data": {
      "application/vnd.jupyter.widget-view+json": {
       "model_id": "9acd65c1c8644233ba9c115e7ff2098c",
       "version_major": 2,
       "version_minor": 0
      },
      "text/plain": [
       "Training episodes:   0%|          | 0/3 [00:00<?, ?it/s]"
      ]
     },
     "metadata": {},
     "output_type": "display_data"
    },
    {
     "data": {
      "application/vnd.jupyter.widget-view+json": {
       "model_id": "24ee425db0ca4f1dbbf9f938a7280829",
       "version_major": 2,
       "version_minor": 0
      },
      "text/plain": [
       "Training episodes:   0%|          | 0/3 [00:00<?, ?it/s]"
      ]
     },
     "metadata": {},
     "output_type": "display_data"
    },
    {
     "data": {
      "application/vnd.jupyter.widget-view+json": {
       "model_id": "5f76c19d1a464242b9d5950d0d6743b4",
       "version_major": 2,
       "version_minor": 0
      },
      "text/plain": [
       "Training episodes:   0%|          | 0/3 [00:00<?, ?it/s]"
      ]
     },
     "metadata": {},
     "output_type": "display_data"
    },
    {
     "data": {
      "application/vnd.jupyter.widget-view+json": {
       "model_id": "17d07791f02442f995e10e3acea4d426",
       "version_major": 2,
       "version_minor": 0
      },
      "text/plain": [
       "Training episodes:   0%|          | 0/3 [00:00<?, ?it/s]"
      ]
     },
     "metadata": {},
     "output_type": "display_data"
    },
    {
     "data": {
      "application/vnd.jupyter.widget-view+json": {
       "model_id": "faee6b35cffe49e8906771f817b51b37",
       "version_major": 2,
       "version_minor": 0
      },
      "text/plain": [
       "Training episodes:   0%|          | 0/3 [00:00<?, ?it/s]"
      ]
     },
     "metadata": {},
     "output_type": "display_data"
    },
    {
     "data": {
      "application/vnd.jupyter.widget-view+json": {
       "model_id": "b7cb5533e0704ac5a27741f9e99cc466",
       "version_major": 2,
       "version_minor": 0
      },
      "text/plain": [
       "Training episodes:   0%|          | 0/3 [00:00<?, ?it/s]"
      ]
     },
     "metadata": {},
     "output_type": "display_data"
    },
    {
     "data": {
      "application/vnd.jupyter.widget-view+json": {
       "model_id": "0790929f981141eb851fb5e43a5278d4",
       "version_major": 2,
       "version_minor": 0
      },
      "text/plain": [
       "Training episodes:   0%|          | 0/3 [00:00<?, ?it/s]"
      ]
     },
     "metadata": {},
     "output_type": "display_data"
    },
    {
     "data": {
      "application/vnd.jupyter.widget-view+json": {
       "model_id": "2adc5a08df804a34b687e4401c2ea0f9",
       "version_major": 2,
       "version_minor": 0
      },
      "text/plain": [
       "Training episodes:   0%|          | 0/3 [00:00<?, ?it/s]"
      ]
     },
     "metadata": {},
     "output_type": "display_data"
    },
    {
     "data": {
      "application/vnd.jupyter.widget-view+json": {
       "model_id": "4d6d983bea384ac5abe4809c7e819f38",
       "version_major": 2,
       "version_minor": 0
      },
      "text/plain": [
       "Training episodes:   0%|          | 0/3 [00:00<?, ?it/s]"
      ]
     },
     "metadata": {},
     "output_type": "display_data"
    },
    {
     "data": {
      "application/vnd.jupyter.widget-view+json": {
       "model_id": "634962d019914704a47f02e8596b2d44",
       "version_major": 2,
       "version_minor": 0
      },
      "text/plain": [
       "Training episodes:   0%|          | 0/3 [00:00<?, ?it/s]"
      ]
     },
     "metadata": {},
     "output_type": "display_data"
    },
    {
     "data": {
      "application/vnd.jupyter.widget-view+json": {
       "model_id": "bfecc7919c594e22a9e32fad9bb86ce2",
       "version_major": 2,
       "version_minor": 0
      },
      "text/plain": [
       "Training episodes:   0%|          | 0/3 [00:00<?, ?it/s]"
      ]
     },
     "metadata": {},
     "output_type": "display_data"
    },
    {
     "data": {
      "application/vnd.jupyter.widget-view+json": {
       "model_id": "ce06282d1cd94094baf3f0a3c3568f5c",
       "version_major": 2,
       "version_minor": 0
      },
      "text/plain": [
       "Training episodes:   0%|          | 0/3 [00:00<?, ?it/s]"
      ]
     },
     "metadata": {},
     "output_type": "display_data"
    },
    {
     "data": {
      "application/vnd.jupyter.widget-view+json": {
       "model_id": "833ad3b4921f42b885c6f3295badc3a7",
       "version_major": 2,
       "version_minor": 0
      },
      "text/plain": [
       "Training episodes:   0%|          | 0/3 [00:00<?, ?it/s]"
      ]
     },
     "metadata": {},
     "output_type": "display_data"
    },
    {
     "data": {
      "application/vnd.jupyter.widget-view+json": {
       "model_id": "e65ac3eb468a41178e7283586684136f",
       "version_major": 2,
       "version_minor": 0
      },
      "text/plain": [
       "Training episodes:   0%|          | 0/3 [00:00<?, ?it/s]"
      ]
     },
     "metadata": {},
     "output_type": "display_data"
    },
    {
     "data": {
      "application/vnd.jupyter.widget-view+json": {
       "model_id": "96d86fe25ff54af780c7b77b4ef51475",
       "version_major": 2,
       "version_minor": 0
      },
      "text/plain": [
       "Training episodes:   0%|          | 0/3 [00:00<?, ?it/s]"
      ]
     },
     "metadata": {},
     "output_type": "display_data"
    },
    {
     "data": {
      "application/vnd.jupyter.widget-view+json": {
       "model_id": "8f809038d3ac4e5eb80b907f7fe5387d",
       "version_major": 2,
       "version_minor": 0
      },
      "text/plain": [
       "Training episodes:   0%|          | 0/3 [00:00<?, ?it/s]"
      ]
     },
     "metadata": {},
     "output_type": "display_data"
    },
    {
     "data": {
      "application/vnd.jupyter.widget-view+json": {
       "model_id": "d6ca19dc7758469ca74993d24a8a3420",
       "version_major": 2,
       "version_minor": 0
      },
      "text/plain": [
       "Training episodes:   0%|          | 0/3 [00:00<?, ?it/s]"
      ]
     },
     "metadata": {},
     "output_type": "display_data"
    },
    {
     "data": {
      "application/vnd.jupyter.widget-view+json": {
       "model_id": "989bfea1ad8146c9897639589f49c2ac",
       "version_major": 2,
       "version_minor": 0
      },
      "text/plain": [
       "Training episodes:   0%|          | 0/3 [00:00<?, ?it/s]"
      ]
     },
     "metadata": {},
     "output_type": "display_data"
    },
    {
     "data": {
      "application/vnd.jupyter.widget-view+json": {
       "model_id": "ca12e45b1b3d4f749ab72490386bc2aa",
       "version_major": 2,
       "version_minor": 0
      },
      "text/plain": [
       "Training episodes:   0%|          | 0/3 [00:00<?, ?it/s]"
      ]
     },
     "metadata": {},
     "output_type": "display_data"
    },
    {
     "data": {
      "application/vnd.jupyter.widget-view+json": {
       "model_id": "c6972b204cda4a9fa36d2a32743d5dc5",
       "version_major": 2,
       "version_minor": 0
      },
      "text/plain": [
       "Training episodes:   0%|          | 0/3 [00:00<?, ?it/s]"
      ]
     },
     "metadata": {},
     "output_type": "display_data"
    },
    {
     "data": {
      "application/vnd.jupyter.widget-view+json": {
       "model_id": "adf1d4adc83b4c2aa8b9302b88155e71",
       "version_major": 2,
       "version_minor": 0
      },
      "text/plain": [
       "seeds:   0%|          | 0/30 [00:00<?, ?it/s]"
      ]
     },
     "metadata": {},
     "output_type": "display_data"
    }
   ],
   "source": [
    "# | hide\n",
    "maskable_ppo_agent = MaskablePPOAgent(render_mode=\"human\", env_config=ENV_CONFIG)\n",
    "\n",
    "maskable_ppo_agent.train()\n",
    "\n",
    "if not QUICK_MODE:\n",
    "    maskable_ppo_agent.save_model(f\"{maskable_ppo_agent.name}.model\")\n",
    "\n",
    "evaluation_data_per_agent[maskable_ppo_agent.name] = maskable_ppo_agent.evaluate()"
   ]
  },
  {
   "cell_type": "markdown",
   "metadata": {},
   "source": "### Evaluation MaskablePPO with optimized hyperparameters on ElectricityMarketEnv"
  },
  {
   "cell_type": "code",
   "execution_count": null,
   "metadata": {},
   "outputs": [
    {
     "name": "stderr",
     "output_type": "stream",
     "text": [
      "[I 2025-03-02 11:59:15,998] A new study created in RDB with name: OptimizedMaskablePPOAgent\n"
     ]
    },
    {
     "data": {
      "application/vnd.jupyter.widget-view+json": {
       "model_id": "d22be947a2784c21b6294fcc16c89f52",
       "version_major": 2,
       "version_minor": 0
      },
      "text/plain": [
       "  0%|          | 0/10 [00:00<?, ?it/s]"
      ]
     },
     "metadata": {},
     "output_type": "display_data"
    },
    {
     "data": {
      "application/vnd.jupyter.widget-view+json": {
       "model_id": "2966bc105a0c4037b298891211f7d98e",
       "version_major": 2,
       "version_minor": 0
      },
      "text/plain": [
       "seeds:   0%|          | 0/30 [00:00<?, ?it/s]"
      ]
     },
     "metadata": {},
     "output_type": "display_data"
    },
    {
     "data": {
      "application/vnd.jupyter.widget-view+json": {
       "model_id": "2a30fba47856459680dee1bcec180b2e",
       "version_major": 2,
       "version_minor": 0
      },
      "text/plain": [
       "Training episodes:   0%|          | 0/3 [00:00<?, ?it/s]"
      ]
     },
     "metadata": {},
     "output_type": "display_data"
    },
    {
     "data": {
      "application/vnd.jupyter.widget-view+json": {
       "model_id": "4f57be94c062449ab8cb1960511a3752",
       "version_major": 2,
       "version_minor": 0
      },
      "text/plain": [
       "seeds:   0%|          | 0/30 [00:00<?, ?it/s]"
      ]
     },
     "metadata": {},
     "output_type": "display_data"
    },
    {
     "data": {
      "application/vnd.jupyter.widget-view+json": {
       "model_id": "5ce9fb0bac054ce6a481e4a1c8c3ac01",
       "version_major": 2,
       "version_minor": 0
      },
      "text/plain": [
       "Training episodes:   0%|          | 0/3 [00:00<?, ?it/s]"
      ]
     },
     "metadata": {},
     "output_type": "display_data"
    },
    {
     "data": {
      "application/vnd.jupyter.widget-view+json": {
       "model_id": "d82849e2ea9748a6ac1d862b72975295",
       "version_major": 2,
       "version_minor": 0
      },
      "text/plain": [
       "seeds:   0%|          | 0/30 [00:00<?, ?it/s]"
      ]
     },
     "metadata": {},
     "output_type": "display_data"
    },
    {
     "data": {
      "application/vnd.jupyter.widget-view+json": {
       "model_id": "cf5335e24e9c4288aaa7ce48ae73f535",
       "version_major": 2,
       "version_minor": 0
      },
      "text/plain": [
       "Training episodes:   0%|          | 0/3 [00:00<?, ?it/s]"
      ]
     },
     "metadata": {},
     "output_type": "display_data"
    },
    {
     "data": {
      "application/vnd.jupyter.widget-view+json": {
       "model_id": "05d46ae4aa354aa699ab2671b02c78db",
       "version_major": 2,
       "version_minor": 0
      },
      "text/plain": [
       "seeds:   0%|          | 0/30 [00:00<?, ?it/s]"
      ]
     },
     "metadata": {},
     "output_type": "display_data"
    },
    {
     "data": {
      "application/vnd.jupyter.widget-view+json": {
       "model_id": "00cfb6081a2d418980e7bc7d3d691e2c",
       "version_major": 2,
       "version_minor": 0
      },
      "text/plain": [
       "Training episodes:   0%|          | 0/3 [00:00<?, ?it/s]"
      ]
     },
     "metadata": {},
     "output_type": "display_data"
    },
    {
     "data": {
      "application/vnd.jupyter.widget-view+json": {
       "model_id": "10f55905f4c5452dbb3830a914f34b37",
       "version_major": 2,
       "version_minor": 0
      },
      "text/plain": [
       "seeds:   0%|          | 0/30 [00:00<?, ?it/s]"
      ]
     },
     "metadata": {},
     "output_type": "display_data"
    },
    {
     "data": {
      "application/vnd.jupyter.widget-view+json": {
       "model_id": "c743c575043f491eac3e44fee278b824",
       "version_major": 2,
       "version_minor": 0
      },
      "text/plain": [
       "Training episodes:   0%|          | 0/3 [00:00<?, ?it/s]"
      ]
     },
     "metadata": {},
     "output_type": "display_data"
    },
    {
     "data": {
      "application/vnd.jupyter.widget-view+json": {
       "model_id": "b5ebf25757f74d0d8f721d28c929a94b",
       "version_major": 2,
       "version_minor": 0
      },
      "text/plain": [
       "seeds:   0%|          | 0/30 [00:00<?, ?it/s]"
      ]
     },
     "metadata": {},
     "output_type": "display_data"
    },
    {
     "data": {
      "application/vnd.jupyter.widget-view+json": {
       "model_id": "14b36bdf47a14fb2965ba04c1a926a84",
       "version_major": 2,
       "version_minor": 0
      },
      "text/plain": [
       "Training episodes:   0%|          | 0/3 [00:00<?, ?it/s]"
      ]
     },
     "metadata": {},
     "output_type": "display_data"
    },
    {
     "data": {
      "application/vnd.jupyter.widget-view+json": {
       "model_id": "79b54431b82349dba716bdb983e237db",
       "version_major": 2,
       "version_minor": 0
      },
      "text/plain": [
       "seeds:   0%|          | 0/30 [00:00<?, ?it/s]"
      ]
     },
     "metadata": {},
     "output_type": "display_data"
    },
    {
     "data": {
      "application/vnd.jupyter.widget-view+json": {
       "model_id": "8cca21d288a84f1c8f0cb5f8ed5db351",
       "version_major": 2,
       "version_minor": 0
      },
      "text/plain": [
       "Training episodes:   0%|          | 0/3 [00:00<?, ?it/s]"
      ]
     },
     "metadata": {},
     "output_type": "display_data"
    },
    {
     "data": {
      "application/vnd.jupyter.widget-view+json": {
       "model_id": "afc77565c7f44b29a87521bc12c5fd1f",
       "version_major": 2,
       "version_minor": 0
      },
      "text/plain": [
       "seeds:   0%|          | 0/30 [00:00<?, ?it/s]"
      ]
     },
     "metadata": {},
     "output_type": "display_data"
    },
    {
     "data": {
      "application/vnd.jupyter.widget-view+json": {
       "model_id": "eb4bbb1d3e60405faf4ea7f587a8acca",
       "version_major": 2,
       "version_minor": 0
      },
      "text/plain": [
       "Training episodes:   0%|          | 0/3 [00:00<?, ?it/s]"
      ]
     },
     "metadata": {},
     "output_type": "display_data"
    },
    {
     "data": {
      "application/vnd.jupyter.widget-view+json": {
       "model_id": "3d557e24e5d1439298452dbc62c0a3f6",
       "version_major": 2,
       "version_minor": 0
      },
      "text/plain": [
       "Training episodes:   0%|          | 0/3 [00:00<?, ?it/s]"
      ]
     },
     "metadata": {},
     "output_type": "display_data"
    },
    {
     "data": {
      "application/vnd.jupyter.widget-view+json": {
       "model_id": "e29a8371172d4fde92ef2e27e52ce149",
       "version_major": 2,
       "version_minor": 0
      },
      "text/plain": [
       "Training episodes:   0%|          | 0/3 [00:00<?, ?it/s]"
      ]
     },
     "metadata": {},
     "output_type": "display_data"
    },
    {
     "data": {
      "application/vnd.jupyter.widget-view+json": {
       "model_id": "3b9c5ff7985949b6880fe1d151444915",
       "version_major": 2,
       "version_minor": 0
      },
      "text/plain": [
       "Training episodes:   0%|          | 0/3 [00:00<?, ?it/s]"
      ]
     },
     "metadata": {},
     "output_type": "display_data"
    },
    {
     "data": {
      "application/vnd.jupyter.widget-view+json": {
       "model_id": "883ba76088a0420a9741f3f3631bf12a",
       "version_major": 2,
       "version_minor": 0
      },
      "text/plain": [
       "Training episodes:   0%|          | 0/3 [00:00<?, ?it/s]"
      ]
     },
     "metadata": {},
     "output_type": "display_data"
    },
    {
     "data": {
      "application/vnd.jupyter.widget-view+json": {
       "model_id": "b10d5079c59d4c28867e7e33c3546a13",
       "version_major": 2,
       "version_minor": 0
      },
      "text/plain": [
       "Training episodes:   0%|          | 0/3 [00:00<?, ?it/s]"
      ]
     },
     "metadata": {},
     "output_type": "display_data"
    },
    {
     "data": {
      "application/vnd.jupyter.widget-view+json": {
       "model_id": "759fdd09569f4af4919de0d73a4a73e2",
       "version_major": 2,
       "version_minor": 0
      },
      "text/plain": [
       "Training episodes:   0%|          | 0/3 [00:00<?, ?it/s]"
      ]
     },
     "metadata": {},
     "output_type": "display_data"
    },
    {
     "data": {
      "application/vnd.jupyter.widget-view+json": {
       "model_id": "b94b9c3435f74371b2c064fad8429c25",
       "version_major": 2,
       "version_minor": 0
      },
      "text/plain": [
       "Training episodes:   0%|          | 0/3 [00:00<?, ?it/s]"
      ]
     },
     "metadata": {},
     "output_type": "display_data"
    },
    {
     "data": {
      "application/vnd.jupyter.widget-view+json": {
       "model_id": "8ceff6fe91de4bf49bd12d2659be03a4",
       "version_major": 2,
       "version_minor": 0
      },
      "text/plain": [
       "Training episodes:   0%|          | 0/3 [00:00<?, ?it/s]"
      ]
     },
     "metadata": {},
     "output_type": "display_data"
    },
    {
     "data": {
      "application/vnd.jupyter.widget-view+json": {
       "model_id": "da976372a65c4932b472a0db6091503e",
       "version_major": 2,
       "version_minor": 0
      },
      "text/plain": [
       "Training episodes:   0%|          | 0/3 [00:00<?, ?it/s]"
      ]
     },
     "metadata": {},
     "output_type": "display_data"
    },
    {
     "data": {
      "application/vnd.jupyter.widget-view+json": {
       "model_id": "39531b849c2949fb965c781cb8b094f9",
       "version_major": 2,
       "version_minor": 0
      },
      "text/plain": [
       "Training episodes:   0%|          | 0/3 [00:00<?, ?it/s]"
      ]
     },
     "metadata": {},
     "output_type": "display_data"
    },
    {
     "data": {
      "application/vnd.jupyter.widget-view+json": {
       "model_id": "36411c9336c646199f8614fd844a0a10",
       "version_major": 2,
       "version_minor": 0
      },
      "text/plain": [
       "Training episodes:   0%|          | 0/3 [00:00<?, ?it/s]"
      ]
     },
     "metadata": {},
     "output_type": "display_data"
    },
    {
     "data": {
      "application/vnd.jupyter.widget-view+json": {
       "model_id": "c3e0bec01b77463f81a561ec16a8bdb4",
       "version_major": 2,
       "version_minor": 0
      },
      "text/plain": [
       "Training episodes:   0%|          | 0/3 [00:00<?, ?it/s]"
      ]
     },
     "metadata": {},
     "output_type": "display_data"
    },
    {
     "data": {
      "application/vnd.jupyter.widget-view+json": {
       "model_id": "b050d73a91d24be29e8757cb3e68dd02",
       "version_major": 2,
       "version_minor": 0
      },
      "text/plain": [
       "Training episodes:   0%|          | 0/3 [00:00<?, ?it/s]"
      ]
     },
     "metadata": {},
     "output_type": "display_data"
    },
    {
     "data": {
      "application/vnd.jupyter.widget-view+json": {
       "model_id": "b46b77820deb49af8b592f4f01ea9a50",
       "version_major": 2,
       "version_minor": 0
      },
      "text/plain": [
       "Training episodes:   0%|          | 0/3 [00:00<?, ?it/s]"
      ]
     },
     "metadata": {},
     "output_type": "display_data"
    },
    {
     "data": {
      "application/vnd.jupyter.widget-view+json": {
       "model_id": "d5ee2da90fae48fa8fb93b1116b3e71d",
       "version_major": 2,
       "version_minor": 0
      },
      "text/plain": [
       "Training episodes:   0%|          | 0/3 [00:00<?, ?it/s]"
      ]
     },
     "metadata": {},
     "output_type": "display_data"
    },
    {
     "data": {
      "application/vnd.jupyter.widget-view+json": {
       "model_id": "8041ae966a14439dbf7fd62eb04066ff",
       "version_major": 2,
       "version_minor": 0
      },
      "text/plain": [
       "Training episodes:   0%|          | 0/3 [00:00<?, ?it/s]"
      ]
     },
     "metadata": {},
     "output_type": "display_data"
    },
    {
     "data": {
      "application/vnd.jupyter.widget-view+json": {
       "model_id": "b6233b3d30c04b34a7f5f0f26d1518d0",
       "version_major": 2,
       "version_minor": 0
      },
      "text/plain": [
       "Training episodes:   0%|          | 0/3 [00:00<?, ?it/s]"
      ]
     },
     "metadata": {},
     "output_type": "display_data"
    },
    {
     "data": {
      "application/vnd.jupyter.widget-view+json": {
       "model_id": "161045664b004e07a54ece60c1c4d12f",
       "version_major": 2,
       "version_minor": 0
      },
      "text/plain": [
       "Training episodes:   0%|          | 0/3 [00:00<?, ?it/s]"
      ]
     },
     "metadata": {},
     "output_type": "display_data"
    },
    {
     "data": {
      "application/vnd.jupyter.widget-view+json": {
       "model_id": "dc8bb38e5a5f40a18297345814d98890",
       "version_major": 2,
       "version_minor": 0
      },
      "text/plain": [
       "Training episodes:   0%|          | 0/3 [00:00<?, ?it/s]"
      ]
     },
     "metadata": {},
     "output_type": "display_data"
    },
    {
     "data": {
      "application/vnd.jupyter.widget-view+json": {
       "model_id": "99a0d8b8ad984b77aa3ec1908bf42dd4",
       "version_major": 2,
       "version_minor": 0
      },
      "text/plain": [
       "Training episodes:   0%|          | 0/3 [00:00<?, ?it/s]"
      ]
     },
     "metadata": {},
     "output_type": "display_data"
    },
    {
     "data": {
      "application/vnd.jupyter.widget-view+json": {
       "model_id": "61afd616c93e4a3a8b950e432b691c96",
       "version_major": 2,
       "version_minor": 0
      },
      "text/plain": [
       "Training episodes:   0%|          | 0/3 [00:00<?, ?it/s]"
      ]
     },
     "metadata": {},
     "output_type": "display_data"
    },
    {
     "data": {
      "application/vnd.jupyter.widget-view+json": {
       "model_id": "50dd3e02419d41309e0ea373f488e34f",
       "version_major": 2,
       "version_minor": 0
      },
      "text/plain": [
       "Training episodes:   0%|          | 0/3 [00:00<?, ?it/s]"
      ]
     },
     "metadata": {},
     "output_type": "display_data"
    },
    {
     "data": {
      "application/vnd.jupyter.widget-view+json": {
       "model_id": "9624459c05344f60a6a4214dd441eb02",
       "version_major": 2,
       "version_minor": 0
      },
      "text/plain": [
       "Training episodes:   0%|          | 0/3 [00:00<?, ?it/s]"
      ]
     },
     "metadata": {},
     "output_type": "display_data"
    },
    {
     "data": {
      "application/vnd.jupyter.widget-view+json": {
       "model_id": "df36d6e364b94fbc9bd995ce9abb40b6",
       "version_major": 2,
       "version_minor": 0
      },
      "text/plain": [
       "Training episodes:   0%|          | 0/3 [00:00<?, ?it/s]"
      ]
     },
     "metadata": {},
     "output_type": "display_data"
    },
    {
     "data": {
      "application/vnd.jupyter.widget-view+json": {
       "model_id": "33ee4f37d9fe41d58fe313e4783d9931",
       "version_major": 2,
       "version_minor": 0
      },
      "text/plain": [
       "Training episodes:   0%|          | 0/3 [00:00<?, ?it/s]"
      ]
     },
     "metadata": {},
     "output_type": "display_data"
    },
    {
     "data": {
      "application/vnd.jupyter.widget-view+json": {
       "model_id": "bd1db68e52b2484a938236976206277f",
       "version_major": 2,
       "version_minor": 0
      },
      "text/plain": [
       "Training episodes:   0%|          | 0/3 [00:00<?, ?it/s]"
      ]
     },
     "metadata": {},
     "output_type": "display_data"
    },
    {
     "data": {
      "application/vnd.jupyter.widget-view+json": {
       "model_id": "dd673e72f3a74c8ca96000ae4bc9f715",
       "version_major": 2,
       "version_minor": 0
      },
      "text/plain": [
       "Training episodes:   0%|          | 0/3 [00:00<?, ?it/s]"
      ]
     },
     "metadata": {},
     "output_type": "display_data"
    },
    {
     "data": {
      "application/vnd.jupyter.widget-view+json": {
       "model_id": "179e2ca5cd944c858e71d063f723f00d",
       "version_major": 2,
       "version_minor": 0
      },
      "text/plain": [
       "Training episodes:   0%|          | 0/3 [00:00<?, ?it/s]"
      ]
     },
     "metadata": {},
     "output_type": "display_data"
    },
    {
     "data": {
      "application/vnd.jupyter.widget-view+json": {
       "model_id": "39e67152fd1949ef908c07adebe1efc8",
       "version_major": 2,
       "version_minor": 0
      },
      "text/plain": [
       "Training episodes:   0%|          | 0/3 [00:00<?, ?it/s]"
      ]
     },
     "metadata": {},
     "output_type": "display_data"
    },
    {
     "data": {
      "application/vnd.jupyter.widget-view+json": {
       "model_id": "f3bb7d8dd2d14752927671d5bd4bde4d",
       "version_major": 2,
       "version_minor": 0
      },
      "text/plain": [
       "Training episodes:   0%|          | 0/3 [00:00<?, ?it/s]"
      ]
     },
     "metadata": {},
     "output_type": "display_data"
    },
    {
     "data": {
      "application/vnd.jupyter.widget-view+json": {
       "model_id": "ebd807f3f5b44a61b8c89232b3d61cc1",
       "version_major": 2,
       "version_minor": 0
      },
      "text/plain": [
       "Training episodes:   0%|          | 0/3 [00:00<?, ?it/s]"
      ]
     },
     "metadata": {},
     "output_type": "display_data"
    },
    {
     "data": {
      "application/vnd.jupyter.widget-view+json": {
       "model_id": "803408a4ecd64ae4ab0b078d74981337",
       "version_major": 2,
       "version_minor": 0
      },
      "text/plain": [
       "Training episodes:   0%|          | 0/3 [00:00<?, ?it/s]"
      ]
     },
     "metadata": {},
     "output_type": "display_data"
    },
    {
     "data": {
      "application/vnd.jupyter.widget-view+json": {
       "model_id": "475fd47bd4234f44abd5e4c89c6b9a6d",
       "version_major": 2,
       "version_minor": 0
      },
      "text/plain": [
       "Training episodes:   0%|          | 0/3 [00:00<?, ?it/s]"
      ]
     },
     "metadata": {},
     "output_type": "display_data"
    },
    {
     "data": {
      "application/vnd.jupyter.widget-view+json": {
       "model_id": "4bcddcaead204549be4329045f78df1b",
       "version_major": 2,
       "version_minor": 0
      },
      "text/plain": [
       "Training episodes:   0%|          | 0/3 [00:00<?, ?it/s]"
      ]
     },
     "metadata": {},
     "output_type": "display_data"
    },
    {
     "data": {
      "application/vnd.jupyter.widget-view+json": {
       "model_id": "011445dacb444d0f9f7bb3d40d30b0e9",
       "version_major": 2,
       "version_minor": 0
      },
      "text/plain": [
       "Training episodes:   0%|          | 0/3 [00:00<?, ?it/s]"
      ]
     },
     "metadata": {},
     "output_type": "display_data"
    },
    {
     "data": {
      "application/vnd.jupyter.widget-view+json": {
       "model_id": "4da2d98b4c054dadb8190c45594b83ea",
       "version_major": 2,
       "version_minor": 0
      },
      "text/plain": [
       "Training episodes:   0%|          | 0/3 [00:00<?, ?it/s]"
      ]
     },
     "metadata": {},
     "output_type": "display_data"
    },
    {
     "data": {
      "application/vnd.jupyter.widget-view+json": {
       "model_id": "ce16626b986e43a88037c7ae5650ee1c",
       "version_major": 2,
       "version_minor": 0
      },
      "text/plain": [
       "Training episodes:   0%|          | 0/3 [00:00<?, ?it/s]"
      ]
     },
     "metadata": {},
     "output_type": "display_data"
    },
    {
     "data": {
      "application/vnd.jupyter.widget-view+json": {
       "model_id": "17bc41c1b0dc40f8b62f48f76b062489",
       "version_major": 2,
       "version_minor": 0
      },
      "text/plain": [
       "Training episodes:   0%|          | 0/3 [00:00<?, ?it/s]"
      ]
     },
     "metadata": {},
     "output_type": "display_data"
    },
    {
     "data": {
      "application/vnd.jupyter.widget-view+json": {
       "model_id": "dec2d739af5e4b558c03b65ce71aae73",
       "version_major": 2,
       "version_minor": 0
      },
      "text/plain": [
       "Training episodes:   0%|          | 0/3 [00:00<?, ?it/s]"
      ]
     },
     "metadata": {},
     "output_type": "display_data"
    },
    {
     "data": {
      "application/vnd.jupyter.widget-view+json": {
       "model_id": "a75810979b1e4feb9330822d61c677df",
       "version_major": 2,
       "version_minor": 0
      },
      "text/plain": [
       "Training episodes:   0%|          | 0/3 [00:00<?, ?it/s]"
      ]
     },
     "metadata": {},
     "output_type": "display_data"
    },
    {
     "data": {
      "application/vnd.jupyter.widget-view+json": {
       "model_id": "560362cf9f714d0593b864e636f0836a",
       "version_major": 2,
       "version_minor": 0
      },
      "text/plain": [
       "Training episodes:   0%|          | 0/3 [00:00<?, ?it/s]"
      ]
     },
     "metadata": {},
     "output_type": "display_data"
    },
    {
     "data": {
      "application/vnd.jupyter.widget-view+json": {
       "model_id": "25636099a793469b82085719d3b8c095",
       "version_major": 2,
       "version_minor": 0
      },
      "text/plain": [
       "Training episodes:   0%|          | 0/3 [00:00<?, ?it/s]"
      ]
     },
     "metadata": {},
     "output_type": "display_data"
    },
    {
     "data": {
      "application/vnd.jupyter.widget-view+json": {
       "model_id": "fc33c84a14ba42d6a51a15e76d5f9b82",
       "version_major": 2,
       "version_minor": 0
      },
      "text/plain": [
       "Training episodes:   0%|          | 0/3 [00:00<?, ?it/s]"
      ]
     },
     "metadata": {},
     "output_type": "display_data"
    },
    {
     "data": {
      "application/vnd.jupyter.widget-view+json": {
       "model_id": "b590f93c8dee4981ba33c02ffe7e9f61",
       "version_major": 2,
       "version_minor": 0
      },
      "text/plain": [
       "Training episodes:   0%|          | 0/3 [00:00<?, ?it/s]"
      ]
     },
     "metadata": {},
     "output_type": "display_data"
    },
    {
     "data": {
      "application/vnd.jupyter.widget-view+json": {
       "model_id": "8c991209f9b340008944466fe1b550f6",
       "version_major": 2,
       "version_minor": 0
      },
      "text/plain": [
       "Training episodes:   0%|          | 0/3 [00:00<?, ?it/s]"
      ]
     },
     "metadata": {},
     "output_type": "display_data"
    },
    {
     "data": {
      "application/vnd.jupyter.widget-view+json": {
       "model_id": "3a710b4eba52410cb11baa88348f197f",
       "version_major": 2,
       "version_minor": 0
      },
      "text/plain": [
       "Training episodes:   0%|          | 0/3 [00:00<?, ?it/s]"
      ]
     },
     "metadata": {},
     "output_type": "display_data"
    },
    {
     "data": {
      "application/vnd.jupyter.widget-view+json": {
       "model_id": "f09299221e904196ae7a2a2cfc60873c",
       "version_major": 2,
       "version_minor": 0
      },
      "text/plain": [
       "Training episodes:   0%|          | 0/3 [00:00<?, ?it/s]"
      ]
     },
     "metadata": {},
     "output_type": "display_data"
    },
    {
     "data": {
      "application/vnd.jupyter.widget-view+json": {
       "model_id": "3754cadc58774daf9b221b98c8c4a626",
       "version_major": 2,
       "version_minor": 0
      },
      "text/plain": [
       "Training episodes:   0%|          | 0/3 [00:00<?, ?it/s]"
      ]
     },
     "metadata": {},
     "output_type": "display_data"
    },
    {
     "data": {
      "application/vnd.jupyter.widget-view+json": {
       "model_id": "dd94d99f9d6b4b7eadebb0c78e261337",
       "version_major": 2,
       "version_minor": 0
      },
      "text/plain": [
       "Training episodes:   0%|          | 0/3 [00:00<?, ?it/s]"
      ]
     },
     "metadata": {},
     "output_type": "display_data"
    },
    {
     "data": {
      "application/vnd.jupyter.widget-view+json": {
       "model_id": "4a557b9c6fce43f6909adcf554e94212",
       "version_major": 2,
       "version_minor": 0
      },
      "text/plain": [
       "Training episodes:   0%|          | 0/3 [00:00<?, ?it/s]"
      ]
     },
     "metadata": {},
     "output_type": "display_data"
    },
    {
     "data": {
      "application/vnd.jupyter.widget-view+json": {
       "model_id": "ad7eece92d6f4da3881e41b636c73c0b",
       "version_major": 2,
       "version_minor": 0
      },
      "text/plain": [
       "Training episodes:   0%|          | 0/3 [00:00<?, ?it/s]"
      ]
     },
     "metadata": {},
     "output_type": "display_data"
    },
    {
     "data": {
      "application/vnd.jupyter.widget-view+json": {
       "model_id": "27e7543534e741648aac03d507dfb6e4",
       "version_major": 2,
       "version_minor": 0
      },
      "text/plain": [
       "Training episodes:   0%|          | 0/3 [00:00<?, ?it/s]"
      ]
     },
     "metadata": {},
     "output_type": "display_data"
    },
    {
     "data": {
      "application/vnd.jupyter.widget-view+json": {
       "model_id": "5784460029e9473aa6720b2bc92704ca",
       "version_major": 2,
       "version_minor": 0
      },
      "text/plain": [
       "Training episodes:   0%|          | 0/3 [00:00<?, ?it/s]"
      ]
     },
     "metadata": {},
     "output_type": "display_data"
    },
    {
     "data": {
      "application/vnd.jupyter.widget-view+json": {
       "model_id": "c39476512ef341a1bc5adf67db75a824",
       "version_major": 2,
       "version_minor": 0
      },
      "text/plain": [
       "Training episodes:   0%|          | 0/3 [00:00<?, ?it/s]"
      ]
     },
     "metadata": {},
     "output_type": "display_data"
    },
    {
     "data": {
      "application/vnd.jupyter.widget-view+json": {
       "model_id": "322d29b135114a9d93b451a59279594f",
       "version_major": 2,
       "version_minor": 0
      },
      "text/plain": [
       "Training episodes:   0%|          | 0/3 [00:00<?, ?it/s]"
      ]
     },
     "metadata": {},
     "output_type": "display_data"
    },
    {
     "data": {
      "application/vnd.jupyter.widget-view+json": {
       "model_id": "a35bcbdbd03f41b49762b25b2aeb5aa9",
       "version_major": 2,
       "version_minor": 0
      },
      "text/plain": [
       "Training episodes:   0%|          | 0/3 [00:00<?, ?it/s]"
      ]
     },
     "metadata": {},
     "output_type": "display_data"
    },
    {
     "data": {
      "application/vnd.jupyter.widget-view+json": {
       "model_id": "8ad2c57621254e1da918ef140f9b1160",
       "version_major": 2,
       "version_minor": 0
      },
      "text/plain": [
       "Training episodes:   0%|          | 0/3 [00:00<?, ?it/s]"
      ]
     },
     "metadata": {},
     "output_type": "display_data"
    },
    {
     "data": {
      "application/vnd.jupyter.widget-view+json": {
       "model_id": "3646955170cb46f1a594112239b1cee9",
       "version_major": 2,
       "version_minor": 0
      },
      "text/plain": [
       "Training episodes:   0%|          | 0/3 [00:00<?, ?it/s]"
      ]
     },
     "metadata": {},
     "output_type": "display_data"
    },
    {
     "data": {
      "application/vnd.jupyter.widget-view+json": {
       "model_id": "f56fea4eaeb6421f8490126ee7b80d0d",
       "version_major": 2,
       "version_minor": 0
      },
      "text/plain": [
       "Training episodes:   0%|          | 0/3 [00:00<?, ?it/s]"
      ]
     },
     "metadata": {},
     "output_type": "display_data"
    },
    {
     "data": {
      "application/vnd.jupyter.widget-view+json": {
       "model_id": "30a5771901224dbbbcd5beca4ad9e0fb",
       "version_major": 2,
       "version_minor": 0
      },
      "text/plain": [
       "Training episodes:   0%|          | 0/3 [00:00<?, ?it/s]"
      ]
     },
     "metadata": {},
     "output_type": "display_data"
    },
    {
     "data": {
      "application/vnd.jupyter.widget-view+json": {
       "model_id": "f179243aa145409f96bfe58f3474e549",
       "version_major": 2,
       "version_minor": 0
      },
      "text/plain": [
       "Training episodes:   0%|          | 0/3 [00:00<?, ?it/s]"
      ]
     },
     "metadata": {},
     "output_type": "display_data"
    },
    {
     "data": {
      "application/vnd.jupyter.widget-view+json": {
       "model_id": "616a67db42754b8da52279ddd08bacc8",
       "version_major": 2,
       "version_minor": 0
      },
      "text/plain": [
       "Training episodes:   0%|          | 0/3 [00:00<?, ?it/s]"
      ]
     },
     "metadata": {},
     "output_type": "display_data"
    },
    {
     "data": {
      "application/vnd.jupyter.widget-view+json": {
       "model_id": "b1cbe1488a694dfb95e8818e0247ed3b",
       "version_major": 2,
       "version_minor": 0
      },
      "text/plain": [
       "Training episodes:   0%|          | 0/3 [00:00<?, ?it/s]"
      ]
     },
     "metadata": {},
     "output_type": "display_data"
    },
    {
     "data": {
      "application/vnd.jupyter.widget-view+json": {
       "model_id": "c55e0197e9014f66bacfa66cc36c0e83",
       "version_major": 2,
       "version_minor": 0
      },
      "text/plain": [
       "Training episodes:   0%|          | 0/3 [00:00<?, ?it/s]"
      ]
     },
     "metadata": {},
     "output_type": "display_data"
    },
    {
     "data": {
      "application/vnd.jupyter.widget-view+json": {
       "model_id": "c1f1b79b3c90429a977e82f8900654bf",
       "version_major": 2,
       "version_minor": 0
      },
      "text/plain": [
       "Training episodes:   0%|          | 0/3 [00:00<?, ?it/s]"
      ]
     },
     "metadata": {},
     "output_type": "display_data"
    },
    {
     "data": {
      "application/vnd.jupyter.widget-view+json": {
       "model_id": "52bad09661f74885948090c2d944698b",
       "version_major": 2,
       "version_minor": 0
      },
      "text/plain": [
       "Training episodes:   0%|          | 0/3 [00:00<?, ?it/s]"
      ]
     },
     "metadata": {},
     "output_type": "display_data"
    },
    {
     "data": {
      "application/vnd.jupyter.widget-view+json": {
       "model_id": "941c2e3873d4489cbbb4f37fa9b6b8f4",
       "version_major": 2,
       "version_minor": 0
      },
      "text/plain": [
       "Training episodes:   0%|          | 0/3 [00:00<?, ?it/s]"
      ]
     },
     "metadata": {},
     "output_type": "display_data"
    },
    {
     "data": {
      "application/vnd.jupyter.widget-view+json": {
       "model_id": "c937e37b79774d4dbdd278fa15e149ed",
       "version_major": 2,
       "version_minor": 0
      },
      "text/plain": [
       "Training episodes:   0%|          | 0/3 [00:00<?, ?it/s]"
      ]
     },
     "metadata": {},
     "output_type": "display_data"
    },
    {
     "data": {
      "application/vnd.jupyter.widget-view+json": {
       "model_id": "9db7b363dfef4f2189d51b9941a4d921",
       "version_major": 2,
       "version_minor": 0
      },
      "text/plain": [
       "Training episodes:   0%|          | 0/3 [00:00<?, ?it/s]"
      ]
     },
     "metadata": {},
     "output_type": "display_data"
    },
    {
     "data": {
      "application/vnd.jupyter.widget-view+json": {
       "model_id": "e352878f470e43f794d7fe4831f48cdb",
       "version_major": 2,
       "version_minor": 0
      },
      "text/plain": [
       "Training episodes:   0%|          | 0/3 [00:00<?, ?it/s]"
      ]
     },
     "metadata": {},
     "output_type": "display_data"
    },
    {
     "data": {
      "application/vnd.jupyter.widget-view+json": {
       "model_id": "c1ca4d34fc0e41339c9a2c3eb52d30ee",
       "version_major": 2,
       "version_minor": 0
      },
      "text/plain": [
       "Training episodes:   0%|          | 0/3 [00:00<?, ?it/s]"
      ]
     },
     "metadata": {},
     "output_type": "display_data"
    },
    {
     "data": {
      "application/vnd.jupyter.widget-view+json": {
       "model_id": "3c3895348abb4fda8b69cbf2d91b86e6",
       "version_major": 2,
       "version_minor": 0
      },
      "text/plain": [
       "Training episodes:   0%|          | 0/3 [00:00<?, ?it/s]"
      ]
     },
     "metadata": {},
     "output_type": "display_data"
    },
    {
     "data": {
      "application/vnd.jupyter.widget-view+json": {
       "model_id": "b54180613dcf474b884c5e67a7480950",
       "version_major": 2,
       "version_minor": 0
      },
      "text/plain": [
       "Training episodes:   0%|          | 0/3 [00:00<?, ?it/s]"
      ]
     },
     "metadata": {},
     "output_type": "display_data"
    },
    {
     "data": {
      "application/vnd.jupyter.widget-view+json": {
       "model_id": "3aa9273c353940d6abf4abd54c5dc01c",
       "version_major": 2,
       "version_minor": 0
      },
      "text/plain": [
       "Training episodes:   0%|          | 0/3 [00:00<?, ?it/s]"
      ]
     },
     "metadata": {},
     "output_type": "display_data"
    },
    {
     "data": {
      "application/vnd.jupyter.widget-view+json": {
       "model_id": "60f975e207e447e9b38f6cd633a1fc94",
       "version_major": 2,
       "version_minor": 0
      },
      "text/plain": [
       "Training episodes:   0%|          | 0/3 [00:00<?, ?it/s]"
      ]
     },
     "metadata": {},
     "output_type": "display_data"
    },
    {
     "data": {
      "application/vnd.jupyter.widget-view+json": {
       "model_id": "cbba9bf7709240f580bfe9126eaca8e0",
       "version_major": 2,
       "version_minor": 0
      },
      "text/plain": [
       "Training episodes:   0%|          | 0/3 [00:00<?, ?it/s]"
      ]
     },
     "metadata": {},
     "output_type": "display_data"
    },
    {
     "data": {
      "application/vnd.jupyter.widget-view+json": {
       "model_id": "4151dc6d48ac4bbf9cb546b0271bf55c",
       "version_major": 2,
       "version_minor": 0
      },
      "text/plain": [
       "Training episodes:   0%|          | 0/3 [00:00<?, ?it/s]"
      ]
     },
     "metadata": {},
     "output_type": "display_data"
    },
    {
     "data": {
      "application/vnd.jupyter.widget-view+json": {
       "model_id": "759da2337c774d6591035bb270e38321",
       "version_major": 2,
       "version_minor": 0
      },
      "text/plain": [
       "Training episodes:   0%|          | 0/3 [00:00<?, ?it/s]"
      ]
     },
     "metadata": {},
     "output_type": "display_data"
    },
    {
     "data": {
      "application/vnd.jupyter.widget-view+json": {
       "model_id": "aba774df41e14a82b35ac5f6ba6000c0",
       "version_major": 2,
       "version_minor": 0
      },
      "text/plain": [
       "Training episodes:   0%|          | 0/3 [00:00<?, ?it/s]"
      ]
     },
     "metadata": {},
     "output_type": "display_data"
    },
    {
     "data": {
      "application/vnd.jupyter.widget-view+json": {
       "model_id": "d55f919d350142c5a513225cbde8f574",
       "version_major": 2,
       "version_minor": 0
      },
      "text/plain": [
       "Training episodes:   0%|          | 0/3 [00:00<?, ?it/s]"
      ]
     },
     "metadata": {},
     "output_type": "display_data"
    },
    {
     "data": {
      "application/vnd.jupyter.widget-view+json": {
       "model_id": "612672ed83e2457f979d0c4d21ac84e7",
       "version_major": 2,
       "version_minor": 0
      },
      "text/plain": [
       "Training episodes:   0%|          | 0/3 [00:00<?, ?it/s]"
      ]
     },
     "metadata": {},
     "output_type": "display_data"
    },
    {
     "data": {
      "application/vnd.jupyter.widget-view+json": {
       "model_id": "1b9bdcaef8094770ad09a8ad3b687b30",
       "version_major": 2,
       "version_minor": 0
      },
      "text/plain": [
       "Training episodes:   0%|          | 0/3 [00:00<?, ?it/s]"
      ]
     },
     "metadata": {},
     "output_type": "display_data"
    },
    {
     "data": {
      "application/vnd.jupyter.widget-view+json": {
       "model_id": "1125a8cd460b4d81a4cede12c68bffa5",
       "version_major": 2,
       "version_minor": 0
      },
      "text/plain": [
       "Training episodes:   0%|          | 0/3 [00:00<?, ?it/s]"
      ]
     },
     "metadata": {},
     "output_type": "display_data"
    },
    {
     "data": {
      "application/vnd.jupyter.widget-view+json": {
       "model_id": "ee9f2de02e234c60a71e46ef645d8234",
       "version_major": 2,
       "version_minor": 0
      },
      "text/plain": [
       "Training episodes:   0%|          | 0/3 [00:00<?, ?it/s]"
      ]
     },
     "metadata": {},
     "output_type": "display_data"
    },
    {
     "data": {
      "application/vnd.jupyter.widget-view+json": {
       "model_id": "ac6bd17a53784bb59895b0cf8e7c9f6c",
       "version_major": 2,
       "version_minor": 0
      },
      "text/plain": [
       "Training episodes:   0%|          | 0/3 [00:00<?, ?it/s]"
      ]
     },
     "metadata": {},
     "output_type": "display_data"
    },
    {
     "data": {
      "application/vnd.jupyter.widget-view+json": {
       "model_id": "32a41911295f41db97e585c743eced24",
       "version_major": 2,
       "version_minor": 0
      },
      "text/plain": [
       "Training episodes:   0%|          | 0/3 [00:00<?, ?it/s]"
      ]
     },
     "metadata": {},
     "output_type": "display_data"
    },
    {
     "data": {
      "application/vnd.jupyter.widget-view+json": {
       "model_id": "9964b7d001534221a9741feba87c82fe",
       "version_major": 2,
       "version_minor": 0
      },
      "text/plain": [
       "Training episodes:   0%|          | 0/3 [00:00<?, ?it/s]"
      ]
     },
     "metadata": {},
     "output_type": "display_data"
    },
    {
     "data": {
      "application/vnd.jupyter.widget-view+json": {
       "model_id": "9b4ab9b1ab67469cb312407ec2fa772a",
       "version_major": 2,
       "version_minor": 0
      },
      "text/plain": [
       "Training episodes:   0%|          | 0/3 [00:00<?, ?it/s]"
      ]
     },
     "metadata": {},
     "output_type": "display_data"
    },
    {
     "data": {
      "application/vnd.jupyter.widget-view+json": {
       "model_id": "f4f46221664942558cb854c7bc587951",
       "version_major": 2,
       "version_minor": 0
      },
      "text/plain": [
       "Training episodes:   0%|          | 0/3 [00:00<?, ?it/s]"
      ]
     },
     "metadata": {},
     "output_type": "display_data"
    },
    {
     "data": {
      "application/vnd.jupyter.widget-view+json": {
       "model_id": "22ec8168ef7d47d295158918d5f31472",
       "version_major": 2,
       "version_minor": 0
      },
      "text/plain": [
       "Training episodes:   0%|          | 0/3 [00:00<?, ?it/s]"
      ]
     },
     "metadata": {},
     "output_type": "display_data"
    },
    {
     "data": {
      "application/vnd.jupyter.widget-view+json": {
       "model_id": "1d656519f1474bc081158b29cad7451e",
       "version_major": 2,
       "version_minor": 0
      },
      "text/plain": [
       "Training episodes:   0%|          | 0/3 [00:00<?, ?it/s]"
      ]
     },
     "metadata": {},
     "output_type": "display_data"
    },
    {
     "data": {
      "application/vnd.jupyter.widget-view+json": {
       "model_id": "6891ecc5c4a54438a28236af0a17c6f6",
       "version_major": 2,
       "version_minor": 0
      },
      "text/plain": [
       "Training episodes:   0%|          | 0/3 [00:00<?, ?it/s]"
      ]
     },
     "metadata": {},
     "output_type": "display_data"
    },
    {
     "data": {
      "application/vnd.jupyter.widget-view+json": {
       "model_id": "2b2471b355d546a68ee7db0a7a900f8a",
       "version_major": 2,
       "version_minor": 0
      },
      "text/plain": [
       "Training episodes:   0%|          | 0/3 [00:00<?, ?it/s]"
      ]
     },
     "metadata": {},
     "output_type": "display_data"
    },
    {
     "data": {
      "application/vnd.jupyter.widget-view+json": {
       "model_id": "cee28d5a9cb34e248c9428f26b6375a0",
       "version_major": 2,
       "version_minor": 0
      },
      "text/plain": [
       "Training episodes:   0%|          | 0/3 [00:00<?, ?it/s]"
      ]
     },
     "metadata": {},
     "output_type": "display_data"
    },
    {
     "data": {
      "application/vnd.jupyter.widget-view+json": {
       "model_id": "3d5daf906f434135833dbeae755092b9",
       "version_major": 2,
       "version_minor": 0
      },
      "text/plain": [
       "Training episodes:   0%|          | 0/3 [00:00<?, ?it/s]"
      ]
     },
     "metadata": {},
     "output_type": "display_data"
    },
    {
     "data": {
      "application/vnd.jupyter.widget-view+json": {
       "model_id": "d6f97b66c46e4758a63fb87e52dda1a0",
       "version_major": 2,
       "version_minor": 0
      },
      "text/plain": [
       "Training episodes:   0%|          | 0/3 [00:00<?, ?it/s]"
      ]
     },
     "metadata": {},
     "output_type": "display_data"
    },
    {
     "data": {
      "application/vnd.jupyter.widget-view+json": {
       "model_id": "ea23d8b1737e44039670d091b87879fb",
       "version_major": 2,
       "version_minor": 0
      },
      "text/plain": [
       "Training episodes:   0%|          | 0/3 [00:00<?, ?it/s]"
      ]
     },
     "metadata": {},
     "output_type": "display_data"
    },
    {
     "data": {
      "application/vnd.jupyter.widget-view+json": {
       "model_id": "1e9b9a83dd044892b296d9e266e16924",
       "version_major": 2,
       "version_minor": 0
      },
      "text/plain": [
       "Training episodes:   0%|          | 0/3 [00:00<?, ?it/s]"
      ]
     },
     "metadata": {},
     "output_type": "display_data"
    },
    {
     "data": {
      "application/vnd.jupyter.widget-view+json": {
       "model_id": "de42c0f7761c4613b7b3e5604dafd8d2",
       "version_major": 2,
       "version_minor": 0
      },
      "text/plain": [
       "Training episodes:   0%|          | 0/3 [00:00<?, ?it/s]"
      ]
     },
     "metadata": {},
     "output_type": "display_data"
    },
    {
     "data": {
      "application/vnd.jupyter.widget-view+json": {
       "model_id": "785e839f74fe44ae8cf320c4206dd508",
       "version_major": 2,
       "version_minor": 0
      },
      "text/plain": [
       "Training episodes:   0%|          | 0/3 [00:00<?, ?it/s]"
      ]
     },
     "metadata": {},
     "output_type": "display_data"
    },
    {
     "data": {
      "application/vnd.jupyter.widget-view+json": {
       "model_id": "4ab2779c30bf464987f2d2295d46b392",
       "version_major": 2,
       "version_minor": 0
      },
      "text/plain": [
       "Training episodes:   0%|          | 0/3 [00:00<?, ?it/s]"
      ]
     },
     "metadata": {},
     "output_type": "display_data"
    },
    {
     "data": {
      "application/vnd.jupyter.widget-view+json": {
       "model_id": "27933d18e5d348c6a36afc0716287dea",
       "version_major": 2,
       "version_minor": 0
      },
      "text/plain": [
       "Training episodes:   0%|          | 0/3 [00:00<?, ?it/s]"
      ]
     },
     "metadata": {},
     "output_type": "display_data"
    },
    {
     "data": {
      "application/vnd.jupyter.widget-view+json": {
       "model_id": "97eb4a92b27a4c0e9d6a555e5151595b",
       "version_major": 2,
       "version_minor": 0
      },
      "text/plain": [
       "Training episodes:   0%|          | 0/3 [00:00<?, ?it/s]"
      ]
     },
     "metadata": {},
     "output_type": "display_data"
    },
    {
     "data": {
      "application/vnd.jupyter.widget-view+json": {
       "model_id": "22b2d407e797499a8740caeec13f712b",
       "version_major": 2,
       "version_minor": 0
      },
      "text/plain": [
       "Training episodes:   0%|          | 0/3 [00:00<?, ?it/s]"
      ]
     },
     "metadata": {},
     "output_type": "display_data"
    },
    {
     "data": {
      "application/vnd.jupyter.widget-view+json": {
       "model_id": "08960aa9da2849e2ae3fa84d2ad9d28b",
       "version_major": 2,
       "version_minor": 0
      },
      "text/plain": [
       "Training episodes:   0%|          | 0/3 [00:00<?, ?it/s]"
      ]
     },
     "metadata": {},
     "output_type": "display_data"
    },
    {
     "data": {
      "application/vnd.jupyter.widget-view+json": {
       "model_id": "0a22295924204b31a4a1a7c450a3c6cb",
       "version_major": 2,
       "version_minor": 0
      },
      "text/plain": [
       "Training episodes:   0%|          | 0/3 [00:00<?, ?it/s]"
      ]
     },
     "metadata": {},
     "output_type": "display_data"
    },
    {
     "data": {
      "application/vnd.jupyter.widget-view+json": {
       "model_id": "60cae6b66eab458daf8a382ba09c9ff4",
       "version_major": 2,
       "version_minor": 0
      },
      "text/plain": [
       "Training episodes:   0%|          | 0/3 [00:00<?, ?it/s]"
      ]
     },
     "metadata": {},
     "output_type": "display_data"
    },
    {
     "data": {
      "application/vnd.jupyter.widget-view+json": {
       "model_id": "d17e330c87e84de28dacb1b5f3758ff0",
       "version_major": 2,
       "version_minor": 0
      },
      "text/plain": [
       "Training episodes:   0%|          | 0/3 [00:00<?, ?it/s]"
      ]
     },
     "metadata": {},
     "output_type": "display_data"
    },
    {
     "data": {
      "application/vnd.jupyter.widget-view+json": {
       "model_id": "6044607015c34d91b423e469764936bb",
       "version_major": 2,
       "version_minor": 0
      },
      "text/plain": [
       "Training episodes:   0%|          | 0/3 [00:00<?, ?it/s]"
      ]
     },
     "metadata": {},
     "output_type": "display_data"
    },
    {
     "data": {
      "application/vnd.jupyter.widget-view+json": {
       "model_id": "d85a92471d68415d8ebb2fb8a2a73dcc",
       "version_major": 2,
       "version_minor": 0
      },
      "text/plain": [
       "Training episodes:   0%|          | 0/3 [00:00<?, ?it/s]"
      ]
     },
     "metadata": {},
     "output_type": "display_data"
    },
    {
     "data": {
      "application/vnd.jupyter.widget-view+json": {
       "model_id": "252f07dff226402ba6cf1d4a67074329",
       "version_major": 2,
       "version_minor": 0
      },
      "text/plain": [
       "Training episodes:   0%|          | 0/3 [00:00<?, ?it/s]"
      ]
     },
     "metadata": {},
     "output_type": "display_data"
    },
    {
     "data": {
      "application/vnd.jupyter.widget-view+json": {
       "model_id": "3f62126e2fea416bb9755053f18eef82",
       "version_major": 2,
       "version_minor": 0
      },
      "text/plain": [
       "Training episodes:   0%|          | 0/3 [00:00<?, ?it/s]"
      ]
     },
     "metadata": {},
     "output_type": "display_data"
    },
    {
     "data": {
      "application/vnd.jupyter.widget-view+json": {
       "model_id": "6aa3dd32b35849d0bd4515edec6f7004",
       "version_major": 2,
       "version_minor": 0
      },
      "text/plain": [
       "Training episodes:   0%|          | 0/3 [00:00<?, ?it/s]"
      ]
     },
     "metadata": {},
     "output_type": "display_data"
    },
    {
     "data": {
      "application/vnd.jupyter.widget-view+json": {
       "model_id": "f7facd1643e643e1b13c94f4adcabcec",
       "version_major": 2,
       "version_minor": 0
      },
      "text/plain": [
       "Training episodes:   0%|          | 0/3 [00:00<?, ?it/s]"
      ]
     },
     "metadata": {},
     "output_type": "display_data"
    },
    {
     "data": {
      "application/vnd.jupyter.widget-view+json": {
       "model_id": "f999bea21f3b4f66b0e3b171eb133fec",
       "version_major": 2,
       "version_minor": 0
      },
      "text/plain": [
       "Training episodes:   0%|          | 0/3 [00:00<?, ?it/s]"
      ]
     },
     "metadata": {},
     "output_type": "display_data"
    },
    {
     "data": {
      "application/vnd.jupyter.widget-view+json": {
       "model_id": "933ef24984204545b22029e580f2c68d",
       "version_major": 2,
       "version_minor": 0
      },
      "text/plain": [
       "Training episodes:   0%|          | 0/3 [00:00<?, ?it/s]"
      ]
     },
     "metadata": {},
     "output_type": "display_data"
    },
    {
     "data": {
      "application/vnd.jupyter.widget-view+json": {
       "model_id": "7a15600b45ed40a7a9e867850be5c97c",
       "version_major": 2,
       "version_minor": 0
      },
      "text/plain": [
       "Training episodes:   0%|          | 0/3 [00:00<?, ?it/s]"
      ]
     },
     "metadata": {},
     "output_type": "display_data"
    },
    {
     "data": {
      "application/vnd.jupyter.widget-view+json": {
       "model_id": "cef909588187489d824ad5b416cf2b31",
       "version_major": 2,
       "version_minor": 0
      },
      "text/plain": [
       "Training episodes:   0%|          | 0/3 [00:00<?, ?it/s]"
      ]
     },
     "metadata": {},
     "output_type": "display_data"
    },
    {
     "data": {
      "application/vnd.jupyter.widget-view+json": {
       "model_id": "2ceae3923a1742ddb4b13b7d4fda1385",
       "version_major": 2,
       "version_minor": 0
      },
      "text/plain": [
       "Training episodes:   0%|          | 0/3 [00:00<?, ?it/s]"
      ]
     },
     "metadata": {},
     "output_type": "display_data"
    },
    {
     "data": {
      "application/vnd.jupyter.widget-view+json": {
       "model_id": "4653310509d94cc2a4b099fdeb276a38",
       "version_major": 2,
       "version_minor": 0
      },
      "text/plain": [
       "Training episodes:   0%|          | 0/3 [00:00<?, ?it/s]"
      ]
     },
     "metadata": {},
     "output_type": "display_data"
    },
    {
     "data": {
      "application/vnd.jupyter.widget-view+json": {
       "model_id": "76391c8a6be84354b339af7383f9bca0",
       "version_major": 2,
       "version_minor": 0
      },
      "text/plain": [
       "Training episodes:   0%|          | 0/3 [00:00<?, ?it/s]"
      ]
     },
     "metadata": {},
     "output_type": "display_data"
    },
    {
     "data": {
      "application/vnd.jupyter.widget-view+json": {
       "model_id": "0ec6f52365e94877837bef8a434dc25a",
       "version_major": 2,
       "version_minor": 0
      },
      "text/plain": [
       "Training episodes:   0%|          | 0/3 [00:00<?, ?it/s]"
      ]
     },
     "metadata": {},
     "output_type": "display_data"
    },
    {
     "data": {
      "application/vnd.jupyter.widget-view+json": {
       "model_id": "8867e84ad0544b4a9553f80f7219e274",
       "version_major": 2,
       "version_minor": 0
      },
      "text/plain": [
       "Training episodes:   0%|          | 0/3 [00:00<?, ?it/s]"
      ]
     },
     "metadata": {},
     "output_type": "display_data"
    },
    {
     "data": {
      "application/vnd.jupyter.widget-view+json": {
       "model_id": "7070556905d6476498dda97ffbaee2a1",
       "version_major": 2,
       "version_minor": 0
      },
      "text/plain": [
       "Training episodes:   0%|          | 0/3 [00:00<?, ?it/s]"
      ]
     },
     "metadata": {},
     "output_type": "display_data"
    },
    {
     "data": {
      "application/vnd.jupyter.widget-view+json": {
       "model_id": "f61a8ff9aec24f7ea4c9693d0d69ade4",
       "version_major": 2,
       "version_minor": 0
      },
      "text/plain": [
       "Training episodes:   0%|          | 0/3 [00:00<?, ?it/s]"
      ]
     },
     "metadata": {},
     "output_type": "display_data"
    },
    {
     "data": {
      "application/vnd.jupyter.widget-view+json": {
       "model_id": "b658e6861bdb4218b0255a8af3358908",
       "version_major": 2,
       "version_minor": 0
      },
      "text/plain": [
       "Training episodes:   0%|          | 0/3 [00:00<?, ?it/s]"
      ]
     },
     "metadata": {},
     "output_type": "display_data"
    },
    {
     "data": {
      "application/vnd.jupyter.widget-view+json": {
       "model_id": "3a8381e440b4474c8d2caae976daeb2e",
       "version_major": 2,
       "version_minor": 0
      },
      "text/plain": [
       "Training episodes:   0%|          | 0/3 [00:00<?, ?it/s]"
      ]
     },
     "metadata": {},
     "output_type": "display_data"
    },
    {
     "data": {
      "application/vnd.jupyter.widget-view+json": {
       "model_id": "16e64c247c7b4ff1ac3c515111c40b9d",
       "version_major": 2,
       "version_minor": 0
      },
      "text/plain": [
       "Training episodes:   0%|          | 0/3 [00:00<?, ?it/s]"
      ]
     },
     "metadata": {},
     "output_type": "display_data"
    },
    {
     "data": {
      "application/vnd.jupyter.widget-view+json": {
       "model_id": "e604385a807c45e5a413e450107049e5",
       "version_major": 2,
       "version_minor": 0
      },
      "text/plain": [
       "Training episodes:   0%|          | 0/3 [00:00<?, ?it/s]"
      ]
     },
     "metadata": {},
     "output_type": "display_data"
    },
    {
     "data": {
      "application/vnd.jupyter.widget-view+json": {
       "model_id": "d552a26ee00c4c4ea3af85b9a977be37",
       "version_major": 2,
       "version_minor": 0
      },
      "text/plain": [
       "Training episodes:   0%|          | 0/3 [00:00<?, ?it/s]"
      ]
     },
     "metadata": {},
     "output_type": "display_data"
    },
    {
     "data": {
      "application/vnd.jupyter.widget-view+json": {
       "model_id": "f5dfd2342e794e648239a6478bd7ee85",
       "version_major": 2,
       "version_minor": 0
      },
      "text/plain": [
       "Training episodes:   0%|          | 0/3 [00:00<?, ?it/s]"
      ]
     },
     "metadata": {},
     "output_type": "display_data"
    },
    {
     "data": {
      "application/vnd.jupyter.widget-view+json": {
       "model_id": "d1e5a2d5be084b7cb9e1a8242c7d7bb9",
       "version_major": 2,
       "version_minor": 0
      },
      "text/plain": [
       "Training episodes:   0%|          | 0/3 [00:00<?, ?it/s]"
      ]
     },
     "metadata": {},
     "output_type": "display_data"
    },
    {
     "data": {
      "application/vnd.jupyter.widget-view+json": {
       "model_id": "97912bf8af7b481aa0d25658ea0ba0b5",
       "version_major": 2,
       "version_minor": 0
      },
      "text/plain": [
       "Training episodes:   0%|          | 0/3 [00:00<?, ?it/s]"
      ]
     },
     "metadata": {},
     "output_type": "display_data"
    },
    {
     "data": {
      "application/vnd.jupyter.widget-view+json": {
       "model_id": "d11c75c9e94149f7bf0a33632d5996eb",
       "version_major": 2,
       "version_minor": 0
      },
      "text/plain": [
       "Training episodes:   0%|          | 0/3 [00:00<?, ?it/s]"
      ]
     },
     "metadata": {},
     "output_type": "display_data"
    },
    {
     "data": {
      "application/vnd.jupyter.widget-view+json": {
       "model_id": "21f1c94f96e644ea8ca0acb8ed032a1b",
       "version_major": 2,
       "version_minor": 0
      },
      "text/plain": [
       "Training episodes:   0%|          | 0/3 [00:00<?, ?it/s]"
      ]
     },
     "metadata": {},
     "output_type": "display_data"
    },
    {
     "data": {
      "application/vnd.jupyter.widget-view+json": {
       "model_id": "5b7078bd7a1f400292e62ced9975814f",
       "version_major": 2,
       "version_minor": 0
      },
      "text/plain": [
       "Training episodes:   0%|          | 0/3 [00:00<?, ?it/s]"
      ]
     },
     "metadata": {},
     "output_type": "display_data"
    },
    {
     "data": {
      "application/vnd.jupyter.widget-view+json": {
       "model_id": "d50d629c065843b181c64ca98caa8666",
       "version_major": 2,
       "version_minor": 0
      },
      "text/plain": [
       "Training episodes:   0%|          | 0/3 [00:00<?, ?it/s]"
      ]
     },
     "metadata": {},
     "output_type": "display_data"
    },
    {
     "data": {
      "application/vnd.jupyter.widget-view+json": {
       "model_id": "9ed32a03d8144716af890b8c81f639f3",
       "version_major": 2,
       "version_minor": 0
      },
      "text/plain": [
       "Training episodes:   0%|          | 0/3 [00:00<?, ?it/s]"
      ]
     },
     "metadata": {},
     "output_type": "display_data"
    },
    {
     "data": {
      "application/vnd.jupyter.widget-view+json": {
       "model_id": "756898738df846269660d448cf0b75b3",
       "version_major": 2,
       "version_minor": 0
      },
      "text/plain": [
       "Training episodes:   0%|          | 0/3 [00:00<?, ?it/s]"
      ]
     },
     "metadata": {},
     "output_type": "display_data"
    },
    {
     "data": {
      "application/vnd.jupyter.widget-view+json": {
       "model_id": "2f804942c5f341edaa331ced6d492800",
       "version_major": 2,
       "version_minor": 0
      },
      "text/plain": [
       "Training episodes:   0%|          | 0/3 [00:00<?, ?it/s]"
      ]
     },
     "metadata": {},
     "output_type": "display_data"
    },
    {
     "data": {
      "application/vnd.jupyter.widget-view+json": {
       "model_id": "ded63cf9738548988feb809836ece5f0",
       "version_major": 2,
       "version_minor": 0
      },
      "text/plain": [
       "Training episodes:   0%|          | 0/3 [00:00<?, ?it/s]"
      ]
     },
     "metadata": {},
     "output_type": "display_data"
    },
    {
     "data": {
      "application/vnd.jupyter.widget-view+json": {
       "model_id": "b60dadbacfe943ddaf5cba87d035398c",
       "version_major": 2,
       "version_minor": 0
      },
      "text/plain": [
       "Training episodes:   0%|          | 0/3 [00:00<?, ?it/s]"
      ]
     },
     "metadata": {},
     "output_type": "display_data"
    },
    {
     "data": {
      "application/vnd.jupyter.widget-view+json": {
       "model_id": "94e9db364f454508a68ac7e544304f85",
       "version_major": 2,
       "version_minor": 0
      },
      "text/plain": [
       "Training episodes:   0%|          | 0/3 [00:00<?, ?it/s]"
      ]
     },
     "metadata": {},
     "output_type": "display_data"
    },
    {
     "data": {
      "application/vnd.jupyter.widget-view+json": {
       "model_id": "1fb576dc32d3416185837d6b8d9094ce",
       "version_major": 2,
       "version_minor": 0
      },
      "text/plain": [
       "Training episodes:   0%|          | 0/3 [00:00<?, ?it/s]"
      ]
     },
     "metadata": {},
     "output_type": "display_data"
    },
    {
     "data": {
      "application/vnd.jupyter.widget-view+json": {
       "model_id": "26009605f1f24425afb1d7488651aac1",
       "version_major": 2,
       "version_minor": 0
      },
      "text/plain": [
       "Training episodes:   0%|          | 0/3 [00:00<?, ?it/s]"
      ]
     },
     "metadata": {},
     "output_type": "display_data"
    },
    {
     "data": {
      "application/vnd.jupyter.widget-view+json": {
       "model_id": "e8270264c4a843208aa955dcd24c25e1",
       "version_major": 2,
       "version_minor": 0
      },
      "text/plain": [
       "Training episodes:   0%|          | 0/3 [00:00<?, ?it/s]"
      ]
     },
     "metadata": {},
     "output_type": "display_data"
    },
    {
     "data": {
      "application/vnd.jupyter.widget-view+json": {
       "model_id": "0e55489f00c04ca99581d46041b13104",
       "version_major": 2,
       "version_minor": 0
      },
      "text/plain": [
       "Training episodes:   0%|          | 0/3 [00:00<?, ?it/s]"
      ]
     },
     "metadata": {},
     "output_type": "display_data"
    },
    {
     "data": {
      "application/vnd.jupyter.widget-view+json": {
       "model_id": "95f22c419cfc43f79ed196a6d497608d",
       "version_major": 2,
       "version_minor": 0
      },
      "text/plain": [
       "Training episodes:   0%|          | 0/3 [00:00<?, ?it/s]"
      ]
     },
     "metadata": {},
     "output_type": "display_data"
    },
    {
     "data": {
      "application/vnd.jupyter.widget-view+json": {
       "model_id": "0ef9fb6956ff4d1ba61bb8c8c78b2b15",
       "version_major": 2,
       "version_minor": 0
      },
      "text/plain": [
       "Training episodes:   0%|          | 0/3 [00:00<?, ?it/s]"
      ]
     },
     "metadata": {},
     "output_type": "display_data"
    },
    {
     "data": {
      "application/vnd.jupyter.widget-view+json": {
       "model_id": "2f6dad423c474d69b1b3c54b1fd8f779",
       "version_major": 2,
       "version_minor": 0
      },
      "text/plain": [
       "Training episodes:   0%|          | 0/3 [00:00<?, ?it/s]"
      ]
     },
     "metadata": {},
     "output_type": "display_data"
    },
    {
     "data": {
      "application/vnd.jupyter.widget-view+json": {
       "model_id": "0103f49be9044b82b2eb16e3706c9cac",
       "version_major": 2,
       "version_minor": 0
      },
      "text/plain": [
       "Training episodes:   0%|          | 0/3 [00:00<?, ?it/s]"
      ]
     },
     "metadata": {},
     "output_type": "display_data"
    },
    {
     "data": {
      "application/vnd.jupyter.widget-view+json": {
       "model_id": "71687b80c35d4e18b8c330b33137af4b",
       "version_major": 2,
       "version_minor": 0
      },
      "text/plain": [
       "Training episodes:   0%|          | 0/3 [00:00<?, ?it/s]"
      ]
     },
     "metadata": {},
     "output_type": "display_data"
    },
    {
     "data": {
      "application/vnd.jupyter.widget-view+json": {
       "model_id": "f02c94047f684865944adc3d7345465e",
       "version_major": 2,
       "version_minor": 0
      },
      "text/plain": [
       "Training episodes:   0%|          | 0/3 [00:00<?, ?it/s]"
      ]
     },
     "metadata": {},
     "output_type": "display_data"
    },
    {
     "data": {
      "application/vnd.jupyter.widget-view+json": {
       "model_id": "13d0532bc4224627b90a8a18f9d4280f",
       "version_major": 2,
       "version_minor": 0
      },
      "text/plain": [
       "Training episodes:   0%|          | 0/3 [00:00<?, ?it/s]"
      ]
     },
     "metadata": {},
     "output_type": "display_data"
    },
    {
     "data": {
      "application/vnd.jupyter.widget-view+json": {
       "model_id": "4e841222209447b3b31f2cd88c1677b9",
       "version_major": 2,
       "version_minor": 0
      },
      "text/plain": [
       "Training episodes:   0%|          | 0/3 [00:00<?, ?it/s]"
      ]
     },
     "metadata": {},
     "output_type": "display_data"
    },
    {
     "data": {
      "application/vnd.jupyter.widget-view+json": {
       "model_id": "5ac7401bbffc4e1e973ff2e375505dc8",
       "version_major": 2,
       "version_minor": 0
      },
      "text/plain": [
       "Training episodes:   0%|          | 0/3 [00:00<?, ?it/s]"
      ]
     },
     "metadata": {},
     "output_type": "display_data"
    },
    {
     "data": {
      "application/vnd.jupyter.widget-view+json": {
       "model_id": "882b019248a24ce48fa162547db670dc",
       "version_major": 2,
       "version_minor": 0
      },
      "text/plain": [
       "Training episodes:   0%|          | 0/3 [00:00<?, ?it/s]"
      ]
     },
     "metadata": {},
     "output_type": "display_data"
    },
    {
     "data": {
      "application/vnd.jupyter.widget-view+json": {
       "model_id": "0bf297df078847bf8d1f02b561376b78",
       "version_major": 2,
       "version_minor": 0
      },
      "text/plain": [
       "Training episodes:   0%|          | 0/3 [00:00<?, ?it/s]"
      ]
     },
     "metadata": {},
     "output_type": "display_data"
    },
    {
     "data": {
      "application/vnd.jupyter.widget-view+json": {
       "model_id": "508d8c0ab50b40bea68eba7eaf3e82c8",
       "version_major": 2,
       "version_minor": 0
      },
      "text/plain": [
       "Training episodes:   0%|          | 0/3 [00:00<?, ?it/s]"
      ]
     },
     "metadata": {},
     "output_type": "display_data"
    },
    {
     "data": {
      "application/vnd.jupyter.widget-view+json": {
       "model_id": "e301366803f14d44baf7261104da391a",
       "version_major": 2,
       "version_minor": 0
      },
      "text/plain": [
       "Training episodes:   0%|          | 0/3 [00:00<?, ?it/s]"
      ]
     },
     "metadata": {},
     "output_type": "display_data"
    },
    {
     "data": {
      "application/vnd.jupyter.widget-view+json": {
       "model_id": "d5b1a3906fd3469dbfcf5e93e1dfb5c0",
       "version_major": 2,
       "version_minor": 0
      },
      "text/plain": [
       "Training episodes:   0%|          | 0/3 [00:00<?, ?it/s]"
      ]
     },
     "metadata": {},
     "output_type": "display_data"
    },
    {
     "data": {
      "application/vnd.jupyter.widget-view+json": {
       "model_id": "36bd925655ad4e2d9b94607887228d15",
       "version_major": 2,
       "version_minor": 0
      },
      "text/plain": [
       "Training episodes:   0%|          | 0/3 [00:00<?, ?it/s]"
      ]
     },
     "metadata": {},
     "output_type": "display_data"
    },
    {
     "data": {
      "application/vnd.jupyter.widget-view+json": {
       "model_id": "5e6f0ea077fe47d1a2a7d2e5a93f6e8f",
       "version_major": 2,
       "version_minor": 0
      },
      "text/plain": [
       "Training episodes:   0%|          | 0/3 [00:00<?, ?it/s]"
      ]
     },
     "metadata": {},
     "output_type": "display_data"
    },
    {
     "data": {
      "application/vnd.jupyter.widget-view+json": {
       "model_id": "ee36dca7348b452f9ef6f0d6464ca33d",
       "version_major": 2,
       "version_minor": 0
      },
      "text/plain": [
       "Training episodes:   0%|          | 0/3 [00:00<?, ?it/s]"
      ]
     },
     "metadata": {},
     "output_type": "display_data"
    },
    {
     "data": {
      "application/vnd.jupyter.widget-view+json": {
       "model_id": "27ed87e1579c45c8a32438ba89d9b451",
       "version_major": 2,
       "version_minor": 0
      },
      "text/plain": [
       "Training episodes:   0%|          | 0/3 [00:00<?, ?it/s]"
      ]
     },
     "metadata": {},
     "output_type": "display_data"
    },
    {
     "data": {
      "application/vnd.jupyter.widget-view+json": {
       "model_id": "f3e42f6174b9416ba58f26b658819fef",
       "version_major": 2,
       "version_minor": 0
      },
      "text/plain": [
       "Training episodes:   0%|          | 0/3 [00:00<?, ?it/s]"
      ]
     },
     "metadata": {},
     "output_type": "display_data"
    },
    {
     "data": {
      "application/vnd.jupyter.widget-view+json": {
       "model_id": "06969896698141cc8627f5692dbce476",
       "version_major": 2,
       "version_minor": 0
      },
      "text/plain": [
       "Training episodes:   0%|          | 0/3 [00:00<?, ?it/s]"
      ]
     },
     "metadata": {},
     "output_type": "display_data"
    },
    {
     "data": {
      "application/vnd.jupyter.widget-view+json": {
       "model_id": "a9ffeb90f9c445e2a8baa6f76e57f66b",
       "version_major": 2,
       "version_minor": 0
      },
      "text/plain": [
       "Training episodes:   0%|          | 0/3 [00:00<?, ?it/s]"
      ]
     },
     "metadata": {},
     "output_type": "display_data"
    },
    {
     "data": {
      "application/vnd.jupyter.widget-view+json": {
       "model_id": "6b11bd2941f5487aa7020689a5bdb31c",
       "version_major": 2,
       "version_minor": 0
      },
      "text/plain": [
       "Training episodes:   0%|          | 0/3 [00:00<?, ?it/s]"
      ]
     },
     "metadata": {},
     "output_type": "display_data"
    },
    {
     "data": {
      "application/vnd.jupyter.widget-view+json": {
       "model_id": "44fb1a676302468cb7da21454c50ca6a",
       "version_major": 2,
       "version_minor": 0
      },
      "text/plain": [
       "Training episodes:   0%|          | 0/3 [00:00<?, ?it/s]"
      ]
     },
     "metadata": {},
     "output_type": "display_data"
    },
    {
     "data": {
      "application/vnd.jupyter.widget-view+json": {
       "model_id": "11e058dc3b8f42ce982953626d9ece22",
       "version_major": 2,
       "version_minor": 0
      },
      "text/plain": [
       "Training episodes:   0%|          | 0/3 [00:00<?, ?it/s]"
      ]
     },
     "metadata": {},
     "output_type": "display_data"
    },
    {
     "data": {
      "application/vnd.jupyter.widget-view+json": {
       "model_id": "f4e54c0f2e8842de843b87d976b3bd2a",
       "version_major": 2,
       "version_minor": 0
      },
      "text/plain": [
       "Training episodes:   0%|          | 0/3 [00:00<?, ?it/s]"
      ]
     },
     "metadata": {},
     "output_type": "display_data"
    },
    {
     "data": {
      "application/vnd.jupyter.widget-view+json": {
       "model_id": "3cfe89b30dda4db4a8aab4d3762b5e02",
       "version_major": 2,
       "version_minor": 0
      },
      "text/plain": [
       "Training episodes:   0%|          | 0/3 [00:00<?, ?it/s]"
      ]
     },
     "metadata": {},
     "output_type": "display_data"
    },
    {
     "data": {
      "application/vnd.jupyter.widget-view+json": {
       "model_id": "3dfca450caa04249ab72a8c25fe6fa24",
       "version_major": 2,
       "version_minor": 0
      },
      "text/plain": [
       "Training episodes:   0%|          | 0/3 [00:00<?, ?it/s]"
      ]
     },
     "metadata": {},
     "output_type": "display_data"
    },
    {
     "data": {
      "application/vnd.jupyter.widget-view+json": {
       "model_id": "c87de836d92a4afca321ba9b4679e542",
       "version_major": 2,
       "version_minor": 0
      },
      "text/plain": [
       "Training episodes:   0%|          | 0/3 [00:00<?, ?it/s]"
      ]
     },
     "metadata": {},
     "output_type": "display_data"
    },
    {
     "data": {
      "application/vnd.jupyter.widget-view+json": {
       "model_id": "856dc524f03b404d9032692493f16b66",
       "version_major": 2,
       "version_minor": 0
      },
      "text/plain": [
       "Training episodes:   0%|          | 0/3 [00:00<?, ?it/s]"
      ]
     },
     "metadata": {},
     "output_type": "display_data"
    },
    {
     "data": {
      "application/vnd.jupyter.widget-view+json": {
       "model_id": "e905fb54a2ab4e2d8c558cf00e1dbf0c",
       "version_major": 2,
       "version_minor": 0
      },
      "text/plain": [
       "Training episodes:   0%|          | 0/3 [00:00<?, ?it/s]"
      ]
     },
     "metadata": {},
     "output_type": "display_data"
    },
    {
     "data": {
      "application/vnd.jupyter.widget-view+json": {
       "model_id": "d2000d36e5554eaaaaf90a2e31d654e3",
       "version_major": 2,
       "version_minor": 0
      },
      "text/plain": [
       "Training episodes:   0%|          | 0/3 [00:00<?, ?it/s]"
      ]
     },
     "metadata": {},
     "output_type": "display_data"
    },
    {
     "data": {
      "application/vnd.jupyter.widget-view+json": {
       "model_id": "874fd49d6ba24bdb9051ec0e1610714b",
       "version_major": 2,
       "version_minor": 0
      },
      "text/plain": [
       "Training episodes:   0%|          | 0/3 [00:00<?, ?it/s]"
      ]
     },
     "metadata": {},
     "output_type": "display_data"
    },
    {
     "data": {
      "application/vnd.jupyter.widget-view+json": {
       "model_id": "6536337b09b744238f2e598225158aea",
       "version_major": 2,
       "version_minor": 0
      },
      "text/plain": [
       "Training episodes:   0%|          | 0/3 [00:00<?, ?it/s]"
      ]
     },
     "metadata": {},
     "output_type": "display_data"
    },
    {
     "data": {
      "application/vnd.jupyter.widget-view+json": {
       "model_id": "0615c2ecec674799b0723c517bbecf55",
       "version_major": 2,
       "version_minor": 0
      },
      "text/plain": [
       "Training episodes:   0%|          | 0/3 [00:00<?, ?it/s]"
      ]
     },
     "metadata": {},
     "output_type": "display_data"
    },
    {
     "data": {
      "application/vnd.jupyter.widget-view+json": {
       "model_id": "ee2d838aaf104d5c8dc71b1f380ec163",
       "version_major": 2,
       "version_minor": 0
      },
      "text/plain": [
       "Training episodes:   0%|          | 0/3 [00:00<?, ?it/s]"
      ]
     },
     "metadata": {},
     "output_type": "display_data"
    },
    {
     "data": {
      "application/vnd.jupyter.widget-view+json": {
       "model_id": "1075efd362a64c1694f22ba91e4bb969",
       "version_major": 2,
       "version_minor": 0
      },
      "text/plain": [
       "Training episodes:   0%|          | 0/3 [00:00<?, ?it/s]"
      ]
     },
     "metadata": {},
     "output_type": "display_data"
    },
    {
     "data": {
      "application/vnd.jupyter.widget-view+json": {
       "model_id": "42e04a381df941089a6f153388993a39",
       "version_major": 2,
       "version_minor": 0
      },
      "text/plain": [
       "Training episodes:   0%|          | 0/3 [00:00<?, ?it/s]"
      ]
     },
     "metadata": {},
     "output_type": "display_data"
    },
    {
     "data": {
      "application/vnd.jupyter.widget-view+json": {
       "model_id": "1b7a5bd5aba0412aaa056f3ba635b234",
       "version_major": 2,
       "version_minor": 0
      },
      "text/plain": [
       "Training episodes:   0%|          | 0/3 [00:00<?, ?it/s]"
      ]
     },
     "metadata": {},
     "output_type": "display_data"
    },
    {
     "data": {
      "application/vnd.jupyter.widget-view+json": {
       "model_id": "7f209753f7184d47bab05ee7cba0869c",
       "version_major": 2,
       "version_minor": 0
      },
      "text/plain": [
       "Training episodes:   0%|          | 0/3 [00:00<?, ?it/s]"
      ]
     },
     "metadata": {},
     "output_type": "display_data"
    },
    {
     "data": {
      "application/vnd.jupyter.widget-view+json": {
       "model_id": "a5ad8a8f100a4190a89c3011c12330b9",
       "version_major": 2,
       "version_minor": 0
      },
      "text/plain": [
       "Training episodes:   0%|          | 0/3 [00:00<?, ?it/s]"
      ]
     },
     "metadata": {},
     "output_type": "display_data"
    },
    {
     "data": {
      "application/vnd.jupyter.widget-view+json": {
       "model_id": "813c568d91694545a66dfe1df8f4c003",
       "version_major": 2,
       "version_minor": 0
      },
      "text/plain": [
       "Training episodes:   0%|          | 0/3 [00:00<?, ?it/s]"
      ]
     },
     "metadata": {},
     "output_type": "display_data"
    },
    {
     "data": {
      "application/vnd.jupyter.widget-view+json": {
       "model_id": "6a25788bb49e4f23921b15a6806e36bc",
       "version_major": 2,
       "version_minor": 0
      },
      "text/plain": [
       "Training episodes:   0%|          | 0/3 [00:00<?, ?it/s]"
      ]
     },
     "metadata": {},
     "output_type": "display_data"
    },
    {
     "data": {
      "application/vnd.jupyter.widget-view+json": {
       "model_id": "7f62e3435b0646e6bc924c4c492efe1e",
       "version_major": 2,
       "version_minor": 0
      },
      "text/plain": [
       "Training episodes:   0%|          | 0/3 [00:00<?, ?it/s]"
      ]
     },
     "metadata": {},
     "output_type": "display_data"
    },
    {
     "data": {
      "application/vnd.jupyter.widget-view+json": {
       "model_id": "439d3d25f4aa4f5986158882993eeeb9",
       "version_major": 2,
       "version_minor": 0
      },
      "text/plain": [
       "seeds:   0%|          | 0/30 [00:00<?, ?it/s]"
      ]
     },
     "metadata": {},
     "output_type": "display_data"
    },
    {
     "data": {
      "application/vnd.jupyter.widget-view+json": {
       "model_id": "0fbd6f5fca9944baa4d456146ff8ef77",
       "version_major": 2,
       "version_minor": 0
      },
      "text/plain": [
       "Training episodes:   0%|          | 0/3 [00:00<?, ?it/s]"
      ]
     },
     "metadata": {},
     "output_type": "display_data"
    },
    {
     "data": {
      "application/vnd.jupyter.widget-view+json": {
       "model_id": "fd184de1a05944b1b09f8b86db5a0f85",
       "version_major": 2,
       "version_minor": 0
      },
      "text/plain": [
       "Training episodes:   0%|          | 0/3 [00:00<?, ?it/s]"
      ]
     },
     "metadata": {},
     "output_type": "display_data"
    },
    {
     "data": {
      "application/vnd.jupyter.widget-view+json": {
       "model_id": "89d99b64c46444e789ed963d89d65087",
       "version_major": 2,
       "version_minor": 0
      },
      "text/plain": [
       "Training episodes:   0%|          | 0/3 [00:00<?, ?it/s]"
      ]
     },
     "metadata": {},
     "output_type": "display_data"
    },
    {
     "data": {
      "application/vnd.jupyter.widget-view+json": {
       "model_id": "bd51bf9f827045328089d95625a63471",
       "version_major": 2,
       "version_minor": 0
      },
      "text/plain": [
       "Training episodes:   0%|          | 0/3 [00:00<?, ?it/s]"
      ]
     },
     "metadata": {},
     "output_type": "display_data"
    },
    {
     "data": {
      "application/vnd.jupyter.widget-view+json": {
       "model_id": "2e1e100583db480c96b62d53ff12e729",
       "version_major": 2,
       "version_minor": 0
      },
      "text/plain": [
       "Training episodes:   0%|          | 0/3 [00:00<?, ?it/s]"
      ]
     },
     "metadata": {},
     "output_type": "display_data"
    },
    {
     "data": {
      "application/vnd.jupyter.widget-view+json": {
       "model_id": "3925788668144282b2f546ec5131c9d1",
       "version_major": 2,
       "version_minor": 0
      },
      "text/plain": [
       "Training episodes:   0%|          | 0/3 [00:00<?, ?it/s]"
      ]
     },
     "metadata": {},
     "output_type": "display_data"
    },
    {
     "data": {
      "application/vnd.jupyter.widget-view+json": {
       "model_id": "fa9123439a6d45a79d8e1c1b4a2aefed",
       "version_major": 2,
       "version_minor": 0
      },
      "text/plain": [
       "Training episodes:   0%|          | 0/3 [00:00<?, ?it/s]"
      ]
     },
     "metadata": {},
     "output_type": "display_data"
    },
    {
     "data": {
      "application/vnd.jupyter.widget-view+json": {
       "model_id": "771e67b510f6467795fde2f316653f98",
       "version_major": 2,
       "version_minor": 0
      },
      "text/plain": [
       "Training episodes:   0%|          | 0/3 [00:00<?, ?it/s]"
      ]
     },
     "metadata": {},
     "output_type": "display_data"
    },
    {
     "data": {
      "application/vnd.jupyter.widget-view+json": {
       "model_id": "cc5ce1c6d1ca47dab91d78e1acff2fd0",
       "version_major": 2,
       "version_minor": 0
      },
      "text/plain": [
       "Training episodes:   0%|          | 0/3 [00:00<?, ?it/s]"
      ]
     },
     "metadata": {},
     "output_type": "display_data"
    },
    {
     "data": {
      "application/vnd.jupyter.widget-view+json": {
       "model_id": "ff9f61635bd149db97bcdb9b97bcda89",
       "version_major": 2,
       "version_minor": 0
      },
      "text/plain": [
       "Training episodes:   0%|          | 0/3 [00:00<?, ?it/s]"
      ]
     },
     "metadata": {},
     "output_type": "display_data"
    },
    {
     "data": {
      "application/vnd.jupyter.widget-view+json": {
       "model_id": "8f0c2f53125a40e8807221ed24fe4b6f",
       "version_major": 2,
       "version_minor": 0
      },
      "text/plain": [
       "Training episodes:   0%|          | 0/3 [00:00<?, ?it/s]"
      ]
     },
     "metadata": {},
     "output_type": "display_data"
    },
    {
     "data": {
      "application/vnd.jupyter.widget-view+json": {
       "model_id": "3bfee6d6c1704cd1842ca08190e91bd4",
       "version_major": 2,
       "version_minor": 0
      },
      "text/plain": [
       "Training episodes:   0%|          | 0/3 [00:00<?, ?it/s]"
      ]
     },
     "metadata": {},
     "output_type": "display_data"
    },
    {
     "data": {
      "application/vnd.jupyter.widget-view+json": {
       "model_id": "13b098023596457c81e7516251710cfd",
       "version_major": 2,
       "version_minor": 0
      },
      "text/plain": [
       "Training episodes:   0%|          | 0/3 [00:00<?, ?it/s]"
      ]
     },
     "metadata": {},
     "output_type": "display_data"
    },
    {
     "data": {
      "application/vnd.jupyter.widget-view+json": {
       "model_id": "b7c05807d5114ae7aa226b59ee78897f",
       "version_major": 2,
       "version_minor": 0
      },
      "text/plain": [
       "Training episodes:   0%|          | 0/3 [00:00<?, ?it/s]"
      ]
     },
     "metadata": {},
     "output_type": "display_data"
    },
    {
     "data": {
      "application/vnd.jupyter.widget-view+json": {
       "model_id": "19189ee165654ab7b32979177be5cc8b",
       "version_major": 2,
       "version_minor": 0
      },
      "text/plain": [
       "Training episodes:   0%|          | 0/3 [00:00<?, ?it/s]"
      ]
     },
     "metadata": {},
     "output_type": "display_data"
    },
    {
     "data": {
      "application/vnd.jupyter.widget-view+json": {
       "model_id": "94feb13e54ba437c98f1730b00b44555",
       "version_major": 2,
       "version_minor": 0
      },
      "text/plain": [
       "Training episodes:   0%|          | 0/3 [00:00<?, ?it/s]"
      ]
     },
     "metadata": {},
     "output_type": "display_data"
    },
    {
     "data": {
      "application/vnd.jupyter.widget-view+json": {
       "model_id": "5cfec70876c645b9b19bf26cf14c3fa6",
       "version_major": 2,
       "version_minor": 0
      },
      "text/plain": [
       "Training episodes:   0%|          | 0/3 [00:00<?, ?it/s]"
      ]
     },
     "metadata": {},
     "output_type": "display_data"
    },
    {
     "data": {
      "application/vnd.jupyter.widget-view+json": {
       "model_id": "af02b2f6adc04e7a907623c073e9b73d",
       "version_major": 2,
       "version_minor": 0
      },
      "text/plain": [
       "seeds:   0%|          | 0/30 [00:00<?, ?it/s]"
      ]
     },
     "metadata": {},
     "output_type": "display_data"
    },
    {
     "data": {
      "application/vnd.jupyter.widget-view+json": {
       "model_id": "f5dd5b9493ab49c78ddd5ab8c717291f",
       "version_major": 2,
       "version_minor": 0
      },
      "text/plain": [
       "Training episodes:   0%|          | 0/3 [00:00<?, ?it/s]"
      ]
     },
     "metadata": {},
     "output_type": "display_data"
    },
    {
     "name": "stdout",
     "output_type": "stream",
     "text": [
      "[I 2025-03-02 17:04:00,517] Trial 7 finished with value: -2098.291834159794 and parameters: {'learning_rate': 0.0006484246332550967, 'n_steps': 553, 'batch_size': 249, 'gae_lambda': 0.9097701889421966, 'ent_coef': 0.0021025283263649296, 'vf_coef': 0.6467125566276877, 'clip_range': 0.13913945308583192, 'max_grad_norm': 0.45248375251952055}. Best is trial 7 with value: -2098.291834159794.\n"
     ]
    },
    {
     "data": {
      "application/vnd.jupyter.widget-view+json": {
       "model_id": "f26be9d732af418e85af6a9e28d74160",
       "version_major": 2,
       "version_minor": 0
      },
      "text/plain": [
       "seeds:   0%|          | 0/30 [00:00<?, ?it/s]"
      ]
     },
     "metadata": {},
     "output_type": "display_data"
    },
    {
     "data": {
      "application/vnd.jupyter.widget-view+json": {
       "model_id": "43d9ccd349a4469a90635b457733e177",
       "version_major": 2,
       "version_minor": 0
      },
      "text/plain": [
       "Training episodes:   0%|          | 0/3 [00:00<?, ?it/s]"
      ]
     },
     "metadata": {},
     "output_type": "display_data"
    },
    {
     "data": {
      "application/vnd.jupyter.widget-view+json": {
       "model_id": "c4d7294b97274b659f7b42052dbfd1a1",
       "version_major": 2,
       "version_minor": 0
      },
      "text/plain": [
       "Training episodes:   0%|          | 0/3 [00:00<?, ?it/s]"
      ]
     },
     "metadata": {},
     "output_type": "display_data"
    },
    {
     "data": {
      "application/vnd.jupyter.widget-view+json": {
       "model_id": "e74d7a8db95b4d0a952f7f343e8872fa",
       "version_major": 2,
       "version_minor": 0
      },
      "text/plain": [
       "Training episodes:   0%|          | 0/3 [00:00<?, ?it/s]"
      ]
     },
     "metadata": {},
     "output_type": "display_data"
    },
    {
     "data": {
      "application/vnd.jupyter.widget-view+json": {
       "model_id": "443776e869b449c18da36b20030e7834",
       "version_major": 2,
       "version_minor": 0
      },
      "text/plain": [
       "seeds:   0%|          | 0/30 [00:00<?, ?it/s]"
      ]
     },
     "metadata": {},
     "output_type": "display_data"
    },
    {
     "data": {
      "application/vnd.jupyter.widget-view+json": {
       "model_id": "604604b525c148e48638ad2f7c6fa9fd",
       "version_major": 2,
       "version_minor": 0
      },
      "text/plain": [
       "Training episodes:   0%|          | 0/3 [00:00<?, ?it/s]"
      ]
     },
     "metadata": {},
     "output_type": "display_data"
    },
    {
     "data": {
      "application/vnd.jupyter.widget-view+json": {
       "model_id": "2d5c18339dab474bb6bd98e9e9777672",
       "version_major": 2,
       "version_minor": 0
      },
      "text/plain": [
       "Training episodes:   0%|          | 0/3 [00:00<?, ?it/s]"
      ]
     },
     "metadata": {},
     "output_type": "display_data"
    },
    {
     "data": {
      "application/vnd.jupyter.widget-view+json": {
       "model_id": "477a3d84af94499cad9285df55a8b755",
       "version_major": 2,
       "version_minor": 0
      },
      "text/plain": [
       "Training episodes:   0%|          | 0/3 [00:00<?, ?it/s]"
      ]
     },
     "metadata": {},
     "output_type": "display_data"
    },
    {
     "data": {
      "application/vnd.jupyter.widget-view+json": {
       "model_id": "3beb8fb4775b412aa8de3d713e47e615",
       "version_major": 2,
       "version_minor": 0
      },
      "text/plain": [
       "Training episodes:   0%|          | 0/3 [00:00<?, ?it/s]"
      ]
     },
     "metadata": {},
     "output_type": "display_data"
    },
    {
     "data": {
      "application/vnd.jupyter.widget-view+json": {
       "model_id": "597f37d489e545ba82fbf4a796721340",
       "version_major": 2,
       "version_minor": 0
      },
      "text/plain": [
       "Training episodes:   0%|          | 0/3 [00:00<?, ?it/s]"
      ]
     },
     "metadata": {},
     "output_type": "display_data"
    },
    {
     "data": {
      "application/vnd.jupyter.widget-view+json": {
       "model_id": "db03e11a71fe4efeb378d8ce6c27c4e7",
       "version_major": 2,
       "version_minor": 0
      },
      "text/plain": [
       "Training episodes:   0%|          | 0/3 [00:00<?, ?it/s]"
      ]
     },
     "metadata": {},
     "output_type": "display_data"
    },
    {
     "data": {
      "application/vnd.jupyter.widget-view+json": {
       "model_id": "371356875a4a4061a3120a5cb33905ca",
       "version_major": 2,
       "version_minor": 0
      },
      "text/plain": [
       "Training episodes:   0%|          | 0/3 [00:00<?, ?it/s]"
      ]
     },
     "metadata": {},
     "output_type": "display_data"
    },
    {
     "data": {
      "application/vnd.jupyter.widget-view+json": {
       "model_id": "9a7db53ba6794922be94f9e80bbf3e06",
       "version_major": 2,
       "version_minor": 0
      },
      "text/plain": [
       "Training episodes:   0%|          | 0/3 [00:00<?, ?it/s]"
      ]
     },
     "metadata": {},
     "output_type": "display_data"
    },
    {
     "data": {
      "application/vnd.jupyter.widget-view+json": {
       "model_id": "1931715a9bfb4c27bd60bda6fc7e0aa4",
       "version_major": 2,
       "version_minor": 0
      },
      "text/plain": [
       "Training episodes:   0%|          | 0/3 [00:00<?, ?it/s]"
      ]
     },
     "metadata": {},
     "output_type": "display_data"
    },
    {
     "data": {
      "application/vnd.jupyter.widget-view+json": {
       "model_id": "76970c3726a5417db61e255065b88978",
       "version_major": 2,
       "version_minor": 0
      },
      "text/plain": [
       "Training episodes:   0%|          | 0/3 [00:00<?, ?it/s]"
      ]
     },
     "metadata": {},
     "output_type": "display_data"
    },
    {
     "data": {
      "application/vnd.jupyter.widget-view+json": {
       "model_id": "f5a74d0572004b7bb528ea051db0ad93",
       "version_major": 2,
       "version_minor": 0
      },
      "text/plain": [
       "seeds:   0%|          | 0/30 [00:00<?, ?it/s]"
      ]
     },
     "metadata": {},
     "output_type": "display_data"
    },
    {
     "name": "stdout",
     "output_type": "stream",
     "text": [
      "[I 2025-03-02 17:28:34,254] Trial 0 finished with value: -2955.3475798111554 and parameters: {'learning_rate': 0.0005296890581354876, 'n_steps': 837, 'batch_size': 136, 'gae_lambda': 0.9910698427958351, 'ent_coef': 0.010719147093698114, 'vf_coef': 0.8768317486604473, 'clip_range': 0.22373438704392665, 'max_grad_norm': 0.20813790932403967}. Best is trial 7 with value: -2098.291834159794.\n"
     ]
    },
    {
     "data": {
      "application/vnd.jupyter.widget-view+json": {
       "model_id": "9bb15b57e67d4e05841bb5136a340fd0",
       "version_major": 2,
       "version_minor": 0
      },
      "text/plain": [
       "seeds:   0%|          | 0/30 [00:00<?, ?it/s]"
      ]
     },
     "metadata": {},
     "output_type": "display_data"
    },
    {
     "data": {
      "application/vnd.jupyter.widget-view+json": {
       "model_id": "e621f2a4a26340079bd141afa729014c",
       "version_major": 2,
       "version_minor": 0
      },
      "text/plain": [
       "Training episodes:   0%|          | 0/3 [00:00<?, ?it/s]"
      ]
     },
     "metadata": {},
     "output_type": "display_data"
    },
    {
     "data": {
      "application/vnd.jupyter.widget-view+json": {
       "model_id": "3852304bba844e5e807d562f74225541",
       "version_major": 2,
       "version_minor": 0
      },
      "text/plain": [
       "Training episodes:   0%|          | 0/3 [00:00<?, ?it/s]"
      ]
     },
     "metadata": {},
     "output_type": "display_data"
    },
    {
     "data": {
      "application/vnd.jupyter.widget-view+json": {
       "model_id": "3729c2c72b18419eb398eeea2eddc22f",
       "version_major": 2,
       "version_minor": 0
      },
      "text/plain": [
       "Training episodes:   0%|          | 0/3 [00:00<?, ?it/s]"
      ]
     },
     "metadata": {},
     "output_type": "display_data"
    },
    {
     "data": {
      "application/vnd.jupyter.widget-view+json": {
       "model_id": "6d38c6b40a794091a02a3edc6184f243",
       "version_major": 2,
       "version_minor": 0
      },
      "text/plain": [
       "Training episodes:   0%|          | 0/3 [00:00<?, ?it/s]"
      ]
     },
     "metadata": {},
     "output_type": "display_data"
    },
    {
     "name": "stdout",
     "output_type": "stream",
     "text": [
      "[I 2025-03-02 17:35:40,308] Trial 1 finished with value: -1700.057099092567 and parameters: {'learning_rate': 0.0007011489237451647, 'n_steps': 110, 'batch_size': 126, 'gae_lambda': 0.975814946939633, 'ent_coef': 0.007393724117954046, 'vf_coef': 0.38431599158866425, 'clip_range': 0.2853699665194148, 'max_grad_norm': 0.9664534187295596}. Best is trial 1 with value: -1700.057099092567.\n"
     ]
    },
    {
     "data": {
      "application/vnd.jupyter.widget-view+json": {
       "model_id": "695dc2dc808a4bcba9ea35ca96352592",
       "version_major": 2,
       "version_minor": 0
      },
      "text/plain": [
       "Training episodes:   0%|          | 0/3 [00:00<?, ?it/s]"
      ]
     },
     "metadata": {},
     "output_type": "display_data"
    },
    {
     "data": {
      "application/vnd.jupyter.widget-view+json": {
       "model_id": "3d1472b653064f938d6f7390652e9fc8",
       "version_major": 2,
       "version_minor": 0
      },
      "text/plain": [
       "Training episodes:   0%|          | 0/3 [00:00<?, ?it/s]"
      ]
     },
     "metadata": {},
     "output_type": "display_data"
    },
    {
     "data": {
      "application/vnd.jupyter.widget-view+json": {
       "model_id": "0b65a4e337824c6a98cda1034cd90fac",
       "version_major": 2,
       "version_minor": 0
      },
      "text/plain": [
       "Training episodes:   0%|          | 0/3 [00:00<?, ?it/s]"
      ]
     },
     "metadata": {},
     "output_type": "display_data"
    },
    {
     "data": {
      "application/vnd.jupyter.widget-view+json": {
       "model_id": "e6aa05d695fb46af99b4ee9b0dc95b4e",
       "version_major": 2,
       "version_minor": 0
      },
      "text/plain": [
       "Training episodes:   0%|          | 0/3 [00:00<?, ?it/s]"
      ]
     },
     "metadata": {},
     "output_type": "display_data"
    },
    {
     "data": {
      "application/vnd.jupyter.widget-view+json": {
       "model_id": "38e1d614229e4d59879a603299948c38",
       "version_major": 2,
       "version_minor": 0
      },
      "text/plain": [
       "Training episodes:   0%|          | 0/3 [00:00<?, ?it/s]"
      ]
     },
     "metadata": {},
     "output_type": "display_data"
    },
    {
     "data": {
      "application/vnd.jupyter.widget-view+json": {
       "model_id": "b243702fc8b146b498432baed0b7b3cf",
       "version_major": 2,
       "version_minor": 0
      },
      "text/plain": [
       "Training episodes:   0%|          | 0/3 [00:00<?, ?it/s]"
      ]
     },
     "metadata": {},
     "output_type": "display_data"
    },
    {
     "data": {
      "application/vnd.jupyter.widget-view+json": {
       "model_id": "6e793fe705e04ee5b062373b3512ddb9",
       "version_major": 2,
       "version_minor": 0
      },
      "text/plain": [
       "Training episodes:   0%|          | 0/3 [00:00<?, ?it/s]"
      ]
     },
     "metadata": {},
     "output_type": "display_data"
    },
    {
     "data": {
      "application/vnd.jupyter.widget-view+json": {
       "model_id": "52465ec50793447183485d41fa14d74d",
       "version_major": 2,
       "version_minor": 0
      },
      "text/plain": [
       "Training episodes:   0%|          | 0/3 [00:00<?, ?it/s]"
      ]
     },
     "metadata": {},
     "output_type": "display_data"
    },
    {
     "name": "stdout",
     "output_type": "stream",
     "text": [
      "[I 2025-03-02 17:50:37,020] Trial 5 finished with value: -2033.1621546715191 and parameters: {'learning_rate': 6.0784953187579085e-05, 'n_steps': 849, 'batch_size': 97, 'gae_lambda': 0.8044523714500413, 'ent_coef': 0.019571529146181755, 'vf_coef': 0.5506906923355321, 'clip_range': 0.1679521310259069, 'max_grad_norm': 0.18738440380660487}. Best is trial 1 with value: -1700.057099092567.\n"
     ]
    },
    {
     "data": {
      "application/vnd.jupyter.widget-view+json": {
       "model_id": "ca8472b8efb74b758807c4968dabffab",
       "version_major": 2,
       "version_minor": 0
      },
      "text/plain": [
       "seeds:   0%|          | 0/30 [00:00<?, ?it/s]"
      ]
     },
     "metadata": {},
     "output_type": "display_data"
    },
    {
     "data": {
      "application/vnd.jupyter.widget-view+json": {
       "model_id": "eef3f69cd374401eb265495abc3b9c65",
       "version_major": 2,
       "version_minor": 0
      },
      "text/plain": [
       "Training episodes:   0%|          | 0/3 [00:00<?, ?it/s]"
      ]
     },
     "metadata": {},
     "output_type": "display_data"
    },
    {
     "data": {
      "application/vnd.jupyter.widget-view+json": {
       "model_id": "9c797847c4b749debd4eb7137f5bc13b",
       "version_major": 2,
       "version_minor": 0
      },
      "text/plain": [
       "Training episodes:   0%|          | 0/3 [00:00<?, ?it/s]"
      ]
     },
     "metadata": {},
     "output_type": "display_data"
    },
    {
     "data": {
      "application/vnd.jupyter.widget-view+json": {
       "model_id": "dbf1ae33f4ce46c1983a90ec1bc6331d",
       "version_major": 2,
       "version_minor": 0
      },
      "text/plain": [
       "Training episodes:   0%|          | 0/3 [00:00<?, ?it/s]"
      ]
     },
     "metadata": {},
     "output_type": "display_data"
    },
    {
     "data": {
      "application/vnd.jupyter.widget-view+json": {
       "model_id": "643d0b48904046ec8b890929cc8a77f5",
       "version_major": 2,
       "version_minor": 0
      },
      "text/plain": [
       "Training episodes:   0%|          | 0/3 [00:00<?, ?it/s]"
      ]
     },
     "metadata": {},
     "output_type": "display_data"
    },
    {
     "data": {
      "application/vnd.jupyter.widget-view+json": {
       "model_id": "809ccd91631542c3aa1c268b31a15377",
       "version_major": 2,
       "version_minor": 0
      },
      "text/plain": [
       "Training episodes:   0%|          | 0/3 [00:00<?, ?it/s]"
      ]
     },
     "metadata": {},
     "output_type": "display_data"
    },
    {
     "data": {
      "application/vnd.jupyter.widget-view+json": {
       "model_id": "757d56895e1e4f8788681cfb4a7ff454",
       "version_major": 2,
       "version_minor": 0
      },
      "text/plain": [
       "Training episodes:   0%|          | 0/3 [00:00<?, ?it/s]"
      ]
     },
     "metadata": {},
     "output_type": "display_data"
    },
    {
     "data": {
      "application/vnd.jupyter.widget-view+json": {
       "model_id": "2332a80c8b88477db9d362f397e2a189",
       "version_major": 2,
       "version_minor": 0
      },
      "text/plain": [
       "Training episodes:   0%|          | 0/3 [00:00<?, ?it/s]"
      ]
     },
     "metadata": {},
     "output_type": "display_data"
    },
    {
     "data": {
      "application/vnd.jupyter.widget-view+json": {
       "model_id": "e1fbfb10db30478f9fff0e6d27d352ff",
       "version_major": 2,
       "version_minor": 0
      },
      "text/plain": [
       "Training episodes:   0%|          | 0/3 [00:00<?, ?it/s]"
      ]
     },
     "metadata": {},
     "output_type": "display_data"
    },
    {
     "data": {
      "application/vnd.jupyter.widget-view+json": {
       "model_id": "8ce30f0b30fa46d3b7c3230ab91b11ad",
       "version_major": 2,
       "version_minor": 0
      },
      "text/plain": [
       "seeds:   0%|          | 0/30 [00:00<?, ?it/s]"
      ]
     },
     "metadata": {},
     "output_type": "display_data"
    },
    {
     "data": {
      "application/vnd.jupyter.widget-view+json": {
       "model_id": "ed644aa5ef9b4cbd90969c9df54489dd",
       "version_major": 2,
       "version_minor": 0
      },
      "text/plain": [
       "Training episodes:   0%|          | 0/3 [00:00<?, ?it/s]"
      ]
     },
     "metadata": {},
     "output_type": "display_data"
    },
    {
     "data": {
      "application/vnd.jupyter.widget-view+json": {
       "model_id": "44e7679025b247c3aef72f73b1139f89",
       "version_major": 2,
       "version_minor": 0
      },
      "text/plain": [
       "Training episodes:   0%|          | 0/3 [00:00<?, ?it/s]"
      ]
     },
     "metadata": {},
     "output_type": "display_data"
    },
    {
     "data": {
      "application/vnd.jupyter.widget-view+json": {
       "model_id": "d5a20663ed4646b4b3417d97d7c64065",
       "version_major": 2,
       "version_minor": 0
      },
      "text/plain": [
       "seeds:   0%|          | 0/30 [00:00<?, ?it/s]"
      ]
     },
     "metadata": {},
     "output_type": "display_data"
    },
    {
     "data": {
      "application/vnd.jupyter.widget-view+json": {
       "model_id": "4039a32bee5d4cc5bc55d45f0f652226",
       "version_major": 2,
       "version_minor": 0
      },
      "text/plain": [
       "seeds:   0%|          | 0/30 [00:00<?, ?it/s]"
      ]
     },
     "metadata": {},
     "output_type": "display_data"
    },
    {
     "name": "stdout",
     "output_type": "stream",
     "text": [
      "[I 2025-03-02 18:09:38,317] Trial 3 finished with value: -1711.7098679725007 and parameters: {'learning_rate': 0.0009007976399841046, 'n_steps': 136, 'batch_size': 90, 'gae_lambda': 0.844792149791187, 'ent_coef': 0.01224290712008484, 'vf_coef': 0.18610150501175993, 'clip_range': 0.1614964151682085, 'max_grad_norm': 0.11770872148087524}. Best is trial 1 with value: -1700.057099092567.\n"
     ]
    },
    {
     "data": {
      "application/vnd.jupyter.widget-view+json": {
       "model_id": "fe02fdf6acaf4e0c8c3cc9410b4ff1a6",
       "version_major": 2,
       "version_minor": 0
      },
      "text/plain": [
       "Training episodes:   0%|          | 0/3 [00:00<?, ?it/s]"
      ]
     },
     "metadata": {},
     "output_type": "display_data"
    },
    {
     "data": {
      "application/vnd.jupyter.widget-view+json": {
       "model_id": "a5fdc97b36a7471e95961aed850da68b",
       "version_major": 2,
       "version_minor": 0
      },
      "text/plain": [
       "Training episodes:   0%|          | 0/3 [00:00<?, ?it/s]"
      ]
     },
     "metadata": {},
     "output_type": "display_data"
    },
    {
     "name": "stdout",
     "output_type": "stream",
     "text": [
      "[I 2025-03-02 18:17:18,912] Trial 4 finished with value: -159.381109133015 and parameters: {'learning_rate': 0.0003697306188106052, 'n_steps': 387, 'batch_size': 66, 'gae_lambda': 0.9864871207861574, 'ent_coef': 0.00573213020170553, 'vf_coef': 0.11751975297839251, 'clip_range': 0.15589429178226066, 'max_grad_norm': 0.15605445238155394}. Best is trial 4 with value: -159.381109133015.\n"
     ]
    },
    {
     "data": {
      "application/vnd.jupyter.widget-view+json": {
       "model_id": "0d319f9d88044b05811fff1a3caf77d8",
       "version_major": 2,
       "version_minor": 0
      },
      "text/plain": [
       "Training episodes:   0%|          | 0/3 [00:00<?, ?it/s]"
      ]
     },
     "metadata": {},
     "output_type": "display_data"
    },
    {
     "data": {
      "application/vnd.jupyter.widget-view+json": {
       "model_id": "39f50101f3d64a5bb0c181a571282939",
       "version_major": 2,
       "version_minor": 0
      },
      "text/plain": [
       "Training episodes:   0%|          | 0/3 [00:00<?, ?it/s]"
      ]
     },
     "metadata": {},
     "output_type": "display_data"
    },
    {
     "name": "stdout",
     "output_type": "stream",
     "text": [
      "[I 2025-03-02 18:20:00,794] Trial 2 finished with value: -9682.97743724463 and parameters: {'learning_rate': 3.79369352402382e-05, 'n_steps': 57, 'batch_size': 88, 'gae_lambda': 0.9900708949909685, 'ent_coef': 0.003357943505417913, 'vf_coef': 0.877113536064356, 'clip_range': 0.25255524408202423, 'max_grad_norm': 0.6601193001281527}. Best is trial 4 with value: -159.381109133015.\n",
      "[I 2025-03-02 18:20:09,479] Trial 6 finished with value: -425.34065364470206 and parameters: {'learning_rate': 7.923360508186175e-05, 'n_steps': 116, 'batch_size': 68, 'gae_lambda': 0.8927862123909321, 'ent_coef': 0.0069990692116141395, 'vf_coef': 0.1658496559602054, 'clip_range': 0.22477209427901212, 'max_grad_norm': 0.2585568364327615}. Best is trial 4 with value: -159.381109133015.\n"
     ]
    },
    {
     "data": {
      "application/vnd.jupyter.widget-view+json": {
       "model_id": "0f5fd4670aad4c40b9ca442a58ee3bcc",
       "version_major": 2,
       "version_minor": 0
      },
      "text/plain": [
       "Training episodes:   0%|          | 0/3 [00:00<?, ?it/s]"
      ]
     },
     "metadata": {},
     "output_type": "display_data"
    },
    {
     "data": {
      "application/vnd.jupyter.widget-view+json": {
       "model_id": "aee35be7a8dd472aaaf81ad525ca0ced",
       "version_major": 2,
       "version_minor": 0
      },
      "text/plain": [
       "Training episodes:   0%|          | 0/3 [00:00<?, ?it/s]"
      ]
     },
     "metadata": {},
     "output_type": "display_data"
    },
    {
     "data": {
      "application/vnd.jupyter.widget-view+json": {
       "model_id": "6422ebe194f94064bff2332a82f57328",
       "version_major": 2,
       "version_minor": 0
      },
      "text/plain": [
       "Training episodes:   0%|          | 0/3 [00:00<?, ?it/s]"
      ]
     },
     "metadata": {},
     "output_type": "display_data"
    },
    {
     "data": {
      "application/vnd.jupyter.widget-view+json": {
       "model_id": "2fd8bb8669a447708ed7f54285779454",
       "version_major": 2,
       "version_minor": 0
      },
      "text/plain": [
       "Training episodes:   0%|          | 0/3 [00:00<?, ?it/s]"
      ]
     },
     "metadata": {},
     "output_type": "display_data"
    },
    {
     "data": {
      "application/vnd.jupyter.widget-view+json": {
       "model_id": "81e6964d2c4d4ef881879995c7281e9a",
       "version_major": 2,
       "version_minor": 0
      },
      "text/plain": [
       "Training episodes:   0%|          | 0/3 [00:00<?, ?it/s]"
      ]
     },
     "metadata": {},
     "output_type": "display_data"
    },
    {
     "data": {
      "application/vnd.jupyter.widget-view+json": {
       "model_id": "ef22db672230451da444abbcd25110ea",
       "version_major": 2,
       "version_minor": 0
      },
      "text/plain": [
       "Training episodes:   0%|          | 0/3 [00:00<?, ?it/s]"
      ]
     },
     "metadata": {},
     "output_type": "display_data"
    },
    {
     "data": {
      "application/vnd.jupyter.widget-view+json": {
       "model_id": "52962a110bc444c8a8713ad8ff27f4bc",
       "version_major": 2,
       "version_minor": 0
      },
      "text/plain": [
       "Training episodes:   0%|          | 0/3 [00:00<?, ?it/s]"
      ]
     },
     "metadata": {},
     "output_type": "display_data"
    },
    {
     "data": {
      "application/vnd.jupyter.widget-view+json": {
       "model_id": "cb71411ad57947d79457d46b7f485b35",
       "version_major": 2,
       "version_minor": 0
      },
      "text/plain": [
       "Training episodes:   0%|          | 0/3 [00:00<?, ?it/s]"
      ]
     },
     "metadata": {},
     "output_type": "display_data"
    },
    {
     "data": {
      "application/vnd.jupyter.widget-view+json": {
       "model_id": "6a3a944923204b26879f75457b0629fb",
       "version_major": 2,
       "version_minor": 0
      },
      "text/plain": [
       "Training episodes:   0%|          | 0/3 [00:00<?, ?it/s]"
      ]
     },
     "metadata": {},
     "output_type": "display_data"
    },
    {
     "data": {
      "application/vnd.jupyter.widget-view+json": {
       "model_id": "5c4ebd4f82134338bb612af9a0dceeb3",
       "version_major": 2,
       "version_minor": 0
      },
      "text/plain": [
       "Training episodes:   0%|          | 0/3 [00:00<?, ?it/s]"
      ]
     },
     "metadata": {},
     "output_type": "display_data"
    },
    {
     "data": {
      "application/vnd.jupyter.widget-view+json": {
       "model_id": "968f417b0be94d1faa8cde41ad32c78f",
       "version_major": 2,
       "version_minor": 0
      },
      "text/plain": [
       "Training episodes:   0%|          | 0/3 [00:00<?, ?it/s]"
      ]
     },
     "metadata": {},
     "output_type": "display_data"
    },
    {
     "data": {
      "application/vnd.jupyter.widget-view+json": {
       "model_id": "2c53533c5ddf43f38679a9b4a8184216",
       "version_major": 2,
       "version_minor": 0
      },
      "text/plain": [
       "Training episodes:   0%|          | 0/3 [00:00<?, ?it/s]"
      ]
     },
     "metadata": {},
     "output_type": "display_data"
    },
    {
     "data": {
      "application/vnd.jupyter.widget-view+json": {
       "model_id": "ef6edaafa4214e68966c3ccf92c38c18",
       "version_major": 2,
       "version_minor": 0
      },
      "text/plain": [
       "Training episodes:   0%|          | 0/3 [00:00<?, ?it/s]"
      ]
     },
     "metadata": {},
     "output_type": "display_data"
    },
    {
     "data": {
      "application/vnd.jupyter.widget-view+json": {
       "model_id": "be375b50ae754c9494e590bc68e03013",
       "version_major": 2,
       "version_minor": 0
      },
      "text/plain": [
       "Training episodes:   0%|          | 0/3 [00:00<?, ?it/s]"
      ]
     },
     "metadata": {},
     "output_type": "display_data"
    },
    {
     "data": {
      "application/vnd.jupyter.widget-view+json": {
       "model_id": "5a25e516329647dc927faf29e5bb3a9c",
       "version_major": 2,
       "version_minor": 0
      },
      "text/plain": [
       "Training episodes:   0%|          | 0/3 [00:00<?, ?it/s]"
      ]
     },
     "metadata": {},
     "output_type": "display_data"
    },
    {
     "data": {
      "application/vnd.jupyter.widget-view+json": {
       "model_id": "9bff62f8dd364b72afab080526fe4b6e",
       "version_major": 2,
       "version_minor": 0
      },
      "text/plain": [
       "Training episodes:   0%|          | 0/3 [00:00<?, ?it/s]"
      ]
     },
     "metadata": {},
     "output_type": "display_data"
    },
    {
     "data": {
      "application/vnd.jupyter.widget-view+json": {
       "model_id": "f0564b1b9b434667acf13cda02b39094",
       "version_major": 2,
       "version_minor": 0
      },
      "text/plain": [
       "Training episodes:   0%|          | 0/3 [00:00<?, ?it/s]"
      ]
     },
     "metadata": {},
     "output_type": "display_data"
    },
    {
     "data": {
      "application/vnd.jupyter.widget-view+json": {
       "model_id": "37270be165484126926519157c3a6552",
       "version_major": 2,
       "version_minor": 0
      },
      "text/plain": [
       "Training episodes:   0%|          | 0/3 [00:00<?, ?it/s]"
      ]
     },
     "metadata": {},
     "output_type": "display_data"
    },
    {
     "data": {
      "application/vnd.jupyter.widget-view+json": {
       "model_id": "fb2d29be66b2410a9c3ff0cb0d1d9c83",
       "version_major": 2,
       "version_minor": 0
      },
      "text/plain": [
       "Training episodes:   0%|          | 0/3 [00:00<?, ?it/s]"
      ]
     },
     "metadata": {},
     "output_type": "display_data"
    },
    {
     "data": {
      "application/vnd.jupyter.widget-view+json": {
       "model_id": "935263ebb5b247079f6510012050051d",
       "version_major": 2,
       "version_minor": 0
      },
      "text/plain": [
       "Training episodes:   0%|          | 0/3 [00:00<?, ?it/s]"
      ]
     },
     "metadata": {},
     "output_type": "display_data"
    },
    {
     "data": {
      "application/vnd.jupyter.widget-view+json": {
       "model_id": "f9192ed67b2744859ade307c64827b26",
       "version_major": 2,
       "version_minor": 0
      },
      "text/plain": [
       "Training episodes:   0%|          | 0/3 [00:00<?, ?it/s]"
      ]
     },
     "metadata": {},
     "output_type": "display_data"
    },
    {
     "data": {
      "application/vnd.jupyter.widget-view+json": {
       "model_id": "75b336529b3e4f31aa4a2eba8be0a444",
       "version_major": 2,
       "version_minor": 0
      },
      "text/plain": [
       "Training episodes:   0%|          | 0/3 [00:00<?, ?it/s]"
      ]
     },
     "metadata": {},
     "output_type": "display_data"
    },
    {
     "data": {
      "application/vnd.jupyter.widget-view+json": {
       "model_id": "b7b425976e374bb4953b593279af3ad6",
       "version_major": 2,
       "version_minor": 0
      },
      "text/plain": [
       "Training episodes:   0%|          | 0/3 [00:00<?, ?it/s]"
      ]
     },
     "metadata": {},
     "output_type": "display_data"
    },
    {
     "data": {
      "application/vnd.jupyter.widget-view+json": {
       "model_id": "24ba335f6ff24b43928688a2f78e6976",
       "version_major": 2,
       "version_minor": 0
      },
      "text/plain": [
       "Training episodes:   0%|          | 0/3 [00:00<?, ?it/s]"
      ]
     },
     "metadata": {},
     "output_type": "display_data"
    },
    {
     "data": {
      "application/vnd.jupyter.widget-view+json": {
       "model_id": "b5b74b1d5253486bba9db8cbc626b8c8",
       "version_major": 2,
       "version_minor": 0
      },
      "text/plain": [
       "Training episodes:   0%|          | 0/3 [00:00<?, ?it/s]"
      ]
     },
     "metadata": {},
     "output_type": "display_data"
    },
    {
     "data": {
      "application/vnd.jupyter.widget-view+json": {
       "model_id": "50c1b29f886a41b19d1ddae8113088ef",
       "version_major": 2,
       "version_minor": 0
      },
      "text/plain": [
       "Training episodes:   0%|          | 0/3 [00:00<?, ?it/s]"
      ]
     },
     "metadata": {},
     "output_type": "display_data"
    },
    {
     "data": {
      "application/vnd.jupyter.widget-view+json": {
       "model_id": "77539c1d42214cf99eee4d393e362f83",
       "version_major": 2,
       "version_minor": 0
      },
      "text/plain": [
       "Training episodes:   0%|          | 0/3 [00:00<?, ?it/s]"
      ]
     },
     "metadata": {},
     "output_type": "display_data"
    },
    {
     "data": {
      "application/vnd.jupyter.widget-view+json": {
       "model_id": "3f298d77a0a745eea942d29567733dfc",
       "version_major": 2,
       "version_minor": 0
      },
      "text/plain": [
       "Training episodes:   0%|          | 0/3 [00:00<?, ?it/s]"
      ]
     },
     "metadata": {},
     "output_type": "display_data"
    },
    {
     "data": {
      "application/vnd.jupyter.widget-view+json": {
       "model_id": "9471bdc6a81e4846af695fef560a3127",
       "version_major": 2,
       "version_minor": 0
      },
      "text/plain": [
       "Training episodes:   0%|          | 0/3 [00:00<?, ?it/s]"
      ]
     },
     "metadata": {},
     "output_type": "display_data"
    },
    {
     "data": {
      "application/vnd.jupyter.widget-view+json": {
       "model_id": "b5c1b80d393c460e8d77ffcd666e62d5",
       "version_major": 2,
       "version_minor": 0
      },
      "text/plain": [
       "Training episodes:   0%|          | 0/3 [00:00<?, ?it/s]"
      ]
     },
     "metadata": {},
     "output_type": "display_data"
    },
    {
     "data": {
      "application/vnd.jupyter.widget-view+json": {
       "model_id": "46d8ad626d284f2aab24b1bf4a925cb9",
       "version_major": 2,
       "version_minor": 0
      },
      "text/plain": [
       "Training episodes:   0%|          | 0/3 [00:00<?, ?it/s]"
      ]
     },
     "metadata": {},
     "output_type": "display_data"
    },
    {
     "data": {
      "application/vnd.jupyter.widget-view+json": {
       "model_id": "15d8e23d30c34152beeb26cf2fd95f1c",
       "version_major": 2,
       "version_minor": 0
      },
      "text/plain": [
       "Training episodes:   0%|          | 0/3 [00:00<?, ?it/s]"
      ]
     },
     "metadata": {},
     "output_type": "display_data"
    },
    {
     "data": {
      "application/vnd.jupyter.widget-view+json": {
       "model_id": "c53705e315d2468c9594d4cc4232ba6f",
       "version_major": 2,
       "version_minor": 0
      },
      "text/plain": [
       "Training episodes:   0%|          | 0/3 [00:00<?, ?it/s]"
      ]
     },
     "metadata": {},
     "output_type": "display_data"
    },
    {
     "data": {
      "application/vnd.jupyter.widget-view+json": {
       "model_id": "60c54920ec3a47eb8edc36dba843e996",
       "version_major": 2,
       "version_minor": 0
      },
      "text/plain": [
       "seeds:   0%|          | 0/30 [00:00<?, ?it/s]"
      ]
     },
     "metadata": {},
     "output_type": "display_data"
    },
    {
     "data": {
      "application/vnd.jupyter.widget-view+json": {
       "model_id": "c0be26c457c34c74a5391dbab8c4823f",
       "version_major": 2,
       "version_minor": 0
      },
      "text/plain": [
       "Training episodes:   0%|          | 0/3 [00:00<?, ?it/s]"
      ]
     },
     "metadata": {},
     "output_type": "display_data"
    },
    {
     "name": "stdout",
     "output_type": "stream",
     "text": [
      "[I 2025-03-02 18:47:05,857] Trial 9 finished with value: -1357.1734271638243 and parameters: {'learning_rate': 0.0005296812024818421, 'n_steps': 95, 'batch_size': 108, 'gae_lambda': 0.9898635510122622, 'ent_coef': 0.0140331560907602, 'vf_coef': 0.5109813998274576, 'clip_range': 0.214744327351942, 'max_grad_norm': 0.6180647245332661}. Best is trial 4 with value: -159.381109133015.\n"
     ]
    },
    {
     "data": {
      "application/vnd.jupyter.widget-view+json": {
       "model_id": "67c180e4be124801ac1f89cf3ad21e89",
       "version_major": 2,
       "version_minor": 0
      },
      "text/plain": [
       "Training episodes:   0%|          | 0/3 [00:00<?, ?it/s]"
      ]
     },
     "metadata": {},
     "output_type": "display_data"
    },
    {
     "data": {
      "application/vnd.jupyter.widget-view+json": {
       "model_id": "be77b1f99aae4710bdcde1c2612ad63e",
       "version_major": 2,
       "version_minor": 0
      },
      "text/plain": [
       "Training episodes:   0%|          | 0/3 [00:00<?, ?it/s]"
      ]
     },
     "metadata": {},
     "output_type": "display_data"
    },
    {
     "data": {
      "application/vnd.jupyter.widget-view+json": {
       "model_id": "b7d6c4ecd3b94dfea13dcc3b5d0d1e39",
       "version_major": 2,
       "version_minor": 0
      },
      "text/plain": [
       "Training episodes:   0%|          | 0/3 [00:00<?, ?it/s]"
      ]
     },
     "metadata": {},
     "output_type": "display_data"
    },
    {
     "data": {
      "application/vnd.jupyter.widget-view+json": {
       "model_id": "a73f6c68dcd54725a45d817ea670bc7e",
       "version_major": 2,
       "version_minor": 0
      },
      "text/plain": [
       "Training episodes:   0%|          | 0/3 [00:00<?, ?it/s]"
      ]
     },
     "metadata": {},
     "output_type": "display_data"
    },
    {
     "data": {
      "application/vnd.jupyter.widget-view+json": {
       "model_id": "8bdd9446e4494d7ebf4f99f8d437d781",
       "version_major": 2,
       "version_minor": 0
      },
      "text/plain": [
       "Training episodes:   0%|          | 0/3 [00:00<?, ?it/s]"
      ]
     },
     "metadata": {},
     "output_type": "display_data"
    },
    {
     "data": {
      "application/vnd.jupyter.widget-view+json": {
       "model_id": "52cbd93a82d74c63856374b3f2b27fd9",
       "version_major": 2,
       "version_minor": 0
      },
      "text/plain": [
       "Training episodes:   0%|          | 0/3 [00:00<?, ?it/s]"
      ]
     },
     "metadata": {},
     "output_type": "display_data"
    },
    {
     "data": {
      "application/vnd.jupyter.widget-view+json": {
       "model_id": "3d103c3d070b4aa9a920df2a042cb0c8",
       "version_major": 2,
       "version_minor": 0
      },
      "text/plain": [
       "Training episodes:   0%|          | 0/3 [00:00<?, ?it/s]"
      ]
     },
     "metadata": {},
     "output_type": "display_data"
    },
    {
     "data": {
      "application/vnd.jupyter.widget-view+json": {
       "model_id": "e09e5fe0d8064d498710c6dbd582b419",
       "version_major": 2,
       "version_minor": 0
      },
      "text/plain": [
       "Training episodes:   0%|          | 0/3 [00:00<?, ?it/s]"
      ]
     },
     "metadata": {},
     "output_type": "display_data"
    },
    {
     "data": {
      "application/vnd.jupyter.widget-view+json": {
       "model_id": "eadbff99d3684c2f9265fbe17aa12679",
       "version_major": 2,
       "version_minor": 0
      },
      "text/plain": [
       "Training episodes:   0%|          | 0/3 [00:00<?, ?it/s]"
      ]
     },
     "metadata": {},
     "output_type": "display_data"
    },
    {
     "data": {
      "application/vnd.jupyter.widget-view+json": {
       "model_id": "afbb7e02e30348f0ad123e168f27fbad",
       "version_major": 2,
       "version_minor": 0
      },
      "text/plain": [
       "Training episodes:   0%|          | 0/3 [00:00<?, ?it/s]"
      ]
     },
     "metadata": {},
     "output_type": "display_data"
    },
    {
     "data": {
      "application/vnd.jupyter.widget-view+json": {
       "model_id": "328b43c853924d749fe58f5ca4bf0ecf",
       "version_major": 2,
       "version_minor": 0
      },
      "text/plain": [
       "Training episodes:   0%|          | 0/3 [00:00<?, ?it/s]"
      ]
     },
     "metadata": {},
     "output_type": "display_data"
    },
    {
     "data": {
      "application/vnd.jupyter.widget-view+json": {
       "model_id": "f990827dbc7e4cf1aa1859f937a85d51",
       "version_major": 2,
       "version_minor": 0
      },
      "text/plain": [
       "seeds:   0%|          | 0/30 [00:00<?, ?it/s]"
      ]
     },
     "metadata": {},
     "output_type": "display_data"
    },
    {
     "name": "stdout",
     "output_type": "stream",
     "text": [
      "[I 2025-03-02 18:59:07,987] Trial 8 finished with value: -2612.580105158454 and parameters: {'learning_rate': 0.00028715568166124756, 'n_steps': 46, 'batch_size': 41, 'gae_lambda': 0.8346685362419539, 'ent_coef': 0.0006254583421351811, 'vf_coef': 0.3988437835309965, 'clip_range': 0.10845180788992524, 'max_grad_norm': 0.3661814619306646}. Best is trial 4 with value: -159.381109133015.\n"
     ]
    },
    {
     "data": {
      "application/vnd.jupyter.widget-view+json": {
       "model_id": "44a3abcdc85a416c8aa45d83d71ff7a5",
       "version_major": 2,
       "version_minor": 0
      },
      "text/plain": [
       "seeds:   0%|          | 0/30 [00:00<?, ?it/s]"
      ]
     },
     "metadata": {},
     "output_type": "display_data"
    },
    {
     "data": {
      "application/vnd.jupyter.widget-view+json": {
       "model_id": "6618749402da44808d6a94f5aceea3ea",
       "version_major": 2,
       "version_minor": 0
      },
      "text/plain": [
       "Training episodes:   0%|          | 0/3 [00:00<?, ?it/s]"
      ]
     },
     "metadata": {},
     "output_type": "display_data"
    },
    {
     "data": {
      "application/vnd.jupyter.widget-view+json": {
       "model_id": "d60aba9d0c1e485e98db1cc627d624ee",
       "version_major": 2,
       "version_minor": 0
      },
      "text/plain": [
       "Training episodes:   0%|          | 0/3 [00:00<?, ?it/s]"
      ]
     },
     "metadata": {},
     "output_type": "display_data"
    },
    {
     "data": {
      "application/vnd.jupyter.widget-view+json": {
       "model_id": "43259fdc29d049eda7fc55852af5e1e2",
       "version_major": 2,
       "version_minor": 0
      },
      "text/plain": [
       "Training episodes:   0%|          | 0/3 [00:00<?, ?it/s]"
      ]
     },
     "metadata": {},
     "output_type": "display_data"
    },
    {
     "data": {
      "application/vnd.jupyter.widget-view+json": {
       "model_id": "550050fbb3a9402ba3c34bf2afdffd0d",
       "version_major": 2,
       "version_minor": 0
      },
      "text/plain": [
       "Training episodes:   0%|          | 0/3 [00:00<?, ?it/s]"
      ]
     },
     "metadata": {},
     "output_type": "display_data"
    },
    {
     "data": {
      "application/vnd.jupyter.widget-view+json": {
       "model_id": "18d5e41ef14a4ca5bdb19b99e054115a",
       "version_major": 2,
       "version_minor": 0
      },
      "text/plain": [
       "Training episodes:   0%|          | 0/3 [00:00<?, ?it/s]"
      ]
     },
     "metadata": {},
     "output_type": "display_data"
    },
    {
     "data": {
      "application/vnd.jupyter.widget-view+json": {
       "model_id": "12c3d54112a047f2ae933063a795e0e0",
       "version_major": 2,
       "version_minor": 0
      },
      "text/plain": [
       "Training episodes:   0%|          | 0/3 [00:00<?, ?it/s]"
      ]
     },
     "metadata": {},
     "output_type": "display_data"
    },
    {
     "data": {
      "application/vnd.jupyter.widget-view+json": {
       "model_id": "77016c05d9f04db08a0fe4cdc008509d",
       "version_major": 2,
       "version_minor": 0
      },
      "text/plain": [
       "Training episodes:   0%|          | 0/3 [00:00<?, ?it/s]"
      ]
     },
     "metadata": {},
     "output_type": "display_data"
    },
    {
     "data": {
      "application/vnd.jupyter.widget-view+json": {
       "model_id": "bdc16537025f4766982b5985649432ce",
       "version_major": 2,
       "version_minor": 0
      },
      "text/plain": [
       "Training episodes:   0%|          | 0/3 [00:00<?, ?it/s]"
      ]
     },
     "metadata": {},
     "output_type": "display_data"
    },
    {
     "data": {
      "application/vnd.jupyter.widget-view+json": {
       "model_id": "f0add2762fd84187b65ecb2c6d3e232c",
       "version_major": 2,
       "version_minor": 0
      },
      "text/plain": [
       "Training episodes:   0%|          | 0/3 [00:00<?, ?it/s]"
      ]
     },
     "metadata": {},
     "output_type": "display_data"
    },
    {
     "data": {
      "application/vnd.jupyter.widget-view+json": {
       "model_id": "d25d56dc6b274dc3b340dfb64b94a0dc",
       "version_major": 2,
       "version_minor": 0
      },
      "text/plain": [
       "Training episodes:   0%|          | 0/3 [00:00<?, ?it/s]"
      ]
     },
     "metadata": {},
     "output_type": "display_data"
    },
    {
     "data": {
      "application/vnd.jupyter.widget-view+json": {
       "model_id": "9860fad50ae94184a40c5ecd74b419c8",
       "version_major": 2,
       "version_minor": 0
      },
      "text/plain": [
       "Training episodes:   0%|          | 0/3 [00:00<?, ?it/s]"
      ]
     },
     "metadata": {},
     "output_type": "display_data"
    },
    {
     "data": {
      "application/vnd.jupyter.widget-view+json": {
       "model_id": "c95a0b94db7942c1884327192f0ee741",
       "version_major": 2,
       "version_minor": 0
      },
      "text/plain": [
       "Training episodes:   0%|          | 0/3 [00:00<?, ?it/s]"
      ]
     },
     "metadata": {},
     "output_type": "display_data"
    },
    {
     "data": {
      "application/vnd.jupyter.widget-view+json": {
       "model_id": "be19be0c075844a6bd4681c6c6943711",
       "version_major": 2,
       "version_minor": 0
      },
      "text/plain": [
       "Training episodes:   0%|          | 0/3 [00:00<?, ?it/s]"
      ]
     },
     "metadata": {},
     "output_type": "display_data"
    },
    {
     "data": {
      "application/vnd.jupyter.widget-view+json": {
       "model_id": "ccf1930803d547e59829ca753f49d892",
       "version_major": 2,
       "version_minor": 0
      },
      "text/plain": [
       "Training episodes:   0%|          | 0/3 [00:00<?, ?it/s]"
      ]
     },
     "metadata": {},
     "output_type": "display_data"
    },
    {
     "data": {
      "application/vnd.jupyter.widget-view+json": {
       "model_id": "1479e3e61d7f4a29bf8231a3da6e1b9f",
       "version_major": 2,
       "version_minor": 0
      },
      "text/plain": [
       "Training episodes:   0%|          | 0/3 [00:00<?, ?it/s]"
      ]
     },
     "metadata": {},
     "output_type": "display_data"
    },
    {
     "data": {
      "application/vnd.jupyter.widget-view+json": {
       "model_id": "2caff77c973b484693b28ebe73bd9f08",
       "version_major": 2,
       "version_minor": 0
      },
      "text/plain": [
       "Training episodes:   0%|          | 0/3 [00:00<?, ?it/s]"
      ]
     },
     "metadata": {},
     "output_type": "display_data"
    },
    {
     "data": {
      "application/vnd.jupyter.widget-view+json": {
       "model_id": "44cd579d3639421fa4b3f1d0b1daf6e7",
       "version_major": 2,
       "version_minor": 0
      },
      "text/plain": [
       "Training episodes:   0%|          | 0/3 [00:00<?, ?it/s]"
      ]
     },
     "metadata": {},
     "output_type": "display_data"
    },
    {
     "data": {
      "application/vnd.jupyter.widget-view+json": {
       "model_id": "51917945fbba41c49c330c61f2884787",
       "version_major": 2,
       "version_minor": 0
      },
      "text/plain": [
       "Training episodes:   0%|          | 0/3 [00:00<?, ?it/s]"
      ]
     },
     "metadata": {},
     "output_type": "display_data"
    },
    {
     "data": {
      "application/vnd.jupyter.widget-view+json": {
       "model_id": "228fbb7b65e148149b079fefe673c1f3",
       "version_major": 2,
       "version_minor": 0
      },
      "text/plain": [
       "Training episodes:   0%|          | 0/3 [00:00<?, ?it/s]"
      ]
     },
     "metadata": {},
     "output_type": "display_data"
    },
    {
     "data": {
      "application/vnd.jupyter.widget-view+json": {
       "model_id": "772dce1060a447d4a54db8882c8257be",
       "version_major": 2,
       "version_minor": 0
      },
      "text/plain": [
       "Training episodes:   0%|          | 0/3 [00:00<?, ?it/s]"
      ]
     },
     "metadata": {},
     "output_type": "display_data"
    },
    {
     "data": {
      "application/vnd.jupyter.widget-view+json": {
       "model_id": "97e8021d22ee449e9a79856f8b8c6bdc",
       "version_major": 2,
       "version_minor": 0
      },
      "text/plain": [
       "Training episodes:   0%|          | 0/3 [00:00<?, ?it/s]"
      ]
     },
     "metadata": {},
     "output_type": "display_data"
    },
    {
     "data": {
      "application/vnd.jupyter.widget-view+json": {
       "model_id": "d83733058b22432a9f954662cc87acd3",
       "version_major": 2,
       "version_minor": 0
      },
      "text/plain": [
       "Training episodes:   0%|          | 0/3 [00:00<?, ?it/s]"
      ]
     },
     "metadata": {},
     "output_type": "display_data"
    },
    {
     "data": {
      "application/vnd.jupyter.widget-view+json": {
       "model_id": "c27d9cceece24f32a7cc3914e26f5080",
       "version_major": 2,
       "version_minor": 0
      },
      "text/plain": [
       "Training episodes:   0%|          | 0/3 [00:00<?, ?it/s]"
      ]
     },
     "metadata": {},
     "output_type": "display_data"
    },
    {
     "data": {
      "application/vnd.jupyter.widget-view+json": {
       "model_id": "72a71ff07f8e444fb3ed980ec0b723e4",
       "version_major": 2,
       "version_minor": 0
      },
      "text/plain": [
       "Training episodes:   0%|          | 0/3 [00:00<?, ?it/s]"
      ]
     },
     "metadata": {},
     "output_type": "display_data"
    },
    {
     "data": {
      "application/vnd.jupyter.widget-view+json": {
       "model_id": "571423a40faf414e9786d950b4938585",
       "version_major": 2,
       "version_minor": 0
      },
      "text/plain": [
       "Training episodes:   0%|          | 0/3 [00:00<?, ?it/s]"
      ]
     },
     "metadata": {},
     "output_type": "display_data"
    },
    {
     "data": {
      "application/vnd.jupyter.widget-view+json": {
       "model_id": "77ffff967b4546ad8dc27393bb97c983",
       "version_major": 2,
       "version_minor": 0
      },
      "text/plain": [
       "Training episodes:   0%|          | 0/3 [00:00<?, ?it/s]"
      ]
     },
     "metadata": {},
     "output_type": "display_data"
    },
    {
     "data": {
      "application/vnd.jupyter.widget-view+json": {
       "model_id": "a3f14d7d97414e448043b335913dc57c",
       "version_major": 2,
       "version_minor": 0
      },
      "text/plain": [
       "Training episodes:   0%|          | 0/3 [00:00<?, ?it/s]"
      ]
     },
     "metadata": {},
     "output_type": "display_data"
    },
    {
     "data": {
      "application/vnd.jupyter.widget-view+json": {
       "model_id": "b2e0776cf679400b9d5d50b1d84f14d5",
       "version_major": 2,
       "version_minor": 0
      },
      "text/plain": [
       "Training episodes:   0%|          | 0/3 [00:00<?, ?it/s]"
      ]
     },
     "metadata": {},
     "output_type": "display_data"
    },
    {
     "data": {
      "application/vnd.jupyter.widget-view+json": {
       "model_id": "f1db9873a0d542119f445f59fe0002da",
       "version_major": 2,
       "version_minor": 0
      },
      "text/plain": [
       "Training episodes:   0%|          | 0/3 [00:00<?, ?it/s]"
      ]
     },
     "metadata": {},
     "output_type": "display_data"
    },
    {
     "data": {
      "application/vnd.jupyter.widget-view+json": {
       "model_id": "640520b56b3e4ec99cb32eb8a731f25f",
       "version_major": 2,
       "version_minor": 0
      },
      "text/plain": [
       "Training episodes:   0%|          | 0/3 [00:00<?, ?it/s]"
      ]
     },
     "metadata": {},
     "output_type": "display_data"
    },
    {
     "data": {
      "application/vnd.jupyter.widget-view+json": {
       "model_id": "61cd7eba798f400a8dc84de2c8ba1f8c",
       "version_major": 2,
       "version_minor": 0
      },
      "text/plain": [
       "seeds:   0%|          | 0/30 [00:00<?, ?it/s]"
      ]
     },
     "metadata": {},
     "output_type": "display_data"
    }
   ],
   "source": [
    "# | hide\n",
    "optimized_maskable_ppo_agent = MaskablePPOAgent(\n",
    "    render_mode=\"human\", env_config=ENV_CONFIG, name=\"OptimizedMaskablePPOAgent\"\n",
    ")\n",
    "optimized_maskable_ppo_agent.optimize()\n",
    "\n",
    "if not QUICK_MODE:\n",
    "    optimized_maskable_ppo_agent.export_hyperparameters(\n",
    "        f\"{optimized_maskable_ppo_agent.name}.yaml\"\n",
    "    )\n",
    "\n",
    "optimized_maskable_ppo_agent.train()\n",
    "\n",
    "if not QUICK_MODE:\n",
    "    optimized_maskable_ppo_agent.save_model(\n",
    "        f\"{optimized_maskable_ppo_agent.name}.model\"\n",
    "    )\n",
    "\n",
    "evaluation_data_per_agent[optimized_maskable_ppo_agent.name] = (\n",
    "    optimized_maskable_ppo_agent.evaluate()\n",
    ")"
   ]
  },
  {
   "cell_type": "markdown",
   "metadata": {},
   "source": "### Adding expert knowledge to the masking function making learning more efficient"
  },
  {
   "cell_type": "code",
   "execution_count": null,
   "metadata": {},
   "outputs": [],
   "source": [
    "# | export\n",
    "\n",
    "\n",
    "def is_action_safe(self, action: int) -> bool:\n",
    "    charge_amount = self._charge_amount(action)\n",
    "    target_state_of_charge = self._current_state_of_charge + charge_amount\n",
    "    low, high = self._battery_safe_range\n",
    "    return high > target_state_of_charge > low\n",
    "\n",
    "\n",
    "def expert_knowledge_action_masks(self) -> np.ndarray:\n",
    "    mask = np.array(\n",
    "        [\n",
    "            self._is_action_valid(action) and self.is_action_safe(action)\n",
    "            for action in range(self.action_space.n)\n",
    "        ],\n",
    "        dtype=bool,\n",
    "    )\n",
    "    if not np.any(mask):\n",
    "        mask[len(mask) // 2] = True\n",
    "    return mask"
   ]
  },
  {
   "cell_type": "code",
   "execution_count": null,
   "metadata": {},
   "outputs": [],
   "source": [
    "# | hide\n",
    "# Dynamically overriding action_masks to ElectricityMarketEnv\n",
    "setattr(ElectricityMarketEnv, \"action_masks\", expert_knowledge_action_masks)\n",
    "# Dynamically overriding injection is_action_safe to ElectricityMarketEnv\n",
    "setattr(ElectricityMarketEnv, \"is_action_safe\", is_action_safe)"
   ]
  },
  {
   "cell_type": "markdown",
   "metadata": {},
   "source": [
    "\n",
    "\n",
    "### Evaluation MaskableRandomAgent with Expert Knowledge on ElectricityMarketEnv"
   ]
  },
  {
   "cell_type": "code",
   "execution_count": null,
   "metadata": {},
   "outputs": [
    {
     "data": {
      "application/vnd.jupyter.widget-view+json": {
       "model_id": "08f9da27f7094fcb9d10251c18f5622b",
       "version_major": 2,
       "version_minor": 0
      },
      "text/plain": [
       "seeds:   0%|          | 0/30 [00:00<?, ?it/s]"
      ]
     },
     "metadata": {},
     "output_type": "display_data"
    }
   ],
   "source": [
    "# | hide\n",
    "expert_maskable_random_agent = MaskableRandomAgent(\n",
    "    render_mode=\"human\", env_config=ENV_CONFIG, name=\"ExpertMaskableRandomAgent\"\n",
    ")\n",
    "\n",
    "evaluation_data_per_agent[expert_maskable_random_agent.name] = (\n",
    "    expert_maskable_random_agent.evaluate()\n",
    ")"
   ]
  },
  {
   "cell_type": "markdown",
   "metadata": {},
   "source": "### Evaluation MaskablePPO with default hyperparameters and Expert Knowledge on ElectricityMarketEnv"
  },
  {
   "cell_type": "code",
   "execution_count": null,
   "metadata": {},
   "outputs": [
    {
     "data": {
      "application/vnd.jupyter.widget-view+json": {
       "model_id": "839a662b5860485f944b445dd7e674bc",
       "version_major": 2,
       "version_minor": 0
      },
      "text/plain": [
       "seeds:   0%|          | 0/30 [00:00<?, ?it/s]"
      ]
     },
     "metadata": {},
     "output_type": "display_data"
    },
    {
     "data": {
      "application/vnd.jupyter.widget-view+json": {
       "model_id": "ecc21d2bde884ec48fbc7696a1a6e37b",
       "version_major": 2,
       "version_minor": 0
      },
      "text/plain": [
       "Training episodes:   0%|          | 0/3 [00:00<?, ?it/s]"
      ]
     },
     "metadata": {},
     "output_type": "display_data"
    },
    {
     "data": {
      "application/vnd.jupyter.widget-view+json": {
       "model_id": "2a599ffb86cb4c27949065a0ef080646",
       "version_major": 2,
       "version_minor": 0
      },
      "text/plain": [
       "Training episodes:   0%|          | 0/3 [00:00<?, ?it/s]"
      ]
     },
     "metadata": {},
     "output_type": "display_data"
    },
    {
     "data": {
      "application/vnd.jupyter.widget-view+json": {
       "model_id": "97ed5bf5662a475fa27609e9eb759187",
       "version_major": 2,
       "version_minor": 0
      },
      "text/plain": [
       "Training episodes:   0%|          | 0/3 [00:00<?, ?it/s]"
      ]
     },
     "metadata": {},
     "output_type": "display_data"
    },
    {
     "data": {
      "application/vnd.jupyter.widget-view+json": {
       "model_id": "3f8d086766e149c0a49457b6bda01382",
       "version_major": 2,
       "version_minor": 0
      },
      "text/plain": [
       "Training episodes:   0%|          | 0/3 [00:00<?, ?it/s]"
      ]
     },
     "metadata": {},
     "output_type": "display_data"
    },
    {
     "data": {
      "application/vnd.jupyter.widget-view+json": {
       "model_id": "4af8984bdf2f4bf7919a200b5828aacc",
       "version_major": 2,
       "version_minor": 0
      },
      "text/plain": [
       "Training episodes:   0%|          | 0/3 [00:00<?, ?it/s]"
      ]
     },
     "metadata": {},
     "output_type": "display_data"
    },
    {
     "data": {
      "application/vnd.jupyter.widget-view+json": {
       "model_id": "e6e2d4b49f2645d9bb44d544a7b073f0",
       "version_major": 2,
       "version_minor": 0
      },
      "text/plain": [
       "Training episodes:   0%|          | 0/3 [00:00<?, ?it/s]"
      ]
     },
     "metadata": {},
     "output_type": "display_data"
    },
    {
     "data": {
      "application/vnd.jupyter.widget-view+json": {
       "model_id": "18a6fb800f4546dcb85443dbbf5dfc6b",
       "version_major": 2,
       "version_minor": 0
      },
      "text/plain": [
       "Training episodes:   0%|          | 0/3 [00:00<?, ?it/s]"
      ]
     },
     "metadata": {},
     "output_type": "display_data"
    },
    {
     "data": {
      "application/vnd.jupyter.widget-view+json": {
       "model_id": "05be37fc91d347c78f54c0c9bbe712a2",
       "version_major": 2,
       "version_minor": 0
      },
      "text/plain": [
       "Training episodes:   0%|          | 0/3 [00:00<?, ?it/s]"
      ]
     },
     "metadata": {},
     "output_type": "display_data"
    },
    {
     "data": {
      "application/vnd.jupyter.widget-view+json": {
       "model_id": "c4ced411883e4f0b939b65b89b4e0b9d",
       "version_major": 2,
       "version_minor": 0
      },
      "text/plain": [
       "Training episodes:   0%|          | 0/3 [00:00<?, ?it/s]"
      ]
     },
     "metadata": {},
     "output_type": "display_data"
    },
    {
     "data": {
      "application/vnd.jupyter.widget-view+json": {
       "model_id": "9f5ab0b9d2a443e79d3da49693de1981",
       "version_major": 2,
       "version_minor": 0
      },
      "text/plain": [
       "Training episodes:   0%|          | 0/3 [00:00<?, ?it/s]"
      ]
     },
     "metadata": {},
     "output_type": "display_data"
    },
    {
     "data": {
      "application/vnd.jupyter.widget-view+json": {
       "model_id": "8b26d6163d1b464490091d761a13606c",
       "version_major": 2,
       "version_minor": 0
      },
      "text/plain": [
       "Training episodes:   0%|          | 0/3 [00:00<?, ?it/s]"
      ]
     },
     "metadata": {},
     "output_type": "display_data"
    },
    {
     "data": {
      "application/vnd.jupyter.widget-view+json": {
       "model_id": "ebb7eae2d7d342a5ad6c5d54674ad8db",
       "version_major": 2,
       "version_minor": 0
      },
      "text/plain": [
       "Training episodes:   0%|          | 0/3 [00:00<?, ?it/s]"
      ]
     },
     "metadata": {},
     "output_type": "display_data"
    },
    {
     "data": {
      "application/vnd.jupyter.widget-view+json": {
       "model_id": "ddcc7d432a85414c91c82bd17ac0b71b",
       "version_major": 2,
       "version_minor": 0
      },
      "text/plain": [
       "Training episodes:   0%|          | 0/3 [00:00<?, ?it/s]"
      ]
     },
     "metadata": {},
     "output_type": "display_data"
    },
    {
     "data": {
      "application/vnd.jupyter.widget-view+json": {
       "model_id": "297d2a81b11949a6ad144422ca81ced5",
       "version_major": 2,
       "version_minor": 0
      },
      "text/plain": [
       "Training episodes:   0%|          | 0/3 [00:00<?, ?it/s]"
      ]
     },
     "metadata": {},
     "output_type": "display_data"
    },
    {
     "data": {
      "application/vnd.jupyter.widget-view+json": {
       "model_id": "b023989ca8494b4baebbce8093e5a04d",
       "version_major": 2,
       "version_minor": 0
      },
      "text/plain": [
       "Training episodes:   0%|          | 0/3 [00:00<?, ?it/s]"
      ]
     },
     "metadata": {},
     "output_type": "display_data"
    },
    {
     "data": {
      "application/vnd.jupyter.widget-view+json": {
       "model_id": "0e5059ed69574cb0b657b6ea054b5b01",
       "version_major": 2,
       "version_minor": 0
      },
      "text/plain": [
       "Training episodes:   0%|          | 0/3 [00:00<?, ?it/s]"
      ]
     },
     "metadata": {},
     "output_type": "display_data"
    },
    {
     "data": {
      "application/vnd.jupyter.widget-view+json": {
       "model_id": "7f6edcaf477e4bbebed48aa033c891f6",
       "version_major": 2,
       "version_minor": 0
      },
      "text/plain": [
       "Training episodes:   0%|          | 0/3 [00:00<?, ?it/s]"
      ]
     },
     "metadata": {},
     "output_type": "display_data"
    },
    {
     "data": {
      "application/vnd.jupyter.widget-view+json": {
       "model_id": "14b2d2776e06420590fc6841a2c7693e",
       "version_major": 2,
       "version_minor": 0
      },
      "text/plain": [
       "Training episodes:   0%|          | 0/3 [00:00<?, ?it/s]"
      ]
     },
     "metadata": {},
     "output_type": "display_data"
    },
    {
     "data": {
      "application/vnd.jupyter.widget-view+json": {
       "model_id": "f3738f428d6548e0b294763f752e88f6",
       "version_major": 2,
       "version_minor": 0
      },
      "text/plain": [
       "Training episodes:   0%|          | 0/3 [00:00<?, ?it/s]"
      ]
     },
     "metadata": {},
     "output_type": "display_data"
    },
    {
     "data": {
      "application/vnd.jupyter.widget-view+json": {
       "model_id": "76aaa48438484e428b7f5a8a76b30c26",
       "version_major": 2,
       "version_minor": 0
      },
      "text/plain": [
       "Training episodes:   0%|          | 0/3 [00:00<?, ?it/s]"
      ]
     },
     "metadata": {},
     "output_type": "display_data"
    },
    {
     "data": {
      "application/vnd.jupyter.widget-view+json": {
       "model_id": "cd74971beefe4bb7bbb6ee74711a194f",
       "version_major": 2,
       "version_minor": 0
      },
      "text/plain": [
       "Training episodes:   0%|          | 0/3 [00:00<?, ?it/s]"
      ]
     },
     "metadata": {},
     "output_type": "display_data"
    },
    {
     "data": {
      "application/vnd.jupyter.widget-view+json": {
       "model_id": "bedbddfd613f494eb0675d4c6ca1dd67",
       "version_major": 2,
       "version_minor": 0
      },
      "text/plain": [
       "Training episodes:   0%|          | 0/3 [00:00<?, ?it/s]"
      ]
     },
     "metadata": {},
     "output_type": "display_data"
    },
    {
     "data": {
      "application/vnd.jupyter.widget-view+json": {
       "model_id": "9a8309d3a72c421691f9ccf0b5887203",
       "version_major": 2,
       "version_minor": 0
      },
      "text/plain": [
       "Training episodes:   0%|          | 0/3 [00:00<?, ?it/s]"
      ]
     },
     "metadata": {},
     "output_type": "display_data"
    },
    {
     "data": {
      "application/vnd.jupyter.widget-view+json": {
       "model_id": "799d8b0abf144a5097475267c107ce3d",
       "version_major": 2,
       "version_minor": 0
      },
      "text/plain": [
       "Training episodes:   0%|          | 0/3 [00:00<?, ?it/s]"
      ]
     },
     "metadata": {},
     "output_type": "display_data"
    },
    {
     "data": {
      "application/vnd.jupyter.widget-view+json": {
       "model_id": "a41ecc25ca3a4227b561cfcb0951cff1",
       "version_major": 2,
       "version_minor": 0
      },
      "text/plain": [
       "Training episodes:   0%|          | 0/3 [00:00<?, ?it/s]"
      ]
     },
     "metadata": {},
     "output_type": "display_data"
    },
    {
     "data": {
      "application/vnd.jupyter.widget-view+json": {
       "model_id": "8252f482f3844701b02db4611a080fb9",
       "version_major": 2,
       "version_minor": 0
      },
      "text/plain": [
       "Training episodes:   0%|          | 0/3 [00:00<?, ?it/s]"
      ]
     },
     "metadata": {},
     "output_type": "display_data"
    },
    {
     "data": {
      "application/vnd.jupyter.widget-view+json": {
       "model_id": "709744766ae1498aa4f321a071b4b16d",
       "version_major": 2,
       "version_minor": 0
      },
      "text/plain": [
       "Training episodes:   0%|          | 0/3 [00:00<?, ?it/s]"
      ]
     },
     "metadata": {},
     "output_type": "display_data"
    },
    {
     "data": {
      "application/vnd.jupyter.widget-view+json": {
       "model_id": "f8e6a5d784f14d1395bbf6debaa0126e",
       "version_major": 2,
       "version_minor": 0
      },
      "text/plain": [
       "Training episodes:   0%|          | 0/3 [00:00<?, ?it/s]"
      ]
     },
     "metadata": {},
     "output_type": "display_data"
    },
    {
     "data": {
      "application/vnd.jupyter.widget-view+json": {
       "model_id": "1d160dc2b746421b8d614c3e1fda6d89",
       "version_major": 2,
       "version_minor": 0
      },
      "text/plain": [
       "Training episodes:   0%|          | 0/3 [00:00<?, ?it/s]"
      ]
     },
     "metadata": {},
     "output_type": "display_data"
    },
    {
     "data": {
      "application/vnd.jupyter.widget-view+json": {
       "model_id": "10f0e2ebec7245c9a9d1350adb66fb9b",
       "version_major": 2,
       "version_minor": 0
      },
      "text/plain": [
       "Training episodes:   0%|          | 0/3 [00:00<?, ?it/s]"
      ]
     },
     "metadata": {},
     "output_type": "display_data"
    },
    {
     "data": {
      "application/vnd.jupyter.widget-view+json": {
       "model_id": "12f1520919aa4fa1b10db4fa91c4a86f",
       "version_major": 2,
       "version_minor": 0
      },
      "text/plain": [
       "seeds:   0%|          | 0/30 [00:00<?, ?it/s]"
      ]
     },
     "metadata": {},
     "output_type": "display_data"
    }
   ],
   "source": [
    "# | hide\n",
    "expert_maskable_ppo_agent = MaskablePPOAgent(\n",
    "    render_mode=\"human\", env_config=ENV_CONFIG, name=\"ExpertMaskablePPOAgent\"\n",
    ")\n",
    "\n",
    "expert_maskable_ppo_agent.train()\n",
    "\n",
    "\n",
    "if not QUICK_MODE:\n",
    "    expert_maskable_ppo_agent.save_model(f\"{expert_maskable_ppo_agent.name}.model\")\n",
    "\n",
    "evaluation_data_per_agent[expert_maskable_ppo_agent.name] = (\n",
    "    expert_maskable_ppo_agent.evaluate()\n",
    ")"
   ]
  },
  {
   "cell_type": "markdown",
   "metadata": {},
   "source": "### Evaluation MaskablePPO with optimized hyperparameters and Expert Knowledge on ElectricityMarketEnv\n"
  },
  {
   "cell_type": "code",
   "execution_count": null,
   "metadata": {},
   "outputs": [
    {
     "name": "stderr",
     "output_type": "stream",
     "text": [
      "[I 2025-03-02 19:38:40,365] A new study created in RDB with name: OptimizedExpertMaskablePPOAgent\n"
     ]
    },
    {
     "data": {
      "application/vnd.jupyter.widget-view+json": {
       "model_id": "4d947cf2071f47819b4d7fa4e28ec41e",
       "version_major": 2,
       "version_minor": 0
      },
      "text/plain": [
       "  0%|          | 0/10 [00:00<?, ?it/s]"
      ]
     },
     "metadata": {},
     "output_type": "display_data"
    },
    {
     "data": {
      "application/vnd.jupyter.widget-view+json": {
       "model_id": "644b9372e0bd45bc920409371b30eec5",
       "version_major": 2,
       "version_minor": 0
      },
      "text/plain": [
       "seeds:   0%|          | 0/30 [00:00<?, ?it/s]"
      ]
     },
     "metadata": {},
     "output_type": "display_data"
    },
    {
     "data": {
      "application/vnd.jupyter.widget-view+json": {
       "model_id": "4a92e27891794efea30663cf0cf1f235",
       "version_major": 2,
       "version_minor": 0
      },
      "text/plain": [
       "Training episodes:   0%|          | 0/3 [00:00<?, ?it/s]"
      ]
     },
     "metadata": {},
     "output_type": "display_data"
    },
    {
     "data": {
      "application/vnd.jupyter.widget-view+json": {
       "model_id": "92ff3a8359704e0abb3bb1087e9056e6",
       "version_major": 2,
       "version_minor": 0
      },
      "text/plain": [
       "seeds:   0%|          | 0/30 [00:00<?, ?it/s]"
      ]
     },
     "metadata": {},
     "output_type": "display_data"
    },
    {
     "data": {
      "application/vnd.jupyter.widget-view+json": {
       "model_id": "51af88a7fe6b4fdbb967002b14b3048d",
       "version_major": 2,
       "version_minor": 0
      },
      "text/plain": [
       "Training episodes:   0%|          | 0/3 [00:00<?, ?it/s]"
      ]
     },
     "metadata": {},
     "output_type": "display_data"
    },
    {
     "data": {
      "application/vnd.jupyter.widget-view+json": {
       "model_id": "b4b638790b9243c09c28b65bb75ae5b8",
       "version_major": 2,
       "version_minor": 0
      },
      "text/plain": [
       "seeds:   0%|          | 0/30 [00:00<?, ?it/s]"
      ]
     },
     "metadata": {},
     "output_type": "display_data"
    },
    {
     "data": {
      "application/vnd.jupyter.widget-view+json": {
       "model_id": "08cd5812ce664fdb95cc3162b84c5ec2",
       "version_major": 2,
       "version_minor": 0
      },
      "text/plain": [
       "Training episodes:   0%|          | 0/3 [00:00<?, ?it/s]"
      ]
     },
     "metadata": {},
     "output_type": "display_data"
    },
    {
     "data": {
      "application/vnd.jupyter.widget-view+json": {
       "model_id": "c4fbe12ae54f4afdb66f423499606aa6",
       "version_major": 2,
       "version_minor": 0
      },
      "text/plain": [
       "seeds:   0%|          | 0/30 [00:00<?, ?it/s]"
      ]
     },
     "metadata": {},
     "output_type": "display_data"
    },
    {
     "data": {
      "application/vnd.jupyter.widget-view+json": {
       "model_id": "099aba2f9f064d9ea13c19d4d8a66549",
       "version_major": 2,
       "version_minor": 0
      },
      "text/plain": [
       "Training episodes:   0%|          | 0/3 [00:00<?, ?it/s]"
      ]
     },
     "metadata": {},
     "output_type": "display_data"
    },
    {
     "data": {
      "application/vnd.jupyter.widget-view+json": {
       "model_id": "109c6e4f0fad4187acb22fd3242344f0",
       "version_major": 2,
       "version_minor": 0
      },
      "text/plain": [
       "seeds:   0%|          | 0/30 [00:00<?, ?it/s]"
      ]
     },
     "metadata": {},
     "output_type": "display_data"
    },
    {
     "data": {
      "application/vnd.jupyter.widget-view+json": {
       "model_id": "e6612c10b43948b78739b29f1f3a8489",
       "version_major": 2,
       "version_minor": 0
      },
      "text/plain": [
       "Training episodes:   0%|          | 0/3 [00:00<?, ?it/s]"
      ]
     },
     "metadata": {},
     "output_type": "display_data"
    },
    {
     "data": {
      "application/vnd.jupyter.widget-view+json": {
       "model_id": "e324c875403245cba3a41194e94591da",
       "version_major": 2,
       "version_minor": 0
      },
      "text/plain": [
       "seeds:   0%|          | 0/30 [00:00<?, ?it/s]"
      ]
     },
     "metadata": {},
     "output_type": "display_data"
    },
    {
     "data": {
      "application/vnd.jupyter.widget-view+json": {
       "model_id": "b31cca6e60e84597af3dea60d66ee02c",
       "version_major": 2,
       "version_minor": 0
      },
      "text/plain": [
       "Training episodes:   0%|          | 0/3 [00:00<?, ?it/s]"
      ]
     },
     "metadata": {},
     "output_type": "display_data"
    },
    {
     "data": {
      "application/vnd.jupyter.widget-view+json": {
       "model_id": "8ece5aa7ba4a4d4e8d1b2e7a7148543d",
       "version_major": 2,
       "version_minor": 0
      },
      "text/plain": [
       "seeds:   0%|          | 0/30 [00:00<?, ?it/s]"
      ]
     },
     "metadata": {},
     "output_type": "display_data"
    },
    {
     "data": {
      "application/vnd.jupyter.widget-view+json": {
       "model_id": "a6d4c59ffa5c47f8b5dc83e06248c367",
       "version_major": 2,
       "version_minor": 0
      },
      "text/plain": [
       "Training episodes:   0%|          | 0/3 [00:00<?, ?it/s]"
      ]
     },
     "metadata": {},
     "output_type": "display_data"
    },
    {
     "data": {
      "application/vnd.jupyter.widget-view+json": {
       "model_id": "6143db63fd92440c9c4455cbbbf12b4b",
       "version_major": 2,
       "version_minor": 0
      },
      "text/plain": [
       "seeds:   0%|          | 0/30 [00:00<?, ?it/s]"
      ]
     },
     "metadata": {},
     "output_type": "display_data"
    },
    {
     "data": {
      "application/vnd.jupyter.widget-view+json": {
       "model_id": "052209571db744deb1c2514864e9476d",
       "version_major": 2,
       "version_minor": 0
      },
      "text/plain": [
       "Training episodes:   0%|          | 0/3 [00:00<?, ?it/s]"
      ]
     },
     "metadata": {},
     "output_type": "display_data"
    },
    {
     "data": {
      "application/vnd.jupyter.widget-view+json": {
       "model_id": "c31a0fbe153548d78086f7d37fb046b8",
       "version_major": 2,
       "version_minor": 0
      },
      "text/plain": [
       "Training episodes:   0%|          | 0/3 [00:00<?, ?it/s]"
      ]
     },
     "metadata": {},
     "output_type": "display_data"
    },
    {
     "data": {
      "application/vnd.jupyter.widget-view+json": {
       "model_id": "0dfcd870e4034c0d89932ead077b5070",
       "version_major": 2,
       "version_minor": 0
      },
      "text/plain": [
       "Training episodes:   0%|          | 0/3 [00:00<?, ?it/s]"
      ]
     },
     "metadata": {},
     "output_type": "display_data"
    },
    {
     "data": {
      "application/vnd.jupyter.widget-view+json": {
       "model_id": "7bd5e33df6fc427fb1d98130e308f87b",
       "version_major": 2,
       "version_minor": 0
      },
      "text/plain": [
       "Training episodes:   0%|          | 0/3 [00:00<?, ?it/s]"
      ]
     },
     "metadata": {},
     "output_type": "display_data"
    },
    {
     "data": {
      "application/vnd.jupyter.widget-view+json": {
       "model_id": "56b76f1b3b6a4a68892546a4839c1b4f",
       "version_major": 2,
       "version_minor": 0
      },
      "text/plain": [
       "Training episodes:   0%|          | 0/3 [00:00<?, ?it/s]"
      ]
     },
     "metadata": {},
     "output_type": "display_data"
    },
    {
     "data": {
      "application/vnd.jupyter.widget-view+json": {
       "model_id": "d878354b7e0e4cacaeff7b72222ff893",
       "version_major": 2,
       "version_minor": 0
      },
      "text/plain": [
       "Training episodes:   0%|          | 0/3 [00:00<?, ?it/s]"
      ]
     },
     "metadata": {},
     "output_type": "display_data"
    },
    {
     "data": {
      "application/vnd.jupyter.widget-view+json": {
       "model_id": "9d60c3b4020e445db5c85057d84052f7",
       "version_major": 2,
       "version_minor": 0
      },
      "text/plain": [
       "Training episodes:   0%|          | 0/3 [00:00<?, ?it/s]"
      ]
     },
     "metadata": {},
     "output_type": "display_data"
    },
    {
     "data": {
      "application/vnd.jupyter.widget-view+json": {
       "model_id": "a005a82ddbf74e89882411b8c8741d7f",
       "version_major": 2,
       "version_minor": 0
      },
      "text/plain": [
       "Training episodes:   0%|          | 0/3 [00:00<?, ?it/s]"
      ]
     },
     "metadata": {},
     "output_type": "display_data"
    },
    {
     "data": {
      "application/vnd.jupyter.widget-view+json": {
       "model_id": "ff211526ca6c4151a5a493d160ce1962",
       "version_major": 2,
       "version_minor": 0
      },
      "text/plain": [
       "Training episodes:   0%|          | 0/3 [00:00<?, ?it/s]"
      ]
     },
     "metadata": {},
     "output_type": "display_data"
    },
    {
     "data": {
      "application/vnd.jupyter.widget-view+json": {
       "model_id": "419d6720c24347819c29e009d0e3eaa6",
       "version_major": 2,
       "version_minor": 0
      },
      "text/plain": [
       "Training episodes:   0%|          | 0/3 [00:00<?, ?it/s]"
      ]
     },
     "metadata": {},
     "output_type": "display_data"
    },
    {
     "data": {
      "application/vnd.jupyter.widget-view+json": {
       "model_id": "43ab41515743404fa847068de3cdcf8b",
       "version_major": 2,
       "version_minor": 0
      },
      "text/plain": [
       "Training episodes:   0%|          | 0/3 [00:00<?, ?it/s]"
      ]
     },
     "metadata": {},
     "output_type": "display_data"
    },
    {
     "data": {
      "application/vnd.jupyter.widget-view+json": {
       "model_id": "6305b479c57d43cf98106f25c0cc04d0",
       "version_major": 2,
       "version_minor": 0
      },
      "text/plain": [
       "Training episodes:   0%|          | 0/3 [00:00<?, ?it/s]"
      ]
     },
     "metadata": {},
     "output_type": "display_data"
    },
    {
     "data": {
      "application/vnd.jupyter.widget-view+json": {
       "model_id": "ccc4fd78858146efb109fbe8b3b6914d",
       "version_major": 2,
       "version_minor": 0
      },
      "text/plain": [
       "Training episodes:   0%|          | 0/3 [00:00<?, ?it/s]"
      ]
     },
     "metadata": {},
     "output_type": "display_data"
    },
    {
     "data": {
      "application/vnd.jupyter.widget-view+json": {
       "model_id": "b7335ddcb23d4b3792fe246edc5c5f99",
       "version_major": 2,
       "version_minor": 0
      },
      "text/plain": [
       "Training episodes:   0%|          | 0/3 [00:00<?, ?it/s]"
      ]
     },
     "metadata": {},
     "output_type": "display_data"
    },
    {
     "data": {
      "application/vnd.jupyter.widget-view+json": {
       "model_id": "08ea0e5871424ffc99374d3598d6803b",
       "version_major": 2,
       "version_minor": 0
      },
      "text/plain": [
       "Training episodes:   0%|          | 0/3 [00:00<?, ?it/s]"
      ]
     },
     "metadata": {},
     "output_type": "display_data"
    },
    {
     "data": {
      "application/vnd.jupyter.widget-view+json": {
       "model_id": "b4151d26d9b649778779da2b3fc175ac",
       "version_major": 2,
       "version_minor": 0
      },
      "text/plain": [
       "Training episodes:   0%|          | 0/3 [00:00<?, ?it/s]"
      ]
     },
     "metadata": {},
     "output_type": "display_data"
    },
    {
     "data": {
      "application/vnd.jupyter.widget-view+json": {
       "model_id": "7c3b3b2c0a2745c38ffb3ac15784c146",
       "version_major": 2,
       "version_minor": 0
      },
      "text/plain": [
       "Training episodes:   0%|          | 0/3 [00:00<?, ?it/s]"
      ]
     },
     "metadata": {},
     "output_type": "display_data"
    },
    {
     "data": {
      "application/vnd.jupyter.widget-view+json": {
       "model_id": "eaa900083ae74e0c8ed34fc400286e74",
       "version_major": 2,
       "version_minor": 0
      },
      "text/plain": [
       "Training episodes:   0%|          | 0/3 [00:00<?, ?it/s]"
      ]
     },
     "metadata": {},
     "output_type": "display_data"
    },
    {
     "data": {
      "application/vnd.jupyter.widget-view+json": {
       "model_id": "fc56c3de76f64f7680977eba748c0cc5",
       "version_major": 2,
       "version_minor": 0
      },
      "text/plain": [
       "Training episodes:   0%|          | 0/3 [00:00<?, ?it/s]"
      ]
     },
     "metadata": {},
     "output_type": "display_data"
    },
    {
     "data": {
      "application/vnd.jupyter.widget-view+json": {
       "model_id": "aa36b06a41c24ea789887e462fe2e143",
       "version_major": 2,
       "version_minor": 0
      },
      "text/plain": [
       "Training episodes:   0%|          | 0/3 [00:00<?, ?it/s]"
      ]
     },
     "metadata": {},
     "output_type": "display_data"
    },
    {
     "data": {
      "application/vnd.jupyter.widget-view+json": {
       "model_id": "de96c64c9a064a2c8ae42dea15cdffdb",
       "version_major": 2,
       "version_minor": 0
      },
      "text/plain": [
       "Training episodes:   0%|          | 0/3 [00:00<?, ?it/s]"
      ]
     },
     "metadata": {},
     "output_type": "display_data"
    },
    {
     "data": {
      "application/vnd.jupyter.widget-view+json": {
       "model_id": "6f0c62ad4c974f52866d97d846413635",
       "version_major": 2,
       "version_minor": 0
      },
      "text/plain": [
       "Training episodes:   0%|          | 0/3 [00:00<?, ?it/s]"
      ]
     },
     "metadata": {},
     "output_type": "display_data"
    },
    {
     "data": {
      "application/vnd.jupyter.widget-view+json": {
       "model_id": "4d817bdc8e474e9a920c31ea1f82b20f",
       "version_major": 2,
       "version_minor": 0
      },
      "text/plain": [
       "Training episodes:   0%|          | 0/3 [00:00<?, ?it/s]"
      ]
     },
     "metadata": {},
     "output_type": "display_data"
    },
    {
     "data": {
      "application/vnd.jupyter.widget-view+json": {
       "model_id": "abb11a2fa89b4baba93f8a5d599ee19b",
       "version_major": 2,
       "version_minor": 0
      },
      "text/plain": [
       "Training episodes:   0%|          | 0/3 [00:00<?, ?it/s]"
      ]
     },
     "metadata": {},
     "output_type": "display_data"
    },
    {
     "data": {
      "application/vnd.jupyter.widget-view+json": {
       "model_id": "1a5c6e16bcf448b7aff7695c17d09eac",
       "version_major": 2,
       "version_minor": 0
      },
      "text/plain": [
       "Training episodes:   0%|          | 0/3 [00:00<?, ?it/s]"
      ]
     },
     "metadata": {},
     "output_type": "display_data"
    },
    {
     "data": {
      "application/vnd.jupyter.widget-view+json": {
       "model_id": "17455ae86a184bb5bba455df3dc530ab",
       "version_major": 2,
       "version_minor": 0
      },
      "text/plain": [
       "Training episodes:   0%|          | 0/3 [00:00<?, ?it/s]"
      ]
     },
     "metadata": {},
     "output_type": "display_data"
    },
    {
     "data": {
      "application/vnd.jupyter.widget-view+json": {
       "model_id": "f33bd149174e47d3ae34a8f39a96423f",
       "version_major": 2,
       "version_minor": 0
      },
      "text/plain": [
       "Training episodes:   0%|          | 0/3 [00:00<?, ?it/s]"
      ]
     },
     "metadata": {},
     "output_type": "display_data"
    },
    {
     "data": {
      "application/vnd.jupyter.widget-view+json": {
       "model_id": "15b7b27f1fbe4903bae43f76ded73cae",
       "version_major": 2,
       "version_minor": 0
      },
      "text/plain": [
       "Training episodes:   0%|          | 0/3 [00:00<?, ?it/s]"
      ]
     },
     "metadata": {},
     "output_type": "display_data"
    },
    {
     "data": {
      "application/vnd.jupyter.widget-view+json": {
       "model_id": "876ca8c4057c4d2d8aed762ec248231f",
       "version_major": 2,
       "version_minor": 0
      },
      "text/plain": [
       "Training episodes:   0%|          | 0/3 [00:00<?, ?it/s]"
      ]
     },
     "metadata": {},
     "output_type": "display_data"
    },
    {
     "data": {
      "application/vnd.jupyter.widget-view+json": {
       "model_id": "bfbb8fb5000e44908a9fe594178ca38c",
       "version_major": 2,
       "version_minor": 0
      },
      "text/plain": [
       "Training episodes:   0%|          | 0/3 [00:00<?, ?it/s]"
      ]
     },
     "metadata": {},
     "output_type": "display_data"
    },
    {
     "data": {
      "application/vnd.jupyter.widget-view+json": {
       "model_id": "731d841ed0d042c68e5d0220585cc17d",
       "version_major": 2,
       "version_minor": 0
      },
      "text/plain": [
       "Training episodes:   0%|          | 0/3 [00:00<?, ?it/s]"
      ]
     },
     "metadata": {},
     "output_type": "display_data"
    },
    {
     "data": {
      "application/vnd.jupyter.widget-view+json": {
       "model_id": "6cf35360d8b04cf6a238005fd50da5e9",
       "version_major": 2,
       "version_minor": 0
      },
      "text/plain": [
       "Training episodes:   0%|          | 0/3 [00:00<?, ?it/s]"
      ]
     },
     "metadata": {},
     "output_type": "display_data"
    },
    {
     "data": {
      "application/vnd.jupyter.widget-view+json": {
       "model_id": "f5ca3df5f6dd4756b28576b3177d01a7",
       "version_major": 2,
       "version_minor": 0
      },
      "text/plain": [
       "Training episodes:   0%|          | 0/3 [00:00<?, ?it/s]"
      ]
     },
     "metadata": {},
     "output_type": "display_data"
    },
    {
     "data": {
      "application/vnd.jupyter.widget-view+json": {
       "model_id": "68f9e99e04594782b9778a03f24015c3",
       "version_major": 2,
       "version_minor": 0
      },
      "text/plain": [
       "Training episodes:   0%|          | 0/3 [00:00<?, ?it/s]"
      ]
     },
     "metadata": {},
     "output_type": "display_data"
    },
    {
     "data": {
      "application/vnd.jupyter.widget-view+json": {
       "model_id": "8ed076afe8a847a7bd46e120afed2e64",
       "version_major": 2,
       "version_minor": 0
      },
      "text/plain": [
       "Training episodes:   0%|          | 0/3 [00:00<?, ?it/s]"
      ]
     },
     "metadata": {},
     "output_type": "display_data"
    },
    {
     "data": {
      "application/vnd.jupyter.widget-view+json": {
       "model_id": "42bc719fd9784300bfad8e508691e843",
       "version_major": 2,
       "version_minor": 0
      },
      "text/plain": [
       "Training episodes:   0%|          | 0/3 [00:00<?, ?it/s]"
      ]
     },
     "metadata": {},
     "output_type": "display_data"
    },
    {
     "data": {
      "application/vnd.jupyter.widget-view+json": {
       "model_id": "6590f878b8d34bd687ff501cae8362a3",
       "version_major": 2,
       "version_minor": 0
      },
      "text/plain": [
       "Training episodes:   0%|          | 0/3 [00:00<?, ?it/s]"
      ]
     },
     "metadata": {},
     "output_type": "display_data"
    },
    {
     "data": {
      "application/vnd.jupyter.widget-view+json": {
       "model_id": "6e53f3273ad7477f9924127a51c9b004",
       "version_major": 2,
       "version_minor": 0
      },
      "text/plain": [
       "Training episodes:   0%|          | 0/3 [00:00<?, ?it/s]"
      ]
     },
     "metadata": {},
     "output_type": "display_data"
    },
    {
     "data": {
      "application/vnd.jupyter.widget-view+json": {
       "model_id": "e0ac8bd20c1e4a93a5d54c9c5517a741",
       "version_major": 2,
       "version_minor": 0
      },
      "text/plain": [
       "Training episodes:   0%|          | 0/3 [00:00<?, ?it/s]"
      ]
     },
     "metadata": {},
     "output_type": "display_data"
    },
    {
     "data": {
      "application/vnd.jupyter.widget-view+json": {
       "model_id": "3d2acf18ace946b2bf76965bd3297991",
       "version_major": 2,
       "version_minor": 0
      },
      "text/plain": [
       "Training episodes:   0%|          | 0/3 [00:00<?, ?it/s]"
      ]
     },
     "metadata": {},
     "output_type": "display_data"
    },
    {
     "data": {
      "application/vnd.jupyter.widget-view+json": {
       "model_id": "264599195e8543ca84e36e6e7be5f536",
       "version_major": 2,
       "version_minor": 0
      },
      "text/plain": [
       "Training episodes:   0%|          | 0/3 [00:00<?, ?it/s]"
      ]
     },
     "metadata": {},
     "output_type": "display_data"
    },
    {
     "data": {
      "application/vnd.jupyter.widget-view+json": {
       "model_id": "7f3cdcf994314842b354f39bc3c576ce",
       "version_major": 2,
       "version_minor": 0
      },
      "text/plain": [
       "Training episodes:   0%|          | 0/3 [00:00<?, ?it/s]"
      ]
     },
     "metadata": {},
     "output_type": "display_data"
    },
    {
     "data": {
      "application/vnd.jupyter.widget-view+json": {
       "model_id": "82b83b7901a74a78990cc6b1db9d48e6",
       "version_major": 2,
       "version_minor": 0
      },
      "text/plain": [
       "Training episodes:   0%|          | 0/3 [00:00<?, ?it/s]"
      ]
     },
     "metadata": {},
     "output_type": "display_data"
    },
    {
     "data": {
      "application/vnd.jupyter.widget-view+json": {
       "model_id": "a190b57e1ce4493895ceb2ec2e0080a7",
       "version_major": 2,
       "version_minor": 0
      },
      "text/plain": [
       "Training episodes:   0%|          | 0/3 [00:00<?, ?it/s]"
      ]
     },
     "metadata": {},
     "output_type": "display_data"
    },
    {
     "data": {
      "application/vnd.jupyter.widget-view+json": {
       "model_id": "be11bdd1b62647cebf3278f9c6e67c6c",
       "version_major": 2,
       "version_minor": 0
      },
      "text/plain": [
       "Training episodes:   0%|          | 0/3 [00:00<?, ?it/s]"
      ]
     },
     "metadata": {},
     "output_type": "display_data"
    },
    {
     "data": {
      "application/vnd.jupyter.widget-view+json": {
       "model_id": "26a49aed77a74800a2a5b508f4e79fea",
       "version_major": 2,
       "version_minor": 0
      },
      "text/plain": [
       "Training episodes:   0%|          | 0/3 [00:00<?, ?it/s]"
      ]
     },
     "metadata": {},
     "output_type": "display_data"
    },
    {
     "data": {
      "application/vnd.jupyter.widget-view+json": {
       "model_id": "d6042f824c0e40debee7815a2d5dca69",
       "version_major": 2,
       "version_minor": 0
      },
      "text/plain": [
       "Training episodes:   0%|          | 0/3 [00:00<?, ?it/s]"
      ]
     },
     "metadata": {},
     "output_type": "display_data"
    },
    {
     "data": {
      "application/vnd.jupyter.widget-view+json": {
       "model_id": "e21a4f93a45745848e44336c8bb40e91",
       "version_major": 2,
       "version_minor": 0
      },
      "text/plain": [
       "Training episodes:   0%|          | 0/3 [00:00<?, ?it/s]"
      ]
     },
     "metadata": {},
     "output_type": "display_data"
    },
    {
     "data": {
      "application/vnd.jupyter.widget-view+json": {
       "model_id": "6cf3df43078e44db82661db64fd9f52e",
       "version_major": 2,
       "version_minor": 0
      },
      "text/plain": [
       "Training episodes:   0%|          | 0/3 [00:00<?, ?it/s]"
      ]
     },
     "metadata": {},
     "output_type": "display_data"
    },
    {
     "data": {
      "application/vnd.jupyter.widget-view+json": {
       "model_id": "06eac7a7318d481093758db41d45ded9",
       "version_major": 2,
       "version_minor": 0
      },
      "text/plain": [
       "Training episodes:   0%|          | 0/3 [00:00<?, ?it/s]"
      ]
     },
     "metadata": {},
     "output_type": "display_data"
    },
    {
     "data": {
      "application/vnd.jupyter.widget-view+json": {
       "model_id": "2da39f8e48804f99a3474a8369ebaf6a",
       "version_major": 2,
       "version_minor": 0
      },
      "text/plain": [
       "Training episodes:   0%|          | 0/3 [00:00<?, ?it/s]"
      ]
     },
     "metadata": {},
     "output_type": "display_data"
    },
    {
     "data": {
      "application/vnd.jupyter.widget-view+json": {
       "model_id": "89ba31e7e65f48228d00973faaa82b31",
       "version_major": 2,
       "version_minor": 0
      },
      "text/plain": [
       "Training episodes:   0%|          | 0/3 [00:00<?, ?it/s]"
      ]
     },
     "metadata": {},
     "output_type": "display_data"
    },
    {
     "data": {
      "application/vnd.jupyter.widget-view+json": {
       "model_id": "44243572a86849f680ff852f22f68d98",
       "version_major": 2,
       "version_minor": 0
      },
      "text/plain": [
       "Training episodes:   0%|          | 0/3 [00:00<?, ?it/s]"
      ]
     },
     "metadata": {},
     "output_type": "display_data"
    },
    {
     "data": {
      "application/vnd.jupyter.widget-view+json": {
       "model_id": "e824f810800e48c398596cc53eb1154e",
       "version_major": 2,
       "version_minor": 0
      },
      "text/plain": [
       "Training episodes:   0%|          | 0/3 [00:00<?, ?it/s]"
      ]
     },
     "metadata": {},
     "output_type": "display_data"
    },
    {
     "data": {
      "application/vnd.jupyter.widget-view+json": {
       "model_id": "adf46d3bd6e1424fb0da32ba967e4682",
       "version_major": 2,
       "version_minor": 0
      },
      "text/plain": [
       "Training episodes:   0%|          | 0/3 [00:00<?, ?it/s]"
      ]
     },
     "metadata": {},
     "output_type": "display_data"
    },
    {
     "data": {
      "application/vnd.jupyter.widget-view+json": {
       "model_id": "8ac3c031ea5b4551a5e8124bc6c6a590",
       "version_major": 2,
       "version_minor": 0
      },
      "text/plain": [
       "Training episodes:   0%|          | 0/3 [00:00<?, ?it/s]"
      ]
     },
     "metadata": {},
     "output_type": "display_data"
    },
    {
     "data": {
      "application/vnd.jupyter.widget-view+json": {
       "model_id": "437126295b6147d8ad74c568af38e207",
       "version_major": 2,
       "version_minor": 0
      },
      "text/plain": [
       "Training episodes:   0%|          | 0/3 [00:00<?, ?it/s]"
      ]
     },
     "metadata": {},
     "output_type": "display_data"
    },
    {
     "data": {
      "application/vnd.jupyter.widget-view+json": {
       "model_id": "6e7d55e97fdf4780b8f3a76a9edd4668",
       "version_major": 2,
       "version_minor": 0
      },
      "text/plain": [
       "Training episodes:   0%|          | 0/3 [00:00<?, ?it/s]"
      ]
     },
     "metadata": {},
     "output_type": "display_data"
    },
    {
     "data": {
      "application/vnd.jupyter.widget-view+json": {
       "model_id": "0ee97fbc9ce74ce6aca53ee344cff738",
       "version_major": 2,
       "version_minor": 0
      },
      "text/plain": [
       "Training episodes:   0%|          | 0/3 [00:00<?, ?it/s]"
      ]
     },
     "metadata": {},
     "output_type": "display_data"
    },
    {
     "data": {
      "application/vnd.jupyter.widget-view+json": {
       "model_id": "4453865647814aa5bfee47cd10691e00",
       "version_major": 2,
       "version_minor": 0
      },
      "text/plain": [
       "Training episodes:   0%|          | 0/3 [00:00<?, ?it/s]"
      ]
     },
     "metadata": {},
     "output_type": "display_data"
    },
    {
     "data": {
      "application/vnd.jupyter.widget-view+json": {
       "model_id": "4251c02fca744bbba138caf9f3c772e5",
       "version_major": 2,
       "version_minor": 0
      },
      "text/plain": [
       "Training episodes:   0%|          | 0/3 [00:00<?, ?it/s]"
      ]
     },
     "metadata": {},
     "output_type": "display_data"
    },
    {
     "data": {
      "application/vnd.jupyter.widget-view+json": {
       "model_id": "68c27191403141eea5b0d54a344d34eb",
       "version_major": 2,
       "version_minor": 0
      },
      "text/plain": [
       "Training episodes:   0%|          | 0/3 [00:00<?, ?it/s]"
      ]
     },
     "metadata": {},
     "output_type": "display_data"
    },
    {
     "data": {
      "application/vnd.jupyter.widget-view+json": {
       "model_id": "af49690e9c684d4c9d4c41349060743e",
       "version_major": 2,
       "version_minor": 0
      },
      "text/plain": [
       "Training episodes:   0%|          | 0/3 [00:00<?, ?it/s]"
      ]
     },
     "metadata": {},
     "output_type": "display_data"
    },
    {
     "data": {
      "application/vnd.jupyter.widget-view+json": {
       "model_id": "81aea8273bf14979b1c8201481c74e78",
       "version_major": 2,
       "version_minor": 0
      },
      "text/plain": [
       "Training episodes:   0%|          | 0/3 [00:00<?, ?it/s]"
      ]
     },
     "metadata": {},
     "output_type": "display_data"
    },
    {
     "data": {
      "application/vnd.jupyter.widget-view+json": {
       "model_id": "ddbf42b585f84b73aec3d71932b4f6d8",
       "version_major": 2,
       "version_minor": 0
      },
      "text/plain": [
       "Training episodes:   0%|          | 0/3 [00:00<?, ?it/s]"
      ]
     },
     "metadata": {},
     "output_type": "display_data"
    },
    {
     "data": {
      "application/vnd.jupyter.widget-view+json": {
       "model_id": "d849003e1ee74a42af06f1fb2b0af1c9",
       "version_major": 2,
       "version_minor": 0
      },
      "text/plain": [
       "Training episodes:   0%|          | 0/3 [00:00<?, ?it/s]"
      ]
     },
     "metadata": {},
     "output_type": "display_data"
    },
    {
     "data": {
      "application/vnd.jupyter.widget-view+json": {
       "model_id": "8ed22c1ede3a4a92882909585e60a680",
       "version_major": 2,
       "version_minor": 0
      },
      "text/plain": [
       "Training episodes:   0%|          | 0/3 [00:00<?, ?it/s]"
      ]
     },
     "metadata": {},
     "output_type": "display_data"
    },
    {
     "data": {
      "application/vnd.jupyter.widget-view+json": {
       "model_id": "89dac0ffa63a4d5ba86681b44731c3aa",
       "version_major": 2,
       "version_minor": 0
      },
      "text/plain": [
       "Training episodes:   0%|          | 0/3 [00:00<?, ?it/s]"
      ]
     },
     "metadata": {},
     "output_type": "display_data"
    },
    {
     "data": {
      "application/vnd.jupyter.widget-view+json": {
       "model_id": "1702d2bc14c14167a38f1f41a1f96e2e",
       "version_major": 2,
       "version_minor": 0
      },
      "text/plain": [
       "Training episodes:   0%|          | 0/3 [00:00<?, ?it/s]"
      ]
     },
     "metadata": {},
     "output_type": "display_data"
    },
    {
     "data": {
      "application/vnd.jupyter.widget-view+json": {
       "model_id": "10f6b54325424d578c409f3dcd7bc2ea",
       "version_major": 2,
       "version_minor": 0
      },
      "text/plain": [
       "Training episodes:   0%|          | 0/3 [00:00<?, ?it/s]"
      ]
     },
     "metadata": {},
     "output_type": "display_data"
    },
    {
     "data": {
      "application/vnd.jupyter.widget-view+json": {
       "model_id": "918bb2505f744197b2dc36562bd69870",
       "version_major": 2,
       "version_minor": 0
      },
      "text/plain": [
       "Training episodes:   0%|          | 0/3 [00:00<?, ?it/s]"
      ]
     },
     "metadata": {},
     "output_type": "display_data"
    },
    {
     "data": {
      "application/vnd.jupyter.widget-view+json": {
       "model_id": "aea1f7d84f7c43738ce614700d8fb95a",
       "version_major": 2,
       "version_minor": 0
      },
      "text/plain": [
       "Training episodes:   0%|          | 0/3 [00:00<?, ?it/s]"
      ]
     },
     "metadata": {},
     "output_type": "display_data"
    },
    {
     "data": {
      "application/vnd.jupyter.widget-view+json": {
       "model_id": "d48acf6b763d46ac95a68f12c21445f8",
       "version_major": 2,
       "version_minor": 0
      },
      "text/plain": [
       "Training episodes:   0%|          | 0/3 [00:00<?, ?it/s]"
      ]
     },
     "metadata": {},
     "output_type": "display_data"
    },
    {
     "data": {
      "application/vnd.jupyter.widget-view+json": {
       "model_id": "75e479194eaa487fab4b01261a2ae872",
       "version_major": 2,
       "version_minor": 0
      },
      "text/plain": [
       "Training episodes:   0%|          | 0/3 [00:00<?, ?it/s]"
      ]
     },
     "metadata": {},
     "output_type": "display_data"
    },
    {
     "data": {
      "application/vnd.jupyter.widget-view+json": {
       "model_id": "ac0b18b0ce6149f6bad25039f2689d41",
       "version_major": 2,
       "version_minor": 0
      },
      "text/plain": [
       "Training episodes:   0%|          | 0/3 [00:00<?, ?it/s]"
      ]
     },
     "metadata": {},
     "output_type": "display_data"
    },
    {
     "data": {
      "application/vnd.jupyter.widget-view+json": {
       "model_id": "990d6e49a1964e24abb0f3c7e254cc7f",
       "version_major": 2,
       "version_minor": 0
      },
      "text/plain": [
       "Training episodes:   0%|          | 0/3 [00:00<?, ?it/s]"
      ]
     },
     "metadata": {},
     "output_type": "display_data"
    },
    {
     "data": {
      "application/vnd.jupyter.widget-view+json": {
       "model_id": "5391104e2e5c414fa99df5afc596158c",
       "version_major": 2,
       "version_minor": 0
      },
      "text/plain": [
       "Training episodes:   0%|          | 0/3 [00:00<?, ?it/s]"
      ]
     },
     "metadata": {},
     "output_type": "display_data"
    },
    {
     "data": {
      "application/vnd.jupyter.widget-view+json": {
       "model_id": "a4043d73087f4e21b93acc168b8609b7",
       "version_major": 2,
       "version_minor": 0
      },
      "text/plain": [
       "Training episodes:   0%|          | 0/3 [00:00<?, ?it/s]"
      ]
     },
     "metadata": {},
     "output_type": "display_data"
    },
    {
     "data": {
      "application/vnd.jupyter.widget-view+json": {
       "model_id": "a264ddcc2d1b470d9d1831cbfacd99a0",
       "version_major": 2,
       "version_minor": 0
      },
      "text/plain": [
       "Training episodes:   0%|          | 0/3 [00:00<?, ?it/s]"
      ]
     },
     "metadata": {},
     "output_type": "display_data"
    },
    {
     "data": {
      "application/vnd.jupyter.widget-view+json": {
       "model_id": "dd94b18089c44b3d9271f9cefee3633b",
       "version_major": 2,
       "version_minor": 0
      },
      "text/plain": [
       "Training episodes:   0%|          | 0/3 [00:00<?, ?it/s]"
      ]
     },
     "metadata": {},
     "output_type": "display_data"
    },
    {
     "data": {
      "application/vnd.jupyter.widget-view+json": {
       "model_id": "6f1f0a5a7e15425ea8b1686e7ffb25a4",
       "version_major": 2,
       "version_minor": 0
      },
      "text/plain": [
       "Training episodes:   0%|          | 0/3 [00:00<?, ?it/s]"
      ]
     },
     "metadata": {},
     "output_type": "display_data"
    },
    {
     "data": {
      "application/vnd.jupyter.widget-view+json": {
       "model_id": "d37f543fffe54091b6701e4573f6cc7e",
       "version_major": 2,
       "version_minor": 0
      },
      "text/plain": [
       "Training episodes:   0%|          | 0/3 [00:00<?, ?it/s]"
      ]
     },
     "metadata": {},
     "output_type": "display_data"
    },
    {
     "data": {
      "application/vnd.jupyter.widget-view+json": {
       "model_id": "10ec60b9578d4a868f153adf332ba8a2",
       "version_major": 2,
       "version_minor": 0
      },
      "text/plain": [
       "Training episodes:   0%|          | 0/3 [00:00<?, ?it/s]"
      ]
     },
     "metadata": {},
     "output_type": "display_data"
    },
    {
     "data": {
      "application/vnd.jupyter.widget-view+json": {
       "model_id": "1661542af3114316ab0614d2c8d9f770",
       "version_major": 2,
       "version_minor": 0
      },
      "text/plain": [
       "Training episodes:   0%|          | 0/3 [00:00<?, ?it/s]"
      ]
     },
     "metadata": {},
     "output_type": "display_data"
    },
    {
     "data": {
      "application/vnd.jupyter.widget-view+json": {
       "model_id": "4d920675feb547e6b41a9daa58d186dd",
       "version_major": 2,
       "version_minor": 0
      },
      "text/plain": [
       "Training episodes:   0%|          | 0/3 [00:00<?, ?it/s]"
      ]
     },
     "metadata": {},
     "output_type": "display_data"
    },
    {
     "data": {
      "application/vnd.jupyter.widget-view+json": {
       "model_id": "923e81a416b743d683c9c41ac062dd57",
       "version_major": 2,
       "version_minor": 0
      },
      "text/plain": [
       "Training episodes:   0%|          | 0/3 [00:00<?, ?it/s]"
      ]
     },
     "metadata": {},
     "output_type": "display_data"
    },
    {
     "data": {
      "application/vnd.jupyter.widget-view+json": {
       "model_id": "fef2015ce420483dacb6e3b4b78d8829",
       "version_major": 2,
       "version_minor": 0
      },
      "text/plain": [
       "Training episodes:   0%|          | 0/3 [00:00<?, ?it/s]"
      ]
     },
     "metadata": {},
     "output_type": "display_data"
    },
    {
     "data": {
      "application/vnd.jupyter.widget-view+json": {
       "model_id": "d85964577f6a4d599d25908a4fec7afa",
       "version_major": 2,
       "version_minor": 0
      },
      "text/plain": [
       "Training episodes:   0%|          | 0/3 [00:00<?, ?it/s]"
      ]
     },
     "metadata": {},
     "output_type": "display_data"
    },
    {
     "data": {
      "application/vnd.jupyter.widget-view+json": {
       "model_id": "14d4c9fc4b384c5e8a8e73cd7f6d30fa",
       "version_major": 2,
       "version_minor": 0
      },
      "text/plain": [
       "Training episodes:   0%|          | 0/3 [00:00<?, ?it/s]"
      ]
     },
     "metadata": {},
     "output_type": "display_data"
    },
    {
     "data": {
      "application/vnd.jupyter.widget-view+json": {
       "model_id": "7c66ede96e5747bebddbcd24f343b5a0",
       "version_major": 2,
       "version_minor": 0
      },
      "text/plain": [
       "Training episodes:   0%|          | 0/3 [00:00<?, ?it/s]"
      ]
     },
     "metadata": {},
     "output_type": "display_data"
    },
    {
     "data": {
      "application/vnd.jupyter.widget-view+json": {
       "model_id": "5fd38faf60f04d5c87e50047fe37f566",
       "version_major": 2,
       "version_minor": 0
      },
      "text/plain": [
       "Training episodes:   0%|          | 0/3 [00:00<?, ?it/s]"
      ]
     },
     "metadata": {},
     "output_type": "display_data"
    },
    {
     "data": {
      "application/vnd.jupyter.widget-view+json": {
       "model_id": "3b8de076a96248979ca43565c32d2896",
       "version_major": 2,
       "version_minor": 0
      },
      "text/plain": [
       "Training episodes:   0%|          | 0/3 [00:00<?, ?it/s]"
      ]
     },
     "metadata": {},
     "output_type": "display_data"
    },
    {
     "data": {
      "application/vnd.jupyter.widget-view+json": {
       "model_id": "58728e5300a44d01a028b0934ffd5e01",
       "version_major": 2,
       "version_minor": 0
      },
      "text/plain": [
       "Training episodes:   0%|          | 0/3 [00:00<?, ?it/s]"
      ]
     },
     "metadata": {},
     "output_type": "display_data"
    },
    {
     "data": {
      "application/vnd.jupyter.widget-view+json": {
       "model_id": "62fe2e4e785b42a485a7441aea4537dc",
       "version_major": 2,
       "version_minor": 0
      },
      "text/plain": [
       "Training episodes:   0%|          | 0/3 [00:00<?, ?it/s]"
      ]
     },
     "metadata": {},
     "output_type": "display_data"
    },
    {
     "data": {
      "application/vnd.jupyter.widget-view+json": {
       "model_id": "878d6410148a4f7098e18179270dd4a6",
       "version_major": 2,
       "version_minor": 0
      },
      "text/plain": [
       "Training episodes:   0%|          | 0/3 [00:00<?, ?it/s]"
      ]
     },
     "metadata": {},
     "output_type": "display_data"
    },
    {
     "data": {
      "application/vnd.jupyter.widget-view+json": {
       "model_id": "7789a43405114b6783ce7323f45956ca",
       "version_major": 2,
       "version_minor": 0
      },
      "text/plain": [
       "Training episodes:   0%|          | 0/3 [00:00<?, ?it/s]"
      ]
     },
     "metadata": {},
     "output_type": "display_data"
    },
    {
     "data": {
      "application/vnd.jupyter.widget-view+json": {
       "model_id": "8dc0bba41d6e49ffac7bb8efb841766d",
       "version_major": 2,
       "version_minor": 0
      },
      "text/plain": [
       "Training episodes:   0%|          | 0/3 [00:00<?, ?it/s]"
      ]
     },
     "metadata": {},
     "output_type": "display_data"
    },
    {
     "data": {
      "application/vnd.jupyter.widget-view+json": {
       "model_id": "001d7c90aad44907beff5e5161d65b06",
       "version_major": 2,
       "version_minor": 0
      },
      "text/plain": [
       "Training episodes:   0%|          | 0/3 [00:00<?, ?it/s]"
      ]
     },
     "metadata": {},
     "output_type": "display_data"
    },
    {
     "data": {
      "application/vnd.jupyter.widget-view+json": {
       "model_id": "d97babafa4184bde837ef145f009b7a4",
       "version_major": 2,
       "version_minor": 0
      },
      "text/plain": [
       "Training episodes:   0%|          | 0/3 [00:00<?, ?it/s]"
      ]
     },
     "metadata": {},
     "output_type": "display_data"
    },
    {
     "data": {
      "application/vnd.jupyter.widget-view+json": {
       "model_id": "e5dcc2908eaa4a2091ddeac11fc0322d",
       "version_major": 2,
       "version_minor": 0
      },
      "text/plain": [
       "Training episodes:   0%|          | 0/3 [00:00<?, ?it/s]"
      ]
     },
     "metadata": {},
     "output_type": "display_data"
    },
    {
     "data": {
      "application/vnd.jupyter.widget-view+json": {
       "model_id": "c894ad33ae1f4d0583484cef80f67ac9",
       "version_major": 2,
       "version_minor": 0
      },
      "text/plain": [
       "Training episodes:   0%|          | 0/3 [00:00<?, ?it/s]"
      ]
     },
     "metadata": {},
     "output_type": "display_data"
    },
    {
     "data": {
      "application/vnd.jupyter.widget-view+json": {
       "model_id": "184ccd5591e94eb3a72715b3099a6aac",
       "version_major": 2,
       "version_minor": 0
      },
      "text/plain": [
       "Training episodes:   0%|          | 0/3 [00:00<?, ?it/s]"
      ]
     },
     "metadata": {},
     "output_type": "display_data"
    },
    {
     "data": {
      "application/vnd.jupyter.widget-view+json": {
       "model_id": "b19e57ed7baf4a148211e71e5474466e",
       "version_major": 2,
       "version_minor": 0
      },
      "text/plain": [
       "Training episodes:   0%|          | 0/3 [00:00<?, ?it/s]"
      ]
     },
     "metadata": {},
     "output_type": "display_data"
    },
    {
     "data": {
      "application/vnd.jupyter.widget-view+json": {
       "model_id": "1f5ccffa8d2b428a87f2dfcd561e3646",
       "version_major": 2,
       "version_minor": 0
      },
      "text/plain": [
       "Training episodes:   0%|          | 0/3 [00:00<?, ?it/s]"
      ]
     },
     "metadata": {},
     "output_type": "display_data"
    },
    {
     "data": {
      "application/vnd.jupyter.widget-view+json": {
       "model_id": "538ac4ceb9d54f32a4cee25f09f44321",
       "version_major": 2,
       "version_minor": 0
      },
      "text/plain": [
       "Training episodes:   0%|          | 0/3 [00:00<?, ?it/s]"
      ]
     },
     "metadata": {},
     "output_type": "display_data"
    },
    {
     "data": {
      "application/vnd.jupyter.widget-view+json": {
       "model_id": "3e9a575063174ae1a575418bc0c53abe",
       "version_major": 2,
       "version_minor": 0
      },
      "text/plain": [
       "Training episodes:   0%|          | 0/3 [00:00<?, ?it/s]"
      ]
     },
     "metadata": {},
     "output_type": "display_data"
    },
    {
     "data": {
      "application/vnd.jupyter.widget-view+json": {
       "model_id": "f321a6e7fb794becbf3dd98319a72a37",
       "version_major": 2,
       "version_minor": 0
      },
      "text/plain": [
       "Training episodes:   0%|          | 0/3 [00:00<?, ?it/s]"
      ]
     },
     "metadata": {},
     "output_type": "display_data"
    },
    {
     "data": {
      "application/vnd.jupyter.widget-view+json": {
       "model_id": "13c592ed14634648bc693e2d4273b4b7",
       "version_major": 2,
       "version_minor": 0
      },
      "text/plain": [
       "Training episodes:   0%|          | 0/3 [00:00<?, ?it/s]"
      ]
     },
     "metadata": {},
     "output_type": "display_data"
    },
    {
     "data": {
      "application/vnd.jupyter.widget-view+json": {
       "model_id": "786575157fca47e7acd6b4ead2d8541d",
       "version_major": 2,
       "version_minor": 0
      },
      "text/plain": [
       "Training episodes:   0%|          | 0/3 [00:00<?, ?it/s]"
      ]
     },
     "metadata": {},
     "output_type": "display_data"
    },
    {
     "data": {
      "application/vnd.jupyter.widget-view+json": {
       "model_id": "9a0851f63e7d46bdadb34e2019518747",
       "version_major": 2,
       "version_minor": 0
      },
      "text/plain": [
       "Training episodes:   0%|          | 0/3 [00:00<?, ?it/s]"
      ]
     },
     "metadata": {},
     "output_type": "display_data"
    },
    {
     "data": {
      "application/vnd.jupyter.widget-view+json": {
       "model_id": "7b4237cf2dad4ca0b71105731be93034",
       "version_major": 2,
       "version_minor": 0
      },
      "text/plain": [
       "Training episodes:   0%|          | 0/3 [00:00<?, ?it/s]"
      ]
     },
     "metadata": {},
     "output_type": "display_data"
    },
    {
     "data": {
      "application/vnd.jupyter.widget-view+json": {
       "model_id": "044205f8aa87447c8f24cc498ba5fc4d",
       "version_major": 2,
       "version_minor": 0
      },
      "text/plain": [
       "Training episodes:   0%|          | 0/3 [00:00<?, ?it/s]"
      ]
     },
     "metadata": {},
     "output_type": "display_data"
    },
    {
     "data": {
      "application/vnd.jupyter.widget-view+json": {
       "model_id": "990cbf642ea74fe494bd8ffda0747e10",
       "version_major": 2,
       "version_minor": 0
      },
      "text/plain": [
       "Training episodes:   0%|          | 0/3 [00:00<?, ?it/s]"
      ]
     },
     "metadata": {},
     "output_type": "display_data"
    },
    {
     "data": {
      "application/vnd.jupyter.widget-view+json": {
       "model_id": "32a84b78d9b34e16ab6a5a725093bc99",
       "version_major": 2,
       "version_minor": 0
      },
      "text/plain": [
       "Training episodes:   0%|          | 0/3 [00:00<?, ?it/s]"
      ]
     },
     "metadata": {},
     "output_type": "display_data"
    },
    {
     "data": {
      "application/vnd.jupyter.widget-view+json": {
       "model_id": "8dc6983fcb4e44f4bc208321acaa94a0",
       "version_major": 2,
       "version_minor": 0
      },
      "text/plain": [
       "Training episodes:   0%|          | 0/3 [00:00<?, ?it/s]"
      ]
     },
     "metadata": {},
     "output_type": "display_data"
    },
    {
     "data": {
      "application/vnd.jupyter.widget-view+json": {
       "model_id": "fdc08e7999af42f58a297e0f14820163",
       "version_major": 2,
       "version_minor": 0
      },
      "text/plain": [
       "Training episodes:   0%|          | 0/3 [00:00<?, ?it/s]"
      ]
     },
     "metadata": {},
     "output_type": "display_data"
    },
    {
     "data": {
      "application/vnd.jupyter.widget-view+json": {
       "model_id": "6a646d828aee40fabd967dedd2a67e57",
       "version_major": 2,
       "version_minor": 0
      },
      "text/plain": [
       "Training episodes:   0%|          | 0/3 [00:00<?, ?it/s]"
      ]
     },
     "metadata": {},
     "output_type": "display_data"
    },
    {
     "data": {
      "application/vnd.jupyter.widget-view+json": {
       "model_id": "e821da67044d4c35956dbca87d992584",
       "version_major": 2,
       "version_minor": 0
      },
      "text/plain": [
       "Training episodes:   0%|          | 0/3 [00:00<?, ?it/s]"
      ]
     },
     "metadata": {},
     "output_type": "display_data"
    },
    {
     "data": {
      "application/vnd.jupyter.widget-view+json": {
       "model_id": "a3ffc953f6964c8a9f1bd5f8dc182b63",
       "version_major": 2,
       "version_minor": 0
      },
      "text/plain": [
       "Training episodes:   0%|          | 0/3 [00:00<?, ?it/s]"
      ]
     },
     "metadata": {},
     "output_type": "display_data"
    },
    {
     "data": {
      "application/vnd.jupyter.widget-view+json": {
       "model_id": "68d6741d47704893bbc2aef6cc9593ea",
       "version_major": 2,
       "version_minor": 0
      },
      "text/plain": [
       "Training episodes:   0%|          | 0/3 [00:00<?, ?it/s]"
      ]
     },
     "metadata": {},
     "output_type": "display_data"
    },
    {
     "data": {
      "application/vnd.jupyter.widget-view+json": {
       "model_id": "b63ac84b2705463ab533280220602816",
       "version_major": 2,
       "version_minor": 0
      },
      "text/plain": [
       "Training episodes:   0%|          | 0/3 [00:00<?, ?it/s]"
      ]
     },
     "metadata": {},
     "output_type": "display_data"
    },
    {
     "data": {
      "application/vnd.jupyter.widget-view+json": {
       "model_id": "7a822666a76046e4a9b117ff70a035b6",
       "version_major": 2,
       "version_minor": 0
      },
      "text/plain": [
       "Training episodes:   0%|          | 0/3 [00:00<?, ?it/s]"
      ]
     },
     "metadata": {},
     "output_type": "display_data"
    },
    {
     "data": {
      "application/vnd.jupyter.widget-view+json": {
       "model_id": "33cdc0856d9c4a9f9e4637fc70bbd575",
       "version_major": 2,
       "version_minor": 0
      },
      "text/plain": [
       "Training episodes:   0%|          | 0/3 [00:00<?, ?it/s]"
      ]
     },
     "metadata": {},
     "output_type": "display_data"
    },
    {
     "data": {
      "application/vnd.jupyter.widget-view+json": {
       "model_id": "44deac04b5ec45a2bc89ff722d3c248c",
       "version_major": 2,
       "version_minor": 0
      },
      "text/plain": [
       "Training episodes:   0%|          | 0/3 [00:00<?, ?it/s]"
      ]
     },
     "metadata": {},
     "output_type": "display_data"
    },
    {
     "data": {
      "application/vnd.jupyter.widget-view+json": {
       "model_id": "4f992a26991341bfbee953cf2fc32b83",
       "version_major": 2,
       "version_minor": 0
      },
      "text/plain": [
       "Training episodes:   0%|          | 0/3 [00:00<?, ?it/s]"
      ]
     },
     "metadata": {},
     "output_type": "display_data"
    },
    {
     "data": {
      "application/vnd.jupyter.widget-view+json": {
       "model_id": "85da7b5889784b14b88b71de193fc90a",
       "version_major": 2,
       "version_minor": 0
      },
      "text/plain": [
       "Training episodes:   0%|          | 0/3 [00:00<?, ?it/s]"
      ]
     },
     "metadata": {},
     "output_type": "display_data"
    },
    {
     "data": {
      "application/vnd.jupyter.widget-view+json": {
       "model_id": "309f14459ecc4c03b95bfd86e462f6f0",
       "version_major": 2,
       "version_minor": 0
      },
      "text/plain": [
       "Training episodes:   0%|          | 0/3 [00:00<?, ?it/s]"
      ]
     },
     "metadata": {},
     "output_type": "display_data"
    },
    {
     "data": {
      "application/vnd.jupyter.widget-view+json": {
       "model_id": "341f78852c634b7caa9787187da13f87",
       "version_major": 2,
       "version_minor": 0
      },
      "text/plain": [
       "Training episodes:   0%|          | 0/3 [00:00<?, ?it/s]"
      ]
     },
     "metadata": {},
     "output_type": "display_data"
    },
    {
     "data": {
      "application/vnd.jupyter.widget-view+json": {
       "model_id": "f66ff6fc799c44d7a71c5ffcbed75bf3",
       "version_major": 2,
       "version_minor": 0
      },
      "text/plain": [
       "Training episodes:   0%|          | 0/3 [00:00<?, ?it/s]"
      ]
     },
     "metadata": {},
     "output_type": "display_data"
    },
    {
     "data": {
      "application/vnd.jupyter.widget-view+json": {
       "model_id": "c54fd78bbfb24780b062ef8bcd233bb0",
       "version_major": 2,
       "version_minor": 0
      },
      "text/plain": [
       "Training episodes:   0%|          | 0/3 [00:00<?, ?it/s]"
      ]
     },
     "metadata": {},
     "output_type": "display_data"
    },
    {
     "data": {
      "application/vnd.jupyter.widget-view+json": {
       "model_id": "10852c4d0fc8487b9821b45336fa107e",
       "version_major": 2,
       "version_minor": 0
      },
      "text/plain": [
       "Training episodes:   0%|          | 0/3 [00:00<?, ?it/s]"
      ]
     },
     "metadata": {},
     "output_type": "display_data"
    },
    {
     "data": {
      "application/vnd.jupyter.widget-view+json": {
       "model_id": "c1cc967294784c31a972c2342e4c4769",
       "version_major": 2,
       "version_minor": 0
      },
      "text/plain": [
       "Training episodes:   0%|          | 0/3 [00:00<?, ?it/s]"
      ]
     },
     "metadata": {},
     "output_type": "display_data"
    },
    {
     "data": {
      "application/vnd.jupyter.widget-view+json": {
       "model_id": "a257481373ce44cfb08604cfcebcb3b5",
       "version_major": 2,
       "version_minor": 0
      },
      "text/plain": [
       "Training episodes:   0%|          | 0/3 [00:00<?, ?it/s]"
      ]
     },
     "metadata": {},
     "output_type": "display_data"
    },
    {
     "data": {
      "application/vnd.jupyter.widget-view+json": {
       "model_id": "514fa951546a40d8bc28f34b5b77c830",
       "version_major": 2,
       "version_minor": 0
      },
      "text/plain": [
       "Training episodes:   0%|          | 0/3 [00:00<?, ?it/s]"
      ]
     },
     "metadata": {},
     "output_type": "display_data"
    },
    {
     "data": {
      "application/vnd.jupyter.widget-view+json": {
       "model_id": "94c057b78417498a82b9fecc26f45428",
       "version_major": 2,
       "version_minor": 0
      },
      "text/plain": [
       "Training episodes:   0%|          | 0/3 [00:00<?, ?it/s]"
      ]
     },
     "metadata": {},
     "output_type": "display_data"
    },
    {
     "data": {
      "application/vnd.jupyter.widget-view+json": {
       "model_id": "c305a6c38beb4e0ab58a21446472886c",
       "version_major": 2,
       "version_minor": 0
      },
      "text/plain": [
       "Training episodes:   0%|          | 0/3 [00:00<?, ?it/s]"
      ]
     },
     "metadata": {},
     "output_type": "display_data"
    },
    {
     "data": {
      "application/vnd.jupyter.widget-view+json": {
       "model_id": "fbaa22824a9444fabc0d7cad636b121b",
       "version_major": 2,
       "version_minor": 0
      },
      "text/plain": [
       "Training episodes:   0%|          | 0/3 [00:00<?, ?it/s]"
      ]
     },
     "metadata": {},
     "output_type": "display_data"
    },
    {
     "data": {
      "application/vnd.jupyter.widget-view+json": {
       "model_id": "cbcd14fcd1424db4a79b87dfd59c63f9",
       "version_major": 2,
       "version_minor": 0
      },
      "text/plain": [
       "Training episodes:   0%|          | 0/3 [00:00<?, ?it/s]"
      ]
     },
     "metadata": {},
     "output_type": "display_data"
    },
    {
     "data": {
      "application/vnd.jupyter.widget-view+json": {
       "model_id": "9ae84602ebe24f03963d945fef0d0ea4",
       "version_major": 2,
       "version_minor": 0
      },
      "text/plain": [
       "Training episodes:   0%|          | 0/3 [00:00<?, ?it/s]"
      ]
     },
     "metadata": {},
     "output_type": "display_data"
    },
    {
     "data": {
      "application/vnd.jupyter.widget-view+json": {
       "model_id": "84c8910e6e98475aaf302b20ff114a7a",
       "version_major": 2,
       "version_minor": 0
      },
      "text/plain": [
       "Training episodes:   0%|          | 0/3 [00:00<?, ?it/s]"
      ]
     },
     "metadata": {},
     "output_type": "display_data"
    },
    {
     "data": {
      "application/vnd.jupyter.widget-view+json": {
       "model_id": "e42dcc91bdef4bfe9a2defdae861f5f5",
       "version_major": 2,
       "version_minor": 0
      },
      "text/plain": [
       "Training episodes:   0%|          | 0/3 [00:00<?, ?it/s]"
      ]
     },
     "metadata": {},
     "output_type": "display_data"
    },
    {
     "data": {
      "application/vnd.jupyter.widget-view+json": {
       "model_id": "fea9dc9e7e424fdba60aa733b5d021f1",
       "version_major": 2,
       "version_minor": 0
      },
      "text/plain": [
       "Training episodes:   0%|          | 0/3 [00:00<?, ?it/s]"
      ]
     },
     "metadata": {},
     "output_type": "display_data"
    },
    {
     "data": {
      "application/vnd.jupyter.widget-view+json": {
       "model_id": "2d427a84c4e34950a6b5487ef16db8d4",
       "version_major": 2,
       "version_minor": 0
      },
      "text/plain": [
       "Training episodes:   0%|          | 0/3 [00:00<?, ?it/s]"
      ]
     },
     "metadata": {},
     "output_type": "display_data"
    },
    {
     "data": {
      "application/vnd.jupyter.widget-view+json": {
       "model_id": "12c54380a5f54ea88cab4a93c8c04bd9",
       "version_major": 2,
       "version_minor": 0
      },
      "text/plain": [
       "Training episodes:   0%|          | 0/3 [00:00<?, ?it/s]"
      ]
     },
     "metadata": {},
     "output_type": "display_data"
    },
    {
     "data": {
      "application/vnd.jupyter.widget-view+json": {
       "model_id": "f6c6cc156fd243b9bee49e83b29da4c1",
       "version_major": 2,
       "version_minor": 0
      },
      "text/plain": [
       "Training episodes:   0%|          | 0/3 [00:00<?, ?it/s]"
      ]
     },
     "metadata": {},
     "output_type": "display_data"
    },
    {
     "data": {
      "application/vnd.jupyter.widget-view+json": {
       "model_id": "4845c2b7e3214070935505852abeb4ac",
       "version_major": 2,
       "version_minor": 0
      },
      "text/plain": [
       "Training episodes:   0%|          | 0/3 [00:00<?, ?it/s]"
      ]
     },
     "metadata": {},
     "output_type": "display_data"
    },
    {
     "data": {
      "application/vnd.jupyter.widget-view+json": {
       "model_id": "4c2b3730f77f4bacad07513fd2a87e25",
       "version_major": 2,
       "version_minor": 0
      },
      "text/plain": [
       "Training episodes:   0%|          | 0/3 [00:00<?, ?it/s]"
      ]
     },
     "metadata": {},
     "output_type": "display_data"
    },
    {
     "data": {
      "application/vnd.jupyter.widget-view+json": {
       "model_id": "8e1b564cd261498795f847d581ca59d9",
       "version_major": 2,
       "version_minor": 0
      },
      "text/plain": [
       "Training episodes:   0%|          | 0/3 [00:00<?, ?it/s]"
      ]
     },
     "metadata": {},
     "output_type": "display_data"
    },
    {
     "data": {
      "application/vnd.jupyter.widget-view+json": {
       "model_id": "7b2a8a94a6d04e7caf2e56513b5a0d99",
       "version_major": 2,
       "version_minor": 0
      },
      "text/plain": [
       "Training episodes:   0%|          | 0/3 [00:00<?, ?it/s]"
      ]
     },
     "metadata": {},
     "output_type": "display_data"
    },
    {
     "data": {
      "application/vnd.jupyter.widget-view+json": {
       "model_id": "ac9c87dd31364b229c1fca0191bc5177",
       "version_major": 2,
       "version_minor": 0
      },
      "text/plain": [
       "Training episodes:   0%|          | 0/3 [00:00<?, ?it/s]"
      ]
     },
     "metadata": {},
     "output_type": "display_data"
    },
    {
     "data": {
      "application/vnd.jupyter.widget-view+json": {
       "model_id": "98f17de526544fcb972ec26bf054f248",
       "version_major": 2,
       "version_minor": 0
      },
      "text/plain": [
       "Training episodes:   0%|          | 0/3 [00:00<?, ?it/s]"
      ]
     },
     "metadata": {},
     "output_type": "display_data"
    },
    {
     "data": {
      "application/vnd.jupyter.widget-view+json": {
       "model_id": "778f6c2bb752457899baa9d3a3892aaa",
       "version_major": 2,
       "version_minor": 0
      },
      "text/plain": [
       "Training episodes:   0%|          | 0/3 [00:00<?, ?it/s]"
      ]
     },
     "metadata": {},
     "output_type": "display_data"
    },
    {
     "data": {
      "application/vnd.jupyter.widget-view+json": {
       "model_id": "420f76e5e1ff4e289214138fd93b50bd",
       "version_major": 2,
       "version_minor": 0
      },
      "text/plain": [
       "Training episodes:   0%|          | 0/3 [00:00<?, ?it/s]"
      ]
     },
     "metadata": {},
     "output_type": "display_data"
    },
    {
     "data": {
      "application/vnd.jupyter.widget-view+json": {
       "model_id": "c739d77ec4c440c38ad495722081f42f",
       "version_major": 2,
       "version_minor": 0
      },
      "text/plain": [
       "Training episodes:   0%|          | 0/3 [00:00<?, ?it/s]"
      ]
     },
     "metadata": {},
     "output_type": "display_data"
    },
    {
     "data": {
      "application/vnd.jupyter.widget-view+json": {
       "model_id": "850cf2a9ba0c4903bf630b35842f0206",
       "version_major": 2,
       "version_minor": 0
      },
      "text/plain": [
       "Training episodes:   0%|          | 0/3 [00:00<?, ?it/s]"
      ]
     },
     "metadata": {},
     "output_type": "display_data"
    },
    {
     "data": {
      "application/vnd.jupyter.widget-view+json": {
       "model_id": "b2006fac5e9d4defba4c6dd4a143048d",
       "version_major": 2,
       "version_minor": 0
      },
      "text/plain": [
       "Training episodes:   0%|          | 0/3 [00:00<?, ?it/s]"
      ]
     },
     "metadata": {},
     "output_type": "display_data"
    },
    {
     "data": {
      "application/vnd.jupyter.widget-view+json": {
       "model_id": "97ced8c8fc4e47adaef27ddd6c05ccfa",
       "version_major": 2,
       "version_minor": 0
      },
      "text/plain": [
       "seeds:   0%|          | 0/30 [00:00<?, ?it/s]"
      ]
     },
     "metadata": {},
     "output_type": "display_data"
    },
    {
     "data": {
      "application/vnd.jupyter.widget-view+json": {
       "model_id": "104c5ff629234d5b8e4f47bf9b218db3",
       "version_major": 2,
       "version_minor": 0
      },
      "text/plain": [
       "Training episodes:   0%|          | 0/3 [00:00<?, ?it/s]"
      ]
     },
     "metadata": {},
     "output_type": "display_data"
    },
    {
     "data": {
      "application/vnd.jupyter.widget-view+json": {
       "model_id": "b19378a9703d41c3afc1b9bea71fb048",
       "version_major": 2,
       "version_minor": 0
      },
      "text/plain": [
       "Training episodes:   0%|          | 0/3 [00:00<?, ?it/s]"
      ]
     },
     "metadata": {},
     "output_type": "display_data"
    },
    {
     "data": {
      "application/vnd.jupyter.widget-view+json": {
       "model_id": "89959b462b7f4980aaefea82e183c11d",
       "version_major": 2,
       "version_minor": 0
      },
      "text/plain": [
       "Training episodes:   0%|          | 0/3 [00:00<?, ?it/s]"
      ]
     },
     "metadata": {},
     "output_type": "display_data"
    },
    {
     "data": {
      "application/vnd.jupyter.widget-view+json": {
       "model_id": "7066c61376094b58868e72e6a3fd9207",
       "version_major": 2,
       "version_minor": 0
      },
      "text/plain": [
       "Training episodes:   0%|          | 0/3 [00:00<?, ?it/s]"
      ]
     },
     "metadata": {},
     "output_type": "display_data"
    },
    {
     "data": {
      "application/vnd.jupyter.widget-view+json": {
       "model_id": "e8b97a80ed5c490a923f66ffae0f2e49",
       "version_major": 2,
       "version_minor": 0
      },
      "text/plain": [
       "Training episodes:   0%|          | 0/3 [00:00<?, ?it/s]"
      ]
     },
     "metadata": {},
     "output_type": "display_data"
    },
    {
     "data": {
      "application/vnd.jupyter.widget-view+json": {
       "model_id": "ae774080665d453eb2a55100f7a57342",
       "version_major": 2,
       "version_minor": 0
      },
      "text/plain": [
       "Training episodes:   0%|          | 0/3 [00:00<?, ?it/s]"
      ]
     },
     "metadata": {},
     "output_type": "display_data"
    },
    {
     "data": {
      "application/vnd.jupyter.widget-view+json": {
       "model_id": "8aa471982536414cb85721cab094b7e0",
       "version_major": 2,
       "version_minor": 0
      },
      "text/plain": [
       "Training episodes:   0%|          | 0/3 [00:00<?, ?it/s]"
      ]
     },
     "metadata": {},
     "output_type": "display_data"
    },
    {
     "data": {
      "application/vnd.jupyter.widget-view+json": {
       "model_id": "c8700427f1424507a7856b74de066b76",
       "version_major": 2,
       "version_minor": 0
      },
      "text/plain": [
       "Training episodes:   0%|          | 0/3 [00:00<?, ?it/s]"
      ]
     },
     "metadata": {},
     "output_type": "display_data"
    },
    {
     "data": {
      "application/vnd.jupyter.widget-view+json": {
       "model_id": "b3337ab38a494b929073cdf937b3df65",
       "version_major": 2,
       "version_minor": 0
      },
      "text/plain": [
       "Training episodes:   0%|          | 0/3 [00:00<?, ?it/s]"
      ]
     },
     "metadata": {},
     "output_type": "display_data"
    },
    {
     "data": {
      "application/vnd.jupyter.widget-view+json": {
       "model_id": "46a8c40feac54cfd8d9e72360a4f7876",
       "version_major": 2,
       "version_minor": 0
      },
      "text/plain": [
       "Training episodes:   0%|          | 0/3 [00:00<?, ?it/s]"
      ]
     },
     "metadata": {},
     "output_type": "display_data"
    },
    {
     "data": {
      "application/vnd.jupyter.widget-view+json": {
       "model_id": "3bbde86ea695485fa4b533a8c798948d",
       "version_major": 2,
       "version_minor": 0
      },
      "text/plain": [
       "seeds:   0%|          | 0/30 [00:00<?, ?it/s]"
      ]
     },
     "metadata": {},
     "output_type": "display_data"
    },
    {
     "data": {
      "application/vnd.jupyter.widget-view+json": {
       "model_id": "cc918f71c85943a589b784208915b008",
       "version_major": 2,
       "version_minor": 0
      },
      "text/plain": [
       "Training episodes:   0%|          | 0/3 [00:00<?, ?it/s]"
      ]
     },
     "metadata": {},
     "output_type": "display_data"
    },
    {
     "data": {
      "application/vnd.jupyter.widget-view+json": {
       "model_id": "2b7a2cbf144b41a5867234ca67493339",
       "version_major": 2,
       "version_minor": 0
      },
      "text/plain": [
       "Training episodes:   0%|          | 0/3 [00:00<?, ?it/s]"
      ]
     },
     "metadata": {},
     "output_type": "display_data"
    },
    {
     "name": "stdout",
     "output_type": "stream",
     "text": [
      "[I 2025-03-03 00:26:49,740] Trial 4 finished with value: -17520.799999999996 and parameters: {'learning_rate': 3.758008930883173e-05, 'n_steps': 319, 'batch_size': 242, 'gae_lambda': 0.9771001833286587, 'ent_coef': 0.018594125969999622, 'vf_coef': 0.7455807690984315, 'clip_range': 0.2351316479638441, 'max_grad_norm': 0.797234262485128}. Best is trial 4 with value: -17520.799999999996.\n"
     ]
    },
    {
     "data": {
      "application/vnd.jupyter.widget-view+json": {
       "model_id": "479979e2d26b4197a593daca0a44de9f",
       "version_major": 2,
       "version_minor": 0
      },
      "text/plain": [
       "seeds:   0%|          | 0/30 [00:00<?, ?it/s]"
      ]
     },
     "metadata": {},
     "output_type": "display_data"
    },
    {
     "data": {
      "application/vnd.jupyter.widget-view+json": {
       "model_id": "edd430882c454d0f9ee6ff391e61e825",
       "version_major": 2,
       "version_minor": 0
      },
      "text/plain": [
       "Training episodes:   0%|          | 0/3 [00:00<?, ?it/s]"
      ]
     },
     "metadata": {},
     "output_type": "display_data"
    },
    {
     "data": {
      "application/vnd.jupyter.widget-view+json": {
       "model_id": "7a0adeea293f4fc2ab00c68538fec13e",
       "version_major": 2,
       "version_minor": 0
      },
      "text/plain": [
       "Training episodes:   0%|          | 0/3 [00:00<?, ?it/s]"
      ]
     },
     "metadata": {},
     "output_type": "display_data"
    },
    {
     "data": {
      "application/vnd.jupyter.widget-view+json": {
       "model_id": "d6f83637e7cf479a965687c414434d50",
       "version_major": 2,
       "version_minor": 0
      },
      "text/plain": [
       "Training episodes:   0%|          | 0/3 [00:00<?, ?it/s]"
      ]
     },
     "metadata": {},
     "output_type": "display_data"
    },
    {
     "data": {
      "application/vnd.jupyter.widget-view+json": {
       "model_id": "b29761a6273a4041a02b972a4f0fa1ec",
       "version_major": 2,
       "version_minor": 0
      },
      "text/plain": [
       "Training episodes:   0%|          | 0/3 [00:00<?, ?it/s]"
      ]
     },
     "metadata": {},
     "output_type": "display_data"
    },
    {
     "data": {
      "application/vnd.jupyter.widget-view+json": {
       "model_id": "e16275a41b494839ba9687eb60d8dca7",
       "version_major": 2,
       "version_minor": 0
      },
      "text/plain": [
       "Training episodes:   0%|          | 0/3 [00:00<?, ?it/s]"
      ]
     },
     "metadata": {},
     "output_type": "display_data"
    },
    {
     "data": {
      "application/vnd.jupyter.widget-view+json": {
       "model_id": "36bbfa9d275d4fbebbf39d4ba5edb1f9",
       "version_major": 2,
       "version_minor": 0
      },
      "text/plain": [
       "Training episodes:   0%|          | 0/3 [00:00<?, ?it/s]"
      ]
     },
     "metadata": {},
     "output_type": "display_data"
    },
    {
     "data": {
      "application/vnd.jupyter.widget-view+json": {
       "model_id": "4749490a61b6484fb4e42dcd6cbc500e",
       "version_major": 2,
       "version_minor": 0
      },
      "text/plain": [
       "Training episodes:   0%|          | 0/3 [00:00<?, ?it/s]"
      ]
     },
     "metadata": {},
     "output_type": "display_data"
    },
    {
     "data": {
      "application/vnd.jupyter.widget-view+json": {
       "model_id": "7863d48dea6f49d8835cfe9406571983",
       "version_major": 2,
       "version_minor": 0
      },
      "text/plain": [
       "Training episodes:   0%|          | 0/3 [00:00<?, ?it/s]"
      ]
     },
     "metadata": {},
     "output_type": "display_data"
    },
    {
     "data": {
      "application/vnd.jupyter.widget-view+json": {
       "model_id": "e2481054c25c462ca45f734962dcaae3",
       "version_major": 2,
       "version_minor": 0
      },
      "text/plain": [
       "Training episodes:   0%|          | 0/3 [00:00<?, ?it/s]"
      ]
     },
     "metadata": {},
     "output_type": "display_data"
    },
    {
     "data": {
      "application/vnd.jupyter.widget-view+json": {
       "model_id": "b7a3cf41584e468d8f44922679467f0f",
       "version_major": 2,
       "version_minor": 0
      },
      "text/plain": [
       "Training episodes:   0%|          | 0/3 [00:00<?, ?it/s]"
      ]
     },
     "metadata": {},
     "output_type": "display_data"
    },
    {
     "data": {
      "application/vnd.jupyter.widget-view+json": {
       "model_id": "ec78cc43a02b413eb1a022ab050215a2",
       "version_major": 2,
       "version_minor": 0
      },
      "text/plain": [
       "Training episodes:   0%|          | 0/3 [00:00<?, ?it/s]"
      ]
     },
     "metadata": {},
     "output_type": "display_data"
    },
    {
     "data": {
      "application/vnd.jupyter.widget-view+json": {
       "model_id": "31f2819d9d57477caa7a08fe5aa45a0f",
       "version_major": 2,
       "version_minor": 0
      },
      "text/plain": [
       "seeds:   0%|          | 0/30 [00:00<?, ?it/s]"
      ]
     },
     "metadata": {},
     "output_type": "display_data"
    },
    {
     "name": "stdout",
     "output_type": "stream",
     "text": [
      "[I 2025-03-03 00:46:09,252] Trial 2 finished with value: -17518.436128881844 and parameters: {'learning_rate': 3.35833243912162e-05, 'n_steps': 116, 'batch_size': 192, 'gae_lambda': 0.8674583020043023, 'ent_coef': 0.007935015225616017, 'vf_coef': 0.656559360548311, 'clip_range': 0.1420952983056653, 'max_grad_norm': 0.5266661158166861}. Best is trial 2 with value: -17518.436128881844.\n"
     ]
    },
    {
     "data": {
      "application/vnd.jupyter.widget-view+json": {
       "model_id": "6ca060db29524672ba598619d6d67b75",
       "version_major": 2,
       "version_minor": 0
      },
      "text/plain": [
       "seeds:   0%|          | 0/30 [00:00<?, ?it/s]"
      ]
     },
     "metadata": {},
     "output_type": "display_data"
    },
    {
     "data": {
      "application/vnd.jupyter.widget-view+json": {
       "model_id": "057b6172f31a4af3b7ff5df2756a7c7c",
       "version_major": 2,
       "version_minor": 0
      },
      "text/plain": [
       "Training episodes:   0%|          | 0/3 [00:00<?, ?it/s]"
      ]
     },
     "metadata": {},
     "output_type": "display_data"
    },
    {
     "data": {
      "application/vnd.jupyter.widget-view+json": {
       "model_id": "e29f66efbb6245fcaef9fe76ada9e372",
       "version_major": 2,
       "version_minor": 0
      },
      "text/plain": [
       "Training episodes:   0%|          | 0/3 [00:00<?, ?it/s]"
      ]
     },
     "metadata": {},
     "output_type": "display_data"
    },
    {
     "data": {
      "application/vnd.jupyter.widget-view+json": {
       "model_id": "4aa88b6c134840afb33bf989706a3620",
       "version_major": 2,
       "version_minor": 0
      },
      "text/plain": [
       "Training episodes:   0%|          | 0/3 [00:00<?, ?it/s]"
      ]
     },
     "metadata": {},
     "output_type": "display_data"
    },
    {
     "data": {
      "application/vnd.jupyter.widget-view+json": {
       "model_id": "386103b1c6694c58836b211c8773be9e",
       "version_major": 2,
       "version_minor": 0
      },
      "text/plain": [
       "Training episodes:   0%|          | 0/3 [00:00<?, ?it/s]"
      ]
     },
     "metadata": {},
     "output_type": "display_data"
    },
    {
     "data": {
      "application/vnd.jupyter.widget-view+json": {
       "model_id": "fcc2f7bf6e5f4ae98dfda8f46795ffdf",
       "version_major": 2,
       "version_minor": 0
      },
      "text/plain": [
       "Training episodes:   0%|          | 0/3 [00:00<?, ?it/s]"
      ]
     },
     "metadata": {},
     "output_type": "display_data"
    },
    {
     "data": {
      "application/vnd.jupyter.widget-view+json": {
       "model_id": "d73be34517cf42fabf18dbaecb5fad68",
       "version_major": 2,
       "version_minor": 0
      },
      "text/plain": [
       "Training episodes:   0%|          | 0/3 [00:00<?, ?it/s]"
      ]
     },
     "metadata": {},
     "output_type": "display_data"
    },
    {
     "data": {
      "application/vnd.jupyter.widget-view+json": {
       "model_id": "29935ac0096c4c53a57082353203b61b",
       "version_major": 2,
       "version_minor": 0
      },
      "text/plain": [
       "Training episodes:   0%|          | 0/3 [00:00<?, ?it/s]"
      ]
     },
     "metadata": {},
     "output_type": "display_data"
    },
    {
     "data": {
      "application/vnd.jupyter.widget-view+json": {
       "model_id": "5336ab1d1f2a41929e226e63ecc3c290",
       "version_major": 2,
       "version_minor": 0
      },
      "text/plain": [
       "Training episodes:   0%|          | 0/3 [00:00<?, ?it/s]"
      ]
     },
     "metadata": {},
     "output_type": "display_data"
    },
    {
     "data": {
      "application/vnd.jupyter.widget-view+json": {
       "model_id": "799b81a66b7a4202a023f9628ef0a635",
       "version_major": 2,
       "version_minor": 0
      },
      "text/plain": [
       "Training episodes:   0%|          | 0/3 [00:00<?, ?it/s]"
      ]
     },
     "metadata": {},
     "output_type": "display_data"
    },
    {
     "data": {
      "application/vnd.jupyter.widget-view+json": {
       "model_id": "f4316e0792904f5989910e9b8307bff9",
       "version_major": 2,
       "version_minor": 0
      },
      "text/plain": [
       "Training episodes:   0%|          | 0/3 [00:00<?, ?it/s]"
      ]
     },
     "metadata": {},
     "output_type": "display_data"
    },
    {
     "data": {
      "application/vnd.jupyter.widget-view+json": {
       "model_id": "3fadfae34930407688d6833b9ea8ab23",
       "version_major": 2,
       "version_minor": 0
      },
      "text/plain": [
       "Training episodes:   0%|          | 0/3 [00:00<?, ?it/s]"
      ]
     },
     "metadata": {},
     "output_type": "display_data"
    },
    {
     "data": {
      "application/vnd.jupyter.widget-view+json": {
       "model_id": "685c046a05414b5c86b5acde42430fcf",
       "version_major": 2,
       "version_minor": 0
      },
      "text/plain": [
       "Training episodes:   0%|          | 0/3 [00:00<?, ?it/s]"
      ]
     },
     "metadata": {},
     "output_type": "display_data"
    },
    {
     "data": {
      "application/vnd.jupyter.widget-view+json": {
       "model_id": "2d4f896e6dc04f419504a3272bb26f28",
       "version_major": 2,
       "version_minor": 0
      },
      "text/plain": [
       "Training episodes:   0%|          | 0/3 [00:00<?, ?it/s]"
      ]
     },
     "metadata": {},
     "output_type": "display_data"
    },
    {
     "data": {
      "application/vnd.jupyter.widget-view+json": {
       "model_id": "b2eb0b8b1d6d4ed2ae294e578889af08",
       "version_major": 2,
       "version_minor": 0
      },
      "text/plain": [
       "Training episodes:   0%|          | 0/3 [00:00<?, ?it/s]"
      ]
     },
     "metadata": {},
     "output_type": "display_data"
    },
    {
     "data": {
      "application/vnd.jupyter.widget-view+json": {
       "model_id": "0ee99ed741ed40caa40a31c121aed8ed",
       "version_major": 2,
       "version_minor": 0
      },
      "text/plain": [
       "Training episodes:   0%|          | 0/3 [00:00<?, ?it/s]"
      ]
     },
     "metadata": {},
     "output_type": "display_data"
    },
    {
     "name": "stdout",
     "output_type": "stream",
     "text": [
      "[I 2025-03-03 01:11:22,679] Trial 1 finished with value: -17515.66136008465 and parameters: {'learning_rate': 3.940847543548621e-05, 'n_steps': 268, 'batch_size': 99, 'gae_lambda': 0.9118970205690571, 'ent_coef': 0.005413585866677664, 'vf_coef': 0.17486847995716487, 'clip_range': 0.24176666076828096, 'max_grad_norm': 0.21207910007381486}. Best is trial 1 with value: -17515.66136008465.\n"
     ]
    },
    {
     "data": {
      "application/vnd.jupyter.widget-view+json": {
       "model_id": "6340a2efb4424c7ba99989a9537b4ad0",
       "version_major": 2,
       "version_minor": 0
      },
      "text/plain": [
       "Training episodes:   0%|          | 0/3 [00:00<?, ?it/s]"
      ]
     },
     "metadata": {},
     "output_type": "display_data"
    },
    {
     "data": {
      "application/vnd.jupyter.widget-view+json": {
       "model_id": "3822f6fdcd55452ab840503971bb6532",
       "version_major": 2,
       "version_minor": 0
      },
      "text/plain": [
       "Training episodes:   0%|          | 0/3 [00:00<?, ?it/s]"
      ]
     },
     "metadata": {},
     "output_type": "display_data"
    },
    {
     "data": {
      "application/vnd.jupyter.widget-view+json": {
       "model_id": "7708111a83a143f58a97feb07d88fc45",
       "version_major": 2,
       "version_minor": 0
      },
      "text/plain": [
       "Training episodes:   0%|          | 0/3 [00:00<?, ?it/s]"
      ]
     },
     "metadata": {},
     "output_type": "display_data"
    },
    {
     "data": {
      "application/vnd.jupyter.widget-view+json": {
       "model_id": "9cf4d03e13f449a6817896c9b925e440",
       "version_major": 2,
       "version_minor": 0
      },
      "text/plain": [
       "Training episodes:   0%|          | 0/3 [00:00<?, ?it/s]"
      ]
     },
     "metadata": {},
     "output_type": "display_data"
    },
    {
     "data": {
      "application/vnd.jupyter.widget-view+json": {
       "model_id": "40c9e8f42dda493893ca0580c6d46877",
       "version_major": 2,
       "version_minor": 0
      },
      "text/plain": [
       "Training episodes:   0%|          | 0/3 [00:00<?, ?it/s]"
      ]
     },
     "metadata": {},
     "output_type": "display_data"
    },
    {
     "data": {
      "application/vnd.jupyter.widget-view+json": {
       "model_id": "fe9d3b598710468a884914dd4d05efa8",
       "version_major": 2,
       "version_minor": 0
      },
      "text/plain": [
       "Training episodes:   0%|          | 0/3 [00:00<?, ?it/s]"
      ]
     },
     "metadata": {},
     "output_type": "display_data"
    },
    {
     "data": {
      "application/vnd.jupyter.widget-view+json": {
       "model_id": "9c3764e993644110b7b3bfffbfcf2b5f",
       "version_major": 2,
       "version_minor": 0
      },
      "text/plain": [
       "Training episodes:   0%|          | 0/3 [00:00<?, ?it/s]"
      ]
     },
     "metadata": {},
     "output_type": "display_data"
    },
    {
     "data": {
      "application/vnd.jupyter.widget-view+json": {
       "model_id": "f3acfd9f0d7a4f90989eb50895aa1596",
       "version_major": 2,
       "version_minor": 0
      },
      "text/plain": [
       "Training episodes:   0%|          | 0/3 [00:00<?, ?it/s]"
      ]
     },
     "metadata": {},
     "output_type": "display_data"
    },
    {
     "data": {
      "application/vnd.jupyter.widget-view+json": {
       "model_id": "ddc94c6954b9469db827f5763e937fe6",
       "version_major": 2,
       "version_minor": 0
      },
      "text/plain": [
       "Training episodes:   0%|          | 0/3 [00:00<?, ?it/s]"
      ]
     },
     "metadata": {},
     "output_type": "display_data"
    },
    {
     "data": {
      "application/vnd.jupyter.widget-view+json": {
       "model_id": "d33bbcce6dc24ee2818e6ea9870edb55",
       "version_major": 2,
       "version_minor": 0
      },
      "text/plain": [
       "Training episodes:   0%|          | 0/3 [00:00<?, ?it/s]"
      ]
     },
     "metadata": {},
     "output_type": "display_data"
    },
    {
     "data": {
      "application/vnd.jupyter.widget-view+json": {
       "model_id": "268cb27bb0ce4cca869724a5211269a0",
       "version_major": 2,
       "version_minor": 0
      },
      "text/plain": [
       "Training episodes:   0%|          | 0/3 [00:00<?, ?it/s]"
      ]
     },
     "metadata": {},
     "output_type": "display_data"
    },
    {
     "data": {
      "application/vnd.jupyter.widget-view+json": {
       "model_id": "f16ce7f74f254b1599148d2e42a32c2f",
       "version_major": 2,
       "version_minor": 0
      },
      "text/plain": [
       "Training episodes:   0%|          | 0/3 [00:00<?, ?it/s]"
      ]
     },
     "metadata": {},
     "output_type": "display_data"
    },
    {
     "data": {
      "application/vnd.jupyter.widget-view+json": {
       "model_id": "d0f6d86dc0024e8bbf47ddb8defcbc01",
       "version_major": 2,
       "version_minor": 0
      },
      "text/plain": [
       "Training episodes:   0%|          | 0/3 [00:00<?, ?it/s]"
      ]
     },
     "metadata": {},
     "output_type": "display_data"
    },
    {
     "data": {
      "application/vnd.jupyter.widget-view+json": {
       "model_id": "66082e4dd7964eb09972f3ede2e02f3e",
       "version_major": 2,
       "version_minor": 0
      },
      "text/plain": [
       "Training episodes:   0%|          | 0/3 [00:00<?, ?it/s]"
      ]
     },
     "metadata": {},
     "output_type": "display_data"
    },
    {
     "data": {
      "application/vnd.jupyter.widget-view+json": {
       "model_id": "b1e174392f534547aeeb8b26782b5018",
       "version_major": 2,
       "version_minor": 0
      },
      "text/plain": [
       "Training episodes:   0%|          | 0/3 [00:00<?, ?it/s]"
      ]
     },
     "metadata": {},
     "output_type": "display_data"
    },
    {
     "data": {
      "application/vnd.jupyter.widget-view+json": {
       "model_id": "1b25382c2a454df3b38d0ef1d09adcf1",
       "version_major": 2,
       "version_minor": 0
      },
      "text/plain": [
       "Training episodes:   0%|          | 0/3 [00:00<?, ?it/s]"
      ]
     },
     "metadata": {},
     "output_type": "display_data"
    },
    {
     "data": {
      "application/vnd.jupyter.widget-view+json": {
       "model_id": "a24c8a54c43e4ab3ae35d796f0d53e4a",
       "version_major": 2,
       "version_minor": 0
      },
      "text/plain": [
       "Training episodes:   0%|          | 0/3 [00:00<?, ?it/s]"
      ]
     },
     "metadata": {},
     "output_type": "display_data"
    },
    {
     "data": {
      "application/vnd.jupyter.widget-view+json": {
       "model_id": "1faf6718cd44433ca894cbc2e5a9e72e",
       "version_major": 2,
       "version_minor": 0
      },
      "text/plain": [
       "Training episodes:   0%|          | 0/3 [00:00<?, ?it/s]"
      ]
     },
     "metadata": {},
     "output_type": "display_data"
    },
    {
     "data": {
      "application/vnd.jupyter.widget-view+json": {
       "model_id": "527061bfa1df4bbe8e57ba9267456777",
       "version_major": 2,
       "version_minor": 0
      },
      "text/plain": [
       "Training episodes:   0%|          | 0/3 [00:00<?, ?it/s]"
      ]
     },
     "metadata": {},
     "output_type": "display_data"
    },
    {
     "data": {
      "application/vnd.jupyter.widget-view+json": {
       "model_id": "0d5d98436bcb43079b7396fdca2e8cb5",
       "version_major": 2,
       "version_minor": 0
      },
      "text/plain": [
       "Training episodes:   0%|          | 0/3 [00:00<?, ?it/s]"
      ]
     },
     "metadata": {},
     "output_type": "display_data"
    },
    {
     "data": {
      "application/vnd.jupyter.widget-view+json": {
       "model_id": "1cba5ed36dcf4fc699bfbe482cb6bfbb",
       "version_major": 2,
       "version_minor": 0
      },
      "text/plain": [
       "Training episodes:   0%|          | 0/3 [00:00<?, ?it/s]"
      ]
     },
     "metadata": {},
     "output_type": "display_data"
    },
    {
     "data": {
      "application/vnd.jupyter.widget-view+json": {
       "model_id": "83a17cbf1fbd42a2bb4a61b437641f90",
       "version_major": 2,
       "version_minor": 0
      },
      "text/plain": [
       "seeds:   0%|          | 0/30 [00:00<?, ?it/s]"
      ]
     },
     "metadata": {},
     "output_type": "display_data"
    },
    {
     "data": {
      "application/vnd.jupyter.widget-view+json": {
       "model_id": "0b81cdcc9c8648b0a93b190f34aa9622",
       "version_major": 2,
       "version_minor": 0
      },
      "text/plain": [
       "Training episodes:   0%|          | 0/3 [00:00<?, ?it/s]"
      ]
     },
     "metadata": {},
     "output_type": "display_data"
    },
    {
     "data": {
      "application/vnd.jupyter.widget-view+json": {
       "model_id": "812fc92ace0841cbb33ff818eb659bed",
       "version_major": 2,
       "version_minor": 0
      },
      "text/plain": [
       "Training episodes:   0%|          | 0/3 [00:00<?, ?it/s]"
      ]
     },
     "metadata": {},
     "output_type": "display_data"
    },
    {
     "data": {
      "application/vnd.jupyter.widget-view+json": {
       "model_id": "03b51906be614868a5ad64d6f2c350ca",
       "version_major": 2,
       "version_minor": 0
      },
      "text/plain": [
       "Training episodes:   0%|          | 0/3 [00:00<?, ?it/s]"
      ]
     },
     "metadata": {},
     "output_type": "display_data"
    },
    {
     "data": {
      "application/vnd.jupyter.widget-view+json": {
       "model_id": "d2ab67ed382546efb94f575bafb2383d",
       "version_major": 2,
       "version_minor": 0
      },
      "text/plain": [
       "Training episodes:   0%|          | 0/3 [00:00<?, ?it/s]"
      ]
     },
     "metadata": {},
     "output_type": "display_data"
    },
    {
     "data": {
      "application/vnd.jupyter.widget-view+json": {
       "model_id": "0d7764ecbbb14df2a345ebba27aa6c9d",
       "version_major": 2,
       "version_minor": 0
      },
      "text/plain": [
       "Training episodes:   0%|          | 0/3 [00:00<?, ?it/s]"
      ]
     },
     "metadata": {},
     "output_type": "display_data"
    },
    {
     "data": {
      "application/vnd.jupyter.widget-view+json": {
       "model_id": "81214db3c24e4f99b148ab23bd1d1607",
       "version_major": 2,
       "version_minor": 0
      },
      "text/plain": [
       "Training episodes:   0%|          | 0/3 [00:00<?, ?it/s]"
      ]
     },
     "metadata": {},
     "output_type": "display_data"
    },
    {
     "data": {
      "application/vnd.jupyter.widget-view+json": {
       "model_id": "859439f4a70f44e4aa25e579d12e76cf",
       "version_major": 2,
       "version_minor": 0
      },
      "text/plain": [
       "Training episodes:   0%|          | 0/3 [00:00<?, ?it/s]"
      ]
     },
     "metadata": {},
     "output_type": "display_data"
    },
    {
     "data": {
      "application/vnd.jupyter.widget-view+json": {
       "model_id": "9ddc25b3f4934e369a03e75e0d8d8b10",
       "version_major": 2,
       "version_minor": 0
      },
      "text/plain": [
       "Training episodes:   0%|          | 0/3 [00:00<?, ?it/s]"
      ]
     },
     "metadata": {},
     "output_type": "display_data"
    },
    {
     "data": {
      "application/vnd.jupyter.widget-view+json": {
       "model_id": "1f55667b63ab440696b34fa717451d28",
       "version_major": 2,
       "version_minor": 0
      },
      "text/plain": [
       "Training episodes:   0%|          | 0/3 [00:00<?, ?it/s]"
      ]
     },
     "metadata": {},
     "output_type": "display_data"
    },
    {
     "data": {
      "application/vnd.jupyter.widget-view+json": {
       "model_id": "a0a2405fcf8b4f8ba3b1be5c6401532a",
       "version_major": 2,
       "version_minor": 0
      },
      "text/plain": [
       "Training episodes:   0%|          | 0/3 [00:00<?, ?it/s]"
      ]
     },
     "metadata": {},
     "output_type": "display_data"
    },
    {
     "name": "stdout",
     "output_type": "stream",
     "text": [
      "[I 2025-03-03 02:08:54,788] Trial 0 finished with value: -15928.375476046856 and parameters: {'learning_rate': 3.092952404201151e-05, 'n_steps': 146, 'batch_size': 62, 'gae_lambda': 0.987861048112466, 'ent_coef': 0.011296527212628396, 'vf_coef': 0.9633867557909092, 'clip_range': 0.13454499916877788, 'max_grad_norm': 0.2993995130923701}. Best is trial 0 with value: -15928.375476046856.\n"
     ]
    },
    {
     "data": {
      "application/vnd.jupyter.widget-view+json": {
       "model_id": "7f8a99da28444aceb5b96bca9bfb293a",
       "version_major": 2,
       "version_minor": 0
      },
      "text/plain": [
       "Training episodes:   0%|          | 0/3 [00:00<?, ?it/s]"
      ]
     },
     "metadata": {},
     "output_type": "display_data"
    },
    {
     "data": {
      "application/vnd.jupyter.widget-view+json": {
       "model_id": "3256dd2a0a5c4a99852a759aec80703b",
       "version_major": 2,
       "version_minor": 0
      },
      "text/plain": [
       "Training episodes:   0%|          | 0/3 [00:00<?, ?it/s]"
      ]
     },
     "metadata": {},
     "output_type": "display_data"
    },
    {
     "data": {
      "application/vnd.jupyter.widget-view+json": {
       "model_id": "a674157f504b46b58f6810631a98388e",
       "version_major": 2,
       "version_minor": 0
      },
      "text/plain": [
       "Training episodes:   0%|          | 0/3 [00:00<?, ?it/s]"
      ]
     },
     "metadata": {},
     "output_type": "display_data"
    },
    {
     "data": {
      "application/vnd.jupyter.widget-view+json": {
       "model_id": "b6f9025642b448db95a38f207008a4ab",
       "version_major": 2,
       "version_minor": 0
      },
      "text/plain": [
       "Training episodes:   0%|          | 0/3 [00:00<?, ?it/s]"
      ]
     },
     "metadata": {},
     "output_type": "display_data"
    },
    {
     "data": {
      "application/vnd.jupyter.widget-view+json": {
       "model_id": "b67a71456df84a4180c73f5d4e952d02",
       "version_major": 2,
       "version_minor": 0
      },
      "text/plain": [
       "Training episodes:   0%|          | 0/3 [00:00<?, ?it/s]"
      ]
     },
     "metadata": {},
     "output_type": "display_data"
    },
    {
     "data": {
      "application/vnd.jupyter.widget-view+json": {
       "model_id": "09607e5ff9c24dd6ab1e16f77737ee85",
       "version_major": 2,
       "version_minor": 0
      },
      "text/plain": [
       "Training episodes:   0%|          | 0/3 [00:00<?, ?it/s]"
      ]
     },
     "metadata": {},
     "output_type": "display_data"
    },
    {
     "data": {
      "application/vnd.jupyter.widget-view+json": {
       "model_id": "f5b75c71bcb84b3eb9edb2bea0bce7b6",
       "version_major": 2,
       "version_minor": 0
      },
      "text/plain": [
       "Training episodes:   0%|          | 0/3 [00:00<?, ?it/s]"
      ]
     },
     "metadata": {},
     "output_type": "display_data"
    },
    {
     "data": {
      "application/vnd.jupyter.widget-view+json": {
       "model_id": "3b6a5dbbc6ec46658dca24a961b86e58",
       "version_major": 2,
       "version_minor": 0
      },
      "text/plain": [
       "Training episodes:   0%|          | 0/3 [00:00<?, ?it/s]"
      ]
     },
     "metadata": {},
     "output_type": "display_data"
    },
    {
     "data": {
      "application/vnd.jupyter.widget-view+json": {
       "model_id": "5547303523e24cf5834d0c25878090f4",
       "version_major": 2,
       "version_minor": 0
      },
      "text/plain": [
       "Training episodes:   0%|          | 0/3 [00:00<?, ?it/s]"
      ]
     },
     "metadata": {},
     "output_type": "display_data"
    },
    {
     "data": {
      "application/vnd.jupyter.widget-view+json": {
       "model_id": "bda6da9e657f48608e623149fd58a772",
       "version_major": 2,
       "version_minor": 0
      },
      "text/plain": [
       "Training episodes:   0%|          | 0/3 [00:00<?, ?it/s]"
      ]
     },
     "metadata": {},
     "output_type": "display_data"
    },
    {
     "data": {
      "application/vnd.jupyter.widget-view+json": {
       "model_id": "c704bf962a16421abe217339e5c7a570",
       "version_major": 2,
       "version_minor": 0
      },
      "text/plain": [
       "Training episodes:   0%|          | 0/3 [00:00<?, ?it/s]"
      ]
     },
     "metadata": {},
     "output_type": "display_data"
    },
    {
     "data": {
      "application/vnd.jupyter.widget-view+json": {
       "model_id": "d849796e39bc47fcb0df75acadc0907e",
       "version_major": 2,
       "version_minor": 0
      },
      "text/plain": [
       "seeds:   0%|          | 0/30 [00:00<?, ?it/s]"
      ]
     },
     "metadata": {},
     "output_type": "display_data"
    },
    {
     "data": {
      "application/vnd.jupyter.widget-view+json": {
       "model_id": "94eb1fcf68114aecb7a4d1a5410d0f71",
       "version_major": 2,
       "version_minor": 0
      },
      "text/plain": [
       "Training episodes:   0%|          | 0/3 [00:00<?, ?it/s]"
      ]
     },
     "metadata": {},
     "output_type": "display_data"
    },
    {
     "data": {
      "application/vnd.jupyter.widget-view+json": {
       "model_id": "92c98d2ac23e4ec69205615e02432148",
       "version_major": 2,
       "version_minor": 0
      },
      "text/plain": [
       "Training episodes:   0%|          | 0/3 [00:00<?, ?it/s]"
      ]
     },
     "metadata": {},
     "output_type": "display_data"
    },
    {
     "data": {
      "application/vnd.jupyter.widget-view+json": {
       "model_id": "b2366be32e044e2a8680fa07d3f7154f",
       "version_major": 2,
       "version_minor": 0
      },
      "text/plain": [
       "Training episodes:   0%|          | 0/3 [00:00<?, ?it/s]"
      ]
     },
     "metadata": {},
     "output_type": "display_data"
    },
    {
     "data": {
      "application/vnd.jupyter.widget-view+json": {
       "model_id": "6c28e2b478b349a58d0f3322b1b9824c",
       "version_major": 2,
       "version_minor": 0
      },
      "text/plain": [
       "Training episodes:   0%|          | 0/3 [00:00<?, ?it/s]"
      ]
     },
     "metadata": {},
     "output_type": "display_data"
    },
    {
     "data": {
      "application/vnd.jupyter.widget-view+json": {
       "model_id": "a4e9656db52040d48c090bd4858aafd9",
       "version_major": 2,
       "version_minor": 0
      },
      "text/plain": [
       "Training episodes:   0%|          | 0/3 [00:00<?, ?it/s]"
      ]
     },
     "metadata": {},
     "output_type": "display_data"
    },
    {
     "name": "stdout",
     "output_type": "stream",
     "text": [
      "[I 2025-03-03 02:32:30,408] Trial 5 finished with value: -8501.912046704478 and parameters: {'learning_rate': 0.00025489981868470835, 'n_steps': 38, 'batch_size': 192, 'gae_lambda': 0.8416755028586217, 'ent_coef': 0.01922902601246564, 'vf_coef': 0.5011744081253736, 'clip_range': 0.28727392489707493, 'max_grad_norm': 0.41848691795954784}. Best is trial 5 with value: -8501.912046704478.\n"
     ]
    },
    {
     "data": {
      "application/vnd.jupyter.widget-view+json": {
       "model_id": "72744cfd92ba461cbbf59bb6c2e8f57f",
       "version_major": 2,
       "version_minor": 0
      },
      "text/plain": [
       "Training episodes:   0%|          | 0/3 [00:00<?, ?it/s]"
      ]
     },
     "metadata": {},
     "output_type": "display_data"
    },
    {
     "data": {
      "application/vnd.jupyter.widget-view+json": {
       "model_id": "5f4a340a44df4b3684df7980e5fa2915",
       "version_major": 2,
       "version_minor": 0
      },
      "text/plain": [
       "Training episodes:   0%|          | 0/3 [00:00<?, ?it/s]"
      ]
     },
     "metadata": {},
     "output_type": "display_data"
    },
    {
     "data": {
      "application/vnd.jupyter.widget-view+json": {
       "model_id": "f2b38a9e45744235a078cfbd3640a10c",
       "version_major": 2,
       "version_minor": 0
      },
      "text/plain": [
       "Training episodes:   0%|          | 0/3 [00:00<?, ?it/s]"
      ]
     },
     "metadata": {},
     "output_type": "display_data"
    },
    {
     "data": {
      "application/vnd.jupyter.widget-view+json": {
       "model_id": "cb40b38f986a4b3e8ac18bfcd3eea002",
       "version_major": 2,
       "version_minor": 0
      },
      "text/plain": [
       "Training episodes:   0%|          | 0/3 [00:00<?, ?it/s]"
      ]
     },
     "metadata": {},
     "output_type": "display_data"
    },
    {
     "data": {
      "application/vnd.jupyter.widget-view+json": {
       "model_id": "c7aa5f54fdc64d92a2d51beaa27571a3",
       "version_major": 2,
       "version_minor": 0
      },
      "text/plain": [
       "Training episodes:   0%|          | 0/3 [00:00<?, ?it/s]"
      ]
     },
     "metadata": {},
     "output_type": "display_data"
    },
    {
     "data": {
      "application/vnd.jupyter.widget-view+json": {
       "model_id": "2fe2c6cb8729455ab15576129f344709",
       "version_major": 2,
       "version_minor": 0
      },
      "text/plain": [
       "Training episodes:   0%|          | 0/3 [00:00<?, ?it/s]"
      ]
     },
     "metadata": {},
     "output_type": "display_data"
    },
    {
     "data": {
      "application/vnd.jupyter.widget-view+json": {
       "model_id": "2c5b04f509dd458185307035271ea8d8",
       "version_major": 2,
       "version_minor": 0
      },
      "text/plain": [
       "Training episodes:   0%|          | 0/3 [00:00<?, ?it/s]"
      ]
     },
     "metadata": {},
     "output_type": "display_data"
    },
    {
     "data": {
      "application/vnd.jupyter.widget-view+json": {
       "model_id": "b90a66d613774a35914232d23813c5e5",
       "version_major": 2,
       "version_minor": 0
      },
      "text/plain": [
       "Training episodes:   0%|          | 0/3 [00:00<?, ?it/s]"
      ]
     },
     "metadata": {},
     "output_type": "display_data"
    },
    {
     "data": {
      "application/vnd.jupyter.widget-view+json": {
       "model_id": "5562fdefc2ee4a09abf90c55959d70a4",
       "version_major": 2,
       "version_minor": 0
      },
      "text/plain": [
       "Training episodes:   0%|          | 0/3 [00:00<?, ?it/s]"
      ]
     },
     "metadata": {},
     "output_type": "display_data"
    },
    {
     "data": {
      "application/vnd.jupyter.widget-view+json": {
       "model_id": "08e173e0f0074964a5b791cd661997c8",
       "version_major": 2,
       "version_minor": 0
      },
      "text/plain": [
       "Training episodes:   0%|          | 0/3 [00:00<?, ?it/s]"
      ]
     },
     "metadata": {},
     "output_type": "display_data"
    },
    {
     "data": {
      "application/vnd.jupyter.widget-view+json": {
       "model_id": "ac885dd0b6b44149bea45deb5cf91975",
       "version_major": 2,
       "version_minor": 0
      },
      "text/plain": [
       "Training episodes:   0%|          | 0/3 [00:00<?, ?it/s]"
      ]
     },
     "metadata": {},
     "output_type": "display_data"
    },
    {
     "data": {
      "application/vnd.jupyter.widget-view+json": {
       "model_id": "48abf9b304c042c3b10c2c7b079db0fe",
       "version_major": 2,
       "version_minor": 0
      },
      "text/plain": [
       "Training episodes:   0%|          | 0/3 [00:00<?, ?it/s]"
      ]
     },
     "metadata": {},
     "output_type": "display_data"
    },
    {
     "data": {
      "application/vnd.jupyter.widget-view+json": {
       "model_id": "9fbca34996d64e78b95bf5c6bb7a8081",
       "version_major": 2,
       "version_minor": 0
      },
      "text/plain": [
       "Training episodes:   0%|          | 0/3 [00:00<?, ?it/s]"
      ]
     },
     "metadata": {},
     "output_type": "display_data"
    },
    {
     "data": {
      "application/vnd.jupyter.widget-view+json": {
       "model_id": "46b73ff242214673a356fa57ea3607e6",
       "version_major": 2,
       "version_minor": 0
      },
      "text/plain": [
       "Training episodes:   0%|          | 0/3 [00:00<?, ?it/s]"
      ]
     },
     "metadata": {},
     "output_type": "display_data"
    },
    {
     "data": {
      "application/vnd.jupyter.widget-view+json": {
       "model_id": "9d06d79aed2f4757b01a27a13b564c03",
       "version_major": 2,
       "version_minor": 0
      },
      "text/plain": [
       "seeds:   0%|          | 0/30 [00:00<?, ?it/s]"
      ]
     },
     "metadata": {},
     "output_type": "display_data"
    },
    {
     "data": {
      "application/vnd.jupyter.widget-view+json": {
       "model_id": "15f19ca402e74aeda0b46ee9ff3f15ee",
       "version_major": 2,
       "version_minor": 0
      },
      "text/plain": [
       "Training episodes:   0%|          | 0/3 [00:00<?, ?it/s]"
      ]
     },
     "metadata": {},
     "output_type": "display_data"
    },
    {
     "data": {
      "application/vnd.jupyter.widget-view+json": {
       "model_id": "a24893409cc44fd296f8fba73371bf2b",
       "version_major": 2,
       "version_minor": 0
      },
      "text/plain": [
       "Training episodes:   0%|          | 0/3 [00:00<?, ?it/s]"
      ]
     },
     "metadata": {},
     "output_type": "display_data"
    },
    {
     "data": {
      "application/vnd.jupyter.widget-view+json": {
       "model_id": "45d5366d725f4932ad60b135299991c0",
       "version_major": 2,
       "version_minor": 0
      },
      "text/plain": [
       "Training episodes:   0%|          | 0/3 [00:00<?, ?it/s]"
      ]
     },
     "metadata": {},
     "output_type": "display_data"
    },
    {
     "data": {
      "application/vnd.jupyter.widget-view+json": {
       "model_id": "c77104fa6f1b417a92dfa002f5b048b0",
       "version_major": 2,
       "version_minor": 0
      },
      "text/plain": [
       "Training episodes:   0%|          | 0/3 [00:00<?, ?it/s]"
      ]
     },
     "metadata": {},
     "output_type": "display_data"
    },
    {
     "data": {
      "application/vnd.jupyter.widget-view+json": {
       "model_id": "c94a186878824ecc814036aa0d63c7fe",
       "version_major": 2,
       "version_minor": 0
      },
      "text/plain": [
       "Training episodes:   0%|          | 0/3 [00:00<?, ?it/s]"
      ]
     },
     "metadata": {},
     "output_type": "display_data"
    },
    {
     "data": {
      "application/vnd.jupyter.widget-view+json": {
       "model_id": "20fc7e3482a4462aab5674a0b0041125",
       "version_major": 2,
       "version_minor": 0
      },
      "text/plain": [
       "Training episodes:   0%|          | 0/3 [00:00<?, ?it/s]"
      ]
     },
     "metadata": {},
     "output_type": "display_data"
    },
    {
     "data": {
      "application/vnd.jupyter.widget-view+json": {
       "model_id": "679357b8e10b4eb785b4654c28ff2cff",
       "version_major": 2,
       "version_minor": 0
      },
      "text/plain": [
       "Training episodes:   0%|          | 0/3 [00:00<?, ?it/s]"
      ]
     },
     "metadata": {},
     "output_type": "display_data"
    },
    {
     "name": "stdout",
     "output_type": "stream",
     "text": [
      "[I 2025-03-03 03:05:08,268] Trial 3 finished with value: -17499.82791260961 and parameters: {'learning_rate': 0.0004479550976773692, 'n_steps': 216, 'batch_size': 34, 'gae_lambda': 0.8453612246441569, 'ent_coef': 0.017514690527727403, 'vf_coef': 0.4792628966087221, 'clip_range': 0.10215341589616643, 'max_grad_norm': 0.2554352072858279}. Best is trial 5 with value: -8501.912046704478.\n"
     ]
    },
    {
     "data": {
      "application/vnd.jupyter.widget-view+json": {
       "model_id": "c7bae9709da546c0be48dee9fbc8e3e5",
       "version_major": 2,
       "version_minor": 0
      },
      "text/plain": [
       "Training episodes:   0%|          | 0/3 [00:00<?, ?it/s]"
      ]
     },
     "metadata": {},
     "output_type": "display_data"
    },
    {
     "data": {
      "application/vnd.jupyter.widget-view+json": {
       "model_id": "a5e564d332974818bebfe53b97caa30b",
       "version_major": 2,
       "version_minor": 0
      },
      "text/plain": [
       "Training episodes:   0%|          | 0/3 [00:00<?, ?it/s]"
      ]
     },
     "metadata": {},
     "output_type": "display_data"
    },
    {
     "data": {
      "application/vnd.jupyter.widget-view+json": {
       "model_id": "01e4cfa39833491a83d0c59fdb302528",
       "version_major": 2,
       "version_minor": 0
      },
      "text/plain": [
       "Training episodes:   0%|          | 0/3 [00:00<?, ?it/s]"
      ]
     },
     "metadata": {},
     "output_type": "display_data"
    },
    {
     "data": {
      "application/vnd.jupyter.widget-view+json": {
       "model_id": "7d469bc2ea684e32863db0ed22401f58",
       "version_major": 2,
       "version_minor": 0
      },
      "text/plain": [
       "Training episodes:   0%|          | 0/3 [00:00<?, ?it/s]"
      ]
     },
     "metadata": {},
     "output_type": "display_data"
    },
    {
     "data": {
      "application/vnd.jupyter.widget-view+json": {
       "model_id": "81f57c74257e49f0bf606d0355f62e63",
       "version_major": 2,
       "version_minor": 0
      },
      "text/plain": [
       "Training episodes:   0%|          | 0/3 [00:00<?, ?it/s]"
      ]
     },
     "metadata": {},
     "output_type": "display_data"
    },
    {
     "data": {
      "application/vnd.jupyter.widget-view+json": {
       "model_id": "81a61661540749ee9d944269d7a6b4ad",
       "version_major": 2,
       "version_minor": 0
      },
      "text/plain": [
       "Training episodes:   0%|          | 0/3 [00:00<?, ?it/s]"
      ]
     },
     "metadata": {},
     "output_type": "display_data"
    },
    {
     "data": {
      "application/vnd.jupyter.widget-view+json": {
       "model_id": "9b837d0d092647df862ecf7ccd90667f",
       "version_major": 2,
       "version_minor": 0
      },
      "text/plain": [
       "Training episodes:   0%|          | 0/3 [00:00<?, ?it/s]"
      ]
     },
     "metadata": {},
     "output_type": "display_data"
    },
    {
     "data": {
      "application/vnd.jupyter.widget-view+json": {
       "model_id": "336369d8219d47309a89b5ce1bcfc3c5",
       "version_major": 2,
       "version_minor": 0
      },
      "text/plain": [
       "Training episodes:   0%|          | 0/3 [00:00<?, ?it/s]"
      ]
     },
     "metadata": {},
     "output_type": "display_data"
    },
    {
     "data": {
      "application/vnd.jupyter.widget-view+json": {
       "model_id": "59a1dac22b264a64bfc71ef5ace2bb1b",
       "version_major": 2,
       "version_minor": 0
      },
      "text/plain": [
       "Training episodes:   0%|          | 0/3 [00:00<?, ?it/s]"
      ]
     },
     "metadata": {},
     "output_type": "display_data"
    },
    {
     "data": {
      "application/vnd.jupyter.widget-view+json": {
       "model_id": "3edb52de327b43ce8e9d2aea757a22cf",
       "version_major": 2,
       "version_minor": 0
      },
      "text/plain": [
       "Training episodes:   0%|          | 0/3 [00:00<?, ?it/s]"
      ]
     },
     "metadata": {},
     "output_type": "display_data"
    },
    {
     "data": {
      "application/vnd.jupyter.widget-view+json": {
       "model_id": "e38cb674730b435498a3ef109e5c0b1f",
       "version_major": 2,
       "version_minor": 0
      },
      "text/plain": [
       "Training episodes:   0%|          | 0/3 [00:00<?, ?it/s]"
      ]
     },
     "metadata": {},
     "output_type": "display_data"
    },
    {
     "data": {
      "application/vnd.jupyter.widget-view+json": {
       "model_id": "55f18e2de6164f4dbfc33209fc5b1742",
       "version_major": 2,
       "version_minor": 0
      },
      "text/plain": [
       "Training episodes:   0%|          | 0/3 [00:00<?, ?it/s]"
      ]
     },
     "metadata": {},
     "output_type": "display_data"
    },
    {
     "data": {
      "application/vnd.jupyter.widget-view+json": {
       "model_id": "9f9d125b57ac4ea6999d46a4b846240e",
       "version_major": 2,
       "version_minor": 0
      },
      "text/plain": [
       "Training episodes:   0%|          | 0/3 [00:00<?, ?it/s]"
      ]
     },
     "metadata": {},
     "output_type": "display_data"
    },
    {
     "data": {
      "application/vnd.jupyter.widget-view+json": {
       "model_id": "b96704f93ac746a4b62d78711c742d05",
       "version_major": 2,
       "version_minor": 0
      },
      "text/plain": [
       "seeds:   0%|          | 0/30 [00:00<?, ?it/s]"
      ]
     },
     "metadata": {},
     "output_type": "display_data"
    },
    {
     "data": {
      "application/vnd.jupyter.widget-view+json": {
       "model_id": "8d6ef116e13d4720ad60049c2967873a",
       "version_major": 2,
       "version_minor": 0
      },
      "text/plain": [
       "Training episodes:   0%|          | 0/3 [00:00<?, ?it/s]"
      ]
     },
     "metadata": {},
     "output_type": "display_data"
    },
    {
     "data": {
      "application/vnd.jupyter.widget-view+json": {
       "model_id": "9c913fd39d334945bcadb07952eae338",
       "version_major": 2,
       "version_minor": 0
      },
      "text/plain": [
       "Training episodes:   0%|          | 0/3 [00:00<?, ?it/s]"
      ]
     },
     "metadata": {},
     "output_type": "display_data"
    },
    {
     "data": {
      "application/vnd.jupyter.widget-view+json": {
       "model_id": "61dbc309c74442c6a72141f35269b397",
       "version_major": 2,
       "version_minor": 0
      },
      "text/plain": [
       "Training episodes:   0%|          | 0/3 [00:00<?, ?it/s]"
      ]
     },
     "metadata": {},
     "output_type": "display_data"
    },
    {
     "data": {
      "application/vnd.jupyter.widget-view+json": {
       "model_id": "ab4bc86b2a48422bb7402576e80fb61d",
       "version_major": 2,
       "version_minor": 0
      },
      "text/plain": [
       "seeds:   0%|          | 0/30 [00:00<?, ?it/s]"
      ]
     },
     "metadata": {},
     "output_type": "display_data"
    },
    {
     "name": "stdout",
     "output_type": "stream",
     "text": [
      "[I 2025-03-03 03:27:01,507] Trial 9 finished with value: -16365.784196277169 and parameters: {'learning_rate': 0.0008754113953125168, 'n_steps': 872, 'batch_size': 200, 'gae_lambda': 0.9084107926374108, 'ent_coef': 0.01362649896362265, 'vf_coef': 0.9875714679848316, 'clip_range': 0.15300503794949846, 'max_grad_norm': 0.4363374452198766}. Best is trial 5 with value: -8501.912046704478.\n"
     ]
    },
    {
     "data": {
      "application/vnd.jupyter.widget-view+json": {
       "model_id": "22955c4ba87a480aa0300022bf7fc2b6",
       "version_major": 2,
       "version_minor": 0
      },
      "text/plain": [
       "Training episodes:   0%|          | 0/3 [00:00<?, ?it/s]"
      ]
     },
     "metadata": {},
     "output_type": "display_data"
    },
    {
     "data": {
      "application/vnd.jupyter.widget-view+json": {
       "model_id": "c0c7b1545d684c18a1863eaaae897bb9",
       "version_major": 2,
       "version_minor": 0
      },
      "text/plain": [
       "Training episodes:   0%|          | 0/3 [00:00<?, ?it/s]"
      ]
     },
     "metadata": {},
     "output_type": "display_data"
    },
    {
     "name": "stdout",
     "output_type": "stream",
     "text": [
      "[I 2025-03-03 03:30:24,965] Trial 6 finished with value: -14143.715910605508 and parameters: {'learning_rate': 0.00016451012905195706, 'n_steps': 114, 'batch_size': 23, 'gae_lambda': 0.9867199494218222, 'ent_coef': 0.010148094506326717, 'vf_coef': 0.67441731357266, 'clip_range': 0.1123490624764338, 'max_grad_norm': 0.10046815269287063}. Best is trial 5 with value: -8501.912046704478.\n"
     ]
    },
    {
     "data": {
      "application/vnd.jupyter.widget-view+json": {
       "model_id": "99b6343c044b4c0092dd3393401f5d01",
       "version_major": 2,
       "version_minor": 0
      },
      "text/plain": [
       "Training episodes:   0%|          | 0/3 [00:00<?, ?it/s]"
      ]
     },
     "metadata": {},
     "output_type": "display_data"
    },
    {
     "data": {
      "application/vnd.jupyter.widget-view+json": {
       "model_id": "febf204671654f0eb40e3c9a8a32ff3b",
       "version_major": 2,
       "version_minor": 0
      },
      "text/plain": [
       "Training episodes:   0%|          | 0/3 [00:00<?, ?it/s]"
      ]
     },
     "metadata": {},
     "output_type": "display_data"
    },
    {
     "data": {
      "application/vnd.jupyter.widget-view+json": {
       "model_id": "34a02a44f0bb4c579ab2f28c4291dc15",
       "version_major": 2,
       "version_minor": 0
      },
      "text/plain": [
       "Training episodes:   0%|          | 0/3 [00:00<?, ?it/s]"
      ]
     },
     "metadata": {},
     "output_type": "display_data"
    },
    {
     "data": {
      "application/vnd.jupyter.widget-view+json": {
       "model_id": "1e40aa90dff34da1a3f636b97761fbca",
       "version_major": 2,
       "version_minor": 0
      },
      "text/plain": [
       "Training episodes:   0%|          | 0/3 [00:00<?, ?it/s]"
      ]
     },
     "metadata": {},
     "output_type": "display_data"
    },
    {
     "data": {
      "application/vnd.jupyter.widget-view+json": {
       "model_id": "c7bd5977b052480cab796bb6f99a25d9",
       "version_major": 2,
       "version_minor": 0
      },
      "text/plain": [
       "Training episodes:   0%|          | 0/3 [00:00<?, ?it/s]"
      ]
     },
     "metadata": {},
     "output_type": "display_data"
    },
    {
     "data": {
      "application/vnd.jupyter.widget-view+json": {
       "model_id": "30ff9e01fbe8439794b8ac9c2d365446",
       "version_major": 2,
       "version_minor": 0
      },
      "text/plain": [
       "Training episodes:   0%|          | 0/3 [00:00<?, ?it/s]"
      ]
     },
     "metadata": {},
     "output_type": "display_data"
    },
    {
     "data": {
      "application/vnd.jupyter.widget-view+json": {
       "model_id": "5e3d90828f1b4c27a2f30f198990f32c",
       "version_major": 2,
       "version_minor": 0
      },
      "text/plain": [
       "Training episodes:   0%|          | 0/3 [00:00<?, ?it/s]"
      ]
     },
     "metadata": {},
     "output_type": "display_data"
    },
    {
     "data": {
      "application/vnd.jupyter.widget-view+json": {
       "model_id": "2293a27e2df744748df5c8186303ab0d",
       "version_major": 2,
       "version_minor": 0
      },
      "text/plain": [
       "Training episodes:   0%|          | 0/3 [00:00<?, ?it/s]"
      ]
     },
     "metadata": {},
     "output_type": "display_data"
    },
    {
     "data": {
      "application/vnd.jupyter.widget-view+json": {
       "model_id": "954689086428418cbdd338bdd8ddeff6",
       "version_major": 2,
       "version_minor": 0
      },
      "text/plain": [
       "Training episodes:   0%|          | 0/3 [00:00<?, ?it/s]"
      ]
     },
     "metadata": {},
     "output_type": "display_data"
    },
    {
     "data": {
      "application/vnd.jupyter.widget-view+json": {
       "model_id": "f68d6b16e4ec417c87f8fad060b487f0",
       "version_major": 2,
       "version_minor": 0
      },
      "text/plain": [
       "Training episodes:   0%|          | 0/3 [00:00<?, ?it/s]"
      ]
     },
     "metadata": {},
     "output_type": "display_data"
    },
    {
     "data": {
      "application/vnd.jupyter.widget-view+json": {
       "model_id": "064b777bf6f742d0b55f017e82788aaf",
       "version_major": 2,
       "version_minor": 0
      },
      "text/plain": [
       "Training episodes:   0%|          | 0/3 [00:00<?, ?it/s]"
      ]
     },
     "metadata": {},
     "output_type": "display_data"
    },
    {
     "data": {
      "application/vnd.jupyter.widget-view+json": {
       "model_id": "bfbf03a335c2441da9a5f8e4fb05da9e",
       "version_major": 2,
       "version_minor": 0
      },
      "text/plain": [
       "seeds:   0%|          | 0/30 [00:00<?, ?it/s]"
      ]
     },
     "metadata": {},
     "output_type": "display_data"
    },
    {
     "data": {
      "application/vnd.jupyter.widget-view+json": {
       "model_id": "7a93bbeec9b345fdb1daa71ae89707fd",
       "version_major": 2,
       "version_minor": 0
      },
      "text/plain": [
       "Training episodes:   0%|          | 0/3 [00:00<?, ?it/s]"
      ]
     },
     "metadata": {},
     "output_type": "display_data"
    },
    {
     "name": "stdout",
     "output_type": "stream",
     "text": [
      "[I 2025-03-03 03:43:18,814] Trial 8 finished with value: -17517.57827213949 and parameters: {'learning_rate': 3.4550892027772096e-05, 'n_steps': 519, 'batch_size': 43, 'gae_lambda': 0.803786025813684, 'ent_coef': 0.008949539577471173, 'vf_coef': 0.23615859101744172, 'clip_range': 0.2862536661181533, 'max_grad_norm': 0.14082152973099402}. Best is trial 5 with value: -8501.912046704478.\n"
     ]
    },
    {
     "data": {
      "application/vnd.jupyter.widget-view+json": {
       "model_id": "9b85d2f4cd7a4ab48ec6318db4636714",
       "version_major": 2,
       "version_minor": 0
      },
      "text/plain": [
       "Training episodes:   0%|          | 0/3 [00:00<?, ?it/s]"
      ]
     },
     "metadata": {},
     "output_type": "display_data"
    },
    {
     "data": {
      "application/vnd.jupyter.widget-view+json": {
       "model_id": "8900ac33b30b4a18ad01ac5134b897d0",
       "version_major": 2,
       "version_minor": 0
      },
      "text/plain": [
       "seeds:   0%|          | 0/30 [00:00<?, ?it/s]"
      ]
     },
     "metadata": {},
     "output_type": "display_data"
    },
    {
     "name": "stdout",
     "output_type": "stream",
     "text": [
      "[I 2025-03-03 03:46:26,279] Trial 7 finished with value: -16365.601534662588 and parameters: {'learning_rate': 0.0008503178405514465, 'n_steps': 515, 'batch_size': 16, 'gae_lambda': 0.9473881136841314, 'ent_coef': 0.000996887501408048, 'vf_coef': 0.8428982922127194, 'clip_range': 0.24784501235908254, 'max_grad_norm': 0.4017039539652397}. Best is trial 5 with value: -8501.912046704478.\n"
     ]
    },
    {
     "data": {
      "application/vnd.jupyter.widget-view+json": {
       "model_id": "7c7bcaa38e164751b5bb56147488a4c8",
       "version_major": 2,
       "version_minor": 0
      },
      "text/plain": [
       "seeds:   0%|          | 0/30 [00:00<?, ?it/s]"
      ]
     },
     "metadata": {},
     "output_type": "display_data"
    },
    {
     "data": {
      "application/vnd.jupyter.widget-view+json": {
       "model_id": "5803624806294fab8c10a51f02488228",
       "version_major": 2,
       "version_minor": 0
      },
      "text/plain": [
       "Training episodes:   0%|          | 0/3 [00:00<?, ?it/s]"
      ]
     },
     "metadata": {},
     "output_type": "display_data"
    },
    {
     "data": {
      "application/vnd.jupyter.widget-view+json": {
       "model_id": "bcbaa78db7b14563b5660dacab5223bd",
       "version_major": 2,
       "version_minor": 0
      },
      "text/plain": [
       "Training episodes:   0%|          | 0/3 [00:00<?, ?it/s]"
      ]
     },
     "metadata": {},
     "output_type": "display_data"
    },
    {
     "data": {
      "application/vnd.jupyter.widget-view+json": {
       "model_id": "6816ed2ac87241e680cdc509465de927",
       "version_major": 2,
       "version_minor": 0
      },
      "text/plain": [
       "Training episodes:   0%|          | 0/3 [00:00<?, ?it/s]"
      ]
     },
     "metadata": {},
     "output_type": "display_data"
    },
    {
     "data": {
      "application/vnd.jupyter.widget-view+json": {
       "model_id": "a5791fdd0ebb427386eb8fb0a20f4cf4",
       "version_major": 2,
       "version_minor": 0
      },
      "text/plain": [
       "Training episodes:   0%|          | 0/3 [00:00<?, ?it/s]"
      ]
     },
     "metadata": {},
     "output_type": "display_data"
    },
    {
     "data": {
      "application/vnd.jupyter.widget-view+json": {
       "model_id": "545102c8a5e949628fc3e5cff3c67f0d",
       "version_major": 2,
       "version_minor": 0
      },
      "text/plain": [
       "Training episodes:   0%|          | 0/3 [00:00<?, ?it/s]"
      ]
     },
     "metadata": {},
     "output_type": "display_data"
    },
    {
     "data": {
      "application/vnd.jupyter.widget-view+json": {
       "model_id": "b898f59db3d542c9812300c0f601e704",
       "version_major": 2,
       "version_minor": 0
      },
      "text/plain": [
       "Training episodes:   0%|          | 0/3 [00:00<?, ?it/s]"
      ]
     },
     "metadata": {},
     "output_type": "display_data"
    },
    {
     "data": {
      "application/vnd.jupyter.widget-view+json": {
       "model_id": "a1a22e7750a445f98dfc9edc9d41f925",
       "version_major": 2,
       "version_minor": 0
      },
      "text/plain": [
       "Training episodes:   0%|          | 0/3 [00:00<?, ?it/s]"
      ]
     },
     "metadata": {},
     "output_type": "display_data"
    },
    {
     "data": {
      "application/vnd.jupyter.widget-view+json": {
       "model_id": "2300feeea80a409790d9f12f010bb1cc",
       "version_major": 2,
       "version_minor": 0
      },
      "text/plain": [
       "Training episodes:   0%|          | 0/3 [00:00<?, ?it/s]"
      ]
     },
     "metadata": {},
     "output_type": "display_data"
    },
    {
     "data": {
      "application/vnd.jupyter.widget-view+json": {
       "model_id": "56509479fb904de3b9877e02720caecd",
       "version_major": 2,
       "version_minor": 0
      },
      "text/plain": [
       "Training episodes:   0%|          | 0/3 [00:00<?, ?it/s]"
      ]
     },
     "metadata": {},
     "output_type": "display_data"
    },
    {
     "data": {
      "application/vnd.jupyter.widget-view+json": {
       "model_id": "d351128c382a422c9e664edcca5769ac",
       "version_major": 2,
       "version_minor": 0
      },
      "text/plain": [
       "Training episodes:   0%|          | 0/3 [00:00<?, ?it/s]"
      ]
     },
     "metadata": {},
     "output_type": "display_data"
    },
    {
     "data": {
      "application/vnd.jupyter.widget-view+json": {
       "model_id": "ce5b777455ea4827bcc7d65ab410f76f",
       "version_major": 2,
       "version_minor": 0
      },
      "text/plain": [
       "Training episodes:   0%|          | 0/3 [00:00<?, ?it/s]"
      ]
     },
     "metadata": {},
     "output_type": "display_data"
    },
    {
     "data": {
      "application/vnd.jupyter.widget-view+json": {
       "model_id": "dca3d1f669a548c4acf161308c5c5af7",
       "version_major": 2,
       "version_minor": 0
      },
      "text/plain": [
       "Training episodes:   0%|          | 0/3 [00:00<?, ?it/s]"
      ]
     },
     "metadata": {},
     "output_type": "display_data"
    },
    {
     "data": {
      "application/vnd.jupyter.widget-view+json": {
       "model_id": "dd01b6efa90e41e9bf01f2ae4dedc7c5",
       "version_major": 2,
       "version_minor": 0
      },
      "text/plain": [
       "Training episodes:   0%|          | 0/3 [00:00<?, ?it/s]"
      ]
     },
     "metadata": {},
     "output_type": "display_data"
    },
    {
     "data": {
      "application/vnd.jupyter.widget-view+json": {
       "model_id": "314a6eaa2bea4fea8f635365d81c1f54",
       "version_major": 2,
       "version_minor": 0
      },
      "text/plain": [
       "Training episodes:   0%|          | 0/3 [00:00<?, ?it/s]"
      ]
     },
     "metadata": {},
     "output_type": "display_data"
    },
    {
     "data": {
      "application/vnd.jupyter.widget-view+json": {
       "model_id": "0cb3c1434c234fcca16c727253ecfdcb",
       "version_major": 2,
       "version_minor": 0
      },
      "text/plain": [
       "Training episodes:   0%|          | 0/3 [00:00<?, ?it/s]"
      ]
     },
     "metadata": {},
     "output_type": "display_data"
    },
    {
     "data": {
      "application/vnd.jupyter.widget-view+json": {
       "model_id": "0d584d152d854e5e8a04755b5bc256c3",
       "version_major": 2,
       "version_minor": 0
      },
      "text/plain": [
       "Training episodes:   0%|          | 0/3 [00:00<?, ?it/s]"
      ]
     },
     "metadata": {},
     "output_type": "display_data"
    },
    {
     "data": {
      "application/vnd.jupyter.widget-view+json": {
       "model_id": "fc7f7e17266f42e2a69d74ad13a0dd9e",
       "version_major": 2,
       "version_minor": 0
      },
      "text/plain": [
       "Training episodes:   0%|          | 0/3 [00:00<?, ?it/s]"
      ]
     },
     "metadata": {},
     "output_type": "display_data"
    },
    {
     "data": {
      "application/vnd.jupyter.widget-view+json": {
       "model_id": "e7ad3d82b29742359fa40544aac87abd",
       "version_major": 2,
       "version_minor": 0
      },
      "text/plain": [
       "Training episodes:   0%|          | 0/3 [00:00<?, ?it/s]"
      ]
     },
     "metadata": {},
     "output_type": "display_data"
    },
    {
     "data": {
      "application/vnd.jupyter.widget-view+json": {
       "model_id": "9f878f2bf0d74cd686de4ecb66251fbe",
       "version_major": 2,
       "version_minor": 0
      },
      "text/plain": [
       "Training episodes:   0%|          | 0/3 [00:00<?, ?it/s]"
      ]
     },
     "metadata": {},
     "output_type": "display_data"
    },
    {
     "data": {
      "application/vnd.jupyter.widget-view+json": {
       "model_id": "800d922fa28d450f82b6073a925f1187",
       "version_major": 2,
       "version_minor": 0
      },
      "text/plain": [
       "Training episodes:   0%|          | 0/3 [00:00<?, ?it/s]"
      ]
     },
     "metadata": {},
     "output_type": "display_data"
    },
    {
     "data": {
      "application/vnd.jupyter.widget-view+json": {
       "model_id": "89293a209af24ce1a1ac3cfd2848d690",
       "version_major": 2,
       "version_minor": 0
      },
      "text/plain": [
       "Training episodes:   0%|          | 0/3 [00:00<?, ?it/s]"
      ]
     },
     "metadata": {},
     "output_type": "display_data"
    },
    {
     "data": {
      "application/vnd.jupyter.widget-view+json": {
       "model_id": "bd0392e7483149ccbcbff0dfd53eaf19",
       "version_major": 2,
       "version_minor": 0
      },
      "text/plain": [
       "Training episodes:   0%|          | 0/3 [00:00<?, ?it/s]"
      ]
     },
     "metadata": {},
     "output_type": "display_data"
    },
    {
     "data": {
      "application/vnd.jupyter.widget-view+json": {
       "model_id": "53283c9f60354c838943bc61cfdcf633",
       "version_major": 2,
       "version_minor": 0
      },
      "text/plain": [
       "Training episodes:   0%|          | 0/3 [00:00<?, ?it/s]"
      ]
     },
     "metadata": {},
     "output_type": "display_data"
    },
    {
     "data": {
      "application/vnd.jupyter.widget-view+json": {
       "model_id": "4841c1cbf4514b2ab88ae17e2aa9845c",
       "version_major": 2,
       "version_minor": 0
      },
      "text/plain": [
       "Training episodes:   0%|          | 0/3 [00:00<?, ?it/s]"
      ]
     },
     "metadata": {},
     "output_type": "display_data"
    },
    {
     "data": {
      "application/vnd.jupyter.widget-view+json": {
       "model_id": "f9e3e7a626294810890c2b167a1df577",
       "version_major": 2,
       "version_minor": 0
      },
      "text/plain": [
       "Training episodes:   0%|          | 0/3 [00:00<?, ?it/s]"
      ]
     },
     "metadata": {},
     "output_type": "display_data"
    },
    {
     "data": {
      "application/vnd.jupyter.widget-view+json": {
       "model_id": "2579f23dfac341cab66f86b34c56e4a2",
       "version_major": 2,
       "version_minor": 0
      },
      "text/plain": [
       "Training episodes:   0%|          | 0/3 [00:00<?, ?it/s]"
      ]
     },
     "metadata": {},
     "output_type": "display_data"
    },
    {
     "data": {
      "application/vnd.jupyter.widget-view+json": {
       "model_id": "05187768082a4f2b851ba9f46d979159",
       "version_major": 2,
       "version_minor": 0
      },
      "text/plain": [
       "Training episodes:   0%|          | 0/3 [00:00<?, ?it/s]"
      ]
     },
     "metadata": {},
     "output_type": "display_data"
    },
    {
     "data": {
      "application/vnd.jupyter.widget-view+json": {
       "model_id": "efc76d34332940feb154578c988a58d5",
       "version_major": 2,
       "version_minor": 0
      },
      "text/plain": [
       "Training episodes:   0%|          | 0/3 [00:00<?, ?it/s]"
      ]
     },
     "metadata": {},
     "output_type": "display_data"
    },
    {
     "data": {
      "application/vnd.jupyter.widget-view+json": {
       "model_id": "5a3c735810cf44d2b959db5408872ad1",
       "version_major": 2,
       "version_minor": 0
      },
      "text/plain": [
       "Training episodes:   0%|          | 0/3 [00:00<?, ?it/s]"
      ]
     },
     "metadata": {},
     "output_type": "display_data"
    },
    {
     "data": {
      "application/vnd.jupyter.widget-view+json": {
       "model_id": "0ba08e08d3f04b999f7748e6c6831cb3",
       "version_major": 2,
       "version_minor": 0
      },
      "text/plain": [
       "Training episodes:   0%|          | 0/3 [00:00<?, ?it/s]"
      ]
     },
     "metadata": {},
     "output_type": "display_data"
    },
    {
     "data": {
      "application/vnd.jupyter.widget-view+json": {
       "model_id": "735c11d37eea4ba4bcf6c948deda5ea5",
       "version_major": 2,
       "version_minor": 0
      },
      "text/plain": [
       "seeds:   0%|          | 0/30 [00:00<?, ?it/s]"
      ]
     },
     "metadata": {},
     "output_type": "display_data"
    }
   ],
   "source": [
    "# | hide\n",
    "optimized_expert_maskable_ppo_agent = MaskablePPOAgent(\n",
    "    render_mode=\"human\", env_config=ENV_CONFIG, name=\"OptimizedExpertMaskablePPOAgent\"\n",
    ")\n",
    "optimized_expert_maskable_ppo_agent.optimize()\n",
    "\n",
    "if not QUICK_MODE:\n",
    "    optimized_expert_maskable_ppo_agent.export_hyperparameters(\n",
    "        f\"{optimized_expert_maskable_ppo_agent.name}.yaml\"\n",
    "    )\n",
    "\n",
    "optimized_expert_maskable_ppo_agent.train()\n",
    "\n",
    "if not QUICK_MODE:\n",
    "    optimized_expert_maskable_ppo_agent.save_model(\n",
    "        f\"{optimized_expert_maskable_ppo_agent.name}.model\"\n",
    "    )\n",
    "\n",
    "evaluation_data_per_agent[optimized_expert_maskable_ppo_agent.name] = (\n",
    "    optimized_expert_maskable_ppo_agent.evaluate()\n",
    ")"
   ]
  },
  {
   "cell_type": "code",
   "execution_count": null,
   "metadata": {},
   "outputs": [],
   "source": [
    "# | hide\n",
    "if not QUICK_MODE:\n",
    "    with open(\"evaluation_data_per_agent.pkl\", \"wb\") as f:\n",
    "        pickle.dump(evaluation_data_per_agent, f)"
   ]
  },
  {
   "cell_type": "code",
   "execution_count": null,
   "metadata": {},
   "outputs": [],
   "source": [
    "# | hide\n",
    "import nbdev\n",
    "\n",
    "nbdev.nbdev_export()"
   ]
  }
 ],
 "metadata": {
  "kernelspec": {
   "display_name": "python3",
   "language": "python",
   "name": "python3"
  }
 },
 "nbformat": 4,
 "nbformat_minor": 4
}
