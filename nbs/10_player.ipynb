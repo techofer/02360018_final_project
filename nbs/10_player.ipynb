{
 "cells": [
  {
   "cell_type": "markdown",
   "metadata": {},
   "source": [
    "# player\n",
    "\n",
    "> This module training optimizing of RL agents on the electricity market environment."
   ]
  },
  {
   "cell_type": "code",
   "execution_count": null,
   "metadata": {},
   "outputs": [],
   "source": [
    "# | default_exp player"
   ]
  },
  {
   "cell_type": "code",
   "execution_count": null,
   "metadata": {},
   "outputs": [],
   "source": [
    "# | hide\n",
    "from nbdev.showdoc import *"
   ]
  },
  {
   "cell_type": "code",
   "execution_count": null,
   "metadata": {},
   "outputs": [],
   "source": [
    "# | export\n",
    "import pickle\n",
    "import shutil\n",
    "from abc import ABC\n",
    "from pathlib import Path\n",
    "\n",
    "import numpy as np\n",
    "import optuna\n",
    "import torch\n",
    "import yaml\n",
    "from sb3_contrib import MaskablePPO\n",
    "from sb3_contrib.common.maskable.policies import MaskableActorCriticPolicy\n",
    "from sb3_contrib.common.wrappers import ActionMasker\n",
    "from stable_baselines3 import A2C\n",
    "from stable_baselines3.common.callbacks import CheckpointCallback\n",
    "from stable_baselines3.common.monitor import Monitor\n",
    "from tqdm.notebook import tqdm\n",
    "\n",
    "from electricity_market.env import ElectricityMarketEnv, EnvConfig\n",
    "from electricity_market.utils import EvaluationData"
   ]
  },
  {
   "cell_type": "code",
   "execution_count": null,
   "metadata": {},
   "outputs": [],
   "source": [
    "# | export\n",
    "N_TRAIN_EPISODES = 3\n",
    "N_TRAILS = 10\n",
    "TRAIN_SEEDS = [\n",
    "    111111,\n",
    "    121212,\n",
    "    123456,\n",
    "    200000,\n",
    "    217890,\n",
    "    222222,\n",
    "    224775,\n",
    "    234567,\n",
    "    253084,\n",
    "    285234,\n",
    "    312135,\n",
    "    314831,\n",
    "    333333,\n",
    "    345678,\n",
    "    406339,\n",
    "    444444,\n",
    "    471678,\n",
    "    555555,\n",
    "    562845,\n",
    "    666666,\n",
    "    701753,\n",
    "    755460,\n",
    "    761386,\n",
    "    777777,\n",
    "    789391,\n",
    "    888888,\n",
    "    993068,\n",
    "    979797,\n",
    "    987654,\n",
    "    999999,\n",
    "]\n",
    "EVALUATE_SEEDS = [\n",
    "    117127,\n",
    "    136901,\n",
    "    223246,\n",
    "    243382,\n",
    "    245720,\n",
    "    248832,\n",
    "    288598,\n",
    "    374487,\n",
    "    447331,\n",
    "    447851,\n",
    "    490428,\n",
    "    553737,\n",
    "    557309,\n",
    "    571504,\n",
    "    601426,\n",
    "    632202,\n",
    "    653634,\n",
    "    844596,\n",
    "    848937,\n",
    "    849735,\n",
    "    865470,\n",
    "    866822,\n",
    "    876563,\n",
    "    880689,\n",
    "    887591,\n",
    "    911016,\n",
    "    920528,\n",
    "    963993,\n",
    "    967995,\n",
    "    992634,\n",
    "]\n",
    "ENV_CONFIG = EnvConfig()\n",
    "\n",
    "TENSORBOARD_PATH = Path(\"../tensorboard\")\n",
    "LOGS_PATH = Path(\"../logs\")\n",
    "\n",
    "# Set QUICK_MODE = True for CI\n",
    "QUICK_MODE = True\n",
    "\n",
    "if QUICK_MODE:\n",
    "    ENV_CONFIG = EnvConfig(max_timestep=10)\n",
    "    TRAIN_SEEDS = [10000]\n",
    "    EVALUATE_SEEDS = [90000]\n",
    "    TENSORBOARD_PATH = None\n",
    "    LOGS_PATH = None\n",
    "\n",
    "evaluation_data_per_agent = {}"
   ]
  },
  {
   "cell_type": "code",
   "execution_count": null,
   "metadata": {},
   "outputs": [],
   "source": [
    "# | hide\n",
    "\n",
    "# cleanup\n",
    "if not QUICK_MODE:\n",
    "    shutil.rmtree(TENSORBOARD_PATH, ignore_errors=True)\n",
    "    shutil.rmtree(LOGS_PATH, ignore_errors=True)"
   ]
  },
  {
   "cell_type": "code",
   "execution_count": null,
   "metadata": {},
   "outputs": [],
   "source": [
    "# | export\n",
    "\n",
    "\n",
    "class Agent(ABC):\n",
    "    def __init__(self, name, env, device):\n",
    "        self.name = name\n",
    "        self.device = device\n",
    "        self.env = env\n",
    "\n",
    "    def evaluate(self, render: bool = False) -> EvaluationData:\n",
    "        \"\"\"\n",
    "        Evaluate the model, and return EvaluationData.\n",
    "        \"\"\"\n",
    "        all_rewards = []\n",
    "\n",
    "        for seed in tqdm(EVALUATE_SEEDS, desc=\"seeds\"):\n",
    "            obs, _ = self.env.reset(seed=seed)\n",
    "            episode_rewards = []\n",
    "            done = False\n",
    "\n",
    "            while not done:\n",
    "                obs_tensor = torch.tensor(obs, dtype=torch.float64).to(self.device)\n",
    "\n",
    "                action = self.choose_action(obs_tensor)\n",
    "                obs, reward, done, truncated, _ = self.env.step(action)\n",
    "                episode_rewards.append(reward)\n",
    "\n",
    "                if render:\n",
    "                    self.env.render()\n",
    "\n",
    "                if truncated:\n",
    "                    break\n",
    "\n",
    "            all_rewards.append(np.sum(episode_rewards))\n",
    "\n",
    "        return EvaluationData(\n",
    "            episodes=list(range(len(all_rewards))),\n",
    "            rewards=all_rewards,\n",
    "        )\n",
    "\n",
    "    def choose_action(self, obs_tensor):\n",
    "        raise NotImplementedError\n",
    "\n",
    "\n",
    "class ModelAgent(Agent):\n",
    "    def __init__(self, name, env, env_config, model, device):\n",
    "        super().__init__(name, device=device, env=env)\n",
    "        self.model = model\n",
    "        self.env_config = env_config\n",
    "\n",
    "    def train(self) -> None:\n",
    "        \"\"\"\n",
    "        Train the model\n",
    "        \"\"\"\n",
    "        checkpoint_callback = CheckpointCallback(save_freq=1000, save_path=\"../logs/\")\n",
    "\n",
    "        for seed in tqdm(TRAIN_SEEDS, desc=\"seeds\"):\n",
    "            for _ in tqdm(range(N_TRAIN_EPISODES), desc=\"Training episodes\"):\n",
    "                self.env.reset(seed=seed)\n",
    "                self.model.learn(\n",
    "                    total_timesteps=self.env_config.max_timestep,\n",
    "                    callback=checkpoint_callback,\n",
    "                    reset_num_timesteps=False,\n",
    "                    tb_log_name=self.name,\n",
    "                )\n",
    "\n",
    "    def choose_action(self, obs_tensor):\n",
    "        action, _ = self.model.predict(obs_tensor, deterministic=True)\n",
    "        return action\n",
    "\n",
    "    def save_model(self, model_path: Path) -> None:\n",
    "        self.model.save(str(model_path))\n",
    "\n",
    "    def load_model(self, model_path: Path) -> None:\n",
    "        self.model = self.model.load(str(model_path), env=self.env)\n",
    "\n",
    "\n",
    "class MaskableAgent(Agent):\n",
    "    @staticmethod\n",
    "    def mask_fn(env):\n",
    "        \"\"\"\n",
    "        Placeholder mask function if needed.\n",
    "        \"\"\"\n",
    "        return env.unwrapped.action_masks()\n",
    "\n",
    "\n",
    "class MaskableModelAgent(MaskableAgent, ModelAgent):\n",
    "    def choose_action(self, obs_tensor):\n",
    "        action, _ = self.model.predict(\n",
    "            obs_tensor,\n",
    "            action_masks=MaskableAgent.mask_fn(self.env),\n",
    "            deterministic=True,\n",
    "        )"
   ]
  },
  {
   "cell_type": "code",
   "execution_count": null,
   "metadata": {},
   "outputs": [],
   "source": [
    "# | export\n",
    "\n",
    "\n",
    "class MaskableRandomAgent(MaskableAgent):\n",
    "    def __init__(\n",
    "        self,\n",
    "        env_config: EnvConfig | None = None,\n",
    "        render_mode: str | None = None,\n",
    "        name: str = \"MaskableRandomAgent\",\n",
    "    ):\n",
    "        \"\"\"\n",
    "        Initialize the agent and create the environment.\n",
    "        \"\"\"\n",
    "        device = \"cuda\" if torch.cuda.is_available() else \"cpu\"\n",
    "        env = ActionMasker(\n",
    "            ElectricityMarketEnv(env_config, render_mode=render_mode), self.mask_fn\n",
    "        )\n",
    "        super().__init__(name, device=device, env=env)\n",
    "\n",
    "    def choose_action(self, obs_tensor):\n",
    "        action_mask = self.env.action_masks()\n",
    "        valid_actions = np.where(action_mask)[0]\n",
    "        action = np.random.choice(valid_actions)\n",
    "\n",
    "        return action"
   ]
  },
  {
   "cell_type": "code",
   "execution_count": null,
   "metadata": {},
   "outputs": [],
   "source": [
    "# | export\n",
    "\n",
    "\n",
    "class A2CAgent(ModelAgent):\n",
    "    \"\"\"A2C Agent for the Electricity Market Environment.\"\"\"\n",
    "\n",
    "    def __init__(\n",
    "        self,\n",
    "        env_config: EnvConfig | None = None,\n",
    "        render_mode: str | None = None,\n",
    "        name: str = \"A2CAgent\",\n",
    "    ):\n",
    "        device = \"cuda\" if torch.cuda.is_available() else \"cpu\"\n",
    "        env = Monitor(\n",
    "            ElectricityMarketEnv(env_config, render_mode=render_mode),\n",
    "        )\n",
    "        model = A2C(\n",
    "            \"MlpPolicy\",\n",
    "            env,\n",
    "            verbose=0,\n",
    "            tensorboard_log=f\"./tensorboard/\",\n",
    "            device=device,\n",
    "        )\n",
    "        super().__init__(\n",
    "            name=name, env=env, model=model, device=device, env_config=env_config\n",
    "        )"
   ]
  },
  {
   "cell_type": "code",
   "execution_count": null,
   "metadata": {},
   "outputs": [],
   "source": [
    "# | export\n",
    "\n",
    "\n",
    "class MaskablePPOAgent(ModelAgent, MaskableAgent):\n",
    "    \"\"\"Maskable PPO Agent for the Electricity Market Environment.\"\"\"\n",
    "\n",
    "    def __init__(\n",
    "        self,\n",
    "        env_config: EnvConfig | None = None,\n",
    "        render_mode: str | None = None,\n",
    "        name: str = \"MaskablePPOAgent\",\n",
    "    ):\n",
    "        env = Monitor(\n",
    "            ActionMasker(\n",
    "                ElectricityMarketEnv(env_config, render_mode=render_mode),\n",
    "                self.mask_fn,\n",
    "            )\n",
    "        )\n",
    "        device = \"cuda\" if torch.cuda.is_available() else \"cpu\"\n",
    "        model = MaskablePPO(\n",
    "            MaskableActorCriticPolicy,\n",
    "            env,\n",
    "            verbose=0,\n",
    "            tensorboard_log=f\"./tensorboard/\",\n",
    "            device=device,\n",
    "        )\n",
    "        super().__init__(\n",
    "            name=name, env=env, model=model, device=device, env_config=env_config\n",
    "        )\n",
    "        self.optimized_hyperparameters = {}\n",
    "        self.env_config = env_config or EnvConfig()\n",
    "\n",
    "    def choose_action(self, obs_tensor):\n",
    "        action, _ = self.model.predict(\n",
    "            obs_tensor, deterministic=True, action_masks=MaskableAgent.mask_fn(self.env)\n",
    "        )\n",
    "        return action\n",
    "\n",
    "    def optimize(self) -> None:\n",
    "        \"\"\"\n",
    "        Optimize the agent with hyperparameters.\n",
    "        \"\"\"\n",
    "\n",
    "        def objective(trial):\n",
    "            learning_rate = trial.suggest_float(\"learning_rate\", 1e-5, 1e-3, log=True)\n",
    "            n_steps = trial.suggest_int(\"n_steps\", 32, 1024, log=True)\n",
    "            batch_size = trial.suggest_int(\"batch_size\", 16, 256, log=True)\n",
    "            gae_lambda = trial.suggest_float(\"gae_lambda\", 0.8, 1.0)\n",
    "            ent_coef = trial.suggest_float(\"ent_coef\", 0.0, 0.02)\n",
    "            vf_coef = trial.suggest_float(\"vf_coef\", 0.1, 1.0)\n",
    "            clip_range = trial.suggest_float(\"clip_range\", 0.1, 0.3)\n",
    "            max_grad_norm = trial.suggest_float(\"max_grad_norm\", 0.1, 1.0)\n",
    "\n",
    "            agent = MaskablePPOAgent(\n",
    "                self.env_config,\n",
    "            )\n",
    "\n",
    "            model = MaskablePPO(\n",
    "                MaskableActorCriticPolicy,\n",
    "                agent.env,\n",
    "                learning_rate=learning_rate,\n",
    "                n_steps=n_steps,\n",
    "                batch_size=batch_size,\n",
    "                gae_lambda=gae_lambda,\n",
    "                ent_coef=ent_coef,\n",
    "                vf_coef=vf_coef,\n",
    "                clip_range=clip_range,\n",
    "                max_grad_norm=max_grad_norm,\n",
    "                verbose=0,\n",
    "                device=self.device,\n",
    "            )\n",
    "\n",
    "            agent.model = model\n",
    "            agent.train()\n",
    "\n",
    "            return np.mean(agent.evaluate().rewards)\n",
    "\n",
    "        study = optuna.create_study(\n",
    "            study_name=self.name,\n",
    "            storage=\"sqlite:///optuna_study.db\",\n",
    "            load_if_exists=True,\n",
    "            direction=\"maximize\",\n",
    "            pruner=optuna.pruners.HyperbandPruner(),\n",
    "            sampler=optuna.samplers.TPESampler(),\n",
    "        )\n",
    "\n",
    "        study.optimize(\n",
    "            objective,\n",
    "            n_trials=N_TRAILS,\n",
    "            n_jobs=-1,\n",
    "            show_progress_bar=True,\n",
    "            catch=(ValueError,),\n",
    "        )\n",
    "\n",
    "        self.optimized_hyperparameters = study.best_params\n",
    "\n",
    "        self.model = MaskablePPO(\n",
    "            MaskableActorCriticPolicy,\n",
    "            self.env,\n",
    "            **self.optimized_hyperparameters,\n",
    "            verbose=0,\n",
    "            tensorboard_log=f\"./tensorboard/\",\n",
    "            device=self.device,\n",
    "        )\n",
    "\n",
    "    def export_hyperparameters(self, filename: str):\n",
    "        \"\"\"\n",
    "        Export optimized learned_hyperparameters to a YAML file.\n",
    "        \"\"\"\n",
    "        with open(filename, \"w\") as file:\n",
    "            yaml.dump(self.optimized_hyperparameters, file)"
   ]
  },
  {
   "cell_type": "markdown",
   "metadata": {},
   "source": "### Evaluation MaskableRandom on ElectricityMarketEnv\n"
  },
  {
   "cell_type": "code",
   "execution_count": null,
   "metadata": {},
   "outputs": [
    {
     "data": {
      "application/vnd.jupyter.widget-view+json": {
       "model_id": "7a3f6b9c17d14ba1bb7a245860852d11",
       "version_major": 2,
       "version_minor": 0
      },
      "text/plain": [
       "seeds:   0%|          | 0/30 [00:00<?, ?it/s]"
      ]
     },
     "metadata": {},
     "output_type": "display_data"
    }
   ],
   "source": [
    "# | hide\n",
    "maskable_random_agent = MaskableRandomAgent(render_mode=\"human\", env_config=ENV_CONFIG)\n",
    "\n",
    "evaluation_data_per_agent[maskable_random_agent.name] = maskable_random_agent.evaluate()"
   ]
  },
  {
   "cell_type": "markdown",
   "metadata": {},
   "source": "### Evaluation A2C on ElectricityMarketEnv\n"
  },
  {
   "cell_type": "code",
   "execution_count": null,
   "metadata": {},
   "outputs": [
    {
     "data": {
      "application/vnd.jupyter.widget-view+json": {
       "model_id": "150fd32ed07a4501acd49ece042217ac",
       "version_major": 2,
       "version_minor": 0
      },
      "text/plain": [
       "seeds:   0%|          | 0/30 [00:00<?, ?it/s]"
      ]
     },
     "metadata": {},
     "output_type": "display_data"
    },
    {
     "data": {
      "application/vnd.jupyter.widget-view+json": {
       "model_id": "875a07525ee04c418333d0d834bbbee0",
       "version_major": 2,
       "version_minor": 0
      },
      "text/plain": [
       "Training episodes:   0%|          | 0/3 [00:00<?, ?it/s]"
      ]
     },
     "metadata": {},
     "output_type": "display_data"
    },
    {
     "data": {
      "application/vnd.jupyter.widget-view+json": {
       "model_id": "d876bd117c3d4ff8bf8dd8aff4249f21",
       "version_major": 2,
       "version_minor": 0
      },
      "text/plain": [
       "Training episodes:   0%|          | 0/3 [00:00<?, ?it/s]"
      ]
     },
     "metadata": {},
     "output_type": "display_data"
    },
    {
     "data": {
      "application/vnd.jupyter.widget-view+json": {
       "model_id": "f2f88798089c4031a5f1f40cb603a9bf",
       "version_major": 2,
       "version_minor": 0
      },
      "text/plain": [
       "Training episodes:   0%|          | 0/3 [00:00<?, ?it/s]"
      ]
     },
     "metadata": {},
     "output_type": "display_data"
    },
    {
     "data": {
      "application/vnd.jupyter.widget-view+json": {
       "model_id": "8cb7036234ad4cec8ed798d20601b81f",
       "version_major": 2,
       "version_minor": 0
      },
      "text/plain": [
       "Training episodes:   0%|          | 0/3 [00:00<?, ?it/s]"
      ]
     },
     "metadata": {},
     "output_type": "display_data"
    },
    {
     "data": {
      "application/vnd.jupyter.widget-view+json": {
       "model_id": "49e848aa238e45d69e0b4d430dc76709",
       "version_major": 2,
       "version_minor": 0
      },
      "text/plain": [
       "Training episodes:   0%|          | 0/3 [00:00<?, ?it/s]"
      ]
     },
     "metadata": {},
     "output_type": "display_data"
    },
    {
     "data": {
      "application/vnd.jupyter.widget-view+json": {
       "model_id": "e330470020ae428ab370fb897e789696",
       "version_major": 2,
       "version_minor": 0
      },
      "text/plain": [
       "Training episodes:   0%|          | 0/3 [00:00<?, ?it/s]"
      ]
     },
     "metadata": {},
     "output_type": "display_data"
    },
    {
     "data": {
      "application/vnd.jupyter.widget-view+json": {
       "model_id": "1b90f407e61144f3940532bf7d936492",
       "version_major": 2,
       "version_minor": 0
      },
      "text/plain": [
       "Training episodes:   0%|          | 0/3 [00:00<?, ?it/s]"
      ]
     },
     "metadata": {},
     "output_type": "display_data"
    },
    {
     "data": {
      "application/vnd.jupyter.widget-view+json": {
       "model_id": "c87430b650b24d40aff659e766e9313c",
       "version_major": 2,
       "version_minor": 0
      },
      "text/plain": [
       "Training episodes:   0%|          | 0/3 [00:00<?, ?it/s]"
      ]
     },
     "metadata": {},
     "output_type": "display_data"
    },
    {
     "data": {
      "application/vnd.jupyter.widget-view+json": {
       "model_id": "a3260133875f425ba3cfb6d3d3ea4e1a",
       "version_major": 2,
       "version_minor": 0
      },
      "text/plain": [
       "Training episodes:   0%|          | 0/3 [00:00<?, ?it/s]"
      ]
     },
     "metadata": {},
     "output_type": "display_data"
    },
    {
     "data": {
      "application/vnd.jupyter.widget-view+json": {
       "model_id": "97c1dbbeb4314aaa9f0f8c34fbe57811",
       "version_major": 2,
       "version_minor": 0
      },
      "text/plain": [
       "Training episodes:   0%|          | 0/3 [00:00<?, ?it/s]"
      ]
     },
     "metadata": {},
     "output_type": "display_data"
    },
    {
     "data": {
      "application/vnd.jupyter.widget-view+json": {
       "model_id": "85c944fd578b476388dee43ebae826b1",
       "version_major": 2,
       "version_minor": 0
      },
      "text/plain": [
       "Training episodes:   0%|          | 0/3 [00:00<?, ?it/s]"
      ]
     },
     "metadata": {},
     "output_type": "display_data"
    },
    {
     "data": {
      "application/vnd.jupyter.widget-view+json": {
       "model_id": "65432dd7d7c14496b96dd7f852cc634a",
       "version_major": 2,
       "version_minor": 0
      },
      "text/plain": [
       "Training episodes:   0%|          | 0/3 [00:00<?, ?it/s]"
      ]
     },
     "metadata": {},
     "output_type": "display_data"
    },
    {
     "data": {
      "application/vnd.jupyter.widget-view+json": {
       "model_id": "4ce6b1f515614bb1bd3c13241642a9d3",
       "version_major": 2,
       "version_minor": 0
      },
      "text/plain": [
       "Training episodes:   0%|          | 0/3 [00:00<?, ?it/s]"
      ]
     },
     "metadata": {},
     "output_type": "display_data"
    },
    {
     "data": {
      "application/vnd.jupyter.widget-view+json": {
       "model_id": "657ac16d4e584c148913455ee1a6dc3b",
       "version_major": 2,
       "version_minor": 0
      },
      "text/plain": [
       "Training episodes:   0%|          | 0/3 [00:00<?, ?it/s]"
      ]
     },
     "metadata": {},
     "output_type": "display_data"
    },
    {
     "data": {
      "application/vnd.jupyter.widget-view+json": {
       "model_id": "872814da4914460ca47746a8076e00c6",
       "version_major": 2,
       "version_minor": 0
      },
      "text/plain": [
       "Training episodes:   0%|          | 0/3 [00:00<?, ?it/s]"
      ]
     },
     "metadata": {},
     "output_type": "display_data"
    },
    {
     "data": {
      "application/vnd.jupyter.widget-view+json": {
       "model_id": "4469fe2e572f44aaaaee23c989b73ab7",
       "version_major": 2,
       "version_minor": 0
      },
      "text/plain": [
       "Training episodes:   0%|          | 0/3 [00:00<?, ?it/s]"
      ]
     },
     "metadata": {},
     "output_type": "display_data"
    },
    {
     "data": {
      "application/vnd.jupyter.widget-view+json": {
       "model_id": "6a1d9700715c4629b0d408813987c91e",
       "version_major": 2,
       "version_minor": 0
      },
      "text/plain": [
       "Training episodes:   0%|          | 0/3 [00:00<?, ?it/s]"
      ]
     },
     "metadata": {},
     "output_type": "display_data"
    },
    {
     "data": {
      "application/vnd.jupyter.widget-view+json": {
       "model_id": "93c11609ca554620ae22e3c8be5e7c8f",
       "version_major": 2,
       "version_minor": 0
      },
      "text/plain": [
       "Training episodes:   0%|          | 0/3 [00:00<?, ?it/s]"
      ]
     },
     "metadata": {},
     "output_type": "display_data"
    },
    {
     "data": {
      "application/vnd.jupyter.widget-view+json": {
       "model_id": "d4b0021b009b45e4b32949558f101ce0",
       "version_major": 2,
       "version_minor": 0
      },
      "text/plain": [
       "Training episodes:   0%|          | 0/3 [00:00<?, ?it/s]"
      ]
     },
     "metadata": {},
     "output_type": "display_data"
    },
    {
     "data": {
      "application/vnd.jupyter.widget-view+json": {
       "model_id": "bbacf30094cc41ec8a28897daf2b8be9",
       "version_major": 2,
       "version_minor": 0
      },
      "text/plain": [
       "Training episodes:   0%|          | 0/3 [00:00<?, ?it/s]"
      ]
     },
     "metadata": {},
     "output_type": "display_data"
    },
    {
     "data": {
      "application/vnd.jupyter.widget-view+json": {
       "model_id": "59568a10ad08448e9bf2b275641d4d55",
       "version_major": 2,
       "version_minor": 0
      },
      "text/plain": [
       "Training episodes:   0%|          | 0/3 [00:00<?, ?it/s]"
      ]
     },
     "metadata": {},
     "output_type": "display_data"
    },
    {
     "data": {
      "application/vnd.jupyter.widget-view+json": {
       "model_id": "2b90d680180544fbaa54e23a74692c17",
       "version_major": 2,
       "version_minor": 0
      },
      "text/plain": [
       "Training episodes:   0%|          | 0/3 [00:00<?, ?it/s]"
      ]
     },
     "metadata": {},
     "output_type": "display_data"
    },
    {
     "data": {
      "application/vnd.jupyter.widget-view+json": {
       "model_id": "9edd51da6fbe48bf993d271d2e17cddd",
       "version_major": 2,
       "version_minor": 0
      },
      "text/plain": [
       "Training episodes:   0%|          | 0/3 [00:00<?, ?it/s]"
      ]
     },
     "metadata": {},
     "output_type": "display_data"
    },
    {
     "data": {
      "application/vnd.jupyter.widget-view+json": {
       "model_id": "4a45a4bb66c64ed4ba829b8df5bcfac2",
       "version_major": 2,
       "version_minor": 0
      },
      "text/plain": [
       "Training episodes:   0%|          | 0/3 [00:00<?, ?it/s]"
      ]
     },
     "metadata": {},
     "output_type": "display_data"
    },
    {
     "data": {
      "application/vnd.jupyter.widget-view+json": {
       "model_id": "0154b46d4f09444c8da452f1887e6865",
       "version_major": 2,
       "version_minor": 0
      },
      "text/plain": [
       "Training episodes:   0%|          | 0/3 [00:00<?, ?it/s]"
      ]
     },
     "metadata": {},
     "output_type": "display_data"
    },
    {
     "data": {
      "application/vnd.jupyter.widget-view+json": {
       "model_id": "1b5fecd6f2ed47d6b31df21370dc61c9",
       "version_major": 2,
       "version_minor": 0
      },
      "text/plain": [
       "Training episodes:   0%|          | 0/3 [00:00<?, ?it/s]"
      ]
     },
     "metadata": {},
     "output_type": "display_data"
    },
    {
     "data": {
      "application/vnd.jupyter.widget-view+json": {
       "model_id": "52d1dc88503d4536b9e319d6f44d600f",
       "version_major": 2,
       "version_minor": 0
      },
      "text/plain": [
       "Training episodes:   0%|          | 0/3 [00:00<?, ?it/s]"
      ]
     },
     "metadata": {},
     "output_type": "display_data"
    },
    {
     "data": {
      "application/vnd.jupyter.widget-view+json": {
       "model_id": "eb97db574ec8467bb9f5b62829405435",
       "version_major": 2,
       "version_minor": 0
      },
      "text/plain": [
       "Training episodes:   0%|          | 0/3 [00:00<?, ?it/s]"
      ]
     },
     "metadata": {},
     "output_type": "display_data"
    },
    {
     "data": {
      "application/vnd.jupyter.widget-view+json": {
       "model_id": "f6b6a2c9415442949d74806f00f27550",
       "version_major": 2,
       "version_minor": 0
      },
      "text/plain": [
       "Training episodes:   0%|          | 0/3 [00:00<?, ?it/s]"
      ]
     },
     "metadata": {},
     "output_type": "display_data"
    },
    {
     "data": {
      "application/vnd.jupyter.widget-view+json": {
       "model_id": "9c556a791a3a463dabffba038975d4f2",
       "version_major": 2,
       "version_minor": 0
      },
      "text/plain": [
       "Training episodes:   0%|          | 0/3 [00:00<?, ?it/s]"
      ]
     },
     "metadata": {},
     "output_type": "display_data"
    },
    {
     "data": {
      "application/vnd.jupyter.widget-view+json": {
       "model_id": "9e9a199c3fc944d48a8343f993b22231",
       "version_major": 2,
       "version_minor": 0
      },
      "text/plain": [
       "seeds:   0%|          | 0/30 [00:00<?, ?it/s]"
      ]
     },
     "metadata": {},
     "output_type": "display_data"
    }
   ],
   "source": [
    "# | hide\n",
    "a2c_agent = A2CAgent(render_mode=\"human\", env_config=ENV_CONFIG)\n",
    "\n",
    "a2c_agent.train()\n",
    "\n",
    "if not QUICK_MODE:\n",
    "    a2c_agent.save_model(f\"{a2c_agent.name}.model\")\n",
    "\n",
    "evaluation_data_per_agent[a2c_agent.name] = a2c_agent.evaluate()"
   ]
  },
  {
   "cell_type": "markdown",
   "metadata": {},
   "source": "### Evaluation MaskablePPO with default hyperparameters on ElectricityMarketEnv"
  },
  {
   "cell_type": "code",
   "execution_count": null,
   "metadata": {},
   "outputs": [
    {
     "data": {
      "application/vnd.jupyter.widget-view+json": {
       "model_id": "091071954e484af6915a74c9c3ae3a04",
       "version_major": 2,
       "version_minor": 0
      },
      "text/plain": [
       "seeds:   0%|          | 0/30 [00:00<?, ?it/s]"
      ]
     },
     "metadata": {},
     "output_type": "display_data"
    },
    {
     "data": {
      "application/vnd.jupyter.widget-view+json": {
       "model_id": "4484946be99a493d97f77d601a733ddb",
       "version_major": 2,
       "version_minor": 0
      },
      "text/plain": [
       "Training episodes:   0%|          | 0/3 [00:00<?, ?it/s]"
      ]
     },
     "metadata": {},
     "output_type": "display_data"
    },
    {
     "data": {
      "application/vnd.jupyter.widget-view+json": {
       "model_id": "5f55823e9e064da6b388ade3782eb717",
       "version_major": 2,
       "version_minor": 0
      },
      "text/plain": [
       "Training episodes:   0%|          | 0/3 [00:00<?, ?it/s]"
      ]
     },
     "metadata": {},
     "output_type": "display_data"
    },
    {
     "data": {
      "application/vnd.jupyter.widget-view+json": {
       "model_id": "6d7ff8a3fc2b48b3a802bc216ab9335c",
       "version_major": 2,
       "version_minor": 0
      },
      "text/plain": [
       "Training episodes:   0%|          | 0/3 [00:00<?, ?it/s]"
      ]
     },
     "metadata": {},
     "output_type": "display_data"
    },
    {
     "data": {
      "application/vnd.jupyter.widget-view+json": {
       "model_id": "1602b999acb44dfea295d2f924544af9",
       "version_major": 2,
       "version_minor": 0
      },
      "text/plain": [
       "Training episodes:   0%|          | 0/3 [00:00<?, ?it/s]"
      ]
     },
     "metadata": {},
     "output_type": "display_data"
    },
    {
     "data": {
      "application/vnd.jupyter.widget-view+json": {
       "model_id": "b6b2927e595947abbccd74d26efd03a9",
       "version_major": 2,
       "version_minor": 0
      },
      "text/plain": [
       "Training episodes:   0%|          | 0/3 [00:00<?, ?it/s]"
      ]
     },
     "metadata": {},
     "output_type": "display_data"
    },
    {
     "data": {
      "application/vnd.jupyter.widget-view+json": {
       "model_id": "78c16e2c4de94218b615283ae2f663d8",
       "version_major": 2,
       "version_minor": 0
      },
      "text/plain": [
       "Training episodes:   0%|          | 0/3 [00:00<?, ?it/s]"
      ]
     },
     "metadata": {},
     "output_type": "display_data"
    },
    {
     "data": {
      "application/vnd.jupyter.widget-view+json": {
       "model_id": "a623a3f4b46b485882d9cdc237a5b23a",
       "version_major": 2,
       "version_minor": 0
      },
      "text/plain": [
       "Training episodes:   0%|          | 0/3 [00:00<?, ?it/s]"
      ]
     },
     "metadata": {},
     "output_type": "display_data"
    },
    {
     "data": {
      "application/vnd.jupyter.widget-view+json": {
       "model_id": "dd3748bc1f9848d2872ee22aa39fd4fa",
       "version_major": 2,
       "version_minor": 0
      },
      "text/plain": [
       "Training episodes:   0%|          | 0/3 [00:00<?, ?it/s]"
      ]
     },
     "metadata": {},
     "output_type": "display_data"
    },
    {
     "data": {
      "application/vnd.jupyter.widget-view+json": {
       "model_id": "1aa573fe29df4098a1a165fec687759d",
       "version_major": 2,
       "version_minor": 0
      },
      "text/plain": [
       "Training episodes:   0%|          | 0/3 [00:00<?, ?it/s]"
      ]
     },
     "metadata": {},
     "output_type": "display_data"
    },
    {
     "data": {
      "application/vnd.jupyter.widget-view+json": {
       "model_id": "398654e72b8948319e398dd45ee21841",
       "version_major": 2,
       "version_minor": 0
      },
      "text/plain": [
       "Training episodes:   0%|          | 0/3 [00:00<?, ?it/s]"
      ]
     },
     "metadata": {},
     "output_type": "display_data"
    },
    {
     "data": {
      "application/vnd.jupyter.widget-view+json": {
       "model_id": "3e83e9d05bcd4cabb205d6158eaad0cb",
       "version_major": 2,
       "version_minor": 0
      },
      "text/plain": [
       "Training episodes:   0%|          | 0/3 [00:00<?, ?it/s]"
      ]
     },
     "metadata": {},
     "output_type": "display_data"
    },
    {
     "data": {
      "application/vnd.jupyter.widget-view+json": {
       "model_id": "21279c6151f04834af4921a7bd95ba18",
       "version_major": 2,
       "version_minor": 0
      },
      "text/plain": [
       "Training episodes:   0%|          | 0/3 [00:00<?, ?it/s]"
      ]
     },
     "metadata": {},
     "output_type": "display_data"
    },
    {
     "data": {
      "application/vnd.jupyter.widget-view+json": {
       "model_id": "646c1e7754094978a7e3630870f1cfe1",
       "version_major": 2,
       "version_minor": 0
      },
      "text/plain": [
       "Training episodes:   0%|          | 0/3 [00:00<?, ?it/s]"
      ]
     },
     "metadata": {},
     "output_type": "display_data"
    },
    {
     "data": {
      "application/vnd.jupyter.widget-view+json": {
       "model_id": "ba45b67d66b7451f891f09b1d44bdeee",
       "version_major": 2,
       "version_minor": 0
      },
      "text/plain": [
       "Training episodes:   0%|          | 0/3 [00:00<?, ?it/s]"
      ]
     },
     "metadata": {},
     "output_type": "display_data"
    },
    {
     "data": {
      "application/vnd.jupyter.widget-view+json": {
       "model_id": "3c1a4936b9cf47908212956f5507f2f2",
       "version_major": 2,
       "version_minor": 0
      },
      "text/plain": [
       "Training episodes:   0%|          | 0/3 [00:00<?, ?it/s]"
      ]
     },
     "metadata": {},
     "output_type": "display_data"
    },
    {
     "data": {
      "application/vnd.jupyter.widget-view+json": {
       "model_id": "ea9050110a1b4b64b82eff6bafd2dd2b",
       "version_major": 2,
       "version_minor": 0
      },
      "text/plain": [
       "Training episodes:   0%|          | 0/3 [00:00<?, ?it/s]"
      ]
     },
     "metadata": {},
     "output_type": "display_data"
    },
    {
     "data": {
      "application/vnd.jupyter.widget-view+json": {
       "model_id": "3f292c9dfeea465eb2ae86560726c2eb",
       "version_major": 2,
       "version_minor": 0
      },
      "text/plain": [
       "Training episodes:   0%|          | 0/3 [00:00<?, ?it/s]"
      ]
     },
     "metadata": {},
     "output_type": "display_data"
    },
    {
     "data": {
      "application/vnd.jupyter.widget-view+json": {
       "model_id": "7faf82be96784d6ba866b7d8c32d1716",
       "version_major": 2,
       "version_minor": 0
      },
      "text/plain": [
       "Training episodes:   0%|          | 0/3 [00:00<?, ?it/s]"
      ]
     },
     "metadata": {},
     "output_type": "display_data"
    },
    {
     "data": {
      "application/vnd.jupyter.widget-view+json": {
       "model_id": "253fa22e03ea4f37afdd5f1adb5b8df2",
       "version_major": 2,
       "version_minor": 0
      },
      "text/plain": [
       "Training episodes:   0%|          | 0/3 [00:00<?, ?it/s]"
      ]
     },
     "metadata": {},
     "output_type": "display_data"
    },
    {
     "data": {
      "application/vnd.jupyter.widget-view+json": {
       "model_id": "7f29c093f31d46b4baf77cf46a2c67da",
       "version_major": 2,
       "version_minor": 0
      },
      "text/plain": [
       "Training episodes:   0%|          | 0/3 [00:00<?, ?it/s]"
      ]
     },
     "metadata": {},
     "output_type": "display_data"
    },
    {
     "data": {
      "application/vnd.jupyter.widget-view+json": {
       "model_id": "99f39c2b6d2242fcad8aa0330adfa314",
       "version_major": 2,
       "version_minor": 0
      },
      "text/plain": [
       "Training episodes:   0%|          | 0/3 [00:00<?, ?it/s]"
      ]
     },
     "metadata": {},
     "output_type": "display_data"
    },
    {
     "data": {
      "application/vnd.jupyter.widget-view+json": {
       "model_id": "a58c19fd949b48928bb4f090c8e1bf35",
       "version_major": 2,
       "version_minor": 0
      },
      "text/plain": [
       "Training episodes:   0%|          | 0/3 [00:00<?, ?it/s]"
      ]
     },
     "metadata": {},
     "output_type": "display_data"
    },
    {
     "data": {
      "application/vnd.jupyter.widget-view+json": {
       "model_id": "51bbdab2320e4ac9bec911b581ecb666",
       "version_major": 2,
       "version_minor": 0
      },
      "text/plain": [
       "Training episodes:   0%|          | 0/3 [00:00<?, ?it/s]"
      ]
     },
     "metadata": {},
     "output_type": "display_data"
    },
    {
     "data": {
      "application/vnd.jupyter.widget-view+json": {
       "model_id": "a7f123487ebc44b4917a1957591be1d1",
       "version_major": 2,
       "version_minor": 0
      },
      "text/plain": [
       "Training episodes:   0%|          | 0/3 [00:00<?, ?it/s]"
      ]
     },
     "metadata": {},
     "output_type": "display_data"
    },
    {
     "data": {
      "application/vnd.jupyter.widget-view+json": {
       "model_id": "2bbd94e9690e42b7a406e13d6625c8c6",
       "version_major": 2,
       "version_minor": 0
      },
      "text/plain": [
       "Training episodes:   0%|          | 0/3 [00:00<?, ?it/s]"
      ]
     },
     "metadata": {},
     "output_type": "display_data"
    },
    {
     "data": {
      "application/vnd.jupyter.widget-view+json": {
       "model_id": "38ea8f3ae19049bca4adb7e84b80b9dc",
       "version_major": 2,
       "version_minor": 0
      },
      "text/plain": [
       "Training episodes:   0%|          | 0/3 [00:00<?, ?it/s]"
      ]
     },
     "metadata": {},
     "output_type": "display_data"
    },
    {
     "data": {
      "application/vnd.jupyter.widget-view+json": {
       "model_id": "6de33a27f99149b2bb0560804157e845",
       "version_major": 2,
       "version_minor": 0
      },
      "text/plain": [
       "Training episodes:   0%|          | 0/3 [00:00<?, ?it/s]"
      ]
     },
     "metadata": {},
     "output_type": "display_data"
    },
    {
     "data": {
      "application/vnd.jupyter.widget-view+json": {
       "model_id": "50416b9e61f5447dbae4a822fff31695",
       "version_major": 2,
       "version_minor": 0
      },
      "text/plain": [
       "Training episodes:   0%|          | 0/3 [00:00<?, ?it/s]"
      ]
     },
     "metadata": {},
     "output_type": "display_data"
    },
    {
     "data": {
      "application/vnd.jupyter.widget-view+json": {
       "model_id": "63f5ac58dd3a4ba4b21b280c8e7748bc",
       "version_major": 2,
       "version_minor": 0
      },
      "text/plain": [
       "Training episodes:   0%|          | 0/3 [00:00<?, ?it/s]"
      ]
     },
     "metadata": {},
     "output_type": "display_data"
    },
    {
     "data": {
      "application/vnd.jupyter.widget-view+json": {
       "model_id": "458005de0a394034beea1856dfeaffa6",
       "version_major": 2,
       "version_minor": 0
      },
      "text/plain": [
       "Training episodes:   0%|          | 0/3 [00:00<?, ?it/s]"
      ]
     },
     "metadata": {},
     "output_type": "display_data"
    },
    {
     "data": {
      "application/vnd.jupyter.widget-view+json": {
       "model_id": "3f75380142784079887ca5169707761b",
       "version_major": 2,
       "version_minor": 0
      },
      "text/plain": [
       "seeds:   0%|          | 0/30 [00:00<?, ?it/s]"
      ]
     },
     "metadata": {},
     "output_type": "display_data"
    }
   ],
   "source": [
    "# | hide\n",
    "maskable_ppo_agent = MaskablePPOAgent(render_mode=\"human\", env_config=ENV_CONFIG)\n",
    "\n",
    "maskable_ppo_agent.train()\n",
    "\n",
    "if not QUICK_MODE:\n",
    "    maskable_ppo_agent.save_model(f\"{maskable_ppo_agent.name}.model\")\n",
    "\n",
    "evaluation_data_per_agent[maskable_ppo_agent.name] = maskable_ppo_agent.evaluate()"
   ]
  },
  {
   "cell_type": "markdown",
   "metadata": {},
   "source": "### Evaluation MaskablePPO with optimized hyperparameters on ElectricityMarketEnv"
  },
  {
   "cell_type": "code",
   "execution_count": null,
   "metadata": {},
   "outputs": [
    {
     "name": "stderr",
     "output_type": "stream",
     "text": [
      "[I 2025-03-03 22:47:11,957] A new study created in RDB with name: OptimizedMaskablePPOAgent\n"
     ]
    },
    {
     "data": {
      "application/vnd.jupyter.widget-view+json": {
       "model_id": "01102e10847e4b06882b677a648ab6dc",
       "version_major": 2,
       "version_minor": 0
      },
      "text/plain": [
       "  0%|          | 0/10 [00:00<?, ?it/s]"
      ]
     },
     "metadata": {},
     "output_type": "display_data"
    },
    {
     "data": {
      "application/vnd.jupyter.widget-view+json": {
       "model_id": "7bebf9dce02d42b183cf03bd84008b0b",
       "version_major": 2,
       "version_minor": 0
      },
      "text/plain": [
       "seeds:   0%|          | 0/30 [00:00<?, ?it/s]"
      ]
     },
     "metadata": {},
     "output_type": "display_data"
    },
    {
     "data": {
      "application/vnd.jupyter.widget-view+json": {
       "model_id": "2916c2cd5cd64b4eb1117f50f1dcc28c",
       "version_major": 2,
       "version_minor": 0
      },
      "text/plain": [
       "Training episodes:   0%|          | 0/3 [00:00<?, ?it/s]"
      ]
     },
     "metadata": {},
     "output_type": "display_data"
    },
    {
     "data": {
      "application/vnd.jupyter.widget-view+json": {
       "model_id": "f25ef45485a1429dbfcb8f9393856720",
       "version_major": 2,
       "version_minor": 0
      },
      "text/plain": [
       "seeds:   0%|          | 0/30 [00:00<?, ?it/s]"
      ]
     },
     "metadata": {},
     "output_type": "display_data"
    },
    {
     "data": {
      "application/vnd.jupyter.widget-view+json": {
       "model_id": "008f9792a1134975b07631ca3a8ecb0d",
       "version_major": 2,
       "version_minor": 0
      },
      "text/plain": [
       "seeds:   0%|          | 0/30 [00:00<?, ?it/s]"
      ]
     },
     "metadata": {},
     "output_type": "display_data"
    },
    {
     "data": {
      "application/vnd.jupyter.widget-view+json": {
       "model_id": "8eca866f05e04f18ab0b41d3a1f18e59",
       "version_major": 2,
       "version_minor": 0
      },
      "text/plain": [
       "Training episodes:   0%|          | 0/3 [00:00<?, ?it/s]"
      ]
     },
     "metadata": {},
     "output_type": "display_data"
    },
    {
     "data": {
      "application/vnd.jupyter.widget-view+json": {
       "model_id": "b24838320b6e457c86804f8a79651e8d",
       "version_major": 2,
       "version_minor": 0
      },
      "text/plain": [
       "Training episodes:   0%|          | 0/3 [00:00<?, ?it/s]"
      ]
     },
     "metadata": {},
     "output_type": "display_data"
    },
    {
     "data": {
      "application/vnd.jupyter.widget-view+json": {
       "model_id": "98e6910945804cccac4d97f32f920506",
       "version_major": 2,
       "version_minor": 0
      },
      "text/plain": [
       "seeds:   0%|          | 0/30 [00:00<?, ?it/s]"
      ]
     },
     "metadata": {},
     "output_type": "display_data"
    },
    {
     "data": {
      "application/vnd.jupyter.widget-view+json": {
       "model_id": "5c582bc0a42a4b39b21aeba484c3f3c3",
       "version_major": 2,
       "version_minor": 0
      },
      "text/plain": [
       "Training episodes:   0%|          | 0/3 [00:00<?, ?it/s]"
      ]
     },
     "metadata": {},
     "output_type": "display_data"
    },
    {
     "data": {
      "application/vnd.jupyter.widget-view+json": {
       "model_id": "9308adbba9124473bbf5cf5f406b4ed0",
       "version_major": 2,
       "version_minor": 0
      },
      "text/plain": [
       "seeds:   0%|          | 0/30 [00:00<?, ?it/s]"
      ]
     },
     "metadata": {},
     "output_type": "display_data"
    },
    {
     "data": {
      "application/vnd.jupyter.widget-view+json": {
       "model_id": "ad31929ba187491fb7441686253bfc43",
       "version_major": 2,
       "version_minor": 0
      },
      "text/plain": [
       "Training episodes:   0%|          | 0/3 [00:00<?, ?it/s]"
      ]
     },
     "metadata": {},
     "output_type": "display_data"
    },
    {
     "data": {
      "application/vnd.jupyter.widget-view+json": {
       "model_id": "0f8ef044dba34174bd31c443657d8de3",
       "version_major": 2,
       "version_minor": 0
      },
      "text/plain": [
       "seeds:   0%|          | 0/30 [00:00<?, ?it/s]"
      ]
     },
     "metadata": {},
     "output_type": "display_data"
    },
    {
     "data": {
      "application/vnd.jupyter.widget-view+json": {
       "model_id": "3b146e8e1a1d4075b20ba160502c4872",
       "version_major": 2,
       "version_minor": 0
      },
      "text/plain": [
       "Training episodes:   0%|          | 0/3 [00:00<?, ?it/s]"
      ]
     },
     "metadata": {},
     "output_type": "display_data"
    },
    {
     "data": {
      "application/vnd.jupyter.widget-view+json": {
       "model_id": "b08c6c4c4e1a427bac8fac61a3694ac8",
       "version_major": 2,
       "version_minor": 0
      },
      "text/plain": [
       "seeds:   0%|          | 0/30 [00:00<?, ?it/s]"
      ]
     },
     "metadata": {},
     "output_type": "display_data"
    },
    {
     "data": {
      "application/vnd.jupyter.widget-view+json": {
       "model_id": "860c4575ac5e49728148b11df1f737a9",
       "version_major": 2,
       "version_minor": 0
      },
      "text/plain": [
       "Training episodes:   0%|          | 0/3 [00:00<?, ?it/s]"
      ]
     },
     "metadata": {},
     "output_type": "display_data"
    },
    {
     "data": {
      "application/vnd.jupyter.widget-view+json": {
       "model_id": "0a89154004e74ae9a1ba596b2fc3065c",
       "version_major": 2,
       "version_minor": 0
      },
      "text/plain": [
       "seeds:   0%|          | 0/30 [00:00<?, ?it/s]"
      ]
     },
     "metadata": {},
     "output_type": "display_data"
    },
    {
     "data": {
      "application/vnd.jupyter.widget-view+json": {
       "model_id": "2a664dd74a6f4dfeb9197f9e92d54fa7",
       "version_major": 2,
       "version_minor": 0
      },
      "text/plain": [
       "Training episodes:   0%|          | 0/3 [00:00<?, ?it/s]"
      ]
     },
     "metadata": {},
     "output_type": "display_data"
    },
    {
     "data": {
      "application/vnd.jupyter.widget-view+json": {
       "model_id": "9b484abedda44bc69bc986d569c33fb8",
       "version_major": 2,
       "version_minor": 0
      },
      "text/plain": [
       "Training episodes:   0%|          | 0/3 [00:00<?, ?it/s]"
      ]
     },
     "metadata": {},
     "output_type": "display_data"
    },
    {
     "data": {
      "application/vnd.jupyter.widget-view+json": {
       "model_id": "3747379c0066488abd41d2ec3de8f9b5",
       "version_major": 2,
       "version_minor": 0
      },
      "text/plain": [
       "Training episodes:   0%|          | 0/3 [00:00<?, ?it/s]"
      ]
     },
     "metadata": {},
     "output_type": "display_data"
    },
    {
     "data": {
      "application/vnd.jupyter.widget-view+json": {
       "model_id": "7e4e4385f9044a3584e07cb2ac511c9a",
       "version_major": 2,
       "version_minor": 0
      },
      "text/plain": [
       "Training episodes:   0%|          | 0/3 [00:00<?, ?it/s]"
      ]
     },
     "metadata": {},
     "output_type": "display_data"
    },
    {
     "data": {
      "application/vnd.jupyter.widget-view+json": {
       "model_id": "0424269502b0436099b2bd8501b72a84",
       "version_major": 2,
       "version_minor": 0
      },
      "text/plain": [
       "Training episodes:   0%|          | 0/3 [00:00<?, ?it/s]"
      ]
     },
     "metadata": {},
     "output_type": "display_data"
    },
    {
     "data": {
      "application/vnd.jupyter.widget-view+json": {
       "model_id": "b651eb8218b642558d964c6214eda00f",
       "version_major": 2,
       "version_minor": 0
      },
      "text/plain": [
       "Training episodes:   0%|          | 0/3 [00:00<?, ?it/s]"
      ]
     },
     "metadata": {},
     "output_type": "display_data"
    },
    {
     "data": {
      "application/vnd.jupyter.widget-view+json": {
       "model_id": "96be974f4a35478eb4ae5c18e0e3e9e0",
       "version_major": 2,
       "version_minor": 0
      },
      "text/plain": [
       "Training episodes:   0%|          | 0/3 [00:00<?, ?it/s]"
      ]
     },
     "metadata": {},
     "output_type": "display_data"
    },
    {
     "data": {
      "application/vnd.jupyter.widget-view+json": {
       "model_id": "5f022c4c13f340699937ae0ae01ddaae",
       "version_major": 2,
       "version_minor": 0
      },
      "text/plain": [
       "Training episodes:   0%|          | 0/3 [00:00<?, ?it/s]"
      ]
     },
     "metadata": {},
     "output_type": "display_data"
    },
    {
     "data": {
      "application/vnd.jupyter.widget-view+json": {
       "model_id": "ba8f65b3b9aa4b9b89c62b7e0313d5f0",
       "version_major": 2,
       "version_minor": 0
      },
      "text/plain": [
       "Training episodes:   0%|          | 0/3 [00:00<?, ?it/s]"
      ]
     },
     "metadata": {},
     "output_type": "display_data"
    },
    {
     "data": {
      "application/vnd.jupyter.widget-view+json": {
       "model_id": "d4f203c1d7814a1a84a8c66ab10ee26b",
       "version_major": 2,
       "version_minor": 0
      },
      "text/plain": [
       "Training episodes:   0%|          | 0/3 [00:00<?, ?it/s]"
      ]
     },
     "metadata": {},
     "output_type": "display_data"
    },
    {
     "data": {
      "application/vnd.jupyter.widget-view+json": {
       "model_id": "c00809e20ffc41f08c9ed504fe8e5379",
       "version_major": 2,
       "version_minor": 0
      },
      "text/plain": [
       "Training episodes:   0%|          | 0/3 [00:00<?, ?it/s]"
      ]
     },
     "metadata": {},
     "output_type": "display_data"
    },
    {
     "data": {
      "application/vnd.jupyter.widget-view+json": {
       "model_id": "d7b4c83d87524aefada381f375ed2c19",
       "version_major": 2,
       "version_minor": 0
      },
      "text/plain": [
       "Training episodes:   0%|          | 0/3 [00:00<?, ?it/s]"
      ]
     },
     "metadata": {},
     "output_type": "display_data"
    },
    {
     "data": {
      "application/vnd.jupyter.widget-view+json": {
       "model_id": "e06bddea4410499fab3f71852247d7e0",
       "version_major": 2,
       "version_minor": 0
      },
      "text/plain": [
       "Training episodes:   0%|          | 0/3 [00:00<?, ?it/s]"
      ]
     },
     "metadata": {},
     "output_type": "display_data"
    },
    {
     "data": {
      "application/vnd.jupyter.widget-view+json": {
       "model_id": "e603d1b25fb4460e863e5766e83a6188",
       "version_major": 2,
       "version_minor": 0
      },
      "text/plain": [
       "Training episodes:   0%|          | 0/3 [00:00<?, ?it/s]"
      ]
     },
     "metadata": {},
     "output_type": "display_data"
    },
    {
     "data": {
      "application/vnd.jupyter.widget-view+json": {
       "model_id": "22c5e2686e6b4a57b5657db420d3738c",
       "version_major": 2,
       "version_minor": 0
      },
      "text/plain": [
       "Training episodes:   0%|          | 0/3 [00:00<?, ?it/s]"
      ]
     },
     "metadata": {},
     "output_type": "display_data"
    },
    {
     "data": {
      "application/vnd.jupyter.widget-view+json": {
       "model_id": "9b83e57d4bfe4731823aa0671f286d68",
       "version_major": 2,
       "version_minor": 0
      },
      "text/plain": [
       "Training episodes:   0%|          | 0/3 [00:00<?, ?it/s]"
      ]
     },
     "metadata": {},
     "output_type": "display_data"
    },
    {
     "data": {
      "application/vnd.jupyter.widget-view+json": {
       "model_id": "f874e37f59c1438f8b914e099337d0ec",
       "version_major": 2,
       "version_minor": 0
      },
      "text/plain": [
       "Training episodes:   0%|          | 0/3 [00:00<?, ?it/s]"
      ]
     },
     "metadata": {},
     "output_type": "display_data"
    },
    {
     "data": {
      "application/vnd.jupyter.widget-view+json": {
       "model_id": "448ccc9486dd4ac1a1763b7c6f26f090",
       "version_major": 2,
       "version_minor": 0
      },
      "text/plain": [
       "Training episodes:   0%|          | 0/3 [00:00<?, ?it/s]"
      ]
     },
     "metadata": {},
     "output_type": "display_data"
    },
    {
     "data": {
      "application/vnd.jupyter.widget-view+json": {
       "model_id": "c515f0b5a5e342b287c1c0fdd6bb53bc",
       "version_major": 2,
       "version_minor": 0
      },
      "text/plain": [
       "Training episodes:   0%|          | 0/3 [00:00<?, ?it/s]"
      ]
     },
     "metadata": {},
     "output_type": "display_data"
    },
    {
     "data": {
      "application/vnd.jupyter.widget-view+json": {
       "model_id": "091d7847b435404b8ae1c41a37f8924b",
       "version_major": 2,
       "version_minor": 0
      },
      "text/plain": [
       "Training episodes:   0%|          | 0/3 [00:00<?, ?it/s]"
      ]
     },
     "metadata": {},
     "output_type": "display_data"
    },
    {
     "data": {
      "application/vnd.jupyter.widget-view+json": {
       "model_id": "4e4152d02cbf4078add96f58b851c3a9",
       "version_major": 2,
       "version_minor": 0
      },
      "text/plain": [
       "Training episodes:   0%|          | 0/3 [00:00<?, ?it/s]"
      ]
     },
     "metadata": {},
     "output_type": "display_data"
    },
    {
     "data": {
      "application/vnd.jupyter.widget-view+json": {
       "model_id": "a0e43adb6da541678b0e95a2df054a5b",
       "version_major": 2,
       "version_minor": 0
      },
      "text/plain": [
       "Training episodes:   0%|          | 0/3 [00:00<?, ?it/s]"
      ]
     },
     "metadata": {},
     "output_type": "display_data"
    },
    {
     "data": {
      "application/vnd.jupyter.widget-view+json": {
       "model_id": "f4e1472096454f29854eef3277a5a2e4",
       "version_major": 2,
       "version_minor": 0
      },
      "text/plain": [
       "Training episodes:   0%|          | 0/3 [00:00<?, ?it/s]"
      ]
     },
     "metadata": {},
     "output_type": "display_data"
    },
    {
     "data": {
      "application/vnd.jupyter.widget-view+json": {
       "model_id": "c96234ef87ca4ed98e23a0c763201992",
       "version_major": 2,
       "version_minor": 0
      },
      "text/plain": [
       "Training episodes:   0%|          | 0/3 [00:00<?, ?it/s]"
      ]
     },
     "metadata": {},
     "output_type": "display_data"
    },
    {
     "data": {
      "application/vnd.jupyter.widget-view+json": {
       "model_id": "cd0144164f364708a5f87578ecd1c7df",
       "version_major": 2,
       "version_minor": 0
      },
      "text/plain": [
       "Training episodes:   0%|          | 0/3 [00:00<?, ?it/s]"
      ]
     },
     "metadata": {},
     "output_type": "display_data"
    },
    {
     "data": {
      "application/vnd.jupyter.widget-view+json": {
       "model_id": "48fd89305cc24f10af79385228b3d66d",
       "version_major": 2,
       "version_minor": 0
      },
      "text/plain": [
       "Training episodes:   0%|          | 0/3 [00:00<?, ?it/s]"
      ]
     },
     "metadata": {},
     "output_type": "display_data"
    },
    {
     "data": {
      "application/vnd.jupyter.widget-view+json": {
       "model_id": "ecf1d34a99604472b02f963e58b5c188",
       "version_major": 2,
       "version_minor": 0
      },
      "text/plain": [
       "Training episodes:   0%|          | 0/3 [00:00<?, ?it/s]"
      ]
     },
     "metadata": {},
     "output_type": "display_data"
    },
    {
     "data": {
      "application/vnd.jupyter.widget-view+json": {
       "model_id": "8d1052ebc40943b6976ab4ad390696e5",
       "version_major": 2,
       "version_minor": 0
      },
      "text/plain": [
       "Training episodes:   0%|          | 0/3 [00:00<?, ?it/s]"
      ]
     },
     "metadata": {},
     "output_type": "display_data"
    },
    {
     "data": {
      "application/vnd.jupyter.widget-view+json": {
       "model_id": "1d8aaef1a7b54d849f8ede961722fd80",
       "version_major": 2,
       "version_minor": 0
      },
      "text/plain": [
       "Training episodes:   0%|          | 0/3 [00:00<?, ?it/s]"
      ]
     },
     "metadata": {},
     "output_type": "display_data"
    },
    {
     "data": {
      "application/vnd.jupyter.widget-view+json": {
       "model_id": "38a58d2a51d444c0a1f9df09bfeca510",
       "version_major": 2,
       "version_minor": 0
      },
      "text/plain": [
       "Training episodes:   0%|          | 0/3 [00:00<?, ?it/s]"
      ]
     },
     "metadata": {},
     "output_type": "display_data"
    },
    {
     "data": {
      "application/vnd.jupyter.widget-view+json": {
       "model_id": "6214bb54d0df4278a23aa8065363e8eb",
       "version_major": 2,
       "version_minor": 0
      },
      "text/plain": [
       "Training episodes:   0%|          | 0/3 [00:00<?, ?it/s]"
      ]
     },
     "metadata": {},
     "output_type": "display_data"
    },
    {
     "data": {
      "application/vnd.jupyter.widget-view+json": {
       "model_id": "09a7721f848f401b8143eba9ecf866ed",
       "version_major": 2,
       "version_minor": 0
      },
      "text/plain": [
       "Training episodes:   0%|          | 0/3 [00:00<?, ?it/s]"
      ]
     },
     "metadata": {},
     "output_type": "display_data"
    },
    {
     "data": {
      "application/vnd.jupyter.widget-view+json": {
       "model_id": "1dde544658434f569dfab8e1196c41b8",
       "version_major": 2,
       "version_minor": 0
      },
      "text/plain": [
       "Training episodes:   0%|          | 0/3 [00:00<?, ?it/s]"
      ]
     },
     "metadata": {},
     "output_type": "display_data"
    },
    {
     "data": {
      "application/vnd.jupyter.widget-view+json": {
       "model_id": "bc6bc212c209430d91e1ad43b3ed9e72",
       "version_major": 2,
       "version_minor": 0
      },
      "text/plain": [
       "Training episodes:   0%|          | 0/3 [00:00<?, ?it/s]"
      ]
     },
     "metadata": {},
     "output_type": "display_data"
    },
    {
     "data": {
      "application/vnd.jupyter.widget-view+json": {
       "model_id": "8469d5150ec14be0aeb5901fb82f364d",
       "version_major": 2,
       "version_minor": 0
      },
      "text/plain": [
       "Training episodes:   0%|          | 0/3 [00:00<?, ?it/s]"
      ]
     },
     "metadata": {},
     "output_type": "display_data"
    },
    {
     "data": {
      "application/vnd.jupyter.widget-view+json": {
       "model_id": "e64b8f6f8aee42d0857525905f3d48f1",
       "version_major": 2,
       "version_minor": 0
      },
      "text/plain": [
       "Training episodes:   0%|          | 0/3 [00:00<?, ?it/s]"
      ]
     },
     "metadata": {},
     "output_type": "display_data"
    },
    {
     "data": {
      "application/vnd.jupyter.widget-view+json": {
       "model_id": "e6d7746f45694d519487a9806eb7ec3e",
       "version_major": 2,
       "version_minor": 0
      },
      "text/plain": [
       "Training episodes:   0%|          | 0/3 [00:00<?, ?it/s]"
      ]
     },
     "metadata": {},
     "output_type": "display_data"
    },
    {
     "data": {
      "application/vnd.jupyter.widget-view+json": {
       "model_id": "bf360629e0a94f6d9f0dd686b7c0a689",
       "version_major": 2,
       "version_minor": 0
      },
      "text/plain": [
       "Training episodes:   0%|          | 0/3 [00:00<?, ?it/s]"
      ]
     },
     "metadata": {},
     "output_type": "display_data"
    },
    {
     "data": {
      "application/vnd.jupyter.widget-view+json": {
       "model_id": "92657365a17544d793ebb76c8180d86e",
       "version_major": 2,
       "version_minor": 0
      },
      "text/plain": [
       "Training episodes:   0%|          | 0/3 [00:00<?, ?it/s]"
      ]
     },
     "metadata": {},
     "output_type": "display_data"
    },
    {
     "data": {
      "application/vnd.jupyter.widget-view+json": {
       "model_id": "697ab8a032d64a44bd978fddba649923",
       "version_major": 2,
       "version_minor": 0
      },
      "text/plain": [
       "Training episodes:   0%|          | 0/3 [00:00<?, ?it/s]"
      ]
     },
     "metadata": {},
     "output_type": "display_data"
    },
    {
     "data": {
      "application/vnd.jupyter.widget-view+json": {
       "model_id": "e9fcb2e186b64d72ab21a8775ec8f67d",
       "version_major": 2,
       "version_minor": 0
      },
      "text/plain": [
       "Training episodes:   0%|          | 0/3 [00:00<?, ?it/s]"
      ]
     },
     "metadata": {},
     "output_type": "display_data"
    },
    {
     "data": {
      "application/vnd.jupyter.widget-view+json": {
       "model_id": "14c9cff398f1429493bb35bfd752554c",
       "version_major": 2,
       "version_minor": 0
      },
      "text/plain": [
       "Training episodes:   0%|          | 0/3 [00:00<?, ?it/s]"
      ]
     },
     "metadata": {},
     "output_type": "display_data"
    },
    {
     "data": {
      "application/vnd.jupyter.widget-view+json": {
       "model_id": "a433a18d6dcd4e07af441613c2f26207",
       "version_major": 2,
       "version_minor": 0
      },
      "text/plain": [
       "Training episodes:   0%|          | 0/3 [00:00<?, ?it/s]"
      ]
     },
     "metadata": {},
     "output_type": "display_data"
    },
    {
     "data": {
      "application/vnd.jupyter.widget-view+json": {
       "model_id": "66255f612e18478186091d240ee869ed",
       "version_major": 2,
       "version_minor": 0
      },
      "text/plain": [
       "Training episodes:   0%|          | 0/3 [00:00<?, ?it/s]"
      ]
     },
     "metadata": {},
     "output_type": "display_data"
    },
    {
     "data": {
      "application/vnd.jupyter.widget-view+json": {
       "model_id": "5d281d3e09264532860ec0e719121956",
       "version_major": 2,
       "version_minor": 0
      },
      "text/plain": [
       "Training episodes:   0%|          | 0/3 [00:00<?, ?it/s]"
      ]
     },
     "metadata": {},
     "output_type": "display_data"
    },
    {
     "data": {
      "application/vnd.jupyter.widget-view+json": {
       "model_id": "f9bc9d62383d4a9aa4dc769677ae9b49",
       "version_major": 2,
       "version_minor": 0
      },
      "text/plain": [
       "Training episodes:   0%|          | 0/3 [00:00<?, ?it/s]"
      ]
     },
     "metadata": {},
     "output_type": "display_data"
    },
    {
     "data": {
      "application/vnd.jupyter.widget-view+json": {
       "model_id": "e7af7ae1a9264a2ead5a39e045fd74dc",
       "version_major": 2,
       "version_minor": 0
      },
      "text/plain": [
       "Training episodes:   0%|          | 0/3 [00:00<?, ?it/s]"
      ]
     },
     "metadata": {},
     "output_type": "display_data"
    },
    {
     "data": {
      "application/vnd.jupyter.widget-view+json": {
       "model_id": "f5bfb9fdd41448979849958917b79741",
       "version_major": 2,
       "version_minor": 0
      },
      "text/plain": [
       "Training episodes:   0%|          | 0/3 [00:00<?, ?it/s]"
      ]
     },
     "metadata": {},
     "output_type": "display_data"
    },
    {
     "data": {
      "application/vnd.jupyter.widget-view+json": {
       "model_id": "39322958f58a4294aad6df3c52368038",
       "version_major": 2,
       "version_minor": 0
      },
      "text/plain": [
       "Training episodes:   0%|          | 0/3 [00:00<?, ?it/s]"
      ]
     },
     "metadata": {},
     "output_type": "display_data"
    },
    {
     "data": {
      "application/vnd.jupyter.widget-view+json": {
       "model_id": "d3bf8f40b7e04ac4b2836bf00e2a3617",
       "version_major": 2,
       "version_minor": 0
      },
      "text/plain": [
       "Training episodes:   0%|          | 0/3 [00:00<?, ?it/s]"
      ]
     },
     "metadata": {},
     "output_type": "display_data"
    },
    {
     "data": {
      "application/vnd.jupyter.widget-view+json": {
       "model_id": "dd3c2aaba790445f805209dcb9023bd8",
       "version_major": 2,
       "version_minor": 0
      },
      "text/plain": [
       "Training episodes:   0%|          | 0/3 [00:00<?, ?it/s]"
      ]
     },
     "metadata": {},
     "output_type": "display_data"
    },
    {
     "data": {
      "application/vnd.jupyter.widget-view+json": {
       "model_id": "b7cd340ad0414462adaa46844c7a85b0",
       "version_major": 2,
       "version_minor": 0
      },
      "text/plain": [
       "Training episodes:   0%|          | 0/3 [00:00<?, ?it/s]"
      ]
     },
     "metadata": {},
     "output_type": "display_data"
    },
    {
     "data": {
      "application/vnd.jupyter.widget-view+json": {
       "model_id": "a014cac3c5f745878a551cec9a584017",
       "version_major": 2,
       "version_minor": 0
      },
      "text/plain": [
       "Training episodes:   0%|          | 0/3 [00:00<?, ?it/s]"
      ]
     },
     "metadata": {},
     "output_type": "display_data"
    },
    {
     "data": {
      "application/vnd.jupyter.widget-view+json": {
       "model_id": "c705845a28af418db09fc2917795e55e",
       "version_major": 2,
       "version_minor": 0
      },
      "text/plain": [
       "Training episodes:   0%|          | 0/3 [00:00<?, ?it/s]"
      ]
     },
     "metadata": {},
     "output_type": "display_data"
    },
    {
     "data": {
      "application/vnd.jupyter.widget-view+json": {
       "model_id": "add71c6cf2424035aa37201f45c2e020",
       "version_major": 2,
       "version_minor": 0
      },
      "text/plain": [
       "Training episodes:   0%|          | 0/3 [00:00<?, ?it/s]"
      ]
     },
     "metadata": {},
     "output_type": "display_data"
    },
    {
     "data": {
      "application/vnd.jupyter.widget-view+json": {
       "model_id": "10ea5a49c95242a5b4cb20a4958391d5",
       "version_major": 2,
       "version_minor": 0
      },
      "text/plain": [
       "Training episodes:   0%|          | 0/3 [00:00<?, ?it/s]"
      ]
     },
     "metadata": {},
     "output_type": "display_data"
    },
    {
     "data": {
      "application/vnd.jupyter.widget-view+json": {
       "model_id": "5a7dd19c3451490c8bb1a8cd49562bf0",
       "version_major": 2,
       "version_minor": 0
      },
      "text/plain": [
       "Training episodes:   0%|          | 0/3 [00:00<?, ?it/s]"
      ]
     },
     "metadata": {},
     "output_type": "display_data"
    },
    {
     "data": {
      "application/vnd.jupyter.widget-view+json": {
       "model_id": "d287ba85fd634c5499b83c2a83a4188a",
       "version_major": 2,
       "version_minor": 0
      },
      "text/plain": [
       "Training episodes:   0%|          | 0/3 [00:00<?, ?it/s]"
      ]
     },
     "metadata": {},
     "output_type": "display_data"
    },
    {
     "data": {
      "application/vnd.jupyter.widget-view+json": {
       "model_id": "faa3ee4ae8a74f999ef6f50b0af501e7",
       "version_major": 2,
       "version_minor": 0
      },
      "text/plain": [
       "Training episodes:   0%|          | 0/3 [00:00<?, ?it/s]"
      ]
     },
     "metadata": {},
     "output_type": "display_data"
    },
    {
     "data": {
      "application/vnd.jupyter.widget-view+json": {
       "model_id": "a39ef7db23634a84a837b5576431965b",
       "version_major": 2,
       "version_minor": 0
      },
      "text/plain": [
       "Training episodes:   0%|          | 0/3 [00:00<?, ?it/s]"
      ]
     },
     "metadata": {},
     "output_type": "display_data"
    },
    {
     "data": {
      "application/vnd.jupyter.widget-view+json": {
       "model_id": "cc384bd13bc44346a523553f22a1355e",
       "version_major": 2,
       "version_minor": 0
      },
      "text/plain": [
       "Training episodes:   0%|          | 0/3 [00:00<?, ?it/s]"
      ]
     },
     "metadata": {},
     "output_type": "display_data"
    },
    {
     "data": {
      "application/vnd.jupyter.widget-view+json": {
       "model_id": "6bb362b6c523421b9b68f1f66628fe97",
       "version_major": 2,
       "version_minor": 0
      },
      "text/plain": [
       "Training episodes:   0%|          | 0/3 [00:00<?, ?it/s]"
      ]
     },
     "metadata": {},
     "output_type": "display_data"
    },
    {
     "data": {
      "application/vnd.jupyter.widget-view+json": {
       "model_id": "cf6e869730cd437e9b7ef492a4fed373",
       "version_major": 2,
       "version_minor": 0
      },
      "text/plain": [
       "Training episodes:   0%|          | 0/3 [00:00<?, ?it/s]"
      ]
     },
     "metadata": {},
     "output_type": "display_data"
    },
    {
     "data": {
      "application/vnd.jupyter.widget-view+json": {
       "model_id": "7f9ab57388084fd994361d1a202c617a",
       "version_major": 2,
       "version_minor": 0
      },
      "text/plain": [
       "Training episodes:   0%|          | 0/3 [00:00<?, ?it/s]"
      ]
     },
     "metadata": {},
     "output_type": "display_data"
    },
    {
     "data": {
      "application/vnd.jupyter.widget-view+json": {
       "model_id": "f1247afd289c481b91a3da6fd7968b50",
       "version_major": 2,
       "version_minor": 0
      },
      "text/plain": [
       "Training episodes:   0%|          | 0/3 [00:00<?, ?it/s]"
      ]
     },
     "metadata": {},
     "output_type": "display_data"
    },
    {
     "data": {
      "application/vnd.jupyter.widget-view+json": {
       "model_id": "941a6cc6ddfd45df86246e343d6055c5",
       "version_major": 2,
       "version_minor": 0
      },
      "text/plain": [
       "Training episodes:   0%|          | 0/3 [00:00<?, ?it/s]"
      ]
     },
     "metadata": {},
     "output_type": "display_data"
    },
    {
     "data": {
      "application/vnd.jupyter.widget-view+json": {
       "model_id": "e9da0157411a46f88ba37c083924dd4b",
       "version_major": 2,
       "version_minor": 0
      },
      "text/plain": [
       "Training episodes:   0%|          | 0/3 [00:00<?, ?it/s]"
      ]
     },
     "metadata": {},
     "output_type": "display_data"
    },
    {
     "data": {
      "application/vnd.jupyter.widget-view+json": {
       "model_id": "a4692302983a432a96ac158c66418c67",
       "version_major": 2,
       "version_minor": 0
      },
      "text/plain": [
       "Training episodes:   0%|          | 0/3 [00:00<?, ?it/s]"
      ]
     },
     "metadata": {},
     "output_type": "display_data"
    },
    {
     "data": {
      "application/vnd.jupyter.widget-view+json": {
       "model_id": "6e724a4dd04f47ae924d5dfef4e272b1",
       "version_major": 2,
       "version_minor": 0
      },
      "text/plain": [
       "Training episodes:   0%|          | 0/3 [00:00<?, ?it/s]"
      ]
     },
     "metadata": {},
     "output_type": "display_data"
    },
    {
     "data": {
      "application/vnd.jupyter.widget-view+json": {
       "model_id": "92dd8c01c830400495c7c946ca6e25fc",
       "version_major": 2,
       "version_minor": 0
      },
      "text/plain": [
       "Training episodes:   0%|          | 0/3 [00:00<?, ?it/s]"
      ]
     },
     "metadata": {},
     "output_type": "display_data"
    },
    {
     "data": {
      "application/vnd.jupyter.widget-view+json": {
       "model_id": "4a1530a46b62484a87bdf61aa25e95d2",
       "version_major": 2,
       "version_minor": 0
      },
      "text/plain": [
       "Training episodes:   0%|          | 0/3 [00:00<?, ?it/s]"
      ]
     },
     "metadata": {},
     "output_type": "display_data"
    },
    {
     "data": {
      "application/vnd.jupyter.widget-view+json": {
       "model_id": "befd3d2b637f4a67922a487b2933369c",
       "version_major": 2,
       "version_minor": 0
      },
      "text/plain": [
       "Training episodes:   0%|          | 0/3 [00:00<?, ?it/s]"
      ]
     },
     "metadata": {},
     "output_type": "display_data"
    },
    {
     "data": {
      "application/vnd.jupyter.widget-view+json": {
       "model_id": "c5ad726db0ac4db2899712389179c42d",
       "version_major": 2,
       "version_minor": 0
      },
      "text/plain": [
       "Training episodes:   0%|          | 0/3 [00:00<?, ?it/s]"
      ]
     },
     "metadata": {},
     "output_type": "display_data"
    },
    {
     "data": {
      "application/vnd.jupyter.widget-view+json": {
       "model_id": "700d8f4af26d45b6987cdc81aec25807",
       "version_major": 2,
       "version_minor": 0
      },
      "text/plain": [
       "Training episodes:   0%|          | 0/3 [00:00<?, ?it/s]"
      ]
     },
     "metadata": {},
     "output_type": "display_data"
    },
    {
     "data": {
      "application/vnd.jupyter.widget-view+json": {
       "model_id": "a86383516ade46ac9cbe55be2bf6694f",
       "version_major": 2,
       "version_minor": 0
      },
      "text/plain": [
       "Training episodes:   0%|          | 0/3 [00:00<?, ?it/s]"
      ]
     },
     "metadata": {},
     "output_type": "display_data"
    },
    {
     "data": {
      "application/vnd.jupyter.widget-view+json": {
       "model_id": "269854e87a4d4693a349102c7c5fa812",
       "version_major": 2,
       "version_minor": 0
      },
      "text/plain": [
       "Training episodes:   0%|          | 0/3 [00:00<?, ?it/s]"
      ]
     },
     "metadata": {},
     "output_type": "display_data"
    },
    {
     "data": {
      "application/vnd.jupyter.widget-view+json": {
       "model_id": "81c9ff6041cd44cd9a2606a92ca8fd8d",
       "version_major": 2,
       "version_minor": 0
      },
      "text/plain": [
       "Training episodes:   0%|          | 0/3 [00:00<?, ?it/s]"
      ]
     },
     "metadata": {},
     "output_type": "display_data"
    },
    {
     "data": {
      "application/vnd.jupyter.widget-view+json": {
       "model_id": "d4ebe22fd95f4d229816f365c213fa86",
       "version_major": 2,
       "version_minor": 0
      },
      "text/plain": [
       "Training episodes:   0%|          | 0/3 [00:00<?, ?it/s]"
      ]
     },
     "metadata": {},
     "output_type": "display_data"
    },
    {
     "data": {
      "application/vnd.jupyter.widget-view+json": {
       "model_id": "e6b03440b7fa4045a1f39e3c5d6ad203",
       "version_major": 2,
       "version_minor": 0
      },
      "text/plain": [
       "Training episodes:   0%|          | 0/3 [00:00<?, ?it/s]"
      ]
     },
     "metadata": {},
     "output_type": "display_data"
    },
    {
     "data": {
      "application/vnd.jupyter.widget-view+json": {
       "model_id": "8302c20b1eb5420bba0b31a6b4607691",
       "version_major": 2,
       "version_minor": 0
      },
      "text/plain": [
       "Training episodes:   0%|          | 0/3 [00:00<?, ?it/s]"
      ]
     },
     "metadata": {},
     "output_type": "display_data"
    },
    {
     "data": {
      "application/vnd.jupyter.widget-view+json": {
       "model_id": "ca9532a1482644ee8a1a5219c862aa97",
       "version_major": 2,
       "version_minor": 0
      },
      "text/plain": [
       "Training episodes:   0%|          | 0/3 [00:00<?, ?it/s]"
      ]
     },
     "metadata": {},
     "output_type": "display_data"
    },
    {
     "data": {
      "application/vnd.jupyter.widget-view+json": {
       "model_id": "07d7f79f7df6413dbeff2537d316989c",
       "version_major": 2,
       "version_minor": 0
      },
      "text/plain": [
       "Training episodes:   0%|          | 0/3 [00:00<?, ?it/s]"
      ]
     },
     "metadata": {},
     "output_type": "display_data"
    },
    {
     "data": {
      "application/vnd.jupyter.widget-view+json": {
       "model_id": "1cc9300c3b1349dfaef3aa17d855f8b6",
       "version_major": 2,
       "version_minor": 0
      },
      "text/plain": [
       "Training episodes:   0%|          | 0/3 [00:00<?, ?it/s]"
      ]
     },
     "metadata": {},
     "output_type": "display_data"
    },
    {
     "data": {
      "application/vnd.jupyter.widget-view+json": {
       "model_id": "f197b6d10e244c239ca1ef7c8d4d3521",
       "version_major": 2,
       "version_minor": 0
      },
      "text/plain": [
       "Training episodes:   0%|          | 0/3 [00:00<?, ?it/s]"
      ]
     },
     "metadata": {},
     "output_type": "display_data"
    },
    {
     "data": {
      "application/vnd.jupyter.widget-view+json": {
       "model_id": "951f38d64942472b8f90b0d02ba0547e",
       "version_major": 2,
       "version_minor": 0
      },
      "text/plain": [
       "Training episodes:   0%|          | 0/3 [00:00<?, ?it/s]"
      ]
     },
     "metadata": {},
     "output_type": "display_data"
    },
    {
     "data": {
      "application/vnd.jupyter.widget-view+json": {
       "model_id": "daa664ad0c4841d7948ec9143c1d29fe",
       "version_major": 2,
       "version_minor": 0
      },
      "text/plain": [
       "Training episodes:   0%|          | 0/3 [00:00<?, ?it/s]"
      ]
     },
     "metadata": {},
     "output_type": "display_data"
    },
    {
     "data": {
      "application/vnd.jupyter.widget-view+json": {
       "model_id": "c685bff0ac0f4f06a91b4226e86d7a77",
       "version_major": 2,
       "version_minor": 0
      },
      "text/plain": [
       "Training episodes:   0%|          | 0/3 [00:00<?, ?it/s]"
      ]
     },
     "metadata": {},
     "output_type": "display_data"
    },
    {
     "data": {
      "application/vnd.jupyter.widget-view+json": {
       "model_id": "e8d2e45619b94a90b59b23297e27e17b",
       "version_major": 2,
       "version_minor": 0
      },
      "text/plain": [
       "Training episodes:   0%|          | 0/3 [00:00<?, ?it/s]"
      ]
     },
     "metadata": {},
     "output_type": "display_data"
    },
    {
     "data": {
      "application/vnd.jupyter.widget-view+json": {
       "model_id": "658564d5a94546cc9c23f0dd9f9b1ab7",
       "version_major": 2,
       "version_minor": 0
      },
      "text/plain": [
       "Training episodes:   0%|          | 0/3 [00:00<?, ?it/s]"
      ]
     },
     "metadata": {},
     "output_type": "display_data"
    },
    {
     "data": {
      "application/vnd.jupyter.widget-view+json": {
       "model_id": "8d48c8a89d5c4cc2b4127cb9280a4f26",
       "version_major": 2,
       "version_minor": 0
      },
      "text/plain": [
       "Training episodes:   0%|          | 0/3 [00:00<?, ?it/s]"
      ]
     },
     "metadata": {},
     "output_type": "display_data"
    },
    {
     "data": {
      "application/vnd.jupyter.widget-view+json": {
       "model_id": "6c1a8d7d08524f429dc6f9e98d0bafab",
       "version_major": 2,
       "version_minor": 0
      },
      "text/plain": [
       "Training episodes:   0%|          | 0/3 [00:00<?, ?it/s]"
      ]
     },
     "metadata": {},
     "output_type": "display_data"
    },
    {
     "data": {
      "application/vnd.jupyter.widget-view+json": {
       "model_id": "c440780b071e46febfc6186cf8470eec",
       "version_major": 2,
       "version_minor": 0
      },
      "text/plain": [
       "Training episodes:   0%|          | 0/3 [00:00<?, ?it/s]"
      ]
     },
     "metadata": {},
     "output_type": "display_data"
    },
    {
     "data": {
      "application/vnd.jupyter.widget-view+json": {
       "model_id": "9742bf62e01a417d80d82cd175f8b4e1",
       "version_major": 2,
       "version_minor": 0
      },
      "text/plain": [
       "Training episodes:   0%|          | 0/3 [00:00<?, ?it/s]"
      ]
     },
     "metadata": {},
     "output_type": "display_data"
    },
    {
     "data": {
      "application/vnd.jupyter.widget-view+json": {
       "model_id": "e5eb431112c843368ea2b964bb23d100",
       "version_major": 2,
       "version_minor": 0
      },
      "text/plain": [
       "Training episodes:   0%|          | 0/3 [00:00<?, ?it/s]"
      ]
     },
     "metadata": {},
     "output_type": "display_data"
    },
    {
     "data": {
      "application/vnd.jupyter.widget-view+json": {
       "model_id": "84a186a13e134f9eab9e2cbeeb7e5c0c",
       "version_major": 2,
       "version_minor": 0
      },
      "text/plain": [
       "Training episodes:   0%|          | 0/3 [00:00<?, ?it/s]"
      ]
     },
     "metadata": {},
     "output_type": "display_data"
    },
    {
     "data": {
      "application/vnd.jupyter.widget-view+json": {
       "model_id": "3124f78ba4704981bdf404d48d308929",
       "version_major": 2,
       "version_minor": 0
      },
      "text/plain": [
       "Training episodes:   0%|          | 0/3 [00:00<?, ?it/s]"
      ]
     },
     "metadata": {},
     "output_type": "display_data"
    },
    {
     "data": {
      "application/vnd.jupyter.widget-view+json": {
       "model_id": "ffb62b77c97c4b82bf29bf11baded383",
       "version_major": 2,
       "version_minor": 0
      },
      "text/plain": [
       "Training episodes:   0%|          | 0/3 [00:00<?, ?it/s]"
      ]
     },
     "metadata": {},
     "output_type": "display_data"
    },
    {
     "data": {
      "application/vnd.jupyter.widget-view+json": {
       "model_id": "98f79f87563d4f9296c34b4e5cf28fb8",
       "version_major": 2,
       "version_minor": 0
      },
      "text/plain": [
       "Training episodes:   0%|          | 0/3 [00:00<?, ?it/s]"
      ]
     },
     "metadata": {},
     "output_type": "display_data"
    },
    {
     "data": {
      "application/vnd.jupyter.widget-view+json": {
       "model_id": "2027c3f404204941a869ab5dc668deb8",
       "version_major": 2,
       "version_minor": 0
      },
      "text/plain": [
       "Training episodes:   0%|          | 0/3 [00:00<?, ?it/s]"
      ]
     },
     "metadata": {},
     "output_type": "display_data"
    },
    {
     "data": {
      "application/vnd.jupyter.widget-view+json": {
       "model_id": "e4a30b689af84ffaa7db68a906c460cd",
       "version_major": 2,
       "version_minor": 0
      },
      "text/plain": [
       "Training episodes:   0%|          | 0/3 [00:00<?, ?it/s]"
      ]
     },
     "metadata": {},
     "output_type": "display_data"
    },
    {
     "data": {
      "application/vnd.jupyter.widget-view+json": {
       "model_id": "a19ec243858a4b96b6e67103b6b0703e",
       "version_major": 2,
       "version_minor": 0
      },
      "text/plain": [
       "Training episodes:   0%|          | 0/3 [00:00<?, ?it/s]"
      ]
     },
     "metadata": {},
     "output_type": "display_data"
    },
    {
     "data": {
      "application/vnd.jupyter.widget-view+json": {
       "model_id": "cd0e0fda1bc64323aede0a59e1bb8b6b",
       "version_major": 2,
       "version_minor": 0
      },
      "text/plain": [
       "Training episodes:   0%|          | 0/3 [00:00<?, ?it/s]"
      ]
     },
     "metadata": {},
     "output_type": "display_data"
    },
    {
     "data": {
      "application/vnd.jupyter.widget-view+json": {
       "model_id": "9c7151ea71b34b608e75d8bba61f1fb9",
       "version_major": 2,
       "version_minor": 0
      },
      "text/plain": [
       "Training episodes:   0%|          | 0/3 [00:00<?, ?it/s]"
      ]
     },
     "metadata": {},
     "output_type": "display_data"
    },
    {
     "data": {
      "application/vnd.jupyter.widget-view+json": {
       "model_id": "f9f35a35e8234cada8d96c6607ef4f11",
       "version_major": 2,
       "version_minor": 0
      },
      "text/plain": [
       "Training episodes:   0%|          | 0/3 [00:00<?, ?it/s]"
      ]
     },
     "metadata": {},
     "output_type": "display_data"
    },
    {
     "data": {
      "application/vnd.jupyter.widget-view+json": {
       "model_id": "f5dbfda3f04445cc99421c8e4529113c",
       "version_major": 2,
       "version_minor": 0
      },
      "text/plain": [
       "Training episodes:   0%|          | 0/3 [00:00<?, ?it/s]"
      ]
     },
     "metadata": {},
     "output_type": "display_data"
    },
    {
     "data": {
      "application/vnd.jupyter.widget-view+json": {
       "model_id": "f21748d2358c46a599719a7d8f107e9f",
       "version_major": 2,
       "version_minor": 0
      },
      "text/plain": [
       "Training episodes:   0%|          | 0/3 [00:00<?, ?it/s]"
      ]
     },
     "metadata": {},
     "output_type": "display_data"
    },
    {
     "data": {
      "application/vnd.jupyter.widget-view+json": {
       "model_id": "4f8579be575748cf9409e3b57b478f7a",
       "version_major": 2,
       "version_minor": 0
      },
      "text/plain": [
       "Training episodes:   0%|          | 0/3 [00:00<?, ?it/s]"
      ]
     },
     "metadata": {},
     "output_type": "display_data"
    },
    {
     "data": {
      "application/vnd.jupyter.widget-view+json": {
       "model_id": "38841a2abc3943e5a754c3947323f435",
       "version_major": 2,
       "version_minor": 0
      },
      "text/plain": [
       "Training episodes:   0%|          | 0/3 [00:00<?, ?it/s]"
      ]
     },
     "metadata": {},
     "output_type": "display_data"
    },
    {
     "data": {
      "application/vnd.jupyter.widget-view+json": {
       "model_id": "56784d8dc05d4a288382daf23df2b6cd",
       "version_major": 2,
       "version_minor": 0
      },
      "text/plain": [
       "Training episodes:   0%|          | 0/3 [00:00<?, ?it/s]"
      ]
     },
     "metadata": {},
     "output_type": "display_data"
    },
    {
     "data": {
      "application/vnd.jupyter.widget-view+json": {
       "model_id": "4e778edad5d6467b877a37b8af0001f4",
       "version_major": 2,
       "version_minor": 0
      },
      "text/plain": [
       "Training episodes:   0%|          | 0/3 [00:00<?, ?it/s]"
      ]
     },
     "metadata": {},
     "output_type": "display_data"
    },
    {
     "data": {
      "application/vnd.jupyter.widget-view+json": {
       "model_id": "835752779207464eb164b001386e99c2",
       "version_major": 2,
       "version_minor": 0
      },
      "text/plain": [
       "Training episodes:   0%|          | 0/3 [00:00<?, ?it/s]"
      ]
     },
     "metadata": {},
     "output_type": "display_data"
    },
    {
     "data": {
      "application/vnd.jupyter.widget-view+json": {
       "model_id": "5c2f475e79dd4aac962fc6600ee74172",
       "version_major": 2,
       "version_minor": 0
      },
      "text/plain": [
       "Training episodes:   0%|          | 0/3 [00:00<?, ?it/s]"
      ]
     },
     "metadata": {},
     "output_type": "display_data"
    },
    {
     "data": {
      "application/vnd.jupyter.widget-view+json": {
       "model_id": "955fc69fa50e423c929fecf6c1ccb0cb",
       "version_major": 2,
       "version_minor": 0
      },
      "text/plain": [
       "Training episodes:   0%|          | 0/3 [00:00<?, ?it/s]"
      ]
     },
     "metadata": {},
     "output_type": "display_data"
    },
    {
     "data": {
      "application/vnd.jupyter.widget-view+json": {
       "model_id": "8ddda1a4856742b2a9b7c31495cf16ab",
       "version_major": 2,
       "version_minor": 0
      },
      "text/plain": [
       "Training episodes:   0%|          | 0/3 [00:00<?, ?it/s]"
      ]
     },
     "metadata": {},
     "output_type": "display_data"
    },
    {
     "data": {
      "application/vnd.jupyter.widget-view+json": {
       "model_id": "29eb78485eda4aa29c06f28c698090db",
       "version_major": 2,
       "version_minor": 0
      },
      "text/plain": [
       "Training episodes:   0%|          | 0/3 [00:00<?, ?it/s]"
      ]
     },
     "metadata": {},
     "output_type": "display_data"
    },
    {
     "data": {
      "application/vnd.jupyter.widget-view+json": {
       "model_id": "ed1d9321effa4bbf82c971258cbc8605",
       "version_major": 2,
       "version_minor": 0
      },
      "text/plain": [
       "Training episodes:   0%|          | 0/3 [00:00<?, ?it/s]"
      ]
     },
     "metadata": {},
     "output_type": "display_data"
    },
    {
     "data": {
      "application/vnd.jupyter.widget-view+json": {
       "model_id": "731c962a57b04934ab9b705c3094f6e4",
       "version_major": 2,
       "version_minor": 0
      },
      "text/plain": [
       "Training episodes:   0%|          | 0/3 [00:00<?, ?it/s]"
      ]
     },
     "metadata": {},
     "output_type": "display_data"
    },
    {
     "data": {
      "application/vnd.jupyter.widget-view+json": {
       "model_id": "39ccb7c1ed504d9eb290998ec2186cc3",
       "version_major": 2,
       "version_minor": 0
      },
      "text/plain": [
       "Training episodes:   0%|          | 0/3 [00:00<?, ?it/s]"
      ]
     },
     "metadata": {},
     "output_type": "display_data"
    },
    {
     "data": {
      "application/vnd.jupyter.widget-view+json": {
       "model_id": "5f9e99d7a04648e19b2af1b900f1f131",
       "version_major": 2,
       "version_minor": 0
      },
      "text/plain": [
       "Training episodes:   0%|          | 0/3 [00:00<?, ?it/s]"
      ]
     },
     "metadata": {},
     "output_type": "display_data"
    },
    {
     "data": {
      "application/vnd.jupyter.widget-view+json": {
       "model_id": "44289a65b55346fbbf3808d7bc6e0f32",
       "version_major": 2,
       "version_minor": 0
      },
      "text/plain": [
       "Training episodes:   0%|          | 0/3 [00:00<?, ?it/s]"
      ]
     },
     "metadata": {},
     "output_type": "display_data"
    },
    {
     "data": {
      "application/vnd.jupyter.widget-view+json": {
       "model_id": "a7b3bf4ef9964716bf5877627a2e86c0",
       "version_major": 2,
       "version_minor": 0
      },
      "text/plain": [
       "Training episodes:   0%|          | 0/3 [00:00<?, ?it/s]"
      ]
     },
     "metadata": {},
     "output_type": "display_data"
    },
    {
     "data": {
      "application/vnd.jupyter.widget-view+json": {
       "model_id": "b3f7bc02b7134f5f974553eaa1f6beef",
       "version_major": 2,
       "version_minor": 0
      },
      "text/plain": [
       "Training episodes:   0%|          | 0/3 [00:00<?, ?it/s]"
      ]
     },
     "metadata": {},
     "output_type": "display_data"
    },
    {
     "data": {
      "application/vnd.jupyter.widget-view+json": {
       "model_id": "7ad9fecae91546288f37d96fe9904534",
       "version_major": 2,
       "version_minor": 0
      },
      "text/plain": [
       "Training episodes:   0%|          | 0/3 [00:00<?, ?it/s]"
      ]
     },
     "metadata": {},
     "output_type": "display_data"
    },
    {
     "data": {
      "application/vnd.jupyter.widget-view+json": {
       "model_id": "ec65bf5bf8de4ff6b32434ce7408a26d",
       "version_major": 2,
       "version_minor": 0
      },
      "text/plain": [
       "Training episodes:   0%|          | 0/3 [00:00<?, ?it/s]"
      ]
     },
     "metadata": {},
     "output_type": "display_data"
    },
    {
     "data": {
      "application/vnd.jupyter.widget-view+json": {
       "model_id": "d68b54c2c5a24f66a52e53d932f7ce99",
       "version_major": 2,
       "version_minor": 0
      },
      "text/plain": [
       "Training episodes:   0%|          | 0/3 [00:00<?, ?it/s]"
      ]
     },
     "metadata": {},
     "output_type": "display_data"
    },
    {
     "data": {
      "application/vnd.jupyter.widget-view+json": {
       "model_id": "64fab971c3c44194b1cdd7c38844b766",
       "version_major": 2,
       "version_minor": 0
      },
      "text/plain": [
       "Training episodes:   0%|          | 0/3 [00:00<?, ?it/s]"
      ]
     },
     "metadata": {},
     "output_type": "display_data"
    },
    {
     "data": {
      "application/vnd.jupyter.widget-view+json": {
       "model_id": "fc277844b0c1470eb9cbe329cce49ba6",
       "version_major": 2,
       "version_minor": 0
      },
      "text/plain": [
       "Training episodes:   0%|          | 0/3 [00:00<?, ?it/s]"
      ]
     },
     "metadata": {},
     "output_type": "display_data"
    },
    {
     "data": {
      "application/vnd.jupyter.widget-view+json": {
       "model_id": "a5a12164761a458892929529e1f58a7a",
       "version_major": 2,
       "version_minor": 0
      },
      "text/plain": [
       "Training episodes:   0%|          | 0/3 [00:00<?, ?it/s]"
      ]
     },
     "metadata": {},
     "output_type": "display_data"
    },
    {
     "data": {
      "application/vnd.jupyter.widget-view+json": {
       "model_id": "6003ba9685c84d00b7a18d2e37f5c890",
       "version_major": 2,
       "version_minor": 0
      },
      "text/plain": [
       "Training episodes:   0%|          | 0/3 [00:00<?, ?it/s]"
      ]
     },
     "metadata": {},
     "output_type": "display_data"
    },
    {
     "data": {
      "application/vnd.jupyter.widget-view+json": {
       "model_id": "8a314a0bdaa9458593d851456a0ab493",
       "version_major": 2,
       "version_minor": 0
      },
      "text/plain": [
       "Training episodes:   0%|          | 0/3 [00:00<?, ?it/s]"
      ]
     },
     "metadata": {},
     "output_type": "display_data"
    },
    {
     "data": {
      "application/vnd.jupyter.widget-view+json": {
       "model_id": "0c1ff38c69c742878185b3c326b2369c",
       "version_major": 2,
       "version_minor": 0
      },
      "text/plain": [
       "Training episodes:   0%|          | 0/3 [00:00<?, ?it/s]"
      ]
     },
     "metadata": {},
     "output_type": "display_data"
    },
    {
     "data": {
      "application/vnd.jupyter.widget-view+json": {
       "model_id": "40e8894e636e462883d676e44b7817ce",
       "version_major": 2,
       "version_minor": 0
      },
      "text/plain": [
       "Training episodes:   0%|          | 0/3 [00:00<?, ?it/s]"
      ]
     },
     "metadata": {},
     "output_type": "display_data"
    },
    {
     "data": {
      "application/vnd.jupyter.widget-view+json": {
       "model_id": "5ac298c806d04ad2969254bce97ccdb4",
       "version_major": 2,
       "version_minor": 0
      },
      "text/plain": [
       "Training episodes:   0%|          | 0/3 [00:00<?, ?it/s]"
      ]
     },
     "metadata": {},
     "output_type": "display_data"
    },
    {
     "data": {
      "application/vnd.jupyter.widget-view+json": {
       "model_id": "d69f7a47211e42ab937e4bd44c1a2185",
       "version_major": 2,
       "version_minor": 0
      },
      "text/plain": [
       "Training episodes:   0%|          | 0/3 [00:00<?, ?it/s]"
      ]
     },
     "metadata": {},
     "output_type": "display_data"
    },
    {
     "data": {
      "application/vnd.jupyter.widget-view+json": {
       "model_id": "260ff03e03084d4fbf6932168d5d0124",
       "version_major": 2,
       "version_minor": 0
      },
      "text/plain": [
       "Training episodes:   0%|          | 0/3 [00:00<?, ?it/s]"
      ]
     },
     "metadata": {},
     "output_type": "display_data"
    },
    {
     "data": {
      "application/vnd.jupyter.widget-view+json": {
       "model_id": "f13a8c931c64480b96f5556e671304c0",
       "version_major": 2,
       "version_minor": 0
      },
      "text/plain": [
       "Training episodes:   0%|          | 0/3 [00:00<?, ?it/s]"
      ]
     },
     "metadata": {},
     "output_type": "display_data"
    },
    {
     "data": {
      "application/vnd.jupyter.widget-view+json": {
       "model_id": "4c41f58649b840ef9d14c8f5214c8242",
       "version_major": 2,
       "version_minor": 0
      },
      "text/plain": [
       "Training episodes:   0%|          | 0/3 [00:00<?, ?it/s]"
      ]
     },
     "metadata": {},
     "output_type": "display_data"
    },
    {
     "data": {
      "application/vnd.jupyter.widget-view+json": {
       "model_id": "6f83ec77140241389d9427874a05563c",
       "version_major": 2,
       "version_minor": 0
      },
      "text/plain": [
       "Training episodes:   0%|          | 0/3 [00:00<?, ?it/s]"
      ]
     },
     "metadata": {},
     "output_type": "display_data"
    },
    {
     "data": {
      "application/vnd.jupyter.widget-view+json": {
       "model_id": "fab428daf0a0470f879196124a2bf689",
       "version_major": 2,
       "version_minor": 0
      },
      "text/plain": [
       "Training episodes:   0%|          | 0/3 [00:00<?, ?it/s]"
      ]
     },
     "metadata": {},
     "output_type": "display_data"
    },
    {
     "data": {
      "application/vnd.jupyter.widget-view+json": {
       "model_id": "d073bf65f7ec45b99ae04efcfcde505e",
       "version_major": 2,
       "version_minor": 0
      },
      "text/plain": [
       "Training episodes:   0%|          | 0/3 [00:00<?, ?it/s]"
      ]
     },
     "metadata": {},
     "output_type": "display_data"
    },
    {
     "data": {
      "application/vnd.jupyter.widget-view+json": {
       "model_id": "a7906b4c70aa457dbf031a5e73ebafc3",
       "version_major": 2,
       "version_minor": 0
      },
      "text/plain": [
       "Training episodes:   0%|          | 0/3 [00:00<?, ?it/s]"
      ]
     },
     "metadata": {},
     "output_type": "display_data"
    },
    {
     "data": {
      "application/vnd.jupyter.widget-view+json": {
       "model_id": "58e332a655d043408d58ce5d2fc3339b",
       "version_major": 2,
       "version_minor": 0
      },
      "text/plain": [
       "Training episodes:   0%|          | 0/3 [00:00<?, ?it/s]"
      ]
     },
     "metadata": {},
     "output_type": "display_data"
    },
    {
     "data": {
      "application/vnd.jupyter.widget-view+json": {
       "model_id": "ab1faefbd95c47e8806a76341bcc6120",
       "version_major": 2,
       "version_minor": 0
      },
      "text/plain": [
       "Training episodes:   0%|          | 0/3 [00:00<?, ?it/s]"
      ]
     },
     "metadata": {},
     "output_type": "display_data"
    },
    {
     "data": {
      "application/vnd.jupyter.widget-view+json": {
       "model_id": "68da9729bff640f6aded5df8717d82ae",
       "version_major": 2,
       "version_minor": 0
      },
      "text/plain": [
       "Training episodes:   0%|          | 0/3 [00:00<?, ?it/s]"
      ]
     },
     "metadata": {},
     "output_type": "display_data"
    },
    {
     "data": {
      "application/vnd.jupyter.widget-view+json": {
       "model_id": "a62d7bf0ce1c4e60ab3bca5b9a763720",
       "version_major": 2,
       "version_minor": 0
      },
      "text/plain": [
       "Training episodes:   0%|          | 0/3 [00:00<?, ?it/s]"
      ]
     },
     "metadata": {},
     "output_type": "display_data"
    },
    {
     "data": {
      "application/vnd.jupyter.widget-view+json": {
       "model_id": "a8c4732c56be4c3c905f717ea704cb9e",
       "version_major": 2,
       "version_minor": 0
      },
      "text/plain": [
       "Training episodes:   0%|          | 0/3 [00:00<?, ?it/s]"
      ]
     },
     "metadata": {},
     "output_type": "display_data"
    },
    {
     "data": {
      "application/vnd.jupyter.widget-view+json": {
       "model_id": "b0ae4bf4ec92445aa778a9b513c96869",
       "version_major": 2,
       "version_minor": 0
      },
      "text/plain": [
       "Training episodes:   0%|          | 0/3 [00:00<?, ?it/s]"
      ]
     },
     "metadata": {},
     "output_type": "display_data"
    },
    {
     "data": {
      "application/vnd.jupyter.widget-view+json": {
       "model_id": "e4e1281c7c534eaf84b371ba1867badc",
       "version_major": 2,
       "version_minor": 0
      },
      "text/plain": [
       "Training episodes:   0%|          | 0/3 [00:00<?, ?it/s]"
      ]
     },
     "metadata": {},
     "output_type": "display_data"
    },
    {
     "data": {
      "application/vnd.jupyter.widget-view+json": {
       "model_id": "c5a92171c3ed4ebb9db118474747ffcb",
       "version_major": 2,
       "version_minor": 0
      },
      "text/plain": [
       "Training episodes:   0%|          | 0/3 [00:00<?, ?it/s]"
      ]
     },
     "metadata": {},
     "output_type": "display_data"
    },
    {
     "data": {
      "application/vnd.jupyter.widget-view+json": {
       "model_id": "c7db40d56d4f456ab561aea8de70b84c",
       "version_major": 2,
       "version_minor": 0
      },
      "text/plain": [
       "Training episodes:   0%|          | 0/3 [00:00<?, ?it/s]"
      ]
     },
     "metadata": {},
     "output_type": "display_data"
    },
    {
     "data": {
      "application/vnd.jupyter.widget-view+json": {
       "model_id": "80c62e6b0ef84aaba71a1c245ef72bfe",
       "version_major": 2,
       "version_minor": 0
      },
      "text/plain": [
       "Training episodes:   0%|          | 0/3 [00:00<?, ?it/s]"
      ]
     },
     "metadata": {},
     "output_type": "display_data"
    },
    {
     "data": {
      "application/vnd.jupyter.widget-view+json": {
       "model_id": "62b12ba85ab4429e8532fa5b1adfd8aa",
       "version_major": 2,
       "version_minor": 0
      },
      "text/plain": [
       "Training episodes:   0%|          | 0/3 [00:00<?, ?it/s]"
      ]
     },
     "metadata": {},
     "output_type": "display_data"
    },
    {
     "data": {
      "application/vnd.jupyter.widget-view+json": {
       "model_id": "ffb9c44d7b854e5088648d5226484892",
       "version_major": 2,
       "version_minor": 0
      },
      "text/plain": [
       "Training episodes:   0%|          | 0/3 [00:00<?, ?it/s]"
      ]
     },
     "metadata": {},
     "output_type": "display_data"
    },
    {
     "data": {
      "application/vnd.jupyter.widget-view+json": {
       "model_id": "0b587f27c7c54d6989e41d432ba62868",
       "version_major": 2,
       "version_minor": 0
      },
      "text/plain": [
       "Training episodes:   0%|          | 0/3 [00:00<?, ?it/s]"
      ]
     },
     "metadata": {},
     "output_type": "display_data"
    },
    {
     "data": {
      "application/vnd.jupyter.widget-view+json": {
       "model_id": "73671b65a8174d0c8dfd24f56c400d84",
       "version_major": 2,
       "version_minor": 0
      },
      "text/plain": [
       "Training episodes:   0%|          | 0/3 [00:00<?, ?it/s]"
      ]
     },
     "metadata": {},
     "output_type": "display_data"
    },
    {
     "data": {
      "application/vnd.jupyter.widget-view+json": {
       "model_id": "9e2f0fedb2d3470cbc2402a41b3de78d",
       "version_major": 2,
       "version_minor": 0
      },
      "text/plain": [
       "Training episodes:   0%|          | 0/3 [00:00<?, ?it/s]"
      ]
     },
     "metadata": {},
     "output_type": "display_data"
    },
    {
     "data": {
      "application/vnd.jupyter.widget-view+json": {
       "model_id": "0723d659fa934ba2bf2f7cd6b862d15e",
       "version_major": 2,
       "version_minor": 0
      },
      "text/plain": [
       "Training episodes:   0%|          | 0/3 [00:00<?, ?it/s]"
      ]
     },
     "metadata": {},
     "output_type": "display_data"
    },
    {
     "data": {
      "application/vnd.jupyter.widget-view+json": {
       "model_id": "8fc6dee2ed104a0dafc3058f887d933e",
       "version_major": 2,
       "version_minor": 0
      },
      "text/plain": [
       "Training episodes:   0%|          | 0/3 [00:00<?, ?it/s]"
      ]
     },
     "metadata": {},
     "output_type": "display_data"
    },
    {
     "data": {
      "application/vnd.jupyter.widget-view+json": {
       "model_id": "feb6a9740940422ab93894ad9387da66",
       "version_major": 2,
       "version_minor": 0
      },
      "text/plain": [
       "Training episodes:   0%|          | 0/3 [00:00<?, ?it/s]"
      ]
     },
     "metadata": {},
     "output_type": "display_data"
    },
    {
     "data": {
      "application/vnd.jupyter.widget-view+json": {
       "model_id": "c6a0df4c35314b21bb5b2ab3745a556e",
       "version_major": 2,
       "version_minor": 0
      },
      "text/plain": [
       "Training episodes:   0%|          | 0/3 [00:00<?, ?it/s]"
      ]
     },
     "metadata": {},
     "output_type": "display_data"
    },
    {
     "data": {
      "application/vnd.jupyter.widget-view+json": {
       "model_id": "bc49f3d15d3c46829a457c5cf9645308",
       "version_major": 2,
       "version_minor": 0
      },
      "text/plain": [
       "seeds:   0%|          | 0/30 [00:00<?, ?it/s]"
      ]
     },
     "metadata": {},
     "output_type": "display_data"
    },
    {
     "data": {
      "application/vnd.jupyter.widget-view+json": {
       "model_id": "b465ae6a07f64fc4bb2bb9247323c69b",
       "version_major": 2,
       "version_minor": 0
      },
      "text/plain": [
       "Training episodes:   0%|          | 0/3 [00:00<?, ?it/s]"
      ]
     },
     "metadata": {},
     "output_type": "display_data"
    },
    {
     "data": {
      "application/vnd.jupyter.widget-view+json": {
       "model_id": "80756b3ee5654cf1969ad1a0c52cbfbe",
       "version_major": 2,
       "version_minor": 0
      },
      "text/plain": [
       "Training episodes:   0%|          | 0/3 [00:00<?, ?it/s]"
      ]
     },
     "metadata": {},
     "output_type": "display_data"
    },
    {
     "data": {
      "application/vnd.jupyter.widget-view+json": {
       "model_id": "b9dc0ce53aaa40ae9b31f2fc737f152a",
       "version_major": 2,
       "version_minor": 0
      },
      "text/plain": [
       "Training episodes:   0%|          | 0/3 [00:00<?, ?it/s]"
      ]
     },
     "metadata": {},
     "output_type": "display_data"
    },
    {
     "data": {
      "application/vnd.jupyter.widget-view+json": {
       "model_id": "4c535f6720c24bb6b2f0c6f9f63e52f3",
       "version_major": 2,
       "version_minor": 0
      },
      "text/plain": [
       "Training episodes:   0%|          | 0/3 [00:00<?, ?it/s]"
      ]
     },
     "metadata": {},
     "output_type": "display_data"
    },
    {
     "data": {
      "application/vnd.jupyter.widget-view+json": {
       "model_id": "a42489054b794d4bbdb95398bb63d35f",
       "version_major": 2,
       "version_minor": 0
      },
      "text/plain": [
       "Training episodes:   0%|          | 0/3 [00:00<?, ?it/s]"
      ]
     },
     "metadata": {},
     "output_type": "display_data"
    },
    {
     "data": {
      "application/vnd.jupyter.widget-view+json": {
       "model_id": "b33c8f3cc3ae4aa6aad70811d7a0792a",
       "version_major": 2,
       "version_minor": 0
      },
      "text/plain": [
       "Training episodes:   0%|          | 0/3 [00:00<?, ?it/s]"
      ]
     },
     "metadata": {},
     "output_type": "display_data"
    },
    {
     "data": {
      "application/vnd.jupyter.widget-view+json": {
       "model_id": "e949a8ce9065448fb1b3fab52aa047bb",
       "version_major": 2,
       "version_minor": 0
      },
      "text/plain": [
       "seeds:   0%|          | 0/30 [00:00<?, ?it/s]"
      ]
     },
     "metadata": {},
     "output_type": "display_data"
    },
    {
     "data": {
      "application/vnd.jupyter.widget-view+json": {
       "model_id": "8369a41bef3a46d7aa5dc6fcbc1f7b35",
       "version_major": 2,
       "version_minor": 0
      },
      "text/plain": [
       "Training episodes:   0%|          | 0/3 [00:00<?, ?it/s]"
      ]
     },
     "metadata": {},
     "output_type": "display_data"
    },
    {
     "data": {
      "application/vnd.jupyter.widget-view+json": {
       "model_id": "cb6d3aefafe545598d92db859964b8da",
       "version_major": 2,
       "version_minor": 0
      },
      "text/plain": [
       "Training episodes:   0%|          | 0/3 [00:00<?, ?it/s]"
      ]
     },
     "metadata": {},
     "output_type": "display_data"
    },
    {
     "data": {
      "application/vnd.jupyter.widget-view+json": {
       "model_id": "c3350a3498e64b18bf6e308cc15f967e",
       "version_major": 2,
       "version_minor": 0
      },
      "text/plain": [
       "Training episodes:   0%|          | 0/3 [00:00<?, ?it/s]"
      ]
     },
     "metadata": {},
     "output_type": "display_data"
    },
    {
     "data": {
      "application/vnd.jupyter.widget-view+json": {
       "model_id": "0bb7b62bc68147b69fb6f2613f243b63",
       "version_major": 2,
       "version_minor": 0
      },
      "text/plain": [
       "Training episodes:   0%|          | 0/3 [00:00<?, ?it/s]"
      ]
     },
     "metadata": {},
     "output_type": "display_data"
    },
    {
     "data": {
      "application/vnd.jupyter.widget-view+json": {
       "model_id": "dc4f4b55b0cb47399a8d3d9faf322959",
       "version_major": 2,
       "version_minor": 0
      },
      "text/plain": [
       "Training episodes:   0%|          | 0/3 [00:00<?, ?it/s]"
      ]
     },
     "metadata": {},
     "output_type": "display_data"
    },
    {
     "name": "stdout",
     "output_type": "stream",
     "text": [
      "[I 2025-03-04 03:22:18,121] Trial 6 finished with value: -172.14040192639015 and parameters: {'learning_rate': 2.156591944927807e-05, 'n_steps': 311, 'batch_size': 170, 'gae_lambda': 0.9717942135775777, 'ent_coef': 0.00562915958158533, 'vf_coef': 0.5437199380463767, 'clip_range': 0.22798784087870153, 'max_grad_norm': 0.43910598424665215}. Best is trial 6 with value: -172.14040192639015.\n"
     ]
    },
    {
     "data": {
      "application/vnd.jupyter.widget-view+json": {
       "model_id": "44248710259b41088d8fa5e09f5581eb",
       "version_major": 2,
       "version_minor": 0
      },
      "text/plain": [
       "seeds:   0%|          | 0/30 [00:00<?, ?it/s]"
      ]
     },
     "metadata": {},
     "output_type": "display_data"
    },
    {
     "data": {
      "application/vnd.jupyter.widget-view+json": {
       "model_id": "6cd72437499c448897ce680683af8a39",
       "version_major": 2,
       "version_minor": 0
      },
      "text/plain": [
       "Training episodes:   0%|          | 0/3 [00:00<?, ?it/s]"
      ]
     },
     "metadata": {},
     "output_type": "display_data"
    },
    {
     "data": {
      "application/vnd.jupyter.widget-view+json": {
       "model_id": "f7476244022b46018f6130c57a5a52e7",
       "version_major": 2,
       "version_minor": 0
      },
      "text/plain": [
       "Training episodes:   0%|          | 0/3 [00:00<?, ?it/s]"
      ]
     },
     "metadata": {},
     "output_type": "display_data"
    },
    {
     "data": {
      "application/vnd.jupyter.widget-view+json": {
       "model_id": "22e9f99bf36d491d953e608a45571b3a",
       "version_major": 2,
       "version_minor": 0
      },
      "text/plain": [
       "Training episodes:   0%|          | 0/3 [00:00<?, ?it/s]"
      ]
     },
     "metadata": {},
     "output_type": "display_data"
    },
    {
     "data": {
      "application/vnd.jupyter.widget-view+json": {
       "model_id": "7e9dbbe39eda4ef5bc862d027088263c",
       "version_major": 2,
       "version_minor": 0
      },
      "text/plain": [
       "Training episodes:   0%|          | 0/3 [00:00<?, ?it/s]"
      ]
     },
     "metadata": {},
     "output_type": "display_data"
    },
    {
     "data": {
      "application/vnd.jupyter.widget-view+json": {
       "model_id": "b61b8f9b7b6040adbfe1b23daca5179d",
       "version_major": 2,
       "version_minor": 0
      },
      "text/plain": [
       "Training episodes:   0%|          | 0/3 [00:00<?, ?it/s]"
      ]
     },
     "metadata": {},
     "output_type": "display_data"
    },
    {
     "data": {
      "application/vnd.jupyter.widget-view+json": {
       "model_id": "56b14dbb2b8e4395b812b39da50ccb31",
       "version_major": 2,
       "version_minor": 0
      },
      "text/plain": [
       "Training episodes:   0%|          | 0/3 [00:00<?, ?it/s]"
      ]
     },
     "metadata": {},
     "output_type": "display_data"
    },
    {
     "name": "stdout",
     "output_type": "stream",
     "text": [
      "[I 2025-03-04 03:30:54,222] Trial 4 finished with value: 1904.0271516585292 and parameters: {'learning_rate': 0.00020661972370519664, 'n_steps': 575, 'batch_size': 231, 'gae_lambda': 0.9514806516892822, 'ent_coef': 0.005421411454956131, 'vf_coef': 0.2579467377236896, 'clip_range': 0.1495891117730842, 'max_grad_norm': 0.9281860007318072}. Best is trial 4 with value: 1904.0271516585292.\n"
     ]
    },
    {
     "data": {
      "application/vnd.jupyter.widget-view+json": {
       "model_id": "e2ec670dd1b04ed7a1b0c4a6244d324e",
       "version_major": 2,
       "version_minor": 0
      },
      "text/plain": [
       "seeds:   0%|          | 0/30 [00:00<?, ?it/s]"
      ]
     },
     "metadata": {},
     "output_type": "display_data"
    },
    {
     "data": {
      "application/vnd.jupyter.widget-view+json": {
       "model_id": "24cf5da345194a2e8a371029716774da",
       "version_major": 2,
       "version_minor": 0
      },
      "text/plain": [
       "Training episodes:   0%|          | 0/3 [00:00<?, ?it/s]"
      ]
     },
     "metadata": {},
     "output_type": "display_data"
    },
    {
     "data": {
      "application/vnd.jupyter.widget-view+json": {
       "model_id": "90550dd90073430ab11d8987fc217fd1",
       "version_major": 2,
       "version_minor": 0
      },
      "text/plain": [
       "Training episodes:   0%|          | 0/3 [00:00<?, ?it/s]"
      ]
     },
     "metadata": {},
     "output_type": "display_data"
    },
    {
     "data": {
      "application/vnd.jupyter.widget-view+json": {
       "model_id": "09907d08bc80455b8818455c8b7f58df",
       "version_major": 2,
       "version_minor": 0
      },
      "text/plain": [
       "Training episodes:   0%|          | 0/3 [00:00<?, ?it/s]"
      ]
     },
     "metadata": {},
     "output_type": "display_data"
    },
    {
     "data": {
      "application/vnd.jupyter.widget-view+json": {
       "model_id": "e1e82d7d369e41ceb3e4706c2d3e1085",
       "version_major": 2,
       "version_minor": 0
      },
      "text/plain": [
       "Training episodes:   0%|          | 0/3 [00:00<?, ?it/s]"
      ]
     },
     "metadata": {},
     "output_type": "display_data"
    },
    {
     "data": {
      "application/vnd.jupyter.widget-view+json": {
       "model_id": "99451e706d664038ba9fd2ad86bc03ac",
       "version_major": 2,
       "version_minor": 0
      },
      "text/plain": [
       "Training episodes:   0%|          | 0/3 [00:00<?, ?it/s]"
      ]
     },
     "metadata": {},
     "output_type": "display_data"
    },
    {
     "data": {
      "application/vnd.jupyter.widget-view+json": {
       "model_id": "f476672f59344cd7bd95e745e59f69f3",
       "version_major": 2,
       "version_minor": 0
      },
      "text/plain": [
       "seeds:   0%|          | 0/30 [00:00<?, ?it/s]"
      ]
     },
     "metadata": {},
     "output_type": "display_data"
    },
    {
     "data": {
      "application/vnd.jupyter.widget-view+json": {
       "model_id": "f7493e1022854a51b5cac1e60ba1cdd2",
       "version_major": 2,
       "version_minor": 0
      },
      "text/plain": [
       "Training episodes:   0%|          | 0/3 [00:00<?, ?it/s]"
      ]
     },
     "metadata": {},
     "output_type": "display_data"
    },
    {
     "data": {
      "application/vnd.jupyter.widget-view+json": {
       "model_id": "3bf73df461cf4b8b8c412e9f9d4f0663",
       "version_major": 2,
       "version_minor": 0
      },
      "text/plain": [
       "Training episodes:   0%|          | 0/3 [00:00<?, ?it/s]"
      ]
     },
     "metadata": {},
     "output_type": "display_data"
    },
    {
     "data": {
      "application/vnd.jupyter.widget-view+json": {
       "model_id": "aa43f106d74d4d4c913a1b7c5d8ba046",
       "version_major": 2,
       "version_minor": 0
      },
      "text/plain": [
       "Training episodes:   0%|          | 0/3 [00:00<?, ?it/s]"
      ]
     },
     "metadata": {},
     "output_type": "display_data"
    },
    {
     "data": {
      "application/vnd.jupyter.widget-view+json": {
       "model_id": "2c28d8aaf3434125b642fe2ebc535463",
       "version_major": 2,
       "version_minor": 0
      },
      "text/plain": [
       "Training episodes:   0%|          | 0/3 [00:00<?, ?it/s]"
      ]
     },
     "metadata": {},
     "output_type": "display_data"
    },
    {
     "data": {
      "application/vnd.jupyter.widget-view+json": {
       "model_id": "6feba999b8564277b484c8b0bcdb3c71",
       "version_major": 2,
       "version_minor": 0
      },
      "text/plain": [
       "Training episodes:   0%|          | 0/3 [00:00<?, ?it/s]"
      ]
     },
     "metadata": {},
     "output_type": "display_data"
    },
    {
     "data": {
      "application/vnd.jupyter.widget-view+json": {
       "model_id": "95b3f892fe6849b997cbfd33d8573547",
       "version_major": 2,
       "version_minor": 0
      },
      "text/plain": [
       "Training episodes:   0%|          | 0/3 [00:00<?, ?it/s]"
      ]
     },
     "metadata": {},
     "output_type": "display_data"
    },
    {
     "data": {
      "application/vnd.jupyter.widget-view+json": {
       "model_id": "4b93913b09ee420a8e7d1ad3123798a7",
       "version_major": 2,
       "version_minor": 0
      },
      "text/plain": [
       "Training episodes:   0%|          | 0/3 [00:00<?, ?it/s]"
      ]
     },
     "metadata": {},
     "output_type": "display_data"
    },
    {
     "data": {
      "application/vnd.jupyter.widget-view+json": {
       "model_id": "cb8ee8e6a0c648e6a602a599dd1c5901",
       "version_major": 2,
       "version_minor": 0
      },
      "text/plain": [
       "Training episodes:   0%|          | 0/3 [00:00<?, ?it/s]"
      ]
     },
     "metadata": {},
     "output_type": "display_data"
    },
    {
     "data": {
      "application/vnd.jupyter.widget-view+json": {
       "model_id": "29b664fbe13e4d2bb9f0716e3b4d4966",
       "version_major": 2,
       "version_minor": 0
      },
      "text/plain": [
       "seeds:   0%|          | 0/30 [00:00<?, ?it/s]"
      ]
     },
     "metadata": {},
     "output_type": "display_data"
    },
    {
     "data": {
      "application/vnd.jupyter.widget-view+json": {
       "model_id": "21f28fd922dc418993269a4059c5c1ef",
       "version_major": 2,
       "version_minor": 0
      },
      "text/plain": [
       "Training episodes:   0%|          | 0/3 [00:00<?, ?it/s]"
      ]
     },
     "metadata": {},
     "output_type": "display_data"
    },
    {
     "data": {
      "application/vnd.jupyter.widget-view+json": {
       "model_id": "2ca1970785614fbdb5ee61fa5a301336",
       "version_major": 2,
       "version_minor": 0
      },
      "text/plain": [
       "Training episodes:   0%|          | 0/3 [00:00<?, ?it/s]"
      ]
     },
     "metadata": {},
     "output_type": "display_data"
    },
    {
     "data": {
      "application/vnd.jupyter.widget-view+json": {
       "model_id": "1b22f6d8c3a44c78a7c58d02f7164104",
       "version_major": 2,
       "version_minor": 0
      },
      "text/plain": [
       "Training episodes:   0%|          | 0/3 [00:00<?, ?it/s]"
      ]
     },
     "metadata": {},
     "output_type": "display_data"
    },
    {
     "data": {
      "application/vnd.jupyter.widget-view+json": {
       "model_id": "a7329a513e254edfa958341ce482a5dc",
       "version_major": 2,
       "version_minor": 0
      },
      "text/plain": [
       "Training episodes:   0%|          | 0/3 [00:00<?, ?it/s]"
      ]
     },
     "metadata": {},
     "output_type": "display_data"
    },
    {
     "data": {
      "application/vnd.jupyter.widget-view+json": {
       "model_id": "4e46458af8d8499d994a7d07468aeddb",
       "version_major": 2,
       "version_minor": 0
      },
      "text/plain": [
       "Training episodes:   0%|          | 0/3 [00:00<?, ?it/s]"
      ]
     },
     "metadata": {},
     "output_type": "display_data"
    },
    {
     "data": {
      "application/vnd.jupyter.widget-view+json": {
       "model_id": "9dbbd4e0c5a04e31a3757367838bc0dd",
       "version_major": 2,
       "version_minor": 0
      },
      "text/plain": [
       "Training episodes:   0%|          | 0/3 [00:00<?, ?it/s]"
      ]
     },
     "metadata": {},
     "output_type": "display_data"
    },
    {
     "data": {
      "application/vnd.jupyter.widget-view+json": {
       "model_id": "adee72a0fbbe4391907bbc0ebe3db219",
       "version_major": 2,
       "version_minor": 0
      },
      "text/plain": [
       "Training episodes:   0%|          | 0/3 [00:00<?, ?it/s]"
      ]
     },
     "metadata": {},
     "output_type": "display_data"
    },
    {
     "name": "stdout",
     "output_type": "stream",
     "text": [
      "[I 2025-03-04 04:13:58,177] Trial 7 finished with value: 1915.629888452545 and parameters: {'learning_rate': 0.00010214731033085636, 'n_steps': 917, 'batch_size': 118, 'gae_lambda': 0.8854746150447337, 'ent_coef': 0.006804212135342727, 'vf_coef': 0.1684745446454396, 'clip_range': 0.13019053087221258, 'max_grad_norm': 0.5122672798516843}. Best is trial 7 with value: 1915.629888452545.\n"
     ]
    },
    {
     "data": {
      "application/vnd.jupyter.widget-view+json": {
       "model_id": "82d5456583b0478ebfdd0b9d69be2b33",
       "version_major": 2,
       "version_minor": 0
      },
      "text/plain": [
       "Training episodes:   0%|          | 0/3 [00:00<?, ?it/s]"
      ]
     },
     "metadata": {},
     "output_type": "display_data"
    },
    {
     "data": {
      "application/vnd.jupyter.widget-view+json": {
       "model_id": "7b1096b31a194de4be11b5db9dc5a43e",
       "version_major": 2,
       "version_minor": 0
      },
      "text/plain": [
       "Training episodes:   0%|          | 0/3 [00:00<?, ?it/s]"
      ]
     },
     "metadata": {},
     "output_type": "display_data"
    },
    {
     "data": {
      "application/vnd.jupyter.widget-view+json": {
       "model_id": "f303230daeef4485955dd9719345c11d",
       "version_major": 2,
       "version_minor": 0
      },
      "text/plain": [
       "Training episodes:   0%|          | 0/3 [00:00<?, ?it/s]"
      ]
     },
     "metadata": {},
     "output_type": "display_data"
    },
    {
     "data": {
      "application/vnd.jupyter.widget-view+json": {
       "model_id": "bc7fe44c28924bad992554843ad81953",
       "version_major": 2,
       "version_minor": 0
      },
      "text/plain": [
       "Training episodes:   0%|          | 0/3 [00:00<?, ?it/s]"
      ]
     },
     "metadata": {},
     "output_type": "display_data"
    },
    {
     "name": "stdout",
     "output_type": "stream",
     "text": [
      "[I 2025-03-04 04:18:33,287] Trial 2 finished with value: 1066.638346091307 and parameters: {'learning_rate': 2.7050092127571763e-05, 'n_steps': 88, 'batch_size': 123, 'gae_lambda': 0.8903698243918552, 'ent_coef': 0.0056898887869421145, 'vf_coef': 0.18717242610251583, 'clip_range': 0.20481956900927875, 'max_grad_norm': 0.21206356043186225}. Best is trial 7 with value: 1915.629888452545.\n"
     ]
    },
    {
     "data": {
      "application/vnd.jupyter.widget-view+json": {
       "model_id": "5b72b15e215e4da3944d49e5c8af62fa",
       "version_major": 2,
       "version_minor": 0
      },
      "text/plain": [
       "Training episodes:   0%|          | 0/3 [00:00<?, ?it/s]"
      ]
     },
     "metadata": {},
     "output_type": "display_data"
    },
    {
     "data": {
      "application/vnd.jupyter.widget-view+json": {
       "model_id": "bcfb4afab18342d8b2c429bfd06b138a",
       "version_major": 2,
       "version_minor": 0
      },
      "text/plain": [
       "Training episodes:   0%|          | 0/3 [00:00<?, ?it/s]"
      ]
     },
     "metadata": {},
     "output_type": "display_data"
    },
    {
     "data": {
      "application/vnd.jupyter.widget-view+json": {
       "model_id": "04aafa55ebf74bfa8c03c60b17ec7822",
       "version_major": 2,
       "version_minor": 0
      },
      "text/plain": [
       "Training episodes:   0%|          | 0/3 [00:00<?, ?it/s]"
      ]
     },
     "metadata": {},
     "output_type": "display_data"
    },
    {
     "data": {
      "application/vnd.jupyter.widget-view+json": {
       "model_id": "f1ae50eb30d341b6b62e532274e2948a",
       "version_major": 2,
       "version_minor": 0
      },
      "text/plain": [
       "Training episodes:   0%|          | 0/3 [00:00<?, ?it/s]"
      ]
     },
     "metadata": {},
     "output_type": "display_data"
    },
    {
     "data": {
      "application/vnd.jupyter.widget-view+json": {
       "model_id": "f5bbfcebcfac481b84aad30bd20e499a",
       "version_major": 2,
       "version_minor": 0
      },
      "text/plain": [
       "Training episodes:   0%|          | 0/3 [00:00<?, ?it/s]"
      ]
     },
     "metadata": {},
     "output_type": "display_data"
    },
    {
     "data": {
      "application/vnd.jupyter.widget-view+json": {
       "model_id": "19f02b29fe044c41831cc737a62d712b",
       "version_major": 2,
       "version_minor": 0
      },
      "text/plain": [
       "Training episodes:   0%|          | 0/3 [00:00<?, ?it/s]"
      ]
     },
     "metadata": {},
     "output_type": "display_data"
    },
    {
     "data": {
      "application/vnd.jupyter.widget-view+json": {
       "model_id": "535bc5bb8ebe4729b10b5e7fa5ebfd8c",
       "version_major": 2,
       "version_minor": 0
      },
      "text/plain": [
       "Training episodes:   0%|          | 0/3 [00:00<?, ?it/s]"
      ]
     },
     "metadata": {},
     "output_type": "display_data"
    },
    {
     "data": {
      "application/vnd.jupyter.widget-view+json": {
       "model_id": "500b9fa68eea48d9a397c5de8b7254f7",
       "version_major": 2,
       "version_minor": 0
      },
      "text/plain": [
       "Training episodes:   0%|          | 0/3 [00:00<?, ?it/s]"
      ]
     },
     "metadata": {},
     "output_type": "display_data"
    },
    {
     "data": {
      "application/vnd.jupyter.widget-view+json": {
       "model_id": "7bbc3bd8a5b04a429689d246b808960e",
       "version_major": 2,
       "version_minor": 0
      },
      "text/plain": [
       "Training episodes:   0%|          | 0/3 [00:00<?, ?it/s]"
      ]
     },
     "metadata": {},
     "output_type": "display_data"
    },
    {
     "data": {
      "application/vnd.jupyter.widget-view+json": {
       "model_id": "9ca393dc81f143c88f7e395b92ccc21f",
       "version_major": 2,
       "version_minor": 0
      },
      "text/plain": [
       "Training episodes:   0%|          | 0/3 [00:00<?, ?it/s]"
      ]
     },
     "metadata": {},
     "output_type": "display_data"
    },
    {
     "data": {
      "application/vnd.jupyter.widget-view+json": {
       "model_id": "c2a4fad8f6d44cc9a9463556096b0ab7",
       "version_major": 2,
       "version_minor": 0
      },
      "text/plain": [
       "Training episodes:   0%|          | 0/3 [00:00<?, ?it/s]"
      ]
     },
     "metadata": {},
     "output_type": "display_data"
    },
    {
     "data": {
      "application/vnd.jupyter.widget-view+json": {
       "model_id": "31d07c3c2c8f45f39309aa1f962849f4",
       "version_major": 2,
       "version_minor": 0
      },
      "text/plain": [
       "Training episodes:   0%|          | 0/3 [00:00<?, ?it/s]"
      ]
     },
     "metadata": {},
     "output_type": "display_data"
    },
    {
     "data": {
      "application/vnd.jupyter.widget-view+json": {
       "model_id": "c139d31226494de1844a8aac66cd0c2a",
       "version_major": 2,
       "version_minor": 0
      },
      "text/plain": [
       "Training episodes:   0%|          | 0/3 [00:00<?, ?it/s]"
      ]
     },
     "metadata": {},
     "output_type": "display_data"
    },
    {
     "data": {
      "application/vnd.jupyter.widget-view+json": {
       "model_id": "e129865937ba420b819a83cfafebf6ae",
       "version_major": 2,
       "version_minor": 0
      },
      "text/plain": [
       "Training episodes:   0%|          | 0/3 [00:00<?, ?it/s]"
      ]
     },
     "metadata": {},
     "output_type": "display_data"
    },
    {
     "data": {
      "application/vnd.jupyter.widget-view+json": {
       "model_id": "09923d3172b44be985d853a44155cc65",
       "version_major": 2,
       "version_minor": 0
      },
      "text/plain": [
       "Training episodes:   0%|          | 0/3 [00:00<?, ?it/s]"
      ]
     },
     "metadata": {},
     "output_type": "display_data"
    },
    {
     "data": {
      "application/vnd.jupyter.widget-view+json": {
       "model_id": "d3223abb2dfb47058d18b824011a2cd5",
       "version_major": 2,
       "version_minor": 0
      },
      "text/plain": [
       "Training episodes:   0%|          | 0/3 [00:00<?, ?it/s]"
      ]
     },
     "metadata": {},
     "output_type": "display_data"
    },
    {
     "data": {
      "application/vnd.jupyter.widget-view+json": {
       "model_id": "67b683154aac4988bac1f199f3560dfc",
       "version_major": 2,
       "version_minor": 0
      },
      "text/plain": [
       "Training episodes:   0%|          | 0/3 [00:00<?, ?it/s]"
      ]
     },
     "metadata": {},
     "output_type": "display_data"
    },
    {
     "data": {
      "application/vnd.jupyter.widget-view+json": {
       "model_id": "24d609f791c54af68239746125e9c85b",
       "version_major": 2,
       "version_minor": 0
      },
      "text/plain": [
       "Training episodes:   0%|          | 0/3 [00:00<?, ?it/s]"
      ]
     },
     "metadata": {},
     "output_type": "display_data"
    },
    {
     "data": {
      "application/vnd.jupyter.widget-view+json": {
       "model_id": "4ebc255a3fc843229626dfa7b295e61e",
       "version_major": 2,
       "version_minor": 0
      },
      "text/plain": [
       "Training episodes:   0%|          | 0/3 [00:00<?, ?it/s]"
      ]
     },
     "metadata": {},
     "output_type": "display_data"
    },
    {
     "data": {
      "application/vnd.jupyter.widget-view+json": {
       "model_id": "fd59607d9eb4464ea507759615be9e90",
       "version_major": 2,
       "version_minor": 0
      },
      "text/plain": [
       "Training episodes:   0%|          | 0/3 [00:00<?, ?it/s]"
      ]
     },
     "metadata": {},
     "output_type": "display_data"
    },
    {
     "data": {
      "application/vnd.jupyter.widget-view+json": {
       "model_id": "60437ca812814f118ef7df50376a88a4",
       "version_major": 2,
       "version_minor": 0
      },
      "text/plain": [
       "Training episodes:   0%|          | 0/3 [00:00<?, ?it/s]"
      ]
     },
     "metadata": {},
     "output_type": "display_data"
    },
    {
     "data": {
      "application/vnd.jupyter.widget-view+json": {
       "model_id": "46e0ef47b1e545288160a9a622bac3e7",
       "version_major": 2,
       "version_minor": 0
      },
      "text/plain": [
       "Training episodes:   0%|          | 0/3 [00:00<?, ?it/s]"
      ]
     },
     "metadata": {},
     "output_type": "display_data"
    },
    {
     "data": {
      "application/vnd.jupyter.widget-view+json": {
       "model_id": "e2b4a7fab71647be96e49af1a4f5cd8d",
       "version_major": 2,
       "version_minor": 0
      },
      "text/plain": [
       "Training episodes:   0%|          | 0/3 [00:00<?, ?it/s]"
      ]
     },
     "metadata": {},
     "output_type": "display_data"
    },
    {
     "data": {
      "application/vnd.jupyter.widget-view+json": {
       "model_id": "d1610850cf6e4e2e8b01c387c6677633",
       "version_major": 2,
       "version_minor": 0
      },
      "text/plain": [
       "Training episodes:   0%|          | 0/3 [00:00<?, ?it/s]"
      ]
     },
     "metadata": {},
     "output_type": "display_data"
    },
    {
     "data": {
      "application/vnd.jupyter.widget-view+json": {
       "model_id": "c84ee61d23f944119a661fde249c5044",
       "version_major": 2,
       "version_minor": 0
      },
      "text/plain": [
       "Training episodes:   0%|          | 0/3 [00:00<?, ?it/s]"
      ]
     },
     "metadata": {},
     "output_type": "display_data"
    },
    {
     "data": {
      "application/vnd.jupyter.widget-view+json": {
       "model_id": "22989bee15574d92a91e1541c20bb595",
       "version_major": 2,
       "version_minor": 0
      },
      "text/plain": [
       "Training episodes:   0%|          | 0/3 [00:00<?, ?it/s]"
      ]
     },
     "metadata": {},
     "output_type": "display_data"
    },
    {
     "data": {
      "application/vnd.jupyter.widget-view+json": {
       "model_id": "79e93de9104a46889799ca6ce000a17b",
       "version_major": 2,
       "version_minor": 0
      },
      "text/plain": [
       "Training episodes:   0%|          | 0/3 [00:00<?, ?it/s]"
      ]
     },
     "metadata": {},
     "output_type": "display_data"
    },
    {
     "data": {
      "application/vnd.jupyter.widget-view+json": {
       "model_id": "e1cc7a046eb2498f8045d198e36d7c8e",
       "version_major": 2,
       "version_minor": 0
      },
      "text/plain": [
       "Training episodes:   0%|          | 0/3 [00:00<?, ?it/s]"
      ]
     },
     "metadata": {},
     "output_type": "display_data"
    },
    {
     "data": {
      "application/vnd.jupyter.widget-view+json": {
       "model_id": "067e4e5d22c64bcb9608632240832832",
       "version_major": 2,
       "version_minor": 0
      },
      "text/plain": [
       "Training episodes:   0%|          | 0/3 [00:00<?, ?it/s]"
      ]
     },
     "metadata": {},
     "output_type": "display_data"
    },
    {
     "data": {
      "application/vnd.jupyter.widget-view+json": {
       "model_id": "bc843d4cb5ab4fa19d8cee6f6126e3e7",
       "version_major": 2,
       "version_minor": 0
      },
      "text/plain": [
       "Training episodes:   0%|          | 0/3 [00:00<?, ?it/s]"
      ]
     },
     "metadata": {},
     "output_type": "display_data"
    },
    {
     "data": {
      "application/vnd.jupyter.widget-view+json": {
       "model_id": "344f500adbc64568a7d29a91a5f22a42",
       "version_major": 2,
       "version_minor": 0
      },
      "text/plain": [
       "Training episodes:   0%|          | 0/3 [00:00<?, ?it/s]"
      ]
     },
     "metadata": {},
     "output_type": "display_data"
    },
    {
     "data": {
      "application/vnd.jupyter.widget-view+json": {
       "model_id": "4aa1d2d650694536864cb51c76ffbdb5",
       "version_major": 2,
       "version_minor": 0
      },
      "text/plain": [
       "Training episodes:   0%|          | 0/3 [00:00<?, ?it/s]"
      ]
     },
     "metadata": {},
     "output_type": "display_data"
    },
    {
     "data": {
      "application/vnd.jupyter.widget-view+json": {
       "model_id": "3ff6a5d2f6404300bc82343d4ed5fd96",
       "version_major": 2,
       "version_minor": 0
      },
      "text/plain": [
       "Training episodes:   0%|          | 0/3 [00:00<?, ?it/s]"
      ]
     },
     "metadata": {},
     "output_type": "display_data"
    },
    {
     "data": {
      "application/vnd.jupyter.widget-view+json": {
       "model_id": "02cb023b48234ed98984f29fa6c26c66",
       "version_major": 2,
       "version_minor": 0
      },
      "text/plain": [
       "Training episodes:   0%|          | 0/3 [00:00<?, ?it/s]"
      ]
     },
     "metadata": {},
     "output_type": "display_data"
    },
    {
     "data": {
      "application/vnd.jupyter.widget-view+json": {
       "model_id": "31f421d5e43245949601b0e07c569196",
       "version_major": 2,
       "version_minor": 0
      },
      "text/plain": [
       "Training episodes:   0%|          | 0/3 [00:00<?, ?it/s]"
      ]
     },
     "metadata": {},
     "output_type": "display_data"
    },
    {
     "data": {
      "application/vnd.jupyter.widget-view+json": {
       "model_id": "e6caf62bf4ce4bec8655f077e703864f",
       "version_major": 2,
       "version_minor": 0
      },
      "text/plain": [
       "Training episodes:   0%|          | 0/3 [00:00<?, ?it/s]"
      ]
     },
     "metadata": {},
     "output_type": "display_data"
    },
    {
     "data": {
      "application/vnd.jupyter.widget-view+json": {
       "model_id": "bc4f23f97bab4d5bb7b0e9ab436b8682",
       "version_major": 2,
       "version_minor": 0
      },
      "text/plain": [
       "Training episodes:   0%|          | 0/3 [00:00<?, ?it/s]"
      ]
     },
     "metadata": {},
     "output_type": "display_data"
    },
    {
     "data": {
      "application/vnd.jupyter.widget-view+json": {
       "model_id": "f3c16196fd49422fa8757a90c33c9523",
       "version_major": 2,
       "version_minor": 0
      },
      "text/plain": [
       "Training episodes:   0%|          | 0/3 [00:00<?, ?it/s]"
      ]
     },
     "metadata": {},
     "output_type": "display_data"
    },
    {
     "data": {
      "application/vnd.jupyter.widget-view+json": {
       "model_id": "e736cb6b48e44a47833ac3c326489ed7",
       "version_major": 2,
       "version_minor": 0
      },
      "text/plain": [
       "Training episodes:   0%|          | 0/3 [00:00<?, ?it/s]"
      ]
     },
     "metadata": {},
     "output_type": "display_data"
    },
    {
     "data": {
      "application/vnd.jupyter.widget-view+json": {
       "model_id": "33b6f194840e4814bdb46832f7835849",
       "version_major": 2,
       "version_minor": 0
      },
      "text/plain": [
       "Training episodes:   0%|          | 0/3 [00:00<?, ?it/s]"
      ]
     },
     "metadata": {},
     "output_type": "display_data"
    },
    {
     "data": {
      "application/vnd.jupyter.widget-view+json": {
       "model_id": "3dc0ef5b2c7d4bee880816a4102cdede",
       "version_major": 2,
       "version_minor": 0
      },
      "text/plain": [
       "seeds:   0%|          | 0/30 [00:00<?, ?it/s]"
      ]
     },
     "metadata": {},
     "output_type": "display_data"
    },
    {
     "data": {
      "application/vnd.jupyter.widget-view+json": {
       "model_id": "0c6f5195140840f49ad586355116fad9",
       "version_major": 2,
       "version_minor": 0
      },
      "text/plain": [
       "Training episodes:   0%|          | 0/3 [00:00<?, ?it/s]"
      ]
     },
     "metadata": {},
     "output_type": "display_data"
    },
    {
     "data": {
      "application/vnd.jupyter.widget-view+json": {
       "model_id": "1b66485541ba4de990cf3e11da473f4a",
       "version_major": 2,
       "version_minor": 0
      },
      "text/plain": [
       "seeds:   0%|          | 0/30 [00:00<?, ?it/s]"
      ]
     },
     "metadata": {},
     "output_type": "display_data"
    },
    {
     "data": {
      "application/vnd.jupyter.widget-view+json": {
       "model_id": "e96c36e793bb45b288d7bbd53b71507c",
       "version_major": 2,
       "version_minor": 0
      },
      "text/plain": [
       "Training episodes:   0%|          | 0/3 [00:00<?, ?it/s]"
      ]
     },
     "metadata": {},
     "output_type": "display_data"
    },
    {
     "data": {
      "application/vnd.jupyter.widget-view+json": {
       "model_id": "9feafb6db1b943f7ac667a72a7e9334d",
       "version_major": 2,
       "version_minor": 0
      },
      "text/plain": [
       "Training episodes:   0%|          | 0/3 [00:00<?, ?it/s]"
      ]
     },
     "metadata": {},
     "output_type": "display_data"
    },
    {
     "data": {
      "application/vnd.jupyter.widget-view+json": {
       "model_id": "3a8c4f76e7134918ae8aca4ad14373ab",
       "version_major": 2,
       "version_minor": 0
      },
      "text/plain": [
       "Training episodes:   0%|          | 0/3 [00:00<?, ?it/s]"
      ]
     },
     "metadata": {},
     "output_type": "display_data"
    },
    {
     "data": {
      "application/vnd.jupyter.widget-view+json": {
       "model_id": "50711d0bb6274f28a2c0fa769cc07d3d",
       "version_major": 2,
       "version_minor": 0
      },
      "text/plain": [
       "Training episodes:   0%|          | 0/3 [00:00<?, ?it/s]"
      ]
     },
     "metadata": {},
     "output_type": "display_data"
    },
    {
     "data": {
      "application/vnd.jupyter.widget-view+json": {
       "model_id": "29c2eccefeb543e0bc01e118d75e7a75",
       "version_major": 2,
       "version_minor": 0
      },
      "text/plain": [
       "Training episodes:   0%|          | 0/3 [00:00<?, ?it/s]"
      ]
     },
     "metadata": {},
     "output_type": "display_data"
    },
    {
     "data": {
      "application/vnd.jupyter.widget-view+json": {
       "model_id": "9e989372290147bdaf607bf9935628c9",
       "version_major": 2,
       "version_minor": 0
      },
      "text/plain": [
       "Training episodes:   0%|          | 0/3 [00:00<?, ?it/s]"
      ]
     },
     "metadata": {},
     "output_type": "display_data"
    },
    {
     "data": {
      "application/vnd.jupyter.widget-view+json": {
       "model_id": "0834afd071284b069530b794181bf95a",
       "version_major": 2,
       "version_minor": 0
      },
      "text/plain": [
       "Training episodes:   0%|          | 0/3 [00:00<?, ?it/s]"
      ]
     },
     "metadata": {},
     "output_type": "display_data"
    },
    {
     "name": "stdout",
     "output_type": "stream",
     "text": [
      "[I 2025-03-04 05:44:18,936] Trial 3 finished with value: 1404.3698288166795 and parameters: {'learning_rate': 2.6109196671096892e-05, 'n_steps': 38, 'batch_size': 203, 'gae_lambda': 0.9454715549718409, 'ent_coef': 0.009193884985091225, 'vf_coef': 0.9448209250170455, 'clip_range': 0.22339278345283103, 'max_grad_norm': 0.21800877782307565}. Best is trial 7 with value: 1915.629888452545.\n"
     ]
    },
    {
     "data": {
      "application/vnd.jupyter.widget-view+json": {
       "model_id": "0498508192d94cab88cfcce6a13d1d65",
       "version_major": 2,
       "version_minor": 0
      },
      "text/plain": [
       "Training episodes:   0%|          | 0/3 [00:00<?, ?it/s]"
      ]
     },
     "metadata": {},
     "output_type": "display_data"
    },
    {
     "name": "stdout",
     "output_type": "stream",
     "text": [
      "[I 2025-03-04 05:44:38,803] Trial 0 finished with value: 1920.091579628642 and parameters: {'learning_rate': 0.000258508699159723, 'n_steps': 398, 'batch_size': 42, 'gae_lambda': 0.9437295185392839, 'ent_coef': 0.008362300516304235, 'vf_coef': 0.5644764548744111, 'clip_range': 0.12159650395951578, 'max_grad_norm': 0.9902247429571766}. Best is trial 0 with value: 1920.091579628642.\n"
     ]
    },
    {
     "data": {
      "application/vnd.jupyter.widget-view+json": {
       "model_id": "23a16794ecbf48f18829871b33da0038",
       "version_major": 2,
       "version_minor": 0
      },
      "text/plain": [
       "Training episodes:   0%|          | 0/3 [00:00<?, ?it/s]"
      ]
     },
     "metadata": {},
     "output_type": "display_data"
    },
    {
     "data": {
      "application/vnd.jupyter.widget-view+json": {
       "model_id": "3e8bbca754e34a8f8fce91f8d55cf96a",
       "version_major": 2,
       "version_minor": 0
      },
      "text/plain": [
       "Training episodes:   0%|          | 0/3 [00:00<?, ?it/s]"
      ]
     },
     "metadata": {},
     "output_type": "display_data"
    },
    {
     "data": {
      "application/vnd.jupyter.widget-view+json": {
       "model_id": "939050082da143e69a603bc2057368ed",
       "version_major": 2,
       "version_minor": 0
      },
      "text/plain": [
       "Training episodes:   0%|          | 0/3 [00:00<?, ?it/s]"
      ]
     },
     "metadata": {},
     "output_type": "display_data"
    },
    {
     "data": {
      "application/vnd.jupyter.widget-view+json": {
       "model_id": "7d5a6c8e0c844468a6b0584acec9e745",
       "version_major": 2,
       "version_minor": 0
      },
      "text/plain": [
       "Training episodes:   0%|          | 0/3 [00:00<?, ?it/s]"
      ]
     },
     "metadata": {},
     "output_type": "display_data"
    },
    {
     "data": {
      "application/vnd.jupyter.widget-view+json": {
       "model_id": "a1e74c31c1804b0ca8df9fd905141044",
       "version_major": 2,
       "version_minor": 0
      },
      "text/plain": [
       "Training episodes:   0%|          | 0/3 [00:00<?, ?it/s]"
      ]
     },
     "metadata": {},
     "output_type": "display_data"
    },
    {
     "data": {
      "application/vnd.jupyter.widget-view+json": {
       "model_id": "b5eb18b971f24f41b7eb358c9910afa0",
       "version_major": 2,
       "version_minor": 0
      },
      "text/plain": [
       "Training episodes:   0%|          | 0/3 [00:00<?, ?it/s]"
      ]
     },
     "metadata": {},
     "output_type": "display_data"
    },
    {
     "data": {
      "application/vnd.jupyter.widget-view+json": {
       "model_id": "1112787cd51648d49c696192511c97d4",
       "version_major": 2,
       "version_minor": 0
      },
      "text/plain": [
       "Training episodes:   0%|          | 0/3 [00:00<?, ?it/s]"
      ]
     },
     "metadata": {},
     "output_type": "display_data"
    },
    {
     "data": {
      "application/vnd.jupyter.widget-view+json": {
       "model_id": "fa36510ff34b47f08833d98cef05b332",
       "version_major": 2,
       "version_minor": 0
      },
      "text/plain": [
       "Training episodes:   0%|          | 0/3 [00:00<?, ?it/s]"
      ]
     },
     "metadata": {},
     "output_type": "display_data"
    },
    {
     "data": {
      "application/vnd.jupyter.widget-view+json": {
       "model_id": "aed0a755e7964319bd3cf4401ae61a36",
       "version_major": 2,
       "version_minor": 0
      },
      "text/plain": [
       "Training episodes:   0%|          | 0/3 [00:00<?, ?it/s]"
      ]
     },
     "metadata": {},
     "output_type": "display_data"
    },
    {
     "data": {
      "application/vnd.jupyter.widget-view+json": {
       "model_id": "5a983071559a4264b0f867c9b4dca191",
       "version_major": 2,
       "version_minor": 0
      },
      "text/plain": [
       "Training episodes:   0%|          | 0/3 [00:00<?, ?it/s]"
      ]
     },
     "metadata": {},
     "output_type": "display_data"
    },
    {
     "data": {
      "application/vnd.jupyter.widget-view+json": {
       "model_id": "439eb9a54d344cc1bd381659b18278e4",
       "version_major": 2,
       "version_minor": 0
      },
      "text/plain": [
       "Training episodes:   0%|          | 0/3 [00:00<?, ?it/s]"
      ]
     },
     "metadata": {},
     "output_type": "display_data"
    },
    {
     "data": {
      "application/vnd.jupyter.widget-view+json": {
       "model_id": "579869b0115747e1bbbb254a7f431305",
       "version_major": 2,
       "version_minor": 0
      },
      "text/plain": [
       "Training episodes:   0%|          | 0/3 [00:00<?, ?it/s]"
      ]
     },
     "metadata": {},
     "output_type": "display_data"
    },
    {
     "data": {
      "application/vnd.jupyter.widget-view+json": {
       "model_id": "ccb95cab8469411eb67981a8875f3d06",
       "version_major": 2,
       "version_minor": 0
      },
      "text/plain": [
       "Training episodes:   0%|          | 0/3 [00:00<?, ?it/s]"
      ]
     },
     "metadata": {},
     "output_type": "display_data"
    },
    {
     "data": {
      "application/vnd.jupyter.widget-view+json": {
       "model_id": "a17a256e99ff4fbf8fba2f9398478e2b",
       "version_major": 2,
       "version_minor": 0
      },
      "text/plain": [
       "Training episodes:   0%|          | 0/3 [00:00<?, ?it/s]"
      ]
     },
     "metadata": {},
     "output_type": "display_data"
    },
    {
     "data": {
      "application/vnd.jupyter.widget-view+json": {
       "model_id": "6b723b18a3bb45c0aeeed87b6d9154f2",
       "version_major": 2,
       "version_minor": 0
      },
      "text/plain": [
       "Training episodes:   0%|          | 0/3 [00:00<?, ?it/s]"
      ]
     },
     "metadata": {},
     "output_type": "display_data"
    },
    {
     "data": {
      "application/vnd.jupyter.widget-view+json": {
       "model_id": "e37f7de1f098432687f6268e7afc3000",
       "version_major": 2,
       "version_minor": 0
      },
      "text/plain": [
       "Training episodes:   0%|          | 0/3 [00:00<?, ?it/s]"
      ]
     },
     "metadata": {},
     "output_type": "display_data"
    },
    {
     "data": {
      "application/vnd.jupyter.widget-view+json": {
       "model_id": "316766211dc74ef5b5e404e39855f327",
       "version_major": 2,
       "version_minor": 0
      },
      "text/plain": [
       "Training episodes:   0%|          | 0/3 [00:00<?, ?it/s]"
      ]
     },
     "metadata": {},
     "output_type": "display_data"
    },
    {
     "data": {
      "application/vnd.jupyter.widget-view+json": {
       "model_id": "570bae9ac33a4f4dad8da2c1a9a9910a",
       "version_major": 2,
       "version_minor": 0
      },
      "text/plain": [
       "Training episodes:   0%|          | 0/3 [00:00<?, ?it/s]"
      ]
     },
     "metadata": {},
     "output_type": "display_data"
    },
    {
     "data": {
      "application/vnd.jupyter.widget-view+json": {
       "model_id": "5c7042f6055348f4a0466b86d8cb2991",
       "version_major": 2,
       "version_minor": 0
      },
      "text/plain": [
       "Training episodes:   0%|          | 0/3 [00:00<?, ?it/s]"
      ]
     },
     "metadata": {},
     "output_type": "display_data"
    },
    {
     "data": {
      "application/vnd.jupyter.widget-view+json": {
       "model_id": "aeca57571c184d6bb44cc00085bedf0a",
       "version_major": 2,
       "version_minor": 0
      },
      "text/plain": [
       "Training episodes:   0%|          | 0/3 [00:00<?, ?it/s]"
      ]
     },
     "metadata": {},
     "output_type": "display_data"
    },
    {
     "data": {
      "application/vnd.jupyter.widget-view+json": {
       "model_id": "3f98a07b29064538b2d804598deb33a0",
       "version_major": 2,
       "version_minor": 0
      },
      "text/plain": [
       "Training episodes:   0%|          | 0/3 [00:00<?, ?it/s]"
      ]
     },
     "metadata": {},
     "output_type": "display_data"
    },
    {
     "data": {
      "application/vnd.jupyter.widget-view+json": {
       "model_id": "0c0346aca25e454bbf9cff6331f5e009",
       "version_major": 2,
       "version_minor": 0
      },
      "text/plain": [
       "Training episodes:   0%|          | 0/3 [00:00<?, ?it/s]"
      ]
     },
     "metadata": {},
     "output_type": "display_data"
    },
    {
     "data": {
      "application/vnd.jupyter.widget-view+json": {
       "model_id": "2a09eeeeb4d945ab981f7dd25f7ff465",
       "version_major": 2,
       "version_minor": 0
      },
      "text/plain": [
       "seeds:   0%|          | 0/30 [00:00<?, ?it/s]"
      ]
     },
     "metadata": {},
     "output_type": "display_data"
    },
    {
     "data": {
      "application/vnd.jupyter.widget-view+json": {
       "model_id": "86ee917df0a2494eabe3a61aa11d76c3",
       "version_major": 2,
       "version_minor": 0
      },
      "text/plain": [
       "Training episodes:   0%|          | 0/3 [00:00<?, ?it/s]"
      ]
     },
     "metadata": {},
     "output_type": "display_data"
    },
    {
     "data": {
      "application/vnd.jupyter.widget-view+json": {
       "model_id": "36ac88b7b6234a8f816fe767e1b96281",
       "version_major": 2,
       "version_minor": 0
      },
      "text/plain": [
       "Training episodes:   0%|          | 0/3 [00:00<?, ?it/s]"
      ]
     },
     "metadata": {},
     "output_type": "display_data"
    },
    {
     "data": {
      "application/vnd.jupyter.widget-view+json": {
       "model_id": "00055b8ed49c40f1b8b8b89cd2116361",
       "version_major": 2,
       "version_minor": 0
      },
      "text/plain": [
       "Training episodes:   0%|          | 0/3 [00:00<?, ?it/s]"
      ]
     },
     "metadata": {},
     "output_type": "display_data"
    },
    {
     "data": {
      "application/vnd.jupyter.widget-view+json": {
       "model_id": "6b7aac21fd4e4951b8a3961a889e6a08",
       "version_major": 2,
       "version_minor": 0
      },
      "text/plain": [
       "Training episodes:   0%|          | 0/3 [00:00<?, ?it/s]"
      ]
     },
     "metadata": {},
     "output_type": "display_data"
    },
    {
     "data": {
      "application/vnd.jupyter.widget-view+json": {
       "model_id": "d78ad2da6c1e47e3b9d2065bb498fd57",
       "version_major": 2,
       "version_minor": 0
      },
      "text/plain": [
       "Training episodes:   0%|          | 0/3 [00:00<?, ?it/s]"
      ]
     },
     "metadata": {},
     "output_type": "display_data"
    },
    {
     "data": {
      "application/vnd.jupyter.widget-view+json": {
       "model_id": "c2bb8fcf71054fe4a6038664c8f43534",
       "version_major": 2,
       "version_minor": 0
      },
      "text/plain": [
       "Training episodes:   0%|          | 0/3 [00:00<?, ?it/s]"
      ]
     },
     "metadata": {},
     "output_type": "display_data"
    },
    {
     "name": "stdout",
     "output_type": "stream",
     "text": [
      "[I 2025-03-04 06:13:36,711] Trial 8 finished with value: 1908.9607000637523 and parameters: {'learning_rate': 8.715112259433786e-05, 'n_steps': 249, 'batch_size': 201, 'gae_lambda': 0.8336930136069418, 'ent_coef': 0.013438159255011982, 'vf_coef': 0.39698203142504873, 'clip_range': 0.23140974787283536, 'max_grad_norm': 0.6520782948294915}. Best is trial 0 with value: 1920.091579628642.\n"
     ]
    },
    {
     "data": {
      "application/vnd.jupyter.widget-view+json": {
       "model_id": "39a16ed75b81447c8ec4fd426503aada",
       "version_major": 2,
       "version_minor": 0
      },
      "text/plain": [
       "Training episodes:   0%|          | 0/3 [00:00<?, ?it/s]"
      ]
     },
     "metadata": {},
     "output_type": "display_data"
    },
    {
     "data": {
      "application/vnd.jupyter.widget-view+json": {
       "model_id": "bc588dfa1c6244259d11a51e0fc1db07",
       "version_major": 2,
       "version_minor": 0
      },
      "text/plain": [
       "Training episodes:   0%|          | 0/3 [00:00<?, ?it/s]"
      ]
     },
     "metadata": {},
     "output_type": "display_data"
    },
    {
     "data": {
      "application/vnd.jupyter.widget-view+json": {
       "model_id": "01ded421386b4706ae6ca7c7b0bad905",
       "version_major": 2,
       "version_minor": 0
      },
      "text/plain": [
       "Training episodes:   0%|          | 0/3 [00:00<?, ?it/s]"
      ]
     },
     "metadata": {},
     "output_type": "display_data"
    },
    {
     "data": {
      "application/vnd.jupyter.widget-view+json": {
       "model_id": "4853a37eba754897a03d7399bfd9fd09",
       "version_major": 2,
       "version_minor": 0
      },
      "text/plain": [
       "Training episodes:   0%|          | 0/3 [00:00<?, ?it/s]"
      ]
     },
     "metadata": {},
     "output_type": "display_data"
    },
    {
     "data": {
      "application/vnd.jupyter.widget-view+json": {
       "model_id": "4d5b36755c024b1bb87d6d3de919addf",
       "version_major": 2,
       "version_minor": 0
      },
      "text/plain": [
       "Training episodes:   0%|          | 0/3 [00:00<?, ?it/s]"
      ]
     },
     "metadata": {},
     "output_type": "display_data"
    },
    {
     "data": {
      "application/vnd.jupyter.widget-view+json": {
       "model_id": "72f899c9e83a453f94fa0d80c3c94ac0",
       "version_major": 2,
       "version_minor": 0
      },
      "text/plain": [
       "Training episodes:   0%|          | 0/3 [00:00<?, ?it/s]"
      ]
     },
     "metadata": {},
     "output_type": "display_data"
    },
    {
     "data": {
      "application/vnd.jupyter.widget-view+json": {
       "model_id": "b8b30537e1f44e33804ab7a7666bb3bd",
       "version_major": 2,
       "version_minor": 0
      },
      "text/plain": [
       "Training episodes:   0%|          | 0/3 [00:00<?, ?it/s]"
      ]
     },
     "metadata": {},
     "output_type": "display_data"
    },
    {
     "data": {
      "application/vnd.jupyter.widget-view+json": {
       "model_id": "9120ba8d7b05449bb5121c8e1638bf62",
       "version_major": 2,
       "version_minor": 0
      },
      "text/plain": [
       "Training episodes:   0%|          | 0/3 [00:00<?, ?it/s]"
      ]
     },
     "metadata": {},
     "output_type": "display_data"
    },
    {
     "data": {
      "application/vnd.jupyter.widget-view+json": {
       "model_id": "d01aa9b8bda7414c914780f36f52b5c8",
       "version_major": 2,
       "version_minor": 0
      },
      "text/plain": [
       "seeds:   0%|          | 0/30 [00:00<?, ?it/s]"
      ]
     },
     "metadata": {},
     "output_type": "display_data"
    },
    {
     "data": {
      "application/vnd.jupyter.widget-view+json": {
       "model_id": "960859e2813b489f8955af43aae28de6",
       "version_major": 2,
       "version_minor": 0
      },
      "text/plain": [
       "Training episodes:   0%|          | 0/3 [00:00<?, ?it/s]"
      ]
     },
     "metadata": {},
     "output_type": "display_data"
    },
    {
     "data": {
      "application/vnd.jupyter.widget-view+json": {
       "model_id": "d1322a1b573948339f987ad3b9cf7875",
       "version_major": 2,
       "version_minor": 0
      },
      "text/plain": [
       "Training episodes:   0%|          | 0/3 [00:00<?, ?it/s]"
      ]
     },
     "metadata": {},
     "output_type": "display_data"
    },
    {
     "data": {
      "application/vnd.jupyter.widget-view+json": {
       "model_id": "177a2457876b4234add7122a991da0b3",
       "version_major": 2,
       "version_minor": 0
      },
      "text/plain": [
       "Training episodes:   0%|          | 0/3 [00:00<?, ?it/s]"
      ]
     },
     "metadata": {},
     "output_type": "display_data"
    },
    {
     "name": "stdout",
     "output_type": "stream",
     "text": [
      "[I 2025-03-04 06:50:24,017] Trial 9 finished with value: 1761.023969445187 and parameters: {'learning_rate': 0.0001321135642783727, 'n_steps': 655, 'batch_size': 60, 'gae_lambda': 0.9912255340848429, 'ent_coef': 0.0077390732685984, 'vf_coef': 0.2807907837545579, 'clip_range': 0.2666148361957634, 'max_grad_norm': 0.6065738210924674}. Best is trial 0 with value: 1920.091579628642.\n"
     ]
    },
    {
     "data": {
      "application/vnd.jupyter.widget-view+json": {
       "model_id": "8d71a07e05074d589b94d953a9cd19e6",
       "version_major": 2,
       "version_minor": 0
      },
      "text/plain": [
       "Training episodes:   0%|          | 0/3 [00:00<?, ?it/s]"
      ]
     },
     "metadata": {},
     "output_type": "display_data"
    },
    {
     "data": {
      "application/vnd.jupyter.widget-view+json": {
       "model_id": "5cf519ad68954de5b50b1c176f4e1d17",
       "version_major": 2,
       "version_minor": 0
      },
      "text/plain": [
       "Training episodes:   0%|          | 0/3 [00:00<?, ?it/s]"
      ]
     },
     "metadata": {},
     "output_type": "display_data"
    },
    {
     "data": {
      "application/vnd.jupyter.widget-view+json": {
       "model_id": "42113d32768c4191adb213bd971704f4",
       "version_major": 2,
       "version_minor": 0
      },
      "text/plain": [
       "Training episodes:   0%|          | 0/3 [00:00<?, ?it/s]"
      ]
     },
     "metadata": {},
     "output_type": "display_data"
    },
    {
     "data": {
      "application/vnd.jupyter.widget-view+json": {
       "model_id": "6ffcaed5b55247ec94e5ded11590afa1",
       "version_major": 2,
       "version_minor": 0
      },
      "text/plain": [
       "seeds:   0%|          | 0/30 [00:00<?, ?it/s]"
      ]
     },
     "metadata": {},
     "output_type": "display_data"
    },
    {
     "data": {
      "application/vnd.jupyter.widget-view+json": {
       "model_id": "48cd4c8df63042779439bd55646837b7",
       "version_major": 2,
       "version_minor": 0
      },
      "text/plain": [
       "Training episodes:   0%|          | 0/3 [00:00<?, ?it/s]"
      ]
     },
     "metadata": {},
     "output_type": "display_data"
    },
    {
     "name": "stdout",
     "output_type": "stream",
     "text": [
      "[I 2025-03-04 07:12:47,702] Trial 1 finished with value: 1841.6095483760816 and parameters: {'learning_rate': 1.6178424048973947e-05, 'n_steps': 35, 'batch_size': 25, 'gae_lambda': 0.8792705645703804, 'ent_coef': 0.01559676066141568, 'vf_coef': 0.5887775807546184, 'clip_range': 0.26618822773587225, 'max_grad_norm': 0.25736963269540786}. Best is trial 0 with value: 1920.091579628642.\n"
     ]
    },
    {
     "data": {
      "application/vnd.jupyter.widget-view+json": {
       "model_id": "37111cd2dc77452dbbaa4be41d245d36",
       "version_major": 2,
       "version_minor": 0
      },
      "text/plain": [
       "seeds:   0%|          | 0/30 [00:00<?, ?it/s]"
      ]
     },
     "metadata": {},
     "output_type": "display_data"
    },
    {
     "name": "stdout",
     "output_type": "stream",
     "text": [
      "[I 2025-03-04 07:15:37,471] Trial 5 finished with value: 1629.3278669505364 and parameters: {'learning_rate': 0.0008033582885000316, 'n_steps': 32, 'batch_size': 30, 'gae_lambda': 0.8547126746310278, 'ent_coef': 0.011756398405212429, 'vf_coef': 0.6374034328260573, 'clip_range': 0.2465735780562984, 'max_grad_norm': 0.191973024590956}. Best is trial 0 with value: 1920.091579628642.\n"
     ]
    },
    {
     "data": {
      "application/vnd.jupyter.widget-view+json": {
       "model_id": "8828b9451bdd492f800ad0fb2a176322",
       "version_major": 2,
       "version_minor": 0
      },
      "text/plain": [
       "seeds:   0%|          | 0/30 [00:00<?, ?it/s]"
      ]
     },
     "metadata": {},
     "output_type": "display_data"
    },
    {
     "data": {
      "application/vnd.jupyter.widget-view+json": {
       "model_id": "4832663cdcb84f1dae82ada1620dfc61",
       "version_major": 2,
       "version_minor": 0
      },
      "text/plain": [
       "Training episodes:   0%|          | 0/3 [00:00<?, ?it/s]"
      ]
     },
     "metadata": {},
     "output_type": "display_data"
    },
    {
     "data": {
      "application/vnd.jupyter.widget-view+json": {
       "model_id": "5a83072dff3e40339962211741c0e1a2",
       "version_major": 2,
       "version_minor": 0
      },
      "text/plain": [
       "Training episodes:   0%|          | 0/3 [00:00<?, ?it/s]"
      ]
     },
     "metadata": {},
     "output_type": "display_data"
    },
    {
     "data": {
      "application/vnd.jupyter.widget-view+json": {
       "model_id": "f482f24c5679420b9a3c5a31bacf0bfb",
       "version_major": 2,
       "version_minor": 0
      },
      "text/plain": [
       "Training episodes:   0%|          | 0/3 [00:00<?, ?it/s]"
      ]
     },
     "metadata": {},
     "output_type": "display_data"
    },
    {
     "data": {
      "application/vnd.jupyter.widget-view+json": {
       "model_id": "83dadb68d91e4867a88b3c0b15875713",
       "version_major": 2,
       "version_minor": 0
      },
      "text/plain": [
       "Training episodes:   0%|          | 0/3 [00:00<?, ?it/s]"
      ]
     },
     "metadata": {},
     "output_type": "display_data"
    },
    {
     "data": {
      "application/vnd.jupyter.widget-view+json": {
       "model_id": "97ccd1d7d50c420f87ae74407bb23c42",
       "version_major": 2,
       "version_minor": 0
      },
      "text/plain": [
       "Training episodes:   0%|          | 0/3 [00:00<?, ?it/s]"
      ]
     },
     "metadata": {},
     "output_type": "display_data"
    },
    {
     "data": {
      "application/vnd.jupyter.widget-view+json": {
       "model_id": "a8063fa03cfc4e2e969f885853648009",
       "version_major": 2,
       "version_minor": 0
      },
      "text/plain": [
       "Training episodes:   0%|          | 0/3 [00:00<?, ?it/s]"
      ]
     },
     "metadata": {},
     "output_type": "display_data"
    },
    {
     "data": {
      "application/vnd.jupyter.widget-view+json": {
       "model_id": "bc0f1febc50d4f989a2879c64420eb52",
       "version_major": 2,
       "version_minor": 0
      },
      "text/plain": [
       "Training episodes:   0%|          | 0/3 [00:00<?, ?it/s]"
      ]
     },
     "metadata": {},
     "output_type": "display_data"
    },
    {
     "data": {
      "application/vnd.jupyter.widget-view+json": {
       "model_id": "59ff12de5d8a4a7684cd5d5a6b922192",
       "version_major": 2,
       "version_minor": 0
      },
      "text/plain": [
       "Training episodes:   0%|          | 0/3 [00:00<?, ?it/s]"
      ]
     },
     "metadata": {},
     "output_type": "display_data"
    },
    {
     "data": {
      "application/vnd.jupyter.widget-view+json": {
       "model_id": "4f317f8c503e4d0d91c6c8d2ce2524fd",
       "version_major": 2,
       "version_minor": 0
      },
      "text/plain": [
       "Training episodes:   0%|          | 0/3 [00:00<?, ?it/s]"
      ]
     },
     "metadata": {},
     "output_type": "display_data"
    },
    {
     "data": {
      "application/vnd.jupyter.widget-view+json": {
       "model_id": "5d0ea633d0b44776aa37f80562cd0cc4",
       "version_major": 2,
       "version_minor": 0
      },
      "text/plain": [
       "Training episodes:   0%|          | 0/3 [00:00<?, ?it/s]"
      ]
     },
     "metadata": {},
     "output_type": "display_data"
    },
    {
     "data": {
      "application/vnd.jupyter.widget-view+json": {
       "model_id": "74ba6ef427ac4894b80eb87c866f3d5d",
       "version_major": 2,
       "version_minor": 0
      },
      "text/plain": [
       "Training episodes:   0%|          | 0/3 [00:00<?, ?it/s]"
      ]
     },
     "metadata": {},
     "output_type": "display_data"
    },
    {
     "data": {
      "application/vnd.jupyter.widget-view+json": {
       "model_id": "8f611c638e754075abff777450580e6a",
       "version_major": 2,
       "version_minor": 0
      },
      "text/plain": [
       "Training episodes:   0%|          | 0/3 [00:00<?, ?it/s]"
      ]
     },
     "metadata": {},
     "output_type": "display_data"
    },
    {
     "data": {
      "application/vnd.jupyter.widget-view+json": {
       "model_id": "df3cf5f6c706499183400ba7f3a8be32",
       "version_major": 2,
       "version_minor": 0
      },
      "text/plain": [
       "Training episodes:   0%|          | 0/3 [00:00<?, ?it/s]"
      ]
     },
     "metadata": {},
     "output_type": "display_data"
    },
    {
     "data": {
      "application/vnd.jupyter.widget-view+json": {
       "model_id": "b39fbae00f104e9585eb86c089362c22",
       "version_major": 2,
       "version_minor": 0
      },
      "text/plain": [
       "Training episodes:   0%|          | 0/3 [00:00<?, ?it/s]"
      ]
     },
     "metadata": {},
     "output_type": "display_data"
    },
    {
     "data": {
      "application/vnd.jupyter.widget-view+json": {
       "model_id": "88387ce626d74909b87c1d9e2ee32925",
       "version_major": 2,
       "version_minor": 0
      },
      "text/plain": [
       "Training episodes:   0%|          | 0/3 [00:00<?, ?it/s]"
      ]
     },
     "metadata": {},
     "output_type": "display_data"
    },
    {
     "data": {
      "application/vnd.jupyter.widget-view+json": {
       "model_id": "9e86afcb18874b5f9b70eeaf4e154dc8",
       "version_major": 2,
       "version_minor": 0
      },
      "text/plain": [
       "Training episodes:   0%|          | 0/3 [00:00<?, ?it/s]"
      ]
     },
     "metadata": {},
     "output_type": "display_data"
    },
    {
     "data": {
      "application/vnd.jupyter.widget-view+json": {
       "model_id": "09a0f83e0a954f22a2080cdbed41d18b",
       "version_major": 2,
       "version_minor": 0
      },
      "text/plain": [
       "Training episodes:   0%|          | 0/3 [00:00<?, ?it/s]"
      ]
     },
     "metadata": {},
     "output_type": "display_data"
    },
    {
     "data": {
      "application/vnd.jupyter.widget-view+json": {
       "model_id": "8f39486d387240e6a5d4985b185853f2",
       "version_major": 2,
       "version_minor": 0
      },
      "text/plain": [
       "Training episodes:   0%|          | 0/3 [00:00<?, ?it/s]"
      ]
     },
     "metadata": {},
     "output_type": "display_data"
    },
    {
     "data": {
      "application/vnd.jupyter.widget-view+json": {
       "model_id": "8de3aa852629400aab5189454f4fee11",
       "version_major": 2,
       "version_minor": 0
      },
      "text/plain": [
       "Training episodes:   0%|          | 0/3 [00:00<?, ?it/s]"
      ]
     },
     "metadata": {},
     "output_type": "display_data"
    },
    {
     "data": {
      "application/vnd.jupyter.widget-view+json": {
       "model_id": "f4f3378dc39b4405be76f0b4a63de935",
       "version_major": 2,
       "version_minor": 0
      },
      "text/plain": [
       "Training episodes:   0%|          | 0/3 [00:00<?, ?it/s]"
      ]
     },
     "metadata": {},
     "output_type": "display_data"
    },
    {
     "data": {
      "application/vnd.jupyter.widget-view+json": {
       "model_id": "4f803eba588c485080977fa2c4a16e4e",
       "version_major": 2,
       "version_minor": 0
      },
      "text/plain": [
       "Training episodes:   0%|          | 0/3 [00:00<?, ?it/s]"
      ]
     },
     "metadata": {},
     "output_type": "display_data"
    },
    {
     "data": {
      "application/vnd.jupyter.widget-view+json": {
       "model_id": "4b89558e07784249a9381285da0072a3",
       "version_major": 2,
       "version_minor": 0
      },
      "text/plain": [
       "Training episodes:   0%|          | 0/3 [00:00<?, ?it/s]"
      ]
     },
     "metadata": {},
     "output_type": "display_data"
    },
    {
     "data": {
      "application/vnd.jupyter.widget-view+json": {
       "model_id": "a471a26455de45aa957b8200f1eba6f1",
       "version_major": 2,
       "version_minor": 0
      },
      "text/plain": [
       "Training episodes:   0%|          | 0/3 [00:00<?, ?it/s]"
      ]
     },
     "metadata": {},
     "output_type": "display_data"
    },
    {
     "data": {
      "application/vnd.jupyter.widget-view+json": {
       "model_id": "82cf0d6358a246d0a9d1dd6e05cb86ed",
       "version_major": 2,
       "version_minor": 0
      },
      "text/plain": [
       "Training episodes:   0%|          | 0/3 [00:00<?, ?it/s]"
      ]
     },
     "metadata": {},
     "output_type": "display_data"
    },
    {
     "data": {
      "application/vnd.jupyter.widget-view+json": {
       "model_id": "970d202a51ad4d9ab34779aae5eb8a9e",
       "version_major": 2,
       "version_minor": 0
      },
      "text/plain": [
       "Training episodes:   0%|          | 0/3 [00:00<?, ?it/s]"
      ]
     },
     "metadata": {},
     "output_type": "display_data"
    },
    {
     "data": {
      "application/vnd.jupyter.widget-view+json": {
       "model_id": "795168e0d36542e9b18b7c277e5b4b60",
       "version_major": 2,
       "version_minor": 0
      },
      "text/plain": [
       "Training episodes:   0%|          | 0/3 [00:00<?, ?it/s]"
      ]
     },
     "metadata": {},
     "output_type": "display_data"
    },
    {
     "data": {
      "application/vnd.jupyter.widget-view+json": {
       "model_id": "6b896c6e2da946a1a4f1d9ec5b87aaab",
       "version_major": 2,
       "version_minor": 0
      },
      "text/plain": [
       "Training episodes:   0%|          | 0/3 [00:00<?, ?it/s]"
      ]
     },
     "metadata": {},
     "output_type": "display_data"
    },
    {
     "data": {
      "application/vnd.jupyter.widget-view+json": {
       "model_id": "19ee31e2a141432d81751a7636b87c13",
       "version_major": 2,
       "version_minor": 0
      },
      "text/plain": [
       "Training episodes:   0%|          | 0/3 [00:00<?, ?it/s]"
      ]
     },
     "metadata": {},
     "output_type": "display_data"
    },
    {
     "data": {
      "application/vnd.jupyter.widget-view+json": {
       "model_id": "fe48b80ad0ec4f9fbfc84e33990a9542",
       "version_major": 2,
       "version_minor": 0
      },
      "text/plain": [
       "Training episodes:   0%|          | 0/3 [00:00<?, ?it/s]"
      ]
     },
     "metadata": {},
     "output_type": "display_data"
    },
    {
     "data": {
      "application/vnd.jupyter.widget-view+json": {
       "model_id": "47021fb9ae7a496493abf9ed90eb641b",
       "version_major": 2,
       "version_minor": 0
      },
      "text/plain": [
       "Training episodes:   0%|          | 0/3 [00:00<?, ?it/s]"
      ]
     },
     "metadata": {},
     "output_type": "display_data"
    },
    {
     "data": {
      "application/vnd.jupyter.widget-view+json": {
       "model_id": "03eebb4e963e492abc4220ed50cc6607",
       "version_major": 2,
       "version_minor": 0
      },
      "text/plain": [
       "seeds:   0%|          | 0/30 [00:00<?, ?it/s]"
      ]
     },
     "metadata": {},
     "output_type": "display_data"
    }
   ],
   "source": [
    "# | hide\n",
    "optimized_maskable_ppo_agent = MaskablePPOAgent(\n",
    "    render_mode=\"human\", env_config=ENV_CONFIG, name=\"OptimizedMaskablePPOAgent\"\n",
    ")\n",
    "optimized_maskable_ppo_agent.optimize()\n",
    "\n",
    "if not QUICK_MODE:\n",
    "    optimized_maskable_ppo_agent.export_hyperparameters(\n",
    "        f\"{optimized_maskable_ppo_agent.name}.yaml\"\n",
    "    )\n",
    "\n",
    "optimized_maskable_ppo_agent.train()\n",
    "\n",
    "if not QUICK_MODE:\n",
    "    optimized_maskable_ppo_agent.save_model(\n",
    "        f\"{optimized_maskable_ppo_agent.name}.model\"\n",
    "    )\n",
    "\n",
    "evaluation_data_per_agent[optimized_maskable_ppo_agent.name] = (\n",
    "    optimized_maskable_ppo_agent.evaluate()\n",
    ")"
   ]
  },
  {
   "cell_type": "markdown",
   "metadata": {},
   "source": "### Adding expert knowledge to the masking function making learning more efficient"
  },
  {
   "cell_type": "code",
   "execution_count": null,
   "metadata": {},
   "outputs": [],
   "source": [
    "# | export\n",
    "\n",
    "\n",
    "def is_action_safe(self, action: int) -> bool:\n",
    "    charge_amount = self._charge_amount(action)\n",
    "    target_state_of_charge = self._current_state_of_charge + charge_amount\n",
    "    low, high = self._battery_safe_range\n",
    "    return high > target_state_of_charge > low\n",
    "\n",
    "\n",
    "def expert_knowledge_action_masks(self) -> np.ndarray:\n",
    "    mask = np.array(\n",
    "        [\n",
    "            self._is_action_valid(action) and self.is_action_safe(action)\n",
    "            for action in range(self.action_space.n)\n",
    "        ],\n",
    "        dtype=bool,\n",
    "    )\n",
    "    if not np.any(mask):\n",
    "        mask[len(mask) // 2] = True\n",
    "    return mask"
   ]
  },
  {
   "cell_type": "code",
   "execution_count": null,
   "metadata": {},
   "outputs": [],
   "source": [
    "# | hide\n",
    "# Dynamically overriding action_masks to ElectricityMarketEnv\n",
    "setattr(ElectricityMarketEnv, \"action_masks\", expert_knowledge_action_masks)\n",
    "# Dynamically overriding injection is_action_safe to ElectricityMarketEnv\n",
    "setattr(ElectricityMarketEnv, \"is_action_safe\", is_action_safe)"
   ]
  },
  {
   "cell_type": "markdown",
   "metadata": {},
   "source": [
    "\n",
    "\n",
    "### Evaluation MaskableRandomAgent with Expert Knowledge on ElectricityMarketEnv"
   ]
  },
  {
   "cell_type": "code",
   "execution_count": null,
   "metadata": {},
   "outputs": [
    {
     "data": {
      "application/vnd.jupyter.widget-view+json": {
       "model_id": "debb442ebfe549b2a6edc7855a9ef6a6",
       "version_major": 2,
       "version_minor": 0
      },
      "text/plain": [
       "seeds:   0%|          | 0/30 [00:00<?, ?it/s]"
      ]
     },
     "metadata": {},
     "output_type": "display_data"
    }
   ],
   "source": [
    "# | hide\n",
    "expert_maskable_random_agent = MaskableRandomAgent(\n",
    "    render_mode=\"human\", env_config=ENV_CONFIG, name=\"ExpertMaskableRandomAgent\"\n",
    ")\n",
    "\n",
    "evaluation_data_per_agent[expert_maskable_random_agent.name] = (\n",
    "    expert_maskable_random_agent.evaluate()\n",
    ")"
   ]
  },
  {
   "cell_type": "markdown",
   "metadata": {},
   "source": "### Evaluation MaskablePPO with default hyperparameters and Expert Knowledge on ElectricityMarketEnv"
  },
  {
   "cell_type": "code",
   "execution_count": null,
   "metadata": {},
   "outputs": [
    {
     "data": {
      "application/vnd.jupyter.widget-view+json": {
       "model_id": "186a744ab6f34a7986eefecb5c91f7cd",
       "version_major": 2,
       "version_minor": 0
      },
      "text/plain": [
       "seeds:   0%|          | 0/30 [00:00<?, ?it/s]"
      ]
     },
     "metadata": {},
     "output_type": "display_data"
    },
    {
     "data": {
      "application/vnd.jupyter.widget-view+json": {
       "model_id": "089c92533fe241bd8568e997e45910eb",
       "version_major": 2,
       "version_minor": 0
      },
      "text/plain": [
       "Training episodes:   0%|          | 0/3 [00:00<?, ?it/s]"
      ]
     },
     "metadata": {},
     "output_type": "display_data"
    },
    {
     "data": {
      "application/vnd.jupyter.widget-view+json": {
       "model_id": "c1a33d5223d44a7782fbbc1d4f421de3",
       "version_major": 2,
       "version_minor": 0
      },
      "text/plain": [
       "Training episodes:   0%|          | 0/3 [00:00<?, ?it/s]"
      ]
     },
     "metadata": {},
     "output_type": "display_data"
    },
    {
     "data": {
      "application/vnd.jupyter.widget-view+json": {
       "model_id": "89d397ac0e5f4537844010692b528dc5",
       "version_major": 2,
       "version_minor": 0
      },
      "text/plain": [
       "Training episodes:   0%|          | 0/3 [00:00<?, ?it/s]"
      ]
     },
     "metadata": {},
     "output_type": "display_data"
    },
    {
     "data": {
      "application/vnd.jupyter.widget-view+json": {
       "model_id": "1abcf65a612f4276a2a380f2516238d8",
       "version_major": 2,
       "version_minor": 0
      },
      "text/plain": [
       "Training episodes:   0%|          | 0/3 [00:00<?, ?it/s]"
      ]
     },
     "metadata": {},
     "output_type": "display_data"
    },
    {
     "data": {
      "application/vnd.jupyter.widget-view+json": {
       "model_id": "c8bef210ff83426983a883450684b420",
       "version_major": 2,
       "version_minor": 0
      },
      "text/plain": [
       "Training episodes:   0%|          | 0/3 [00:00<?, ?it/s]"
      ]
     },
     "metadata": {},
     "output_type": "display_data"
    },
    {
     "data": {
      "application/vnd.jupyter.widget-view+json": {
       "model_id": "2112f29bdcd247d290e6f2558c538937",
       "version_major": 2,
       "version_minor": 0
      },
      "text/plain": [
       "Training episodes:   0%|          | 0/3 [00:00<?, ?it/s]"
      ]
     },
     "metadata": {},
     "output_type": "display_data"
    },
    {
     "data": {
      "application/vnd.jupyter.widget-view+json": {
       "model_id": "63bf4bc7abd84c36a2b062b6dfadd738",
       "version_major": 2,
       "version_minor": 0
      },
      "text/plain": [
       "Training episodes:   0%|          | 0/3 [00:00<?, ?it/s]"
      ]
     },
     "metadata": {},
     "output_type": "display_data"
    },
    {
     "data": {
      "application/vnd.jupyter.widget-view+json": {
       "model_id": "699278d9b30248038a16c9f2d1bce00a",
       "version_major": 2,
       "version_minor": 0
      },
      "text/plain": [
       "Training episodes:   0%|          | 0/3 [00:00<?, ?it/s]"
      ]
     },
     "metadata": {},
     "output_type": "display_data"
    },
    {
     "data": {
      "application/vnd.jupyter.widget-view+json": {
       "model_id": "148947f463524ad1b75b8c9a44247845",
       "version_major": 2,
       "version_minor": 0
      },
      "text/plain": [
       "Training episodes:   0%|          | 0/3 [00:00<?, ?it/s]"
      ]
     },
     "metadata": {},
     "output_type": "display_data"
    },
    {
     "data": {
      "application/vnd.jupyter.widget-view+json": {
       "model_id": "09b342de06644cf7ba0e9c067149086a",
       "version_major": 2,
       "version_minor": 0
      },
      "text/plain": [
       "Training episodes:   0%|          | 0/3 [00:00<?, ?it/s]"
      ]
     },
     "metadata": {},
     "output_type": "display_data"
    },
    {
     "data": {
      "application/vnd.jupyter.widget-view+json": {
       "model_id": "73d35468619e4f5baccbf7ab138fcf5e",
       "version_major": 2,
       "version_minor": 0
      },
      "text/plain": [
       "Training episodes:   0%|          | 0/3 [00:00<?, ?it/s]"
      ]
     },
     "metadata": {},
     "output_type": "display_data"
    },
    {
     "data": {
      "application/vnd.jupyter.widget-view+json": {
       "model_id": "fde392e1b64f45efaca9c65d5144aac6",
       "version_major": 2,
       "version_minor": 0
      },
      "text/plain": [
       "Training episodes:   0%|          | 0/3 [00:00<?, ?it/s]"
      ]
     },
     "metadata": {},
     "output_type": "display_data"
    },
    {
     "data": {
      "application/vnd.jupyter.widget-view+json": {
       "model_id": "271f07c08b01484c81a6bb7279ccf97b",
       "version_major": 2,
       "version_minor": 0
      },
      "text/plain": [
       "Training episodes:   0%|          | 0/3 [00:00<?, ?it/s]"
      ]
     },
     "metadata": {},
     "output_type": "display_data"
    },
    {
     "data": {
      "application/vnd.jupyter.widget-view+json": {
       "model_id": "cdcd66fac5ec4061937a636a2bd7c1dd",
       "version_major": 2,
       "version_minor": 0
      },
      "text/plain": [
       "Training episodes:   0%|          | 0/3 [00:00<?, ?it/s]"
      ]
     },
     "metadata": {},
     "output_type": "display_data"
    },
    {
     "data": {
      "application/vnd.jupyter.widget-view+json": {
       "model_id": "b16d3fe6835f4bed8c805007d2aaa4ab",
       "version_major": 2,
       "version_minor": 0
      },
      "text/plain": [
       "Training episodes:   0%|          | 0/3 [00:00<?, ?it/s]"
      ]
     },
     "metadata": {},
     "output_type": "display_data"
    },
    {
     "data": {
      "application/vnd.jupyter.widget-view+json": {
       "model_id": "5f7456eb410443bab66e83def9ed37f2",
       "version_major": 2,
       "version_minor": 0
      },
      "text/plain": [
       "Training episodes:   0%|          | 0/3 [00:00<?, ?it/s]"
      ]
     },
     "metadata": {},
     "output_type": "display_data"
    },
    {
     "data": {
      "application/vnd.jupyter.widget-view+json": {
       "model_id": "2aa862b8d6834b08a26c253e01f41ad5",
       "version_major": 2,
       "version_minor": 0
      },
      "text/plain": [
       "Training episodes:   0%|          | 0/3 [00:00<?, ?it/s]"
      ]
     },
     "metadata": {},
     "output_type": "display_data"
    },
    {
     "data": {
      "application/vnd.jupyter.widget-view+json": {
       "model_id": "51e1990c38464fda9f440d30665d8481",
       "version_major": 2,
       "version_minor": 0
      },
      "text/plain": [
       "Training episodes:   0%|          | 0/3 [00:00<?, ?it/s]"
      ]
     },
     "metadata": {},
     "output_type": "display_data"
    },
    {
     "data": {
      "application/vnd.jupyter.widget-view+json": {
       "model_id": "beb8c7a7f280486fb1a3753cd0498b10",
       "version_major": 2,
       "version_minor": 0
      },
      "text/plain": [
       "Training episodes:   0%|          | 0/3 [00:00<?, ?it/s]"
      ]
     },
     "metadata": {},
     "output_type": "display_data"
    },
    {
     "data": {
      "application/vnd.jupyter.widget-view+json": {
       "model_id": "e28683fe82a641d49908cb6dc71b4be6",
       "version_major": 2,
       "version_minor": 0
      },
      "text/plain": [
       "Training episodes:   0%|          | 0/3 [00:00<?, ?it/s]"
      ]
     },
     "metadata": {},
     "output_type": "display_data"
    },
    {
     "data": {
      "application/vnd.jupyter.widget-view+json": {
       "model_id": "a90c3e7246d34d1f86037f44ca6dbaa7",
       "version_major": 2,
       "version_minor": 0
      },
      "text/plain": [
       "Training episodes:   0%|          | 0/3 [00:00<?, ?it/s]"
      ]
     },
     "metadata": {},
     "output_type": "display_data"
    },
    {
     "data": {
      "application/vnd.jupyter.widget-view+json": {
       "model_id": "e5a66ebe55cf408b92a2a7241f93c9b1",
       "version_major": 2,
       "version_minor": 0
      },
      "text/plain": [
       "Training episodes:   0%|          | 0/3 [00:00<?, ?it/s]"
      ]
     },
     "metadata": {},
     "output_type": "display_data"
    },
    {
     "data": {
      "application/vnd.jupyter.widget-view+json": {
       "model_id": "5f309ba4c0b04a20ab121f5f08dd188d",
       "version_major": 2,
       "version_minor": 0
      },
      "text/plain": [
       "Training episodes:   0%|          | 0/3 [00:00<?, ?it/s]"
      ]
     },
     "metadata": {},
     "output_type": "display_data"
    },
    {
     "data": {
      "application/vnd.jupyter.widget-view+json": {
       "model_id": "7886334d90594b6bb583e434f0a51803",
       "version_major": 2,
       "version_minor": 0
      },
      "text/plain": [
       "Training episodes:   0%|          | 0/3 [00:00<?, ?it/s]"
      ]
     },
     "metadata": {},
     "output_type": "display_data"
    },
    {
     "data": {
      "application/vnd.jupyter.widget-view+json": {
       "model_id": "34c970cacd044a90b63861c46bdf977c",
       "version_major": 2,
       "version_minor": 0
      },
      "text/plain": [
       "Training episodes:   0%|          | 0/3 [00:00<?, ?it/s]"
      ]
     },
     "metadata": {},
     "output_type": "display_data"
    },
    {
     "data": {
      "application/vnd.jupyter.widget-view+json": {
       "model_id": "2e8fceea271242e3aef467ed474d16f2",
       "version_major": 2,
       "version_minor": 0
      },
      "text/plain": [
       "Training episodes:   0%|          | 0/3 [00:00<?, ?it/s]"
      ]
     },
     "metadata": {},
     "output_type": "display_data"
    },
    {
     "data": {
      "application/vnd.jupyter.widget-view+json": {
       "model_id": "157a732ebcfa4110b4b8524fb686da71",
       "version_major": 2,
       "version_minor": 0
      },
      "text/plain": [
       "Training episodes:   0%|          | 0/3 [00:00<?, ?it/s]"
      ]
     },
     "metadata": {},
     "output_type": "display_data"
    },
    {
     "data": {
      "application/vnd.jupyter.widget-view+json": {
       "model_id": "9b7d222e1edb4d449c30412d9393fd78",
       "version_major": 2,
       "version_minor": 0
      },
      "text/plain": [
       "Training episodes:   0%|          | 0/3 [00:00<?, ?it/s]"
      ]
     },
     "metadata": {},
     "output_type": "display_data"
    },
    {
     "data": {
      "application/vnd.jupyter.widget-view+json": {
       "model_id": "37c393a144f743a397e466e97f52954c",
       "version_major": 2,
       "version_minor": 0
      },
      "text/plain": [
       "Training episodes:   0%|          | 0/3 [00:00<?, ?it/s]"
      ]
     },
     "metadata": {},
     "output_type": "display_data"
    },
    {
     "data": {
      "application/vnd.jupyter.widget-view+json": {
       "model_id": "de04c1f5e8e8460fbd6966e0237032a3",
       "version_major": 2,
       "version_minor": 0
      },
      "text/plain": [
       "Training episodes:   0%|          | 0/3 [00:00<?, ?it/s]"
      ]
     },
     "metadata": {},
     "output_type": "display_data"
    },
    {
     "data": {
      "application/vnd.jupyter.widget-view+json": {
       "model_id": "1c08a88508754647bd0dfd61dc10d077",
       "version_major": 2,
       "version_minor": 0
      },
      "text/plain": [
       "seeds:   0%|          | 0/30 [00:00<?, ?it/s]"
      ]
     },
     "metadata": {},
     "output_type": "display_data"
    }
   ],
   "source": [
    "# | hide\n",
    "expert_maskable_ppo_agent = MaskablePPOAgent(\n",
    "    render_mode=\"human\", env_config=ENV_CONFIG, name=\"ExpertMaskablePPOAgent\"\n",
    ")\n",
    "\n",
    "expert_maskable_ppo_agent.train()\n",
    "\n",
    "\n",
    "if not QUICK_MODE:\n",
    "    expert_maskable_ppo_agent.save_model(f\"{expert_maskable_ppo_agent.name}.model\")\n",
    "\n",
    "evaluation_data_per_agent[expert_maskable_ppo_agent.name] = (\n",
    "    expert_maskable_ppo_agent.evaluate()\n",
    ")"
   ]
  },
  {
   "cell_type": "markdown",
   "metadata": {},
   "source": "### Evaluation MaskablePPO with optimized hyperparameters and Expert Knowledge on ElectricityMarketEnv\n"
  },
  {
   "cell_type": "code",
   "execution_count": null,
   "metadata": {},
   "outputs": [
    {
     "name": "stderr",
     "output_type": "stream",
     "text": [
      "[I 2025-03-04 08:05:54,625] A new study created in RDB with name: OptimizedExpertMaskablePPOAgent\n"
     ]
    },
    {
     "data": {
      "application/vnd.jupyter.widget-view+json": {
       "model_id": "19ef58d8b2974be29f50ba4360554caa",
       "version_major": 2,
       "version_minor": 0
      },
      "text/plain": [
       "  0%|          | 0/10 [00:00<?, ?it/s]"
      ]
     },
     "metadata": {},
     "output_type": "display_data"
    },
    {
     "data": {
      "application/vnd.jupyter.widget-view+json": {
       "model_id": "e6810744b2824a328df38a9d3e0ac522",
       "version_major": 2,
       "version_minor": 0
      },
      "text/plain": [
       "seeds:   0%|          | 0/30 [00:00<?, ?it/s]"
      ]
     },
     "metadata": {},
     "output_type": "display_data"
    },
    {
     "data": {
      "application/vnd.jupyter.widget-view+json": {
       "model_id": "a89e533243d54e2eb5ea889500d86ed8",
       "version_major": 2,
       "version_minor": 0
      },
      "text/plain": [
       "Training episodes:   0%|          | 0/3 [00:00<?, ?it/s]"
      ]
     },
     "metadata": {},
     "output_type": "display_data"
    },
    {
     "data": {
      "application/vnd.jupyter.widget-view+json": {
       "model_id": "6fb539e0028f4614a3ed7bd03c901699",
       "version_major": 2,
       "version_minor": 0
      },
      "text/plain": [
       "seeds:   0%|          | 0/30 [00:00<?, ?it/s]"
      ]
     },
     "metadata": {},
     "output_type": "display_data"
    },
    {
     "data": {
      "application/vnd.jupyter.widget-view+json": {
       "model_id": "cb56e133ff88482ca980f65429bb91ad",
       "version_major": 2,
       "version_minor": 0
      },
      "text/plain": [
       "Training episodes:   0%|          | 0/3 [00:00<?, ?it/s]"
      ]
     },
     "metadata": {},
     "output_type": "display_data"
    },
    {
     "data": {
      "application/vnd.jupyter.widget-view+json": {
       "model_id": "08d7574243a8414f8f5a2812c4751a87",
       "version_major": 2,
       "version_minor": 0
      },
      "text/plain": [
       "seeds:   0%|          | 0/30 [00:00<?, ?it/s]"
      ]
     },
     "metadata": {},
     "output_type": "display_data"
    },
    {
     "data": {
      "application/vnd.jupyter.widget-view+json": {
       "model_id": "17e401a2375340eba089c1b94f3d6866",
       "version_major": 2,
       "version_minor": 0
      },
      "text/plain": [
       "Training episodes:   0%|          | 0/3 [00:00<?, ?it/s]"
      ]
     },
     "metadata": {},
     "output_type": "display_data"
    },
    {
     "data": {
      "application/vnd.jupyter.widget-view+json": {
       "model_id": "14333a89d24540fc8335eddc9be22d68",
       "version_major": 2,
       "version_minor": 0
      },
      "text/plain": [
       "seeds:   0%|          | 0/30 [00:00<?, ?it/s]"
      ]
     },
     "metadata": {},
     "output_type": "display_data"
    },
    {
     "data": {
      "application/vnd.jupyter.widget-view+json": {
       "model_id": "f469d96ff39449d1bdb48147963ef577",
       "version_major": 2,
       "version_minor": 0
      },
      "text/plain": [
       "Training episodes:   0%|          | 0/3 [00:00<?, ?it/s]"
      ]
     },
     "metadata": {},
     "output_type": "display_data"
    },
    {
     "data": {
      "application/vnd.jupyter.widget-view+json": {
       "model_id": "db58974475d54c2f898dc7576c035daf",
       "version_major": 2,
       "version_minor": 0
      },
      "text/plain": [
       "seeds:   0%|          | 0/30 [00:00<?, ?it/s]"
      ]
     },
     "metadata": {},
     "output_type": "display_data"
    },
    {
     "data": {
      "application/vnd.jupyter.widget-view+json": {
       "model_id": "a777a933afaa4c8fa7788b0331ccfdfb",
       "version_major": 2,
       "version_minor": 0
      },
      "text/plain": [
       "Training episodes:   0%|          | 0/3 [00:00<?, ?it/s]"
      ]
     },
     "metadata": {},
     "output_type": "display_data"
    },
    {
     "data": {
      "application/vnd.jupyter.widget-view+json": {
       "model_id": "4e679a082f9d48b7b8b3ec1be15e095e",
       "version_major": 2,
       "version_minor": 0
      },
      "text/plain": [
       "seeds:   0%|          | 0/30 [00:00<?, ?it/s]"
      ]
     },
     "metadata": {},
     "output_type": "display_data"
    },
    {
     "data": {
      "application/vnd.jupyter.widget-view+json": {
       "model_id": "dc533bae887040469d6594986510c9a5",
       "version_major": 2,
       "version_minor": 0
      },
      "text/plain": [
       "Training episodes:   0%|          | 0/3 [00:00<?, ?it/s]"
      ]
     },
     "metadata": {},
     "output_type": "display_data"
    },
    {
     "data": {
      "application/vnd.jupyter.widget-view+json": {
       "model_id": "62bd4e3bcbbb4dd69f7f10f849e873bb",
       "version_major": 2,
       "version_minor": 0
      },
      "text/plain": [
       "seeds:   0%|          | 0/30 [00:00<?, ?it/s]"
      ]
     },
     "metadata": {},
     "output_type": "display_data"
    },
    {
     "data": {
      "application/vnd.jupyter.widget-view+json": {
       "model_id": "b713b0792441498285eaa2d474495f7d",
       "version_major": 2,
       "version_minor": 0
      },
      "text/plain": [
       "Training episodes:   0%|          | 0/3 [00:00<?, ?it/s]"
      ]
     },
     "metadata": {},
     "output_type": "display_data"
    },
    {
     "data": {
      "application/vnd.jupyter.widget-view+json": {
       "model_id": "68c06c53598a495b8978bc5a3e61eef6",
       "version_major": 2,
       "version_minor": 0
      },
      "text/plain": [
       "seeds:   0%|          | 0/30 [00:00<?, ?it/s]"
      ]
     },
     "metadata": {},
     "output_type": "display_data"
    },
    {
     "data": {
      "application/vnd.jupyter.widget-view+json": {
       "model_id": "9afe02b8d120432db39dd5e40ced356a",
       "version_major": 2,
       "version_minor": 0
      },
      "text/plain": [
       "Training episodes:   0%|          | 0/3 [00:00<?, ?it/s]"
      ]
     },
     "metadata": {},
     "output_type": "display_data"
    },
    {
     "data": {
      "application/vnd.jupyter.widget-view+json": {
       "model_id": "c967f4784a8e4d599e7a349230e3615c",
       "version_major": 2,
       "version_minor": 0
      },
      "text/plain": [
       "Training episodes:   0%|          | 0/3 [00:00<?, ?it/s]"
      ]
     },
     "metadata": {},
     "output_type": "display_data"
    },
    {
     "data": {
      "application/vnd.jupyter.widget-view+json": {
       "model_id": "9dc5450236c84587948a3a785356359f",
       "version_major": 2,
       "version_minor": 0
      },
      "text/plain": [
       "Training episodes:   0%|          | 0/3 [00:00<?, ?it/s]"
      ]
     },
     "metadata": {},
     "output_type": "display_data"
    },
    {
     "data": {
      "application/vnd.jupyter.widget-view+json": {
       "model_id": "2be09e63f12342c686624f97309e9703",
       "version_major": 2,
       "version_minor": 0
      },
      "text/plain": [
       "Training episodes:   0%|          | 0/3 [00:00<?, ?it/s]"
      ]
     },
     "metadata": {},
     "output_type": "display_data"
    },
    {
     "data": {
      "application/vnd.jupyter.widget-view+json": {
       "model_id": "f1bdff29e35d47509a67a2a3bbf1364d",
       "version_major": 2,
       "version_minor": 0
      },
      "text/plain": [
       "Training episodes:   0%|          | 0/3 [00:00<?, ?it/s]"
      ]
     },
     "metadata": {},
     "output_type": "display_data"
    },
    {
     "data": {
      "application/vnd.jupyter.widget-view+json": {
       "model_id": "d7c481ba38da4d8c80b6d964bdd27c71",
       "version_major": 2,
       "version_minor": 0
      },
      "text/plain": [
       "Training episodes:   0%|          | 0/3 [00:00<?, ?it/s]"
      ]
     },
     "metadata": {},
     "output_type": "display_data"
    },
    {
     "data": {
      "application/vnd.jupyter.widget-view+json": {
       "model_id": "5ca5c747e4b4426d8a2ca8dbf30ebbc7",
       "version_major": 2,
       "version_minor": 0
      },
      "text/plain": [
       "Training episodes:   0%|          | 0/3 [00:00<?, ?it/s]"
      ]
     },
     "metadata": {},
     "output_type": "display_data"
    },
    {
     "data": {
      "application/vnd.jupyter.widget-view+json": {
       "model_id": "91e39ca1fed94e5f82eda23d611f418e",
       "version_major": 2,
       "version_minor": 0
      },
      "text/plain": [
       "Training episodes:   0%|          | 0/3 [00:00<?, ?it/s]"
      ]
     },
     "metadata": {},
     "output_type": "display_data"
    },
    {
     "data": {
      "application/vnd.jupyter.widget-view+json": {
       "model_id": "5361c42be4aa4551906df35f860181fb",
       "version_major": 2,
       "version_minor": 0
      },
      "text/plain": [
       "Training episodes:   0%|          | 0/3 [00:00<?, ?it/s]"
      ]
     },
     "metadata": {},
     "output_type": "display_data"
    },
    {
     "data": {
      "application/vnd.jupyter.widget-view+json": {
       "model_id": "8f1259d7411542cda929f2e4b11169ea",
       "version_major": 2,
       "version_minor": 0
      },
      "text/plain": [
       "Training episodes:   0%|          | 0/3 [00:00<?, ?it/s]"
      ]
     },
     "metadata": {},
     "output_type": "display_data"
    },
    {
     "data": {
      "application/vnd.jupyter.widget-view+json": {
       "model_id": "8e523592e13c4975b3707b73e23ef3dc",
       "version_major": 2,
       "version_minor": 0
      },
      "text/plain": [
       "Training episodes:   0%|          | 0/3 [00:00<?, ?it/s]"
      ]
     },
     "metadata": {},
     "output_type": "display_data"
    },
    {
     "data": {
      "application/vnd.jupyter.widget-view+json": {
       "model_id": "2df1819b3c4240c5b6eee9c2eb9da94d",
       "version_major": 2,
       "version_minor": 0
      },
      "text/plain": [
       "Training episodes:   0%|          | 0/3 [00:00<?, ?it/s]"
      ]
     },
     "metadata": {},
     "output_type": "display_data"
    },
    {
     "data": {
      "application/vnd.jupyter.widget-view+json": {
       "model_id": "d894faac460e412abf6ee7a6f05d80ca",
       "version_major": 2,
       "version_minor": 0
      },
      "text/plain": [
       "Training episodes:   0%|          | 0/3 [00:00<?, ?it/s]"
      ]
     },
     "metadata": {},
     "output_type": "display_data"
    },
    {
     "data": {
      "application/vnd.jupyter.widget-view+json": {
       "model_id": "7b4450be8dc84eb8b59e4119e3c04bcd",
       "version_major": 2,
       "version_minor": 0
      },
      "text/plain": [
       "Training episodes:   0%|          | 0/3 [00:00<?, ?it/s]"
      ]
     },
     "metadata": {},
     "output_type": "display_data"
    },
    {
     "data": {
      "application/vnd.jupyter.widget-view+json": {
       "model_id": "e29fc52ef4074695afc58e43f4d2624d",
       "version_major": 2,
       "version_minor": 0
      },
      "text/plain": [
       "Training episodes:   0%|          | 0/3 [00:00<?, ?it/s]"
      ]
     },
     "metadata": {},
     "output_type": "display_data"
    },
    {
     "data": {
      "application/vnd.jupyter.widget-view+json": {
       "model_id": "1f04ada8bfc945a0aede4a23fb46ccb7",
       "version_major": 2,
       "version_minor": 0
      },
      "text/plain": [
       "Training episodes:   0%|          | 0/3 [00:00<?, ?it/s]"
      ]
     },
     "metadata": {},
     "output_type": "display_data"
    },
    {
     "data": {
      "application/vnd.jupyter.widget-view+json": {
       "model_id": "df095d2ba58e448ca594b994842bb410",
       "version_major": 2,
       "version_minor": 0
      },
      "text/plain": [
       "Training episodes:   0%|          | 0/3 [00:00<?, ?it/s]"
      ]
     },
     "metadata": {},
     "output_type": "display_data"
    },
    {
     "data": {
      "application/vnd.jupyter.widget-view+json": {
       "model_id": "88678420ca9641daa74e1e752424794e",
       "version_major": 2,
       "version_minor": 0
      },
      "text/plain": [
       "Training episodes:   0%|          | 0/3 [00:00<?, ?it/s]"
      ]
     },
     "metadata": {},
     "output_type": "display_data"
    },
    {
     "data": {
      "application/vnd.jupyter.widget-view+json": {
       "model_id": "7f22aa58a24647158592e178ca15f1e2",
       "version_major": 2,
       "version_minor": 0
      },
      "text/plain": [
       "Training episodes:   0%|          | 0/3 [00:00<?, ?it/s]"
      ]
     },
     "metadata": {},
     "output_type": "display_data"
    },
    {
     "data": {
      "application/vnd.jupyter.widget-view+json": {
       "model_id": "1ceb730711f74416be3743266b023a6e",
       "version_major": 2,
       "version_minor": 0
      },
      "text/plain": [
       "Training episodes:   0%|          | 0/3 [00:00<?, ?it/s]"
      ]
     },
     "metadata": {},
     "output_type": "display_data"
    },
    {
     "data": {
      "application/vnd.jupyter.widget-view+json": {
       "model_id": "6ac93301d23c42aba9d57326968af937",
       "version_major": 2,
       "version_minor": 0
      },
      "text/plain": [
       "Training episodes:   0%|          | 0/3 [00:00<?, ?it/s]"
      ]
     },
     "metadata": {},
     "output_type": "display_data"
    },
    {
     "data": {
      "application/vnd.jupyter.widget-view+json": {
       "model_id": "e6ed79a01f164e3db8d5a09d7a29f444",
       "version_major": 2,
       "version_minor": 0
      },
      "text/plain": [
       "Training episodes:   0%|          | 0/3 [00:00<?, ?it/s]"
      ]
     },
     "metadata": {},
     "output_type": "display_data"
    },
    {
     "data": {
      "application/vnd.jupyter.widget-view+json": {
       "model_id": "5759bc1d42c047939d3ba90002b45628",
       "version_major": 2,
       "version_minor": 0
      },
      "text/plain": [
       "Training episodes:   0%|          | 0/3 [00:00<?, ?it/s]"
      ]
     },
     "metadata": {},
     "output_type": "display_data"
    },
    {
     "data": {
      "application/vnd.jupyter.widget-view+json": {
       "model_id": "26338da7e43b4305919e7cac4844f629",
       "version_major": 2,
       "version_minor": 0
      },
      "text/plain": [
       "Training episodes:   0%|          | 0/3 [00:00<?, ?it/s]"
      ]
     },
     "metadata": {},
     "output_type": "display_data"
    },
    {
     "data": {
      "application/vnd.jupyter.widget-view+json": {
       "model_id": "4726886c2e6a40a9b19a40b528715920",
       "version_major": 2,
       "version_minor": 0
      },
      "text/plain": [
       "Training episodes:   0%|          | 0/3 [00:00<?, ?it/s]"
      ]
     },
     "metadata": {},
     "output_type": "display_data"
    },
    {
     "data": {
      "application/vnd.jupyter.widget-view+json": {
       "model_id": "26c229b027134e019a2b42dfdb1a6aa8",
       "version_major": 2,
       "version_minor": 0
      },
      "text/plain": [
       "Training episodes:   0%|          | 0/3 [00:00<?, ?it/s]"
      ]
     },
     "metadata": {},
     "output_type": "display_data"
    },
    {
     "data": {
      "application/vnd.jupyter.widget-view+json": {
       "model_id": "8c353ce32f2d4ef2874ac054c4b6eba3",
       "version_major": 2,
       "version_minor": 0
      },
      "text/plain": [
       "Training episodes:   0%|          | 0/3 [00:00<?, ?it/s]"
      ]
     },
     "metadata": {},
     "output_type": "display_data"
    },
    {
     "data": {
      "application/vnd.jupyter.widget-view+json": {
       "model_id": "fdc707af58dd47c6ae387c208916d354",
       "version_major": 2,
       "version_minor": 0
      },
      "text/plain": [
       "Training episodes:   0%|          | 0/3 [00:00<?, ?it/s]"
      ]
     },
     "metadata": {},
     "output_type": "display_data"
    },
    {
     "data": {
      "application/vnd.jupyter.widget-view+json": {
       "model_id": "6936d70f690848f3afd387e17d2cf859",
       "version_major": 2,
       "version_minor": 0
      },
      "text/plain": [
       "Training episodes:   0%|          | 0/3 [00:00<?, ?it/s]"
      ]
     },
     "metadata": {},
     "output_type": "display_data"
    },
    {
     "data": {
      "application/vnd.jupyter.widget-view+json": {
       "model_id": "0f59c53cd61c422b812fa3e41be6bd5c",
       "version_major": 2,
       "version_minor": 0
      },
      "text/plain": [
       "Training episodes:   0%|          | 0/3 [00:00<?, ?it/s]"
      ]
     },
     "metadata": {},
     "output_type": "display_data"
    },
    {
     "data": {
      "application/vnd.jupyter.widget-view+json": {
       "model_id": "9f9e582bf61048959cf21c2eaaed0026",
       "version_major": 2,
       "version_minor": 0
      },
      "text/plain": [
       "Training episodes:   0%|          | 0/3 [00:00<?, ?it/s]"
      ]
     },
     "metadata": {},
     "output_type": "display_data"
    },
    {
     "data": {
      "application/vnd.jupyter.widget-view+json": {
       "model_id": "0703f25a73f0451bb20f0366b16f0725",
       "version_major": 2,
       "version_minor": 0
      },
      "text/plain": [
       "Training episodes:   0%|          | 0/3 [00:00<?, ?it/s]"
      ]
     },
     "metadata": {},
     "output_type": "display_data"
    },
    {
     "data": {
      "application/vnd.jupyter.widget-view+json": {
       "model_id": "3af58220c4914e84a64fb3cebd6bd927",
       "version_major": 2,
       "version_minor": 0
      },
      "text/plain": [
       "Training episodes:   0%|          | 0/3 [00:00<?, ?it/s]"
      ]
     },
     "metadata": {},
     "output_type": "display_data"
    },
    {
     "data": {
      "application/vnd.jupyter.widget-view+json": {
       "model_id": "38f57a2d345a44b0830cc3e68a737b64",
       "version_major": 2,
       "version_minor": 0
      },
      "text/plain": [
       "Training episodes:   0%|          | 0/3 [00:00<?, ?it/s]"
      ]
     },
     "metadata": {},
     "output_type": "display_data"
    },
    {
     "data": {
      "application/vnd.jupyter.widget-view+json": {
       "model_id": "0abaac7437304b1cbcc854719afd7335",
       "version_major": 2,
       "version_minor": 0
      },
      "text/plain": [
       "Training episodes:   0%|          | 0/3 [00:00<?, ?it/s]"
      ]
     },
     "metadata": {},
     "output_type": "display_data"
    },
    {
     "data": {
      "application/vnd.jupyter.widget-view+json": {
       "model_id": "8c63e02f49204df1a730d2ca7c67e422",
       "version_major": 2,
       "version_minor": 0
      },
      "text/plain": [
       "Training episodes:   0%|          | 0/3 [00:00<?, ?it/s]"
      ]
     },
     "metadata": {},
     "output_type": "display_data"
    },
    {
     "data": {
      "application/vnd.jupyter.widget-view+json": {
       "model_id": "3fce9a42f690415982bf18ad1fbd1020",
       "version_major": 2,
       "version_minor": 0
      },
      "text/plain": [
       "Training episodes:   0%|          | 0/3 [00:00<?, ?it/s]"
      ]
     },
     "metadata": {},
     "output_type": "display_data"
    },
    {
     "data": {
      "application/vnd.jupyter.widget-view+json": {
       "model_id": "bdf5a877c4bd4a139104cd9ed2cc5c48",
       "version_major": 2,
       "version_minor": 0
      },
      "text/plain": [
       "Training episodes:   0%|          | 0/3 [00:00<?, ?it/s]"
      ]
     },
     "metadata": {},
     "output_type": "display_data"
    },
    {
     "data": {
      "application/vnd.jupyter.widget-view+json": {
       "model_id": "a2871ee50e384acdbc2e98633e61be02",
       "version_major": 2,
       "version_minor": 0
      },
      "text/plain": [
       "Training episodes:   0%|          | 0/3 [00:00<?, ?it/s]"
      ]
     },
     "metadata": {},
     "output_type": "display_data"
    },
    {
     "data": {
      "application/vnd.jupyter.widget-view+json": {
       "model_id": "37da72b180724ba082c2d21429dc251a",
       "version_major": 2,
       "version_minor": 0
      },
      "text/plain": [
       "Training episodes:   0%|          | 0/3 [00:00<?, ?it/s]"
      ]
     },
     "metadata": {},
     "output_type": "display_data"
    },
    {
     "data": {
      "application/vnd.jupyter.widget-view+json": {
       "model_id": "2505d2a3af174161ab4906a2c3aff569",
       "version_major": 2,
       "version_minor": 0
      },
      "text/plain": [
       "Training episodes:   0%|          | 0/3 [00:00<?, ?it/s]"
      ]
     },
     "metadata": {},
     "output_type": "display_data"
    },
    {
     "data": {
      "application/vnd.jupyter.widget-view+json": {
       "model_id": "be0f30c4427646bf857414663adab7cf",
       "version_major": 2,
       "version_minor": 0
      },
      "text/plain": [
       "Training episodes:   0%|          | 0/3 [00:00<?, ?it/s]"
      ]
     },
     "metadata": {},
     "output_type": "display_data"
    },
    {
     "data": {
      "application/vnd.jupyter.widget-view+json": {
       "model_id": "eec634bf4b674055a93ea201b40f9170",
       "version_major": 2,
       "version_minor": 0
      },
      "text/plain": [
       "Training episodes:   0%|          | 0/3 [00:00<?, ?it/s]"
      ]
     },
     "metadata": {},
     "output_type": "display_data"
    },
    {
     "data": {
      "application/vnd.jupyter.widget-view+json": {
       "model_id": "741c79dd4b0a47009b8b9d53ba515df1",
       "version_major": 2,
       "version_minor": 0
      },
      "text/plain": [
       "Training episodes:   0%|          | 0/3 [00:00<?, ?it/s]"
      ]
     },
     "metadata": {},
     "output_type": "display_data"
    },
    {
     "data": {
      "application/vnd.jupyter.widget-view+json": {
       "model_id": "ff916cfd7ac1458ea850ef7d03912a73",
       "version_major": 2,
       "version_minor": 0
      },
      "text/plain": [
       "Training episodes:   0%|          | 0/3 [00:00<?, ?it/s]"
      ]
     },
     "metadata": {},
     "output_type": "display_data"
    },
    {
     "data": {
      "application/vnd.jupyter.widget-view+json": {
       "model_id": "164d3e3b2ef34b72bb66647405fa5b5c",
       "version_major": 2,
       "version_minor": 0
      },
      "text/plain": [
       "Training episodes:   0%|          | 0/3 [00:00<?, ?it/s]"
      ]
     },
     "metadata": {},
     "output_type": "display_data"
    },
    {
     "data": {
      "application/vnd.jupyter.widget-view+json": {
       "model_id": "5a6b5ddff0aa4b65ae409200572d8055",
       "version_major": 2,
       "version_minor": 0
      },
      "text/plain": [
       "Training episodes:   0%|          | 0/3 [00:00<?, ?it/s]"
      ]
     },
     "metadata": {},
     "output_type": "display_data"
    },
    {
     "data": {
      "application/vnd.jupyter.widget-view+json": {
       "model_id": "feeeea0f544e4ab18bb6e9ae532c0b07",
       "version_major": 2,
       "version_minor": 0
      },
      "text/plain": [
       "Training episodes:   0%|          | 0/3 [00:00<?, ?it/s]"
      ]
     },
     "metadata": {},
     "output_type": "display_data"
    },
    {
     "data": {
      "application/vnd.jupyter.widget-view+json": {
       "model_id": "58ca2a92321e48608c997f5fb96807e8",
       "version_major": 2,
       "version_minor": 0
      },
      "text/plain": [
       "Training episodes:   0%|          | 0/3 [00:00<?, ?it/s]"
      ]
     },
     "metadata": {},
     "output_type": "display_data"
    },
    {
     "data": {
      "application/vnd.jupyter.widget-view+json": {
       "model_id": "02f35f35c3bd4328bed06ff4202b47f1",
       "version_major": 2,
       "version_minor": 0
      },
      "text/plain": [
       "Training episodes:   0%|          | 0/3 [00:00<?, ?it/s]"
      ]
     },
     "metadata": {},
     "output_type": "display_data"
    },
    {
     "data": {
      "application/vnd.jupyter.widget-view+json": {
       "model_id": "902d18f175d94bf180198326e607a748",
       "version_major": 2,
       "version_minor": 0
      },
      "text/plain": [
       "Training episodes:   0%|          | 0/3 [00:00<?, ?it/s]"
      ]
     },
     "metadata": {},
     "output_type": "display_data"
    },
    {
     "data": {
      "application/vnd.jupyter.widget-view+json": {
       "model_id": "937f6de15326459b81a3a0b08a707b26",
       "version_major": 2,
       "version_minor": 0
      },
      "text/plain": [
       "Training episodes:   0%|          | 0/3 [00:00<?, ?it/s]"
      ]
     },
     "metadata": {},
     "output_type": "display_data"
    },
    {
     "data": {
      "application/vnd.jupyter.widget-view+json": {
       "model_id": "551a3f519fb44fefb82cbf238329fb75",
       "version_major": 2,
       "version_minor": 0
      },
      "text/plain": [
       "Training episodes:   0%|          | 0/3 [00:00<?, ?it/s]"
      ]
     },
     "metadata": {},
     "output_type": "display_data"
    },
    {
     "data": {
      "application/vnd.jupyter.widget-view+json": {
       "model_id": "eeab9c7b633742d391f18343d877c25f",
       "version_major": 2,
       "version_minor": 0
      },
      "text/plain": [
       "Training episodes:   0%|          | 0/3 [00:00<?, ?it/s]"
      ]
     },
     "metadata": {},
     "output_type": "display_data"
    },
    {
     "data": {
      "application/vnd.jupyter.widget-view+json": {
       "model_id": "8935554d5af64aa5a83d56b19dd295e3",
       "version_major": 2,
       "version_minor": 0
      },
      "text/plain": [
       "Training episodes:   0%|          | 0/3 [00:00<?, ?it/s]"
      ]
     },
     "metadata": {},
     "output_type": "display_data"
    },
    {
     "data": {
      "application/vnd.jupyter.widget-view+json": {
       "model_id": "2302791d144f40c98d65433139ff6e81",
       "version_major": 2,
       "version_minor": 0
      },
      "text/plain": [
       "Training episodes:   0%|          | 0/3 [00:00<?, ?it/s]"
      ]
     },
     "metadata": {},
     "output_type": "display_data"
    },
    {
     "data": {
      "application/vnd.jupyter.widget-view+json": {
       "model_id": "34d4a0a602044009ad70eb052af86cc5",
       "version_major": 2,
       "version_minor": 0
      },
      "text/plain": [
       "Training episodes:   0%|          | 0/3 [00:00<?, ?it/s]"
      ]
     },
     "metadata": {},
     "output_type": "display_data"
    },
    {
     "data": {
      "application/vnd.jupyter.widget-view+json": {
       "model_id": "92c0988817b942f98ef771438ee8bf89",
       "version_major": 2,
       "version_minor": 0
      },
      "text/plain": [
       "Training episodes:   0%|          | 0/3 [00:00<?, ?it/s]"
      ]
     },
     "metadata": {},
     "output_type": "display_data"
    },
    {
     "data": {
      "application/vnd.jupyter.widget-view+json": {
       "model_id": "2df98d62028d4ce694697dbf2f7320a1",
       "version_major": 2,
       "version_minor": 0
      },
      "text/plain": [
       "Training episodes:   0%|          | 0/3 [00:00<?, ?it/s]"
      ]
     },
     "metadata": {},
     "output_type": "display_data"
    },
    {
     "data": {
      "application/vnd.jupyter.widget-view+json": {
       "model_id": "cb07ad90f7a34fd2911260928e013245",
       "version_major": 2,
       "version_minor": 0
      },
      "text/plain": [
       "Training episodes:   0%|          | 0/3 [00:00<?, ?it/s]"
      ]
     },
     "metadata": {},
     "output_type": "display_data"
    },
    {
     "data": {
      "application/vnd.jupyter.widget-view+json": {
       "model_id": "713bb78c15d44fa9a9116f6fc970fb9c",
       "version_major": 2,
       "version_minor": 0
      },
      "text/plain": [
       "Training episodes:   0%|          | 0/3 [00:00<?, ?it/s]"
      ]
     },
     "metadata": {},
     "output_type": "display_data"
    },
    {
     "data": {
      "application/vnd.jupyter.widget-view+json": {
       "model_id": "f8a7082c8b6e47c48a6a03e15510583b",
       "version_major": 2,
       "version_minor": 0
      },
      "text/plain": [
       "Training episodes:   0%|          | 0/3 [00:00<?, ?it/s]"
      ]
     },
     "metadata": {},
     "output_type": "display_data"
    },
    {
     "data": {
      "application/vnd.jupyter.widget-view+json": {
       "model_id": "9fc120d9c25c4ff6bf83cc9f0d2c8ef2",
       "version_major": 2,
       "version_minor": 0
      },
      "text/plain": [
       "Training episodes:   0%|          | 0/3 [00:00<?, ?it/s]"
      ]
     },
     "metadata": {},
     "output_type": "display_data"
    },
    {
     "data": {
      "application/vnd.jupyter.widget-view+json": {
       "model_id": "02ac6d2fb42543b381c63ed267bb3cf6",
       "version_major": 2,
       "version_minor": 0
      },
      "text/plain": [
       "Training episodes:   0%|          | 0/3 [00:00<?, ?it/s]"
      ]
     },
     "metadata": {},
     "output_type": "display_data"
    },
    {
     "data": {
      "application/vnd.jupyter.widget-view+json": {
       "model_id": "c5a1a17fc14c4626aa70fc5edc07d6ac",
       "version_major": 2,
       "version_minor": 0
      },
      "text/plain": [
       "Training episodes:   0%|          | 0/3 [00:00<?, ?it/s]"
      ]
     },
     "metadata": {},
     "output_type": "display_data"
    },
    {
     "data": {
      "application/vnd.jupyter.widget-view+json": {
       "model_id": "f8713b205ebb466c88bc7de729c51627",
       "version_major": 2,
       "version_minor": 0
      },
      "text/plain": [
       "Training episodes:   0%|          | 0/3 [00:00<?, ?it/s]"
      ]
     },
     "metadata": {},
     "output_type": "display_data"
    },
    {
     "data": {
      "application/vnd.jupyter.widget-view+json": {
       "model_id": "44fa49e9d78a411ca7d243cacfe5c4ad",
       "version_major": 2,
       "version_minor": 0
      },
      "text/plain": [
       "Training episodes:   0%|          | 0/3 [00:00<?, ?it/s]"
      ]
     },
     "metadata": {},
     "output_type": "display_data"
    },
    {
     "data": {
      "application/vnd.jupyter.widget-view+json": {
       "model_id": "7d2b15b8406848cab515f5bde41d818c",
       "version_major": 2,
       "version_minor": 0
      },
      "text/plain": [
       "Training episodes:   0%|          | 0/3 [00:00<?, ?it/s]"
      ]
     },
     "metadata": {},
     "output_type": "display_data"
    },
    {
     "data": {
      "application/vnd.jupyter.widget-view+json": {
       "model_id": "b2d5caf30fa04cc7bbaeaeb7d90e4e15",
       "version_major": 2,
       "version_minor": 0
      },
      "text/plain": [
       "Training episodes:   0%|          | 0/3 [00:00<?, ?it/s]"
      ]
     },
     "metadata": {},
     "output_type": "display_data"
    },
    {
     "data": {
      "application/vnd.jupyter.widget-view+json": {
       "model_id": "287492f7f7614ad79b1de1bafe4e07cf",
       "version_major": 2,
       "version_minor": 0
      },
      "text/plain": [
       "Training episodes:   0%|          | 0/3 [00:00<?, ?it/s]"
      ]
     },
     "metadata": {},
     "output_type": "display_data"
    },
    {
     "data": {
      "application/vnd.jupyter.widget-view+json": {
       "model_id": "f63d3766957b476abadcf47d471dfdc5",
       "version_major": 2,
       "version_minor": 0
      },
      "text/plain": [
       "Training episodes:   0%|          | 0/3 [00:00<?, ?it/s]"
      ]
     },
     "metadata": {},
     "output_type": "display_data"
    },
    {
     "data": {
      "application/vnd.jupyter.widget-view+json": {
       "model_id": "0d6c6cb8dd7f41a9b9316f1ed2612b8e",
       "version_major": 2,
       "version_minor": 0
      },
      "text/plain": [
       "Training episodes:   0%|          | 0/3 [00:00<?, ?it/s]"
      ]
     },
     "metadata": {},
     "output_type": "display_data"
    },
    {
     "data": {
      "application/vnd.jupyter.widget-view+json": {
       "model_id": "956acc5b22ad4bf49d12565d0dac40fa",
       "version_major": 2,
       "version_minor": 0
      },
      "text/plain": [
       "Training episodes:   0%|          | 0/3 [00:00<?, ?it/s]"
      ]
     },
     "metadata": {},
     "output_type": "display_data"
    },
    {
     "data": {
      "application/vnd.jupyter.widget-view+json": {
       "model_id": "04cc30add2eb46b39eb4418d6ae6d173",
       "version_major": 2,
       "version_minor": 0
      },
      "text/plain": [
       "Training episodes:   0%|          | 0/3 [00:00<?, ?it/s]"
      ]
     },
     "metadata": {},
     "output_type": "display_data"
    },
    {
     "data": {
      "application/vnd.jupyter.widget-view+json": {
       "model_id": "2b6285d9239d460d9b84ebb2a6a611a5",
       "version_major": 2,
       "version_minor": 0
      },
      "text/plain": [
       "Training episodes:   0%|          | 0/3 [00:00<?, ?it/s]"
      ]
     },
     "metadata": {},
     "output_type": "display_data"
    },
    {
     "data": {
      "application/vnd.jupyter.widget-view+json": {
       "model_id": "b226f6a4baa34d028e67d732c3489f0c",
       "version_major": 2,
       "version_minor": 0
      },
      "text/plain": [
       "Training episodes:   0%|          | 0/3 [00:00<?, ?it/s]"
      ]
     },
     "metadata": {},
     "output_type": "display_data"
    },
    {
     "data": {
      "application/vnd.jupyter.widget-view+json": {
       "model_id": "4e1a6b179bd54cdaa006def738e26ad9",
       "version_major": 2,
       "version_minor": 0
      },
      "text/plain": [
       "Training episodes:   0%|          | 0/3 [00:00<?, ?it/s]"
      ]
     },
     "metadata": {},
     "output_type": "display_data"
    },
    {
     "data": {
      "application/vnd.jupyter.widget-view+json": {
       "model_id": "2ff8409287b44c63abd88b0765721385",
       "version_major": 2,
       "version_minor": 0
      },
      "text/plain": [
       "Training episodes:   0%|          | 0/3 [00:00<?, ?it/s]"
      ]
     },
     "metadata": {},
     "output_type": "display_data"
    },
    {
     "data": {
      "application/vnd.jupyter.widget-view+json": {
       "model_id": "b93f1cdcfc30476782436220dfe59b9b",
       "version_major": 2,
       "version_minor": 0
      },
      "text/plain": [
       "Training episodes:   0%|          | 0/3 [00:00<?, ?it/s]"
      ]
     },
     "metadata": {},
     "output_type": "display_data"
    },
    {
     "data": {
      "application/vnd.jupyter.widget-view+json": {
       "model_id": "4531f50d206544fd9809d68f9fb97a2d",
       "version_major": 2,
       "version_minor": 0
      },
      "text/plain": [
       "Training episodes:   0%|          | 0/3 [00:00<?, ?it/s]"
      ]
     },
     "metadata": {},
     "output_type": "display_data"
    },
    {
     "data": {
      "application/vnd.jupyter.widget-view+json": {
       "model_id": "efb4171508414afe81a63fa9e4ffa632",
       "version_major": 2,
       "version_minor": 0
      },
      "text/plain": [
       "Training episodes:   0%|          | 0/3 [00:00<?, ?it/s]"
      ]
     },
     "metadata": {},
     "output_type": "display_data"
    },
    {
     "data": {
      "application/vnd.jupyter.widget-view+json": {
       "model_id": "e873be99aefd4e54926a4ee40d5523c4",
       "version_major": 2,
       "version_minor": 0
      },
      "text/plain": [
       "Training episodes:   0%|          | 0/3 [00:00<?, ?it/s]"
      ]
     },
     "metadata": {},
     "output_type": "display_data"
    },
    {
     "data": {
      "application/vnd.jupyter.widget-view+json": {
       "model_id": "3e264639f1564698aafee386f42b5005",
       "version_major": 2,
       "version_minor": 0
      },
      "text/plain": [
       "Training episodes:   0%|          | 0/3 [00:00<?, ?it/s]"
      ]
     },
     "metadata": {},
     "output_type": "display_data"
    },
    {
     "data": {
      "application/vnd.jupyter.widget-view+json": {
       "model_id": "97bb709465064673ae0580eb8873e2c5",
       "version_major": 2,
       "version_minor": 0
      },
      "text/plain": [
       "Training episodes:   0%|          | 0/3 [00:00<?, ?it/s]"
      ]
     },
     "metadata": {},
     "output_type": "display_data"
    },
    {
     "data": {
      "application/vnd.jupyter.widget-view+json": {
       "model_id": "25570c811be14f518dd13520ebef23fe",
       "version_major": 2,
       "version_minor": 0
      },
      "text/plain": [
       "Training episodes:   0%|          | 0/3 [00:00<?, ?it/s]"
      ]
     },
     "metadata": {},
     "output_type": "display_data"
    },
    {
     "data": {
      "application/vnd.jupyter.widget-view+json": {
       "model_id": "1f524aae1f794fd0a6b5e8932b0ae9da",
       "version_major": 2,
       "version_minor": 0
      },
      "text/plain": [
       "Training episodes:   0%|          | 0/3 [00:00<?, ?it/s]"
      ]
     },
     "metadata": {},
     "output_type": "display_data"
    },
    {
     "data": {
      "application/vnd.jupyter.widget-view+json": {
       "model_id": "a56bf922d4a74aceae5dabac20bd65aa",
       "version_major": 2,
       "version_minor": 0
      },
      "text/plain": [
       "Training episodes:   0%|          | 0/3 [00:00<?, ?it/s]"
      ]
     },
     "metadata": {},
     "output_type": "display_data"
    },
    {
     "data": {
      "application/vnd.jupyter.widget-view+json": {
       "model_id": "97a1ddccb10d42188b5c5789ff72c556",
       "version_major": 2,
       "version_minor": 0
      },
      "text/plain": [
       "Training episodes:   0%|          | 0/3 [00:00<?, ?it/s]"
      ]
     },
     "metadata": {},
     "output_type": "display_data"
    },
    {
     "data": {
      "application/vnd.jupyter.widget-view+json": {
       "model_id": "6463606187dd4f4c9e5d285d61e455c8",
       "version_major": 2,
       "version_minor": 0
      },
      "text/plain": [
       "Training episodes:   0%|          | 0/3 [00:00<?, ?it/s]"
      ]
     },
     "metadata": {},
     "output_type": "display_data"
    },
    {
     "data": {
      "application/vnd.jupyter.widget-view+json": {
       "model_id": "efc22b45072749bb99115d1c76d4c0f2",
       "version_major": 2,
       "version_minor": 0
      },
      "text/plain": [
       "Training episodes:   0%|          | 0/3 [00:00<?, ?it/s]"
      ]
     },
     "metadata": {},
     "output_type": "display_data"
    },
    {
     "data": {
      "application/vnd.jupyter.widget-view+json": {
       "model_id": "b9944d0a7097489ebf581ceae0b6cbd1",
       "version_major": 2,
       "version_minor": 0
      },
      "text/plain": [
       "Training episodes:   0%|          | 0/3 [00:00<?, ?it/s]"
      ]
     },
     "metadata": {},
     "output_type": "display_data"
    },
    {
     "data": {
      "application/vnd.jupyter.widget-view+json": {
       "model_id": "5dd486cda74242829c760c0e613e5f57",
       "version_major": 2,
       "version_minor": 0
      },
      "text/plain": [
       "Training episodes:   0%|          | 0/3 [00:00<?, ?it/s]"
      ]
     },
     "metadata": {},
     "output_type": "display_data"
    },
    {
     "data": {
      "application/vnd.jupyter.widget-view+json": {
       "model_id": "04fdbba63e07416baffde62d1f7b8439",
       "version_major": 2,
       "version_minor": 0
      },
      "text/plain": [
       "Training episodes:   0%|          | 0/3 [00:00<?, ?it/s]"
      ]
     },
     "metadata": {},
     "output_type": "display_data"
    },
    {
     "data": {
      "application/vnd.jupyter.widget-view+json": {
       "model_id": "ff4a51dd955f4d1eb7f930c6fd65908f",
       "version_major": 2,
       "version_minor": 0
      },
      "text/plain": [
       "Training episodes:   0%|          | 0/3 [00:00<?, ?it/s]"
      ]
     },
     "metadata": {},
     "output_type": "display_data"
    },
    {
     "data": {
      "application/vnd.jupyter.widget-view+json": {
       "model_id": "dc72bae1c02147dbb6cf37cc100a27a9",
       "version_major": 2,
       "version_minor": 0
      },
      "text/plain": [
       "Training episodes:   0%|          | 0/3 [00:00<?, ?it/s]"
      ]
     },
     "metadata": {},
     "output_type": "display_data"
    },
    {
     "data": {
      "application/vnd.jupyter.widget-view+json": {
       "model_id": "a26b2dfa01e044588cd0c2516bd75137",
       "version_major": 2,
       "version_minor": 0
      },
      "text/plain": [
       "Training episodes:   0%|          | 0/3 [00:00<?, ?it/s]"
      ]
     },
     "metadata": {},
     "output_type": "display_data"
    },
    {
     "data": {
      "application/vnd.jupyter.widget-view+json": {
       "model_id": "e1313b5dbd834f1683345f5170e3dbd1",
       "version_major": 2,
       "version_minor": 0
      },
      "text/plain": [
       "Training episodes:   0%|          | 0/3 [00:00<?, ?it/s]"
      ]
     },
     "metadata": {},
     "output_type": "display_data"
    },
    {
     "data": {
      "application/vnd.jupyter.widget-view+json": {
       "model_id": "e9283c5200584c51bdf58f64816eaa65",
       "version_major": 2,
       "version_minor": 0
      },
      "text/plain": [
       "Training episodes:   0%|          | 0/3 [00:00<?, ?it/s]"
      ]
     },
     "metadata": {},
     "output_type": "display_data"
    },
    {
     "data": {
      "application/vnd.jupyter.widget-view+json": {
       "model_id": "196046ac209b40f59e46758ba2dd7fc5",
       "version_major": 2,
       "version_minor": 0
      },
      "text/plain": [
       "Training episodes:   0%|          | 0/3 [00:00<?, ?it/s]"
      ]
     },
     "metadata": {},
     "output_type": "display_data"
    },
    {
     "data": {
      "application/vnd.jupyter.widget-view+json": {
       "model_id": "e6d60c2cc2e04f229bb53e2b9b723131",
       "version_major": 2,
       "version_minor": 0
      },
      "text/plain": [
       "Training episodes:   0%|          | 0/3 [00:00<?, ?it/s]"
      ]
     },
     "metadata": {},
     "output_type": "display_data"
    },
    {
     "data": {
      "application/vnd.jupyter.widget-view+json": {
       "model_id": "a8756c17e39e426fb5983f11550477d7",
       "version_major": 2,
       "version_minor": 0
      },
      "text/plain": [
       "Training episodes:   0%|          | 0/3 [00:00<?, ?it/s]"
      ]
     },
     "metadata": {},
     "output_type": "display_data"
    },
    {
     "data": {
      "application/vnd.jupyter.widget-view+json": {
       "model_id": "979c6bd7c29e4efaadf59bd948f19cc6",
       "version_major": 2,
       "version_minor": 0
      },
      "text/plain": [
       "Training episodes:   0%|          | 0/3 [00:00<?, ?it/s]"
      ]
     },
     "metadata": {},
     "output_type": "display_data"
    },
    {
     "data": {
      "application/vnd.jupyter.widget-view+json": {
       "model_id": "2b736f30693a446885d27fdaee46ff01",
       "version_major": 2,
       "version_minor": 0
      },
      "text/plain": [
       "Training episodes:   0%|          | 0/3 [00:00<?, ?it/s]"
      ]
     },
     "metadata": {},
     "output_type": "display_data"
    },
    {
     "data": {
      "application/vnd.jupyter.widget-view+json": {
       "model_id": "e10d116ffff04aebb16e546035ae3c0a",
       "version_major": 2,
       "version_minor": 0
      },
      "text/plain": [
       "Training episodes:   0%|          | 0/3 [00:00<?, ?it/s]"
      ]
     },
     "metadata": {},
     "output_type": "display_data"
    },
    {
     "data": {
      "application/vnd.jupyter.widget-view+json": {
       "model_id": "43cdd55d00b1459fb1e78917f6b623ef",
       "version_major": 2,
       "version_minor": 0
      },
      "text/plain": [
       "Training episodes:   0%|          | 0/3 [00:00<?, ?it/s]"
      ]
     },
     "metadata": {},
     "output_type": "display_data"
    },
    {
     "data": {
      "application/vnd.jupyter.widget-view+json": {
       "model_id": "c01d43c928ac4a9881c154ac99ac7769",
       "version_major": 2,
       "version_minor": 0
      },
      "text/plain": [
       "Training episodes:   0%|          | 0/3 [00:00<?, ?it/s]"
      ]
     },
     "metadata": {},
     "output_type": "display_data"
    },
    {
     "data": {
      "application/vnd.jupyter.widget-view+json": {
       "model_id": "27db1a4d033a46a5a97c8cc3ba15361b",
       "version_major": 2,
       "version_minor": 0
      },
      "text/plain": [
       "Training episodes:   0%|          | 0/3 [00:00<?, ?it/s]"
      ]
     },
     "metadata": {},
     "output_type": "display_data"
    },
    {
     "data": {
      "application/vnd.jupyter.widget-view+json": {
       "model_id": "e24700907c78451f8b7675a26a136535",
       "version_major": 2,
       "version_minor": 0
      },
      "text/plain": [
       "Training episodes:   0%|          | 0/3 [00:00<?, ?it/s]"
      ]
     },
     "metadata": {},
     "output_type": "display_data"
    },
    {
     "data": {
      "application/vnd.jupyter.widget-view+json": {
       "model_id": "a01d18fbb40c401989602375be6a72ea",
       "version_major": 2,
       "version_minor": 0
      },
      "text/plain": [
       "Training episodes:   0%|          | 0/3 [00:00<?, ?it/s]"
      ]
     },
     "metadata": {},
     "output_type": "display_data"
    },
    {
     "data": {
      "application/vnd.jupyter.widget-view+json": {
       "model_id": "ea36ed90a4cc445790faed186c87bd4e",
       "version_major": 2,
       "version_minor": 0
      },
      "text/plain": [
       "Training episodes:   0%|          | 0/3 [00:00<?, ?it/s]"
      ]
     },
     "metadata": {},
     "output_type": "display_data"
    },
    {
     "data": {
      "application/vnd.jupyter.widget-view+json": {
       "model_id": "93f0c53a4df6448bb17aeb9cc40e1eb3",
       "version_major": 2,
       "version_minor": 0
      },
      "text/plain": [
       "Training episodes:   0%|          | 0/3 [00:00<?, ?it/s]"
      ]
     },
     "metadata": {},
     "output_type": "display_data"
    },
    {
     "data": {
      "application/vnd.jupyter.widget-view+json": {
       "model_id": "fd4f5f08dc6c4a0f8ba8c389270269d7",
       "version_major": 2,
       "version_minor": 0
      },
      "text/plain": [
       "Training episodes:   0%|          | 0/3 [00:00<?, ?it/s]"
      ]
     },
     "metadata": {},
     "output_type": "display_data"
    },
    {
     "data": {
      "application/vnd.jupyter.widget-view+json": {
       "model_id": "e1f717b9b7b84802af7f4f74f2e9f5fc",
       "version_major": 2,
       "version_minor": 0
      },
      "text/plain": [
       "Training episodes:   0%|          | 0/3 [00:00<?, ?it/s]"
      ]
     },
     "metadata": {},
     "output_type": "display_data"
    },
    {
     "data": {
      "application/vnd.jupyter.widget-view+json": {
       "model_id": "a89700f46c8e42ba98ecb7c70625e729",
       "version_major": 2,
       "version_minor": 0
      },
      "text/plain": [
       "Training episodes:   0%|          | 0/3 [00:00<?, ?it/s]"
      ]
     },
     "metadata": {},
     "output_type": "display_data"
    },
    {
     "data": {
      "application/vnd.jupyter.widget-view+json": {
       "model_id": "08fdf76dc80e44f4b3daa9a3077203a0",
       "version_major": 2,
       "version_minor": 0
      },
      "text/plain": [
       "Training episodes:   0%|          | 0/3 [00:00<?, ?it/s]"
      ]
     },
     "metadata": {},
     "output_type": "display_data"
    },
    {
     "data": {
      "application/vnd.jupyter.widget-view+json": {
       "model_id": "dd89b9685f544f7885d28263802b3d84",
       "version_major": 2,
       "version_minor": 0
      },
      "text/plain": [
       "Training episodes:   0%|          | 0/3 [00:00<?, ?it/s]"
      ]
     },
     "metadata": {},
     "output_type": "display_data"
    },
    {
     "data": {
      "application/vnd.jupyter.widget-view+json": {
       "model_id": "14c365efab9f41e0a994f9597e16e185",
       "version_major": 2,
       "version_minor": 0
      },
      "text/plain": [
       "Training episodes:   0%|          | 0/3 [00:00<?, ?it/s]"
      ]
     },
     "metadata": {},
     "output_type": "display_data"
    },
    {
     "data": {
      "application/vnd.jupyter.widget-view+json": {
       "model_id": "7ed4470fb6d24cfe82bc6ab00d9b05b2",
       "version_major": 2,
       "version_minor": 0
      },
      "text/plain": [
       "Training episodes:   0%|          | 0/3 [00:00<?, ?it/s]"
      ]
     },
     "metadata": {},
     "output_type": "display_data"
    },
    {
     "data": {
      "application/vnd.jupyter.widget-view+json": {
       "model_id": "129b527347b645c2b646218fb712801e",
       "version_major": 2,
       "version_minor": 0
      },
      "text/plain": [
       "Training episodes:   0%|          | 0/3 [00:00<?, ?it/s]"
      ]
     },
     "metadata": {},
     "output_type": "display_data"
    },
    {
     "data": {
      "application/vnd.jupyter.widget-view+json": {
       "model_id": "fb71f9baf3b84c0ebfbfcb1c6de00ac1",
       "version_major": 2,
       "version_minor": 0
      },
      "text/plain": [
       "Training episodes:   0%|          | 0/3 [00:00<?, ?it/s]"
      ]
     },
     "metadata": {},
     "output_type": "display_data"
    },
    {
     "data": {
      "application/vnd.jupyter.widget-view+json": {
       "model_id": "fe6076fcd9454eea95c58dcbab7172e5",
       "version_major": 2,
       "version_minor": 0
      },
      "text/plain": [
       "Training episodes:   0%|          | 0/3 [00:00<?, ?it/s]"
      ]
     },
     "metadata": {},
     "output_type": "display_data"
    },
    {
     "data": {
      "application/vnd.jupyter.widget-view+json": {
       "model_id": "fc73b127bcec4f0c86dd26e8a4f57747",
       "version_major": 2,
       "version_minor": 0
      },
      "text/plain": [
       "Training episodes:   0%|          | 0/3 [00:00<?, ?it/s]"
      ]
     },
     "metadata": {},
     "output_type": "display_data"
    },
    {
     "data": {
      "application/vnd.jupyter.widget-view+json": {
       "model_id": "9c56774f40034526a2d63ab575d9a4c5",
       "version_major": 2,
       "version_minor": 0
      },
      "text/plain": [
       "Training episodes:   0%|          | 0/3 [00:00<?, ?it/s]"
      ]
     },
     "metadata": {},
     "output_type": "display_data"
    },
    {
     "data": {
      "application/vnd.jupyter.widget-view+json": {
       "model_id": "f3a688dbd29c4b0287e039d4b14cda1f",
       "version_major": 2,
       "version_minor": 0
      },
      "text/plain": [
       "Training episodes:   0%|          | 0/3 [00:00<?, ?it/s]"
      ]
     },
     "metadata": {},
     "output_type": "display_data"
    },
    {
     "data": {
      "application/vnd.jupyter.widget-view+json": {
       "model_id": "1cab8abbc5bb494da5c11a48286c3484",
       "version_major": 2,
       "version_minor": 0
      },
      "text/plain": [
       "Training episodes:   0%|          | 0/3 [00:00<?, ?it/s]"
      ]
     },
     "metadata": {},
     "output_type": "display_data"
    },
    {
     "data": {
      "application/vnd.jupyter.widget-view+json": {
       "model_id": "2e9b35f8e16349c8833af56185e2b734",
       "version_major": 2,
       "version_minor": 0
      },
      "text/plain": [
       "Training episodes:   0%|          | 0/3 [00:00<?, ?it/s]"
      ]
     },
     "metadata": {},
     "output_type": "display_data"
    },
    {
     "data": {
      "application/vnd.jupyter.widget-view+json": {
       "model_id": "cd91d149a2d14605af21070e4cc70906",
       "version_major": 2,
       "version_minor": 0
      },
      "text/plain": [
       "Training episodes:   0%|          | 0/3 [00:00<?, ?it/s]"
      ]
     },
     "metadata": {},
     "output_type": "display_data"
    },
    {
     "data": {
      "application/vnd.jupyter.widget-view+json": {
       "model_id": "751fe902cb044623b2a1c8a45eebe1f8",
       "version_major": 2,
       "version_minor": 0
      },
      "text/plain": [
       "Training episodes:   0%|          | 0/3 [00:00<?, ?it/s]"
      ]
     },
     "metadata": {},
     "output_type": "display_data"
    },
    {
     "data": {
      "application/vnd.jupyter.widget-view+json": {
       "model_id": "fee5639055fb4029911a4fe101b271c3",
       "version_major": 2,
       "version_minor": 0
      },
      "text/plain": [
       "Training episodes:   0%|          | 0/3 [00:00<?, ?it/s]"
      ]
     },
     "metadata": {},
     "output_type": "display_data"
    },
    {
     "data": {
      "application/vnd.jupyter.widget-view+json": {
       "model_id": "0dceea54da794cbc907c2113b7999c3e",
       "version_major": 2,
       "version_minor": 0
      },
      "text/plain": [
       "Training episodes:   0%|          | 0/3 [00:00<?, ?it/s]"
      ]
     },
     "metadata": {},
     "output_type": "display_data"
    },
    {
     "data": {
      "application/vnd.jupyter.widget-view+json": {
       "model_id": "43f2f08fcb0a413f88413eda26b22c41",
       "version_major": 2,
       "version_minor": 0
      },
      "text/plain": [
       "Training episodes:   0%|          | 0/3 [00:00<?, ?it/s]"
      ]
     },
     "metadata": {},
     "output_type": "display_data"
    },
    {
     "data": {
      "application/vnd.jupyter.widget-view+json": {
       "model_id": "9d28480094f54016928760e453b49b16",
       "version_major": 2,
       "version_minor": 0
      },
      "text/plain": [
       "Training episodes:   0%|          | 0/3 [00:00<?, ?it/s]"
      ]
     },
     "metadata": {},
     "output_type": "display_data"
    },
    {
     "data": {
      "application/vnd.jupyter.widget-view+json": {
       "model_id": "852dec65cad242cead8646a734c0208e",
       "version_major": 2,
       "version_minor": 0
      },
      "text/plain": [
       "Training episodes:   0%|          | 0/3 [00:00<?, ?it/s]"
      ]
     },
     "metadata": {},
     "output_type": "display_data"
    },
    {
     "data": {
      "application/vnd.jupyter.widget-view+json": {
       "model_id": "41da1e64182f412bb916b1017068ecc8",
       "version_major": 2,
       "version_minor": 0
      },
      "text/plain": [
       "Training episodes:   0%|          | 0/3 [00:00<?, ?it/s]"
      ]
     },
     "metadata": {},
     "output_type": "display_data"
    },
    {
     "data": {
      "application/vnd.jupyter.widget-view+json": {
       "model_id": "c90a5c9f82204fcca23bbc92935d47d3",
       "version_major": 2,
       "version_minor": 0
      },
      "text/plain": [
       "Training episodes:   0%|          | 0/3 [00:00<?, ?it/s]"
      ]
     },
     "metadata": {},
     "output_type": "display_data"
    },
    {
     "data": {
      "application/vnd.jupyter.widget-view+json": {
       "model_id": "aafcaf972b2a4181bb71d98aa5a2d36f",
       "version_major": 2,
       "version_minor": 0
      },
      "text/plain": [
       "Training episodes:   0%|          | 0/3 [00:00<?, ?it/s]"
      ]
     },
     "metadata": {},
     "output_type": "display_data"
    },
    {
     "data": {
      "application/vnd.jupyter.widget-view+json": {
       "model_id": "41235d41ae604abf8f9ee2b39b991ac5",
       "version_major": 2,
       "version_minor": 0
      },
      "text/plain": [
       "Training episodes:   0%|          | 0/3 [00:00<?, ?it/s]"
      ]
     },
     "metadata": {},
     "output_type": "display_data"
    },
    {
     "data": {
      "application/vnd.jupyter.widget-view+json": {
       "model_id": "d8005ab507394270b437d3d72c9edf0c",
       "version_major": 2,
       "version_minor": 0
      },
      "text/plain": [
       "Training episodes:   0%|          | 0/3 [00:00<?, ?it/s]"
      ]
     },
     "metadata": {},
     "output_type": "display_data"
    },
    {
     "data": {
      "application/vnd.jupyter.widget-view+json": {
       "model_id": "16664742f41141d18fd58533a3d1fa5d",
       "version_major": 2,
       "version_minor": 0
      },
      "text/plain": [
       "Training episodes:   0%|          | 0/3 [00:00<?, ?it/s]"
      ]
     },
     "metadata": {},
     "output_type": "display_data"
    },
    {
     "data": {
      "application/vnd.jupyter.widget-view+json": {
       "model_id": "2b48f954672049c0a6ff4551760e554c",
       "version_major": 2,
       "version_minor": 0
      },
      "text/plain": [
       "Training episodes:   0%|          | 0/3 [00:00<?, ?it/s]"
      ]
     },
     "metadata": {},
     "output_type": "display_data"
    },
    {
     "data": {
      "application/vnd.jupyter.widget-view+json": {
       "model_id": "644f9cd7af6f41979acb8d64f0d2a8d3",
       "version_major": 2,
       "version_minor": 0
      },
      "text/plain": [
       "seeds:   0%|          | 0/30 [00:00<?, ?it/s]"
      ]
     },
     "metadata": {},
     "output_type": "display_data"
    },
    {
     "data": {
      "application/vnd.jupyter.widget-view+json": {
       "model_id": "9c42a7a2ea2043e7847bdb9efabf7d99",
       "version_major": 2,
       "version_minor": 0
      },
      "text/plain": [
       "Training episodes:   0%|          | 0/3 [00:00<?, ?it/s]"
      ]
     },
     "metadata": {},
     "output_type": "display_data"
    },
    {
     "data": {
      "application/vnd.jupyter.widget-view+json": {
       "model_id": "1ab489f1694a4329b017004276553e57",
       "version_major": 2,
       "version_minor": 0
      },
      "text/plain": [
       "Training episodes:   0%|          | 0/3 [00:00<?, ?it/s]"
      ]
     },
     "metadata": {},
     "output_type": "display_data"
    },
    {
     "data": {
      "application/vnd.jupyter.widget-view+json": {
       "model_id": "3d4c610680464d8d82bd0f305d5d122e",
       "version_major": 2,
       "version_minor": 0
      },
      "text/plain": [
       "Training episodes:   0%|          | 0/3 [00:00<?, ?it/s]"
      ]
     },
     "metadata": {},
     "output_type": "display_data"
    },
    {
     "data": {
      "application/vnd.jupyter.widget-view+json": {
       "model_id": "41671ad4c15147cb95d8c6e3116b6a40",
       "version_major": 2,
       "version_minor": 0
      },
      "text/plain": [
       "Training episodes:   0%|          | 0/3 [00:00<?, ?it/s]"
      ]
     },
     "metadata": {},
     "output_type": "display_data"
    },
    {
     "data": {
      "application/vnd.jupyter.widget-view+json": {
       "model_id": "e4903295ee4b4e2abd79450adbd7eae7",
       "version_major": 2,
       "version_minor": 0
      },
      "text/plain": [
       "Training episodes:   0%|          | 0/3 [00:00<?, ?it/s]"
      ]
     },
     "metadata": {},
     "output_type": "display_data"
    },
    {
     "data": {
      "application/vnd.jupyter.widget-view+json": {
       "model_id": "23f35dd832c540dca861017031dc06e7",
       "version_major": 2,
       "version_minor": 0
      },
      "text/plain": [
       "Training episodes:   0%|          | 0/3 [00:00<?, ?it/s]"
      ]
     },
     "metadata": {},
     "output_type": "display_data"
    },
    {
     "data": {
      "application/vnd.jupyter.widget-view+json": {
       "model_id": "2c8d97a428494dd9aebff69185b88999",
       "version_major": 2,
       "version_minor": 0
      },
      "text/plain": [
       "Training episodes:   0%|          | 0/3 [00:00<?, ?it/s]"
      ]
     },
     "metadata": {},
     "output_type": "display_data"
    },
    {
     "data": {
      "application/vnd.jupyter.widget-view+json": {
       "model_id": "ae0eb90512384ced9c7d715324acf97b",
       "version_major": 2,
       "version_minor": 0
      },
      "text/plain": [
       "Training episodes:   0%|          | 0/3 [00:00<?, ?it/s]"
      ]
     },
     "metadata": {},
     "output_type": "display_data"
    },
    {
     "data": {
      "application/vnd.jupyter.widget-view+json": {
       "model_id": "b0397b2bc70a402bb5901f4bcbf10d5c",
       "version_major": 2,
       "version_minor": 0
      },
      "text/plain": [
       "Training episodes:   0%|          | 0/3 [00:00<?, ?it/s]"
      ]
     },
     "metadata": {},
     "output_type": "display_data"
    },
    {
     "data": {
      "application/vnd.jupyter.widget-view+json": {
       "model_id": "daefd3994e4144ecbfe1aacc824a772b",
       "version_major": 2,
       "version_minor": 0
      },
      "text/plain": [
       "Training episodes:   0%|          | 0/3 [00:00<?, ?it/s]"
      ]
     },
     "metadata": {},
     "output_type": "display_data"
    },
    {
     "data": {
      "application/vnd.jupyter.widget-view+json": {
       "model_id": "d6b27fc47c3b49a9bc01fd2089c8d2aa",
       "version_major": 2,
       "version_minor": 0
      },
      "text/plain": [
       "Training episodes:   0%|          | 0/3 [00:00<?, ?it/s]"
      ]
     },
     "metadata": {},
     "output_type": "display_data"
    },
    {
     "data": {
      "application/vnd.jupyter.widget-view+json": {
       "model_id": "2c4cabea83644b83adff51a5d3c36263",
       "version_major": 2,
       "version_minor": 0
      },
      "text/plain": [
       "Training episodes:   0%|          | 0/3 [00:00<?, ?it/s]"
      ]
     },
     "metadata": {},
     "output_type": "display_data"
    },
    {
     "data": {
      "application/vnd.jupyter.widget-view+json": {
       "model_id": "d70218a8365d4744a54252b265e46c44",
       "version_major": 2,
       "version_minor": 0
      },
      "text/plain": [
       "Training episodes:   0%|          | 0/3 [00:00<?, ?it/s]"
      ]
     },
     "metadata": {},
     "output_type": "display_data"
    },
    {
     "data": {
      "application/vnd.jupyter.widget-view+json": {
       "model_id": "e407c4b4ad504dd4acb22bc5500d04d1",
       "version_major": 2,
       "version_minor": 0
      },
      "text/plain": [
       "Training episodes:   0%|          | 0/3 [00:00<?, ?it/s]"
      ]
     },
     "metadata": {},
     "output_type": "display_data"
    },
    {
     "name": "stdout",
     "output_type": "stream",
     "text": [
      "[I 2025-03-04 13:00:37,374] Trial 2 finished with value: 1912.7412644624676 and parameters: {'learning_rate': 2.582024849444009e-05, 'n_steps': 429, 'batch_size': 154, 'gae_lambda': 0.837220732795052, 'ent_coef': 0.007396087261032374, 'vf_coef': 0.5502673435551507, 'clip_range': 0.2503830644646013, 'max_grad_norm': 0.8013788795893468}. Best is trial 2 with value: 1912.7412644624676.\n"
     ]
    },
    {
     "data": {
      "application/vnd.jupyter.widget-view+json": {
       "model_id": "d0f2b9a0ab4e46b3beda17a48698977a",
       "version_major": 2,
       "version_minor": 0
      },
      "text/plain": [
       "seeds:   0%|          | 0/30 [00:00<?, ?it/s]"
      ]
     },
     "metadata": {},
     "output_type": "display_data"
    },
    {
     "data": {
      "application/vnd.jupyter.widget-view+json": {
       "model_id": "efd0ad79e1bf43708d8c2f92832d3eb5",
       "version_major": 2,
       "version_minor": 0
      },
      "text/plain": [
       "Training episodes:   0%|          | 0/3 [00:00<?, ?it/s]"
      ]
     },
     "metadata": {},
     "output_type": "display_data"
    },
    {
     "data": {
      "application/vnd.jupyter.widget-view+json": {
       "model_id": "037850f801eb45468f9f5bcf2929f3ff",
       "version_major": 2,
       "version_minor": 0
      },
      "text/plain": [
       "Training episodes:   0%|          | 0/3 [00:00<?, ?it/s]"
      ]
     },
     "metadata": {},
     "output_type": "display_data"
    },
    {
     "data": {
      "application/vnd.jupyter.widget-view+json": {
       "model_id": "a37be91baad04112aaabcd33a0b6633e",
       "version_major": 2,
       "version_minor": 0
      },
      "text/plain": [
       "Training episodes:   0%|          | 0/3 [00:00<?, ?it/s]"
      ]
     },
     "metadata": {},
     "output_type": "display_data"
    },
    {
     "data": {
      "application/vnd.jupyter.widget-view+json": {
       "model_id": "a767ab162f714e719ae52727ebe7f0e8",
       "version_major": 2,
       "version_minor": 0
      },
      "text/plain": [
       "Training episodes:   0%|          | 0/3 [00:00<?, ?it/s]"
      ]
     },
     "metadata": {},
     "output_type": "display_data"
    },
    {
     "data": {
      "application/vnd.jupyter.widget-view+json": {
       "model_id": "9022dc5147ff43a886a7e8cb3235a70e",
       "version_major": 2,
       "version_minor": 0
      },
      "text/plain": [
       "Training episodes:   0%|          | 0/3 [00:00<?, ?it/s]"
      ]
     },
     "metadata": {},
     "output_type": "display_data"
    },
    {
     "data": {
      "application/vnd.jupyter.widget-view+json": {
       "model_id": "02ac2a3468544598bd22416914e7deb8",
       "version_major": 2,
       "version_minor": 0
      },
      "text/plain": [
       "Training episodes:   0%|          | 0/3 [00:00<?, ?it/s]"
      ]
     },
     "metadata": {},
     "output_type": "display_data"
    },
    {
     "data": {
      "application/vnd.jupyter.widget-view+json": {
       "model_id": "cbd2f105d0f34c8bb28958b401f28457",
       "version_major": 2,
       "version_minor": 0
      },
      "text/plain": [
       "Training episodes:   0%|          | 0/3 [00:00<?, ?it/s]"
      ]
     },
     "metadata": {},
     "output_type": "display_data"
    },
    {
     "data": {
      "application/vnd.jupyter.widget-view+json": {
       "model_id": "2a32d5c36f9c40fe8eb5e8cad96ea16b",
       "version_major": 2,
       "version_minor": 0
      },
      "text/plain": [
       "Training episodes:   0%|          | 0/3 [00:00<?, ?it/s]"
      ]
     },
     "metadata": {},
     "output_type": "display_data"
    },
    {
     "data": {
      "application/vnd.jupyter.widget-view+json": {
       "model_id": "30745b52ab1d4292aa6cb7ab050df6ad",
       "version_major": 2,
       "version_minor": 0
      },
      "text/plain": [
       "Training episodes:   0%|          | 0/3 [00:00<?, ?it/s]"
      ]
     },
     "metadata": {},
     "output_type": "display_data"
    },
    {
     "data": {
      "application/vnd.jupyter.widget-view+json": {
       "model_id": "9be755e07c764383b34fde3bfd832e1d",
       "version_major": 2,
       "version_minor": 0
      },
      "text/plain": [
       "Training episodes:   0%|          | 0/3 [00:00<?, ?it/s]"
      ]
     },
     "metadata": {},
     "output_type": "display_data"
    },
    {
     "data": {
      "application/vnd.jupyter.widget-view+json": {
       "model_id": "ad8c2a2009604a28a89c6a28425e5ade",
       "version_major": 2,
       "version_minor": 0
      },
      "text/plain": [
       "Training episodes:   0%|          | 0/3 [00:00<?, ?it/s]"
      ]
     },
     "metadata": {},
     "output_type": "display_data"
    },
    {
     "data": {
      "application/vnd.jupyter.widget-view+json": {
       "model_id": "b4aca7d956664e81a73700c97e872c27",
       "version_major": 2,
       "version_minor": 0
      },
      "text/plain": [
       "Training episodes:   0%|          | 0/3 [00:00<?, ?it/s]"
      ]
     },
     "metadata": {},
     "output_type": "display_data"
    },
    {
     "data": {
      "application/vnd.jupyter.widget-view+json": {
       "model_id": "21071d4b959b4959addb729505fd1be4",
       "version_major": 2,
       "version_minor": 0
      },
      "text/plain": [
       "Training episodes:   0%|          | 0/3 [00:00<?, ?it/s]"
      ]
     },
     "metadata": {},
     "output_type": "display_data"
    },
    {
     "data": {
      "application/vnd.jupyter.widget-view+json": {
       "model_id": "a71100d7e59741ebb23c1f4fb4cfd15e",
       "version_major": 2,
       "version_minor": 0
      },
      "text/plain": [
       "Training episodes:   0%|          | 0/3 [00:00<?, ?it/s]"
      ]
     },
     "metadata": {},
     "output_type": "display_data"
    },
    {
     "data": {
      "application/vnd.jupyter.widget-view+json": {
       "model_id": "b41b1a5169b04b27afbab6606aa94c62",
       "version_major": 2,
       "version_minor": 0
      },
      "text/plain": [
       "Training episodes:   0%|          | 0/3 [00:00<?, ?it/s]"
      ]
     },
     "metadata": {},
     "output_type": "display_data"
    },
    {
     "data": {
      "application/vnd.jupyter.widget-view+json": {
       "model_id": "fdc588cb5ca443c3aa479b6a20856d96",
       "version_major": 2,
       "version_minor": 0
      },
      "text/plain": [
       "Training episodes:   0%|          | 0/3 [00:00<?, ?it/s]"
      ]
     },
     "metadata": {},
     "output_type": "display_data"
    },
    {
     "data": {
      "application/vnd.jupyter.widget-view+json": {
       "model_id": "0cd455abc2344defb208d90f8a9f2002",
       "version_major": 2,
       "version_minor": 0
      },
      "text/plain": [
       "Training episodes:   0%|          | 0/3 [00:00<?, ?it/s]"
      ]
     },
     "metadata": {},
     "output_type": "display_data"
    },
    {
     "data": {
      "application/vnd.jupyter.widget-view+json": {
       "model_id": "80de9da6963541928db910c945fe02bb",
       "version_major": 2,
       "version_minor": 0
      },
      "text/plain": [
       "Training episodes:   0%|          | 0/3 [00:00<?, ?it/s]"
      ]
     },
     "metadata": {},
     "output_type": "display_data"
    },
    {
     "data": {
      "application/vnd.jupyter.widget-view+json": {
       "model_id": "7437c883389f4793b67bc936cdc3eeba",
       "version_major": 2,
       "version_minor": 0
      },
      "text/plain": [
       "Training episodes:   0%|          | 0/3 [00:00<?, ?it/s]"
      ]
     },
     "metadata": {},
     "output_type": "display_data"
    },
    {
     "data": {
      "application/vnd.jupyter.widget-view+json": {
       "model_id": "3da201ff159b40ef9a3df8ff13e7c363",
       "version_major": 2,
       "version_minor": 0
      },
      "text/plain": [
       "Training episodes:   0%|          | 0/3 [00:00<?, ?it/s]"
      ]
     },
     "metadata": {},
     "output_type": "display_data"
    },
    {
     "data": {
      "application/vnd.jupyter.widget-view+json": {
       "model_id": "bc2e773619b14e09bdda5462bd5fa9ef",
       "version_major": 2,
       "version_minor": 0
      },
      "text/plain": [
       "Training episodes:   0%|          | 0/3 [00:00<?, ?it/s]"
      ]
     },
     "metadata": {},
     "output_type": "display_data"
    },
    {
     "data": {
      "application/vnd.jupyter.widget-view+json": {
       "model_id": "5e0d06ba027148a0add16648f41aa73a",
       "version_major": 2,
       "version_minor": 0
      },
      "text/plain": [
       "Training episodes:   0%|          | 0/3 [00:00<?, ?it/s]"
      ]
     },
     "metadata": {},
     "output_type": "display_data"
    },
    {
     "data": {
      "application/vnd.jupyter.widget-view+json": {
       "model_id": "4797ebf1d49e4d20b616ee2b45586733",
       "version_major": 2,
       "version_minor": 0
      },
      "text/plain": [
       "Training episodes:   0%|          | 0/3 [00:00<?, ?it/s]"
      ]
     },
     "metadata": {},
     "output_type": "display_data"
    },
    {
     "data": {
      "application/vnd.jupyter.widget-view+json": {
       "model_id": "202e55a50c734843ade336014d052209",
       "version_major": 2,
       "version_minor": 0
      },
      "text/plain": [
       "seeds:   0%|          | 0/30 [00:00<?, ?it/s]"
      ]
     },
     "metadata": {},
     "output_type": "display_data"
    },
    {
     "data": {
      "application/vnd.jupyter.widget-view+json": {
       "model_id": "7f38d430d92f4f3d92ae19163584f8e1",
       "version_major": 2,
       "version_minor": 0
      },
      "text/plain": [
       "Training episodes:   0%|          | 0/3 [00:00<?, ?it/s]"
      ]
     },
     "metadata": {},
     "output_type": "display_data"
    },
    {
     "data": {
      "application/vnd.jupyter.widget-view+json": {
       "model_id": "8ccfcf092fa04879a63f3da9a0c54618",
       "version_major": 2,
       "version_minor": 0
      },
      "text/plain": [
       "seeds:   0%|          | 0/30 [00:00<?, ?it/s]"
      ]
     },
     "metadata": {},
     "output_type": "display_data"
    },
    {
     "data": {
      "application/vnd.jupyter.widget-view+json": {
       "model_id": "8ad95de2249d4997a348dbb147baecb5",
       "version_major": 2,
       "version_minor": 0
      },
      "text/plain": [
       "Training episodes:   0%|          | 0/3 [00:00<?, ?it/s]"
      ]
     },
     "metadata": {},
     "output_type": "display_data"
    },
    {
     "data": {
      "application/vnd.jupyter.widget-view+json": {
       "model_id": "502afc8c8ddd4c9aac54b30d48b1bfbc",
       "version_major": 2,
       "version_minor": 0
      },
      "text/plain": [
       "Training episodes:   0%|          | 0/3 [00:00<?, ?it/s]"
      ]
     },
     "metadata": {},
     "output_type": "display_data"
    },
    {
     "data": {
      "application/vnd.jupyter.widget-view+json": {
       "model_id": "98323563cba64eea8fa905bc58e76eca",
       "version_major": 2,
       "version_minor": 0
      },
      "text/plain": [
       "Training episodes:   0%|          | 0/3 [00:00<?, ?it/s]"
      ]
     },
     "metadata": {},
     "output_type": "display_data"
    },
    {
     "data": {
      "application/vnd.jupyter.widget-view+json": {
       "model_id": "2c4563f618904019856d7e724e5c8d42",
       "version_major": 2,
       "version_minor": 0
      },
      "text/plain": [
       "Training episodes:   0%|          | 0/3 [00:00<?, ?it/s]"
      ]
     },
     "metadata": {},
     "output_type": "display_data"
    },
    {
     "data": {
      "application/vnd.jupyter.widget-view+json": {
       "model_id": "135afacd6f6e4325bb4c047869b57524",
       "version_major": 2,
       "version_minor": 0
      },
      "text/plain": [
       "Training episodes:   0%|          | 0/3 [00:00<?, ?it/s]"
      ]
     },
     "metadata": {},
     "output_type": "display_data"
    },
    {
     "data": {
      "application/vnd.jupyter.widget-view+json": {
       "model_id": "0f5ab05fc06b4dacaff7fcb9260d0f52",
       "version_major": 2,
       "version_minor": 0
      },
      "text/plain": [
       "Training episodes:   0%|          | 0/3 [00:00<?, ?it/s]"
      ]
     },
     "metadata": {},
     "output_type": "display_data"
    },
    {
     "data": {
      "application/vnd.jupyter.widget-view+json": {
       "model_id": "e41eafcd6df34593bfac44da4a52e80a",
       "version_major": 2,
       "version_minor": 0
      },
      "text/plain": [
       "Training episodes:   0%|          | 0/3 [00:00<?, ?it/s]"
      ]
     },
     "metadata": {},
     "output_type": "display_data"
    },
    {
     "data": {
      "application/vnd.jupyter.widget-view+json": {
       "model_id": "3597624b9a5f43139f44b316c71f609d",
       "version_major": 2,
       "version_minor": 0
      },
      "text/plain": [
       "Training episodes:   0%|          | 0/3 [00:00<?, ?it/s]"
      ]
     },
     "metadata": {},
     "output_type": "display_data"
    },
    {
     "data": {
      "application/vnd.jupyter.widget-view+json": {
       "model_id": "d33348f50fc54966987425d73acefe37",
       "version_major": 2,
       "version_minor": 0
      },
      "text/plain": [
       "Training episodes:   0%|          | 0/3 [00:00<?, ?it/s]"
      ]
     },
     "metadata": {},
     "output_type": "display_data"
    },
    {
     "data": {
      "application/vnd.jupyter.widget-view+json": {
       "model_id": "9a9745fec1374b22abe1d9463dfbc3a6",
       "version_major": 2,
       "version_minor": 0
      },
      "text/plain": [
       "Training episodes:   0%|          | 0/3 [00:00<?, ?it/s]"
      ]
     },
     "metadata": {},
     "output_type": "display_data"
    },
    {
     "name": "stdout",
     "output_type": "stream",
     "text": [
      "[I 2025-03-04 14:40:08,357] Trial 1 finished with value: 1955.1274975056645 and parameters: {'learning_rate': 1.974572093846395e-05, 'n_steps': 612, 'batch_size': 71, 'gae_lambda': 0.9724243578514046, 'ent_coef': 0.003368269804256756, 'vf_coef': 0.5029765181864725, 'clip_range': 0.28655565142923256, 'max_grad_norm': 0.6574466411036742}. Best is trial 1 with value: 1955.1274975056645.\n"
     ]
    },
    {
     "data": {
      "application/vnd.jupyter.widget-view+json": {
       "model_id": "de1330a1a0924d4495861858c02bbc0d",
       "version_major": 2,
       "version_minor": 0
      },
      "text/plain": [
       "seeds:   0%|          | 0/30 [00:00<?, ?it/s]"
      ]
     },
     "metadata": {},
     "output_type": "display_data"
    },
    {
     "data": {
      "application/vnd.jupyter.widget-view+json": {
       "model_id": "8e6f94077c4d4e6fa469910cb3d10ed3",
       "version_major": 2,
       "version_minor": 0
      },
      "text/plain": [
       "Training episodes:   0%|          | 0/3 [00:00<?, ?it/s]"
      ]
     },
     "metadata": {},
     "output_type": "display_data"
    },
    {
     "data": {
      "application/vnd.jupyter.widget-view+json": {
       "model_id": "f3fbf078c256485ba039b3e2b14cce7f",
       "version_major": 2,
       "version_minor": 0
      },
      "text/plain": [
       "Training episodes:   0%|          | 0/3 [00:00<?, ?it/s]"
      ]
     },
     "metadata": {},
     "output_type": "display_data"
    },
    {
     "data": {
      "application/vnd.jupyter.widget-view+json": {
       "model_id": "f1731932bd6d4aadbc158dd0f7d45563",
       "version_major": 2,
       "version_minor": 0
      },
      "text/plain": [
       "Training episodes:   0%|          | 0/3 [00:00<?, ?it/s]"
      ]
     },
     "metadata": {},
     "output_type": "display_data"
    },
    {
     "name": "stdout",
     "output_type": "stream",
     "text": [
      "[I 2025-03-04 14:43:03,122] Trial 7 finished with value: 1937.8358341086516 and parameters: {'learning_rate': 7.786901550803252e-05, 'n_steps': 589, 'batch_size': 67, 'gae_lambda': 0.8782256542378953, 'ent_coef': 0.01721282379454497, 'vf_coef': 0.11616945043593437, 'clip_range': 0.21449009277545894, 'max_grad_norm': 0.42783550252834857}. Best is trial 1 with value: 1955.1274975056645.\n"
     ]
    },
    {
     "data": {
      "application/vnd.jupyter.widget-view+json": {
       "model_id": "acb0dc22117a4ac1bdbc7f265492f3b8",
       "version_major": 2,
       "version_minor": 0
      },
      "text/plain": [
       "Training episodes:   0%|          | 0/3 [00:00<?, ?it/s]"
      ]
     },
     "metadata": {},
     "output_type": "display_data"
    },
    {
     "data": {
      "application/vnd.jupyter.widget-view+json": {
       "model_id": "8f7f27aac579460283410075f4343ac3",
       "version_major": 2,
       "version_minor": 0
      },
      "text/plain": [
       "Training episodes:   0%|          | 0/3 [00:00<?, ?it/s]"
      ]
     },
     "metadata": {},
     "output_type": "display_data"
    },
    {
     "data": {
      "application/vnd.jupyter.widget-view+json": {
       "model_id": "13879480b18143dea73330624ffadb8e",
       "version_major": 2,
       "version_minor": 0
      },
      "text/plain": [
       "seeds:   0%|          | 0/30 [00:00<?, ?it/s]"
      ]
     },
     "metadata": {},
     "output_type": "display_data"
    },
    {
     "data": {
      "application/vnd.jupyter.widget-view+json": {
       "model_id": "08e28fe7f8914be6a4e37d53efa8d367",
       "version_major": 2,
       "version_minor": 0
      },
      "text/plain": [
       "Training episodes:   0%|          | 0/3 [00:00<?, ?it/s]"
      ]
     },
     "metadata": {},
     "output_type": "display_data"
    },
    {
     "data": {
      "application/vnd.jupyter.widget-view+json": {
       "model_id": "8c7ef30407a94afb934c90ebc46e2d53",
       "version_major": 2,
       "version_minor": 0
      },
      "text/plain": [
       "Training episodes:   0%|          | 0/3 [00:00<?, ?it/s]"
      ]
     },
     "metadata": {},
     "output_type": "display_data"
    },
    {
     "data": {
      "application/vnd.jupyter.widget-view+json": {
       "model_id": "0cbbbb126da1439aa22b1043d3ca7e39",
       "version_major": 2,
       "version_minor": 0
      },
      "text/plain": [
       "Training episodes:   0%|          | 0/3 [00:00<?, ?it/s]"
      ]
     },
     "metadata": {},
     "output_type": "display_data"
    },
    {
     "data": {
      "application/vnd.jupyter.widget-view+json": {
       "model_id": "c5997566d7ee4f8997f9a97f1e65440f",
       "version_major": 2,
       "version_minor": 0
      },
      "text/plain": [
       "Training episodes:   0%|          | 0/3 [00:00<?, ?it/s]"
      ]
     },
     "metadata": {},
     "output_type": "display_data"
    },
    {
     "data": {
      "application/vnd.jupyter.widget-view+json": {
       "model_id": "f8a81764a4f64b7a93290da79f6334d0",
       "version_major": 2,
       "version_minor": 0
      },
      "text/plain": [
       "Training episodes:   0%|          | 0/3 [00:00<?, ?it/s]"
      ]
     },
     "metadata": {},
     "output_type": "display_data"
    },
    {
     "data": {
      "application/vnd.jupyter.widget-view+json": {
       "model_id": "a37dfe77e5b1493198ab1c64cd7d53b9",
       "version_major": 2,
       "version_minor": 0
      },
      "text/plain": [
       "Training episodes:   0%|          | 0/3 [00:00<?, ?it/s]"
      ]
     },
     "metadata": {},
     "output_type": "display_data"
    },
    {
     "data": {
      "application/vnd.jupyter.widget-view+json": {
       "model_id": "b13bf2247a9746738c52d4262967caf7",
       "version_major": 2,
       "version_minor": 0
      },
      "text/plain": [
       "Training episodes:   0%|          | 0/3 [00:00<?, ?it/s]"
      ]
     },
     "metadata": {},
     "output_type": "display_data"
    },
    {
     "data": {
      "application/vnd.jupyter.widget-view+json": {
       "model_id": "15bfbde796d444cba39a41bdafe900a8",
       "version_major": 2,
       "version_minor": 0
      },
      "text/plain": [
       "Training episodes:   0%|          | 0/3 [00:00<?, ?it/s]"
      ]
     },
     "metadata": {},
     "output_type": "display_data"
    },
    {
     "data": {
      "application/vnd.jupyter.widget-view+json": {
       "model_id": "5c2a1d92716e4f86949049c6f222aee0",
       "version_major": 2,
       "version_minor": 0
      },
      "text/plain": [
       "Training episodes:   0%|          | 0/3 [00:00<?, ?it/s]"
      ]
     },
     "metadata": {},
     "output_type": "display_data"
    },
    {
     "data": {
      "application/vnd.jupyter.widget-view+json": {
       "model_id": "4c62068e6b454d4d84d4a13fab3438cb",
       "version_major": 2,
       "version_minor": 0
      },
      "text/plain": [
       "Training episodes:   0%|          | 0/3 [00:00<?, ?it/s]"
      ]
     },
     "metadata": {},
     "output_type": "display_data"
    },
    {
     "data": {
      "application/vnd.jupyter.widget-view+json": {
       "model_id": "39a53a3e73094ae3b72433a796ad9506",
       "version_major": 2,
       "version_minor": 0
      },
      "text/plain": [
       "Training episodes:   0%|          | 0/3 [00:00<?, ?it/s]"
      ]
     },
     "metadata": {},
     "output_type": "display_data"
    },
    {
     "data": {
      "application/vnd.jupyter.widget-view+json": {
       "model_id": "5810baf6d91e484fa03928874299905b",
       "version_major": 2,
       "version_minor": 0
      },
      "text/plain": [
       "Training episodes:   0%|          | 0/3 [00:00<?, ?it/s]"
      ]
     },
     "metadata": {},
     "output_type": "display_data"
    },
    {
     "data": {
      "application/vnd.jupyter.widget-view+json": {
       "model_id": "faf28e719ac541e499a94111dd18c515",
       "version_major": 2,
       "version_minor": 0
      },
      "text/plain": [
       "Training episodes:   0%|          | 0/3 [00:00<?, ?it/s]"
      ]
     },
     "metadata": {},
     "output_type": "display_data"
    },
    {
     "name": "stdout",
     "output_type": "stream",
     "text": [
      "[I 2025-03-04 15:20:44,290] Trial 4 finished with value: 1943.9533680616248 and parameters: {'learning_rate': 0.00020389220790828556, 'n_steps': 47, 'batch_size': 110, 'gae_lambda': 0.9319685551479397, 'ent_coef': 0.014790809380979285, 'vf_coef': 0.4033327590898912, 'clip_range': 0.17529639544269207, 'max_grad_norm': 0.9551966589215483}. Best is trial 1 with value: 1955.1274975056645.\n"
     ]
    },
    {
     "data": {
      "application/vnd.jupyter.widget-view+json": {
       "model_id": "69a8385d474c47f3b1233e0c4fa41577",
       "version_major": 2,
       "version_minor": 0
      },
      "text/plain": [
       "Training episodes:   0%|          | 0/3 [00:00<?, ?it/s]"
      ]
     },
     "metadata": {},
     "output_type": "display_data"
    },
    {
     "data": {
      "application/vnd.jupyter.widget-view+json": {
       "model_id": "ca2fb3086e0f4bc48b9f4f4827eb15de",
       "version_major": 2,
       "version_minor": 0
      },
      "text/plain": [
       "Training episodes:   0%|          | 0/3 [00:00<?, ?it/s]"
      ]
     },
     "metadata": {},
     "output_type": "display_data"
    },
    {
     "data": {
      "application/vnd.jupyter.widget-view+json": {
       "model_id": "87f5b049dd50441b8e4e0bd77efea4ee",
       "version_major": 2,
       "version_minor": 0
      },
      "text/plain": [
       "Training episodes:   0%|          | 0/3 [00:00<?, ?it/s]"
      ]
     },
     "metadata": {},
     "output_type": "display_data"
    },
    {
     "data": {
      "application/vnd.jupyter.widget-view+json": {
       "model_id": "391da918bc7a4733b9451005d9d18ce4",
       "version_major": 2,
       "version_minor": 0
      },
      "text/plain": [
       "Training episodes:   0%|          | 0/3 [00:00<?, ?it/s]"
      ]
     },
     "metadata": {},
     "output_type": "display_data"
    },
    {
     "data": {
      "application/vnd.jupyter.widget-view+json": {
       "model_id": "3778e2c72ee04540bff0949f2c0a899e",
       "version_major": 2,
       "version_minor": 0
      },
      "text/plain": [
       "Training episodes:   0%|          | 0/3 [00:00<?, ?it/s]"
      ]
     },
     "metadata": {},
     "output_type": "display_data"
    },
    {
     "data": {
      "application/vnd.jupyter.widget-view+json": {
       "model_id": "725e7edc3eed4040979ebf843f794dca",
       "version_major": 2,
       "version_minor": 0
      },
      "text/plain": [
       "Training episodes:   0%|          | 0/3 [00:00<?, ?it/s]"
      ]
     },
     "metadata": {},
     "output_type": "display_data"
    },
    {
     "data": {
      "application/vnd.jupyter.widget-view+json": {
       "model_id": "337f4e38adda4145a9923c1871d7d270",
       "version_major": 2,
       "version_minor": 0
      },
      "text/plain": [
       "Training episodes:   0%|          | 0/3 [00:00<?, ?it/s]"
      ]
     },
     "metadata": {},
     "output_type": "display_data"
    },
    {
     "data": {
      "application/vnd.jupyter.widget-view+json": {
       "model_id": "753aa64c31f9467fa9fdb89fe838abb7",
       "version_major": 2,
       "version_minor": 0
      },
      "text/plain": [
       "Training episodes:   0%|          | 0/3 [00:00<?, ?it/s]"
      ]
     },
     "metadata": {},
     "output_type": "display_data"
    },
    {
     "data": {
      "application/vnd.jupyter.widget-view+json": {
       "model_id": "7a5164a3baec47298b4e981b7d39661e",
       "version_major": 2,
       "version_minor": 0
      },
      "text/plain": [
       "Training episodes:   0%|          | 0/3 [00:00<?, ?it/s]"
      ]
     },
     "metadata": {},
     "output_type": "display_data"
    },
    {
     "data": {
      "application/vnd.jupyter.widget-view+json": {
       "model_id": "41a1a4cf4b104d2d82136a747a6a95de",
       "version_major": 2,
       "version_minor": 0
      },
      "text/plain": [
       "Training episodes:   0%|          | 0/3 [00:00<?, ?it/s]"
      ]
     },
     "metadata": {},
     "output_type": "display_data"
    },
    {
     "data": {
      "application/vnd.jupyter.widget-view+json": {
       "model_id": "61caf2295acc461c8357ff8884010e51",
       "version_major": 2,
       "version_minor": 0
      },
      "text/plain": [
       "Training episodes:   0%|          | 0/3 [00:00<?, ?it/s]"
      ]
     },
     "metadata": {},
     "output_type": "display_data"
    },
    {
     "data": {
      "application/vnd.jupyter.widget-view+json": {
       "model_id": "b0d39fa66d6d42b8ad22f8fdd7d64c66",
       "version_major": 2,
       "version_minor": 0
      },
      "text/plain": [
       "Training episodes:   0%|          | 0/3 [00:00<?, ?it/s]"
      ]
     },
     "metadata": {},
     "output_type": "display_data"
    },
    {
     "data": {
      "application/vnd.jupyter.widget-view+json": {
       "model_id": "9c9bab8ba18149edaef306bd0897b477",
       "version_major": 2,
       "version_minor": 0
      },
      "text/plain": [
       "Training episodes:   0%|          | 0/3 [00:00<?, ?it/s]"
      ]
     },
     "metadata": {},
     "output_type": "display_data"
    },
    {
     "data": {
      "application/vnd.jupyter.widget-view+json": {
       "model_id": "70964aa9135440e4aee197a0dcdb9142",
       "version_major": 2,
       "version_minor": 0
      },
      "text/plain": [
       "Training episodes:   0%|          | 0/3 [00:00<?, ?it/s]"
      ]
     },
     "metadata": {},
     "output_type": "display_data"
    },
    {
     "data": {
      "application/vnd.jupyter.widget-view+json": {
       "model_id": "e4e6a5507a9d4ed1983e14546aeeef1d",
       "version_major": 2,
       "version_minor": 0
      },
      "text/plain": [
       "Training episodes:   0%|          | 0/3 [00:00<?, ?it/s]"
      ]
     },
     "metadata": {},
     "output_type": "display_data"
    },
    {
     "data": {
      "application/vnd.jupyter.widget-view+json": {
       "model_id": "f023060c44ea42699fe807c605933955",
       "version_major": 2,
       "version_minor": 0
      },
      "text/plain": [
       "Training episodes:   0%|          | 0/3 [00:00<?, ?it/s]"
      ]
     },
     "metadata": {},
     "output_type": "display_data"
    },
    {
     "data": {
      "application/vnd.jupyter.widget-view+json": {
       "model_id": "7f0709d8960647d7b4a8411f4164567e",
       "version_major": 2,
       "version_minor": 0
      },
      "text/plain": [
       "Training episodes:   0%|          | 0/3 [00:00<?, ?it/s]"
      ]
     },
     "metadata": {},
     "output_type": "display_data"
    },
    {
     "data": {
      "application/vnd.jupyter.widget-view+json": {
       "model_id": "3121143fe4cc43ffa14cdc669dccb8b9",
       "version_major": 2,
       "version_minor": 0
      },
      "text/plain": [
       "Training episodes:   0%|          | 0/3 [00:00<?, ?it/s]"
      ]
     },
     "metadata": {},
     "output_type": "display_data"
    },
    {
     "data": {
      "application/vnd.jupyter.widget-view+json": {
       "model_id": "0d390107c609450cb25ec8540dd1ff60",
       "version_major": 2,
       "version_minor": 0
      },
      "text/plain": [
       "Training episodes:   0%|          | 0/3 [00:00<?, ?it/s]"
      ]
     },
     "metadata": {},
     "output_type": "display_data"
    },
    {
     "data": {
      "application/vnd.jupyter.widget-view+json": {
       "model_id": "875d5a1300064aa2b16806ee2f0e2b0c",
       "version_major": 2,
       "version_minor": 0
      },
      "text/plain": [
       "Training episodes:   0%|          | 0/3 [00:00<?, ?it/s]"
      ]
     },
     "metadata": {},
     "output_type": "display_data"
    },
    {
     "data": {
      "application/vnd.jupyter.widget-view+json": {
       "model_id": "ca1f33d71eb9428d8709eaa918372107",
       "version_major": 2,
       "version_minor": 0
      },
      "text/plain": [
       "Training episodes:   0%|          | 0/3 [00:00<?, ?it/s]"
      ]
     },
     "metadata": {},
     "output_type": "display_data"
    },
    {
     "data": {
      "application/vnd.jupyter.widget-view+json": {
       "model_id": "1c2dbe622f8c4be4a6859d75da5bfd24",
       "version_major": 2,
       "version_minor": 0
      },
      "text/plain": [
       "Training episodes:   0%|          | 0/3 [00:00<?, ?it/s]"
      ]
     },
     "metadata": {},
     "output_type": "display_data"
    },
    {
     "data": {
      "application/vnd.jupyter.widget-view+json": {
       "model_id": "4e6105c44f794a878ed7dba4166d6a13",
       "version_major": 2,
       "version_minor": 0
      },
      "text/plain": [
       "Training episodes:   0%|          | 0/3 [00:00<?, ?it/s]"
      ]
     },
     "metadata": {},
     "output_type": "display_data"
    },
    {
     "data": {
      "application/vnd.jupyter.widget-view+json": {
       "model_id": "6fe710bd2ce94ab987c37024bdb352ee",
       "version_major": 2,
       "version_minor": 0
      },
      "text/plain": [
       "Training episodes:   0%|          | 0/3 [00:00<?, ?it/s]"
      ]
     },
     "metadata": {},
     "output_type": "display_data"
    },
    {
     "data": {
      "application/vnd.jupyter.widget-view+json": {
       "model_id": "e3abdad9adaf47d898e46276446b99b4",
       "version_major": 2,
       "version_minor": 0
      },
      "text/plain": [
       "Training episodes:   0%|          | 0/3 [00:00<?, ?it/s]"
      ]
     },
     "metadata": {},
     "output_type": "display_data"
    },
    {
     "data": {
      "application/vnd.jupyter.widget-view+json": {
       "model_id": "a37b7ba428fb403e81bee0412b8b1629",
       "version_major": 2,
       "version_minor": 0
      },
      "text/plain": [
       "Training episodes:   0%|          | 0/3 [00:00<?, ?it/s]"
      ]
     },
     "metadata": {},
     "output_type": "display_data"
    },
    {
     "data": {
      "application/vnd.jupyter.widget-view+json": {
       "model_id": "1fd854efd88844c0851db91706e96ade",
       "version_major": 2,
       "version_minor": 0
      },
      "text/plain": [
       "Training episodes:   0%|          | 0/3 [00:00<?, ?it/s]"
      ]
     },
     "metadata": {},
     "output_type": "display_data"
    },
    {
     "data": {
      "application/vnd.jupyter.widget-view+json": {
       "model_id": "55a2e3da425e4d92acde360430a9bf77",
       "version_major": 2,
       "version_minor": 0
      },
      "text/plain": [
       "Training episodes:   0%|          | 0/3 [00:00<?, ?it/s]"
      ]
     },
     "metadata": {},
     "output_type": "display_data"
    },
    {
     "data": {
      "application/vnd.jupyter.widget-view+json": {
       "model_id": "0a0c316d79d94aaf904954f681d4ab4a",
       "version_major": 2,
       "version_minor": 0
      },
      "text/plain": [
       "Training episodes:   0%|          | 0/3 [00:00<?, ?it/s]"
      ]
     },
     "metadata": {},
     "output_type": "display_data"
    },
    {
     "data": {
      "application/vnd.jupyter.widget-view+json": {
       "model_id": "4bef5796fc1c4025bd551dcdc9e09f7e",
       "version_major": 2,
       "version_minor": 0
      },
      "text/plain": [
       "Training episodes:   0%|          | 0/3 [00:00<?, ?it/s]"
      ]
     },
     "metadata": {},
     "output_type": "display_data"
    },
    {
     "data": {
      "application/vnd.jupyter.widget-view+json": {
       "model_id": "9171ddd20d014fb0b88a433d123b8755",
       "version_major": 2,
       "version_minor": 0
      },
      "text/plain": [
       "Training episodes:   0%|          | 0/3 [00:00<?, ?it/s]"
      ]
     },
     "metadata": {},
     "output_type": "display_data"
    },
    {
     "data": {
      "application/vnd.jupyter.widget-view+json": {
       "model_id": "c1f666ba68c24693aef45c96e0d8fb53",
       "version_major": 2,
       "version_minor": 0
      },
      "text/plain": [
       "Training episodes:   0%|          | 0/3 [00:00<?, ?it/s]"
      ]
     },
     "metadata": {},
     "output_type": "display_data"
    },
    {
     "data": {
      "application/vnd.jupyter.widget-view+json": {
       "model_id": "f8e5bd122f094108a311cf59766429df",
       "version_major": 2,
       "version_minor": 0
      },
      "text/plain": [
       "Training episodes:   0%|          | 0/3 [00:00<?, ?it/s]"
      ]
     },
     "metadata": {},
     "output_type": "display_data"
    },
    {
     "data": {
      "application/vnd.jupyter.widget-view+json": {
       "model_id": "9f63789e94c44205a9a1ab8b8f99b854",
       "version_major": 2,
       "version_minor": 0
      },
      "text/plain": [
       "Training episodes:   0%|          | 0/3 [00:00<?, ?it/s]"
      ]
     },
     "metadata": {},
     "output_type": "display_data"
    },
    {
     "data": {
      "application/vnd.jupyter.widget-view+json": {
       "model_id": "eb14ff047462447789e03d64f7d1b5ab",
       "version_major": 2,
       "version_minor": 0
      },
      "text/plain": [
       "seeds:   0%|          | 0/30 [00:00<?, ?it/s]"
      ]
     },
     "metadata": {},
     "output_type": "display_data"
    },
    {
     "data": {
      "application/vnd.jupyter.widget-view+json": {
       "model_id": "c6dedd7616454575a67c3db28ce9c916",
       "version_major": 2,
       "version_minor": 0
      },
      "text/plain": [
       "Training episodes:   0%|          | 0/3 [00:00<?, ?it/s]"
      ]
     },
     "metadata": {},
     "output_type": "display_data"
    },
    {
     "data": {
      "application/vnd.jupyter.widget-view+json": {
       "model_id": "7e3ddeff8b354c9ab81bfaf95b99faef",
       "version_major": 2,
       "version_minor": 0
      },
      "text/plain": [
       "Training episodes:   0%|          | 0/3 [00:00<?, ?it/s]"
      ]
     },
     "metadata": {},
     "output_type": "display_data"
    },
    {
     "data": {
      "application/vnd.jupyter.widget-view+json": {
       "model_id": "00d5791263ab48609fc05aa0f212b280",
       "version_major": 2,
       "version_minor": 0
      },
      "text/plain": [
       "Training episodes:   0%|          | 0/3 [00:00<?, ?it/s]"
      ]
     },
     "metadata": {},
     "output_type": "display_data"
    },
    {
     "data": {
      "application/vnd.jupyter.widget-view+json": {
       "model_id": "bc35f1e4eee34e4f94e80db588f2865a",
       "version_major": 2,
       "version_minor": 0
      },
      "text/plain": [
       "Training episodes:   0%|          | 0/3 [00:00<?, ?it/s]"
      ]
     },
     "metadata": {},
     "output_type": "display_data"
    },
    {
     "data": {
      "application/vnd.jupyter.widget-view+json": {
       "model_id": "ccaf22e4df294a939cab4bbd6871b79c",
       "version_major": 2,
       "version_minor": 0
      },
      "text/plain": [
       "Training episodes:   0%|          | 0/3 [00:00<?, ?it/s]"
      ]
     },
     "metadata": {},
     "output_type": "display_data"
    },
    {
     "data": {
      "application/vnd.jupyter.widget-view+json": {
       "model_id": "5b75b88e43be4c8e80fb9fb01db55afc",
       "version_major": 2,
       "version_minor": 0
      },
      "text/plain": [
       "Training episodes:   0%|          | 0/3 [00:00<?, ?it/s]"
      ]
     },
     "metadata": {},
     "output_type": "display_data"
    },
    {
     "data": {
      "application/vnd.jupyter.widget-view+json": {
       "model_id": "dd36331ac6d941cc9220014700e3d7b2",
       "version_major": 2,
       "version_minor": 0
      },
      "text/plain": [
       "Training episodes:   0%|          | 0/3 [00:00<?, ?it/s]"
      ]
     },
     "metadata": {},
     "output_type": "display_data"
    },
    {
     "data": {
      "application/vnd.jupyter.widget-view+json": {
       "model_id": "ab10bd40c9574088a647c5560e46027e",
       "version_major": 2,
       "version_minor": 0
      },
      "text/plain": [
       "Training episodes:   0%|          | 0/3 [00:00<?, ?it/s]"
      ]
     },
     "metadata": {},
     "output_type": "display_data"
    },
    {
     "data": {
      "application/vnd.jupyter.widget-view+json": {
       "model_id": "3a5460698e414f7287615b7f5684bdee",
       "version_major": 2,
       "version_minor": 0
      },
      "text/plain": [
       "Training episodes:   0%|          | 0/3 [00:00<?, ?it/s]"
      ]
     },
     "metadata": {},
     "output_type": "display_data"
    },
    {
     "data": {
      "application/vnd.jupyter.widget-view+json": {
       "model_id": "d86caa32a0c1498fb9ca5bef3a2d4da8",
       "version_major": 2,
       "version_minor": 0
      },
      "text/plain": [
       "Training episodes:   0%|          | 0/3 [00:00<?, ?it/s]"
      ]
     },
     "metadata": {},
     "output_type": "display_data"
    },
    {
     "data": {
      "application/vnd.jupyter.widget-view+json": {
       "model_id": "0bafc6d25cba4cc4ae192b2487062be2",
       "version_major": 2,
       "version_minor": 0
      },
      "text/plain": [
       "Training episodes:   0%|          | 0/3 [00:00<?, ?it/s]"
      ]
     },
     "metadata": {},
     "output_type": "display_data"
    },
    {
     "data": {
      "application/vnd.jupyter.widget-view+json": {
       "model_id": "33fa66878ada43ecba6f4f5d5e14d9dd",
       "version_major": 2,
       "version_minor": 0
      },
      "text/plain": [
       "Training episodes:   0%|          | 0/3 [00:00<?, ?it/s]"
      ]
     },
     "metadata": {},
     "output_type": "display_data"
    },
    {
     "name": "stdout",
     "output_type": "stream",
     "text": [
      "[I 2025-03-04 17:10:06,722] Trial 5 finished with value: 1937.36848160581 and parameters: {'learning_rate': 0.00014004724928608868, 'n_steps': 170, 'batch_size': 32, 'gae_lambda': 0.9023009210305164, 'ent_coef': 0.01584760403016155, 'vf_coef': 0.6959463623967596, 'clip_range': 0.2916853556463839, 'max_grad_norm': 0.7962551447256957}. Best is trial 1 with value: 1955.1274975056645.\n"
     ]
    },
    {
     "data": {
      "application/vnd.jupyter.widget-view+json": {
       "model_id": "235da1f2fe1240fab82851012ec6d76f",
       "version_major": 2,
       "version_minor": 0
      },
      "text/plain": [
       "Training episodes:   0%|          | 0/3 [00:00<?, ?it/s]"
      ]
     },
     "metadata": {},
     "output_type": "display_data"
    },
    {
     "data": {
      "application/vnd.jupyter.widget-view+json": {
       "model_id": "d642662ca9af43b8bd9a65ba42390dfd",
       "version_major": 2,
       "version_minor": 0
      },
      "text/plain": [
       "Training episodes:   0%|          | 0/3 [00:00<?, ?it/s]"
      ]
     },
     "metadata": {},
     "output_type": "display_data"
    },
    {
     "data": {
      "application/vnd.jupyter.widget-view+json": {
       "model_id": "bddf0cc1a8b442f6b3285558f8bbaf22",
       "version_major": 2,
       "version_minor": 0
      },
      "text/plain": [
       "Training episodes:   0%|          | 0/3 [00:00<?, ?it/s]"
      ]
     },
     "metadata": {},
     "output_type": "display_data"
    },
    {
     "data": {
      "application/vnd.jupyter.widget-view+json": {
       "model_id": "065a51ac31094ea98d035e67ef69e882",
       "version_major": 2,
       "version_minor": 0
      },
      "text/plain": [
       "Training episodes:   0%|          | 0/3 [00:00<?, ?it/s]"
      ]
     },
     "metadata": {},
     "output_type": "display_data"
    },
    {
     "data": {
      "application/vnd.jupyter.widget-view+json": {
       "model_id": "68a64e2911f64936a92c79476413f527",
       "version_major": 2,
       "version_minor": 0
      },
      "text/plain": [
       "Training episodes:   0%|          | 0/3 [00:00<?, ?it/s]"
      ]
     },
     "metadata": {},
     "output_type": "display_data"
    },
    {
     "data": {
      "application/vnd.jupyter.widget-view+json": {
       "model_id": "b7898ead089945c39f55e194511eb423",
       "version_major": 2,
       "version_minor": 0
      },
      "text/plain": [
       "Training episodes:   0%|          | 0/3 [00:00<?, ?it/s]"
      ]
     },
     "metadata": {},
     "output_type": "display_data"
    },
    {
     "data": {
      "application/vnd.jupyter.widget-view+json": {
       "model_id": "93b763b4a8354a8f917b4d74e21358b7",
       "version_major": 2,
       "version_minor": 0
      },
      "text/plain": [
       "Training episodes:   0%|          | 0/3 [00:00<?, ?it/s]"
      ]
     },
     "metadata": {},
     "output_type": "display_data"
    },
    {
     "data": {
      "application/vnd.jupyter.widget-view+json": {
       "model_id": "6dcab960c51f44bcb21a410eced49400",
       "version_major": 2,
       "version_minor": 0
      },
      "text/plain": [
       "Training episodes:   0%|          | 0/3 [00:00<?, ?it/s]"
      ]
     },
     "metadata": {},
     "output_type": "display_data"
    },
    {
     "data": {
      "application/vnd.jupyter.widget-view+json": {
       "model_id": "e352303eab594dddad1fc6908bd62b25",
       "version_major": 2,
       "version_minor": 0
      },
      "text/plain": [
       "Training episodes:   0%|          | 0/3 [00:00<?, ?it/s]"
      ]
     },
     "metadata": {},
     "output_type": "display_data"
    },
    {
     "data": {
      "application/vnd.jupyter.widget-view+json": {
       "model_id": "6550c3f3f79b4f0bbcb18e2c93b884bd",
       "version_major": 2,
       "version_minor": 0
      },
      "text/plain": [
       "Training episodes:   0%|          | 0/3 [00:00<?, ?it/s]"
      ]
     },
     "metadata": {},
     "output_type": "display_data"
    },
    {
     "data": {
      "application/vnd.jupyter.widget-view+json": {
       "model_id": "04527fd33a6f41faa4af5354f6e16836",
       "version_major": 2,
       "version_minor": 0
      },
      "text/plain": [
       "Training episodes:   0%|          | 0/3 [00:00<?, ?it/s]"
      ]
     },
     "metadata": {},
     "output_type": "display_data"
    },
    {
     "data": {
      "application/vnd.jupyter.widget-view+json": {
       "model_id": "72854a6592c94faaa0ffa33d11a51706",
       "version_major": 2,
       "version_minor": 0
      },
      "text/plain": [
       "Training episodes:   0%|          | 0/3 [00:00<?, ?it/s]"
      ]
     },
     "metadata": {},
     "output_type": "display_data"
    },
    {
     "data": {
      "application/vnd.jupyter.widget-view+json": {
       "model_id": "e0be6e1b885045119c741040c9f54ce2",
       "version_major": 2,
       "version_minor": 0
      },
      "text/plain": [
       "Training episodes:   0%|          | 0/3 [00:00<?, ?it/s]"
      ]
     },
     "metadata": {},
     "output_type": "display_data"
    },
    {
     "data": {
      "application/vnd.jupyter.widget-view+json": {
       "model_id": "82efd1aec4f24592b30f31af9a86970b",
       "version_major": 2,
       "version_minor": 0
      },
      "text/plain": [
       "Training episodes:   0%|          | 0/3 [00:00<?, ?it/s]"
      ]
     },
     "metadata": {},
     "output_type": "display_data"
    },
    {
     "data": {
      "application/vnd.jupyter.widget-view+json": {
       "model_id": "215d08242efe4c768a73874cb51c1acd",
       "version_major": 2,
       "version_minor": 0
      },
      "text/plain": [
       "Training episodes:   0%|          | 0/3 [00:00<?, ?it/s]"
      ]
     },
     "metadata": {},
     "output_type": "display_data"
    },
    {
     "data": {
      "application/vnd.jupyter.widget-view+json": {
       "model_id": "33a2690f9aef43e491fb5d83ffa136d7",
       "version_major": 2,
       "version_minor": 0
      },
      "text/plain": [
       "Training episodes:   0%|          | 0/3 [00:00<?, ?it/s]"
      ]
     },
     "metadata": {},
     "output_type": "display_data"
    },
    {
     "data": {
      "application/vnd.jupyter.widget-view+json": {
       "model_id": "daf88fe286c64807801e14be0317d797",
       "version_major": 2,
       "version_minor": 0
      },
      "text/plain": [
       "Training episodes:   0%|          | 0/3 [00:00<?, ?it/s]"
      ]
     },
     "metadata": {},
     "output_type": "display_data"
    },
    {
     "data": {
      "application/vnd.jupyter.widget-view+json": {
       "model_id": "c1e00559caa04f95ab58b89a03016ebc",
       "version_major": 2,
       "version_minor": 0
      },
      "text/plain": [
       "Training episodes:   0%|          | 0/3 [00:00<?, ?it/s]"
      ]
     },
     "metadata": {},
     "output_type": "display_data"
    },
    {
     "data": {
      "application/vnd.jupyter.widget-view+json": {
       "model_id": "382ffa7d61774b19938f96129a682e4e",
       "version_major": 2,
       "version_minor": 0
      },
      "text/plain": [
       "Training episodes:   0%|          | 0/3 [00:00<?, ?it/s]"
      ]
     },
     "metadata": {},
     "output_type": "display_data"
    },
    {
     "data": {
      "application/vnd.jupyter.widget-view+json": {
       "model_id": "f61b8591e29947cf86163684b36470bc",
       "version_major": 2,
       "version_minor": 0
      },
      "text/plain": [
       "Training episodes:   0%|          | 0/3 [00:00<?, ?it/s]"
      ]
     },
     "metadata": {},
     "output_type": "display_data"
    },
    {
     "data": {
      "application/vnd.jupyter.widget-view+json": {
       "model_id": "22643b9559af44e4929e6a6f29978254",
       "version_major": 2,
       "version_minor": 0
      },
      "text/plain": [
       "seeds:   0%|          | 0/30 [00:00<?, ?it/s]"
      ]
     },
     "metadata": {},
     "output_type": "display_data"
    },
    {
     "data": {
      "application/vnd.jupyter.widget-view+json": {
       "model_id": "9eedbd607dde41a1b5ad89c0d6007e06",
       "version_major": 2,
       "version_minor": 0
      },
      "text/plain": [
       "Training episodes:   0%|          | 0/3 [00:00<?, ?it/s]"
      ]
     },
     "metadata": {},
     "output_type": "display_data"
    },
    {
     "data": {
      "application/vnd.jupyter.widget-view+json": {
       "model_id": "4fa4e439dd0c45e3b859900f8ab0883e",
       "version_major": 2,
       "version_minor": 0
      },
      "text/plain": [
       "Training episodes:   0%|          | 0/3 [00:00<?, ?it/s]"
      ]
     },
     "metadata": {},
     "output_type": "display_data"
    },
    {
     "data": {
      "application/vnd.jupyter.widget-view+json": {
       "model_id": "1c058f19aec6484e8e29bbbc4d1072e1",
       "version_major": 2,
       "version_minor": 0
      },
      "text/plain": [
       "Training episodes:   0%|          | 0/3 [00:00<?, ?it/s]"
      ]
     },
     "metadata": {},
     "output_type": "display_data"
    },
    {
     "data": {
      "application/vnd.jupyter.widget-view+json": {
       "model_id": "df82d52ad99743ad8d100084dc55c475",
       "version_major": 2,
       "version_minor": 0
      },
      "text/plain": [
       "Training episodes:   0%|          | 0/3 [00:00<?, ?it/s]"
      ]
     },
     "metadata": {},
     "output_type": "display_data"
    },
    {
     "data": {
      "application/vnd.jupyter.widget-view+json": {
       "model_id": "449f58e2aa3943f3ad360fa2251015d2",
       "version_major": 2,
       "version_minor": 0
      },
      "text/plain": [
       "Training episodes:   0%|          | 0/3 [00:00<?, ?it/s]"
      ]
     },
     "metadata": {},
     "output_type": "display_data"
    },
    {
     "data": {
      "application/vnd.jupyter.widget-view+json": {
       "model_id": "b8e0645c1c2a4fa49ad7bf239b035590",
       "version_major": 2,
       "version_minor": 0
      },
      "text/plain": [
       "Training episodes:   0%|          | 0/3 [00:00<?, ?it/s]"
      ]
     },
     "metadata": {},
     "output_type": "display_data"
    },
    {
     "name": "stdout",
     "output_type": "stream",
     "text": [
      "[I 2025-03-04 18:13:13,704] Trial 9 finished with value: 1951.209096247934 and parameters: {'learning_rate': 0.00011196760109081355, 'n_steps': 481, 'batch_size': 241, 'gae_lambda': 0.9833260118635945, 'ent_coef': 0.003021932585647171, 'vf_coef': 0.37580179618994425, 'clip_range': 0.24779265544799703, 'max_grad_norm': 0.7763755295614958}. Best is trial 1 with value: 1955.1274975056645.\n"
     ]
    },
    {
     "data": {
      "application/vnd.jupyter.widget-view+json": {
       "model_id": "ec30c44e2c4b4c74af262b729811c4a4",
       "version_major": 2,
       "version_minor": 0
      },
      "text/plain": [
       "Training episodes:   0%|          | 0/3 [00:00<?, ?it/s]"
      ]
     },
     "metadata": {},
     "output_type": "display_data"
    },
    {
     "data": {
      "application/vnd.jupyter.widget-view+json": {
       "model_id": "60178a71631346659a1508abb6132ebe",
       "version_major": 2,
       "version_minor": 0
      },
      "text/plain": [
       "Training episodes:   0%|          | 0/3 [00:00<?, ?it/s]"
      ]
     },
     "metadata": {},
     "output_type": "display_data"
    },
    {
     "data": {
      "application/vnd.jupyter.widget-view+json": {
       "model_id": "12efa65039a542f0a3886e035cc6fd61",
       "version_major": 2,
       "version_minor": 0
      },
      "text/plain": [
       "Training episodes:   0%|          | 0/3 [00:00<?, ?it/s]"
      ]
     },
     "metadata": {},
     "output_type": "display_data"
    },
    {
     "data": {
      "application/vnd.jupyter.widget-view+json": {
       "model_id": "f797c594a0a54347b311ebb47cef5117",
       "version_major": 2,
       "version_minor": 0
      },
      "text/plain": [
       "Training episodes:   0%|          | 0/3 [00:00<?, ?it/s]"
      ]
     },
     "metadata": {},
     "output_type": "display_data"
    },
    {
     "data": {
      "application/vnd.jupyter.widget-view+json": {
       "model_id": "5669efb4828d4fedb90fb500649b72b0",
       "version_major": 2,
       "version_minor": 0
      },
      "text/plain": [
       "Training episodes:   0%|          | 0/3 [00:00<?, ?it/s]"
      ]
     },
     "metadata": {},
     "output_type": "display_data"
    },
    {
     "data": {
      "application/vnd.jupyter.widget-view+json": {
       "model_id": "0064455415284a0882af17cce3d057cf",
       "version_major": 2,
       "version_minor": 0
      },
      "text/plain": [
       "Training episodes:   0%|          | 0/3 [00:00<?, ?it/s]"
      ]
     },
     "metadata": {},
     "output_type": "display_data"
    },
    {
     "data": {
      "application/vnd.jupyter.widget-view+json": {
       "model_id": "0818acf3b7c64dc39831391499eca6c9",
       "version_major": 2,
       "version_minor": 0
      },
      "text/plain": [
       "Training episodes:   0%|          | 0/3 [00:00<?, ?it/s]"
      ]
     },
     "metadata": {},
     "output_type": "display_data"
    },
    {
     "data": {
      "application/vnd.jupyter.widget-view+json": {
       "model_id": "57b26bbd658a4b709a1db5bcdc07cd18",
       "version_major": 2,
       "version_minor": 0
      },
      "text/plain": [
       "Training episodes:   0%|          | 0/3 [00:00<?, ?it/s]"
      ]
     },
     "metadata": {},
     "output_type": "display_data"
    },
    {
     "data": {
      "application/vnd.jupyter.widget-view+json": {
       "model_id": "2e68fb143fa74647a6d7ed952b60bb5c",
       "version_major": 2,
       "version_minor": 0
      },
      "text/plain": [
       "Training episodes:   0%|          | 0/3 [00:00<?, ?it/s]"
      ]
     },
     "metadata": {},
     "output_type": "display_data"
    },
    {
     "data": {
      "application/vnd.jupyter.widget-view+json": {
       "model_id": "db6fc22e64024f15a723547766ee056d",
       "version_major": 2,
       "version_minor": 0
      },
      "text/plain": [
       "Training episodes:   0%|          | 0/3 [00:00<?, ?it/s]"
      ]
     },
     "metadata": {},
     "output_type": "display_data"
    },
    {
     "data": {
      "application/vnd.jupyter.widget-view+json": {
       "model_id": "03902c3160ca46ea8956fd84ec64e480",
       "version_major": 2,
       "version_minor": 0
      },
      "text/plain": [
       "Training episodes:   0%|          | 0/3 [00:00<?, ?it/s]"
      ]
     },
     "metadata": {},
     "output_type": "display_data"
    },
    {
     "data": {
      "application/vnd.jupyter.widget-view+json": {
       "model_id": "0408c79c305248b2af6a929a90862452",
       "version_major": 2,
       "version_minor": 0
      },
      "text/plain": [
       "Training episodes:   0%|          | 0/3 [00:00<?, ?it/s]"
      ]
     },
     "metadata": {},
     "output_type": "display_data"
    },
    {
     "data": {
      "application/vnd.jupyter.widget-view+json": {
       "model_id": "f8b1c8d3f04e49a08e5a9ccea2aa0494",
       "version_major": 2,
       "version_minor": 0
      },
      "text/plain": [
       "seeds:   0%|          | 0/30 [00:00<?, ?it/s]"
      ]
     },
     "metadata": {},
     "output_type": "display_data"
    },
    {
     "data": {
      "application/vnd.jupyter.widget-view+json": {
       "model_id": "202c9f9a63f143bab20f7785a329426f",
       "version_major": 2,
       "version_minor": 0
      },
      "text/plain": [
       "Training episodes:   0%|          | 0/3 [00:00<?, ?it/s]"
      ]
     },
     "metadata": {},
     "output_type": "display_data"
    },
    {
     "data": {
      "application/vnd.jupyter.widget-view+json": {
       "model_id": "2d55f1c936ce436fa188ecc1c76d86ac",
       "version_major": 2,
       "version_minor": 0
      },
      "text/plain": [
       "seeds:   0%|          | 0/30 [00:00<?, ?it/s]"
      ]
     },
     "metadata": {},
     "output_type": "display_data"
    },
    {
     "data": {
      "application/vnd.jupyter.widget-view+json": {
       "model_id": "288cd39647b34b7a912ee84f7b1ddc42",
       "version_major": 2,
       "version_minor": 0
      },
      "text/plain": [
       "Training episodes:   0%|          | 0/3 [00:00<?, ?it/s]"
      ]
     },
     "metadata": {},
     "output_type": "display_data"
    },
    {
     "name": "stdout",
     "output_type": "stream",
     "text": [
      "[I 2025-03-04 18:48:50,217] Trial 8 finished with value: 1968.066803876237 and parameters: {'learning_rate': 0.0004915709371380327, 'n_steps': 301, 'batch_size': 45, 'gae_lambda': 0.9472260681398598, 'ent_coef': 0.00551598278144674, 'vf_coef': 0.5937149506354293, 'clip_range': 0.13218597297209073, 'max_grad_norm': 0.3242090243115361}. Best is trial 8 with value: 1968.066803876237.\n"
     ]
    },
    {
     "data": {
      "application/vnd.jupyter.widget-view+json": {
       "model_id": "25a46368e51c46d1a4bbb1d3078719bb",
       "version_major": 2,
       "version_minor": 0
      },
      "text/plain": [
       "seeds:   0%|          | 0/30 [00:00<?, ?it/s]"
      ]
     },
     "metadata": {},
     "output_type": "display_data"
    },
    {
     "name": "stdout",
     "output_type": "stream",
     "text": [
      "[I 2025-03-04 18:52:24,615] Trial 3 finished with value: 1961.9655875023236 and parameters: {'learning_rate': 1.3186650516530553e-05, 'n_steps': 205, 'batch_size': 18, 'gae_lambda': 0.9521510979109759, 'ent_coef': 0.018745960419003477, 'vf_coef': 0.8709934186582685, 'clip_range': 0.16650705525637016, 'max_grad_norm': 0.4968876093894483}. Best is trial 8 with value: 1968.066803876237.\n"
     ]
    },
    {
     "data": {
      "application/vnd.jupyter.widget-view+json": {
       "model_id": "d5e43074fdd642e1a1ce5fa1714f55db",
       "version_major": 2,
       "version_minor": 0
      },
      "text/plain": [
       "Training episodes:   0%|          | 0/3 [00:00<?, ?it/s]"
      ]
     },
     "metadata": {},
     "output_type": "display_data"
    },
    {
     "name": "stdout",
     "output_type": "stream",
     "text": [
      "[I 2025-03-04 18:55:11,278] Trial 6 finished with value: 1923.591313894112 and parameters: {'learning_rate': 8.625594616843281e-05, 'n_steps': 688, 'batch_size': 17, 'gae_lambda': 0.9053898867388253, 'ent_coef': 0.00012629332383871317, 'vf_coef': 0.7159966887527807, 'clip_range': 0.2858114137408776, 'max_grad_norm': 0.510045631486288}. Best is trial 8 with value: 1968.066803876237.\n"
     ]
    },
    {
     "data": {
      "application/vnd.jupyter.widget-view+json": {
       "model_id": "d2cc251b102e4389a3c039fee5d367f9",
       "version_major": 2,
       "version_minor": 0
      },
      "text/plain": [
       "seeds:   0%|          | 0/30 [00:00<?, ?it/s]"
      ]
     },
     "metadata": {},
     "output_type": "display_data"
    },
    {
     "name": "stdout",
     "output_type": "stream",
     "text": [
      "[I 2025-03-04 18:57:52,051] Trial 0 finished with value: 1912.7660500327072 and parameters: {'learning_rate': 1.9689571191100637e-05, 'n_steps': 153, 'batch_size': 16, 'gae_lambda': 0.8213223334258669, 'ent_coef': 0.008032203826223012, 'vf_coef': 0.807085712387601, 'clip_range': 0.256278616410658, 'max_grad_norm': 0.10314355001748177}. Best is trial 8 with value: 1968.066803876237.\n"
     ]
    },
    {
     "data": {
      "application/vnd.jupyter.widget-view+json": {
       "model_id": "ed8aa75e853a4ad5850e7bf19c82995d",
       "version_major": 2,
       "version_minor": 0
      },
      "text/plain": [
       "seeds:   0%|          | 0/30 [00:00<?, ?it/s]"
      ]
     },
     "metadata": {},
     "output_type": "display_data"
    },
    {
     "data": {
      "application/vnd.jupyter.widget-view+json": {
       "model_id": "e5c3638446754ec29fdd95de9eae60c9",
       "version_major": 2,
       "version_minor": 0
      },
      "text/plain": [
       "Training episodes:   0%|          | 0/3 [00:00<?, ?it/s]"
      ]
     },
     "metadata": {},
     "output_type": "display_data"
    },
    {
     "data": {
      "application/vnd.jupyter.widget-view+json": {
       "model_id": "2133e5c98f7945a8888d636a7d9fa56b",
       "version_major": 2,
       "version_minor": 0
      },
      "text/plain": [
       "Training episodes:   0%|          | 0/3 [00:00<?, ?it/s]"
      ]
     },
     "metadata": {},
     "output_type": "display_data"
    },
    {
     "data": {
      "application/vnd.jupyter.widget-view+json": {
       "model_id": "6ad9c7fa2feb418fb6ec735f794b1217",
       "version_major": 2,
       "version_minor": 0
      },
      "text/plain": [
       "Training episodes:   0%|          | 0/3 [00:00<?, ?it/s]"
      ]
     },
     "metadata": {},
     "output_type": "display_data"
    },
    {
     "data": {
      "application/vnd.jupyter.widget-view+json": {
       "model_id": "207c15a352da4954961931ac35d3edd7",
       "version_major": 2,
       "version_minor": 0
      },
      "text/plain": [
       "Training episodes:   0%|          | 0/3 [00:00<?, ?it/s]"
      ]
     },
     "metadata": {},
     "output_type": "display_data"
    },
    {
     "data": {
      "application/vnd.jupyter.widget-view+json": {
       "model_id": "b57ab1bfcb994ab19cb9017166fc8f13",
       "version_major": 2,
       "version_minor": 0
      },
      "text/plain": [
       "Training episodes:   0%|          | 0/3 [00:00<?, ?it/s]"
      ]
     },
     "metadata": {},
     "output_type": "display_data"
    },
    {
     "data": {
      "application/vnd.jupyter.widget-view+json": {
       "model_id": "807b0675c8f74bab9bc42bad44aeb663",
       "version_major": 2,
       "version_minor": 0
      },
      "text/plain": [
       "Training episodes:   0%|          | 0/3 [00:00<?, ?it/s]"
      ]
     },
     "metadata": {},
     "output_type": "display_data"
    },
    {
     "data": {
      "application/vnd.jupyter.widget-view+json": {
       "model_id": "1cda31af67064688a7551559ffed0968",
       "version_major": 2,
       "version_minor": 0
      },
      "text/plain": [
       "Training episodes:   0%|          | 0/3 [00:00<?, ?it/s]"
      ]
     },
     "metadata": {},
     "output_type": "display_data"
    },
    {
     "data": {
      "application/vnd.jupyter.widget-view+json": {
       "model_id": "8d6d357e06e34e2089010abb8759e17d",
       "version_major": 2,
       "version_minor": 0
      },
      "text/plain": [
       "Training episodes:   0%|          | 0/3 [00:00<?, ?it/s]"
      ]
     },
     "metadata": {},
     "output_type": "display_data"
    },
    {
     "data": {
      "application/vnd.jupyter.widget-view+json": {
       "model_id": "6118866bdda640358b8dfec0605840c9",
       "version_major": 2,
       "version_minor": 0
      },
      "text/plain": [
       "Training episodes:   0%|          | 0/3 [00:00<?, ?it/s]"
      ]
     },
     "metadata": {},
     "output_type": "display_data"
    },
    {
     "data": {
      "application/vnd.jupyter.widget-view+json": {
       "model_id": "f536751f974b4a82b55feeb1f17fdb12",
       "version_major": 2,
       "version_minor": 0
      },
      "text/plain": [
       "Training episodes:   0%|          | 0/3 [00:00<?, ?it/s]"
      ]
     },
     "metadata": {},
     "output_type": "display_data"
    },
    {
     "data": {
      "application/vnd.jupyter.widget-view+json": {
       "model_id": "6e18f6cd11694077afb2bfa90d27b9e8",
       "version_major": 2,
       "version_minor": 0
      },
      "text/plain": [
       "Training episodes:   0%|          | 0/3 [00:00<?, ?it/s]"
      ]
     },
     "metadata": {},
     "output_type": "display_data"
    },
    {
     "data": {
      "application/vnd.jupyter.widget-view+json": {
       "model_id": "adce1c91197d4881bbf628ae2635abd5",
       "version_major": 2,
       "version_minor": 0
      },
      "text/plain": [
       "Training episodes:   0%|          | 0/3 [00:00<?, ?it/s]"
      ]
     },
     "metadata": {},
     "output_type": "display_data"
    },
    {
     "data": {
      "application/vnd.jupyter.widget-view+json": {
       "model_id": "ea5470a403ef481894bf7ccb739678e6",
       "version_major": 2,
       "version_minor": 0
      },
      "text/plain": [
       "Training episodes:   0%|          | 0/3 [00:00<?, ?it/s]"
      ]
     },
     "metadata": {},
     "output_type": "display_data"
    },
    {
     "data": {
      "application/vnd.jupyter.widget-view+json": {
       "model_id": "dea66976aed84524972d5a13271a7243",
       "version_major": 2,
       "version_minor": 0
      },
      "text/plain": [
       "Training episodes:   0%|          | 0/3 [00:00<?, ?it/s]"
      ]
     },
     "metadata": {},
     "output_type": "display_data"
    },
    {
     "data": {
      "application/vnd.jupyter.widget-view+json": {
       "model_id": "165e30da95c84fe5b5c8a1c964af3870",
       "version_major": 2,
       "version_minor": 0
      },
      "text/plain": [
       "Training episodes:   0%|          | 0/3 [00:00<?, ?it/s]"
      ]
     },
     "metadata": {},
     "output_type": "display_data"
    },
    {
     "data": {
      "application/vnd.jupyter.widget-view+json": {
       "model_id": "6780582315184f03bf2a634fa148d214",
       "version_major": 2,
       "version_minor": 0
      },
      "text/plain": [
       "Training episodes:   0%|          | 0/3 [00:00<?, ?it/s]"
      ]
     },
     "metadata": {},
     "output_type": "display_data"
    },
    {
     "data": {
      "application/vnd.jupyter.widget-view+json": {
       "model_id": "6fd0b6f641e449efb75a0205e871f7a5",
       "version_major": 2,
       "version_minor": 0
      },
      "text/plain": [
       "Training episodes:   0%|          | 0/3 [00:00<?, ?it/s]"
      ]
     },
     "metadata": {},
     "output_type": "display_data"
    },
    {
     "data": {
      "application/vnd.jupyter.widget-view+json": {
       "model_id": "07c88aa1c23f44a3b5295dcd9c0b9df1",
       "version_major": 2,
       "version_minor": 0
      },
      "text/plain": [
       "Training episodes:   0%|          | 0/3 [00:00<?, ?it/s]"
      ]
     },
     "metadata": {},
     "output_type": "display_data"
    },
    {
     "data": {
      "application/vnd.jupyter.widget-view+json": {
       "model_id": "c2197ac361ad424894309b8818008ab3",
       "version_major": 2,
       "version_minor": 0
      },
      "text/plain": [
       "Training episodes:   0%|          | 0/3 [00:00<?, ?it/s]"
      ]
     },
     "metadata": {},
     "output_type": "display_data"
    },
    {
     "data": {
      "application/vnd.jupyter.widget-view+json": {
       "model_id": "879c8217ed34472d9082e65c338d75f1",
       "version_major": 2,
       "version_minor": 0
      },
      "text/plain": [
       "Training episodes:   0%|          | 0/3 [00:00<?, ?it/s]"
      ]
     },
     "metadata": {},
     "output_type": "display_data"
    },
    {
     "data": {
      "application/vnd.jupyter.widget-view+json": {
       "model_id": "e17aee378976473f90d15bb6b439b32f",
       "version_major": 2,
       "version_minor": 0
      },
      "text/plain": [
       "Training episodes:   0%|          | 0/3 [00:00<?, ?it/s]"
      ]
     },
     "metadata": {},
     "output_type": "display_data"
    },
    {
     "data": {
      "application/vnd.jupyter.widget-view+json": {
       "model_id": "9694868ed91f46138af48abb11b0e805",
       "version_major": 2,
       "version_minor": 0
      },
      "text/plain": [
       "Training episodes:   0%|          | 0/3 [00:00<?, ?it/s]"
      ]
     },
     "metadata": {},
     "output_type": "display_data"
    },
    {
     "data": {
      "application/vnd.jupyter.widget-view+json": {
       "model_id": "de10760c4563490c878a2455629da566",
       "version_major": 2,
       "version_minor": 0
      },
      "text/plain": [
       "Training episodes:   0%|          | 0/3 [00:00<?, ?it/s]"
      ]
     },
     "metadata": {},
     "output_type": "display_data"
    },
    {
     "data": {
      "application/vnd.jupyter.widget-view+json": {
       "model_id": "7197d50969244697b3aa63e17e6db453",
       "version_major": 2,
       "version_minor": 0
      },
      "text/plain": [
       "Training episodes:   0%|          | 0/3 [00:00<?, ?it/s]"
      ]
     },
     "metadata": {},
     "output_type": "display_data"
    },
    {
     "data": {
      "application/vnd.jupyter.widget-view+json": {
       "model_id": "296233301f8848a5bf2abfd4c0726d66",
       "version_major": 2,
       "version_minor": 0
      },
      "text/plain": [
       "Training episodes:   0%|          | 0/3 [00:00<?, ?it/s]"
      ]
     },
     "metadata": {},
     "output_type": "display_data"
    },
    {
     "data": {
      "application/vnd.jupyter.widget-view+json": {
       "model_id": "442de01e237f41f78e7be30792809a3f",
       "version_major": 2,
       "version_minor": 0
      },
      "text/plain": [
       "Training episodes:   0%|          | 0/3 [00:00<?, ?it/s]"
      ]
     },
     "metadata": {},
     "output_type": "display_data"
    },
    {
     "data": {
      "application/vnd.jupyter.widget-view+json": {
       "model_id": "634ed3ddd95e4860a460a7e82bf4eec4",
       "version_major": 2,
       "version_minor": 0
      },
      "text/plain": [
       "Training episodes:   0%|          | 0/3 [00:00<?, ?it/s]"
      ]
     },
     "metadata": {},
     "output_type": "display_data"
    },
    {
     "data": {
      "application/vnd.jupyter.widget-view+json": {
       "model_id": "98dfba9d44bc4670bd4249b19e0b35be",
       "version_major": 2,
       "version_minor": 0
      },
      "text/plain": [
       "Training episodes:   0%|          | 0/3 [00:00<?, ?it/s]"
      ]
     },
     "metadata": {},
     "output_type": "display_data"
    },
    {
     "data": {
      "application/vnd.jupyter.widget-view+json": {
       "model_id": "1bd123b8870f4326ad8d9b2aeae1880b",
       "version_major": 2,
       "version_minor": 0
      },
      "text/plain": [
       "Training episodes:   0%|          | 0/3 [00:00<?, ?it/s]"
      ]
     },
     "metadata": {},
     "output_type": "display_data"
    },
    {
     "data": {
      "application/vnd.jupyter.widget-view+json": {
       "model_id": "13d1045bdbcc4a06aa934ee1c0ab6475",
       "version_major": 2,
       "version_minor": 0
      },
      "text/plain": [
       "Training episodes:   0%|          | 0/3 [00:00<?, ?it/s]"
      ]
     },
     "metadata": {},
     "output_type": "display_data"
    },
    {
     "data": {
      "application/vnd.jupyter.widget-view+json": {
       "model_id": "89beecbce5c8436580c04a7ce702eadd",
       "version_major": 2,
       "version_minor": 0
      },
      "text/plain": [
       "seeds:   0%|          | 0/30 [00:00<?, ?it/s]"
      ]
     },
     "metadata": {},
     "output_type": "display_data"
    }
   ],
   "source": [
    "# | hide\n",
    "optimized_expert_maskable_ppo_agent = MaskablePPOAgent(\n",
    "    render_mode=\"human\", env_config=ENV_CONFIG, name=\"OptimizedExpertMaskablePPOAgent\"\n",
    ")\n",
    "optimized_expert_maskable_ppo_agent.optimize()\n",
    "\n",
    "if not QUICK_MODE:\n",
    "    optimized_expert_maskable_ppo_agent.export_hyperparameters(\n",
    "        f\"{optimized_expert_maskable_ppo_agent.name}.yaml\"\n",
    "    )\n",
    "\n",
    "optimized_expert_maskable_ppo_agent.train()\n",
    "\n",
    "if not QUICK_MODE:\n",
    "    optimized_expert_maskable_ppo_agent.save_model(\n",
    "        f\"{optimized_expert_maskable_ppo_agent.name}.model\"\n",
    "    )\n",
    "\n",
    "evaluation_data_per_agent[optimized_expert_maskable_ppo_agent.name] = (\n",
    "    optimized_expert_maskable_ppo_agent.evaluate()\n",
    ")"
   ]
  },
  {
   "cell_type": "code",
   "execution_count": null,
   "metadata": {},
   "outputs": [],
   "source": [
    "# | hide\n",
    "if not QUICK_MODE:\n",
    "    with open(\"evaluation_data_per_agent.pkl\", \"wb\") as f:\n",
    "        pickle.dump(evaluation_data_per_agent, f)"
   ]
  },
  {
   "cell_type": "code",
   "execution_count": null,
   "metadata": {},
   "outputs": [],
   "source": [
    "# | hide\n",
    "import nbdev\n",
    "\n",
    "nbdev.nbdev_export()"
   ]
  }
 ],
 "metadata": {
  "kernelspec": {
   "display_name": "python3",
   "language": "python",
   "name": "python3"
  }
 },
 "nbformat": 4,
 "nbformat_minor": 4
}
