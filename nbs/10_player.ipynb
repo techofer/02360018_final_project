{
 "cells": [
  {
   "cell_type": "markdown",
   "metadata": {},
   "source": [
    "# player\n",
    "\n",
    "> This module training optimizing of RL agents on the electricity market environment."
   ]
  },
  {
   "cell_type": "code",
   "execution_count": null,
   "metadata": {},
   "outputs": [],
   "source": [
    "# | default_exp player"
   ]
  },
  {
   "cell_type": "code",
   "execution_count": null,
   "metadata": {},
   "outputs": [],
   "source": [
    "# | hide\n",
    "from nbdev.showdoc import *"
   ]
  },
  {
   "cell_type": "code",
   "execution_count": null,
   "metadata": {},
   "outputs": [],
   "source": [
    "# | export\n",
    "import pickle\n",
    "from abc import ABC\n",
    "from dataclasses import dataclass\n",
    "from pathlib import Path\n",
    "\n",
    "import numpy as np\n",
    "import optuna\n",
    "import torch\n",
    "import yaml\n",
    "from sb3_contrib import MaskablePPO\n",
    "from sb3_contrib.common.maskable.policies import MaskableActorCriticPolicy\n",
    "from sb3_contrib.common.wrappers import ActionMasker\n",
    "from stable_baselines3 import A2C\n",
    "from stable_baselines3.common.callbacks import CheckpointCallback\n",
    "from stable_baselines3.common.monitor import Monitor\n",
    "from tqdm.notebook import tqdm\n",
    "\n",
    "from electricity_market.env import ElectricityMarketEnv, EnvConfig\n",
    "from electricity_market.utils import EvaluationData, TrainingData"
   ]
  },
  {
   "cell_type": "code",
   "execution_count": null,
   "metadata": {},
   "outputs": [],
   "source": [
    "# | export\n",
    "N_EPISODES = 3\n",
    "N_TRAILS = 10\n",
    "SEEDS = [\n",
    "    111111,\n",
    "    121212,\n",
    "    123456,\n",
    "    200000,\n",
    "    217890,\n",
    "    222222,\n",
    "    224775,\n",
    "    234567,\n",
    "    253084,\n",
    "    285234,\n",
    "    312135,\n",
    "    314831,\n",
    "    333333,\n",
    "    345678,\n",
    "    406339,\n",
    "    444444,\n",
    "    471678,\n",
    "    555555,\n",
    "    562845,\n",
    "    666666,\n",
    "    701753,\n",
    "    755460,\n",
    "    761386,\n",
    "    777777,\n",
    "    789391,\n",
    "    888888,\n",
    "    993068,\n",
    "    979797,\n",
    "    987654,\n",
    "    999999,\n",
    "]\n",
    "ENV_CONFIG = EnvConfig()\n",
    "\n",
    "QUICK_MODE = True\n",
    "\n",
    "if QUICK_MODE:\n",
    "    ENV_CONFIG = EnvConfig(max_timestep=10)\n",
    "    SEEDS = [10000]\n",
    "\n",
    "training_data_per_agent = {}\n",
    "evaluation_data_per_agent = {}"
   ]
  },
  {
   "cell_type": "code",
   "execution_count": null,
   "metadata": {},
   "outputs": [],
   "source": [
    "# | export\n",
    "\n",
    "\n",
    "@dataclass\n",
    "class TrainingData:\n",
    "    steps: list[int]\n",
    "    episodes: list[int]\n",
    "    rewards: list[float]\n",
    "\n",
    "\n",
    "@dataclass\n",
    "class EvaluationData:\n",
    "    episodes: list[int]\n",
    "    rewards: list[float]"
   ]
  },
  {
   "cell_type": "code",
   "execution_count": null,
   "metadata": {},
   "outputs": [],
   "source": [
    "# | export\n",
    "\n",
    "\n",
    "class Agent(ABC):\n",
    "    def __init__(self, name):\n",
    "        self.name = name\n",
    "\n",
    "    def evaluate(self):\n",
    "        \"\"\"\n",
    "        Evaluate the model, and return EvaluationData.\n",
    "        \"\"\"\n",
    "        raise NotImplementedError\n",
    "\n",
    "\n",
    "class ModelAgent(Agent):\n",
    "    def __init__(self, name, env, model, device):\n",
    "        super().__init__(name)\n",
    "        self.device = device\n",
    "        self.model = model\n",
    "        self.env = env\n",
    "\n",
    "    def train(self) -> TrainingData:\n",
    "        \"\"\"\n",
    "        Train the model, and return TrainingData.\n",
    "        \"\"\"\n",
    "        all_rewards = []\n",
    "        all_steps = []\n",
    "        total_steps = 0\n",
    "        checkpoint_callback = CheckpointCallback(save_freq=1000, save_path=\"./logs/\")\n",
    "\n",
    "        # Training loop\n",
    "        for seed in tqdm(SEEDS, desc=\"seeds\"):\n",
    "            for _ in tqdm(range(N_EPISODES), desc=\"Training episodes\"):\n",
    "                obs, _ = self.env.reset(seed=seed)\n",
    "                episode_rewards = []\n",
    "                steps = 0\n",
    "                done = False\n",
    "\n",
    "                while not done:\n",
    "                    obs_tensor = torch.tensor(obs, dtype=torch.float32).to(self.device)\n",
    "                    if isinstance(self, MaskableAgent):\n",
    "\n",
    "                        action, _ = self.model.predict(\n",
    "                            obs_tensor, action_masks=MaskableAgent.mask_fn(self.env)\n",
    "                        )\n",
    "                    else:\n",
    "                        action, _ = self.model.predict(obs_tensor)\n",
    "\n",
    "                    obs, reward, done, truncated, _ = self.env.step(action)\n",
    "                    episode_rewards.append(reward)\n",
    "                    steps += 1\n",
    "\n",
    "                    if done or truncated:\n",
    "\n",
    "                        self.model.learn(\n",
    "                            total_timesteps=steps, callback=checkpoint_callback\n",
    "                        )\n",
    "\n",
    "                all_rewards.append(np.sum(episode_rewards))\n",
    "                total_steps += steps\n",
    "                all_steps.append(total_steps)\n",
    "\n",
    "        return TrainingData(\n",
    "            steps=all_steps,\n",
    "            episodes=list(range(len(all_rewards))),\n",
    "            rewards=all_rewards,\n",
    "        )\n",
    "\n",
    "    def evaluate(self, render: bool = False) -> EvaluationData:\n",
    "        \"\"\"\n",
    "        Evaluate the model, and return EvaluationData.\n",
    "        \"\"\"\n",
    "        all_rewards = []\n",
    "\n",
    "        for seed in tqdm(SEEDS, desc=\"seeds\"):\n",
    "            for _ in tqdm(range(N_EPISODES), desc=\"Evaluation episodes\"):\n",
    "                obs, _ = self.env.reset(seed=seed)\n",
    "                episode_rewards = []\n",
    "                done = False\n",
    "\n",
    "                while not done:\n",
    "                    # Convert observation to torch tensor\n",
    "                    obs_tensor = torch.tensor(obs, dtype=torch.float32).to(self.device)\n",
    "\n",
    "                    if isinstance(self, MaskableAgent):\n",
    "                        action, _ = self.model.predict(\n",
    "                            obs_tensor,\n",
    "                            action_masks=MaskableAgent.mask_fn(self.env),\n",
    "                            deterministic=True,\n",
    "                        )\n",
    "                    else:\n",
    "                        action, _ = self.model.predict(obs_tensor, deterministic=True)\n",
    "                    obs, reward, done, truncated, _ = self.env.step(action)\n",
    "                    episode_rewards.append(reward)\n",
    "\n",
    "                    if render:\n",
    "                        self.env.render()\n",
    "\n",
    "                    if truncated:\n",
    "                        break\n",
    "\n",
    "                all_rewards.append(np.sum(episode_rewards))\n",
    "\n",
    "        return EvaluationData(\n",
    "            episodes=list(range(len(all_rewards))),\n",
    "            rewards=all_rewards,\n",
    "        )\n",
    "\n",
    "    def save_model(self, model_path: Path) -> None:\n",
    "        self.model.save(str(model_path))\n",
    "\n",
    "    def load_model(self, model_path: Path) -> None:\n",
    "        self.model.load(str(model_path))\n",
    "\n",
    "\n",
    "class MaskableAgent(Agent):\n",
    "    @staticmethod\n",
    "    def mask_fn(env):\n",
    "        \"\"\"\n",
    "        Placeholder mask function if needed.\n",
    "        \"\"\"\n",
    "        if isinstance(env, Monitor):\n",
    "            return env.env.action_masks()\n",
    "        return env.action_masks()"
   ]
  },
  {
   "cell_type": "code",
   "execution_count": null,
   "metadata": {},
   "outputs": [],
   "source": [
    "# | export\n",
    "\n",
    "\n",
    "class MaskableRandomAgent(MaskableAgent):\n",
    "    def __init__(\n",
    "        self,\n",
    "        env_config: EnvConfig | None = None,\n",
    "        render_mode: str | None = None,\n",
    "        name: str = \"MaskableRandomAgent\",\n",
    "    ):\n",
    "        \"\"\"\n",
    "        Initialize the agent and create the environment.\n",
    "        \"\"\"\n",
    "        super().__init__(name=name)\n",
    "        self.env = ActionMasker(\n",
    "            ElectricityMarketEnv(env_config, render_mode=render_mode), self.mask_fn\n",
    "        )\n",
    "\n",
    "    def evaluate(self, render: bool = False) -> EvaluationData:\n",
    "        \"\"\"\n",
    "        Evaluates the random agent by executing episodes in the environment.\n",
    "        \"\"\"\n",
    "        all_rewards = []\n",
    "\n",
    "        for seed in tqdm(SEEDS, desc=\"seeds\"):\n",
    "            for _ in tqdm(range(N_EPISODES), desc=\"episodes\", leave=False):\n",
    "                episode_rewards = []\n",
    "\n",
    "                obs, _ = self.env.reset(seed=seed)\n",
    "                done = False\n",
    "                total_reward = 0.0\n",
    "\n",
    "                while not done:\n",
    "                    action_mask = self.env.action_masks()\n",
    "                    valid_actions = np.where(action_mask)[0]  # Get valid actions\n",
    "                    action = np.random.choice(\n",
    "                        valid_actions\n",
    "                    )  # Select random valid action\n",
    "\n",
    "                    obs, reward, done, truncated, _ = self.env.step(action)\n",
    "                    total_reward += reward\n",
    "\n",
    "                    if render:\n",
    "                        self.env.render()\n",
    "\n",
    "                    if truncated:\n",
    "                        break\n",
    "\n",
    "                episode_rewards.append(total_reward)\n",
    "\n",
    "                # Append episode results to the total list\n",
    "                all_rewards.append(total_reward)\n",
    "\n",
    "        return EvaluationData(\n",
    "            episodes=list(range(len(all_rewards))),\n",
    "            rewards=all_rewards,\n",
    "        )"
   ]
  },
  {
   "cell_type": "code",
   "execution_count": null,
   "metadata": {},
   "outputs": [],
   "source": [
    "# | export\n",
    "\n",
    "\n",
    "class A2CAgent(ModelAgent):\n",
    "    \"\"\"A2C Agent for the Electricity Market Environment.\"\"\"\n",
    "\n",
    "    def __init__(\n",
    "        self,\n",
    "        env_config: EnvConfig | None = None,\n",
    "        render_mode: str | None = None,\n",
    "        name: str = \"A2CAgent\",\n",
    "    ):\n",
    "        device = \"cuda\" if torch.cuda.is_available() else \"cpu\"\n",
    "        env = Monitor(\n",
    "            ElectricityMarketEnv(env_config, render_mode=render_mode),\n",
    "        )\n",
    "        model = A2C(\n",
    "            \"MlpPolicy\",\n",
    "            env,\n",
    "            verbose=0,\n",
    "            tensorboard_log=f\"./{name}_tensorboard/\",\n",
    "            device=device,\n",
    "        )\n",
    "        super().__init__(name=name, env=env, model=model, device=device)"
   ]
  },
  {
   "cell_type": "code",
   "execution_count": null,
   "metadata": {},
   "outputs": [],
   "source": [
    "# | export\n",
    "\n",
    "\n",
    "class MaskablePPOAgent(ModelAgent, MaskableAgent):\n",
    "    \"\"\"Maskable PPO Agent for the Electricity Market Environment.\"\"\"\n",
    "\n",
    "    def __init__(\n",
    "        self,\n",
    "        env_config: EnvConfig | None = None,\n",
    "        render_mode: str | None = None,\n",
    "        name: str = \"MaskablePPOAgent\",\n",
    "    ):\n",
    "        env = Monitor(\n",
    "            ActionMasker(\n",
    "                ElectricityMarketEnv(env_config, render_mode=render_mode),\n",
    "                self.mask_fn,\n",
    "            )\n",
    "        )\n",
    "        device = \"cuda\" if torch.cuda.is_available() else \"cpu\"\n",
    "        model = MaskablePPO(\n",
    "            MaskableActorCriticPolicy,\n",
    "            env,\n",
    "            verbose=0,\n",
    "            tensorboard_log=f\"./{name}_tensorboard/\",\n",
    "            device=device,\n",
    "        )\n",
    "        super().__init__(name=name, env=env, model=model, device=device)\n",
    "        self.optimized_hyperparameters = {}\n",
    "        self.env_config = env_config or EnvConfig()\n",
    "\n",
    "    @staticmethod\n",
    "    def collect_episodes_rewards(model, env) -> list[float]:\n",
    "        \"\"\"\n",
    "        Collect rewards from evaluating the agent for a given number of episodes.\n",
    "        \"\"\"\n",
    "        rewards = []\n",
    "        for seed in tqdm(SEEDS, desc=\"seeds\"):\n",
    "            for _ in tqdm(range(N_EPISODES), desc=\"Collect episodes\"):\n",
    "                obs, _ = env.reset(seed=seed)\n",
    "                episode_rewards = 0\n",
    "                done = False\n",
    "\n",
    "                while not done:\n",
    "                    action, _ = model.predict(\n",
    "                        obs, deterministic=True, action_masks=MaskableAgent.mask_fn(env)\n",
    "                    )\n",
    "                    obs, reward, done, truncated, _ = env.step(action)\n",
    "                    episode_rewards += reward\n",
    "                rewards.append(episode_rewards)\n",
    "\n",
    "        return rewards\n",
    "\n",
    "    def optimize(self) -> None:\n",
    "        \"\"\"\n",
    "        Optimize the agent with hyperparameters and return TrainingData.\n",
    "        \"\"\"\n",
    "\n",
    "        def objective(trial):\n",
    "            # Hyperparameter search space\n",
    "            learning_rate = trial.suggest_float(\"learning_rate\", 1e-5, 1e-3, log=True)\n",
    "            n_steps = trial.suggest_int(\"n_steps\", 32, 1024, log=True)\n",
    "            batch_size = trial.suggest_int(\"batch_size\", 16, 256, log=True)\n",
    "            gamma = trial.suggest_float(\"gamma\", 0.9, 0.9999)\n",
    "            gae_lambda = trial.suggest_float(\"gae_lambda\", 0.8, 1.0)\n",
    "            ent_coef = trial.suggest_float(\"ent_coef\", 0.0, 0.02)\n",
    "            vf_coef = trial.suggest_float(\"vf_coef\", 0.1, 1.0)\n",
    "            clip_range = trial.suggest_float(\"clip_range\", 0.1, 0.3)\n",
    "            max_grad_norm = trial.suggest_float(\"max_grad_norm\", 0.1, 1.0)\n",
    "\n",
    "            # Set up environment and model with the sampled hyperparameters\n",
    "            env = Monitor(\n",
    "                ActionMasker(\n",
    "                    ElectricityMarketEnv(self.env_config, render_mode=\"human\"),\n",
    "                    self.mask_fn,\n",
    "                )\n",
    "            )\n",
    "\n",
    "            model = MaskablePPO(\n",
    "                MaskableActorCriticPolicy,\n",
    "                env,\n",
    "                learning_rate=learning_rate,\n",
    "                n_steps=n_steps,\n",
    "                batch_size=batch_size,\n",
    "                gamma=gamma,\n",
    "                gae_lambda=gae_lambda,\n",
    "                ent_coef=ent_coef,\n",
    "                vf_coef=vf_coef,\n",
    "                clip_range=clip_range,\n",
    "                max_grad_norm=max_grad_norm,\n",
    "                verbose=0,\n",
    "                tensorboard_log=f\"./{self.name}_tensorboard/\",\n",
    "                device=self.device,\n",
    "            )\n",
    "\n",
    "            model.learn(\n",
    "                total_timesteps=self.env_config.max_timestep,\n",
    "                use_masking=True,\n",
    "                reset_num_timesteps=False,\n",
    "            )\n",
    "\n",
    "            # Collect rewards for evaluation\n",
    "            episode_rewards = self.collect_episodes_rewards(model, env)\n",
    "\n",
    "            # Return the mean reward as the optimization goal\n",
    "            return np.mean(episode_rewards)\n",
    "\n",
    "        # Create a study to optimize the objective function\n",
    "        study = optuna.create_study(\n",
    "            study_name=self.name,\n",
    "            storage=\"sqlite:///optuna_study.db\",\n",
    "            load_if_exists=True,\n",
    "            direction=\"maximize\",\n",
    "            pruner=optuna.pruners.HyperbandPruner(),\n",
    "            sampler=optuna.samplers.TPESampler(),\n",
    "        )\n",
    "\n",
    "        # Optimize using the defined objective function\n",
    "        study.optimize(objective, n_trials=N_TRAILS, n_jobs=-1, show_progress_bar=True)\n",
    "\n",
    "        # Save the best learned_hyperparameters\n",
    "        self.optimized_hyperparameters = study.best_params\n",
    "\n",
    "        # Re-train the model with the optimized learned_hyperparameters\n",
    "        self.model = MaskablePPO(\n",
    "            MaskableActorCriticPolicy,\n",
    "            self.env,\n",
    "            **self.optimized_hyperparameters,\n",
    "            verbose=0,\n",
    "            tensorboard_log=f\"./{self.name}_tensorboard/\",\n",
    "            device=self.device,\n",
    "        )\n",
    "\n",
    "    def export_hyperparameters(self, filename: str):\n",
    "        \"\"\"\n",
    "        Export optimized learned_hyperparameters to a YAML file.\n",
    "        \"\"\"\n",
    "        with open(filename, \"w\") as file:\n",
    "            yaml.dump(self.optimized_hyperparameters, file)"
   ]
  },
  {
   "cell_type": "markdown",
   "metadata": {},
   "source": "### Evaluation MaskableRandom on ElectricityMarketEnv\n"
  },
  {
   "cell_type": "code",
   "execution_count": null,
   "metadata": {},
   "outputs": [
    {
     "data": {
      "application/vnd.jupyter.widget-view+json": {
       "model_id": "8aa5734e1adc434083307f72158892af",
       "version_major": 2,
       "version_minor": 0
      },
      "text/plain": [
       "seeds:   0%|          | 0/30 [00:00<?, ?it/s]"
      ]
     },
     "metadata": {},
     "output_type": "display_data"
    },
    {
     "data": {
      "application/vnd.jupyter.widget-view+json": {
       "model_id": "300f13ab10214c03ab087840d8726b58",
       "version_major": 2,
       "version_minor": 0
      },
      "text/plain": [
       "episodes:   0%|          | 0/3 [00:00<?, ?it/s]"
      ]
     },
     "metadata": {},
     "output_type": "display_data"
    },
    {
     "data": {
      "application/vnd.jupyter.widget-view+json": {
       "model_id": "0f03b9a42622433e9eb4fc29081258d1",
       "version_major": 2,
       "version_minor": 0
      },
      "text/plain": [
       "episodes:   0%|          | 0/3 [00:00<?, ?it/s]"
      ]
     },
     "metadata": {},
     "output_type": "display_data"
    },
    {
     "data": {
      "application/vnd.jupyter.widget-view+json": {
       "model_id": "cb5fb804e2cf4824abd0f1ef369bf575",
       "version_major": 2,
       "version_minor": 0
      },
      "text/plain": [
       "episodes:   0%|          | 0/3 [00:00<?, ?it/s]"
      ]
     },
     "metadata": {},
     "output_type": "display_data"
    },
    {
     "data": {
      "application/vnd.jupyter.widget-view+json": {
       "model_id": "e43f1c66616d403bb48a6d4ab5628e2f",
       "version_major": 2,
       "version_minor": 0
      },
      "text/plain": [
       "episodes:   0%|          | 0/3 [00:00<?, ?it/s]"
      ]
     },
     "metadata": {},
     "output_type": "display_data"
    },
    {
     "data": {
      "application/vnd.jupyter.widget-view+json": {
       "model_id": "6460e4dee28542cb83dbd254ff736c44",
       "version_major": 2,
       "version_minor": 0
      },
      "text/plain": [
       "episodes:   0%|          | 0/3 [00:00<?, ?it/s]"
      ]
     },
     "metadata": {},
     "output_type": "display_data"
    },
    {
     "data": {
      "application/vnd.jupyter.widget-view+json": {
       "model_id": "6281c29155ec485dbdb36be7dc2c311a",
       "version_major": 2,
       "version_minor": 0
      },
      "text/plain": [
       "episodes:   0%|          | 0/3 [00:00<?, ?it/s]"
      ]
     },
     "metadata": {},
     "output_type": "display_data"
    },
    {
     "data": {
      "application/vnd.jupyter.widget-view+json": {
       "model_id": "4750c6819eef4d5db623f4f648461976",
       "version_major": 2,
       "version_minor": 0
      },
      "text/plain": [
       "episodes:   0%|          | 0/3 [00:00<?, ?it/s]"
      ]
     },
     "metadata": {},
     "output_type": "display_data"
    },
    {
     "data": {
      "application/vnd.jupyter.widget-view+json": {
       "model_id": "aab041259ada4d8681be29c68e52428b",
       "version_major": 2,
       "version_minor": 0
      },
      "text/plain": [
       "episodes:   0%|          | 0/3 [00:00<?, ?it/s]"
      ]
     },
     "metadata": {},
     "output_type": "display_data"
    },
    {
     "data": {
      "application/vnd.jupyter.widget-view+json": {
       "model_id": "8a1a13088cbe41f5a06ad0b585b26329",
       "version_major": 2,
       "version_minor": 0
      },
      "text/plain": [
       "episodes:   0%|          | 0/3 [00:00<?, ?it/s]"
      ]
     },
     "metadata": {},
     "output_type": "display_data"
    },
    {
     "data": {
      "application/vnd.jupyter.widget-view+json": {
       "model_id": "4010917e0b924800a452b22145e692d8",
       "version_major": 2,
       "version_minor": 0
      },
      "text/plain": [
       "episodes:   0%|          | 0/3 [00:00<?, ?it/s]"
      ]
     },
     "metadata": {},
     "output_type": "display_data"
    },
    {
     "data": {
      "application/vnd.jupyter.widget-view+json": {
       "model_id": "e0336a7fa0aa49cb94c6572368bc2b0f",
       "version_major": 2,
       "version_minor": 0
      },
      "text/plain": [
       "episodes:   0%|          | 0/3 [00:00<?, ?it/s]"
      ]
     },
     "metadata": {},
     "output_type": "display_data"
    },
    {
     "data": {
      "application/vnd.jupyter.widget-view+json": {
       "model_id": "aa5cda953ffa4b1e9a14bb2a64c03758",
       "version_major": 2,
       "version_minor": 0
      },
      "text/plain": [
       "episodes:   0%|          | 0/3 [00:00<?, ?it/s]"
      ]
     },
     "metadata": {},
     "output_type": "display_data"
    },
    {
     "data": {
      "application/vnd.jupyter.widget-view+json": {
       "model_id": "65dac8c7d0ce40769a66c52d369b260a",
       "version_major": 2,
       "version_minor": 0
      },
      "text/plain": [
       "episodes:   0%|          | 0/3 [00:00<?, ?it/s]"
      ]
     },
     "metadata": {},
     "output_type": "display_data"
    },
    {
     "data": {
      "application/vnd.jupyter.widget-view+json": {
       "model_id": "13051f0c77e44674984b7a2762e02c0a",
       "version_major": 2,
       "version_minor": 0
      },
      "text/plain": [
       "episodes:   0%|          | 0/3 [00:00<?, ?it/s]"
      ]
     },
     "metadata": {},
     "output_type": "display_data"
    },
    {
     "data": {
      "application/vnd.jupyter.widget-view+json": {
       "model_id": "c630ed33878f45f89cc0d145a923253d",
       "version_major": 2,
       "version_minor": 0
      },
      "text/plain": [
       "episodes:   0%|          | 0/3 [00:00<?, ?it/s]"
      ]
     },
     "metadata": {},
     "output_type": "display_data"
    },
    {
     "data": {
      "application/vnd.jupyter.widget-view+json": {
       "model_id": "36b203cd53d9449d9144a8382ee2ea6a",
       "version_major": 2,
       "version_minor": 0
      },
      "text/plain": [
       "episodes:   0%|          | 0/3 [00:00<?, ?it/s]"
      ]
     },
     "metadata": {},
     "output_type": "display_data"
    },
    {
     "data": {
      "application/vnd.jupyter.widget-view+json": {
       "model_id": "e179a28b673e4907a1d9d496fee73289",
       "version_major": 2,
       "version_minor": 0
      },
      "text/plain": [
       "episodes:   0%|          | 0/3 [00:00<?, ?it/s]"
      ]
     },
     "metadata": {},
     "output_type": "display_data"
    },
    {
     "data": {
      "application/vnd.jupyter.widget-view+json": {
       "model_id": "db9599884176487099539c9469ccbbe4",
       "version_major": 2,
       "version_minor": 0
      },
      "text/plain": [
       "episodes:   0%|          | 0/3 [00:00<?, ?it/s]"
      ]
     },
     "metadata": {},
     "output_type": "display_data"
    },
    {
     "data": {
      "application/vnd.jupyter.widget-view+json": {
       "model_id": "16373f4f25544200be2dc89270a19c17",
       "version_major": 2,
       "version_minor": 0
      },
      "text/plain": [
       "episodes:   0%|          | 0/3 [00:00<?, ?it/s]"
      ]
     },
     "metadata": {},
     "output_type": "display_data"
    },
    {
     "data": {
      "application/vnd.jupyter.widget-view+json": {
       "model_id": "f390ceeee68b4bccafcbaa80428837fb",
       "version_major": 2,
       "version_minor": 0
      },
      "text/plain": [
       "episodes:   0%|          | 0/3 [00:00<?, ?it/s]"
      ]
     },
     "metadata": {},
     "output_type": "display_data"
    },
    {
     "data": {
      "application/vnd.jupyter.widget-view+json": {
       "model_id": "e8ff0b25291b4246909c9201293500d4",
       "version_major": 2,
       "version_minor": 0
      },
      "text/plain": [
       "episodes:   0%|          | 0/3 [00:00<?, ?it/s]"
      ]
     },
     "metadata": {},
     "output_type": "display_data"
    },
    {
     "data": {
      "application/vnd.jupyter.widget-view+json": {
       "model_id": "e7522bed0e294b3bb4ed962a383c56b8",
       "version_major": 2,
       "version_minor": 0
      },
      "text/plain": [
       "episodes:   0%|          | 0/3 [00:00<?, ?it/s]"
      ]
     },
     "metadata": {},
     "output_type": "display_data"
    },
    {
     "data": {
      "application/vnd.jupyter.widget-view+json": {
       "model_id": "d56a606b56d84e7b84b3e3b88b98de4c",
       "version_major": 2,
       "version_minor": 0
      },
      "text/plain": [
       "episodes:   0%|          | 0/3 [00:00<?, ?it/s]"
      ]
     },
     "metadata": {},
     "output_type": "display_data"
    },
    {
     "data": {
      "application/vnd.jupyter.widget-view+json": {
       "model_id": "7e701fe029a54b439faeabfe34d7ea7e",
       "version_major": 2,
       "version_minor": 0
      },
      "text/plain": [
       "episodes:   0%|          | 0/3 [00:00<?, ?it/s]"
      ]
     },
     "metadata": {},
     "output_type": "display_data"
    },
    {
     "data": {
      "application/vnd.jupyter.widget-view+json": {
       "model_id": "ccdc3b7ea63247f8bccb56a85f82e28f",
       "version_major": 2,
       "version_minor": 0
      },
      "text/plain": [
       "episodes:   0%|          | 0/3 [00:00<?, ?it/s]"
      ]
     },
     "metadata": {},
     "output_type": "display_data"
    },
    {
     "data": {
      "application/vnd.jupyter.widget-view+json": {
       "model_id": "9503914b57634598a3875659bfa1df90",
       "version_major": 2,
       "version_minor": 0
      },
      "text/plain": [
       "episodes:   0%|          | 0/3 [00:00<?, ?it/s]"
      ]
     },
     "metadata": {},
     "output_type": "display_data"
    },
    {
     "data": {
      "application/vnd.jupyter.widget-view+json": {
       "model_id": "2c29410ead6e4d65bbf6b2d924c09a80",
       "version_major": 2,
       "version_minor": 0
      },
      "text/plain": [
       "episodes:   0%|          | 0/3 [00:00<?, ?it/s]"
      ]
     },
     "metadata": {},
     "output_type": "display_data"
    },
    {
     "data": {
      "application/vnd.jupyter.widget-view+json": {
       "model_id": "c7da335f5853429f9b04135f99cc6358",
       "version_major": 2,
       "version_minor": 0
      },
      "text/plain": [
       "episodes:   0%|          | 0/3 [00:00<?, ?it/s]"
      ]
     },
     "metadata": {},
     "output_type": "display_data"
    },
    {
     "data": {
      "application/vnd.jupyter.widget-view+json": {
       "model_id": "8ce7045dc4c94797833624b7a95b88ad",
       "version_major": 2,
       "version_minor": 0
      },
      "text/plain": [
       "episodes:   0%|          | 0/3 [00:00<?, ?it/s]"
      ]
     },
     "metadata": {},
     "output_type": "display_data"
    },
    {
     "data": {
      "application/vnd.jupyter.widget-view+json": {
       "model_id": "bb31833f3b8940de8ffec9f558bfd5d9",
       "version_major": 2,
       "version_minor": 0
      },
      "text/plain": [
       "episodes:   0%|          | 0/3 [00:00<?, ?it/s]"
      ]
     },
     "metadata": {},
     "output_type": "display_data"
    }
   ],
   "source": [
    "# | hide\n",
    "maskable_random_agent = MaskableRandomAgent(render_mode=\"human\", env_config=ENV_CONFIG)\n",
    "\n",
    "evaluation_data_per_agent[maskable_random_agent.name] = maskable_random_agent.evaluate()"
   ]
  },
  {
   "cell_type": "markdown",
   "metadata": {},
   "source": "### Evaluation A2C on ElectricityMarketEnv\n"
  },
  {
   "cell_type": "code",
   "execution_count": null,
   "metadata": {},
   "outputs": [
    {
     "data": {
      "application/vnd.jupyter.widget-view+json": {
       "model_id": "fc30b4afcd934780887280c3a8c282db",
       "version_major": 2,
       "version_minor": 0
      },
      "text/plain": [
       "seeds:   0%|          | 0/30 [00:00<?, ?it/s]"
      ]
     },
     "metadata": {},
     "output_type": "display_data"
    },
    {
     "data": {
      "application/vnd.jupyter.widget-view+json": {
       "model_id": "9c0d82c88a1f475aa501dc0a884f88d6",
       "version_major": 2,
       "version_minor": 0
      },
      "text/plain": [
       "Training episodes:   0%|          | 0/3 [00:00<?, ?it/s]"
      ]
     },
     "metadata": {},
     "output_type": "display_data"
    },
    {
     "data": {
      "application/vnd.jupyter.widget-view+json": {
       "model_id": "62e71aa559834cafb68d014df99451a3",
       "version_major": 2,
       "version_minor": 0
      },
      "text/plain": [
       "Training episodes:   0%|          | 0/3 [00:00<?, ?it/s]"
      ]
     },
     "metadata": {},
     "output_type": "display_data"
    },
    {
     "data": {
      "application/vnd.jupyter.widget-view+json": {
       "model_id": "4a7d59a4be02401bba69d9657226e06d",
       "version_major": 2,
       "version_minor": 0
      },
      "text/plain": [
       "Training episodes:   0%|          | 0/3 [00:00<?, ?it/s]"
      ]
     },
     "metadata": {},
     "output_type": "display_data"
    },
    {
     "data": {
      "application/vnd.jupyter.widget-view+json": {
       "model_id": "7006eb6d1a6f4f57becca6e7c62016b5",
       "version_major": 2,
       "version_minor": 0
      },
      "text/plain": [
       "Training episodes:   0%|          | 0/3 [00:00<?, ?it/s]"
      ]
     },
     "metadata": {},
     "output_type": "display_data"
    },
    {
     "data": {
      "application/vnd.jupyter.widget-view+json": {
       "model_id": "4388cfb148ac4528bb1c370ceb2accc8",
       "version_major": 2,
       "version_minor": 0
      },
      "text/plain": [
       "Training episodes:   0%|          | 0/3 [00:00<?, ?it/s]"
      ]
     },
     "metadata": {},
     "output_type": "display_data"
    },
    {
     "data": {
      "application/vnd.jupyter.widget-view+json": {
       "model_id": "20a96a8bff70467f967712ed82feae8d",
       "version_major": 2,
       "version_minor": 0
      },
      "text/plain": [
       "Training episodes:   0%|          | 0/3 [00:00<?, ?it/s]"
      ]
     },
     "metadata": {},
     "output_type": "display_data"
    },
    {
     "data": {
      "application/vnd.jupyter.widget-view+json": {
       "model_id": "cee371fef2184ac89e9a1ab134f09bee",
       "version_major": 2,
       "version_minor": 0
      },
      "text/plain": [
       "Training episodes:   0%|          | 0/3 [00:00<?, ?it/s]"
      ]
     },
     "metadata": {},
     "output_type": "display_data"
    },
    {
     "data": {
      "application/vnd.jupyter.widget-view+json": {
       "model_id": "10f1919894d5412980b82a6f37ba34ef",
       "version_major": 2,
       "version_minor": 0
      },
      "text/plain": [
       "Training episodes:   0%|          | 0/3 [00:00<?, ?it/s]"
      ]
     },
     "metadata": {},
     "output_type": "display_data"
    },
    {
     "data": {
      "application/vnd.jupyter.widget-view+json": {
       "model_id": "ffaac11657704e71b5f433a6672c3e3e",
       "version_major": 2,
       "version_minor": 0
      },
      "text/plain": [
       "Training episodes:   0%|          | 0/3 [00:00<?, ?it/s]"
      ]
     },
     "metadata": {},
     "output_type": "display_data"
    },
    {
     "data": {
      "application/vnd.jupyter.widget-view+json": {
       "model_id": "e8e60827f43c462682f6b1e14c33478e",
       "version_major": 2,
       "version_minor": 0
      },
      "text/plain": [
       "Training episodes:   0%|          | 0/3 [00:00<?, ?it/s]"
      ]
     },
     "metadata": {},
     "output_type": "display_data"
    },
    {
     "data": {
      "application/vnd.jupyter.widget-view+json": {
       "model_id": "afa661b6c307428b919b82918b78ff83",
       "version_major": 2,
       "version_minor": 0
      },
      "text/plain": [
       "Training episodes:   0%|          | 0/3 [00:00<?, ?it/s]"
      ]
     },
     "metadata": {},
     "output_type": "display_data"
    },
    {
     "data": {
      "application/vnd.jupyter.widget-view+json": {
       "model_id": "be9b11e5703440eba8472cf1da8a7ff2",
       "version_major": 2,
       "version_minor": 0
      },
      "text/plain": [
       "Training episodes:   0%|          | 0/3 [00:00<?, ?it/s]"
      ]
     },
     "metadata": {},
     "output_type": "display_data"
    },
    {
     "data": {
      "application/vnd.jupyter.widget-view+json": {
       "model_id": "4bb0a1d997b645b1a80e5c0c3438cd83",
       "version_major": 2,
       "version_minor": 0
      },
      "text/plain": [
       "Training episodes:   0%|          | 0/3 [00:00<?, ?it/s]"
      ]
     },
     "metadata": {},
     "output_type": "display_data"
    },
    {
     "data": {
      "application/vnd.jupyter.widget-view+json": {
       "model_id": "82bef371695f4499a65b232bc2517ee0",
       "version_major": 2,
       "version_minor": 0
      },
      "text/plain": [
       "Training episodes:   0%|          | 0/3 [00:00<?, ?it/s]"
      ]
     },
     "metadata": {},
     "output_type": "display_data"
    },
    {
     "data": {
      "application/vnd.jupyter.widget-view+json": {
       "model_id": "6138797d9bef402b8ae643d5f38aa27f",
       "version_major": 2,
       "version_minor": 0
      },
      "text/plain": [
       "Training episodes:   0%|          | 0/3 [00:00<?, ?it/s]"
      ]
     },
     "metadata": {},
     "output_type": "display_data"
    },
    {
     "data": {
      "application/vnd.jupyter.widget-view+json": {
       "model_id": "f0b5d1ff8caa431c9c5ec36d02b6dfa5",
       "version_major": 2,
       "version_minor": 0
      },
      "text/plain": [
       "Training episodes:   0%|          | 0/3 [00:00<?, ?it/s]"
      ]
     },
     "metadata": {},
     "output_type": "display_data"
    },
    {
     "data": {
      "application/vnd.jupyter.widget-view+json": {
       "model_id": "9f2c2ff7c648457b9ca28cb29df55ec1",
       "version_major": 2,
       "version_minor": 0
      },
      "text/plain": [
       "Training episodes:   0%|          | 0/3 [00:00<?, ?it/s]"
      ]
     },
     "metadata": {},
     "output_type": "display_data"
    },
    {
     "data": {
      "application/vnd.jupyter.widget-view+json": {
       "model_id": "2510fecc6c2b4d1a917954cb3cf63df4",
       "version_major": 2,
       "version_minor": 0
      },
      "text/plain": [
       "Training episodes:   0%|          | 0/3 [00:00<?, ?it/s]"
      ]
     },
     "metadata": {},
     "output_type": "display_data"
    },
    {
     "data": {
      "application/vnd.jupyter.widget-view+json": {
       "model_id": "fbede66530724a6eb6f6f9338d1c8857",
       "version_major": 2,
       "version_minor": 0
      },
      "text/plain": [
       "Training episodes:   0%|          | 0/3 [00:00<?, ?it/s]"
      ]
     },
     "metadata": {},
     "output_type": "display_data"
    },
    {
     "data": {
      "application/vnd.jupyter.widget-view+json": {
       "model_id": "572ba77a69e54f2588862b12e6fb7c2c",
       "version_major": 2,
       "version_minor": 0
      },
      "text/plain": [
       "Training episodes:   0%|          | 0/3 [00:00<?, ?it/s]"
      ]
     },
     "metadata": {},
     "output_type": "display_data"
    },
    {
     "data": {
      "application/vnd.jupyter.widget-view+json": {
       "model_id": "3b70e3266fc04d3da54a7e856b262b2c",
       "version_major": 2,
       "version_minor": 0
      },
      "text/plain": [
       "Training episodes:   0%|          | 0/3 [00:00<?, ?it/s]"
      ]
     },
     "metadata": {},
     "output_type": "display_data"
    },
    {
     "data": {
      "application/vnd.jupyter.widget-view+json": {
       "model_id": "c0ccb61770d34df7b15570309e86499b",
       "version_major": 2,
       "version_minor": 0
      },
      "text/plain": [
       "Training episodes:   0%|          | 0/3 [00:00<?, ?it/s]"
      ]
     },
     "metadata": {},
     "output_type": "display_data"
    },
    {
     "data": {
      "application/vnd.jupyter.widget-view+json": {
       "model_id": "de5034a2998944a1945387fd4affa3d1",
       "version_major": 2,
       "version_minor": 0
      },
      "text/plain": [
       "Training episodes:   0%|          | 0/3 [00:00<?, ?it/s]"
      ]
     },
     "metadata": {},
     "output_type": "display_data"
    },
    {
     "data": {
      "application/vnd.jupyter.widget-view+json": {
       "model_id": "afc69ebbcb884d8a989782960a79302a",
       "version_major": 2,
       "version_minor": 0
      },
      "text/plain": [
       "Training episodes:   0%|          | 0/3 [00:00<?, ?it/s]"
      ]
     },
     "metadata": {},
     "output_type": "display_data"
    },
    {
     "data": {
      "application/vnd.jupyter.widget-view+json": {
       "model_id": "1d5ae67830804c2fa9387805ed04ac93",
       "version_major": 2,
       "version_minor": 0
      },
      "text/plain": [
       "Training episodes:   0%|          | 0/3 [00:00<?, ?it/s]"
      ]
     },
     "metadata": {},
     "output_type": "display_data"
    },
    {
     "data": {
      "application/vnd.jupyter.widget-view+json": {
       "model_id": "803b5fc023ae4e18a648cd59bb3dd223",
       "version_major": 2,
       "version_minor": 0
      },
      "text/plain": [
       "Training episodes:   0%|          | 0/3 [00:00<?, ?it/s]"
      ]
     },
     "metadata": {},
     "output_type": "display_data"
    },
    {
     "data": {
      "application/vnd.jupyter.widget-view+json": {
       "model_id": "84116dd20cec438eb064135be1ad4c92",
       "version_major": 2,
       "version_minor": 0
      },
      "text/plain": [
       "Training episodes:   0%|          | 0/3 [00:00<?, ?it/s]"
      ]
     },
     "metadata": {},
     "output_type": "display_data"
    },
    {
     "data": {
      "application/vnd.jupyter.widget-view+json": {
       "model_id": "066b26edb7f44a7697a36922ea62b030",
       "version_major": 2,
       "version_minor": 0
      },
      "text/plain": [
       "Training episodes:   0%|          | 0/3 [00:00<?, ?it/s]"
      ]
     },
     "metadata": {},
     "output_type": "display_data"
    },
    {
     "data": {
      "application/vnd.jupyter.widget-view+json": {
       "model_id": "fb06b3cf363f4e13b5b5043f84b38e06",
       "version_major": 2,
       "version_minor": 0
      },
      "text/plain": [
       "Training episodes:   0%|          | 0/3 [00:00<?, ?it/s]"
      ]
     },
     "metadata": {},
     "output_type": "display_data"
    },
    {
     "data": {
      "application/vnd.jupyter.widget-view+json": {
       "model_id": "5a0f90eca12f464eb6b4651d92dfa2bc",
       "version_major": 2,
       "version_minor": 0
      },
      "text/plain": [
       "Training episodes:   0%|          | 0/3 [00:00<?, ?it/s]"
      ]
     },
     "metadata": {},
     "output_type": "display_data"
    },
    {
     "data": {
      "application/vnd.jupyter.widget-view+json": {
       "model_id": "ba8f4aa8746e4db9bb85cdf93b786c40",
       "version_major": 2,
       "version_minor": 0
      },
      "text/plain": [
       "seeds:   0%|          | 0/30 [00:00<?, ?it/s]"
      ]
     },
     "metadata": {},
     "output_type": "display_data"
    },
    {
     "data": {
      "application/vnd.jupyter.widget-view+json": {
       "model_id": "622469b8c70740e5811594d5b6f2e114",
       "version_major": 2,
       "version_minor": 0
      },
      "text/plain": [
       "Evaluation episodes:   0%|          | 0/3 [00:00<?, ?it/s]"
      ]
     },
     "metadata": {},
     "output_type": "display_data"
    },
    {
     "data": {
      "application/vnd.jupyter.widget-view+json": {
       "model_id": "4ec0a9c64e56479fa7b1c63d0f60aba4",
       "version_major": 2,
       "version_minor": 0
      },
      "text/plain": [
       "Evaluation episodes:   0%|          | 0/3 [00:00<?, ?it/s]"
      ]
     },
     "metadata": {},
     "output_type": "display_data"
    },
    {
     "data": {
      "application/vnd.jupyter.widget-view+json": {
       "model_id": "66d1796d34e0457394125c1171054690",
       "version_major": 2,
       "version_minor": 0
      },
      "text/plain": [
       "Evaluation episodes:   0%|          | 0/3 [00:00<?, ?it/s]"
      ]
     },
     "metadata": {},
     "output_type": "display_data"
    },
    {
     "data": {
      "application/vnd.jupyter.widget-view+json": {
       "model_id": "b1e804b500fb469db42527f03485b647",
       "version_major": 2,
       "version_minor": 0
      },
      "text/plain": [
       "Evaluation episodes:   0%|          | 0/3 [00:00<?, ?it/s]"
      ]
     },
     "metadata": {},
     "output_type": "display_data"
    },
    {
     "data": {
      "application/vnd.jupyter.widget-view+json": {
       "model_id": "d7b54c636a6a48cca8d730970dd02b4c",
       "version_major": 2,
       "version_minor": 0
      },
      "text/plain": [
       "Evaluation episodes:   0%|          | 0/3 [00:00<?, ?it/s]"
      ]
     },
     "metadata": {},
     "output_type": "display_data"
    },
    {
     "data": {
      "application/vnd.jupyter.widget-view+json": {
       "model_id": "13e18c012be44523a4bb58c8b0fded00",
       "version_major": 2,
       "version_minor": 0
      },
      "text/plain": [
       "Evaluation episodes:   0%|          | 0/3 [00:00<?, ?it/s]"
      ]
     },
     "metadata": {},
     "output_type": "display_data"
    },
    {
     "data": {
      "application/vnd.jupyter.widget-view+json": {
       "model_id": "1d904d9cd84e4961959d74722a790775",
       "version_major": 2,
       "version_minor": 0
      },
      "text/plain": [
       "Evaluation episodes:   0%|          | 0/3 [00:00<?, ?it/s]"
      ]
     },
     "metadata": {},
     "output_type": "display_data"
    },
    {
     "data": {
      "application/vnd.jupyter.widget-view+json": {
       "model_id": "ede0c6738ecb483ea2110370ed0b445f",
       "version_major": 2,
       "version_minor": 0
      },
      "text/plain": [
       "Evaluation episodes:   0%|          | 0/3 [00:00<?, ?it/s]"
      ]
     },
     "metadata": {},
     "output_type": "display_data"
    },
    {
     "data": {
      "application/vnd.jupyter.widget-view+json": {
       "model_id": "8cb0c88f2b8a49a1b79365e20526b28d",
       "version_major": 2,
       "version_minor": 0
      },
      "text/plain": [
       "Evaluation episodes:   0%|          | 0/3 [00:00<?, ?it/s]"
      ]
     },
     "metadata": {},
     "output_type": "display_data"
    },
    {
     "data": {
      "application/vnd.jupyter.widget-view+json": {
       "model_id": "841ec67693eb419f98d54e8228e3460e",
       "version_major": 2,
       "version_minor": 0
      },
      "text/plain": [
       "Evaluation episodes:   0%|          | 0/3 [00:00<?, ?it/s]"
      ]
     },
     "metadata": {},
     "output_type": "display_data"
    },
    {
     "data": {
      "application/vnd.jupyter.widget-view+json": {
       "model_id": "8617e19dcc9748df847390655e796475",
       "version_major": 2,
       "version_minor": 0
      },
      "text/plain": [
       "Evaluation episodes:   0%|          | 0/3 [00:00<?, ?it/s]"
      ]
     },
     "metadata": {},
     "output_type": "display_data"
    },
    {
     "data": {
      "application/vnd.jupyter.widget-view+json": {
       "model_id": "1369e24398a7453fae8f8087313caa21",
       "version_major": 2,
       "version_minor": 0
      },
      "text/plain": [
       "Evaluation episodes:   0%|          | 0/3 [00:00<?, ?it/s]"
      ]
     },
     "metadata": {},
     "output_type": "display_data"
    },
    {
     "data": {
      "application/vnd.jupyter.widget-view+json": {
       "model_id": "5134b8b8b4d34217af49724c696a4978",
       "version_major": 2,
       "version_minor": 0
      },
      "text/plain": [
       "Evaluation episodes:   0%|          | 0/3 [00:00<?, ?it/s]"
      ]
     },
     "metadata": {},
     "output_type": "display_data"
    },
    {
     "data": {
      "application/vnd.jupyter.widget-view+json": {
       "model_id": "8b93698f7c634d8da4247c7c2a419071",
       "version_major": 2,
       "version_minor": 0
      },
      "text/plain": [
       "Evaluation episodes:   0%|          | 0/3 [00:00<?, ?it/s]"
      ]
     },
     "metadata": {},
     "output_type": "display_data"
    },
    {
     "data": {
      "application/vnd.jupyter.widget-view+json": {
       "model_id": "f0acf731af534d3794bcf39bb37a73c0",
       "version_major": 2,
       "version_minor": 0
      },
      "text/plain": [
       "Evaluation episodes:   0%|          | 0/3 [00:00<?, ?it/s]"
      ]
     },
     "metadata": {},
     "output_type": "display_data"
    },
    {
     "data": {
      "application/vnd.jupyter.widget-view+json": {
       "model_id": "b3e83cc8888a4eb6b632255dba1c7f01",
       "version_major": 2,
       "version_minor": 0
      },
      "text/plain": [
       "Evaluation episodes:   0%|          | 0/3 [00:00<?, ?it/s]"
      ]
     },
     "metadata": {},
     "output_type": "display_data"
    },
    {
     "data": {
      "application/vnd.jupyter.widget-view+json": {
       "model_id": "a752ca7933a042b0af58d68a3a35fcff",
       "version_major": 2,
       "version_minor": 0
      },
      "text/plain": [
       "Evaluation episodes:   0%|          | 0/3 [00:00<?, ?it/s]"
      ]
     },
     "metadata": {},
     "output_type": "display_data"
    },
    {
     "data": {
      "application/vnd.jupyter.widget-view+json": {
       "model_id": "2279e9d97afd4f25be0a27323be9500f",
       "version_major": 2,
       "version_minor": 0
      },
      "text/plain": [
       "Evaluation episodes:   0%|          | 0/3 [00:00<?, ?it/s]"
      ]
     },
     "metadata": {},
     "output_type": "display_data"
    },
    {
     "data": {
      "application/vnd.jupyter.widget-view+json": {
       "model_id": "e6a0e70ab42f4be5b25453852fadad0d",
       "version_major": 2,
       "version_minor": 0
      },
      "text/plain": [
       "Evaluation episodes:   0%|          | 0/3 [00:00<?, ?it/s]"
      ]
     },
     "metadata": {},
     "output_type": "display_data"
    },
    {
     "data": {
      "application/vnd.jupyter.widget-view+json": {
       "model_id": "c5bc013fb11f492e854c00f38c8ed87d",
       "version_major": 2,
       "version_minor": 0
      },
      "text/plain": [
       "Evaluation episodes:   0%|          | 0/3 [00:00<?, ?it/s]"
      ]
     },
     "metadata": {},
     "output_type": "display_data"
    },
    {
     "data": {
      "application/vnd.jupyter.widget-view+json": {
       "model_id": "2a35bf9c685e424e8d43071b883820ee",
       "version_major": 2,
       "version_minor": 0
      },
      "text/plain": [
       "Evaluation episodes:   0%|          | 0/3 [00:00<?, ?it/s]"
      ]
     },
     "metadata": {},
     "output_type": "display_data"
    },
    {
     "data": {
      "application/vnd.jupyter.widget-view+json": {
       "model_id": "77e72ec4ad3448098d11b22eae30fb08",
       "version_major": 2,
       "version_minor": 0
      },
      "text/plain": [
       "Evaluation episodes:   0%|          | 0/3 [00:00<?, ?it/s]"
      ]
     },
     "metadata": {},
     "output_type": "display_data"
    },
    {
     "data": {
      "application/vnd.jupyter.widget-view+json": {
       "model_id": "71cdeb6bb32b419c94b72dee2d804482",
       "version_major": 2,
       "version_minor": 0
      },
      "text/plain": [
       "Evaluation episodes:   0%|          | 0/3 [00:00<?, ?it/s]"
      ]
     },
     "metadata": {},
     "output_type": "display_data"
    },
    {
     "data": {
      "application/vnd.jupyter.widget-view+json": {
       "model_id": "80a68214cca44bc4b2a1a3f1ff4cb452",
       "version_major": 2,
       "version_minor": 0
      },
      "text/plain": [
       "Evaluation episodes:   0%|          | 0/3 [00:00<?, ?it/s]"
      ]
     },
     "metadata": {},
     "output_type": "display_data"
    },
    {
     "data": {
      "application/vnd.jupyter.widget-view+json": {
       "model_id": "a443a85d56d442f1be94572b7f57b990",
       "version_major": 2,
       "version_minor": 0
      },
      "text/plain": [
       "Evaluation episodes:   0%|          | 0/3 [00:00<?, ?it/s]"
      ]
     },
     "metadata": {},
     "output_type": "display_data"
    },
    {
     "data": {
      "application/vnd.jupyter.widget-view+json": {
       "model_id": "f45b3f81b6cd44db9d76839065e75862",
       "version_major": 2,
       "version_minor": 0
      },
      "text/plain": [
       "Evaluation episodes:   0%|          | 0/3 [00:00<?, ?it/s]"
      ]
     },
     "metadata": {},
     "output_type": "display_data"
    },
    {
     "data": {
      "application/vnd.jupyter.widget-view+json": {
       "model_id": "c51e168a5f4b45f394ea90eac6807368",
       "version_major": 2,
       "version_minor": 0
      },
      "text/plain": [
       "Evaluation episodes:   0%|          | 0/3 [00:00<?, ?it/s]"
      ]
     },
     "metadata": {},
     "output_type": "display_data"
    },
    {
     "data": {
      "application/vnd.jupyter.widget-view+json": {
       "model_id": "8b55ae30f8514f4d829cfeb02cccb08d",
       "version_major": 2,
       "version_minor": 0
      },
      "text/plain": [
       "Evaluation episodes:   0%|          | 0/3 [00:00<?, ?it/s]"
      ]
     },
     "metadata": {},
     "output_type": "display_data"
    },
    {
     "data": {
      "application/vnd.jupyter.widget-view+json": {
       "model_id": "7650299162c84242be201797dccbb09a",
       "version_major": 2,
       "version_minor": 0
      },
      "text/plain": [
       "Evaluation episodes:   0%|          | 0/3 [00:00<?, ?it/s]"
      ]
     },
     "metadata": {},
     "output_type": "display_data"
    },
    {
     "data": {
      "application/vnd.jupyter.widget-view+json": {
       "model_id": "347be6c0699843f2b10b790fda42a90f",
       "version_major": 2,
       "version_minor": 0
      },
      "text/plain": [
       "Evaluation episodes:   0%|          | 0/3 [00:00<?, ?it/s]"
      ]
     },
     "metadata": {},
     "output_type": "display_data"
    }
   ],
   "source": [
    "# | hide\n",
    "a2c_agent = A2CAgent(render_mode=\"human\", env_config=ENV_CONFIG)\n",
    "\n",
    "training_data_per_agent[a2c_agent.name] = a2c_agent.train()\n",
    "\n",
    "a2c_agent.save_model(f\"{a2c_agent.name}.model\")\n",
    "\n",
    "evaluation_data_per_agent[a2c_agent.name] = a2c_agent.evaluate()"
   ]
  },
  {
   "cell_type": "markdown",
   "metadata": {},
   "source": "### Evaluation MaskablePPO with default hyperparameters on ElectricityMarketEnv"
  },
  {
   "cell_type": "code",
   "execution_count": null,
   "metadata": {},
   "outputs": [
    {
     "data": {
      "application/vnd.jupyter.widget-view+json": {
       "model_id": "02bd703ea913459b9566059ee5083f4f",
       "version_major": 2,
       "version_minor": 0
      },
      "text/plain": [
       "seeds:   0%|          | 0/30 [00:00<?, ?it/s]"
      ]
     },
     "metadata": {},
     "output_type": "display_data"
    },
    {
     "data": {
      "application/vnd.jupyter.widget-view+json": {
       "model_id": "a6d88625e0d142bbb8a76dc5d3d9ccab",
       "version_major": 2,
       "version_minor": 0
      },
      "text/plain": [
       "Training episodes:   0%|          | 0/3 [00:00<?, ?it/s]"
      ]
     },
     "metadata": {},
     "output_type": "display_data"
    },
    {
     "data": {
      "application/vnd.jupyter.widget-view+json": {
       "model_id": "d734490d82d3480097124a5513ba45ca",
       "version_major": 2,
       "version_minor": 0
      },
      "text/plain": [
       "Training episodes:   0%|          | 0/3 [00:00<?, ?it/s]"
      ]
     },
     "metadata": {},
     "output_type": "display_data"
    },
    {
     "data": {
      "application/vnd.jupyter.widget-view+json": {
       "model_id": "6fe90477a6ef4a528d3ffd612a83fd42",
       "version_major": 2,
       "version_minor": 0
      },
      "text/plain": [
       "Training episodes:   0%|          | 0/3 [00:00<?, ?it/s]"
      ]
     },
     "metadata": {},
     "output_type": "display_data"
    },
    {
     "data": {
      "application/vnd.jupyter.widget-view+json": {
       "model_id": "b55f58edc398418986853df8e3bdd803",
       "version_major": 2,
       "version_minor": 0
      },
      "text/plain": [
       "Training episodes:   0%|          | 0/3 [00:00<?, ?it/s]"
      ]
     },
     "metadata": {},
     "output_type": "display_data"
    },
    {
     "data": {
      "application/vnd.jupyter.widget-view+json": {
       "model_id": "d2f8c19602454ab591d041c13c94c5a8",
       "version_major": 2,
       "version_minor": 0
      },
      "text/plain": [
       "Training episodes:   0%|          | 0/3 [00:00<?, ?it/s]"
      ]
     },
     "metadata": {},
     "output_type": "display_data"
    },
    {
     "data": {
      "application/vnd.jupyter.widget-view+json": {
       "model_id": "064c6244849848b0a4660d2fa43be95b",
       "version_major": 2,
       "version_minor": 0
      },
      "text/plain": [
       "Training episodes:   0%|          | 0/3 [00:00<?, ?it/s]"
      ]
     },
     "metadata": {},
     "output_type": "display_data"
    },
    {
     "data": {
      "application/vnd.jupyter.widget-view+json": {
       "model_id": "9ef16250031f4bc7957fc33b4aecb49f",
       "version_major": 2,
       "version_minor": 0
      },
      "text/plain": [
       "Training episodes:   0%|          | 0/3 [00:00<?, ?it/s]"
      ]
     },
     "metadata": {},
     "output_type": "display_data"
    },
    {
     "data": {
      "application/vnd.jupyter.widget-view+json": {
       "model_id": "12b634beeea84890b30d8007cea8d262",
       "version_major": 2,
       "version_minor": 0
      },
      "text/plain": [
       "Training episodes:   0%|          | 0/3 [00:00<?, ?it/s]"
      ]
     },
     "metadata": {},
     "output_type": "display_data"
    },
    {
     "data": {
      "application/vnd.jupyter.widget-view+json": {
       "model_id": "c7415401e44945e0adf5ca08369172fa",
       "version_major": 2,
       "version_minor": 0
      },
      "text/plain": [
       "Training episodes:   0%|          | 0/3 [00:00<?, ?it/s]"
      ]
     },
     "metadata": {},
     "output_type": "display_data"
    },
    {
     "data": {
      "application/vnd.jupyter.widget-view+json": {
       "model_id": "c477bb4f36bd4ef384d53acfb9850969",
       "version_major": 2,
       "version_minor": 0
      },
      "text/plain": [
       "Training episodes:   0%|          | 0/3 [00:00<?, ?it/s]"
      ]
     },
     "metadata": {},
     "output_type": "display_data"
    },
    {
     "data": {
      "application/vnd.jupyter.widget-view+json": {
       "model_id": "488f2b959a964f54821a30a2a862ab1b",
       "version_major": 2,
       "version_minor": 0
      },
      "text/plain": [
       "Training episodes:   0%|          | 0/3 [00:00<?, ?it/s]"
      ]
     },
     "metadata": {},
     "output_type": "display_data"
    },
    {
     "data": {
      "application/vnd.jupyter.widget-view+json": {
       "model_id": "42db954be8a04d5686f60fe156a9c032",
       "version_major": 2,
       "version_minor": 0
      },
      "text/plain": [
       "Training episodes:   0%|          | 0/3 [00:00<?, ?it/s]"
      ]
     },
     "metadata": {},
     "output_type": "display_data"
    },
    {
     "data": {
      "application/vnd.jupyter.widget-view+json": {
       "model_id": "84ad8c3f0a1a4a5db800318a7e2df5c2",
       "version_major": 2,
       "version_minor": 0
      },
      "text/plain": [
       "Training episodes:   0%|          | 0/3 [00:00<?, ?it/s]"
      ]
     },
     "metadata": {},
     "output_type": "display_data"
    },
    {
     "data": {
      "application/vnd.jupyter.widget-view+json": {
       "model_id": "89f7aa3a81c3462a8409740302538cd3",
       "version_major": 2,
       "version_minor": 0
      },
      "text/plain": [
       "Training episodes:   0%|          | 0/3 [00:00<?, ?it/s]"
      ]
     },
     "metadata": {},
     "output_type": "display_data"
    },
    {
     "data": {
      "application/vnd.jupyter.widget-view+json": {
       "model_id": "61d552df2d5a4dc8a11ec3155fc0d334",
       "version_major": 2,
       "version_minor": 0
      },
      "text/plain": [
       "Training episodes:   0%|          | 0/3 [00:00<?, ?it/s]"
      ]
     },
     "metadata": {},
     "output_type": "display_data"
    },
    {
     "data": {
      "application/vnd.jupyter.widget-view+json": {
       "model_id": "d7d20e2a8a5c461e9da52de9cbc1d065",
       "version_major": 2,
       "version_minor": 0
      },
      "text/plain": [
       "Training episodes:   0%|          | 0/3 [00:00<?, ?it/s]"
      ]
     },
     "metadata": {},
     "output_type": "display_data"
    },
    {
     "data": {
      "application/vnd.jupyter.widget-view+json": {
       "model_id": "1a2207b3dcdd4c828b0425d8327a5801",
       "version_major": 2,
       "version_minor": 0
      },
      "text/plain": [
       "Training episodes:   0%|          | 0/3 [00:00<?, ?it/s]"
      ]
     },
     "metadata": {},
     "output_type": "display_data"
    },
    {
     "data": {
      "application/vnd.jupyter.widget-view+json": {
       "model_id": "5b1ae95c377b4099b890e47204f3e3fb",
       "version_major": 2,
       "version_minor": 0
      },
      "text/plain": [
       "Training episodes:   0%|          | 0/3 [00:00<?, ?it/s]"
      ]
     },
     "metadata": {},
     "output_type": "display_data"
    },
    {
     "data": {
      "application/vnd.jupyter.widget-view+json": {
       "model_id": "ae5ec55f4171469faec79786ae31f57c",
       "version_major": 2,
       "version_minor": 0
      },
      "text/plain": [
       "Training episodes:   0%|          | 0/3 [00:00<?, ?it/s]"
      ]
     },
     "metadata": {},
     "output_type": "display_data"
    },
    {
     "data": {
      "application/vnd.jupyter.widget-view+json": {
       "model_id": "a60ef653e55649389f574f1829c3d2ab",
       "version_major": 2,
       "version_minor": 0
      },
      "text/plain": [
       "Training episodes:   0%|          | 0/3 [00:00<?, ?it/s]"
      ]
     },
     "metadata": {},
     "output_type": "display_data"
    },
    {
     "data": {
      "application/vnd.jupyter.widget-view+json": {
       "model_id": "4e8068006daa44b28c158abd8bd799d8",
       "version_major": 2,
       "version_minor": 0
      },
      "text/plain": [
       "Training episodes:   0%|          | 0/3 [00:00<?, ?it/s]"
      ]
     },
     "metadata": {},
     "output_type": "display_data"
    },
    {
     "data": {
      "application/vnd.jupyter.widget-view+json": {
       "model_id": "b95f52254acc4ba6aac8491452d92a26",
       "version_major": 2,
       "version_minor": 0
      },
      "text/plain": [
       "Training episodes:   0%|          | 0/3 [00:00<?, ?it/s]"
      ]
     },
     "metadata": {},
     "output_type": "display_data"
    },
    {
     "data": {
      "application/vnd.jupyter.widget-view+json": {
       "model_id": "c733a89629a2487cb210ba87334c94c0",
       "version_major": 2,
       "version_minor": 0
      },
      "text/plain": [
       "Training episodes:   0%|          | 0/3 [00:00<?, ?it/s]"
      ]
     },
     "metadata": {},
     "output_type": "display_data"
    },
    {
     "data": {
      "application/vnd.jupyter.widget-view+json": {
       "model_id": "250c261e1eaf4fd391cf608cf1debd3f",
       "version_major": 2,
       "version_minor": 0
      },
      "text/plain": [
       "Training episodes:   0%|          | 0/3 [00:00<?, ?it/s]"
      ]
     },
     "metadata": {},
     "output_type": "display_data"
    },
    {
     "data": {
      "application/vnd.jupyter.widget-view+json": {
       "model_id": "9f6992f8947444adbb19fb3f5e7d5bc4",
       "version_major": 2,
       "version_minor": 0
      },
      "text/plain": [
       "Training episodes:   0%|          | 0/3 [00:00<?, ?it/s]"
      ]
     },
     "metadata": {},
     "output_type": "display_data"
    },
    {
     "data": {
      "application/vnd.jupyter.widget-view+json": {
       "model_id": "b6816b99101d4158843659e560bb3b73",
       "version_major": 2,
       "version_minor": 0
      },
      "text/plain": [
       "Training episodes:   0%|          | 0/3 [00:00<?, ?it/s]"
      ]
     },
     "metadata": {},
     "output_type": "display_data"
    },
    {
     "data": {
      "application/vnd.jupyter.widget-view+json": {
       "model_id": "2673f16e4bd24f2f9e635cbd6d4a14f8",
       "version_major": 2,
       "version_minor": 0
      },
      "text/plain": [
       "Training episodes:   0%|          | 0/3 [00:00<?, ?it/s]"
      ]
     },
     "metadata": {},
     "output_type": "display_data"
    },
    {
     "data": {
      "application/vnd.jupyter.widget-view+json": {
       "model_id": "1289d6f944fe49bfac915183cd881919",
       "version_major": 2,
       "version_minor": 0
      },
      "text/plain": [
       "Training episodes:   0%|          | 0/3 [00:00<?, ?it/s]"
      ]
     },
     "metadata": {},
     "output_type": "display_data"
    },
    {
     "data": {
      "application/vnd.jupyter.widget-view+json": {
       "model_id": "4934c98461ae4316bd796c30d76c1549",
       "version_major": 2,
       "version_minor": 0
      },
      "text/plain": [
       "Training episodes:   0%|          | 0/3 [00:00<?, ?it/s]"
      ]
     },
     "metadata": {},
     "output_type": "display_data"
    },
    {
     "data": {
      "application/vnd.jupyter.widget-view+json": {
       "model_id": "191d7f1d0b914cd592423c63d38332c4",
       "version_major": 2,
       "version_minor": 0
      },
      "text/plain": [
       "Training episodes:   0%|          | 0/3 [00:00<?, ?it/s]"
      ]
     },
     "metadata": {},
     "output_type": "display_data"
    },
    {
     "data": {
      "application/vnd.jupyter.widget-view+json": {
       "model_id": "0e23d08f6ae34e2aac2e8531a192897a",
       "version_major": 2,
       "version_minor": 0
      },
      "text/plain": [
       "seeds:   0%|          | 0/30 [00:00<?, ?it/s]"
      ]
     },
     "metadata": {},
     "output_type": "display_data"
    },
    {
     "data": {
      "application/vnd.jupyter.widget-view+json": {
       "model_id": "dec99e8383ec4b14bec89149a209bad7",
       "version_major": 2,
       "version_minor": 0
      },
      "text/plain": [
       "Evaluation episodes:   0%|          | 0/3 [00:00<?, ?it/s]"
      ]
     },
     "metadata": {},
     "output_type": "display_data"
    },
    {
     "data": {
      "application/vnd.jupyter.widget-view+json": {
       "model_id": "f1970d604cbe4a2fa5bdcd71c146a2e5",
       "version_major": 2,
       "version_minor": 0
      },
      "text/plain": [
       "Evaluation episodes:   0%|          | 0/3 [00:00<?, ?it/s]"
      ]
     },
     "metadata": {},
     "output_type": "display_data"
    },
    {
     "data": {
      "application/vnd.jupyter.widget-view+json": {
       "model_id": "c5bd6b43d29548c29023f7761378c29e",
       "version_major": 2,
       "version_minor": 0
      },
      "text/plain": [
       "Evaluation episodes:   0%|          | 0/3 [00:00<?, ?it/s]"
      ]
     },
     "metadata": {},
     "output_type": "display_data"
    },
    {
     "data": {
      "application/vnd.jupyter.widget-view+json": {
       "model_id": "6475e87f912541849e12107cbbaa98e0",
       "version_major": 2,
       "version_minor": 0
      },
      "text/plain": [
       "Evaluation episodes:   0%|          | 0/3 [00:00<?, ?it/s]"
      ]
     },
     "metadata": {},
     "output_type": "display_data"
    },
    {
     "data": {
      "application/vnd.jupyter.widget-view+json": {
       "model_id": "6813dfba5f0c4935a55cc2543d0a719c",
       "version_major": 2,
       "version_minor": 0
      },
      "text/plain": [
       "Evaluation episodes:   0%|          | 0/3 [00:00<?, ?it/s]"
      ]
     },
     "metadata": {},
     "output_type": "display_data"
    },
    {
     "data": {
      "application/vnd.jupyter.widget-view+json": {
       "model_id": "4a80ab13f7cc44968874c93e0f507faa",
       "version_major": 2,
       "version_minor": 0
      },
      "text/plain": [
       "Evaluation episodes:   0%|          | 0/3 [00:00<?, ?it/s]"
      ]
     },
     "metadata": {},
     "output_type": "display_data"
    },
    {
     "data": {
      "application/vnd.jupyter.widget-view+json": {
       "model_id": "8b0317cb973e4aafa9d35db0e310caa6",
       "version_major": 2,
       "version_minor": 0
      },
      "text/plain": [
       "Evaluation episodes:   0%|          | 0/3 [00:00<?, ?it/s]"
      ]
     },
     "metadata": {},
     "output_type": "display_data"
    },
    {
     "data": {
      "application/vnd.jupyter.widget-view+json": {
       "model_id": "267a9e3449e548fabf9454cee1a98f67",
       "version_major": 2,
       "version_minor": 0
      },
      "text/plain": [
       "Evaluation episodes:   0%|          | 0/3 [00:00<?, ?it/s]"
      ]
     },
     "metadata": {},
     "output_type": "display_data"
    },
    {
     "data": {
      "application/vnd.jupyter.widget-view+json": {
       "model_id": "c85c8d8df1de486d8716c1c172c38fc3",
       "version_major": 2,
       "version_minor": 0
      },
      "text/plain": [
       "Evaluation episodes:   0%|          | 0/3 [00:00<?, ?it/s]"
      ]
     },
     "metadata": {},
     "output_type": "display_data"
    },
    {
     "data": {
      "application/vnd.jupyter.widget-view+json": {
       "model_id": "fccd1d4c403843d89ba9005e43e71286",
       "version_major": 2,
       "version_minor": 0
      },
      "text/plain": [
       "Evaluation episodes:   0%|          | 0/3 [00:00<?, ?it/s]"
      ]
     },
     "metadata": {},
     "output_type": "display_data"
    },
    {
     "data": {
      "application/vnd.jupyter.widget-view+json": {
       "model_id": "3fb8019dbd314bcdb6f560aba9e10891",
       "version_major": 2,
       "version_minor": 0
      },
      "text/plain": [
       "Evaluation episodes:   0%|          | 0/3 [00:00<?, ?it/s]"
      ]
     },
     "metadata": {},
     "output_type": "display_data"
    },
    {
     "data": {
      "application/vnd.jupyter.widget-view+json": {
       "model_id": "3bf6e66193d54afcbcd56ddef7292d0b",
       "version_major": 2,
       "version_minor": 0
      },
      "text/plain": [
       "Evaluation episodes:   0%|          | 0/3 [00:00<?, ?it/s]"
      ]
     },
     "metadata": {},
     "output_type": "display_data"
    },
    {
     "data": {
      "application/vnd.jupyter.widget-view+json": {
       "model_id": "6bc0a2aabe174b7ea65ae5228e61e79e",
       "version_major": 2,
       "version_minor": 0
      },
      "text/plain": [
       "Evaluation episodes:   0%|          | 0/3 [00:00<?, ?it/s]"
      ]
     },
     "metadata": {},
     "output_type": "display_data"
    },
    {
     "data": {
      "application/vnd.jupyter.widget-view+json": {
       "model_id": "d27606e508a64c4398f5ac17ff0112a7",
       "version_major": 2,
       "version_minor": 0
      },
      "text/plain": [
       "Evaluation episodes:   0%|          | 0/3 [00:00<?, ?it/s]"
      ]
     },
     "metadata": {},
     "output_type": "display_data"
    },
    {
     "data": {
      "application/vnd.jupyter.widget-view+json": {
       "model_id": "e8389af0d5cf48eebe9931966156778b",
       "version_major": 2,
       "version_minor": 0
      },
      "text/plain": [
       "Evaluation episodes:   0%|          | 0/3 [00:00<?, ?it/s]"
      ]
     },
     "metadata": {},
     "output_type": "display_data"
    },
    {
     "data": {
      "application/vnd.jupyter.widget-view+json": {
       "model_id": "e74d21fe8ffa4f99a31c73111f1aee64",
       "version_major": 2,
       "version_minor": 0
      },
      "text/plain": [
       "Evaluation episodes:   0%|          | 0/3 [00:00<?, ?it/s]"
      ]
     },
     "metadata": {},
     "output_type": "display_data"
    },
    {
     "data": {
      "application/vnd.jupyter.widget-view+json": {
       "model_id": "aef7df40075f440bac64b7b85caed7bc",
       "version_major": 2,
       "version_minor": 0
      },
      "text/plain": [
       "Evaluation episodes:   0%|          | 0/3 [00:00<?, ?it/s]"
      ]
     },
     "metadata": {},
     "output_type": "display_data"
    },
    {
     "data": {
      "application/vnd.jupyter.widget-view+json": {
       "model_id": "b9f89dd89edf4b63a36dffcac230377d",
       "version_major": 2,
       "version_minor": 0
      },
      "text/plain": [
       "Evaluation episodes:   0%|          | 0/3 [00:00<?, ?it/s]"
      ]
     },
     "metadata": {},
     "output_type": "display_data"
    },
    {
     "data": {
      "application/vnd.jupyter.widget-view+json": {
       "model_id": "0e2e79179bf04a2b950a1e096175cea6",
       "version_major": 2,
       "version_minor": 0
      },
      "text/plain": [
       "Evaluation episodes:   0%|          | 0/3 [00:00<?, ?it/s]"
      ]
     },
     "metadata": {},
     "output_type": "display_data"
    },
    {
     "data": {
      "application/vnd.jupyter.widget-view+json": {
       "model_id": "77509cdfef5e4b10ae183a8c44f6ccc8",
       "version_major": 2,
       "version_minor": 0
      },
      "text/plain": [
       "Evaluation episodes:   0%|          | 0/3 [00:00<?, ?it/s]"
      ]
     },
     "metadata": {},
     "output_type": "display_data"
    },
    {
     "data": {
      "application/vnd.jupyter.widget-view+json": {
       "model_id": "ed74d6e964f64e2f94c815fb4004a9b2",
       "version_major": 2,
       "version_minor": 0
      },
      "text/plain": [
       "Evaluation episodes:   0%|          | 0/3 [00:00<?, ?it/s]"
      ]
     },
     "metadata": {},
     "output_type": "display_data"
    },
    {
     "data": {
      "application/vnd.jupyter.widget-view+json": {
       "model_id": "0b90aeca79184c658381dcb2990a5e4d",
       "version_major": 2,
       "version_minor": 0
      },
      "text/plain": [
       "Evaluation episodes:   0%|          | 0/3 [00:00<?, ?it/s]"
      ]
     },
     "metadata": {},
     "output_type": "display_data"
    },
    {
     "data": {
      "application/vnd.jupyter.widget-view+json": {
       "model_id": "5a45471fa7a442e78faa51e63e9d74ae",
       "version_major": 2,
       "version_minor": 0
      },
      "text/plain": [
       "Evaluation episodes:   0%|          | 0/3 [00:00<?, ?it/s]"
      ]
     },
     "metadata": {},
     "output_type": "display_data"
    },
    {
     "data": {
      "application/vnd.jupyter.widget-view+json": {
       "model_id": "736e81906acd49cdab392f3f52193291",
       "version_major": 2,
       "version_minor": 0
      },
      "text/plain": [
       "Evaluation episodes:   0%|          | 0/3 [00:00<?, ?it/s]"
      ]
     },
     "metadata": {},
     "output_type": "display_data"
    },
    {
     "data": {
      "application/vnd.jupyter.widget-view+json": {
       "model_id": "cb66137f843c4b87889c9002973e307a",
       "version_major": 2,
       "version_minor": 0
      },
      "text/plain": [
       "Evaluation episodes:   0%|          | 0/3 [00:00<?, ?it/s]"
      ]
     },
     "metadata": {},
     "output_type": "display_data"
    },
    {
     "data": {
      "application/vnd.jupyter.widget-view+json": {
       "model_id": "5002a22ef0eb413293c567f85726d746",
       "version_major": 2,
       "version_minor": 0
      },
      "text/plain": [
       "Evaluation episodes:   0%|          | 0/3 [00:00<?, ?it/s]"
      ]
     },
     "metadata": {},
     "output_type": "display_data"
    },
    {
     "data": {
      "application/vnd.jupyter.widget-view+json": {
       "model_id": "3bc483a00697427cae93ce745d4ee1da",
       "version_major": 2,
       "version_minor": 0
      },
      "text/plain": [
       "Evaluation episodes:   0%|          | 0/3 [00:00<?, ?it/s]"
      ]
     },
     "metadata": {},
     "output_type": "display_data"
    },
    {
     "data": {
      "application/vnd.jupyter.widget-view+json": {
       "model_id": "a7d4ebdcf49a4b71b268bfec9f1e67df",
       "version_major": 2,
       "version_minor": 0
      },
      "text/plain": [
       "Evaluation episodes:   0%|          | 0/3 [00:00<?, ?it/s]"
      ]
     },
     "metadata": {},
     "output_type": "display_data"
    },
    {
     "data": {
      "application/vnd.jupyter.widget-view+json": {
       "model_id": "29222770229549c6b65fa4b4cd4fd70c",
       "version_major": 2,
       "version_minor": 0
      },
      "text/plain": [
       "Evaluation episodes:   0%|          | 0/3 [00:00<?, ?it/s]"
      ]
     },
     "metadata": {},
     "output_type": "display_data"
    },
    {
     "data": {
      "application/vnd.jupyter.widget-view+json": {
       "model_id": "2c4964b4a2894dd2ae29420e560b3b62",
       "version_major": 2,
       "version_minor": 0
      },
      "text/plain": [
       "Evaluation episodes:   0%|          | 0/3 [00:00<?, ?it/s]"
      ]
     },
     "metadata": {},
     "output_type": "display_data"
    }
   ],
   "source": [
    "# | hide\n",
    "maskable_ppo_agent = MaskablePPOAgent(render_mode=\"human\", env_config=ENV_CONFIG)\n",
    "\n",
    "training_data_per_agent[maskable_ppo_agent.name] = maskable_ppo_agent.train()\n",
    "\n",
    "maskable_ppo_agent.save_model(f\"{maskable_ppo_agent.name}.model\")\n",
    "\n",
    "evaluation_data_per_agent[maskable_ppo_agent.name] = maskable_ppo_agent.evaluate()"
   ]
  },
  {
   "cell_type": "markdown",
   "metadata": {},
   "source": "### Evaluation MaskablePPO with optimized hyperparameters on ElectricityMarketEnv"
  },
  {
   "cell_type": "code",
   "execution_count": null,
   "metadata": {},
   "outputs": [
    {
     "name": "stderr",
     "output_type": "stream",
     "text": [
      "[I 2025-02-25 12:38:55,670] A new study created in RDB with name: OptimizedMaskablePPOAgent\n"
     ]
    },
    {
     "data": {
      "application/vnd.jupyter.widget-view+json": {
       "model_id": "d8271d09b00b49f5a8c1a298e6f5fd09",
       "version_major": 2,
       "version_minor": 0
      },
      "text/plain": [
       "  0%|          | 0/10 [00:00<?, ?it/s]"
      ]
     },
     "metadata": {},
     "output_type": "display_data"
    },
    {
     "data": {
      "application/vnd.jupyter.widget-view+json": {
       "model_id": "189e2a65b0b642c89f5bacb81a761d25",
       "version_major": 2,
       "version_minor": 0
      },
      "text/plain": [
       "seeds:   0%|          | 0/30 [00:00<?, ?it/s]"
      ]
     },
     "metadata": {},
     "output_type": "display_data"
    },
    {
     "data": {
      "application/vnd.jupyter.widget-view+json": {
       "model_id": "217d67fe8d5c4f228bf4c09f74c5b88f",
       "version_major": 2,
       "version_minor": 0
      },
      "text/plain": [
       "Collect episodes:   0%|          | 0/3 [00:00<?, ?it/s]"
      ]
     },
     "metadata": {},
     "output_type": "display_data"
    },
    {
     "data": {
      "application/vnd.jupyter.widget-view+json": {
       "model_id": "31bda14bc34446519e08ad08358dac27",
       "version_major": 2,
       "version_minor": 0
      },
      "text/plain": [
       "seeds:   0%|          | 0/30 [00:00<?, ?it/s]"
      ]
     },
     "metadata": {},
     "output_type": "display_data"
    },
    {
     "data": {
      "application/vnd.jupyter.widget-view+json": {
       "model_id": "dde0fe7617ba44868a413588f92adeb0",
       "version_major": 2,
       "version_minor": 0
      },
      "text/plain": [
       "Collect episodes:   0%|          | 0/3 [00:00<?, ?it/s]"
      ]
     },
     "metadata": {},
     "output_type": "display_data"
    },
    {
     "data": {
      "application/vnd.jupyter.widget-view+json": {
       "model_id": "eceb3224159b43f89b9df27ca4cf2e46",
       "version_major": 2,
       "version_minor": 0
      },
      "text/plain": [
       "seeds:   0%|          | 0/30 [00:00<?, ?it/s]"
      ]
     },
     "metadata": {},
     "output_type": "display_data"
    },
    {
     "data": {
      "application/vnd.jupyter.widget-view+json": {
       "model_id": "d915dcb2e269424a9451f6d18abb7cd4",
       "version_major": 2,
       "version_minor": 0
      },
      "text/plain": [
       "Collect episodes:   0%|          | 0/3 [00:00<?, ?it/s]"
      ]
     },
     "metadata": {},
     "output_type": "display_data"
    },
    {
     "data": {
      "application/vnd.jupyter.widget-view+json": {
       "model_id": "b0b85470703148c287bd4e367464a0d7",
       "version_major": 2,
       "version_minor": 0
      },
      "text/plain": [
       "seeds:   0%|          | 0/30 [00:00<?, ?it/s]"
      ]
     },
     "metadata": {},
     "output_type": "display_data"
    },
    {
     "data": {
      "application/vnd.jupyter.widget-view+json": {
       "model_id": "1b725c2957094e1b9bd17e815569923c",
       "version_major": 2,
       "version_minor": 0
      },
      "text/plain": [
       "Collect episodes:   0%|          | 0/3 [00:00<?, ?it/s]"
      ]
     },
     "metadata": {},
     "output_type": "display_data"
    },
    {
     "data": {
      "application/vnd.jupyter.widget-view+json": {
       "model_id": "decf1bc9381541fbb435bd160d95c831",
       "version_major": 2,
       "version_minor": 0
      },
      "text/plain": [
       "seeds:   0%|          | 0/30 [00:00<?, ?it/s]"
      ]
     },
     "metadata": {},
     "output_type": "display_data"
    },
    {
     "data": {
      "application/vnd.jupyter.widget-view+json": {
       "model_id": "17f1627694f74032a1f34631bd153fea",
       "version_major": 2,
       "version_minor": 0
      },
      "text/plain": [
       "Collect episodes:   0%|          | 0/3 [00:00<?, ?it/s]"
      ]
     },
     "metadata": {},
     "output_type": "display_data"
    },
    {
     "data": {
      "application/vnd.jupyter.widget-view+json": {
       "model_id": "7349102497184e278fd50ee6d75857f6",
       "version_major": 2,
       "version_minor": 0
      },
      "text/plain": [
       "seeds:   0%|          | 0/30 [00:00<?, ?it/s]"
      ]
     },
     "metadata": {},
     "output_type": "display_data"
    },
    {
     "data": {
      "application/vnd.jupyter.widget-view+json": {
       "model_id": "af086ab027064114bb9199ced639645d",
       "version_major": 2,
       "version_minor": 0
      },
      "text/plain": [
       "Collect episodes:   0%|          | 0/3 [00:00<?, ?it/s]"
      ]
     },
     "metadata": {},
     "output_type": "display_data"
    },
    {
     "data": {
      "application/vnd.jupyter.widget-view+json": {
       "model_id": "5af7f297ed554227bb6c8cd17da63861",
       "version_major": 2,
       "version_minor": 0
      },
      "text/plain": [
       "seeds:   0%|          | 0/30 [00:00<?, ?it/s]"
      ]
     },
     "metadata": {},
     "output_type": "display_data"
    },
    {
     "data": {
      "application/vnd.jupyter.widget-view+json": {
       "model_id": "60a946411b174f00a131910bf88139c5",
       "version_major": 2,
       "version_minor": 0
      },
      "text/plain": [
       "Collect episodes:   0%|          | 0/3 [00:00<?, ?it/s]"
      ]
     },
     "metadata": {},
     "output_type": "display_data"
    },
    {
     "data": {
      "application/vnd.jupyter.widget-view+json": {
       "model_id": "1dbf34f2e54b46689a4e14e6752455cf",
       "version_major": 2,
       "version_minor": 0
      },
      "text/plain": [
       "Collect episodes:   0%|          | 0/3 [00:00<?, ?it/s]"
      ]
     },
     "metadata": {},
     "output_type": "display_data"
    },
    {
     "data": {
      "application/vnd.jupyter.widget-view+json": {
       "model_id": "d4d5b744c59a4eb2be03ec23f47e1f70",
       "version_major": 2,
       "version_minor": 0
      },
      "text/plain": [
       "Collect episodes:   0%|          | 0/3 [00:00<?, ?it/s]"
      ]
     },
     "metadata": {},
     "output_type": "display_data"
    },
    {
     "data": {
      "application/vnd.jupyter.widget-view+json": {
       "model_id": "df2b7618bae84f5fbbde23ba5c4c2621",
       "version_major": 2,
       "version_minor": 0
      },
      "text/plain": [
       "Collect episodes:   0%|          | 0/3 [00:00<?, ?it/s]"
      ]
     },
     "metadata": {},
     "output_type": "display_data"
    },
    {
     "data": {
      "application/vnd.jupyter.widget-view+json": {
       "model_id": "0f8aa2f7d1914bea9ce3f3eb9ce22863",
       "version_major": 2,
       "version_minor": 0
      },
      "text/plain": [
       "Collect episodes:   0%|          | 0/3 [00:00<?, ?it/s]"
      ]
     },
     "metadata": {},
     "output_type": "display_data"
    },
    {
     "data": {
      "application/vnd.jupyter.widget-view+json": {
       "model_id": "3964c98b121947b6916f8cf42b75512b",
       "version_major": 2,
       "version_minor": 0
      },
      "text/plain": [
       "Collect episodes:   0%|          | 0/3 [00:00<?, ?it/s]"
      ]
     },
     "metadata": {},
     "output_type": "display_data"
    },
    {
     "data": {
      "application/vnd.jupyter.widget-view+json": {
       "model_id": "5281a76a4a9c4539b77ffc14e54ec5c5",
       "version_major": 2,
       "version_minor": 0
      },
      "text/plain": [
       "Collect episodes:   0%|          | 0/3 [00:00<?, ?it/s]"
      ]
     },
     "metadata": {},
     "output_type": "display_data"
    },
    {
     "data": {
      "application/vnd.jupyter.widget-view+json": {
       "model_id": "de96b706b4644715b4509b07d624f0b9",
       "version_major": 2,
       "version_minor": 0
      },
      "text/plain": [
       "Collect episodes:   0%|          | 0/3 [00:00<?, ?it/s]"
      ]
     },
     "metadata": {},
     "output_type": "display_data"
    },
    {
     "data": {
      "application/vnd.jupyter.widget-view+json": {
       "model_id": "f24ab20ee11b4f739a543d8620c5e326",
       "version_major": 2,
       "version_minor": 0
      },
      "text/plain": [
       "Collect episodes:   0%|          | 0/3 [00:00<?, ?it/s]"
      ]
     },
     "metadata": {},
     "output_type": "display_data"
    },
    {
     "data": {
      "application/vnd.jupyter.widget-view+json": {
       "model_id": "975fc235aa7d45a4814ef8e949adbf8b",
       "version_major": 2,
       "version_minor": 0
      },
      "text/plain": [
       "Collect episodes:   0%|          | 0/3 [00:00<?, ?it/s]"
      ]
     },
     "metadata": {},
     "output_type": "display_data"
    },
    {
     "data": {
      "application/vnd.jupyter.widget-view+json": {
       "model_id": "e121e17ef3fe41b880228e25d77597f1",
       "version_major": 2,
       "version_minor": 0
      },
      "text/plain": [
       "Collect episodes:   0%|          | 0/3 [00:00<?, ?it/s]"
      ]
     },
     "metadata": {},
     "output_type": "display_data"
    },
    {
     "data": {
      "application/vnd.jupyter.widget-view+json": {
       "model_id": "fa418d4bf33946c59679ee8088a5e606",
       "version_major": 2,
       "version_minor": 0
      },
      "text/plain": [
       "Collect episodes:   0%|          | 0/3 [00:00<?, ?it/s]"
      ]
     },
     "metadata": {},
     "output_type": "display_data"
    },
    {
     "data": {
      "application/vnd.jupyter.widget-view+json": {
       "model_id": "541da1bd1ab04b08907fbc36a52a2905",
       "version_major": 2,
       "version_minor": 0
      },
      "text/plain": [
       "seeds:   0%|          | 0/30 [00:00<?, ?it/s]"
      ]
     },
     "metadata": {},
     "output_type": "display_data"
    },
    {
     "data": {
      "application/vnd.jupyter.widget-view+json": {
       "model_id": "3172f3636fcd4ef9acc2d1d57c8b5aec",
       "version_major": 2,
       "version_minor": 0
      },
      "text/plain": [
       "Collect episodes:   0%|          | 0/3 [00:00<?, ?it/s]"
      ]
     },
     "metadata": {},
     "output_type": "display_data"
    },
    {
     "data": {
      "application/vnd.jupyter.widget-view+json": {
       "model_id": "fdef7c54d9e2439ba477f025bdfd4ba8",
       "version_major": 2,
       "version_minor": 0
      },
      "text/plain": [
       "Collect episodes:   0%|          | 0/3 [00:00<?, ?it/s]"
      ]
     },
     "metadata": {},
     "output_type": "display_data"
    },
    {
     "data": {
      "application/vnd.jupyter.widget-view+json": {
       "model_id": "a1ccb612bdd047ba955a897d70c62566",
       "version_major": 2,
       "version_minor": 0
      },
      "text/plain": [
       "Collect episodes:   0%|          | 0/3 [00:00<?, ?it/s]"
      ]
     },
     "metadata": {},
     "output_type": "display_data"
    },
    {
     "data": {
      "application/vnd.jupyter.widget-view+json": {
       "model_id": "52577ecc2d0c45c7a3c5e4a051c423b4",
       "version_major": 2,
       "version_minor": 0
      },
      "text/plain": [
       "Collect episodes:   0%|          | 0/3 [00:00<?, ?it/s]"
      ]
     },
     "metadata": {},
     "output_type": "display_data"
    },
    {
     "data": {
      "application/vnd.jupyter.widget-view+json": {
       "model_id": "05ca2fd3acf94981a00b5ca3ae96d419",
       "version_major": 2,
       "version_minor": 0
      },
      "text/plain": [
       "Collect episodes:   0%|          | 0/3 [00:00<?, ?it/s]"
      ]
     },
     "metadata": {},
     "output_type": "display_data"
    },
    {
     "data": {
      "application/vnd.jupyter.widget-view+json": {
       "model_id": "2cec37a18e544cfa97ed762bed7efae2",
       "version_major": 2,
       "version_minor": 0
      },
      "text/plain": [
       "Collect episodes:   0%|          | 0/3 [00:00<?, ?it/s]"
      ]
     },
     "metadata": {},
     "output_type": "display_data"
    },
    {
     "data": {
      "application/vnd.jupyter.widget-view+json": {
       "model_id": "ef8ecf9c616e4265a4fea71ab86988d9",
       "version_major": 2,
       "version_minor": 0
      },
      "text/plain": [
       "Collect episodes:   0%|          | 0/3 [00:00<?, ?it/s]"
      ]
     },
     "metadata": {},
     "output_type": "display_data"
    },
    {
     "data": {
      "application/vnd.jupyter.widget-view+json": {
       "model_id": "8935b177d9214f2b89cc61ac41f91b53",
       "version_major": 2,
       "version_minor": 0
      },
      "text/plain": [
       "Collect episodes:   0%|          | 0/3 [00:00<?, ?it/s]"
      ]
     },
     "metadata": {},
     "output_type": "display_data"
    },
    {
     "data": {
      "application/vnd.jupyter.widget-view+json": {
       "model_id": "d5fec11b08604f2e8142306280d720fe",
       "version_major": 2,
       "version_minor": 0
      },
      "text/plain": [
       "Collect episodes:   0%|          | 0/3 [00:00<?, ?it/s]"
      ]
     },
     "metadata": {},
     "output_type": "display_data"
    },
    {
     "data": {
      "application/vnd.jupyter.widget-view+json": {
       "model_id": "c63ce94b2a3b4000b9137d230a39b6c9",
       "version_major": 2,
       "version_minor": 0
      },
      "text/plain": [
       "Collect episodes:   0%|          | 0/3 [00:00<?, ?it/s]"
      ]
     },
     "metadata": {},
     "output_type": "display_data"
    },
    {
     "data": {
      "application/vnd.jupyter.widget-view+json": {
       "model_id": "a918afbdfb1e495391f4098824dbbec6",
       "version_major": 2,
       "version_minor": 0
      },
      "text/plain": [
       "Collect episodes:   0%|          | 0/3 [00:00<?, ?it/s]"
      ]
     },
     "metadata": {},
     "output_type": "display_data"
    },
    {
     "data": {
      "application/vnd.jupyter.widget-view+json": {
       "model_id": "23d006bab7b540db9ec1702d53dc11f8",
       "version_major": 2,
       "version_minor": 0
      },
      "text/plain": [
       "Collect episodes:   0%|          | 0/3 [00:00<?, ?it/s]"
      ]
     },
     "metadata": {},
     "output_type": "display_data"
    },
    {
     "data": {
      "application/vnd.jupyter.widget-view+json": {
       "model_id": "53b3b2fb5b644fb8be8c9273f1b2ebd4",
       "version_major": 2,
       "version_minor": 0
      },
      "text/plain": [
       "Collect episodes:   0%|          | 0/3 [00:00<?, ?it/s]"
      ]
     },
     "metadata": {},
     "output_type": "display_data"
    },
    {
     "data": {
      "application/vnd.jupyter.widget-view+json": {
       "model_id": "73afd62517f4491bab3743257ac75f8e",
       "version_major": 2,
       "version_minor": 0
      },
      "text/plain": [
       "Collect episodes:   0%|          | 0/3 [00:00<?, ?it/s]"
      ]
     },
     "metadata": {},
     "output_type": "display_data"
    },
    {
     "data": {
      "application/vnd.jupyter.widget-view+json": {
       "model_id": "23f7896761e44d2cb7bfd9db6b87f379",
       "version_major": 2,
       "version_minor": 0
      },
      "text/plain": [
       "Collect episodes:   0%|          | 0/3 [00:00<?, ?it/s]"
      ]
     },
     "metadata": {},
     "output_type": "display_data"
    },
    {
     "data": {
      "application/vnd.jupyter.widget-view+json": {
       "model_id": "c54c78d08bee44adb9ba13497de619e9",
       "version_major": 2,
       "version_minor": 0
      },
      "text/plain": [
       "Collect episodes:   0%|          | 0/3 [00:00<?, ?it/s]"
      ]
     },
     "metadata": {},
     "output_type": "display_data"
    },
    {
     "data": {
      "application/vnd.jupyter.widget-view+json": {
       "model_id": "f7b70584edb7482197191d35cb755e68",
       "version_major": 2,
       "version_minor": 0
      },
      "text/plain": [
       "Collect episodes:   0%|          | 0/3 [00:00<?, ?it/s]"
      ]
     },
     "metadata": {},
     "output_type": "display_data"
    },
    {
     "data": {
      "application/vnd.jupyter.widget-view+json": {
       "model_id": "e76d93c0d50b4ad3be2ea341e7aaf6c7",
       "version_major": 2,
       "version_minor": 0
      },
      "text/plain": [
       "Collect episodes:   0%|          | 0/3 [00:00<?, ?it/s]"
      ]
     },
     "metadata": {},
     "output_type": "display_data"
    },
    {
     "data": {
      "application/vnd.jupyter.widget-view+json": {
       "model_id": "f03249ac38fe413b92cb898085d5aa07",
       "version_major": 2,
       "version_minor": 0
      },
      "text/plain": [
       "Collect episodes:   0%|          | 0/3 [00:00<?, ?it/s]"
      ]
     },
     "metadata": {},
     "output_type": "display_data"
    },
    {
     "data": {
      "application/vnd.jupyter.widget-view+json": {
       "model_id": "177e6f56f5de41ca8097902bacb68674",
       "version_major": 2,
       "version_minor": 0
      },
      "text/plain": [
       "Collect episodes:   0%|          | 0/3 [00:00<?, ?it/s]"
      ]
     },
     "metadata": {},
     "output_type": "display_data"
    },
    {
     "data": {
      "application/vnd.jupyter.widget-view+json": {
       "model_id": "1b8e2d708a0048b983268744e9721acf",
       "version_major": 2,
       "version_minor": 0
      },
      "text/plain": [
       "Collect episodes:   0%|          | 0/3 [00:00<?, ?it/s]"
      ]
     },
     "metadata": {},
     "output_type": "display_data"
    },
    {
     "data": {
      "application/vnd.jupyter.widget-view+json": {
       "model_id": "3ad10283f7d541779bfc0dbf15f262e3",
       "version_major": 2,
       "version_minor": 0
      },
      "text/plain": [
       "Collect episodes:   0%|          | 0/3 [00:00<?, ?it/s]"
      ]
     },
     "metadata": {},
     "output_type": "display_data"
    },
    {
     "data": {
      "application/vnd.jupyter.widget-view+json": {
       "model_id": "9a8bd9d18b2c42ce810ca246506c716f",
       "version_major": 2,
       "version_minor": 0
      },
      "text/plain": [
       "Collect episodes:   0%|          | 0/3 [00:00<?, ?it/s]"
      ]
     },
     "metadata": {},
     "output_type": "display_data"
    },
    {
     "data": {
      "application/vnd.jupyter.widget-view+json": {
       "model_id": "13d2f430e71b4f66b082116a31858c36",
       "version_major": 2,
       "version_minor": 0
      },
      "text/plain": [
       "Collect episodes:   0%|          | 0/3 [00:00<?, ?it/s]"
      ]
     },
     "metadata": {},
     "output_type": "display_data"
    },
    {
     "data": {
      "application/vnd.jupyter.widget-view+json": {
       "model_id": "082b98c5538842609057efe4b774157f",
       "version_major": 2,
       "version_minor": 0
      },
      "text/plain": [
       "Collect episodes:   0%|          | 0/3 [00:00<?, ?it/s]"
      ]
     },
     "metadata": {},
     "output_type": "display_data"
    },
    {
     "data": {
      "application/vnd.jupyter.widget-view+json": {
       "model_id": "c0134637ae274341ac7f8ab04145dcd5",
       "version_major": 2,
       "version_minor": 0
      },
      "text/plain": [
       "Collect episodes:   0%|          | 0/3 [00:00<?, ?it/s]"
      ]
     },
     "metadata": {},
     "output_type": "display_data"
    },
    {
     "data": {
      "application/vnd.jupyter.widget-view+json": {
       "model_id": "92ba7342fbe841599ccd3ae84975cfa1",
       "version_major": 2,
       "version_minor": 0
      },
      "text/plain": [
       "Collect episodes:   0%|          | 0/3 [00:00<?, ?it/s]"
      ]
     },
     "metadata": {},
     "output_type": "display_data"
    },
    {
     "data": {
      "application/vnd.jupyter.widget-view+json": {
       "model_id": "93f9e289e01746f5b98adafc5e25bc2f",
       "version_major": 2,
       "version_minor": 0
      },
      "text/plain": [
       "Collect episodes:   0%|          | 0/3 [00:00<?, ?it/s]"
      ]
     },
     "metadata": {},
     "output_type": "display_data"
    },
    {
     "data": {
      "application/vnd.jupyter.widget-view+json": {
       "model_id": "133d667b0d2c484ea2d25b660ec13630",
       "version_major": 2,
       "version_minor": 0
      },
      "text/plain": [
       "Collect episodes:   0%|          | 0/3 [00:00<?, ?it/s]"
      ]
     },
     "metadata": {},
     "output_type": "display_data"
    },
    {
     "data": {
      "application/vnd.jupyter.widget-view+json": {
       "model_id": "ab875bffd4ce4c40a646312cd31645bc",
       "version_major": 2,
       "version_minor": 0
      },
      "text/plain": [
       "Collect episodes:   0%|          | 0/3 [00:00<?, ?it/s]"
      ]
     },
     "metadata": {},
     "output_type": "display_data"
    },
    {
     "data": {
      "application/vnd.jupyter.widget-view+json": {
       "model_id": "42112504e0e2430c8323860ca05a2e36",
       "version_major": 2,
       "version_minor": 0
      },
      "text/plain": [
       "Collect episodes:   0%|          | 0/3 [00:00<?, ?it/s]"
      ]
     },
     "metadata": {},
     "output_type": "display_data"
    },
    {
     "data": {
      "application/vnd.jupyter.widget-view+json": {
       "model_id": "13b2f47435184ba4b089416d98c196ed",
       "version_major": 2,
       "version_minor": 0
      },
      "text/plain": [
       "Collect episodes:   0%|          | 0/3 [00:00<?, ?it/s]"
      ]
     },
     "metadata": {},
     "output_type": "display_data"
    },
    {
     "data": {
      "application/vnd.jupyter.widget-view+json": {
       "model_id": "1c5e4baec60345e3bf8d69c20140c611",
       "version_major": 2,
       "version_minor": 0
      },
      "text/plain": [
       "Collect episodes:   0%|          | 0/3 [00:00<?, ?it/s]"
      ]
     },
     "metadata": {},
     "output_type": "display_data"
    },
    {
     "data": {
      "application/vnd.jupyter.widget-view+json": {
       "model_id": "b8e4df1689dc48ec84bd1bd557c2617e",
       "version_major": 2,
       "version_minor": 0
      },
      "text/plain": [
       "Collect episodes:   0%|          | 0/3 [00:00<?, ?it/s]"
      ]
     },
     "metadata": {},
     "output_type": "display_data"
    },
    {
     "data": {
      "application/vnd.jupyter.widget-view+json": {
       "model_id": "c998e782a0e045dc95e256453f5116fc",
       "version_major": 2,
       "version_minor": 0
      },
      "text/plain": [
       "Collect episodes:   0%|          | 0/3 [00:00<?, ?it/s]"
      ]
     },
     "metadata": {},
     "output_type": "display_data"
    },
    {
     "data": {
      "application/vnd.jupyter.widget-view+json": {
       "model_id": "ba538a31b45044e7a64edd299b4a7cae",
       "version_major": 2,
       "version_minor": 0
      },
      "text/plain": [
       "Collect episodes:   0%|          | 0/3 [00:00<?, ?it/s]"
      ]
     },
     "metadata": {},
     "output_type": "display_data"
    },
    {
     "data": {
      "application/vnd.jupyter.widget-view+json": {
       "model_id": "514a1842952c497893ac82357c66c9ef",
       "version_major": 2,
       "version_minor": 0
      },
      "text/plain": [
       "Collect episodes:   0%|          | 0/3 [00:00<?, ?it/s]"
      ]
     },
     "metadata": {},
     "output_type": "display_data"
    },
    {
     "data": {
      "application/vnd.jupyter.widget-view+json": {
       "model_id": "26806d30e6054c02b2b44c7089af1f9d",
       "version_major": 2,
       "version_minor": 0
      },
      "text/plain": [
       "Collect episodes:   0%|          | 0/3 [00:00<?, ?it/s]"
      ]
     },
     "metadata": {},
     "output_type": "display_data"
    },
    {
     "data": {
      "application/vnd.jupyter.widget-view+json": {
       "model_id": "8054da98ea2441a296ee9a490f3b42c9",
       "version_major": 2,
       "version_minor": 0
      },
      "text/plain": [
       "Collect episodes:   0%|          | 0/3 [00:00<?, ?it/s]"
      ]
     },
     "metadata": {},
     "output_type": "display_data"
    },
    {
     "data": {
      "application/vnd.jupyter.widget-view+json": {
       "model_id": "a7db5e4841044d44a3b5536c0ac95ab8",
       "version_major": 2,
       "version_minor": 0
      },
      "text/plain": [
       "Collect episodes:   0%|          | 0/3 [00:00<?, ?it/s]"
      ]
     },
     "metadata": {},
     "output_type": "display_data"
    },
    {
     "data": {
      "application/vnd.jupyter.widget-view+json": {
       "model_id": "b9ca5a71fed242b7a78d6ce607b968c0",
       "version_major": 2,
       "version_minor": 0
      },
      "text/plain": [
       "Collect episodes:   0%|          | 0/3 [00:00<?, ?it/s]"
      ]
     },
     "metadata": {},
     "output_type": "display_data"
    },
    {
     "data": {
      "application/vnd.jupyter.widget-view+json": {
       "model_id": "73620cc53f8c4916821d255122fca2a5",
       "version_major": 2,
       "version_minor": 0
      },
      "text/plain": [
       "Collect episodes:   0%|          | 0/3 [00:00<?, ?it/s]"
      ]
     },
     "metadata": {},
     "output_type": "display_data"
    },
    {
     "data": {
      "application/vnd.jupyter.widget-view+json": {
       "model_id": "7ca76784735a40f0a2341dff21db1399",
       "version_major": 2,
       "version_minor": 0
      },
      "text/plain": [
       "Collect episodes:   0%|          | 0/3 [00:00<?, ?it/s]"
      ]
     },
     "metadata": {},
     "output_type": "display_data"
    },
    {
     "data": {
      "application/vnd.jupyter.widget-view+json": {
       "model_id": "296cb4a341f94839ba0302cafea41937",
       "version_major": 2,
       "version_minor": 0
      },
      "text/plain": [
       "Collect episodes:   0%|          | 0/3 [00:00<?, ?it/s]"
      ]
     },
     "metadata": {},
     "output_type": "display_data"
    },
    {
     "data": {
      "application/vnd.jupyter.widget-view+json": {
       "model_id": "6599fb7382684d319c3c8a0b48a252ba",
       "version_major": 2,
       "version_minor": 0
      },
      "text/plain": [
       "Collect episodes:   0%|          | 0/3 [00:00<?, ?it/s]"
      ]
     },
     "metadata": {},
     "output_type": "display_data"
    },
    {
     "data": {
      "application/vnd.jupyter.widget-view+json": {
       "model_id": "d2df9829348c4db1b8574b57a13ea117",
       "version_major": 2,
       "version_minor": 0
      },
      "text/plain": [
       "Collect episodes:   0%|          | 0/3 [00:00<?, ?it/s]"
      ]
     },
     "metadata": {},
     "output_type": "display_data"
    },
    {
     "data": {
      "application/vnd.jupyter.widget-view+json": {
       "model_id": "73dcbce8a5f94a81ad0ac6b79b9b5384",
       "version_major": 2,
       "version_minor": 0
      },
      "text/plain": [
       "Collect episodes:   0%|          | 0/3 [00:00<?, ?it/s]"
      ]
     },
     "metadata": {},
     "output_type": "display_data"
    },
    {
     "data": {
      "application/vnd.jupyter.widget-view+json": {
       "model_id": "70236ca23d6140aea5778088a8750cac",
       "version_major": 2,
       "version_minor": 0
      },
      "text/plain": [
       "Collect episodes:   0%|          | 0/3 [00:00<?, ?it/s]"
      ]
     },
     "metadata": {},
     "output_type": "display_data"
    },
    {
     "data": {
      "application/vnd.jupyter.widget-view+json": {
       "model_id": "0915d6cba8324da3aa3633eadd0894f7",
       "version_major": 2,
       "version_minor": 0
      },
      "text/plain": [
       "Collect episodes:   0%|          | 0/3 [00:00<?, ?it/s]"
      ]
     },
     "metadata": {},
     "output_type": "display_data"
    },
    {
     "data": {
      "application/vnd.jupyter.widget-view+json": {
       "model_id": "1578a056c63b4f6d9ab4d5f0495d36d6",
       "version_major": 2,
       "version_minor": 0
      },
      "text/plain": [
       "Collect episodes:   0%|          | 0/3 [00:00<?, ?it/s]"
      ]
     },
     "metadata": {},
     "output_type": "display_data"
    },
    {
     "data": {
      "application/vnd.jupyter.widget-view+json": {
       "model_id": "d1c7c4a523a44f0ea5e58a411666ce8a",
       "version_major": 2,
       "version_minor": 0
      },
      "text/plain": [
       "Collect episodes:   0%|          | 0/3 [00:00<?, ?it/s]"
      ]
     },
     "metadata": {},
     "output_type": "display_data"
    },
    {
     "data": {
      "application/vnd.jupyter.widget-view+json": {
       "model_id": "86f67d377199463b9908bca938a5dea2",
       "version_major": 2,
       "version_minor": 0
      },
      "text/plain": [
       "Collect episodes:   0%|          | 0/3 [00:00<?, ?it/s]"
      ]
     },
     "metadata": {},
     "output_type": "display_data"
    },
    {
     "data": {
      "application/vnd.jupyter.widget-view+json": {
       "model_id": "11965311da9e4e4eb13b5c32fcf5f97e",
       "version_major": 2,
       "version_minor": 0
      },
      "text/plain": [
       "Collect episodes:   0%|          | 0/3 [00:00<?, ?it/s]"
      ]
     },
     "metadata": {},
     "output_type": "display_data"
    },
    {
     "data": {
      "application/vnd.jupyter.widget-view+json": {
       "model_id": "bad300eb26ef403bbb0e1284d67ed2ac",
       "version_major": 2,
       "version_minor": 0
      },
      "text/plain": [
       "Collect episodes:   0%|          | 0/3 [00:00<?, ?it/s]"
      ]
     },
     "metadata": {},
     "output_type": "display_data"
    },
    {
     "data": {
      "application/vnd.jupyter.widget-view+json": {
       "model_id": "1a134a094f4248eaa0b2b1f46d4f61ea",
       "version_major": 2,
       "version_minor": 0
      },
      "text/plain": [
       "Collect episodes:   0%|          | 0/3 [00:00<?, ?it/s]"
      ]
     },
     "metadata": {},
     "output_type": "display_data"
    },
    {
     "data": {
      "application/vnd.jupyter.widget-view+json": {
       "model_id": "cbcee762ed9c4360b4052a53eb052cc5",
       "version_major": 2,
       "version_minor": 0
      },
      "text/plain": [
       "Collect episodes:   0%|          | 0/3 [00:00<?, ?it/s]"
      ]
     },
     "metadata": {},
     "output_type": "display_data"
    },
    {
     "data": {
      "application/vnd.jupyter.widget-view+json": {
       "model_id": "50c82e3bbdc0415bbd76423f24733dcf",
       "version_major": 2,
       "version_minor": 0
      },
      "text/plain": [
       "Collect episodes:   0%|          | 0/3 [00:00<?, ?it/s]"
      ]
     },
     "metadata": {},
     "output_type": "display_data"
    },
    {
     "data": {
      "application/vnd.jupyter.widget-view+json": {
       "model_id": "b9c08a7a72f941519742d73b09ed1d74",
       "version_major": 2,
       "version_minor": 0
      },
      "text/plain": [
       "Collect episodes:   0%|          | 0/3 [00:00<?, ?it/s]"
      ]
     },
     "metadata": {},
     "output_type": "display_data"
    },
    {
     "data": {
      "application/vnd.jupyter.widget-view+json": {
       "model_id": "b496360d146a484387ef282525831fc7",
       "version_major": 2,
       "version_minor": 0
      },
      "text/plain": [
       "Collect episodes:   0%|          | 0/3 [00:00<?, ?it/s]"
      ]
     },
     "metadata": {},
     "output_type": "display_data"
    },
    {
     "data": {
      "application/vnd.jupyter.widget-view+json": {
       "model_id": "9a0319fb933440208ae0d9ca4005b8a7",
       "version_major": 2,
       "version_minor": 0
      },
      "text/plain": [
       "Collect episodes:   0%|          | 0/3 [00:00<?, ?it/s]"
      ]
     },
     "metadata": {},
     "output_type": "display_data"
    },
    {
     "data": {
      "application/vnd.jupyter.widget-view+json": {
       "model_id": "26817282cff540ad9cde9f9fa5c0b44d",
       "version_major": 2,
       "version_minor": 0
      },
      "text/plain": [
       "Collect episodes:   0%|          | 0/3 [00:00<?, ?it/s]"
      ]
     },
     "metadata": {},
     "output_type": "display_data"
    },
    {
     "data": {
      "application/vnd.jupyter.widget-view+json": {
       "model_id": "14869ae19ec448d4b9d72e73b55c7bc8",
       "version_major": 2,
       "version_minor": 0
      },
      "text/plain": [
       "Collect episodes:   0%|          | 0/3 [00:00<?, ?it/s]"
      ]
     },
     "metadata": {},
     "output_type": "display_data"
    },
    {
     "data": {
      "application/vnd.jupyter.widget-view+json": {
       "model_id": "831fc905a33e43b1b3cf3e67945ea4a8",
       "version_major": 2,
       "version_minor": 0
      },
      "text/plain": [
       "Collect episodes:   0%|          | 0/3 [00:00<?, ?it/s]"
      ]
     },
     "metadata": {},
     "output_type": "display_data"
    },
    {
     "data": {
      "application/vnd.jupyter.widget-view+json": {
       "model_id": "ea63c0b796f84b91afcbaccffe877aa9",
       "version_major": 2,
       "version_minor": 0
      },
      "text/plain": [
       "Collect episodes:   0%|          | 0/3 [00:00<?, ?it/s]"
      ]
     },
     "metadata": {},
     "output_type": "display_data"
    },
    {
     "data": {
      "application/vnd.jupyter.widget-view+json": {
       "model_id": "d1e8880ee3944340a70a2918ad725757",
       "version_major": 2,
       "version_minor": 0
      },
      "text/plain": [
       "Collect episodes:   0%|          | 0/3 [00:00<?, ?it/s]"
      ]
     },
     "metadata": {},
     "output_type": "display_data"
    },
    {
     "data": {
      "application/vnd.jupyter.widget-view+json": {
       "model_id": "f7bb5bdaa93e42729ad7693a192e2509",
       "version_major": 2,
       "version_minor": 0
      },
      "text/plain": [
       "Collect episodes:   0%|          | 0/3 [00:00<?, ?it/s]"
      ]
     },
     "metadata": {},
     "output_type": "display_data"
    },
    {
     "data": {
      "application/vnd.jupyter.widget-view+json": {
       "model_id": "94cc47db26d54a9d99d134886cc1412a",
       "version_major": 2,
       "version_minor": 0
      },
      "text/plain": [
       "Collect episodes:   0%|          | 0/3 [00:00<?, ?it/s]"
      ]
     },
     "metadata": {},
     "output_type": "display_data"
    },
    {
     "data": {
      "application/vnd.jupyter.widget-view+json": {
       "model_id": "dc68e72b0a1548c2830e9414c4cb51ea",
       "version_major": 2,
       "version_minor": 0
      },
      "text/plain": [
       "Collect episodes:   0%|          | 0/3 [00:00<?, ?it/s]"
      ]
     },
     "metadata": {},
     "output_type": "display_data"
    },
    {
     "data": {
      "application/vnd.jupyter.widget-view+json": {
       "model_id": "a4abe12fa37b4f468c24ca2ae4441483",
       "version_major": 2,
       "version_minor": 0
      },
      "text/plain": [
       "Collect episodes:   0%|          | 0/3 [00:00<?, ?it/s]"
      ]
     },
     "metadata": {},
     "output_type": "display_data"
    },
    {
     "data": {
      "application/vnd.jupyter.widget-view+json": {
       "model_id": "861b2ff580c84ef1a564d62bb5b96dc7",
       "version_major": 2,
       "version_minor": 0
      },
      "text/plain": [
       "Collect episodes:   0%|          | 0/3 [00:00<?, ?it/s]"
      ]
     },
     "metadata": {},
     "output_type": "display_data"
    },
    {
     "data": {
      "application/vnd.jupyter.widget-view+json": {
       "model_id": "ce8ebf4cbe88470aaa3078c470902a34",
       "version_major": 2,
       "version_minor": 0
      },
      "text/plain": [
       "Collect episodes:   0%|          | 0/3 [00:00<?, ?it/s]"
      ]
     },
     "metadata": {},
     "output_type": "display_data"
    },
    {
     "data": {
      "application/vnd.jupyter.widget-view+json": {
       "model_id": "eb0bb16aea05435ca17957d544c78835",
       "version_major": 2,
       "version_minor": 0
      },
      "text/plain": [
       "Collect episodes:   0%|          | 0/3 [00:00<?, ?it/s]"
      ]
     },
     "metadata": {},
     "output_type": "display_data"
    },
    {
     "data": {
      "application/vnd.jupyter.widget-view+json": {
       "model_id": "d7ba389c8943449084919016f8bbd9ee",
       "version_major": 2,
       "version_minor": 0
      },
      "text/plain": [
       "Collect episodes:   0%|          | 0/3 [00:00<?, ?it/s]"
      ]
     },
     "metadata": {},
     "output_type": "display_data"
    },
    {
     "data": {
      "application/vnd.jupyter.widget-view+json": {
       "model_id": "0c62d2bbe64a470f846f1ddc334a488d",
       "version_major": 2,
       "version_minor": 0
      },
      "text/plain": [
       "Collect episodes:   0%|          | 0/3 [00:00<?, ?it/s]"
      ]
     },
     "metadata": {},
     "output_type": "display_data"
    },
    {
     "data": {
      "application/vnd.jupyter.widget-view+json": {
       "model_id": "8911e9b80852418d80425f26c1c734d1",
       "version_major": 2,
       "version_minor": 0
      },
      "text/plain": [
       "Collect episodes:   0%|          | 0/3 [00:00<?, ?it/s]"
      ]
     },
     "metadata": {},
     "output_type": "display_data"
    },
    {
     "data": {
      "application/vnd.jupyter.widget-view+json": {
       "model_id": "66e6c6ed5e314ea882b97c9bd89406eb",
       "version_major": 2,
       "version_minor": 0
      },
      "text/plain": [
       "Collect episodes:   0%|          | 0/3 [00:00<?, ?it/s]"
      ]
     },
     "metadata": {},
     "output_type": "display_data"
    },
    {
     "data": {
      "application/vnd.jupyter.widget-view+json": {
       "model_id": "6bf86bdaa1174637a1d6a38e98f8335a",
       "version_major": 2,
       "version_minor": 0
      },
      "text/plain": [
       "Collect episodes:   0%|          | 0/3 [00:00<?, ?it/s]"
      ]
     },
     "metadata": {},
     "output_type": "display_data"
    },
    {
     "data": {
      "application/vnd.jupyter.widget-view+json": {
       "model_id": "63a57fe3dc98425ba5afaa27e7f0286a",
       "version_major": 2,
       "version_minor": 0
      },
      "text/plain": [
       "Collect episodes:   0%|          | 0/3 [00:00<?, ?it/s]"
      ]
     },
     "metadata": {},
     "output_type": "display_data"
    },
    {
     "data": {
      "application/vnd.jupyter.widget-view+json": {
       "model_id": "43cb3ff54cf342dfb35c85736f438211",
       "version_major": 2,
       "version_minor": 0
      },
      "text/plain": [
       "Collect episodes:   0%|          | 0/3 [00:00<?, ?it/s]"
      ]
     },
     "metadata": {},
     "output_type": "display_data"
    },
    {
     "data": {
      "application/vnd.jupyter.widget-view+json": {
       "model_id": "310c8e3bebd94dd881bac777836b9367",
       "version_major": 2,
       "version_minor": 0
      },
      "text/plain": [
       "Collect episodes:   0%|          | 0/3 [00:00<?, ?it/s]"
      ]
     },
     "metadata": {},
     "output_type": "display_data"
    },
    {
     "data": {
      "application/vnd.jupyter.widget-view+json": {
       "model_id": "78dfb1e3fa6940a5badb8a79877be032",
       "version_major": 2,
       "version_minor": 0
      },
      "text/plain": [
       "Collect episodes:   0%|          | 0/3 [00:00<?, ?it/s]"
      ]
     },
     "metadata": {},
     "output_type": "display_data"
    },
    {
     "data": {
      "application/vnd.jupyter.widget-view+json": {
       "model_id": "4cc6e87150d5402da72b5559a694f13c",
       "version_major": 2,
       "version_minor": 0
      },
      "text/plain": [
       "Collect episodes:   0%|          | 0/3 [00:00<?, ?it/s]"
      ]
     },
     "metadata": {},
     "output_type": "display_data"
    },
    {
     "data": {
      "application/vnd.jupyter.widget-view+json": {
       "model_id": "e19dc69e3ab04f169999fb365b7ca8cd",
       "version_major": 2,
       "version_minor": 0
      },
      "text/plain": [
       "Collect episodes:   0%|          | 0/3 [00:00<?, ?it/s]"
      ]
     },
     "metadata": {},
     "output_type": "display_data"
    },
    {
     "data": {
      "application/vnd.jupyter.widget-view+json": {
       "model_id": "968c2e171898426c8c76a9c653c74652",
       "version_major": 2,
       "version_minor": 0
      },
      "text/plain": [
       "Collect episodes:   0%|          | 0/3 [00:00<?, ?it/s]"
      ]
     },
     "metadata": {},
     "output_type": "display_data"
    },
    {
     "data": {
      "application/vnd.jupyter.widget-view+json": {
       "model_id": "220313d71dd44ea8ac9c18ff6dd18d88",
       "version_major": 2,
       "version_minor": 0
      },
      "text/plain": [
       "Collect episodes:   0%|          | 0/3 [00:00<?, ?it/s]"
      ]
     },
     "metadata": {},
     "output_type": "display_data"
    },
    {
     "data": {
      "application/vnd.jupyter.widget-view+json": {
       "model_id": "7690ed49a39945a6b7e5b5c1e6d98370",
       "version_major": 2,
       "version_minor": 0
      },
      "text/plain": [
       "Collect episodes:   0%|          | 0/3 [00:00<?, ?it/s]"
      ]
     },
     "metadata": {},
     "output_type": "display_data"
    },
    {
     "data": {
      "application/vnd.jupyter.widget-view+json": {
       "model_id": "1e33dc28712a43f59727b9db6464bb5d",
       "version_major": 2,
       "version_minor": 0
      },
      "text/plain": [
       "Collect episodes:   0%|          | 0/3 [00:00<?, ?it/s]"
      ]
     },
     "metadata": {},
     "output_type": "display_data"
    },
    {
     "data": {
      "application/vnd.jupyter.widget-view+json": {
       "model_id": "e52188f0346a459db64071801f3d9f28",
       "version_major": 2,
       "version_minor": 0
      },
      "text/plain": [
       "Collect episodes:   0%|          | 0/3 [00:00<?, ?it/s]"
      ]
     },
     "metadata": {},
     "output_type": "display_data"
    },
    {
     "data": {
      "application/vnd.jupyter.widget-view+json": {
       "model_id": "eb9f3d36a8bf45c3bf387369b3cc6b35",
       "version_major": 2,
       "version_minor": 0
      },
      "text/plain": [
       "Collect episodes:   0%|          | 0/3 [00:00<?, ?it/s]"
      ]
     },
     "metadata": {},
     "output_type": "display_data"
    },
    {
     "data": {
      "application/vnd.jupyter.widget-view+json": {
       "model_id": "a9c277642938484186902a5b5df438b8",
       "version_major": 2,
       "version_minor": 0
      },
      "text/plain": [
       "Collect episodes:   0%|          | 0/3 [00:00<?, ?it/s]"
      ]
     },
     "metadata": {},
     "output_type": "display_data"
    },
    {
     "data": {
      "application/vnd.jupyter.widget-view+json": {
       "model_id": "db9b44daf3d6499dbf28f0dd4f883c14",
       "version_major": 2,
       "version_minor": 0
      },
      "text/plain": [
       "Collect episodes:   0%|          | 0/3 [00:00<?, ?it/s]"
      ]
     },
     "metadata": {},
     "output_type": "display_data"
    },
    {
     "data": {
      "application/vnd.jupyter.widget-view+json": {
       "model_id": "28d2f948731e4ed681086b083e3c7d38",
       "version_major": 2,
       "version_minor": 0
      },
      "text/plain": [
       "Collect episodes:   0%|          | 0/3 [00:00<?, ?it/s]"
      ]
     },
     "metadata": {},
     "output_type": "display_data"
    },
    {
     "data": {
      "application/vnd.jupyter.widget-view+json": {
       "model_id": "b4101024928e4206946fc54df4f4c036",
       "version_major": 2,
       "version_minor": 0
      },
      "text/plain": [
       "Collect episodes:   0%|          | 0/3 [00:00<?, ?it/s]"
      ]
     },
     "metadata": {},
     "output_type": "display_data"
    },
    {
     "data": {
      "application/vnd.jupyter.widget-view+json": {
       "model_id": "fc3dbe3586d04a5aa80fffc1610ca94e",
       "version_major": 2,
       "version_minor": 0
      },
      "text/plain": [
       "Collect episodes:   0%|          | 0/3 [00:00<?, ?it/s]"
      ]
     },
     "metadata": {},
     "output_type": "display_data"
    },
    {
     "data": {
      "application/vnd.jupyter.widget-view+json": {
       "model_id": "c7922d4057cd47659792d9089d1af968",
       "version_major": 2,
       "version_minor": 0
      },
      "text/plain": [
       "Collect episodes:   0%|          | 0/3 [00:00<?, ?it/s]"
      ]
     },
     "metadata": {},
     "output_type": "display_data"
    },
    {
     "data": {
      "application/vnd.jupyter.widget-view+json": {
       "model_id": "403f67d77373406594f90945350b86da",
       "version_major": 2,
       "version_minor": 0
      },
      "text/plain": [
       "Collect episodes:   0%|          | 0/3 [00:00<?, ?it/s]"
      ]
     },
     "metadata": {},
     "output_type": "display_data"
    },
    {
     "data": {
      "application/vnd.jupyter.widget-view+json": {
       "model_id": "e959901e6b704993bf3f0d6326d1c541",
       "version_major": 2,
       "version_minor": 0
      },
      "text/plain": [
       "Collect episodes:   0%|          | 0/3 [00:00<?, ?it/s]"
      ]
     },
     "metadata": {},
     "output_type": "display_data"
    },
    {
     "data": {
      "application/vnd.jupyter.widget-view+json": {
       "model_id": "19c0eb3576be4ca493c20ec9fe4bf8c8",
       "version_major": 2,
       "version_minor": 0
      },
      "text/plain": [
       "Collect episodes:   0%|          | 0/3 [00:00<?, ?it/s]"
      ]
     },
     "metadata": {},
     "output_type": "display_data"
    },
    {
     "data": {
      "application/vnd.jupyter.widget-view+json": {
       "model_id": "de526a345af84607ae5f27a33eeb082e",
       "version_major": 2,
       "version_minor": 0
      },
      "text/plain": [
       "Collect episodes:   0%|          | 0/3 [00:00<?, ?it/s]"
      ]
     },
     "metadata": {},
     "output_type": "display_data"
    },
    {
     "data": {
      "application/vnd.jupyter.widget-view+json": {
       "model_id": "6a861d46cf174ebb8883bc85c74af601",
       "version_major": 2,
       "version_minor": 0
      },
      "text/plain": [
       "Collect episodes:   0%|          | 0/3 [00:00<?, ?it/s]"
      ]
     },
     "metadata": {},
     "output_type": "display_data"
    },
    {
     "data": {
      "application/vnd.jupyter.widget-view+json": {
       "model_id": "489695cb7f3847c9b9cf2ee1a37291d6",
       "version_major": 2,
       "version_minor": 0
      },
      "text/plain": [
       "Collect episodes:   0%|          | 0/3 [00:00<?, ?it/s]"
      ]
     },
     "metadata": {},
     "output_type": "display_data"
    },
    {
     "data": {
      "application/vnd.jupyter.widget-view+json": {
       "model_id": "299f70fb425a447190f082a5f73ea02f",
       "version_major": 2,
       "version_minor": 0
      },
      "text/plain": [
       "Collect episodes:   0%|          | 0/3 [00:00<?, ?it/s]"
      ]
     },
     "metadata": {},
     "output_type": "display_data"
    },
    {
     "data": {
      "application/vnd.jupyter.widget-view+json": {
       "model_id": "5fcf178f7c3e4edb8e1be93503c8e1da",
       "version_major": 2,
       "version_minor": 0
      },
      "text/plain": [
       "Collect episodes:   0%|          | 0/3 [00:00<?, ?it/s]"
      ]
     },
     "metadata": {},
     "output_type": "display_data"
    },
    {
     "data": {
      "application/vnd.jupyter.widget-view+json": {
       "model_id": "4c1c2693c3244564a512c4f52c576109",
       "version_major": 2,
       "version_minor": 0
      },
      "text/plain": [
       "Collect episodes:   0%|          | 0/3 [00:00<?, ?it/s]"
      ]
     },
     "metadata": {},
     "output_type": "display_data"
    },
    {
     "data": {
      "application/vnd.jupyter.widget-view+json": {
       "model_id": "fecd4d7440c045d4a40d3fb6791bb850",
       "version_major": 2,
       "version_minor": 0
      },
      "text/plain": [
       "Collect episodes:   0%|          | 0/3 [00:00<?, ?it/s]"
      ]
     },
     "metadata": {},
     "output_type": "display_data"
    },
    {
     "data": {
      "application/vnd.jupyter.widget-view+json": {
       "model_id": "9d3694e49e064cb3a4c296ea705d6184",
       "version_major": 2,
       "version_minor": 0
      },
      "text/plain": [
       "Collect episodes:   0%|          | 0/3 [00:00<?, ?it/s]"
      ]
     },
     "metadata": {},
     "output_type": "display_data"
    },
    {
     "data": {
      "application/vnd.jupyter.widget-view+json": {
       "model_id": "f2f7c739914f44cda21e25eb8c7d8225",
       "version_major": 2,
       "version_minor": 0
      },
      "text/plain": [
       "Collect episodes:   0%|          | 0/3 [00:00<?, ?it/s]"
      ]
     },
     "metadata": {},
     "output_type": "display_data"
    },
    {
     "data": {
      "application/vnd.jupyter.widget-view+json": {
       "model_id": "1fc32204c304426fabb44cc788b87a4f",
       "version_major": 2,
       "version_minor": 0
      },
      "text/plain": [
       "Collect episodes:   0%|          | 0/3 [00:00<?, ?it/s]"
      ]
     },
     "metadata": {},
     "output_type": "display_data"
    },
    {
     "data": {
      "application/vnd.jupyter.widget-view+json": {
       "model_id": "dbe322e9ff204fe3b21ecbe1e2767fd2",
       "version_major": 2,
       "version_minor": 0
      },
      "text/plain": [
       "Collect episodes:   0%|          | 0/3 [00:00<?, ?it/s]"
      ]
     },
     "metadata": {},
     "output_type": "display_data"
    },
    {
     "data": {
      "application/vnd.jupyter.widget-view+json": {
       "model_id": "84ad9ff94c5348fe9b4a97df8392cd3e",
       "version_major": 2,
       "version_minor": 0
      },
      "text/plain": [
       "Collect episodes:   0%|          | 0/3 [00:00<?, ?it/s]"
      ]
     },
     "metadata": {},
     "output_type": "display_data"
    },
    {
     "data": {
      "application/vnd.jupyter.widget-view+json": {
       "model_id": "4dfee292976a49bfa969fbffdfce236c",
       "version_major": 2,
       "version_minor": 0
      },
      "text/plain": [
       "Collect episodes:   0%|          | 0/3 [00:00<?, ?it/s]"
      ]
     },
     "metadata": {},
     "output_type": "display_data"
    },
    {
     "data": {
      "application/vnd.jupyter.widget-view+json": {
       "model_id": "1f2c432c47e54b74a1aeca99fe688263",
       "version_major": 2,
       "version_minor": 0
      },
      "text/plain": [
       "Collect episodes:   0%|          | 0/3 [00:00<?, ?it/s]"
      ]
     },
     "metadata": {},
     "output_type": "display_data"
    },
    {
     "data": {
      "application/vnd.jupyter.widget-view+json": {
       "model_id": "6ae5ca671425491e971b0e528a82e621",
       "version_major": 2,
       "version_minor": 0
      },
      "text/plain": [
       "Collect episodes:   0%|          | 0/3 [00:00<?, ?it/s]"
      ]
     },
     "metadata": {},
     "output_type": "display_data"
    },
    {
     "data": {
      "application/vnd.jupyter.widget-view+json": {
       "model_id": "9620b861009249ea8f32801e307ecb07",
       "version_major": 2,
       "version_minor": 0
      },
      "text/plain": [
       "Collect episodes:   0%|          | 0/3 [00:00<?, ?it/s]"
      ]
     },
     "metadata": {},
     "output_type": "display_data"
    },
    {
     "data": {
      "application/vnd.jupyter.widget-view+json": {
       "model_id": "b6d30296690f46f0988111acf82bd9b1",
       "version_major": 2,
       "version_minor": 0
      },
      "text/plain": [
       "Collect episodes:   0%|          | 0/3 [00:00<?, ?it/s]"
      ]
     },
     "metadata": {},
     "output_type": "display_data"
    },
    {
     "data": {
      "application/vnd.jupyter.widget-view+json": {
       "model_id": "895e03e04c4a4e9b8dc8eb3663639d05",
       "version_major": 2,
       "version_minor": 0
      },
      "text/plain": [
       "Collect episodes:   0%|          | 0/3 [00:00<?, ?it/s]"
      ]
     },
     "metadata": {},
     "output_type": "display_data"
    },
    {
     "data": {
      "application/vnd.jupyter.widget-view+json": {
       "model_id": "f89f406f4a8144c2a6988bad3cb8f8e1",
       "version_major": 2,
       "version_minor": 0
      },
      "text/plain": [
       "Collect episodes:   0%|          | 0/3 [00:00<?, ?it/s]"
      ]
     },
     "metadata": {},
     "output_type": "display_data"
    },
    {
     "name": "stdout",
     "output_type": "stream",
     "text": [
      "[I 2025-02-25 12:52:33,302] Trial 6 finished with value: -1111.838161590745 and parameters: {'learning_rate': 4.216434487133055e-05, 'n_steps': 558, 'batch_size': 88, 'gamma': 0.9314515310549413, 'gae_lambda': 0.9722758806015634, 'ent_coef': 0.019206341253203866, 'vf_coef': 0.6328293085991877, 'clip_range': 0.19097023946789943, 'max_grad_norm': 0.7241013016372778}. Best is trial 6 with value: -1111.838161590745.\n"
     ]
    },
    {
     "data": {
      "application/vnd.jupyter.widget-view+json": {
       "model_id": "9418d853eab04945b01c166149c896c7",
       "version_major": 2,
       "version_minor": 0
      },
      "text/plain": [
       "Collect episodes:   0%|          | 0/3 [00:00<?, ?it/s]"
      ]
     },
     "metadata": {},
     "output_type": "display_data"
    },
    {
     "data": {
      "application/vnd.jupyter.widget-view+json": {
       "model_id": "150b45303b334c10a204353f4a1f33db",
       "version_major": 2,
       "version_minor": 0
      },
      "text/plain": [
       "Collect episodes:   0%|          | 0/3 [00:00<?, ?it/s]"
      ]
     },
     "metadata": {},
     "output_type": "display_data"
    },
    {
     "data": {
      "application/vnd.jupyter.widget-view+json": {
       "model_id": "54578c5863104a2f8a2e23fb1637b32b",
       "version_major": 2,
       "version_minor": 0
      },
      "text/plain": [
       "Collect episodes:   0%|          | 0/3 [00:00<?, ?it/s]"
      ]
     },
     "metadata": {},
     "output_type": "display_data"
    },
    {
     "data": {
      "application/vnd.jupyter.widget-view+json": {
       "model_id": "77b945c223ff4ca6b87d87fa6d4835f9",
       "version_major": 2,
       "version_minor": 0
      },
      "text/plain": [
       "Collect episodes:   0%|          | 0/3 [00:00<?, ?it/s]"
      ]
     },
     "metadata": {},
     "output_type": "display_data"
    },
    {
     "data": {
      "application/vnd.jupyter.widget-view+json": {
       "model_id": "dd9507e28e574d2cbfe478776575ba1c",
       "version_major": 2,
       "version_minor": 0
      },
      "text/plain": [
       "Collect episodes:   0%|          | 0/3 [00:00<?, ?it/s]"
      ]
     },
     "metadata": {},
     "output_type": "display_data"
    },
    {
     "data": {
      "application/vnd.jupyter.widget-view+json": {
       "model_id": "d50f7dcba3bc4908b714199ababf5b57",
       "version_major": 2,
       "version_minor": 0
      },
      "text/plain": [
       "Collect episodes:   0%|          | 0/3 [00:00<?, ?it/s]"
      ]
     },
     "metadata": {},
     "output_type": "display_data"
    },
    {
     "data": {
      "application/vnd.jupyter.widget-view+json": {
       "model_id": "b1adbcf463d94a7e8290b8d901b0b46c",
       "version_major": 2,
       "version_minor": 0
      },
      "text/plain": [
       "Collect episodes:   0%|          | 0/3 [00:00<?, ?it/s]"
      ]
     },
     "metadata": {},
     "output_type": "display_data"
    },
    {
     "data": {
      "application/vnd.jupyter.widget-view+json": {
       "model_id": "51225ba685fe4be6b3ba616b8928ca1f",
       "version_major": 2,
       "version_minor": 0
      },
      "text/plain": [
       "Collect episodes:   0%|          | 0/3 [00:00<?, ?it/s]"
      ]
     },
     "metadata": {},
     "output_type": "display_data"
    },
    {
     "data": {
      "application/vnd.jupyter.widget-view+json": {
       "model_id": "dad39e77315f43aeaef25b027899a079",
       "version_major": 2,
       "version_minor": 0
      },
      "text/plain": [
       "Collect episodes:   0%|          | 0/3 [00:00<?, ?it/s]"
      ]
     },
     "metadata": {},
     "output_type": "display_data"
    },
    {
     "data": {
      "application/vnd.jupyter.widget-view+json": {
       "model_id": "4a9b6fb2a36a4a75878a24697331df21",
       "version_major": 2,
       "version_minor": 0
      },
      "text/plain": [
       "Collect episodes:   0%|          | 0/3 [00:00<?, ?it/s]"
      ]
     },
     "metadata": {},
     "output_type": "display_data"
    },
    {
     "data": {
      "application/vnd.jupyter.widget-view+json": {
       "model_id": "72928283b3e24dfca63aa60c8de8f2af",
       "version_major": 2,
       "version_minor": 0
      },
      "text/plain": [
       "Collect episodes:   0%|          | 0/3 [00:00<?, ?it/s]"
      ]
     },
     "metadata": {},
     "output_type": "display_data"
    },
    {
     "data": {
      "application/vnd.jupyter.widget-view+json": {
       "model_id": "b86b283b28124c5ca8245a7a9915fd21",
       "version_major": 2,
       "version_minor": 0
      },
      "text/plain": [
       "Collect episodes:   0%|          | 0/3 [00:00<?, ?it/s]"
      ]
     },
     "metadata": {},
     "output_type": "display_data"
    },
    {
     "name": "stdout",
     "output_type": "stream",
     "text": [
      "[I 2025-02-25 12:54:05,945] Trial 5 finished with value: -1076.7420001980922 and parameters: {'learning_rate': 2.404115796240019e-05, 'n_steps': 834, 'batch_size': 80, 'gamma': 0.9139661876538311, 'gae_lambda': 0.8776957811475, 'ent_coef': 0.007404749837599179, 'vf_coef': 0.4957318995045149, 'clip_range': 0.25375863285614053, 'max_grad_norm': 0.207700126718677}. Best is trial 5 with value: -1076.7420001980922.\n"
     ]
    },
    {
     "data": {
      "application/vnd.jupyter.widget-view+json": {
       "model_id": "a09689d7acd0446ca5f975d6cf510449",
       "version_major": 2,
       "version_minor": 0
      },
      "text/plain": [
       "Collect episodes:   0%|          | 0/3 [00:00<?, ?it/s]"
      ]
     },
     "metadata": {},
     "output_type": "display_data"
    },
    {
     "data": {
      "application/vnd.jupyter.widget-view+json": {
       "model_id": "58b9f6ce8bbc413dbc3a08d8a3e5e3ce",
       "version_major": 2,
       "version_minor": 0
      },
      "text/plain": [
       "Collect episodes:   0%|          | 0/3 [00:00<?, ?it/s]"
      ]
     },
     "metadata": {},
     "output_type": "display_data"
    },
    {
     "data": {
      "application/vnd.jupyter.widget-view+json": {
       "model_id": "fd427319cee74352928388a36342d528",
       "version_major": 2,
       "version_minor": 0
      },
      "text/plain": [
       "Collect episodes:   0%|          | 0/3 [00:00<?, ?it/s]"
      ]
     },
     "metadata": {},
     "output_type": "display_data"
    },
    {
     "data": {
      "application/vnd.jupyter.widget-view+json": {
       "model_id": "b9d0c13a9f1449e394eb395fa7c637eb",
       "version_major": 2,
       "version_minor": 0
      },
      "text/plain": [
       "Collect episodes:   0%|          | 0/3 [00:00<?, ?it/s]"
      ]
     },
     "metadata": {},
     "output_type": "display_data"
    },
    {
     "data": {
      "application/vnd.jupyter.widget-view+json": {
       "model_id": "b83f6c0b40fb4fa3a97414c469933a6a",
       "version_major": 2,
       "version_minor": 0
      },
      "text/plain": [
       "Collect episodes:   0%|          | 0/3 [00:00<?, ?it/s]"
      ]
     },
     "metadata": {},
     "output_type": "display_data"
    },
    {
     "data": {
      "application/vnd.jupyter.widget-view+json": {
       "model_id": "4ffe7d5a86fb470bb8ef1916e61d937e",
       "version_major": 2,
       "version_minor": 0
      },
      "text/plain": [
       "Collect episodes:   0%|          | 0/3 [00:00<?, ?it/s]"
      ]
     },
     "metadata": {},
     "output_type": "display_data"
    },
    {
     "data": {
      "application/vnd.jupyter.widget-view+json": {
       "model_id": "225795adb5244dd2b0119e9b556fd152",
       "version_major": 2,
       "version_minor": 0
      },
      "text/plain": [
       "Collect episodes:   0%|          | 0/3 [00:00<?, ?it/s]"
      ]
     },
     "metadata": {},
     "output_type": "display_data"
    },
    {
     "data": {
      "application/vnd.jupyter.widget-view+json": {
       "model_id": "f02a81ba6fd84f1ba0e6e8994ae4702c",
       "version_major": 2,
       "version_minor": 0
      },
      "text/plain": [
       "Collect episodes:   0%|          | 0/3 [00:00<?, ?it/s]"
      ]
     },
     "metadata": {},
     "output_type": "display_data"
    },
    {
     "data": {
      "application/vnd.jupyter.widget-view+json": {
       "model_id": "50e0c31a7427432f903ab4ff872db4b7",
       "version_major": 2,
       "version_minor": 0
      },
      "text/plain": [
       "Collect episodes:   0%|          | 0/3 [00:00<?, ?it/s]"
      ]
     },
     "metadata": {},
     "output_type": "display_data"
    },
    {
     "data": {
      "application/vnd.jupyter.widget-view+json": {
       "model_id": "ef2967fe4f49450aada36bdf23be5bad",
       "version_major": 2,
       "version_minor": 0
      },
      "text/plain": [
       "Collect episodes:   0%|          | 0/3 [00:00<?, ?it/s]"
      ]
     },
     "metadata": {},
     "output_type": "display_data"
    },
    {
     "data": {
      "application/vnd.jupyter.widget-view+json": {
       "model_id": "ac9f03cbf39a4a0ea4fbf81b8d400874",
       "version_major": 2,
       "version_minor": 0
      },
      "text/plain": [
       "Collect episodes:   0%|          | 0/3 [00:00<?, ?it/s]"
      ]
     },
     "metadata": {},
     "output_type": "display_data"
    },
    {
     "data": {
      "application/vnd.jupyter.widget-view+json": {
       "model_id": "a7ab89c591064588919aef095604e8eb",
       "version_major": 2,
       "version_minor": 0
      },
      "text/plain": [
       "seeds:   0%|          | 0/30 [00:00<?, ?it/s]"
      ]
     },
     "metadata": {},
     "output_type": "display_data"
    },
    {
     "data": {
      "application/vnd.jupyter.widget-view+json": {
       "model_id": "17f9b797aeac48f0b85060e062666015",
       "version_major": 2,
       "version_minor": 0
      },
      "text/plain": [
       "Collect episodes:   0%|          | 0/3 [00:00<?, ?it/s]"
      ]
     },
     "metadata": {},
     "output_type": "display_data"
    },
    {
     "data": {
      "application/vnd.jupyter.widget-view+json": {
       "model_id": "f301d956f05c4406bd86a1509660b54c",
       "version_major": 2,
       "version_minor": 0
      },
      "text/plain": [
       "Collect episodes:   0%|          | 0/3 [00:00<?, ?it/s]"
      ]
     },
     "metadata": {},
     "output_type": "display_data"
    },
    {
     "data": {
      "application/vnd.jupyter.widget-view+json": {
       "model_id": "66e324fec30b41f6be5f733d6bbd2f5f",
       "version_major": 2,
       "version_minor": 0
      },
      "text/plain": [
       "Collect episodes:   0%|          | 0/3 [00:00<?, ?it/s]"
      ]
     },
     "metadata": {},
     "output_type": "display_data"
    },
    {
     "data": {
      "application/vnd.jupyter.widget-view+json": {
       "model_id": "21eae32ca4344a7ebf3ddf0197f50e28",
       "version_major": 2,
       "version_minor": 0
      },
      "text/plain": [
       "Collect episodes:   0%|          | 0/3 [00:00<?, ?it/s]"
      ]
     },
     "metadata": {},
     "output_type": "display_data"
    },
    {
     "data": {
      "application/vnd.jupyter.widget-view+json": {
       "model_id": "bd4abf88f62d47b1adc4194d1d2d8a64",
       "version_major": 2,
       "version_minor": 0
      },
      "text/plain": [
       "Collect episodes:   0%|          | 0/3 [00:00<?, ?it/s]"
      ]
     },
     "metadata": {},
     "output_type": "display_data"
    },
    {
     "data": {
      "application/vnd.jupyter.widget-view+json": {
       "model_id": "6964d74d9160482fbd2830bd6ba2844a",
       "version_major": 2,
       "version_minor": 0
      },
      "text/plain": [
       "Collect episodes:   0%|          | 0/3 [00:00<?, ?it/s]"
      ]
     },
     "metadata": {},
     "output_type": "display_data"
    },
    {
     "data": {
      "application/vnd.jupyter.widget-view+json": {
       "model_id": "4d575167c2a74034b7f91d46826e1aa0",
       "version_major": 2,
       "version_minor": 0
      },
      "text/plain": [
       "Collect episodes:   0%|          | 0/3 [00:00<?, ?it/s]"
      ]
     },
     "metadata": {},
     "output_type": "display_data"
    },
    {
     "data": {
      "application/vnd.jupyter.widget-view+json": {
       "model_id": "509254814c234a3f85896a89fc285b52",
       "version_major": 2,
       "version_minor": 0
      },
      "text/plain": [
       "Collect episodes:   0%|          | 0/3 [00:00<?, ?it/s]"
      ]
     },
     "metadata": {},
     "output_type": "display_data"
    },
    {
     "data": {
      "application/vnd.jupyter.widget-view+json": {
       "model_id": "f5418eb321b044f686c840bb2fb46cc5",
       "version_major": 2,
       "version_minor": 0
      },
      "text/plain": [
       "Collect episodes:   0%|          | 0/3 [00:00<?, ?it/s]"
      ]
     },
     "metadata": {},
     "output_type": "display_data"
    },
    {
     "data": {
      "application/vnd.jupyter.widget-view+json": {
       "model_id": "5f127c6e9d824ba8af4b6c44c4799ea3",
       "version_major": 2,
       "version_minor": 0
      },
      "text/plain": [
       "Collect episodes:   0%|          | 0/3 [00:00<?, ?it/s]"
      ]
     },
     "metadata": {},
     "output_type": "display_data"
    },
    {
     "data": {
      "application/vnd.jupyter.widget-view+json": {
       "model_id": "14d046e138f6498f95cd789b4690767c",
       "version_major": 2,
       "version_minor": 0
      },
      "text/plain": [
       "Collect episodes:   0%|          | 0/3 [00:00<?, ?it/s]"
      ]
     },
     "metadata": {},
     "output_type": "display_data"
    },
    {
     "data": {
      "application/vnd.jupyter.widget-view+json": {
       "model_id": "67d30d76721c46a6aab3f82c392e7b27",
       "version_major": 2,
       "version_minor": 0
      },
      "text/plain": [
       "seeds:   0%|          | 0/30 [00:00<?, ?it/s]"
      ]
     },
     "metadata": {},
     "output_type": "display_data"
    },
    {
     "data": {
      "application/vnd.jupyter.widget-view+json": {
       "model_id": "2df6ed6c7ddb437d9553b49a51c8dcaa",
       "version_major": 2,
       "version_minor": 0
      },
      "text/plain": [
       "Collect episodes:   0%|          | 0/3 [00:00<?, ?it/s]"
      ]
     },
     "metadata": {},
     "output_type": "display_data"
    },
    {
     "data": {
      "application/vnd.jupyter.widget-view+json": {
       "model_id": "d18180a639c34eb1bf4a60e3a927b8c1",
       "version_major": 2,
       "version_minor": 0
      },
      "text/plain": [
       "Collect episodes:   0%|          | 0/3 [00:00<?, ?it/s]"
      ]
     },
     "metadata": {},
     "output_type": "display_data"
    },
    {
     "data": {
      "application/vnd.jupyter.widget-view+json": {
       "model_id": "08bb54a7ad9745e9b27da4a640ec2402",
       "version_major": 2,
       "version_minor": 0
      },
      "text/plain": [
       "Collect episodes:   0%|          | 0/3 [00:00<?, ?it/s]"
      ]
     },
     "metadata": {},
     "output_type": "display_data"
    },
    {
     "data": {
      "application/vnd.jupyter.widget-view+json": {
       "model_id": "4aed2c6348d84038a64eb6d0c80ba3a9",
       "version_major": 2,
       "version_minor": 0
      },
      "text/plain": [
       "Collect episodes:   0%|          | 0/3 [00:00<?, ?it/s]"
      ]
     },
     "metadata": {},
     "output_type": "display_data"
    },
    {
     "data": {
      "application/vnd.jupyter.widget-view+json": {
       "model_id": "bc7e4a4fc32640ddb58a46de79d30feb",
       "version_major": 2,
       "version_minor": 0
      },
      "text/plain": [
       "Collect episodes:   0%|          | 0/3 [00:00<?, ?it/s]"
      ]
     },
     "metadata": {},
     "output_type": "display_data"
    },
    {
     "data": {
      "application/vnd.jupyter.widget-view+json": {
       "model_id": "f5fd276ea6c440a79d10e9e77143885b",
       "version_major": 2,
       "version_minor": 0
      },
      "text/plain": [
       "Collect episodes:   0%|          | 0/3 [00:00<?, ?it/s]"
      ]
     },
     "metadata": {},
     "output_type": "display_data"
    },
    {
     "data": {
      "application/vnd.jupyter.widget-view+json": {
       "model_id": "9da62b8ae39a40c8a0eeaf9f66ff77d0",
       "version_major": 2,
       "version_minor": 0
      },
      "text/plain": [
       "Collect episodes:   0%|          | 0/3 [00:00<?, ?it/s]"
      ]
     },
     "metadata": {},
     "output_type": "display_data"
    },
    {
     "data": {
      "application/vnd.jupyter.widget-view+json": {
       "model_id": "5ccd2b4bb7384327bc3df95d9250136e",
       "version_major": 2,
       "version_minor": 0
      },
      "text/plain": [
       "Collect episodes:   0%|          | 0/3 [00:00<?, ?it/s]"
      ]
     },
     "metadata": {},
     "output_type": "display_data"
    },
    {
     "data": {
      "application/vnd.jupyter.widget-view+json": {
       "model_id": "ca21612e254d4a77953a3f7ab21774c0",
       "version_major": 2,
       "version_minor": 0
      },
      "text/plain": [
       "Collect episodes:   0%|          | 0/3 [00:00<?, ?it/s]"
      ]
     },
     "metadata": {},
     "output_type": "display_data"
    },
    {
     "data": {
      "application/vnd.jupyter.widget-view+json": {
       "model_id": "8a2ef078368d44c9aa41631f97af8bcb",
       "version_major": 2,
       "version_minor": 0
      },
      "text/plain": [
       "Collect episodes:   0%|          | 0/3 [00:00<?, ?it/s]"
      ]
     },
     "metadata": {},
     "output_type": "display_data"
    },
    {
     "data": {
      "application/vnd.jupyter.widget-view+json": {
       "model_id": "c88b42a1ceb34187bf35b95b27fac092",
       "version_major": 2,
       "version_minor": 0
      },
      "text/plain": [
       "Collect episodes:   0%|          | 0/3 [00:00<?, ?it/s]"
      ]
     },
     "metadata": {},
     "output_type": "display_data"
    },
    {
     "data": {
      "application/vnd.jupyter.widget-view+json": {
       "model_id": "53b3b7975f5b4eae99ece9d7ef470be6",
       "version_major": 2,
       "version_minor": 0
      },
      "text/plain": [
       "Collect episodes:   0%|          | 0/3 [00:00<?, ?it/s]"
      ]
     },
     "metadata": {},
     "output_type": "display_data"
    },
    {
     "data": {
      "application/vnd.jupyter.widget-view+json": {
       "model_id": "22ba0526111544a1ba35a9846586eb16",
       "version_major": 2,
       "version_minor": 0
      },
      "text/plain": [
       "Collect episodes:   0%|          | 0/3 [00:00<?, ?it/s]"
      ]
     },
     "metadata": {},
     "output_type": "display_data"
    },
    {
     "data": {
      "application/vnd.jupyter.widget-view+json": {
       "model_id": "74d454a24e714f51bebf50735d565098",
       "version_major": 2,
       "version_minor": 0
      },
      "text/plain": [
       "Collect episodes:   0%|          | 0/3 [00:00<?, ?it/s]"
      ]
     },
     "metadata": {},
     "output_type": "display_data"
    },
    {
     "data": {
      "application/vnd.jupyter.widget-view+json": {
       "model_id": "476f6c9f42254628b95e9eac4f36419b",
       "version_major": 2,
       "version_minor": 0
      },
      "text/plain": [
       "Collect episodes:   0%|          | 0/3 [00:00<?, ?it/s]"
      ]
     },
     "metadata": {},
     "output_type": "display_data"
    },
    {
     "data": {
      "application/vnd.jupyter.widget-view+json": {
       "model_id": "3bf98c7bb15d41e5b5a04c09ce811437",
       "version_major": 2,
       "version_minor": 0
      },
      "text/plain": [
       "Collect episodes:   0%|          | 0/3 [00:00<?, ?it/s]"
      ]
     },
     "metadata": {},
     "output_type": "display_data"
    },
    {
     "data": {
      "application/vnd.jupyter.widget-view+json": {
       "model_id": "1351c395d703424b9de145e0c03a14d3",
       "version_major": 2,
       "version_minor": 0
      },
      "text/plain": [
       "Collect episodes:   0%|          | 0/3 [00:00<?, ?it/s]"
      ]
     },
     "metadata": {},
     "output_type": "display_data"
    },
    {
     "data": {
      "application/vnd.jupyter.widget-view+json": {
       "model_id": "25272ffaf0c34e2fab67c5be4315ea97",
       "version_major": 2,
       "version_minor": 0
      },
      "text/plain": [
       "Collect episodes:   0%|          | 0/3 [00:00<?, ?it/s]"
      ]
     },
     "metadata": {},
     "output_type": "display_data"
    },
    {
     "name": "stdout",
     "output_type": "stream",
     "text": [
      "[I 2025-02-25 12:58:47,976] Trial 3 finished with value: -896.6917305231227 and parameters: {'learning_rate': 0.00012221158737106634, 'n_steps': 715, 'batch_size': 78, 'gamma': 0.9478286685170438, 'gae_lambda': 0.9617971780239106, 'ent_coef': 0.013724239519701626, 'vf_coef': 0.6994882453071006, 'clip_range': 0.22677020332287795, 'max_grad_norm': 0.9895480134866416}. Best is trial 3 with value: -896.6917305231227.\n",
      "[I 2025-02-25 12:58:52,028] Trial 2 finished with value: -865.0008481581021 and parameters: {'learning_rate': 5.133676441334798e-05, 'n_steps': 89, 'batch_size': 109, 'gamma': 0.9045368648800091, 'gae_lambda': 0.8650784066479856, 'ent_coef': 0.014126543187027843, 'vf_coef': 0.888006276779061, 'clip_range': 0.1348818286388682, 'max_grad_norm': 0.3983007739518821}. Best is trial 2 with value: -865.0008481581021.\n"
     ]
    },
    {
     "data": {
      "application/vnd.jupyter.widget-view+json": {
       "model_id": "bd638af65d69414db372be91123fd08f",
       "version_major": 2,
       "version_minor": 0
      },
      "text/plain": [
       "Collect episodes:   0%|          | 0/3 [00:00<?, ?it/s]"
      ]
     },
     "metadata": {},
     "output_type": "display_data"
    },
    {
     "data": {
      "application/vnd.jupyter.widget-view+json": {
       "model_id": "09b127e85e1e48fcb2540cf3f8d519a6",
       "version_major": 2,
       "version_minor": 0
      },
      "text/plain": [
       "Collect episodes:   0%|          | 0/3 [00:00<?, ?it/s]"
      ]
     },
     "metadata": {},
     "output_type": "display_data"
    },
    {
     "data": {
      "application/vnd.jupyter.widget-view+json": {
       "model_id": "8fa06ec5c6bb453fbe9e4057bffcc147",
       "version_major": 2,
       "version_minor": 0
      },
      "text/plain": [
       "Collect episodes:   0%|          | 0/3 [00:00<?, ?it/s]"
      ]
     },
     "metadata": {},
     "output_type": "display_data"
    },
    {
     "data": {
      "application/vnd.jupyter.widget-view+json": {
       "model_id": "1d48ad2920d7435c8a5cd7d79abdce4f",
       "version_major": 2,
       "version_minor": 0
      },
      "text/plain": [
       "Collect episodes:   0%|          | 0/3 [00:00<?, ?it/s]"
      ]
     },
     "metadata": {},
     "output_type": "display_data"
    },
    {
     "data": {
      "application/vnd.jupyter.widget-view+json": {
       "model_id": "479e68052c3d4dd4b3cccb1bdf90bd9d",
       "version_major": 2,
       "version_minor": 0
      },
      "text/plain": [
       "Collect episodes:   0%|          | 0/3 [00:00<?, ?it/s]"
      ]
     },
     "metadata": {},
     "output_type": "display_data"
    },
    {
     "data": {
      "application/vnd.jupyter.widget-view+json": {
       "model_id": "370e72867a4944feb31ff58e7d24b19d",
       "version_major": 2,
       "version_minor": 0
      },
      "text/plain": [
       "Collect episodes:   0%|          | 0/3 [00:00<?, ?it/s]"
      ]
     },
     "metadata": {},
     "output_type": "display_data"
    },
    {
     "data": {
      "application/vnd.jupyter.widget-view+json": {
       "model_id": "8d5f8f681b9e43d1a40c7a1a51e73bd4",
       "version_major": 2,
       "version_minor": 0
      },
      "text/plain": [
       "Collect episodes:   0%|          | 0/3 [00:00<?, ?it/s]"
      ]
     },
     "metadata": {},
     "output_type": "display_data"
    },
    {
     "data": {
      "application/vnd.jupyter.widget-view+json": {
       "model_id": "0ec4551b171042c2b45bb5c2e5139a06",
       "version_major": 2,
       "version_minor": 0
      },
      "text/plain": [
       "Collect episodes:   0%|          | 0/3 [00:00<?, ?it/s]"
      ]
     },
     "metadata": {},
     "output_type": "display_data"
    },
    {
     "data": {
      "application/vnd.jupyter.widget-view+json": {
       "model_id": "8f3c8f7c0a274b0fb9b0791f15cb9179",
       "version_major": 2,
       "version_minor": 0
      },
      "text/plain": [
       "Collect episodes:   0%|          | 0/3 [00:00<?, ?it/s]"
      ]
     },
     "metadata": {},
     "output_type": "display_data"
    },
    {
     "data": {
      "application/vnd.jupyter.widget-view+json": {
       "model_id": "7748e67d038949a18383cbfa3dbcbba3",
       "version_major": 2,
       "version_minor": 0
      },
      "text/plain": [
       "Collect episodes:   0%|          | 0/3 [00:00<?, ?it/s]"
      ]
     },
     "metadata": {},
     "output_type": "display_data"
    },
    {
     "data": {
      "application/vnd.jupyter.widget-view+json": {
       "model_id": "fe1c340800a84d7b9a0ebad525cb4c26",
       "version_major": 2,
       "version_minor": 0
      },
      "text/plain": [
       "Collect episodes:   0%|          | 0/3 [00:00<?, ?it/s]"
      ]
     },
     "metadata": {},
     "output_type": "display_data"
    },
    {
     "data": {
      "application/vnd.jupyter.widget-view+json": {
       "model_id": "8d0dc65adfbe4bde8ac80e1870c91db2",
       "version_major": 2,
       "version_minor": 0
      },
      "text/plain": [
       "Collect episodes:   0%|          | 0/3 [00:00<?, ?it/s]"
      ]
     },
     "metadata": {},
     "output_type": "display_data"
    },
    {
     "data": {
      "application/vnd.jupyter.widget-view+json": {
       "model_id": "1b624874e8b24fcf8fe2064820dd7793",
       "version_major": 2,
       "version_minor": 0
      },
      "text/plain": [
       "Collect episodes:   0%|          | 0/3 [00:00<?, ?it/s]"
      ]
     },
     "metadata": {},
     "output_type": "display_data"
    },
    {
     "data": {
      "application/vnd.jupyter.widget-view+json": {
       "model_id": "1e44ec6b1dbf4300aee2c1effeab3265",
       "version_major": 2,
       "version_minor": 0
      },
      "text/plain": [
       "Collect episodes:   0%|          | 0/3 [00:00<?, ?it/s]"
      ]
     },
     "metadata": {},
     "output_type": "display_data"
    },
    {
     "data": {
      "application/vnd.jupyter.widget-view+json": {
       "model_id": "9d48bfa1296743d498cad5b4c24b327e",
       "version_major": 2,
       "version_minor": 0
      },
      "text/plain": [
       "Collect episodes:   0%|          | 0/3 [00:00<?, ?it/s]"
      ]
     },
     "metadata": {},
     "output_type": "display_data"
    },
    {
     "data": {
      "application/vnd.jupyter.widget-view+json": {
       "model_id": "6594fa935217479ea92fdf6f77be1bbf",
       "version_major": 2,
       "version_minor": 0
      },
      "text/plain": [
       "Collect episodes:   0%|          | 0/3 [00:00<?, ?it/s]"
      ]
     },
     "metadata": {},
     "output_type": "display_data"
    },
    {
     "data": {
      "application/vnd.jupyter.widget-view+json": {
       "model_id": "6ae6feef8d6b48569afef8282d89aaa4",
       "version_major": 2,
       "version_minor": 0
      },
      "text/plain": [
       "Collect episodes:   0%|          | 0/3 [00:00<?, ?it/s]"
      ]
     },
     "metadata": {},
     "output_type": "display_data"
    },
    {
     "data": {
      "application/vnd.jupyter.widget-view+json": {
       "model_id": "1beceb4afdec4247925e1cbf71f31331",
       "version_major": 2,
       "version_minor": 0
      },
      "text/plain": [
       "Collect episodes:   0%|          | 0/3 [00:00<?, ?it/s]"
      ]
     },
     "metadata": {},
     "output_type": "display_data"
    },
    {
     "data": {
      "application/vnd.jupyter.widget-view+json": {
       "model_id": "91af6bdf7d184253bd5217eaaeca11e0",
       "version_major": 2,
       "version_minor": 0
      },
      "text/plain": [
       "Collect episodes:   0%|          | 0/3 [00:00<?, ?it/s]"
      ]
     },
     "metadata": {},
     "output_type": "display_data"
    },
    {
     "data": {
      "application/vnd.jupyter.widget-view+json": {
       "model_id": "2382ba9a285f4ff29cccd98e1dbff314",
       "version_major": 2,
       "version_minor": 0
      },
      "text/plain": [
       "Collect episodes:   0%|          | 0/3 [00:00<?, ?it/s]"
      ]
     },
     "metadata": {},
     "output_type": "display_data"
    },
    {
     "data": {
      "application/vnd.jupyter.widget-view+json": {
       "model_id": "87608390a4834301825de6514df0274c",
       "version_major": 2,
       "version_minor": 0
      },
      "text/plain": [
       "Collect episodes:   0%|          | 0/3 [00:00<?, ?it/s]"
      ]
     },
     "metadata": {},
     "output_type": "display_data"
    },
    {
     "data": {
      "application/vnd.jupyter.widget-view+json": {
       "model_id": "b49289a9411748c4ba5a7f0db10745ed",
       "version_major": 2,
       "version_minor": 0
      },
      "text/plain": [
       "Collect episodes:   0%|          | 0/3 [00:00<?, ?it/s]"
      ]
     },
     "metadata": {},
     "output_type": "display_data"
    },
    {
     "data": {
      "application/vnd.jupyter.widget-view+json": {
       "model_id": "face825368004b719aff95294d65320a",
       "version_major": 2,
       "version_minor": 0
      },
      "text/plain": [
       "Collect episodes:   0%|          | 0/3 [00:00<?, ?it/s]"
      ]
     },
     "metadata": {},
     "output_type": "display_data"
    },
    {
     "data": {
      "application/vnd.jupyter.widget-view+json": {
       "model_id": "03668be14c424fe4b542cb0597320e43",
       "version_major": 2,
       "version_minor": 0
      },
      "text/plain": [
       "Collect episodes:   0%|          | 0/3 [00:00<?, ?it/s]"
      ]
     },
     "metadata": {},
     "output_type": "display_data"
    },
    {
     "data": {
      "application/vnd.jupyter.widget-view+json": {
       "model_id": "b65fa70afe2e476a8c1eb07a4c82096f",
       "version_major": 2,
       "version_minor": 0
      },
      "text/plain": [
       "Collect episodes:   0%|          | 0/3 [00:00<?, ?it/s]"
      ]
     },
     "metadata": {},
     "output_type": "display_data"
    },
    {
     "data": {
      "application/vnd.jupyter.widget-view+json": {
       "model_id": "657c1a1d45894be78749193043ed78f5",
       "version_major": 2,
       "version_minor": 0
      },
      "text/plain": [
       "Collect episodes:   0%|          | 0/3 [00:00<?, ?it/s]"
      ]
     },
     "metadata": {},
     "output_type": "display_data"
    },
    {
     "data": {
      "application/vnd.jupyter.widget-view+json": {
       "model_id": "e3c6498d06d54d7abdb4c781e3131e43",
       "version_major": 2,
       "version_minor": 0
      },
      "text/plain": [
       "Collect episodes:   0%|          | 0/3 [00:00<?, ?it/s]"
      ]
     },
     "metadata": {},
     "output_type": "display_data"
    },
    {
     "data": {
      "application/vnd.jupyter.widget-view+json": {
       "model_id": "bc6eff85f3654767928cd421a3b7868e",
       "version_major": 2,
       "version_minor": 0
      },
      "text/plain": [
       "Collect episodes:   0%|          | 0/3 [00:00<?, ?it/s]"
      ]
     },
     "metadata": {},
     "output_type": "display_data"
    },
    {
     "data": {
      "application/vnd.jupyter.widget-view+json": {
       "model_id": "eec807e7623445dda2ac8d80981c128b",
       "version_major": 2,
       "version_minor": 0
      },
      "text/plain": [
       "Collect episodes:   0%|          | 0/3 [00:00<?, ?it/s]"
      ]
     },
     "metadata": {},
     "output_type": "display_data"
    },
    {
     "data": {
      "application/vnd.jupyter.widget-view+json": {
       "model_id": "650b7c69331944a6b088135f5d8f83af",
       "version_major": 2,
       "version_minor": 0
      },
      "text/plain": [
       "Collect episodes:   0%|          | 0/3 [00:00<?, ?it/s]"
      ]
     },
     "metadata": {},
     "output_type": "display_data"
    },
    {
     "data": {
      "application/vnd.jupyter.widget-view+json": {
       "model_id": "d5c61f775d0e40bb8594c01ec856f3f7",
       "version_major": 2,
       "version_minor": 0
      },
      "text/plain": [
       "Collect episodes:   0%|          | 0/3 [00:00<?, ?it/s]"
      ]
     },
     "metadata": {},
     "output_type": "display_data"
    },
    {
     "data": {
      "application/vnd.jupyter.widget-view+json": {
       "model_id": "69a13c82e75646899a69f385f026653b",
       "version_major": 2,
       "version_minor": 0
      },
      "text/plain": [
       "Collect episodes:   0%|          | 0/3 [00:00<?, ?it/s]"
      ]
     },
     "metadata": {},
     "output_type": "display_data"
    },
    {
     "data": {
      "application/vnd.jupyter.widget-view+json": {
       "model_id": "44c1c6d1c89049f1b1280cd25ab35c25",
       "version_major": 2,
       "version_minor": 0
      },
      "text/plain": [
       "Collect episodes:   0%|          | 0/3 [00:00<?, ?it/s]"
      ]
     },
     "metadata": {},
     "output_type": "display_data"
    },
    {
     "data": {
      "application/vnd.jupyter.widget-view+json": {
       "model_id": "9557b766ec954e71b28907fa6417cb30",
       "version_major": 2,
       "version_minor": 0
      },
      "text/plain": [
       "Collect episodes:   0%|          | 0/3 [00:00<?, ?it/s]"
      ]
     },
     "metadata": {},
     "output_type": "display_data"
    },
    {
     "data": {
      "application/vnd.jupyter.widget-view+json": {
       "model_id": "190f422850b34d008f65eb5f4f036928",
       "version_major": 2,
       "version_minor": 0
      },
      "text/plain": [
       "Collect episodes:   0%|          | 0/3 [00:00<?, ?it/s]"
      ]
     },
     "metadata": {},
     "output_type": "display_data"
    },
    {
     "data": {
      "application/vnd.jupyter.widget-view+json": {
       "model_id": "5ea619c27887490aa450e827b64f1842",
       "version_major": 2,
       "version_minor": 0
      },
      "text/plain": [
       "Collect episodes:   0%|          | 0/3 [00:00<?, ?it/s]"
      ]
     },
     "metadata": {},
     "output_type": "display_data"
    },
    {
     "data": {
      "application/vnd.jupyter.widget-view+json": {
       "model_id": "3d03717344924ae5aa1d745fbe4fc418",
       "version_major": 2,
       "version_minor": 0
      },
      "text/plain": [
       "Collect episodes:   0%|          | 0/3 [00:00<?, ?it/s]"
      ]
     },
     "metadata": {},
     "output_type": "display_data"
    },
    {
     "data": {
      "application/vnd.jupyter.widget-view+json": {
       "model_id": "5baa649cd5e34d60abcf112ff9a6a740",
       "version_major": 2,
       "version_minor": 0
      },
      "text/plain": [
       "Collect episodes:   0%|          | 0/3 [00:00<?, ?it/s]"
      ]
     },
     "metadata": {},
     "output_type": "display_data"
    },
    {
     "data": {
      "application/vnd.jupyter.widget-view+json": {
       "model_id": "96512613805c48759b4127eaf5004e12",
       "version_major": 2,
       "version_minor": 0
      },
      "text/plain": [
       "Collect episodes:   0%|          | 0/3 [00:00<?, ?it/s]"
      ]
     },
     "metadata": {},
     "output_type": "display_data"
    },
    {
     "data": {
      "application/vnd.jupyter.widget-view+json": {
       "model_id": "3004c370b25c4db58a275deda1ff6d8e",
       "version_major": 2,
       "version_minor": 0
      },
      "text/plain": [
       "Collect episodes:   0%|          | 0/3 [00:00<?, ?it/s]"
      ]
     },
     "metadata": {},
     "output_type": "display_data"
    },
    {
     "data": {
      "application/vnd.jupyter.widget-view+json": {
       "model_id": "94986a989db941578bebb57b5fa05418",
       "version_major": 2,
       "version_minor": 0
      },
      "text/plain": [
       "Collect episodes:   0%|          | 0/3 [00:00<?, ?it/s]"
      ]
     },
     "metadata": {},
     "output_type": "display_data"
    },
    {
     "data": {
      "application/vnd.jupyter.widget-view+json": {
       "model_id": "2a91be33d78b407da4f2a7d202ad3166",
       "version_major": 2,
       "version_minor": 0
      },
      "text/plain": [
       "Collect episodes:   0%|          | 0/3 [00:00<?, ?it/s]"
      ]
     },
     "metadata": {},
     "output_type": "display_data"
    },
    {
     "data": {
      "application/vnd.jupyter.widget-view+json": {
       "model_id": "77e6d9df475a4d8fbe5beae49a3eb63e",
       "version_major": 2,
       "version_minor": 0
      },
      "text/plain": [
       "Collect episodes:   0%|          | 0/3 [00:00<?, ?it/s]"
      ]
     },
     "metadata": {},
     "output_type": "display_data"
    },
    {
     "data": {
      "application/vnd.jupyter.widget-view+json": {
       "model_id": "e8a6d16ce5ae4431925aeb0e10e495a4",
       "version_major": 2,
       "version_minor": 0
      },
      "text/plain": [
       "Collect episodes:   0%|          | 0/3 [00:00<?, ?it/s]"
      ]
     },
     "metadata": {},
     "output_type": "display_data"
    },
    {
     "data": {
      "application/vnd.jupyter.widget-view+json": {
       "model_id": "6884a8324f5349a9834d4835facd51c7",
       "version_major": 2,
       "version_minor": 0
      },
      "text/plain": [
       "Collect episodes:   0%|          | 0/3 [00:00<?, ?it/s]"
      ]
     },
     "metadata": {},
     "output_type": "display_data"
    },
    {
     "data": {
      "application/vnd.jupyter.widget-view+json": {
       "model_id": "969e8c3cce2c4a08beeec858ca063f10",
       "version_major": 2,
       "version_minor": 0
      },
      "text/plain": [
       "Collect episodes:   0%|          | 0/3 [00:00<?, ?it/s]"
      ]
     },
     "metadata": {},
     "output_type": "display_data"
    },
    {
     "data": {
      "application/vnd.jupyter.widget-view+json": {
       "model_id": "719f82a7ddb64020a2870d01e45dd83a",
       "version_major": 2,
       "version_minor": 0
      },
      "text/plain": [
       "Collect episodes:   0%|          | 0/3 [00:00<?, ?it/s]"
      ]
     },
     "metadata": {},
     "output_type": "display_data"
    },
    {
     "data": {
      "application/vnd.jupyter.widget-view+json": {
       "model_id": "e1a1d6da936845b5ac875c65fa7093a8",
       "version_major": 2,
       "version_minor": 0
      },
      "text/plain": [
       "Collect episodes:   0%|          | 0/3 [00:00<?, ?it/s]"
      ]
     },
     "metadata": {},
     "output_type": "display_data"
    },
    {
     "data": {
      "application/vnd.jupyter.widget-view+json": {
       "model_id": "9e5b11681839494d89aa654b7b029c63",
       "version_major": 2,
       "version_minor": 0
      },
      "text/plain": [
       "Collect episodes:   0%|          | 0/3 [00:00<?, ?it/s]"
      ]
     },
     "metadata": {},
     "output_type": "display_data"
    },
    {
     "data": {
      "application/vnd.jupyter.widget-view+json": {
       "model_id": "8d4034894ab049d9a5a2dbdec6bd2e6b",
       "version_major": 2,
       "version_minor": 0
      },
      "text/plain": [
       "Collect episodes:   0%|          | 0/3 [00:00<?, ?it/s]"
      ]
     },
     "metadata": {},
     "output_type": "display_data"
    },
    {
     "data": {
      "application/vnd.jupyter.widget-view+json": {
       "model_id": "f3dbaaa83b764f96bbad9d7f446e0080",
       "version_major": 2,
       "version_minor": 0
      },
      "text/plain": [
       "Collect episodes:   0%|          | 0/3 [00:00<?, ?it/s]"
      ]
     },
     "metadata": {},
     "output_type": "display_data"
    },
    {
     "data": {
      "application/vnd.jupyter.widget-view+json": {
       "model_id": "b4e7d07cdbc84a29b98e755f66ffe8e2",
       "version_major": 2,
       "version_minor": 0
      },
      "text/plain": [
       "Collect episodes:   0%|          | 0/3 [00:00<?, ?it/s]"
      ]
     },
     "metadata": {},
     "output_type": "display_data"
    },
    {
     "data": {
      "application/vnd.jupyter.widget-view+json": {
       "model_id": "42fe6ade9e9f4752aa030867244c8829",
       "version_major": 2,
       "version_minor": 0
      },
      "text/plain": [
       "Collect episodes:   0%|          | 0/3 [00:00<?, ?it/s]"
      ]
     },
     "metadata": {},
     "output_type": "display_data"
    },
    {
     "data": {
      "application/vnd.jupyter.widget-view+json": {
       "model_id": "8654a5fca43446ad8e4e2f2874e21190",
       "version_major": 2,
       "version_minor": 0
      },
      "text/plain": [
       "Collect episodes:   0%|          | 0/3 [00:00<?, ?it/s]"
      ]
     },
     "metadata": {},
     "output_type": "display_data"
    },
    {
     "data": {
      "application/vnd.jupyter.widget-view+json": {
       "model_id": "fee79c150d2047698584f9669500672c",
       "version_major": 2,
       "version_minor": 0
      },
      "text/plain": [
       "Collect episodes:   0%|          | 0/3 [00:00<?, ?it/s]"
      ]
     },
     "metadata": {},
     "output_type": "display_data"
    },
    {
     "name": "stdout",
     "output_type": "stream",
     "text": [
      "[I 2025-02-25 13:04:29,656] Trial 7 finished with value: -545.5181878422944 and parameters: {'learning_rate': 0.00014115388380201517, 'n_steps': 65, 'batch_size': 193, 'gamma': 0.9337988932454525, 'gae_lambda': 0.845236590702226, 'ent_coef': 0.016435940113877386, 'vf_coef': 0.6260372545630986, 'clip_range': 0.23558248052570355, 'max_grad_norm': 0.856221821497002}. Best is trial 7 with value: -545.5181878422944.\n"
     ]
    },
    {
     "data": {
      "application/vnd.jupyter.widget-view+json": {
       "model_id": "640548e2502b46b7b6f44e2ae7d88383",
       "version_major": 2,
       "version_minor": 0
      },
      "text/plain": [
       "Collect episodes:   0%|          | 0/3 [00:00<?, ?it/s]"
      ]
     },
     "metadata": {},
     "output_type": "display_data"
    },
    {
     "data": {
      "application/vnd.jupyter.widget-view+json": {
       "model_id": "51afa37e55a548c79b728e085131d744",
       "version_major": 2,
       "version_minor": 0
      },
      "text/plain": [
       "Collect episodes:   0%|          | 0/3 [00:00<?, ?it/s]"
      ]
     },
     "metadata": {},
     "output_type": "display_data"
    },
    {
     "data": {
      "application/vnd.jupyter.widget-view+json": {
       "model_id": "81b729314e52453285e73be5e532c451",
       "version_major": 2,
       "version_minor": 0
      },
      "text/plain": [
       "Collect episodes:   0%|          | 0/3 [00:00<?, ?it/s]"
      ]
     },
     "metadata": {},
     "output_type": "display_data"
    },
    {
     "data": {
      "application/vnd.jupyter.widget-view+json": {
       "model_id": "07786336b66c4d029bac119e9fc731af",
       "version_major": 2,
       "version_minor": 0
      },
      "text/plain": [
       "Collect episodes:   0%|          | 0/3 [00:00<?, ?it/s]"
      ]
     },
     "metadata": {},
     "output_type": "display_data"
    },
    {
     "data": {
      "application/vnd.jupyter.widget-view+json": {
       "model_id": "c7c58619c30849a3a30c124912013a24",
       "version_major": 2,
       "version_minor": 0
      },
      "text/plain": [
       "Collect episodes:   0%|          | 0/3 [00:00<?, ?it/s]"
      ]
     },
     "metadata": {},
     "output_type": "display_data"
    },
    {
     "data": {
      "application/vnd.jupyter.widget-view+json": {
       "model_id": "cb30c624ab13440d9cb661c0f2f8f507",
       "version_major": 2,
       "version_minor": 0
      },
      "text/plain": [
       "Collect episodes:   0%|          | 0/3 [00:00<?, ?it/s]"
      ]
     },
     "metadata": {},
     "output_type": "display_data"
    },
    {
     "data": {
      "application/vnd.jupyter.widget-view+json": {
       "model_id": "9ae46631abb442e4ba9c08e008b916d3",
       "version_major": 2,
       "version_minor": 0
      },
      "text/plain": [
       "Collect episodes:   0%|          | 0/3 [00:00<?, ?it/s]"
      ]
     },
     "metadata": {},
     "output_type": "display_data"
    },
    {
     "data": {
      "application/vnd.jupyter.widget-view+json": {
       "model_id": "3702d0af8c4d4341a4b5c8bacb8cd539",
       "version_major": 2,
       "version_minor": 0
      },
      "text/plain": [
       "Collect episodes:   0%|          | 0/3 [00:00<?, ?it/s]"
      ]
     },
     "metadata": {},
     "output_type": "display_data"
    },
    {
     "data": {
      "application/vnd.jupyter.widget-view+json": {
       "model_id": "0f867a378fc54dd4949e31c06d20cdc7",
       "version_major": 2,
       "version_minor": 0
      },
      "text/plain": [
       "Collect episodes:   0%|          | 0/3 [00:00<?, ?it/s]"
      ]
     },
     "metadata": {},
     "output_type": "display_data"
    },
    {
     "data": {
      "application/vnd.jupyter.widget-view+json": {
       "model_id": "456f910dfa804bbb8bedea701249b10e",
       "version_major": 2,
       "version_minor": 0
      },
      "text/plain": [
       "Collect episodes:   0%|          | 0/3 [00:00<?, ?it/s]"
      ]
     },
     "metadata": {},
     "output_type": "display_data"
    },
    {
     "data": {
      "application/vnd.jupyter.widget-view+json": {
       "model_id": "3469e3ad04fd4dd386798db81679eb8a",
       "version_major": 2,
       "version_minor": 0
      },
      "text/plain": [
       "Collect episodes:   0%|          | 0/3 [00:00<?, ?it/s]"
      ]
     },
     "metadata": {},
     "output_type": "display_data"
    },
    {
     "data": {
      "application/vnd.jupyter.widget-view+json": {
       "model_id": "f701e724bae84deba99fc5a904b4dd65",
       "version_major": 2,
       "version_minor": 0
      },
      "text/plain": [
       "Collect episodes:   0%|          | 0/3 [00:00<?, ?it/s]"
      ]
     },
     "metadata": {},
     "output_type": "display_data"
    },
    {
     "data": {
      "application/vnd.jupyter.widget-view+json": {
       "model_id": "7fc5d353d7874eee9bcda9ff4cd5d16d",
       "version_major": 2,
       "version_minor": 0
      },
      "text/plain": [
       "Collect episodes:   0%|          | 0/3 [00:00<?, ?it/s]"
      ]
     },
     "metadata": {},
     "output_type": "display_data"
    },
    {
     "data": {
      "application/vnd.jupyter.widget-view+json": {
       "model_id": "55222406a18d434997e24d06bedaf094",
       "version_major": 2,
       "version_minor": 0
      },
      "text/plain": [
       "Collect episodes:   0%|          | 0/3 [00:00<?, ?it/s]"
      ]
     },
     "metadata": {},
     "output_type": "display_data"
    },
    {
     "data": {
      "application/vnd.jupyter.widget-view+json": {
       "model_id": "2a6944433ba4456698c6d49e6ed542c8",
       "version_major": 2,
       "version_minor": 0
      },
      "text/plain": [
       "Collect episodes:   0%|          | 0/3 [00:00<?, ?it/s]"
      ]
     },
     "metadata": {},
     "output_type": "display_data"
    },
    {
     "data": {
      "application/vnd.jupyter.widget-view+json": {
       "model_id": "236350abeda6410499cbe831502daa41",
       "version_major": 2,
       "version_minor": 0
      },
      "text/plain": [
       "Collect episodes:   0%|          | 0/3 [00:00<?, ?it/s]"
      ]
     },
     "metadata": {},
     "output_type": "display_data"
    },
    {
     "name": "stdout",
     "output_type": "stream",
     "text": [
      "[I 2025-02-25 13:06:03,485] Trial 8 finished with value: -979.2744558901655 and parameters: {'learning_rate': 9.441093292304602e-05, 'n_steps': 105, 'batch_size': 187, 'gamma': 0.9539448784274425, 'gae_lambda': 0.8462971707969031, 'ent_coef': 0.004339837854222888, 'vf_coef': 0.6208686103702934, 'clip_range': 0.13890905400273074, 'max_grad_norm': 0.4785159951889255}. Best is trial 7 with value: -545.5181878422944.\n"
     ]
    },
    {
     "data": {
      "application/vnd.jupyter.widget-view+json": {
       "model_id": "d9491c56c04f442f91912eb891340a04",
       "version_major": 2,
       "version_minor": 0
      },
      "text/plain": [
       "Collect episodes:   0%|          | 0/3 [00:00<?, ?it/s]"
      ]
     },
     "metadata": {},
     "output_type": "display_data"
    },
    {
     "name": "stdout",
     "output_type": "stream",
     "text": [
      "[I 2025-02-25 13:06:10,180] Trial 4 finished with value: -401.07181326555235 and parameters: {'learning_rate': 0.0009734665649384904, 'n_steps': 153, 'batch_size': 191, 'gamma': 0.9387791178876315, 'gae_lambda': 0.939375832380646, 'ent_coef': 0.010904404445921992, 'vf_coef': 0.49016665675959226, 'clip_range': 0.19598911025462018, 'max_grad_norm': 0.8570647419226998}. Best is trial 4 with value: -401.07181326555235.\n"
     ]
    },
    {
     "data": {
      "application/vnd.jupyter.widget-view+json": {
       "model_id": "fdd12ea2ec474989be2f36a6dcf49453",
       "version_major": 2,
       "version_minor": 0
      },
      "text/plain": [
       "Collect episodes:   0%|          | 0/3 [00:00<?, ?it/s]"
      ]
     },
     "metadata": {},
     "output_type": "display_data"
    },
    {
     "data": {
      "application/vnd.jupyter.widget-view+json": {
       "model_id": "c31cee05b7094f42b14b001ab6c2c7d7",
       "version_major": 2,
       "version_minor": 0
      },
      "text/plain": [
       "Collect episodes:   0%|          | 0/3 [00:00<?, ?it/s]"
      ]
     },
     "metadata": {},
     "output_type": "display_data"
    },
    {
     "data": {
      "application/vnd.jupyter.widget-view+json": {
       "model_id": "76ca02e468f14abfa0745ccd6459089c",
       "version_major": 2,
       "version_minor": 0
      },
      "text/plain": [
       "Collect episodes:   0%|          | 0/3 [00:00<?, ?it/s]"
      ]
     },
     "metadata": {},
     "output_type": "display_data"
    },
    {
     "data": {
      "application/vnd.jupyter.widget-view+json": {
       "model_id": "6d12aa2974244e29ae5c3b57940f85c4",
       "version_major": 2,
       "version_minor": 0
      },
      "text/plain": [
       "Collect episodes:   0%|          | 0/3 [00:00<?, ?it/s]"
      ]
     },
     "metadata": {},
     "output_type": "display_data"
    },
    {
     "data": {
      "application/vnd.jupyter.widget-view+json": {
       "model_id": "5001ef36568f4b79a4cb4a6bce170622",
       "version_major": 2,
       "version_minor": 0
      },
      "text/plain": [
       "Collect episodes:   0%|          | 0/3 [00:00<?, ?it/s]"
      ]
     },
     "metadata": {},
     "output_type": "display_data"
    },
    {
     "data": {
      "application/vnd.jupyter.widget-view+json": {
       "model_id": "37ae01885d7449249a53f97159caba2e",
       "version_major": 2,
       "version_minor": 0
      },
      "text/plain": [
       "Collect episodes:   0%|          | 0/3 [00:00<?, ?it/s]"
      ]
     },
     "metadata": {},
     "output_type": "display_data"
    },
    {
     "data": {
      "application/vnd.jupyter.widget-view+json": {
       "model_id": "b73ddc1213d44af0a5fe21fae2e5b2b6",
       "version_major": 2,
       "version_minor": 0
      },
      "text/plain": [
       "Collect episodes:   0%|          | 0/3 [00:00<?, ?it/s]"
      ]
     },
     "metadata": {},
     "output_type": "display_data"
    },
    {
     "data": {
      "application/vnd.jupyter.widget-view+json": {
       "model_id": "91d3d919b8754ea0a909c2adb3c0f0a0",
       "version_major": 2,
       "version_minor": 0
      },
      "text/plain": [
       "Collect episodes:   0%|          | 0/3 [00:00<?, ?it/s]"
      ]
     },
     "metadata": {},
     "output_type": "display_data"
    },
    {
     "data": {
      "application/vnd.jupyter.widget-view+json": {
       "model_id": "38d00325b9984f8d9df0012de6e48c34",
       "version_major": 2,
       "version_minor": 0
      },
      "text/plain": [
       "Collect episodes:   0%|          | 0/3 [00:00<?, ?it/s]"
      ]
     },
     "metadata": {},
     "output_type": "display_data"
    },
    {
     "data": {
      "application/vnd.jupyter.widget-view+json": {
       "model_id": "b69ace142f4f4ab89bfe53f03c89b48b",
       "version_major": 2,
       "version_minor": 0
      },
      "text/plain": [
       "Collect episodes:   0%|          | 0/3 [00:00<?, ?it/s]"
      ]
     },
     "metadata": {},
     "output_type": "display_data"
    },
    {
     "data": {
      "application/vnd.jupyter.widget-view+json": {
       "model_id": "6c4c4b62edd3464ca2d6166245b6ca2a",
       "version_major": 2,
       "version_minor": 0
      },
      "text/plain": [
       "Collect episodes:   0%|          | 0/3 [00:00<?, ?it/s]"
      ]
     },
     "metadata": {},
     "output_type": "display_data"
    },
    {
     "data": {
      "application/vnd.jupyter.widget-view+json": {
       "model_id": "60a6c23a700a4eb4bfc9007f2b7d1943",
       "version_major": 2,
       "version_minor": 0
      },
      "text/plain": [
       "Collect episodes:   0%|          | 0/3 [00:00<?, ?it/s]"
      ]
     },
     "metadata": {},
     "output_type": "display_data"
    },
    {
     "data": {
      "application/vnd.jupyter.widget-view+json": {
       "model_id": "52150ede3b254f18975d17cd374f659d",
       "version_major": 2,
       "version_minor": 0
      },
      "text/plain": [
       "Collect episodes:   0%|          | 0/3 [00:00<?, ?it/s]"
      ]
     },
     "metadata": {},
     "output_type": "display_data"
    },
    {
     "data": {
      "application/vnd.jupyter.widget-view+json": {
       "model_id": "c4e98f90776a4d14a2e8fddf49b18c16",
       "version_major": 2,
       "version_minor": 0
      },
      "text/plain": [
       "Collect episodes:   0%|          | 0/3 [00:00<?, ?it/s]"
      ]
     },
     "metadata": {},
     "output_type": "display_data"
    },
    {
     "data": {
      "application/vnd.jupyter.widget-view+json": {
       "model_id": "0fef0d2a43044cf69fe9a2ec4dad27cc",
       "version_major": 2,
       "version_minor": 0
      },
      "text/plain": [
       "Collect episodes:   0%|          | 0/3 [00:00<?, ?it/s]"
      ]
     },
     "metadata": {},
     "output_type": "display_data"
    },
    {
     "data": {
      "application/vnd.jupyter.widget-view+json": {
       "model_id": "6ca24caccf3543bea3499452a9662b44",
       "version_major": 2,
       "version_minor": 0
      },
      "text/plain": [
       "Collect episodes:   0%|          | 0/3 [00:00<?, ?it/s]"
      ]
     },
     "metadata": {},
     "output_type": "display_data"
    },
    {
     "data": {
      "application/vnd.jupyter.widget-view+json": {
       "model_id": "88d42a15e08449f79a73d07cef8568ed",
       "version_major": 2,
       "version_minor": 0
      },
      "text/plain": [
       "Collect episodes:   0%|          | 0/3 [00:00<?, ?it/s]"
      ]
     },
     "metadata": {},
     "output_type": "display_data"
    },
    {
     "data": {
      "application/vnd.jupyter.widget-view+json": {
       "model_id": "939b46a8da364b20a7b780bbd4ffee9c",
       "version_major": 2,
       "version_minor": 0
      },
      "text/plain": [
       "Collect episodes:   0%|          | 0/3 [00:00<?, ?it/s]"
      ]
     },
     "metadata": {},
     "output_type": "display_data"
    },
    {
     "data": {
      "application/vnd.jupyter.widget-view+json": {
       "model_id": "a51e86fa429c4d67bb1956e0af0d7614",
       "version_major": 2,
       "version_minor": 0
      },
      "text/plain": [
       "Collect episodes:   0%|          | 0/3 [00:00<?, ?it/s]"
      ]
     },
     "metadata": {},
     "output_type": "display_data"
    },
    {
     "data": {
      "application/vnd.jupyter.widget-view+json": {
       "model_id": "34403fa97bb3452baa30f9852666aca9",
       "version_major": 2,
       "version_minor": 0
      },
      "text/plain": [
       "Collect episodes:   0%|          | 0/3 [00:00<?, ?it/s]"
      ]
     },
     "metadata": {},
     "output_type": "display_data"
    },
    {
     "data": {
      "application/vnd.jupyter.widget-view+json": {
       "model_id": "56a6f8a9406d4c9584be99c42c8d2314",
       "version_major": 2,
       "version_minor": 0
      },
      "text/plain": [
       "Collect episodes:   0%|          | 0/3 [00:00<?, ?it/s]"
      ]
     },
     "metadata": {},
     "output_type": "display_data"
    },
    {
     "data": {
      "application/vnd.jupyter.widget-view+json": {
       "model_id": "3f2469d3da0a45b3886b4dad370653e6",
       "version_major": 2,
       "version_minor": 0
      },
      "text/plain": [
       "Collect episodes:   0%|          | 0/3 [00:00<?, ?it/s]"
      ]
     },
     "metadata": {},
     "output_type": "display_data"
    },
    {
     "data": {
      "application/vnd.jupyter.widget-view+json": {
       "model_id": "d903e51175f0451b91635f384c38b496",
       "version_major": 2,
       "version_minor": 0
      },
      "text/plain": [
       "Collect episodes:   0%|          | 0/3 [00:00<?, ?it/s]"
      ]
     },
     "metadata": {},
     "output_type": "display_data"
    },
    {
     "data": {
      "application/vnd.jupyter.widget-view+json": {
       "model_id": "76e4dd849bb14a8a83bd0260ada3a0ee",
       "version_major": 2,
       "version_minor": 0
      },
      "text/plain": [
       "Collect episodes:   0%|          | 0/3 [00:00<?, ?it/s]"
      ]
     },
     "metadata": {},
     "output_type": "display_data"
    },
    {
     "data": {
      "application/vnd.jupyter.widget-view+json": {
       "model_id": "39747c57876d438a991b37ade84601ae",
       "version_major": 2,
       "version_minor": 0
      },
      "text/plain": [
       "Collect episodes:   0%|          | 0/3 [00:00<?, ?it/s]"
      ]
     },
     "metadata": {},
     "output_type": "display_data"
    },
    {
     "name": "stdout",
     "output_type": "stream",
     "text": [
      "[I 2025-02-25 13:09:14,138] Trial 9 finished with value: -594.4433871183192 and parameters: {'learning_rate': 0.0004371208131380942, 'n_steps': 392, 'batch_size': 131, 'gamma': 0.9466215904470251, 'gae_lambda': 0.9970768249677274, 'ent_coef': 0.004924503205376562, 'vf_coef': 0.7228074805646898, 'clip_range': 0.2194810247375943, 'max_grad_norm': 0.6068036454851875}. Best is trial 4 with value: -401.07181326555235.\n"
     ]
    },
    {
     "data": {
      "application/vnd.jupyter.widget-view+json": {
       "model_id": "b15e7c6e971e4df08d9418e0e2fb0532",
       "version_major": 2,
       "version_minor": 0
      },
      "text/plain": [
       "Collect episodes:   0%|          | 0/3 [00:00<?, ?it/s]"
      ]
     },
     "metadata": {},
     "output_type": "display_data"
    },
    {
     "data": {
      "application/vnd.jupyter.widget-view+json": {
       "model_id": "3cdec96a043a47cdb3bd74dae78791ca",
       "version_major": 2,
       "version_minor": 0
      },
      "text/plain": [
       "Collect episodes:   0%|          | 0/3 [00:00<?, ?it/s]"
      ]
     },
     "metadata": {},
     "output_type": "display_data"
    },
    {
     "data": {
      "application/vnd.jupyter.widget-view+json": {
       "model_id": "ca22ca09fbef473ab9e160b0f479407a",
       "version_major": 2,
       "version_minor": 0
      },
      "text/plain": [
       "Collect episodes:   0%|          | 0/3 [00:00<?, ?it/s]"
      ]
     },
     "metadata": {},
     "output_type": "display_data"
    },
    {
     "data": {
      "application/vnd.jupyter.widget-view+json": {
       "model_id": "8c004a089a7542b6b3b7c4642f6b20e6",
       "version_major": 2,
       "version_minor": 0
      },
      "text/plain": [
       "Collect episodes:   0%|          | 0/3 [00:00<?, ?it/s]"
      ]
     },
     "metadata": {},
     "output_type": "display_data"
    },
    {
     "data": {
      "application/vnd.jupyter.widget-view+json": {
       "model_id": "211fae800dc642899b12c88a7848b3dd",
       "version_major": 2,
       "version_minor": 0
      },
      "text/plain": [
       "Collect episodes:   0%|          | 0/3 [00:00<?, ?it/s]"
      ]
     },
     "metadata": {},
     "output_type": "display_data"
    },
    {
     "name": "stdout",
     "output_type": "stream",
     "text": [
      "[I 2025-02-25 13:10:03,195] Trial 1 finished with value: 149.91076317400518 and parameters: {'learning_rate': 0.0007433352616407535, 'n_steps': 942, 'batch_size': 115, 'gamma': 0.9293743812835875, 'gae_lambda': 0.8077916237515688, 'ent_coef': 0.0015431815538238048, 'vf_coef': 0.9169650454157497, 'clip_range': 0.18174976443729085, 'max_grad_norm': 0.503883935779693}. Best is trial 1 with value: 149.91076317400518.\n"
     ]
    },
    {
     "data": {
      "application/vnd.jupyter.widget-view+json": {
       "model_id": "edc8fbd34ebf43c3a24aba2fdaebf9e0",
       "version_major": 2,
       "version_minor": 0
      },
      "text/plain": [
       "Collect episodes:   0%|          | 0/3 [00:00<?, ?it/s]"
      ]
     },
     "metadata": {},
     "output_type": "display_data"
    },
    {
     "data": {
      "application/vnd.jupyter.widget-view+json": {
       "model_id": "ed4c0c330f45473eb18a402906616660",
       "version_major": 2,
       "version_minor": 0
      },
      "text/plain": [
       "Collect episodes:   0%|          | 0/3 [00:00<?, ?it/s]"
      ]
     },
     "metadata": {},
     "output_type": "display_data"
    },
    {
     "data": {
      "application/vnd.jupyter.widget-view+json": {
       "model_id": "6926398daa7d4ab7aabd1c38f5780c55",
       "version_major": 2,
       "version_minor": 0
      },
      "text/plain": [
       "Collect episodes:   0%|          | 0/3 [00:00<?, ?it/s]"
      ]
     },
     "metadata": {},
     "output_type": "display_data"
    },
    {
     "data": {
      "application/vnd.jupyter.widget-view+json": {
       "model_id": "afbd42502d2f402fa5f67d6cd8ca5644",
       "version_major": 2,
       "version_minor": 0
      },
      "text/plain": [
       "Collect episodes:   0%|          | 0/3 [00:00<?, ?it/s]"
      ]
     },
     "metadata": {},
     "output_type": "display_data"
    },
    {
     "data": {
      "application/vnd.jupyter.widget-view+json": {
       "model_id": "e3090137cf1340b3910f9d6669dba43b",
       "version_major": 2,
       "version_minor": 0
      },
      "text/plain": [
       "Collect episodes:   0%|          | 0/3 [00:00<?, ?it/s]"
      ]
     },
     "metadata": {},
     "output_type": "display_data"
    },
    {
     "data": {
      "application/vnd.jupyter.widget-view+json": {
       "model_id": "72abc39014144d3a91729f02201af987",
       "version_major": 2,
       "version_minor": 0
      },
      "text/plain": [
       "Collect episodes:   0%|          | 0/3 [00:00<?, ?it/s]"
      ]
     },
     "metadata": {},
     "output_type": "display_data"
    },
    {
     "data": {
      "application/vnd.jupyter.widget-view+json": {
       "model_id": "5fda0eb7d6524014aab63aed179f5478",
       "version_major": 2,
       "version_minor": 0
      },
      "text/plain": [
       "Collect episodes:   0%|          | 0/3 [00:00<?, ?it/s]"
      ]
     },
     "metadata": {},
     "output_type": "display_data"
    },
    {
     "data": {
      "application/vnd.jupyter.widget-view+json": {
       "model_id": "19117cc7b231425694e014c9401a80f2",
       "version_major": 2,
       "version_minor": 0
      },
      "text/plain": [
       "Collect episodes:   0%|          | 0/3 [00:00<?, ?it/s]"
      ]
     },
     "metadata": {},
     "output_type": "display_data"
    },
    {
     "data": {
      "application/vnd.jupyter.widget-view+json": {
       "model_id": "db95017d3db642ccaa283f7407c33fa1",
       "version_major": 2,
       "version_minor": 0
      },
      "text/plain": [
       "Collect episodes:   0%|          | 0/3 [00:00<?, ?it/s]"
      ]
     },
     "metadata": {},
     "output_type": "display_data"
    },
    {
     "data": {
      "application/vnd.jupyter.widget-view+json": {
       "model_id": "60ae3e0773754e548cfd03906fbe2ee7",
       "version_major": 2,
       "version_minor": 0
      },
      "text/plain": [
       "Collect episodes:   0%|          | 0/3 [00:00<?, ?it/s]"
      ]
     },
     "metadata": {},
     "output_type": "display_data"
    },
    {
     "data": {
      "application/vnd.jupyter.widget-view+json": {
       "model_id": "1d19b32ca5ab4b818d6f6453e0d0b414",
       "version_major": 2,
       "version_minor": 0
      },
      "text/plain": [
       "Collect episodes:   0%|          | 0/3 [00:00<?, ?it/s]"
      ]
     },
     "metadata": {},
     "output_type": "display_data"
    },
    {
     "name": "stdout",
     "output_type": "stream",
     "text": [
      "[I 2025-02-25 13:11:42,711] Trial 0 finished with value: 1081.5583625907677 and parameters: {'learning_rate': 0.00047500421534876563, 'n_steps': 39, 'batch_size': 243, 'gamma': 0.9045992835885459, 'gae_lambda': 0.8142285666986598, 'ent_coef': 0.010356658628031389, 'vf_coef': 0.1017093795613027, 'clip_range': 0.2017832310530917, 'max_grad_norm': 0.28056068887681723}. Best is trial 0 with value: 1081.5583625907677.\n"
     ]
    },
    {
     "data": {
      "application/vnd.jupyter.widget-view+json": {
       "model_id": "1851abf6cab94eb680ca869de9a8b0ad",
       "version_major": 2,
       "version_minor": 0
      },
      "text/plain": [
       "seeds:   0%|          | 0/30 [00:00<?, ?it/s]"
      ]
     },
     "metadata": {},
     "output_type": "display_data"
    },
    {
     "data": {
      "application/vnd.jupyter.widget-view+json": {
       "model_id": "7df126e0bc394416bd0f1860456af5c5",
       "version_major": 2,
       "version_minor": 0
      },
      "text/plain": [
       "Training episodes:   0%|          | 0/3 [00:00<?, ?it/s]"
      ]
     },
     "metadata": {},
     "output_type": "display_data"
    },
    {
     "data": {
      "application/vnd.jupyter.widget-view+json": {
       "model_id": "d4ceed6ef8014b1a9fda87a05c87513d",
       "version_major": 2,
       "version_minor": 0
      },
      "text/plain": [
       "Training episodes:   0%|          | 0/3 [00:00<?, ?it/s]"
      ]
     },
     "metadata": {},
     "output_type": "display_data"
    },
    {
     "data": {
      "application/vnd.jupyter.widget-view+json": {
       "model_id": "587349d019c8482e8fd573fdc9e4f596",
       "version_major": 2,
       "version_minor": 0
      },
      "text/plain": [
       "Training episodes:   0%|          | 0/3 [00:00<?, ?it/s]"
      ]
     },
     "metadata": {},
     "output_type": "display_data"
    },
    {
     "data": {
      "application/vnd.jupyter.widget-view+json": {
       "model_id": "3b7bb2b07a7e4bd798085ec07b79f116",
       "version_major": 2,
       "version_minor": 0
      },
      "text/plain": [
       "Training episodes:   0%|          | 0/3 [00:00<?, ?it/s]"
      ]
     },
     "metadata": {},
     "output_type": "display_data"
    },
    {
     "data": {
      "application/vnd.jupyter.widget-view+json": {
       "model_id": "b280a2db5b7f44b3b5cf7058ee16013b",
       "version_major": 2,
       "version_minor": 0
      },
      "text/plain": [
       "Training episodes:   0%|          | 0/3 [00:00<?, ?it/s]"
      ]
     },
     "metadata": {},
     "output_type": "display_data"
    },
    {
     "data": {
      "application/vnd.jupyter.widget-view+json": {
       "model_id": "b0434d9495f94a1387bc5e041f19e0fc",
       "version_major": 2,
       "version_minor": 0
      },
      "text/plain": [
       "Training episodes:   0%|          | 0/3 [00:00<?, ?it/s]"
      ]
     },
     "metadata": {},
     "output_type": "display_data"
    },
    {
     "data": {
      "application/vnd.jupyter.widget-view+json": {
       "model_id": "855034ad4fec47a29b63ce7788004868",
       "version_major": 2,
       "version_minor": 0
      },
      "text/plain": [
       "Training episodes:   0%|          | 0/3 [00:00<?, ?it/s]"
      ]
     },
     "metadata": {},
     "output_type": "display_data"
    },
    {
     "data": {
      "application/vnd.jupyter.widget-view+json": {
       "model_id": "8e802a81fa1e4750b4340ea95b6275ba",
       "version_major": 2,
       "version_minor": 0
      },
      "text/plain": [
       "Training episodes:   0%|          | 0/3 [00:00<?, ?it/s]"
      ]
     },
     "metadata": {},
     "output_type": "display_data"
    },
    {
     "data": {
      "application/vnd.jupyter.widget-view+json": {
       "model_id": "b5c3af15c8a04b799455eca32fecb9db",
       "version_major": 2,
       "version_minor": 0
      },
      "text/plain": [
       "Training episodes:   0%|          | 0/3 [00:00<?, ?it/s]"
      ]
     },
     "metadata": {},
     "output_type": "display_data"
    },
    {
     "data": {
      "application/vnd.jupyter.widget-view+json": {
       "model_id": "dca486e292ba4e478ab40897317bab75",
       "version_major": 2,
       "version_minor": 0
      },
      "text/plain": [
       "Training episodes:   0%|          | 0/3 [00:00<?, ?it/s]"
      ]
     },
     "metadata": {},
     "output_type": "display_data"
    },
    {
     "data": {
      "application/vnd.jupyter.widget-view+json": {
       "model_id": "3990299b1a2d4bdfb8639710f8f56f38",
       "version_major": 2,
       "version_minor": 0
      },
      "text/plain": [
       "Training episodes:   0%|          | 0/3 [00:00<?, ?it/s]"
      ]
     },
     "metadata": {},
     "output_type": "display_data"
    },
    {
     "data": {
      "application/vnd.jupyter.widget-view+json": {
       "model_id": "e45184193c324e478ebf0d46ec465eb6",
       "version_major": 2,
       "version_minor": 0
      },
      "text/plain": [
       "Training episodes:   0%|          | 0/3 [00:00<?, ?it/s]"
      ]
     },
     "metadata": {},
     "output_type": "display_data"
    },
    {
     "data": {
      "application/vnd.jupyter.widget-view+json": {
       "model_id": "b13dccfba0a642e1a77dbe99d88447ed",
       "version_major": 2,
       "version_minor": 0
      },
      "text/plain": [
       "Training episodes:   0%|          | 0/3 [00:00<?, ?it/s]"
      ]
     },
     "metadata": {},
     "output_type": "display_data"
    },
    {
     "data": {
      "application/vnd.jupyter.widget-view+json": {
       "model_id": "4af4049e99b84cf494dce4852d5b90a1",
       "version_major": 2,
       "version_minor": 0
      },
      "text/plain": [
       "Training episodes:   0%|          | 0/3 [00:00<?, ?it/s]"
      ]
     },
     "metadata": {},
     "output_type": "display_data"
    },
    {
     "data": {
      "application/vnd.jupyter.widget-view+json": {
       "model_id": "24f65a0ec3d74d008f355bef8a9ecd86",
       "version_major": 2,
       "version_minor": 0
      },
      "text/plain": [
       "Training episodes:   0%|          | 0/3 [00:00<?, ?it/s]"
      ]
     },
     "metadata": {},
     "output_type": "display_data"
    },
    {
     "data": {
      "application/vnd.jupyter.widget-view+json": {
       "model_id": "3f4b44511f554192bcec3b8a20f4b835",
       "version_major": 2,
       "version_minor": 0
      },
      "text/plain": [
       "Training episodes:   0%|          | 0/3 [00:00<?, ?it/s]"
      ]
     },
     "metadata": {},
     "output_type": "display_data"
    },
    {
     "data": {
      "application/vnd.jupyter.widget-view+json": {
       "model_id": "6e6265c282fb47dc91f3d4e2574fa794",
       "version_major": 2,
       "version_minor": 0
      },
      "text/plain": [
       "Training episodes:   0%|          | 0/3 [00:00<?, ?it/s]"
      ]
     },
     "metadata": {},
     "output_type": "display_data"
    },
    {
     "data": {
      "application/vnd.jupyter.widget-view+json": {
       "model_id": "ddc35ab967a94ea1bbb16b2ba749b96b",
       "version_major": 2,
       "version_minor": 0
      },
      "text/plain": [
       "Training episodes:   0%|          | 0/3 [00:00<?, ?it/s]"
      ]
     },
     "metadata": {},
     "output_type": "display_data"
    },
    {
     "data": {
      "application/vnd.jupyter.widget-view+json": {
       "model_id": "e5ae0277baaa4db89b09fe4888c68a40",
       "version_major": 2,
       "version_minor": 0
      },
      "text/plain": [
       "Training episodes:   0%|          | 0/3 [00:00<?, ?it/s]"
      ]
     },
     "metadata": {},
     "output_type": "display_data"
    },
    {
     "data": {
      "application/vnd.jupyter.widget-view+json": {
       "model_id": "37feb9689c294d6c9b19314cba1c769c",
       "version_major": 2,
       "version_minor": 0
      },
      "text/plain": [
       "Training episodes:   0%|          | 0/3 [00:00<?, ?it/s]"
      ]
     },
     "metadata": {},
     "output_type": "display_data"
    },
    {
     "data": {
      "application/vnd.jupyter.widget-view+json": {
       "model_id": "7fccd3ea0345433abbf49843e6a074e7",
       "version_major": 2,
       "version_minor": 0
      },
      "text/plain": [
       "Training episodes:   0%|          | 0/3 [00:00<?, ?it/s]"
      ]
     },
     "metadata": {},
     "output_type": "display_data"
    },
    {
     "data": {
      "application/vnd.jupyter.widget-view+json": {
       "model_id": "2b1bef3de53f4b1ab48010d6b9be5b7d",
       "version_major": 2,
       "version_minor": 0
      },
      "text/plain": [
       "Training episodes:   0%|          | 0/3 [00:00<?, ?it/s]"
      ]
     },
     "metadata": {},
     "output_type": "display_data"
    },
    {
     "data": {
      "application/vnd.jupyter.widget-view+json": {
       "model_id": "5f67063841a343b09bc8b444a6335713",
       "version_major": 2,
       "version_minor": 0
      },
      "text/plain": [
       "Training episodes:   0%|          | 0/3 [00:00<?, ?it/s]"
      ]
     },
     "metadata": {},
     "output_type": "display_data"
    },
    {
     "data": {
      "application/vnd.jupyter.widget-view+json": {
       "model_id": "ace6740c07be477697fb9d234e673d75",
       "version_major": 2,
       "version_minor": 0
      },
      "text/plain": [
       "Training episodes:   0%|          | 0/3 [00:00<?, ?it/s]"
      ]
     },
     "metadata": {},
     "output_type": "display_data"
    },
    {
     "data": {
      "application/vnd.jupyter.widget-view+json": {
       "model_id": "c0c169e8da12482f973ce2cd3972b813",
       "version_major": 2,
       "version_minor": 0
      },
      "text/plain": [
       "Training episodes:   0%|          | 0/3 [00:00<?, ?it/s]"
      ]
     },
     "metadata": {},
     "output_type": "display_data"
    },
    {
     "data": {
      "application/vnd.jupyter.widget-view+json": {
       "model_id": "e79a75d003b843c8bfbb111e4af31574",
       "version_major": 2,
       "version_minor": 0
      },
      "text/plain": [
       "Training episodes:   0%|          | 0/3 [00:00<?, ?it/s]"
      ]
     },
     "metadata": {},
     "output_type": "display_data"
    },
    {
     "data": {
      "application/vnd.jupyter.widget-view+json": {
       "model_id": "904f8fb45a394878b318a3cbc530b156",
       "version_major": 2,
       "version_minor": 0
      },
      "text/plain": [
       "Training episodes:   0%|          | 0/3 [00:00<?, ?it/s]"
      ]
     },
     "metadata": {},
     "output_type": "display_data"
    },
    {
     "data": {
      "application/vnd.jupyter.widget-view+json": {
       "model_id": "bc7cfcac62bc4b62818c42973fe0fd1c",
       "version_major": 2,
       "version_minor": 0
      },
      "text/plain": [
       "Training episodes:   0%|          | 0/3 [00:00<?, ?it/s]"
      ]
     },
     "metadata": {},
     "output_type": "display_data"
    },
    {
     "data": {
      "application/vnd.jupyter.widget-view+json": {
       "model_id": "73946eb65dc94d36a457fecbdfe2c5f8",
       "version_major": 2,
       "version_minor": 0
      },
      "text/plain": [
       "Training episodes:   0%|          | 0/3 [00:00<?, ?it/s]"
      ]
     },
     "metadata": {},
     "output_type": "display_data"
    },
    {
     "data": {
      "application/vnd.jupyter.widget-view+json": {
       "model_id": "e1e9bf27b3a546e58a37b1d6cdc1f9d5",
       "version_major": 2,
       "version_minor": 0
      },
      "text/plain": [
       "Training episodes:   0%|          | 0/3 [00:00<?, ?it/s]"
      ]
     },
     "metadata": {},
     "output_type": "display_data"
    },
    {
     "data": {
      "application/vnd.jupyter.widget-view+json": {
       "model_id": "a5f3c8ddd6b64df4a814f23804b65387",
       "version_major": 2,
       "version_minor": 0
      },
      "text/plain": [
       "seeds:   0%|          | 0/30 [00:00<?, ?it/s]"
      ]
     },
     "metadata": {},
     "output_type": "display_data"
    },
    {
     "data": {
      "application/vnd.jupyter.widget-view+json": {
       "model_id": "95f5186e33184910863b5e12815e1020",
       "version_major": 2,
       "version_minor": 0
      },
      "text/plain": [
       "Evaluation episodes:   0%|          | 0/3 [00:00<?, ?it/s]"
      ]
     },
     "metadata": {},
     "output_type": "display_data"
    },
    {
     "data": {
      "application/vnd.jupyter.widget-view+json": {
       "model_id": "52ce3f148c18470e9f957597604e43a3",
       "version_major": 2,
       "version_minor": 0
      },
      "text/plain": [
       "Evaluation episodes:   0%|          | 0/3 [00:00<?, ?it/s]"
      ]
     },
     "metadata": {},
     "output_type": "display_data"
    },
    {
     "data": {
      "application/vnd.jupyter.widget-view+json": {
       "model_id": "a6ecbbb5c79f4557837b9804bb2a41a8",
       "version_major": 2,
       "version_minor": 0
      },
      "text/plain": [
       "Evaluation episodes:   0%|          | 0/3 [00:00<?, ?it/s]"
      ]
     },
     "metadata": {},
     "output_type": "display_data"
    },
    {
     "data": {
      "application/vnd.jupyter.widget-view+json": {
       "model_id": "cdc7181710d548d4b990e20d46c1720f",
       "version_major": 2,
       "version_minor": 0
      },
      "text/plain": [
       "Evaluation episodes:   0%|          | 0/3 [00:00<?, ?it/s]"
      ]
     },
     "metadata": {},
     "output_type": "display_data"
    },
    {
     "data": {
      "application/vnd.jupyter.widget-view+json": {
       "model_id": "1b8e17110bc442faad31e7ed79c4e1f3",
       "version_major": 2,
       "version_minor": 0
      },
      "text/plain": [
       "Evaluation episodes:   0%|          | 0/3 [00:00<?, ?it/s]"
      ]
     },
     "metadata": {},
     "output_type": "display_data"
    },
    {
     "data": {
      "application/vnd.jupyter.widget-view+json": {
       "model_id": "3763686039c949b4be9aa7268980bc05",
       "version_major": 2,
       "version_minor": 0
      },
      "text/plain": [
       "Evaluation episodes:   0%|          | 0/3 [00:00<?, ?it/s]"
      ]
     },
     "metadata": {},
     "output_type": "display_data"
    },
    {
     "data": {
      "application/vnd.jupyter.widget-view+json": {
       "model_id": "34e6bab28fa34b60924a1f3e4e1d99ff",
       "version_major": 2,
       "version_minor": 0
      },
      "text/plain": [
       "Evaluation episodes:   0%|          | 0/3 [00:00<?, ?it/s]"
      ]
     },
     "metadata": {},
     "output_type": "display_data"
    },
    {
     "data": {
      "application/vnd.jupyter.widget-view+json": {
       "model_id": "6ded257d7de84721a71a627684d42e30",
       "version_major": 2,
       "version_minor": 0
      },
      "text/plain": [
       "Evaluation episodes:   0%|          | 0/3 [00:00<?, ?it/s]"
      ]
     },
     "metadata": {},
     "output_type": "display_data"
    },
    {
     "data": {
      "application/vnd.jupyter.widget-view+json": {
       "model_id": "bb4a39b78c8a4a6eb0d66631f9aacfd2",
       "version_major": 2,
       "version_minor": 0
      },
      "text/plain": [
       "Evaluation episodes:   0%|          | 0/3 [00:00<?, ?it/s]"
      ]
     },
     "metadata": {},
     "output_type": "display_data"
    },
    {
     "data": {
      "application/vnd.jupyter.widget-view+json": {
       "model_id": "f53002f3f9cd4ce08a6f7b91b856e667",
       "version_major": 2,
       "version_minor": 0
      },
      "text/plain": [
       "Evaluation episodes:   0%|          | 0/3 [00:00<?, ?it/s]"
      ]
     },
     "metadata": {},
     "output_type": "display_data"
    },
    {
     "data": {
      "application/vnd.jupyter.widget-view+json": {
       "model_id": "ec32831930e74408968df48e10284e6d",
       "version_major": 2,
       "version_minor": 0
      },
      "text/plain": [
       "Evaluation episodes:   0%|          | 0/3 [00:00<?, ?it/s]"
      ]
     },
     "metadata": {},
     "output_type": "display_data"
    },
    {
     "data": {
      "application/vnd.jupyter.widget-view+json": {
       "model_id": "4a8ec734a7134475a3cd1133fc570fb7",
       "version_major": 2,
       "version_minor": 0
      },
      "text/plain": [
       "Evaluation episodes:   0%|          | 0/3 [00:00<?, ?it/s]"
      ]
     },
     "metadata": {},
     "output_type": "display_data"
    },
    {
     "data": {
      "application/vnd.jupyter.widget-view+json": {
       "model_id": "3accfc553dcd401cbd211dc16541cde8",
       "version_major": 2,
       "version_minor": 0
      },
      "text/plain": [
       "Evaluation episodes:   0%|          | 0/3 [00:00<?, ?it/s]"
      ]
     },
     "metadata": {},
     "output_type": "display_data"
    },
    {
     "data": {
      "application/vnd.jupyter.widget-view+json": {
       "model_id": "30f3e0e19e9c469587f0d0cc28d3375d",
       "version_major": 2,
       "version_minor": 0
      },
      "text/plain": [
       "Evaluation episodes:   0%|          | 0/3 [00:00<?, ?it/s]"
      ]
     },
     "metadata": {},
     "output_type": "display_data"
    },
    {
     "data": {
      "application/vnd.jupyter.widget-view+json": {
       "model_id": "9a75c1d5921c422b9cdeecf1d5360712",
       "version_major": 2,
       "version_minor": 0
      },
      "text/plain": [
       "Evaluation episodes:   0%|          | 0/3 [00:00<?, ?it/s]"
      ]
     },
     "metadata": {},
     "output_type": "display_data"
    },
    {
     "data": {
      "application/vnd.jupyter.widget-view+json": {
       "model_id": "9f1986f97a5d4c34b49ca01540ba0a5b",
       "version_major": 2,
       "version_minor": 0
      },
      "text/plain": [
       "Evaluation episodes:   0%|          | 0/3 [00:00<?, ?it/s]"
      ]
     },
     "metadata": {},
     "output_type": "display_data"
    },
    {
     "data": {
      "application/vnd.jupyter.widget-view+json": {
       "model_id": "54712aa3caf74897a36bc7c0bd81a520",
       "version_major": 2,
       "version_minor": 0
      },
      "text/plain": [
       "Evaluation episodes:   0%|          | 0/3 [00:00<?, ?it/s]"
      ]
     },
     "metadata": {},
     "output_type": "display_data"
    },
    {
     "data": {
      "application/vnd.jupyter.widget-view+json": {
       "model_id": "510e7a757fb64f1586f58e2a5ec9dc4c",
       "version_major": 2,
       "version_minor": 0
      },
      "text/plain": [
       "Evaluation episodes:   0%|          | 0/3 [00:00<?, ?it/s]"
      ]
     },
     "metadata": {},
     "output_type": "display_data"
    },
    {
     "data": {
      "application/vnd.jupyter.widget-view+json": {
       "model_id": "e5c0ce50c1ac4892874bf384306560ec",
       "version_major": 2,
       "version_minor": 0
      },
      "text/plain": [
       "Evaluation episodes:   0%|          | 0/3 [00:00<?, ?it/s]"
      ]
     },
     "metadata": {},
     "output_type": "display_data"
    },
    {
     "data": {
      "application/vnd.jupyter.widget-view+json": {
       "model_id": "52b5853ff4f740e4907ac4c6a5a8425e",
       "version_major": 2,
       "version_minor": 0
      },
      "text/plain": [
       "Evaluation episodes:   0%|          | 0/3 [00:00<?, ?it/s]"
      ]
     },
     "metadata": {},
     "output_type": "display_data"
    },
    {
     "data": {
      "application/vnd.jupyter.widget-view+json": {
       "model_id": "820aa4d29dea474db1e6ae5d1e0c2cfd",
       "version_major": 2,
       "version_minor": 0
      },
      "text/plain": [
       "Evaluation episodes:   0%|          | 0/3 [00:00<?, ?it/s]"
      ]
     },
     "metadata": {},
     "output_type": "display_data"
    },
    {
     "data": {
      "application/vnd.jupyter.widget-view+json": {
       "model_id": "2436e0bb7639401094783c95ec700d63",
       "version_major": 2,
       "version_minor": 0
      },
      "text/plain": [
       "Evaluation episodes:   0%|          | 0/3 [00:00<?, ?it/s]"
      ]
     },
     "metadata": {},
     "output_type": "display_data"
    },
    {
     "data": {
      "application/vnd.jupyter.widget-view+json": {
       "model_id": "6c3eb0f42e184f00ac69f13fb6f6846b",
       "version_major": 2,
       "version_minor": 0
      },
      "text/plain": [
       "Evaluation episodes:   0%|          | 0/3 [00:00<?, ?it/s]"
      ]
     },
     "metadata": {},
     "output_type": "display_data"
    },
    {
     "data": {
      "application/vnd.jupyter.widget-view+json": {
       "model_id": "6a8cbf088e284c8b920bf05630de16df",
       "version_major": 2,
       "version_minor": 0
      },
      "text/plain": [
       "Evaluation episodes:   0%|          | 0/3 [00:00<?, ?it/s]"
      ]
     },
     "metadata": {},
     "output_type": "display_data"
    },
    {
     "data": {
      "application/vnd.jupyter.widget-view+json": {
       "model_id": "50105074599b41f0a373c515bd916322",
       "version_major": 2,
       "version_minor": 0
      },
      "text/plain": [
       "Evaluation episodes:   0%|          | 0/3 [00:00<?, ?it/s]"
      ]
     },
     "metadata": {},
     "output_type": "display_data"
    },
    {
     "data": {
      "application/vnd.jupyter.widget-view+json": {
       "model_id": "b01f6ca3bc634444b86caa1aaa54dd7b",
       "version_major": 2,
       "version_minor": 0
      },
      "text/plain": [
       "Evaluation episodes:   0%|          | 0/3 [00:00<?, ?it/s]"
      ]
     },
     "metadata": {},
     "output_type": "display_data"
    },
    {
     "data": {
      "application/vnd.jupyter.widget-view+json": {
       "model_id": "0882895fdf174be9b4161b1c8d456b55",
       "version_major": 2,
       "version_minor": 0
      },
      "text/plain": [
       "Evaluation episodes:   0%|          | 0/3 [00:00<?, ?it/s]"
      ]
     },
     "metadata": {},
     "output_type": "display_data"
    },
    {
     "data": {
      "application/vnd.jupyter.widget-view+json": {
       "model_id": "2b3bf8f76cb54503b79a4748f9db72f5",
       "version_major": 2,
       "version_minor": 0
      },
      "text/plain": [
       "Evaluation episodes:   0%|          | 0/3 [00:00<?, ?it/s]"
      ]
     },
     "metadata": {},
     "output_type": "display_data"
    },
    {
     "data": {
      "application/vnd.jupyter.widget-view+json": {
       "model_id": "e14d813ab72b4fffa3a5e1db827299d3",
       "version_major": 2,
       "version_minor": 0
      },
      "text/plain": [
       "Evaluation episodes:   0%|          | 0/3 [00:00<?, ?it/s]"
      ]
     },
     "metadata": {},
     "output_type": "display_data"
    },
    {
     "data": {
      "application/vnd.jupyter.widget-view+json": {
       "model_id": "fe7a6535b02140dab824316f0283d215",
       "version_major": 2,
       "version_minor": 0
      },
      "text/plain": [
       "Evaluation episodes:   0%|          | 0/3 [00:00<?, ?it/s]"
      ]
     },
     "metadata": {},
     "output_type": "display_data"
    }
   ],
   "source": [
    "# | hide\n",
    "optimized_maskable_ppo_agent = MaskablePPOAgent(\n",
    "    render_mode=\"human\", env_config=ENV_CONFIG, name=\"OptimizedMaskablePPOAgent\"\n",
    ")\n",
    "optimized_maskable_ppo_agent.optimize()\n",
    "\n",
    "optimized_maskable_ppo_agent.export_hyperparameters(\n",
    "    f\"{optimized_maskable_ppo_agent.name}.yaml\"\n",
    ")\n",
    "\n",
    "\n",
    "training_data_per_agent[optimized_maskable_ppo_agent.name] = (\n",
    "    optimized_maskable_ppo_agent.train()\n",
    ")\n",
    "\n",
    "optimized_maskable_ppo_agent.save_model(f\"{optimized_maskable_ppo_agent.name}.model\")\n",
    "\n",
    "evaluation_data_per_agent[optimized_maskable_ppo_agent.name] = (\n",
    "    optimized_maskable_ppo_agent.evaluate()\n",
    ")"
   ]
  },
  {
   "cell_type": "markdown",
   "metadata": {},
   "source": "### Adding expert knowledge to the masking function making learning more efficient"
  },
  {
   "cell_type": "code",
   "execution_count": null,
   "metadata": {},
   "outputs": [],
   "source": [
    "# | export\n",
    "\n",
    "\n",
    "def is_action_safe(self, action: int) -> bool:\n",
    "    charge_amount = self._charge_amount(action)\n",
    "    target_state_of_charge = self._current_state_of_charge + charge_amount\n",
    "    low, high = self._battery_safe_range\n",
    "    return high > target_state_of_charge > low\n",
    "\n",
    "\n",
    "def expert_knowledge_action_masks(self) -> np.ndarray:\n",
    "    mask = np.array(\n",
    "        [\n",
    "            self._is_action_valid(action) and self.is_action_safe(action)\n",
    "            for action in range(self.action_space.n)\n",
    "        ],\n",
    "        dtype=bool,\n",
    "    )\n",
    "    if not np.any(mask):  # If all actions are invalid, force one to be valid\n",
    "        mask[len(mask) // 2] = True\n",
    "    return mask"
   ]
  },
  {
   "cell_type": "code",
   "execution_count": null,
   "metadata": {},
   "outputs": [],
   "source": [
    "# | hide\n",
    "# Dynamically overriding action_masks to ElectricityMarketEnv\n",
    "setattr(ElectricityMarketEnv, \"action_masks\", expert_knowledge_action_masks)\n",
    "# Dynamically overriding injection is_action_safe to ElectricityMarketEnv\n",
    "setattr(ElectricityMarketEnv, \"is_action_safe\", is_action_safe)"
   ]
  },
  {
   "cell_type": "markdown",
   "metadata": {},
   "source": [
    "\n",
    "\n",
    "### Evaluation MaskableRandomAgent with Expert Knowledge on ElectricityMarketEnv"
   ]
  },
  {
   "cell_type": "code",
   "execution_count": null,
   "metadata": {},
   "outputs": [
    {
     "data": {
      "application/vnd.jupyter.widget-view+json": {
       "model_id": "fc5195a1bbbb44038b00391bdcd10b25",
       "version_major": 2,
       "version_minor": 0
      },
      "text/plain": [
       "seeds:   0%|          | 0/30 [00:00<?, ?it/s]"
      ]
     },
     "metadata": {},
     "output_type": "display_data"
    },
    {
     "data": {
      "application/vnd.jupyter.widget-view+json": {
       "model_id": "8a2096aee9c74067b57ec9228ff9e0be",
       "version_major": 2,
       "version_minor": 0
      },
      "text/plain": [
       "episodes:   0%|          | 0/3 [00:00<?, ?it/s]"
      ]
     },
     "metadata": {},
     "output_type": "display_data"
    },
    {
     "data": {
      "application/vnd.jupyter.widget-view+json": {
       "model_id": "36bfaadea42b45eda10360f3842d3012",
       "version_major": 2,
       "version_minor": 0
      },
      "text/plain": [
       "episodes:   0%|          | 0/3 [00:00<?, ?it/s]"
      ]
     },
     "metadata": {},
     "output_type": "display_data"
    },
    {
     "data": {
      "application/vnd.jupyter.widget-view+json": {
       "model_id": "993e9ca7772e474cb01cfce111f52f92",
       "version_major": 2,
       "version_minor": 0
      },
      "text/plain": [
       "episodes:   0%|          | 0/3 [00:00<?, ?it/s]"
      ]
     },
     "metadata": {},
     "output_type": "display_data"
    },
    {
     "data": {
      "application/vnd.jupyter.widget-view+json": {
       "model_id": "5923b9f7b17c4cdb9fa3fdba1d304f9c",
       "version_major": 2,
       "version_minor": 0
      },
      "text/plain": [
       "episodes:   0%|          | 0/3 [00:00<?, ?it/s]"
      ]
     },
     "metadata": {},
     "output_type": "display_data"
    },
    {
     "data": {
      "application/vnd.jupyter.widget-view+json": {
       "model_id": "5e6d4eb8486540c59fc05bfbfb8a838f",
       "version_major": 2,
       "version_minor": 0
      },
      "text/plain": [
       "episodes:   0%|          | 0/3 [00:00<?, ?it/s]"
      ]
     },
     "metadata": {},
     "output_type": "display_data"
    },
    {
     "data": {
      "application/vnd.jupyter.widget-view+json": {
       "model_id": "a9072b5c1b42457b8e02fffd4e6d9358",
       "version_major": 2,
       "version_minor": 0
      },
      "text/plain": [
       "episodes:   0%|          | 0/3 [00:00<?, ?it/s]"
      ]
     },
     "metadata": {},
     "output_type": "display_data"
    },
    {
     "data": {
      "application/vnd.jupyter.widget-view+json": {
       "model_id": "491e084c4e5e44e5b9d4b48253e75991",
       "version_major": 2,
       "version_minor": 0
      },
      "text/plain": [
       "episodes:   0%|          | 0/3 [00:00<?, ?it/s]"
      ]
     },
     "metadata": {},
     "output_type": "display_data"
    },
    {
     "data": {
      "application/vnd.jupyter.widget-view+json": {
       "model_id": "3dbd374890f74b07a4c55b3f7e32095e",
       "version_major": 2,
       "version_minor": 0
      },
      "text/plain": [
       "episodes:   0%|          | 0/3 [00:00<?, ?it/s]"
      ]
     },
     "metadata": {},
     "output_type": "display_data"
    },
    {
     "data": {
      "application/vnd.jupyter.widget-view+json": {
       "model_id": "721d49e36e2f4a7ba90bca13af276f43",
       "version_major": 2,
       "version_minor": 0
      },
      "text/plain": [
       "episodes:   0%|          | 0/3 [00:00<?, ?it/s]"
      ]
     },
     "metadata": {},
     "output_type": "display_data"
    },
    {
     "data": {
      "application/vnd.jupyter.widget-view+json": {
       "model_id": "6853599ede684542b9bf93d93725f23e",
       "version_major": 2,
       "version_minor": 0
      },
      "text/plain": [
       "episodes:   0%|          | 0/3 [00:00<?, ?it/s]"
      ]
     },
     "metadata": {},
     "output_type": "display_data"
    },
    {
     "data": {
      "application/vnd.jupyter.widget-view+json": {
       "model_id": "cd86a613f76b43c085d38b2607b2959d",
       "version_major": 2,
       "version_minor": 0
      },
      "text/plain": [
       "episodes:   0%|          | 0/3 [00:00<?, ?it/s]"
      ]
     },
     "metadata": {},
     "output_type": "display_data"
    },
    {
     "data": {
      "application/vnd.jupyter.widget-view+json": {
       "model_id": "4abdfe89e00c478aad8f1d90607c8b2c",
       "version_major": 2,
       "version_minor": 0
      },
      "text/plain": [
       "episodes:   0%|          | 0/3 [00:00<?, ?it/s]"
      ]
     },
     "metadata": {},
     "output_type": "display_data"
    },
    {
     "data": {
      "application/vnd.jupyter.widget-view+json": {
       "model_id": "ad811bc416354a9c9499a03c076f7859",
       "version_major": 2,
       "version_minor": 0
      },
      "text/plain": [
       "episodes:   0%|          | 0/3 [00:00<?, ?it/s]"
      ]
     },
     "metadata": {},
     "output_type": "display_data"
    },
    {
     "data": {
      "application/vnd.jupyter.widget-view+json": {
       "model_id": "a46a9dbfe4d3466f964b9f776d2afac2",
       "version_major": 2,
       "version_minor": 0
      },
      "text/plain": [
       "episodes:   0%|          | 0/3 [00:00<?, ?it/s]"
      ]
     },
     "metadata": {},
     "output_type": "display_data"
    },
    {
     "data": {
      "application/vnd.jupyter.widget-view+json": {
       "model_id": "1a5b1aacd8af427f90e1d80db7505867",
       "version_major": 2,
       "version_minor": 0
      },
      "text/plain": [
       "episodes:   0%|          | 0/3 [00:00<?, ?it/s]"
      ]
     },
     "metadata": {},
     "output_type": "display_data"
    },
    {
     "data": {
      "application/vnd.jupyter.widget-view+json": {
       "model_id": "d9f73d67e07c4ad88a7f8105d6e96822",
       "version_major": 2,
       "version_minor": 0
      },
      "text/plain": [
       "episodes:   0%|          | 0/3 [00:00<?, ?it/s]"
      ]
     },
     "metadata": {},
     "output_type": "display_data"
    },
    {
     "data": {
      "application/vnd.jupyter.widget-view+json": {
       "model_id": "7f084bca87dd41c58947bf9bcd5584c1",
       "version_major": 2,
       "version_minor": 0
      },
      "text/plain": [
       "episodes:   0%|          | 0/3 [00:00<?, ?it/s]"
      ]
     },
     "metadata": {},
     "output_type": "display_data"
    },
    {
     "data": {
      "application/vnd.jupyter.widget-view+json": {
       "model_id": "45ad5ee71a354968b493edf8ae812c01",
       "version_major": 2,
       "version_minor": 0
      },
      "text/plain": [
       "episodes:   0%|          | 0/3 [00:00<?, ?it/s]"
      ]
     },
     "metadata": {},
     "output_type": "display_data"
    },
    {
     "data": {
      "application/vnd.jupyter.widget-view+json": {
       "model_id": "5441ea775cd3448d9a07c89b146b9a0c",
       "version_major": 2,
       "version_minor": 0
      },
      "text/plain": [
       "episodes:   0%|          | 0/3 [00:00<?, ?it/s]"
      ]
     },
     "metadata": {},
     "output_type": "display_data"
    },
    {
     "data": {
      "application/vnd.jupyter.widget-view+json": {
       "model_id": "9123c6eb40664e0baa8863398e46c4e3",
       "version_major": 2,
       "version_minor": 0
      },
      "text/plain": [
       "episodes:   0%|          | 0/3 [00:00<?, ?it/s]"
      ]
     },
     "metadata": {},
     "output_type": "display_data"
    },
    {
     "data": {
      "application/vnd.jupyter.widget-view+json": {
       "model_id": "f423a3d1a3f24abaadbd7641507b1199",
       "version_major": 2,
       "version_minor": 0
      },
      "text/plain": [
       "episodes:   0%|          | 0/3 [00:00<?, ?it/s]"
      ]
     },
     "metadata": {},
     "output_type": "display_data"
    },
    {
     "data": {
      "application/vnd.jupyter.widget-view+json": {
       "model_id": "58023ccf77d64b1a8d59b91b88a2d7eb",
       "version_major": 2,
       "version_minor": 0
      },
      "text/plain": [
       "episodes:   0%|          | 0/3 [00:00<?, ?it/s]"
      ]
     },
     "metadata": {},
     "output_type": "display_data"
    },
    {
     "data": {
      "application/vnd.jupyter.widget-view+json": {
       "model_id": "2b8098c7e92a4b798a721e269b9aaebd",
       "version_major": 2,
       "version_minor": 0
      },
      "text/plain": [
       "episodes:   0%|          | 0/3 [00:00<?, ?it/s]"
      ]
     },
     "metadata": {},
     "output_type": "display_data"
    },
    {
     "data": {
      "application/vnd.jupyter.widget-view+json": {
       "model_id": "90ca3c9ebd294bbd9f92daa87e6e0d3d",
       "version_major": 2,
       "version_minor": 0
      },
      "text/plain": [
       "episodes:   0%|          | 0/3 [00:00<?, ?it/s]"
      ]
     },
     "metadata": {},
     "output_type": "display_data"
    },
    {
     "data": {
      "application/vnd.jupyter.widget-view+json": {
       "model_id": "d18c49b3db0041949e88b0305db6c98e",
       "version_major": 2,
       "version_minor": 0
      },
      "text/plain": [
       "episodes:   0%|          | 0/3 [00:00<?, ?it/s]"
      ]
     },
     "metadata": {},
     "output_type": "display_data"
    },
    {
     "data": {
      "application/vnd.jupyter.widget-view+json": {
       "model_id": "f63eb5761ad84a6f815574c0c829ccce",
       "version_major": 2,
       "version_minor": 0
      },
      "text/plain": [
       "episodes:   0%|          | 0/3 [00:00<?, ?it/s]"
      ]
     },
     "metadata": {},
     "output_type": "display_data"
    },
    {
     "data": {
      "application/vnd.jupyter.widget-view+json": {
       "model_id": "33466472238b449e8ab6db715977b787",
       "version_major": 2,
       "version_minor": 0
      },
      "text/plain": [
       "episodes:   0%|          | 0/3 [00:00<?, ?it/s]"
      ]
     },
     "metadata": {},
     "output_type": "display_data"
    },
    {
     "data": {
      "application/vnd.jupyter.widget-view+json": {
       "model_id": "bfef081fbf8a47bfb03e1ef8105c5ba0",
       "version_major": 2,
       "version_minor": 0
      },
      "text/plain": [
       "episodes:   0%|          | 0/3 [00:00<?, ?it/s]"
      ]
     },
     "metadata": {},
     "output_type": "display_data"
    },
    {
     "data": {
      "application/vnd.jupyter.widget-view+json": {
       "model_id": "cc43e5c43f01499e9bbd5a5f4e2e2fb8",
       "version_major": 2,
       "version_minor": 0
      },
      "text/plain": [
       "episodes:   0%|          | 0/3 [00:00<?, ?it/s]"
      ]
     },
     "metadata": {},
     "output_type": "display_data"
    },
    {
     "data": {
      "application/vnd.jupyter.widget-view+json": {
       "model_id": "b2304bad49f240d19a86d6093dc40edb",
       "version_major": 2,
       "version_minor": 0
      },
      "text/plain": [
       "episodes:   0%|          | 0/3 [00:00<?, ?it/s]"
      ]
     },
     "metadata": {},
     "output_type": "display_data"
    }
   ],
   "source": [
    "# | hide\n",
    "expert_maskable_random_agent = MaskableRandomAgent(\n",
    "    render_mode=\"human\", env_config=ENV_CONFIG, name=\"ExpertMaskableRandomAgent\"\n",
    ")\n",
    "\n",
    "evaluation_data_per_agent[expert_maskable_random_agent.name] = (\n",
    "    expert_maskable_random_agent.evaluate()\n",
    ")"
   ]
  },
  {
   "cell_type": "markdown",
   "metadata": {},
   "source": "### Evaluation MaskablePPO with default hyperparameters and Expert Knowledge on ElectricityMarketEnv"
  },
  {
   "cell_type": "code",
   "execution_count": null,
   "metadata": {},
   "outputs": [
    {
     "data": {
      "application/vnd.jupyter.widget-view+json": {
       "model_id": "d05d2f7d8f234d49a6833587a1a7da84",
       "version_major": 2,
       "version_minor": 0
      },
      "text/plain": [
       "seeds:   0%|          | 0/30 [00:00<?, ?it/s]"
      ]
     },
     "metadata": {},
     "output_type": "display_data"
    },
    {
     "data": {
      "application/vnd.jupyter.widget-view+json": {
       "model_id": "cfb5a051bb5c41c099a13dfb3fe72937",
       "version_major": 2,
       "version_minor": 0
      },
      "text/plain": [
       "Training episodes:   0%|          | 0/3 [00:00<?, ?it/s]"
      ]
     },
     "metadata": {},
     "output_type": "display_data"
    },
    {
     "data": {
      "application/vnd.jupyter.widget-view+json": {
       "model_id": "0c2a633a56ca4beca4a18be67a355475",
       "version_major": 2,
       "version_minor": 0
      },
      "text/plain": [
       "Training episodes:   0%|          | 0/3 [00:00<?, ?it/s]"
      ]
     },
     "metadata": {},
     "output_type": "display_data"
    },
    {
     "data": {
      "application/vnd.jupyter.widget-view+json": {
       "model_id": "f4918a511a764493b624af271aa6725b",
       "version_major": 2,
       "version_minor": 0
      },
      "text/plain": [
       "Training episodes:   0%|          | 0/3 [00:00<?, ?it/s]"
      ]
     },
     "metadata": {},
     "output_type": "display_data"
    },
    {
     "data": {
      "application/vnd.jupyter.widget-view+json": {
       "model_id": "4d1895df580846d1b369a77d09fda392",
       "version_major": 2,
       "version_minor": 0
      },
      "text/plain": [
       "Training episodes:   0%|          | 0/3 [00:00<?, ?it/s]"
      ]
     },
     "metadata": {},
     "output_type": "display_data"
    },
    {
     "data": {
      "application/vnd.jupyter.widget-view+json": {
       "model_id": "6e403b43b9e446ac9900f535a5254e38",
       "version_major": 2,
       "version_minor": 0
      },
      "text/plain": [
       "Training episodes:   0%|          | 0/3 [00:00<?, ?it/s]"
      ]
     },
     "metadata": {},
     "output_type": "display_data"
    },
    {
     "data": {
      "application/vnd.jupyter.widget-view+json": {
       "model_id": "d313d93933eb4b329ff0df2ddd635fc5",
       "version_major": 2,
       "version_minor": 0
      },
      "text/plain": [
       "Training episodes:   0%|          | 0/3 [00:00<?, ?it/s]"
      ]
     },
     "metadata": {},
     "output_type": "display_data"
    },
    {
     "data": {
      "application/vnd.jupyter.widget-view+json": {
       "model_id": "08afef8042c84cdbb7c562dd883a79a6",
       "version_major": 2,
       "version_minor": 0
      },
      "text/plain": [
       "Training episodes:   0%|          | 0/3 [00:00<?, ?it/s]"
      ]
     },
     "metadata": {},
     "output_type": "display_data"
    },
    {
     "data": {
      "application/vnd.jupyter.widget-view+json": {
       "model_id": "718ea18b699e4b05af45ff556f713183",
       "version_major": 2,
       "version_minor": 0
      },
      "text/plain": [
       "Training episodes:   0%|          | 0/3 [00:00<?, ?it/s]"
      ]
     },
     "metadata": {},
     "output_type": "display_data"
    },
    {
     "data": {
      "application/vnd.jupyter.widget-view+json": {
       "model_id": "2257f68904c845bb874fbf946790cdc0",
       "version_major": 2,
       "version_minor": 0
      },
      "text/plain": [
       "Training episodes:   0%|          | 0/3 [00:00<?, ?it/s]"
      ]
     },
     "metadata": {},
     "output_type": "display_data"
    },
    {
     "data": {
      "application/vnd.jupyter.widget-view+json": {
       "model_id": "bb73e1576d4342d7972b5119c04104a9",
       "version_major": 2,
       "version_minor": 0
      },
      "text/plain": [
       "Training episodes:   0%|          | 0/3 [00:00<?, ?it/s]"
      ]
     },
     "metadata": {},
     "output_type": "display_data"
    },
    {
     "data": {
      "application/vnd.jupyter.widget-view+json": {
       "model_id": "bc67e87ea4714d65a25f54c342513cb9",
       "version_major": 2,
       "version_minor": 0
      },
      "text/plain": [
       "Training episodes:   0%|          | 0/3 [00:00<?, ?it/s]"
      ]
     },
     "metadata": {},
     "output_type": "display_data"
    },
    {
     "data": {
      "application/vnd.jupyter.widget-view+json": {
       "model_id": "7a2c5ea78d274c37989e42f86e672340",
       "version_major": 2,
       "version_minor": 0
      },
      "text/plain": [
       "Training episodes:   0%|          | 0/3 [00:00<?, ?it/s]"
      ]
     },
     "metadata": {},
     "output_type": "display_data"
    },
    {
     "data": {
      "application/vnd.jupyter.widget-view+json": {
       "model_id": "e4977dcb4204489cac76598c58db1cbc",
       "version_major": 2,
       "version_minor": 0
      },
      "text/plain": [
       "Training episodes:   0%|          | 0/3 [00:00<?, ?it/s]"
      ]
     },
     "metadata": {},
     "output_type": "display_data"
    },
    {
     "data": {
      "application/vnd.jupyter.widget-view+json": {
       "model_id": "f68dbc4b45384329a61fd903c2aeac67",
       "version_major": 2,
       "version_minor": 0
      },
      "text/plain": [
       "Training episodes:   0%|          | 0/3 [00:00<?, ?it/s]"
      ]
     },
     "metadata": {},
     "output_type": "display_data"
    },
    {
     "data": {
      "application/vnd.jupyter.widget-view+json": {
       "model_id": "3440ba61feff4d2389d6f493a6c88893",
       "version_major": 2,
       "version_minor": 0
      },
      "text/plain": [
       "Training episodes:   0%|          | 0/3 [00:00<?, ?it/s]"
      ]
     },
     "metadata": {},
     "output_type": "display_data"
    },
    {
     "data": {
      "application/vnd.jupyter.widget-view+json": {
       "model_id": "713c108b7a684a63bfccbcf71a715201",
       "version_major": 2,
       "version_minor": 0
      },
      "text/plain": [
       "Training episodes:   0%|          | 0/3 [00:00<?, ?it/s]"
      ]
     },
     "metadata": {},
     "output_type": "display_data"
    },
    {
     "data": {
      "application/vnd.jupyter.widget-view+json": {
       "model_id": "bde206bc93ed4243b34be44b91eca258",
       "version_major": 2,
       "version_minor": 0
      },
      "text/plain": [
       "Training episodes:   0%|          | 0/3 [00:00<?, ?it/s]"
      ]
     },
     "metadata": {},
     "output_type": "display_data"
    },
    {
     "data": {
      "application/vnd.jupyter.widget-view+json": {
       "model_id": "144a9256670146ddaa8a413b1ba78575",
       "version_major": 2,
       "version_minor": 0
      },
      "text/plain": [
       "Training episodes:   0%|          | 0/3 [00:00<?, ?it/s]"
      ]
     },
     "metadata": {},
     "output_type": "display_data"
    },
    {
     "data": {
      "application/vnd.jupyter.widget-view+json": {
       "model_id": "1b8c94b112d1461e9b5ad364235f3f04",
       "version_major": 2,
       "version_minor": 0
      },
      "text/plain": [
       "Training episodes:   0%|          | 0/3 [00:00<?, ?it/s]"
      ]
     },
     "metadata": {},
     "output_type": "display_data"
    },
    {
     "data": {
      "application/vnd.jupyter.widget-view+json": {
       "model_id": "1806cb5912a74bd6904dde5a39f2cb7b",
       "version_major": 2,
       "version_minor": 0
      },
      "text/plain": [
       "Training episodes:   0%|          | 0/3 [00:00<?, ?it/s]"
      ]
     },
     "metadata": {},
     "output_type": "display_data"
    },
    {
     "data": {
      "application/vnd.jupyter.widget-view+json": {
       "model_id": "8c6410dd81184256b3412f641cf4fafe",
       "version_major": 2,
       "version_minor": 0
      },
      "text/plain": [
       "Training episodes:   0%|          | 0/3 [00:00<?, ?it/s]"
      ]
     },
     "metadata": {},
     "output_type": "display_data"
    },
    {
     "data": {
      "application/vnd.jupyter.widget-view+json": {
       "model_id": "11d654e03ddf4d61b233f368661bb25e",
       "version_major": 2,
       "version_minor": 0
      },
      "text/plain": [
       "Training episodes:   0%|          | 0/3 [00:00<?, ?it/s]"
      ]
     },
     "metadata": {},
     "output_type": "display_data"
    },
    {
     "data": {
      "application/vnd.jupyter.widget-view+json": {
       "model_id": "e04e9153349141c8bb77e8bc073b2a8f",
       "version_major": 2,
       "version_minor": 0
      },
      "text/plain": [
       "Training episodes:   0%|          | 0/3 [00:00<?, ?it/s]"
      ]
     },
     "metadata": {},
     "output_type": "display_data"
    },
    {
     "data": {
      "application/vnd.jupyter.widget-view+json": {
       "model_id": "c3c696d64d274985a7ea4c3ca4addb01",
       "version_major": 2,
       "version_minor": 0
      },
      "text/plain": [
       "Training episodes:   0%|          | 0/3 [00:00<?, ?it/s]"
      ]
     },
     "metadata": {},
     "output_type": "display_data"
    },
    {
     "data": {
      "application/vnd.jupyter.widget-view+json": {
       "model_id": "e4c67c1fdbb14c29a26904d09fafeefb",
       "version_major": 2,
       "version_minor": 0
      },
      "text/plain": [
       "Training episodes:   0%|          | 0/3 [00:00<?, ?it/s]"
      ]
     },
     "metadata": {},
     "output_type": "display_data"
    },
    {
     "data": {
      "application/vnd.jupyter.widget-view+json": {
       "model_id": "994ef1b367314336bbd6f1d2220c2beb",
       "version_major": 2,
       "version_minor": 0
      },
      "text/plain": [
       "Training episodes:   0%|          | 0/3 [00:00<?, ?it/s]"
      ]
     },
     "metadata": {},
     "output_type": "display_data"
    },
    {
     "data": {
      "application/vnd.jupyter.widget-view+json": {
       "model_id": "808814508c74470b9af45bf762214fea",
       "version_major": 2,
       "version_minor": 0
      },
      "text/plain": [
       "Training episodes:   0%|          | 0/3 [00:00<?, ?it/s]"
      ]
     },
     "metadata": {},
     "output_type": "display_data"
    },
    {
     "data": {
      "application/vnd.jupyter.widget-view+json": {
       "model_id": "22f3a5bd62924556806f3527be9acd2d",
       "version_major": 2,
       "version_minor": 0
      },
      "text/plain": [
       "Training episodes:   0%|          | 0/3 [00:00<?, ?it/s]"
      ]
     },
     "metadata": {},
     "output_type": "display_data"
    },
    {
     "data": {
      "application/vnd.jupyter.widget-view+json": {
       "model_id": "2f5522642ffa46999ae3fe51ea6c8284",
       "version_major": 2,
       "version_minor": 0
      },
      "text/plain": [
       "Training episodes:   0%|          | 0/3 [00:00<?, ?it/s]"
      ]
     },
     "metadata": {},
     "output_type": "display_data"
    },
    {
     "data": {
      "application/vnd.jupyter.widget-view+json": {
       "model_id": "236446be93554d4783a3ea6a613b5476",
       "version_major": 2,
       "version_minor": 0
      },
      "text/plain": [
       "Training episodes:   0%|          | 0/3 [00:00<?, ?it/s]"
      ]
     },
     "metadata": {},
     "output_type": "display_data"
    },
    {
     "data": {
      "application/vnd.jupyter.widget-view+json": {
       "model_id": "93f9c728ef48490baf8366b089e74dff",
       "version_major": 2,
       "version_minor": 0
      },
      "text/plain": [
       "seeds:   0%|          | 0/30 [00:00<?, ?it/s]"
      ]
     },
     "metadata": {},
     "output_type": "display_data"
    },
    {
     "data": {
      "application/vnd.jupyter.widget-view+json": {
       "model_id": "1fa2cc941b2648f9abc69aa6c9905da2",
       "version_major": 2,
       "version_minor": 0
      },
      "text/plain": [
       "Evaluation episodes:   0%|          | 0/3 [00:00<?, ?it/s]"
      ]
     },
     "metadata": {},
     "output_type": "display_data"
    },
    {
     "data": {
      "application/vnd.jupyter.widget-view+json": {
       "model_id": "80bfee22b9be477fabc9d8bf240ac8b1",
       "version_major": 2,
       "version_minor": 0
      },
      "text/plain": [
       "Evaluation episodes:   0%|          | 0/3 [00:00<?, ?it/s]"
      ]
     },
     "metadata": {},
     "output_type": "display_data"
    },
    {
     "data": {
      "application/vnd.jupyter.widget-view+json": {
       "model_id": "169270952a224aa9aafa59c4a018d262",
       "version_major": 2,
       "version_minor": 0
      },
      "text/plain": [
       "Evaluation episodes:   0%|          | 0/3 [00:00<?, ?it/s]"
      ]
     },
     "metadata": {},
     "output_type": "display_data"
    },
    {
     "data": {
      "application/vnd.jupyter.widget-view+json": {
       "model_id": "b8158cc1cf3b4176a6ab62b9abcb4682",
       "version_major": 2,
       "version_minor": 0
      },
      "text/plain": [
       "Evaluation episodes:   0%|          | 0/3 [00:00<?, ?it/s]"
      ]
     },
     "metadata": {},
     "output_type": "display_data"
    },
    {
     "data": {
      "application/vnd.jupyter.widget-view+json": {
       "model_id": "2fb8da1b497043c381fea2121468951b",
       "version_major": 2,
       "version_minor": 0
      },
      "text/plain": [
       "Evaluation episodes:   0%|          | 0/3 [00:00<?, ?it/s]"
      ]
     },
     "metadata": {},
     "output_type": "display_data"
    },
    {
     "data": {
      "application/vnd.jupyter.widget-view+json": {
       "model_id": "9a4760d1d29f407cb6e642008df38687",
       "version_major": 2,
       "version_minor": 0
      },
      "text/plain": [
       "Evaluation episodes:   0%|          | 0/3 [00:00<?, ?it/s]"
      ]
     },
     "metadata": {},
     "output_type": "display_data"
    },
    {
     "data": {
      "application/vnd.jupyter.widget-view+json": {
       "model_id": "2d66f6df815e40f5b4eecf70ef540446",
       "version_major": 2,
       "version_minor": 0
      },
      "text/plain": [
       "Evaluation episodes:   0%|          | 0/3 [00:00<?, ?it/s]"
      ]
     },
     "metadata": {},
     "output_type": "display_data"
    },
    {
     "data": {
      "application/vnd.jupyter.widget-view+json": {
       "model_id": "416f47545d9a4367bdde2586144fb055",
       "version_major": 2,
       "version_minor": 0
      },
      "text/plain": [
       "Evaluation episodes:   0%|          | 0/3 [00:00<?, ?it/s]"
      ]
     },
     "metadata": {},
     "output_type": "display_data"
    },
    {
     "data": {
      "application/vnd.jupyter.widget-view+json": {
       "model_id": "aaa6730d5e96401e834e4d1d3a7c320b",
       "version_major": 2,
       "version_minor": 0
      },
      "text/plain": [
       "Evaluation episodes:   0%|          | 0/3 [00:00<?, ?it/s]"
      ]
     },
     "metadata": {},
     "output_type": "display_data"
    },
    {
     "data": {
      "application/vnd.jupyter.widget-view+json": {
       "model_id": "1166884e696a460f97d8b208545d4e07",
       "version_major": 2,
       "version_minor": 0
      },
      "text/plain": [
       "Evaluation episodes:   0%|          | 0/3 [00:00<?, ?it/s]"
      ]
     },
     "metadata": {},
     "output_type": "display_data"
    },
    {
     "data": {
      "application/vnd.jupyter.widget-view+json": {
       "model_id": "06375ccbd767477bab7d13db4f4c947e",
       "version_major": 2,
       "version_minor": 0
      },
      "text/plain": [
       "Evaluation episodes:   0%|          | 0/3 [00:00<?, ?it/s]"
      ]
     },
     "metadata": {},
     "output_type": "display_data"
    },
    {
     "data": {
      "application/vnd.jupyter.widget-view+json": {
       "model_id": "bf6091ecbf734143adfbcb5bacc1c5ce",
       "version_major": 2,
       "version_minor": 0
      },
      "text/plain": [
       "Evaluation episodes:   0%|          | 0/3 [00:00<?, ?it/s]"
      ]
     },
     "metadata": {},
     "output_type": "display_data"
    },
    {
     "data": {
      "application/vnd.jupyter.widget-view+json": {
       "model_id": "44788c5ca01f4e2c8c7cc285a003f71f",
       "version_major": 2,
       "version_minor": 0
      },
      "text/plain": [
       "Evaluation episodes:   0%|          | 0/3 [00:00<?, ?it/s]"
      ]
     },
     "metadata": {},
     "output_type": "display_data"
    },
    {
     "data": {
      "application/vnd.jupyter.widget-view+json": {
       "model_id": "215dae91b49b4589b9f011519006028b",
       "version_major": 2,
       "version_minor": 0
      },
      "text/plain": [
       "Evaluation episodes:   0%|          | 0/3 [00:00<?, ?it/s]"
      ]
     },
     "metadata": {},
     "output_type": "display_data"
    },
    {
     "data": {
      "application/vnd.jupyter.widget-view+json": {
       "model_id": "d1cdfdd3acda417e8a43d2a7e724b404",
       "version_major": 2,
       "version_minor": 0
      },
      "text/plain": [
       "Evaluation episodes:   0%|          | 0/3 [00:00<?, ?it/s]"
      ]
     },
     "metadata": {},
     "output_type": "display_data"
    },
    {
     "data": {
      "application/vnd.jupyter.widget-view+json": {
       "model_id": "6ff9f4b1a89948cdae7acd5dc29bce98",
       "version_major": 2,
       "version_minor": 0
      },
      "text/plain": [
       "Evaluation episodes:   0%|          | 0/3 [00:00<?, ?it/s]"
      ]
     },
     "metadata": {},
     "output_type": "display_data"
    },
    {
     "data": {
      "application/vnd.jupyter.widget-view+json": {
       "model_id": "fa3c47620a6f40f28d023b752cdebb4b",
       "version_major": 2,
       "version_minor": 0
      },
      "text/plain": [
       "Evaluation episodes:   0%|          | 0/3 [00:00<?, ?it/s]"
      ]
     },
     "metadata": {},
     "output_type": "display_data"
    },
    {
     "data": {
      "application/vnd.jupyter.widget-view+json": {
       "model_id": "eb653be5d044483c9b70228aaf0979f9",
       "version_major": 2,
       "version_minor": 0
      },
      "text/plain": [
       "Evaluation episodes:   0%|          | 0/3 [00:00<?, ?it/s]"
      ]
     },
     "metadata": {},
     "output_type": "display_data"
    },
    {
     "data": {
      "application/vnd.jupyter.widget-view+json": {
       "model_id": "a616433b65ac487d9fd7999df8dc7eff",
       "version_major": 2,
       "version_minor": 0
      },
      "text/plain": [
       "Evaluation episodes:   0%|          | 0/3 [00:00<?, ?it/s]"
      ]
     },
     "metadata": {},
     "output_type": "display_data"
    },
    {
     "data": {
      "application/vnd.jupyter.widget-view+json": {
       "model_id": "319ee84774624ef5823a1a81a78c8169",
       "version_major": 2,
       "version_minor": 0
      },
      "text/plain": [
       "Evaluation episodes:   0%|          | 0/3 [00:00<?, ?it/s]"
      ]
     },
     "metadata": {},
     "output_type": "display_data"
    },
    {
     "data": {
      "application/vnd.jupyter.widget-view+json": {
       "model_id": "54929e4e94e3405e861885657b26280c",
       "version_major": 2,
       "version_minor": 0
      },
      "text/plain": [
       "Evaluation episodes:   0%|          | 0/3 [00:00<?, ?it/s]"
      ]
     },
     "metadata": {},
     "output_type": "display_data"
    },
    {
     "data": {
      "application/vnd.jupyter.widget-view+json": {
       "model_id": "34a9a12db43d4f3a8ef052eb8ebe4b54",
       "version_major": 2,
       "version_minor": 0
      },
      "text/plain": [
       "Evaluation episodes:   0%|          | 0/3 [00:00<?, ?it/s]"
      ]
     },
     "metadata": {},
     "output_type": "display_data"
    },
    {
     "data": {
      "application/vnd.jupyter.widget-view+json": {
       "model_id": "0fda9e132da240bdad5b26e4c82f9a75",
       "version_major": 2,
       "version_minor": 0
      },
      "text/plain": [
       "Evaluation episodes:   0%|          | 0/3 [00:00<?, ?it/s]"
      ]
     },
     "metadata": {},
     "output_type": "display_data"
    },
    {
     "data": {
      "application/vnd.jupyter.widget-view+json": {
       "model_id": "1b2318ed99fa4ec49c1935d5e93b8b99",
       "version_major": 2,
       "version_minor": 0
      },
      "text/plain": [
       "Evaluation episodes:   0%|          | 0/3 [00:00<?, ?it/s]"
      ]
     },
     "metadata": {},
     "output_type": "display_data"
    },
    {
     "data": {
      "application/vnd.jupyter.widget-view+json": {
       "model_id": "263be9141078463abef79971cb9069a7",
       "version_major": 2,
       "version_minor": 0
      },
      "text/plain": [
       "Evaluation episodes:   0%|          | 0/3 [00:00<?, ?it/s]"
      ]
     },
     "metadata": {},
     "output_type": "display_data"
    },
    {
     "data": {
      "application/vnd.jupyter.widget-view+json": {
       "model_id": "9f93655ac92c4ea0a888f2a8d5238b20",
       "version_major": 2,
       "version_minor": 0
      },
      "text/plain": [
       "Evaluation episodes:   0%|          | 0/3 [00:00<?, ?it/s]"
      ]
     },
     "metadata": {},
     "output_type": "display_data"
    },
    {
     "data": {
      "application/vnd.jupyter.widget-view+json": {
       "model_id": "591bf1f0848048bba334b87398d106c3",
       "version_major": 2,
       "version_minor": 0
      },
      "text/plain": [
       "Evaluation episodes:   0%|          | 0/3 [00:00<?, ?it/s]"
      ]
     },
     "metadata": {},
     "output_type": "display_data"
    },
    {
     "data": {
      "application/vnd.jupyter.widget-view+json": {
       "model_id": "3df65ce5cc2a4846af31d9433fb5bcf3",
       "version_major": 2,
       "version_minor": 0
      },
      "text/plain": [
       "Evaluation episodes:   0%|          | 0/3 [00:00<?, ?it/s]"
      ]
     },
     "metadata": {},
     "output_type": "display_data"
    },
    {
     "data": {
      "application/vnd.jupyter.widget-view+json": {
       "model_id": "6cf8fb44a8564ad2b73a333796d087db",
       "version_major": 2,
       "version_minor": 0
      },
      "text/plain": [
       "Evaluation episodes:   0%|          | 0/3 [00:00<?, ?it/s]"
      ]
     },
     "metadata": {},
     "output_type": "display_data"
    },
    {
     "data": {
      "application/vnd.jupyter.widget-view+json": {
       "model_id": "2dcfcb62348f451cb25416bb9fe50529",
       "version_major": 2,
       "version_minor": 0
      },
      "text/plain": [
       "Evaluation episodes:   0%|          | 0/3 [00:00<?, ?it/s]"
      ]
     },
     "metadata": {},
     "output_type": "display_data"
    }
   ],
   "source": [
    "# | hide\n",
    "expert_maskable_ppo_agent = MaskablePPOAgent(\n",
    "    render_mode=\"human\", env_config=ENV_CONFIG, name=\"ExpertMaskablePPOAgent\"\n",
    ")\n",
    "\n",
    "training_data_per_agent[expert_maskable_ppo_agent.name] = (\n",
    "    expert_maskable_ppo_agent.train()\n",
    ")\n",
    "\n",
    "expert_maskable_ppo_agent.save_model(f\"{expert_maskable_ppo_agent.name}.model\")\n",
    "\n",
    "evaluation_data_per_agent[expert_maskable_ppo_agent.name] = (\n",
    "    expert_maskable_ppo_agent.evaluate()\n",
    ")"
   ]
  },
  {
   "cell_type": "markdown",
   "metadata": {},
   "source": "### Evaluation MaskablePPO with optimized hyperparameters and Expert Knowledge on ElectricityMarketEnv\n"
  },
  {
   "cell_type": "code",
   "execution_count": null,
   "metadata": {},
   "outputs": [
    {
     "name": "stderr",
     "output_type": "stream",
     "text": [
      "[I 2025-02-25 14:46:00,405] A new study created in RDB with name: OptimizedExpertMaskablePPOAgent\n"
     ]
    },
    {
     "data": {
      "application/vnd.jupyter.widget-view+json": {
       "model_id": "82f918b003224aab9ef7da297fc3593d",
       "version_major": 2,
       "version_minor": 0
      },
      "text/plain": [
       "  0%|          | 0/10 [00:00<?, ?it/s]"
      ]
     },
     "metadata": {},
     "output_type": "display_data"
    },
    {
     "data": {
      "application/vnd.jupyter.widget-view+json": {
       "model_id": "2534799ebfce422ba288fac361898ee9",
       "version_major": 2,
       "version_minor": 0
      },
      "text/plain": [
       "seeds:   0%|          | 0/30 [00:00<?, ?it/s]"
      ]
     },
     "metadata": {},
     "output_type": "display_data"
    },
    {
     "data": {
      "application/vnd.jupyter.widget-view+json": {
       "model_id": "385062e3e629452ba9d418bea53a3467",
       "version_major": 2,
       "version_minor": 0
      },
      "text/plain": [
       "Collect episodes:   0%|          | 0/3 [00:00<?, ?it/s]"
      ]
     },
     "metadata": {},
     "output_type": "display_data"
    },
    {
     "data": {
      "application/vnd.jupyter.widget-view+json": {
       "model_id": "7439c800d47048eb8f4d5f89991bb373",
       "version_major": 2,
       "version_minor": 0
      },
      "text/plain": [
       "seeds:   0%|          | 0/30 [00:00<?, ?it/s]"
      ]
     },
     "metadata": {},
     "output_type": "display_data"
    },
    {
     "data": {
      "application/vnd.jupyter.widget-view+json": {
       "model_id": "c7c8c2f759d2417abd6111ec3694dd1f",
       "version_major": 2,
       "version_minor": 0
      },
      "text/plain": [
       "Collect episodes:   0%|          | 0/3 [00:00<?, ?it/s]"
      ]
     },
     "metadata": {},
     "output_type": "display_data"
    },
    {
     "data": {
      "application/vnd.jupyter.widget-view+json": {
       "model_id": "893579cb88aa400ebf00ed10a9201417",
       "version_major": 2,
       "version_minor": 0
      },
      "text/plain": [
       "seeds:   0%|          | 0/30 [00:00<?, ?it/s]"
      ]
     },
     "metadata": {},
     "output_type": "display_data"
    },
    {
     "data": {
      "application/vnd.jupyter.widget-view+json": {
       "model_id": "03d52fed5a3e4e7b84578b0415f9358e",
       "version_major": 2,
       "version_minor": 0
      },
      "text/plain": [
       "Collect episodes:   0%|          | 0/3 [00:00<?, ?it/s]"
      ]
     },
     "metadata": {},
     "output_type": "display_data"
    },
    {
     "data": {
      "application/vnd.jupyter.widget-view+json": {
       "model_id": "f464a1d9ae464ccaa72901e7574e7ac0",
       "version_major": 2,
       "version_minor": 0
      },
      "text/plain": [
       "seeds:   0%|          | 0/30 [00:00<?, ?it/s]"
      ]
     },
     "metadata": {},
     "output_type": "display_data"
    },
    {
     "data": {
      "application/vnd.jupyter.widget-view+json": {
       "model_id": "b7de2840180041fb89fa85a2282b9566",
       "version_major": 2,
       "version_minor": 0
      },
      "text/plain": [
       "Collect episodes:   0%|          | 0/3 [00:00<?, ?it/s]"
      ]
     },
     "metadata": {},
     "output_type": "display_data"
    },
    {
     "data": {
      "application/vnd.jupyter.widget-view+json": {
       "model_id": "f1e6b94f1bd54f2d87bb8e4dd2d2077a",
       "version_major": 2,
       "version_minor": 0
      },
      "text/plain": [
       "seeds:   0%|          | 0/30 [00:00<?, ?it/s]"
      ]
     },
     "metadata": {},
     "output_type": "display_data"
    },
    {
     "data": {
      "application/vnd.jupyter.widget-view+json": {
       "model_id": "3d7574fc74d24986986f9f466030865c",
       "version_major": 2,
       "version_minor": 0
      },
      "text/plain": [
       "Collect episodes:   0%|          | 0/3 [00:00<?, ?it/s]"
      ]
     },
     "metadata": {},
     "output_type": "display_data"
    },
    {
     "data": {
      "application/vnd.jupyter.widget-view+json": {
       "model_id": "6ed8df1d2b0d4f96bc4f8ea93b73d58e",
       "version_major": 2,
       "version_minor": 0
      },
      "text/plain": [
       "seeds:   0%|          | 0/30 [00:00<?, ?it/s]"
      ]
     },
     "metadata": {},
     "output_type": "display_data"
    },
    {
     "data": {
      "application/vnd.jupyter.widget-view+json": {
       "model_id": "eae0f276312f46acb43a2f24d24065d7",
       "version_major": 2,
       "version_minor": 0
      },
      "text/plain": [
       "Collect episodes:   0%|          | 0/3 [00:00<?, ?it/s]"
      ]
     },
     "metadata": {},
     "output_type": "display_data"
    },
    {
     "data": {
      "application/vnd.jupyter.widget-view+json": {
       "model_id": "003a68f4294d4428aff231f5227c10ca",
       "version_major": 2,
       "version_minor": 0
      },
      "text/plain": [
       "seeds:   0%|          | 0/30 [00:00<?, ?it/s]"
      ]
     },
     "metadata": {},
     "output_type": "display_data"
    },
    {
     "data": {
      "application/vnd.jupyter.widget-view+json": {
       "model_id": "91617b7ce1bb4150a8ee1cb6517c8569",
       "version_major": 2,
       "version_minor": 0
      },
      "text/plain": [
       "Collect episodes:   0%|          | 0/3 [00:00<?, ?it/s]"
      ]
     },
     "metadata": {},
     "output_type": "display_data"
    },
    {
     "data": {
      "application/vnd.jupyter.widget-view+json": {
       "model_id": "1d3a36b6f5df4195b556fa5d34c373e6",
       "version_major": 2,
       "version_minor": 0
      },
      "text/plain": [
       "Collect episodes:   0%|          | 0/3 [00:00<?, ?it/s]"
      ]
     },
     "metadata": {},
     "output_type": "display_data"
    },
    {
     "data": {
      "application/vnd.jupyter.widget-view+json": {
       "model_id": "85a41281168345d38ee896d76b2a8085",
       "version_major": 2,
       "version_minor": 0
      },
      "text/plain": [
       "Collect episodes:   0%|          | 0/3 [00:00<?, ?it/s]"
      ]
     },
     "metadata": {},
     "output_type": "display_data"
    },
    {
     "data": {
      "application/vnd.jupyter.widget-view+json": {
       "model_id": "0c98c343ba3547a59a93edc06feb2bf3",
       "version_major": 2,
       "version_minor": 0
      },
      "text/plain": [
       "seeds:   0%|          | 0/30 [00:00<?, ?it/s]"
      ]
     },
     "metadata": {},
     "output_type": "display_data"
    },
    {
     "data": {
      "application/vnd.jupyter.widget-view+json": {
       "model_id": "9334872662184e9a83314615cc56e878",
       "version_major": 2,
       "version_minor": 0
      },
      "text/plain": [
       "Collect episodes:   0%|          | 0/3 [00:00<?, ?it/s]"
      ]
     },
     "metadata": {},
     "output_type": "display_data"
    },
    {
     "data": {
      "application/vnd.jupyter.widget-view+json": {
       "model_id": "2a83f8b9f6e940d08296501ab8ffef0a",
       "version_major": 2,
       "version_minor": 0
      },
      "text/plain": [
       "Collect episodes:   0%|          | 0/3 [00:00<?, ?it/s]"
      ]
     },
     "metadata": {},
     "output_type": "display_data"
    },
    {
     "data": {
      "application/vnd.jupyter.widget-view+json": {
       "model_id": "a47054dacd5549d2abb715cab7a12623",
       "version_major": 2,
       "version_minor": 0
      },
      "text/plain": [
       "Collect episodes:   0%|          | 0/3 [00:00<?, ?it/s]"
      ]
     },
     "metadata": {},
     "output_type": "display_data"
    },
    {
     "data": {
      "application/vnd.jupyter.widget-view+json": {
       "model_id": "bb2a7a43e8d2400f868b8884a37bd713",
       "version_major": 2,
       "version_minor": 0
      },
      "text/plain": [
       "Collect episodes:   0%|          | 0/3 [00:00<?, ?it/s]"
      ]
     },
     "metadata": {},
     "output_type": "display_data"
    },
    {
     "data": {
      "application/vnd.jupyter.widget-view+json": {
       "model_id": "ddcabfe3f9424010b10137205e2ee523",
       "version_major": 2,
       "version_minor": 0
      },
      "text/plain": [
       "Collect episodes:   0%|          | 0/3 [00:00<?, ?it/s]"
      ]
     },
     "metadata": {},
     "output_type": "display_data"
    },
    {
     "data": {
      "application/vnd.jupyter.widget-view+json": {
       "model_id": "3780765624934468a7b27ab9cb68ec19",
       "version_major": 2,
       "version_minor": 0
      },
      "text/plain": [
       "Collect episodes:   0%|          | 0/3 [00:00<?, ?it/s]"
      ]
     },
     "metadata": {},
     "output_type": "display_data"
    },
    {
     "data": {
      "application/vnd.jupyter.widget-view+json": {
       "model_id": "c2c436fa8e974cb5951d1811f31815ff",
       "version_major": 2,
       "version_minor": 0
      },
      "text/plain": [
       "Collect episodes:   0%|          | 0/3 [00:00<?, ?it/s]"
      ]
     },
     "metadata": {},
     "output_type": "display_data"
    },
    {
     "data": {
      "application/vnd.jupyter.widget-view+json": {
       "model_id": "9ff7b1814bbf4551a75f458b3d7187a8",
       "version_major": 2,
       "version_minor": 0
      },
      "text/plain": [
       "Collect episodes:   0%|          | 0/3 [00:00<?, ?it/s]"
      ]
     },
     "metadata": {},
     "output_type": "display_data"
    },
    {
     "data": {
      "application/vnd.jupyter.widget-view+json": {
       "model_id": "0a3b956890a24b80a2587e1fdf1d3154",
       "version_major": 2,
       "version_minor": 0
      },
      "text/plain": [
       "Collect episodes:   0%|          | 0/3 [00:00<?, ?it/s]"
      ]
     },
     "metadata": {},
     "output_type": "display_data"
    },
    {
     "data": {
      "application/vnd.jupyter.widget-view+json": {
       "model_id": "3987746379654661a3912502dbed3d36",
       "version_major": 2,
       "version_minor": 0
      },
      "text/plain": [
       "Collect episodes:   0%|          | 0/3 [00:00<?, ?it/s]"
      ]
     },
     "metadata": {},
     "output_type": "display_data"
    },
    {
     "data": {
      "application/vnd.jupyter.widget-view+json": {
       "model_id": "c6f0c6c86918443d82b84987306b1c90",
       "version_major": 2,
       "version_minor": 0
      },
      "text/plain": [
       "Collect episodes:   0%|          | 0/3 [00:00<?, ?it/s]"
      ]
     },
     "metadata": {},
     "output_type": "display_data"
    },
    {
     "data": {
      "application/vnd.jupyter.widget-view+json": {
       "model_id": "c86d18512e2b4e27a2193ba62c6d31da",
       "version_major": 2,
       "version_minor": 0
      },
      "text/plain": [
       "Collect episodes:   0%|          | 0/3 [00:00<?, ?it/s]"
      ]
     },
     "metadata": {},
     "output_type": "display_data"
    },
    {
     "data": {
      "application/vnd.jupyter.widget-view+json": {
       "model_id": "fb527189dcce492da6a9d01f5aff57c6",
       "version_major": 2,
       "version_minor": 0
      },
      "text/plain": [
       "Collect episodes:   0%|          | 0/3 [00:00<?, ?it/s]"
      ]
     },
     "metadata": {},
     "output_type": "display_data"
    },
    {
     "data": {
      "application/vnd.jupyter.widget-view+json": {
       "model_id": "06b4b68652cc4f7c9a687b3aefb76a9f",
       "version_major": 2,
       "version_minor": 0
      },
      "text/plain": [
       "Collect episodes:   0%|          | 0/3 [00:00<?, ?it/s]"
      ]
     },
     "metadata": {},
     "output_type": "display_data"
    },
    {
     "data": {
      "application/vnd.jupyter.widget-view+json": {
       "model_id": "8517c6fe5dea40b2b6248aff17e14006",
       "version_major": 2,
       "version_minor": 0
      },
      "text/plain": [
       "Collect episodes:   0%|          | 0/3 [00:00<?, ?it/s]"
      ]
     },
     "metadata": {},
     "output_type": "display_data"
    },
    {
     "data": {
      "application/vnd.jupyter.widget-view+json": {
       "model_id": "fc882e14eeca43edaadd323069695f36",
       "version_major": 2,
       "version_minor": 0
      },
      "text/plain": [
       "Collect episodes:   0%|          | 0/3 [00:00<?, ?it/s]"
      ]
     },
     "metadata": {},
     "output_type": "display_data"
    },
    {
     "data": {
      "application/vnd.jupyter.widget-view+json": {
       "model_id": "45821248ab35415fac110cde59f8e5f3",
       "version_major": 2,
       "version_minor": 0
      },
      "text/plain": [
       "Collect episodes:   0%|          | 0/3 [00:00<?, ?it/s]"
      ]
     },
     "metadata": {},
     "output_type": "display_data"
    },
    {
     "data": {
      "application/vnd.jupyter.widget-view+json": {
       "model_id": "8f91872b761d4d148be28cb6446153ed",
       "version_major": 2,
       "version_minor": 0
      },
      "text/plain": [
       "Collect episodes:   0%|          | 0/3 [00:00<?, ?it/s]"
      ]
     },
     "metadata": {},
     "output_type": "display_data"
    },
    {
     "data": {
      "application/vnd.jupyter.widget-view+json": {
       "model_id": "4d5342b71f834c98b7933a87f2729ac0",
       "version_major": 2,
       "version_minor": 0
      },
      "text/plain": [
       "Collect episodes:   0%|          | 0/3 [00:00<?, ?it/s]"
      ]
     },
     "metadata": {},
     "output_type": "display_data"
    },
    {
     "data": {
      "application/vnd.jupyter.widget-view+json": {
       "model_id": "ee1607b3cab54ce9b406060340a5b311",
       "version_major": 2,
       "version_minor": 0
      },
      "text/plain": [
       "Collect episodes:   0%|          | 0/3 [00:00<?, ?it/s]"
      ]
     },
     "metadata": {},
     "output_type": "display_data"
    },
    {
     "data": {
      "application/vnd.jupyter.widget-view+json": {
       "model_id": "d20da599fc9645799b07df25811b5d57",
       "version_major": 2,
       "version_minor": 0
      },
      "text/plain": [
       "Collect episodes:   0%|          | 0/3 [00:00<?, ?it/s]"
      ]
     },
     "metadata": {},
     "output_type": "display_data"
    },
    {
     "data": {
      "application/vnd.jupyter.widget-view+json": {
       "model_id": "be3b1c5bafc04d2895496de03674f112",
       "version_major": 2,
       "version_minor": 0
      },
      "text/plain": [
       "Collect episodes:   0%|          | 0/3 [00:00<?, ?it/s]"
      ]
     },
     "metadata": {},
     "output_type": "display_data"
    },
    {
     "data": {
      "application/vnd.jupyter.widget-view+json": {
       "model_id": "6a56b6691f0d4455828d366e2f1cfab9",
       "version_major": 2,
       "version_minor": 0
      },
      "text/plain": [
       "Collect episodes:   0%|          | 0/3 [00:00<?, ?it/s]"
      ]
     },
     "metadata": {},
     "output_type": "display_data"
    },
    {
     "data": {
      "application/vnd.jupyter.widget-view+json": {
       "model_id": "9b8b13cbe56b4e29ac759a480df62014",
       "version_major": 2,
       "version_minor": 0
      },
      "text/plain": [
       "Collect episodes:   0%|          | 0/3 [00:00<?, ?it/s]"
      ]
     },
     "metadata": {},
     "output_type": "display_data"
    },
    {
     "data": {
      "application/vnd.jupyter.widget-view+json": {
       "model_id": "ef80e4c58f8c41f4a2a45667acf93cc9",
       "version_major": 2,
       "version_minor": 0
      },
      "text/plain": [
       "Collect episodes:   0%|          | 0/3 [00:00<?, ?it/s]"
      ]
     },
     "metadata": {},
     "output_type": "display_data"
    },
    {
     "data": {
      "application/vnd.jupyter.widget-view+json": {
       "model_id": "9dcc81a259a14094aff0fd7b89561d19",
       "version_major": 2,
       "version_minor": 0
      },
      "text/plain": [
       "Collect episodes:   0%|          | 0/3 [00:00<?, ?it/s]"
      ]
     },
     "metadata": {},
     "output_type": "display_data"
    },
    {
     "data": {
      "application/vnd.jupyter.widget-view+json": {
       "model_id": "c7bd830e280347d5865383ef7c13251a",
       "version_major": 2,
       "version_minor": 0
      },
      "text/plain": [
       "Collect episodes:   0%|          | 0/3 [00:00<?, ?it/s]"
      ]
     },
     "metadata": {},
     "output_type": "display_data"
    },
    {
     "data": {
      "application/vnd.jupyter.widget-view+json": {
       "model_id": "5e5b36bcfdc24a90914f536b0cc89e25",
       "version_major": 2,
       "version_minor": 0
      },
      "text/plain": [
       "Collect episodes:   0%|          | 0/3 [00:00<?, ?it/s]"
      ]
     },
     "metadata": {},
     "output_type": "display_data"
    },
    {
     "data": {
      "application/vnd.jupyter.widget-view+json": {
       "model_id": "779949fe070d47d9b4b6ca15edbeab2a",
       "version_major": 2,
       "version_minor": 0
      },
      "text/plain": [
       "Collect episodes:   0%|          | 0/3 [00:00<?, ?it/s]"
      ]
     },
     "metadata": {},
     "output_type": "display_data"
    },
    {
     "data": {
      "application/vnd.jupyter.widget-view+json": {
       "model_id": "8f4e22b1badb4e248faea819dd38980a",
       "version_major": 2,
       "version_minor": 0
      },
      "text/plain": [
       "Collect episodes:   0%|          | 0/3 [00:00<?, ?it/s]"
      ]
     },
     "metadata": {},
     "output_type": "display_data"
    },
    {
     "data": {
      "application/vnd.jupyter.widget-view+json": {
       "model_id": "cd42c6b6e8b34355b7e539c6b5297f09",
       "version_major": 2,
       "version_minor": 0
      },
      "text/plain": [
       "Collect episodes:   0%|          | 0/3 [00:00<?, ?it/s]"
      ]
     },
     "metadata": {},
     "output_type": "display_data"
    },
    {
     "data": {
      "application/vnd.jupyter.widget-view+json": {
       "model_id": "a1387c76e6194b59b410692d24f27275",
       "version_major": 2,
       "version_minor": 0
      },
      "text/plain": [
       "Collect episodes:   0%|          | 0/3 [00:00<?, ?it/s]"
      ]
     },
     "metadata": {},
     "output_type": "display_data"
    },
    {
     "data": {
      "application/vnd.jupyter.widget-view+json": {
       "model_id": "fec63542a0f246c8839d795ec6e73605",
       "version_major": 2,
       "version_minor": 0
      },
      "text/plain": [
       "Collect episodes:   0%|          | 0/3 [00:00<?, ?it/s]"
      ]
     },
     "metadata": {},
     "output_type": "display_data"
    },
    {
     "data": {
      "application/vnd.jupyter.widget-view+json": {
       "model_id": "c6d2892059ff4ab896f0f48eafaa3678",
       "version_major": 2,
       "version_minor": 0
      },
      "text/plain": [
       "Collect episodes:   0%|          | 0/3 [00:00<?, ?it/s]"
      ]
     },
     "metadata": {},
     "output_type": "display_data"
    },
    {
     "data": {
      "application/vnd.jupyter.widget-view+json": {
       "model_id": "1c3154590dbb4413bd7012a1511e18a9",
       "version_major": 2,
       "version_minor": 0
      },
      "text/plain": [
       "Collect episodes:   0%|          | 0/3 [00:00<?, ?it/s]"
      ]
     },
     "metadata": {},
     "output_type": "display_data"
    },
    {
     "data": {
      "application/vnd.jupyter.widget-view+json": {
       "model_id": "6d6bc99d182041c5b0a1e657fdc2ae3b",
       "version_major": 2,
       "version_minor": 0
      },
      "text/plain": [
       "Collect episodes:   0%|          | 0/3 [00:00<?, ?it/s]"
      ]
     },
     "metadata": {},
     "output_type": "display_data"
    },
    {
     "data": {
      "application/vnd.jupyter.widget-view+json": {
       "model_id": "2c94376ab775485394abbb0d6830ca79",
       "version_major": 2,
       "version_minor": 0
      },
      "text/plain": [
       "Collect episodes:   0%|          | 0/3 [00:00<?, ?it/s]"
      ]
     },
     "metadata": {},
     "output_type": "display_data"
    },
    {
     "data": {
      "application/vnd.jupyter.widget-view+json": {
       "model_id": "23bf9e371e0843799fe0bccca636ce70",
       "version_major": 2,
       "version_minor": 0
      },
      "text/plain": [
       "Collect episodes:   0%|          | 0/3 [00:00<?, ?it/s]"
      ]
     },
     "metadata": {},
     "output_type": "display_data"
    },
    {
     "data": {
      "application/vnd.jupyter.widget-view+json": {
       "model_id": "796ee080d6bc426382da161f3bbc6778",
       "version_major": 2,
       "version_minor": 0
      },
      "text/plain": [
       "Collect episodes:   0%|          | 0/3 [00:00<?, ?it/s]"
      ]
     },
     "metadata": {},
     "output_type": "display_data"
    },
    {
     "data": {
      "application/vnd.jupyter.widget-view+json": {
       "model_id": "5f2d1d9068dc47e18a8695793a0349e8",
       "version_major": 2,
       "version_minor": 0
      },
      "text/plain": [
       "Collect episodes:   0%|          | 0/3 [00:00<?, ?it/s]"
      ]
     },
     "metadata": {},
     "output_type": "display_data"
    },
    {
     "data": {
      "application/vnd.jupyter.widget-view+json": {
       "model_id": "b5c0106154574878bca2d5852073c6cb",
       "version_major": 2,
       "version_minor": 0
      },
      "text/plain": [
       "Collect episodes:   0%|          | 0/3 [00:00<?, ?it/s]"
      ]
     },
     "metadata": {},
     "output_type": "display_data"
    },
    {
     "data": {
      "application/vnd.jupyter.widget-view+json": {
       "model_id": "2d4de838e543422bbf708b9939688b63",
       "version_major": 2,
       "version_minor": 0
      },
      "text/plain": [
       "Collect episodes:   0%|          | 0/3 [00:00<?, ?it/s]"
      ]
     },
     "metadata": {},
     "output_type": "display_data"
    },
    {
     "data": {
      "application/vnd.jupyter.widget-view+json": {
       "model_id": "38bbaa6e54ff4c85b0869095abe21473",
       "version_major": 2,
       "version_minor": 0
      },
      "text/plain": [
       "Collect episodes:   0%|          | 0/3 [00:00<?, ?it/s]"
      ]
     },
     "metadata": {},
     "output_type": "display_data"
    },
    {
     "data": {
      "application/vnd.jupyter.widget-view+json": {
       "model_id": "b93bf9aca5e64720930db8e004b459cd",
       "version_major": 2,
       "version_minor": 0
      },
      "text/plain": [
       "Collect episodes:   0%|          | 0/3 [00:00<?, ?it/s]"
      ]
     },
     "metadata": {},
     "output_type": "display_data"
    },
    {
     "data": {
      "application/vnd.jupyter.widget-view+json": {
       "model_id": "16486323e0374878b7400c8b5e670b00",
       "version_major": 2,
       "version_minor": 0
      },
      "text/plain": [
       "Collect episodes:   0%|          | 0/3 [00:00<?, ?it/s]"
      ]
     },
     "metadata": {},
     "output_type": "display_data"
    },
    {
     "data": {
      "application/vnd.jupyter.widget-view+json": {
       "model_id": "c4b04f739da2401dabef325d6e3d2793",
       "version_major": 2,
       "version_minor": 0
      },
      "text/plain": [
       "Collect episodes:   0%|          | 0/3 [00:00<?, ?it/s]"
      ]
     },
     "metadata": {},
     "output_type": "display_data"
    },
    {
     "data": {
      "application/vnd.jupyter.widget-view+json": {
       "model_id": "ee5b7f7a7c5e42b2b433107e74072654",
       "version_major": 2,
       "version_minor": 0
      },
      "text/plain": [
       "Collect episodes:   0%|          | 0/3 [00:00<?, ?it/s]"
      ]
     },
     "metadata": {},
     "output_type": "display_data"
    },
    {
     "data": {
      "application/vnd.jupyter.widget-view+json": {
       "model_id": "ebdbba4cee15468dbd373e5a573ca46d",
       "version_major": 2,
       "version_minor": 0
      },
      "text/plain": [
       "Collect episodes:   0%|          | 0/3 [00:00<?, ?it/s]"
      ]
     },
     "metadata": {},
     "output_type": "display_data"
    },
    {
     "data": {
      "application/vnd.jupyter.widget-view+json": {
       "model_id": "91889a72cd454cb0bec70eca58fb0920",
       "version_major": 2,
       "version_minor": 0
      },
      "text/plain": [
       "Collect episodes:   0%|          | 0/3 [00:00<?, ?it/s]"
      ]
     },
     "metadata": {},
     "output_type": "display_data"
    },
    {
     "data": {
      "application/vnd.jupyter.widget-view+json": {
       "model_id": "101f4075a7aa4524a16af17bb23a7929",
       "version_major": 2,
       "version_minor": 0
      },
      "text/plain": [
       "Collect episodes:   0%|          | 0/3 [00:00<?, ?it/s]"
      ]
     },
     "metadata": {},
     "output_type": "display_data"
    },
    {
     "data": {
      "application/vnd.jupyter.widget-view+json": {
       "model_id": "a509378da9f4477ebf32e7437a09c063",
       "version_major": 2,
       "version_minor": 0
      },
      "text/plain": [
       "Collect episodes:   0%|          | 0/3 [00:00<?, ?it/s]"
      ]
     },
     "metadata": {},
     "output_type": "display_data"
    },
    {
     "data": {
      "application/vnd.jupyter.widget-view+json": {
       "model_id": "df613993162a4297b17f454dac46648a",
       "version_major": 2,
       "version_minor": 0
      },
      "text/plain": [
       "Collect episodes:   0%|          | 0/3 [00:00<?, ?it/s]"
      ]
     },
     "metadata": {},
     "output_type": "display_data"
    },
    {
     "data": {
      "application/vnd.jupyter.widget-view+json": {
       "model_id": "48ff152a952c4f1cad066ba1b2e75155",
       "version_major": 2,
       "version_minor": 0
      },
      "text/plain": [
       "Collect episodes:   0%|          | 0/3 [00:00<?, ?it/s]"
      ]
     },
     "metadata": {},
     "output_type": "display_data"
    },
    {
     "data": {
      "application/vnd.jupyter.widget-view+json": {
       "model_id": "405884d5ea0f44cc8a3ab4bd336e356c",
       "version_major": 2,
       "version_minor": 0
      },
      "text/plain": [
       "Collect episodes:   0%|          | 0/3 [00:00<?, ?it/s]"
      ]
     },
     "metadata": {},
     "output_type": "display_data"
    },
    {
     "data": {
      "application/vnd.jupyter.widget-view+json": {
       "model_id": "82fe0129565c414e8bda7fa765c3de45",
       "version_major": 2,
       "version_minor": 0
      },
      "text/plain": [
       "Collect episodes:   0%|          | 0/3 [00:00<?, ?it/s]"
      ]
     },
     "metadata": {},
     "output_type": "display_data"
    },
    {
     "data": {
      "application/vnd.jupyter.widget-view+json": {
       "model_id": "60a6a5ca714440e78b46174b156dd73c",
       "version_major": 2,
       "version_minor": 0
      },
      "text/plain": [
       "Collect episodes:   0%|          | 0/3 [00:00<?, ?it/s]"
      ]
     },
     "metadata": {},
     "output_type": "display_data"
    },
    {
     "data": {
      "application/vnd.jupyter.widget-view+json": {
       "model_id": "f2ffd4dae8f54c1f951da44af9990799",
       "version_major": 2,
       "version_minor": 0
      },
      "text/plain": [
       "Collect episodes:   0%|          | 0/3 [00:00<?, ?it/s]"
      ]
     },
     "metadata": {},
     "output_type": "display_data"
    },
    {
     "data": {
      "application/vnd.jupyter.widget-view+json": {
       "model_id": "1469f6c8dc4d42318986ea07a9235855",
       "version_major": 2,
       "version_minor": 0
      },
      "text/plain": [
       "Collect episodes:   0%|          | 0/3 [00:00<?, ?it/s]"
      ]
     },
     "metadata": {},
     "output_type": "display_data"
    },
    {
     "data": {
      "application/vnd.jupyter.widget-view+json": {
       "model_id": "813bb9756d384b5ba4d3d3cf073270f6",
       "version_major": 2,
       "version_minor": 0
      },
      "text/plain": [
       "Collect episodes:   0%|          | 0/3 [00:00<?, ?it/s]"
      ]
     },
     "metadata": {},
     "output_type": "display_data"
    },
    {
     "data": {
      "application/vnd.jupyter.widget-view+json": {
       "model_id": "bf710f6c92c64f2b98f6ce8f517e1251",
       "version_major": 2,
       "version_minor": 0
      },
      "text/plain": [
       "Collect episodes:   0%|          | 0/3 [00:00<?, ?it/s]"
      ]
     },
     "metadata": {},
     "output_type": "display_data"
    },
    {
     "data": {
      "application/vnd.jupyter.widget-view+json": {
       "model_id": "0940a0a51110423b9474315f823f4eaf",
       "version_major": 2,
       "version_minor": 0
      },
      "text/plain": [
       "Collect episodes:   0%|          | 0/3 [00:00<?, ?it/s]"
      ]
     },
     "metadata": {},
     "output_type": "display_data"
    },
    {
     "data": {
      "application/vnd.jupyter.widget-view+json": {
       "model_id": "645aeacd3fb24a95a522a9da05058a8a",
       "version_major": 2,
       "version_minor": 0
      },
      "text/plain": [
       "Collect episodes:   0%|          | 0/3 [00:00<?, ?it/s]"
      ]
     },
     "metadata": {},
     "output_type": "display_data"
    },
    {
     "data": {
      "application/vnd.jupyter.widget-view+json": {
       "model_id": "bd152d574eb443c28b6a00df754e013f",
       "version_major": 2,
       "version_minor": 0
      },
      "text/plain": [
       "Collect episodes:   0%|          | 0/3 [00:00<?, ?it/s]"
      ]
     },
     "metadata": {},
     "output_type": "display_data"
    },
    {
     "data": {
      "application/vnd.jupyter.widget-view+json": {
       "model_id": "2851f236de654389b82ff3d9653d8d95",
       "version_major": 2,
       "version_minor": 0
      },
      "text/plain": [
       "Collect episodes:   0%|          | 0/3 [00:00<?, ?it/s]"
      ]
     },
     "metadata": {},
     "output_type": "display_data"
    },
    {
     "data": {
      "application/vnd.jupyter.widget-view+json": {
       "model_id": "43f58660f7ba4912ad6b8835bc5fb793",
       "version_major": 2,
       "version_minor": 0
      },
      "text/plain": [
       "Collect episodes:   0%|          | 0/3 [00:00<?, ?it/s]"
      ]
     },
     "metadata": {},
     "output_type": "display_data"
    },
    {
     "data": {
      "application/vnd.jupyter.widget-view+json": {
       "model_id": "fffd5e5301f045b4ac768f330977f3f8",
       "version_major": 2,
       "version_minor": 0
      },
      "text/plain": [
       "Collect episodes:   0%|          | 0/3 [00:00<?, ?it/s]"
      ]
     },
     "metadata": {},
     "output_type": "display_data"
    },
    {
     "data": {
      "application/vnd.jupyter.widget-view+json": {
       "model_id": "6915d0cde26342b7953718b56c1b7c9e",
       "version_major": 2,
       "version_minor": 0
      },
      "text/plain": [
       "Collect episodes:   0%|          | 0/3 [00:00<?, ?it/s]"
      ]
     },
     "metadata": {},
     "output_type": "display_data"
    },
    {
     "data": {
      "application/vnd.jupyter.widget-view+json": {
       "model_id": "c392ba3da1e64f6587b2d96702d00876",
       "version_major": 2,
       "version_minor": 0
      },
      "text/plain": [
       "Collect episodes:   0%|          | 0/3 [00:00<?, ?it/s]"
      ]
     },
     "metadata": {},
     "output_type": "display_data"
    },
    {
     "data": {
      "application/vnd.jupyter.widget-view+json": {
       "model_id": "f168af34f8d84ed6b6e02ad0dac9013b",
       "version_major": 2,
       "version_minor": 0
      },
      "text/plain": [
       "Collect episodes:   0%|          | 0/3 [00:00<?, ?it/s]"
      ]
     },
     "metadata": {},
     "output_type": "display_data"
    },
    {
     "data": {
      "application/vnd.jupyter.widget-view+json": {
       "model_id": "9198bae3ed2c4258bca2db34ef79adb3",
       "version_major": 2,
       "version_minor": 0
      },
      "text/plain": [
       "Collect episodes:   0%|          | 0/3 [00:00<?, ?it/s]"
      ]
     },
     "metadata": {},
     "output_type": "display_data"
    },
    {
     "data": {
      "application/vnd.jupyter.widget-view+json": {
       "model_id": "00dbc65cf57841819daa6eece2ac5f71",
       "version_major": 2,
       "version_minor": 0
      },
      "text/plain": [
       "Collect episodes:   0%|          | 0/3 [00:00<?, ?it/s]"
      ]
     },
     "metadata": {},
     "output_type": "display_data"
    },
    {
     "data": {
      "application/vnd.jupyter.widget-view+json": {
       "model_id": "c4e98ac577594fb7b6d14cd88268234d",
       "version_major": 2,
       "version_minor": 0
      },
      "text/plain": [
       "Collect episodes:   0%|          | 0/3 [00:00<?, ?it/s]"
      ]
     },
     "metadata": {},
     "output_type": "display_data"
    },
    {
     "data": {
      "application/vnd.jupyter.widget-view+json": {
       "model_id": "8998c0c121bc4bcca3e9870ddf403c29",
       "version_major": 2,
       "version_minor": 0
      },
      "text/plain": [
       "Collect episodes:   0%|          | 0/3 [00:00<?, ?it/s]"
      ]
     },
     "metadata": {},
     "output_type": "display_data"
    },
    {
     "data": {
      "application/vnd.jupyter.widget-view+json": {
       "model_id": "7a00623bbbb9468a9d1096db1481e5f6",
       "version_major": 2,
       "version_minor": 0
      },
      "text/plain": [
       "Collect episodes:   0%|          | 0/3 [00:00<?, ?it/s]"
      ]
     },
     "metadata": {},
     "output_type": "display_data"
    },
    {
     "data": {
      "application/vnd.jupyter.widget-view+json": {
       "model_id": "c90a6b376140473ea2d7542202313135",
       "version_major": 2,
       "version_minor": 0
      },
      "text/plain": [
       "Collect episodes:   0%|          | 0/3 [00:00<?, ?it/s]"
      ]
     },
     "metadata": {},
     "output_type": "display_data"
    },
    {
     "data": {
      "application/vnd.jupyter.widget-view+json": {
       "model_id": "56e3fca935a34e55930bfb089ad94ae6",
       "version_major": 2,
       "version_minor": 0
      },
      "text/plain": [
       "Collect episodes:   0%|          | 0/3 [00:00<?, ?it/s]"
      ]
     },
     "metadata": {},
     "output_type": "display_data"
    },
    {
     "data": {
      "application/vnd.jupyter.widget-view+json": {
       "model_id": "4b13cc1313b64b3fa86fd40593988615",
       "version_major": 2,
       "version_minor": 0
      },
      "text/plain": [
       "Collect episodes:   0%|          | 0/3 [00:00<?, ?it/s]"
      ]
     },
     "metadata": {},
     "output_type": "display_data"
    },
    {
     "data": {
      "application/vnd.jupyter.widget-view+json": {
       "model_id": "c27aa38980f84b80bd4e24d3ed3c4013",
       "version_major": 2,
       "version_minor": 0
      },
      "text/plain": [
       "Collect episodes:   0%|          | 0/3 [00:00<?, ?it/s]"
      ]
     },
     "metadata": {},
     "output_type": "display_data"
    },
    {
     "data": {
      "application/vnd.jupyter.widget-view+json": {
       "model_id": "a07346576543487b8c31ef986efcb5fd",
       "version_major": 2,
       "version_minor": 0
      },
      "text/plain": [
       "Collect episodes:   0%|          | 0/3 [00:00<?, ?it/s]"
      ]
     },
     "metadata": {},
     "output_type": "display_data"
    },
    {
     "data": {
      "application/vnd.jupyter.widget-view+json": {
       "model_id": "b64511feae0d4db088dc4da7cda9f7fb",
       "version_major": 2,
       "version_minor": 0
      },
      "text/plain": [
       "Collect episodes:   0%|          | 0/3 [00:00<?, ?it/s]"
      ]
     },
     "metadata": {},
     "output_type": "display_data"
    },
    {
     "data": {
      "application/vnd.jupyter.widget-view+json": {
       "model_id": "a0c9764ef01841848da59115ac9dae68",
       "version_major": 2,
       "version_minor": 0
      },
      "text/plain": [
       "Collect episodes:   0%|          | 0/3 [00:00<?, ?it/s]"
      ]
     },
     "metadata": {},
     "output_type": "display_data"
    },
    {
     "data": {
      "application/vnd.jupyter.widget-view+json": {
       "model_id": "27a616d4ac6f4b5c8fbea2539b974be8",
       "version_major": 2,
       "version_minor": 0
      },
      "text/plain": [
       "Collect episodes:   0%|          | 0/3 [00:00<?, ?it/s]"
      ]
     },
     "metadata": {},
     "output_type": "display_data"
    },
    {
     "data": {
      "application/vnd.jupyter.widget-view+json": {
       "model_id": "6ce2f933fce84f5eb4c6c11eecb3896f",
       "version_major": 2,
       "version_minor": 0
      },
      "text/plain": [
       "Collect episodes:   0%|          | 0/3 [00:00<?, ?it/s]"
      ]
     },
     "metadata": {},
     "output_type": "display_data"
    },
    {
     "data": {
      "application/vnd.jupyter.widget-view+json": {
       "model_id": "f4ef3f95d70f4c3cbe4a23a0b8d62ed4",
       "version_major": 2,
       "version_minor": 0
      },
      "text/plain": [
       "Collect episodes:   0%|          | 0/3 [00:00<?, ?it/s]"
      ]
     },
     "metadata": {},
     "output_type": "display_data"
    },
    {
     "data": {
      "application/vnd.jupyter.widget-view+json": {
       "model_id": "364b33f7e8f54c419d30fcf8ae01c92f",
       "version_major": 2,
       "version_minor": 0
      },
      "text/plain": [
       "Collect episodes:   0%|          | 0/3 [00:00<?, ?it/s]"
      ]
     },
     "metadata": {},
     "output_type": "display_data"
    },
    {
     "data": {
      "application/vnd.jupyter.widget-view+json": {
       "model_id": "b155bf14432d4cea892d970cccf26d71",
       "version_major": 2,
       "version_minor": 0
      },
      "text/plain": [
       "Collect episodes:   0%|          | 0/3 [00:00<?, ?it/s]"
      ]
     },
     "metadata": {},
     "output_type": "display_data"
    },
    {
     "data": {
      "application/vnd.jupyter.widget-view+json": {
       "model_id": "09b99adfed8d437aa60c5f9dca3c081d",
       "version_major": 2,
       "version_minor": 0
      },
      "text/plain": [
       "Collect episodes:   0%|          | 0/3 [00:00<?, ?it/s]"
      ]
     },
     "metadata": {},
     "output_type": "display_data"
    },
    {
     "data": {
      "application/vnd.jupyter.widget-view+json": {
       "model_id": "e57eedd359174611a8680a5b2fa4d755",
       "version_major": 2,
       "version_minor": 0
      },
      "text/plain": [
       "Collect episodes:   0%|          | 0/3 [00:00<?, ?it/s]"
      ]
     },
     "metadata": {},
     "output_type": "display_data"
    },
    {
     "data": {
      "application/vnd.jupyter.widget-view+json": {
       "model_id": "4867983f50b44d4a91da7f348205a1ae",
       "version_major": 2,
       "version_minor": 0
      },
      "text/plain": [
       "Collect episodes:   0%|          | 0/3 [00:00<?, ?it/s]"
      ]
     },
     "metadata": {},
     "output_type": "display_data"
    },
    {
     "data": {
      "application/vnd.jupyter.widget-view+json": {
       "model_id": "0658950dab4f4ea6ba6863ba3d93b667",
       "version_major": 2,
       "version_minor": 0
      },
      "text/plain": [
       "Collect episodes:   0%|          | 0/3 [00:00<?, ?it/s]"
      ]
     },
     "metadata": {},
     "output_type": "display_data"
    },
    {
     "data": {
      "application/vnd.jupyter.widget-view+json": {
       "model_id": "ac2936b8e156419ca9a6f5bafebc853c",
       "version_major": 2,
       "version_minor": 0
      },
      "text/plain": [
       "Collect episodes:   0%|          | 0/3 [00:00<?, ?it/s]"
      ]
     },
     "metadata": {},
     "output_type": "display_data"
    },
    {
     "data": {
      "application/vnd.jupyter.widget-view+json": {
       "model_id": "2f1ae0efaa744959b8547780fbf3c92a",
       "version_major": 2,
       "version_minor": 0
      },
      "text/plain": [
       "Collect episodes:   0%|          | 0/3 [00:00<?, ?it/s]"
      ]
     },
     "metadata": {},
     "output_type": "display_data"
    },
    {
     "data": {
      "application/vnd.jupyter.widget-view+json": {
       "model_id": "889efa0a38364ee08ec485fd197eb539",
       "version_major": 2,
       "version_minor": 0
      },
      "text/plain": [
       "Collect episodes:   0%|          | 0/3 [00:00<?, ?it/s]"
      ]
     },
     "metadata": {},
     "output_type": "display_data"
    },
    {
     "data": {
      "application/vnd.jupyter.widget-view+json": {
       "model_id": "b2cf1e5f53d54994ab7d958831b6005c",
       "version_major": 2,
       "version_minor": 0
      },
      "text/plain": [
       "Collect episodes:   0%|          | 0/3 [00:00<?, ?it/s]"
      ]
     },
     "metadata": {},
     "output_type": "display_data"
    },
    {
     "data": {
      "application/vnd.jupyter.widget-view+json": {
       "model_id": "04f21c31192c4df58de18126e75e39af",
       "version_major": 2,
       "version_minor": 0
      },
      "text/plain": [
       "Collect episodes:   0%|          | 0/3 [00:00<?, ?it/s]"
      ]
     },
     "metadata": {},
     "output_type": "display_data"
    },
    {
     "data": {
      "application/vnd.jupyter.widget-view+json": {
       "model_id": "cdc2d58b9deb4c01816bc4b13854dd19",
       "version_major": 2,
       "version_minor": 0
      },
      "text/plain": [
       "Collect episodes:   0%|          | 0/3 [00:00<?, ?it/s]"
      ]
     },
     "metadata": {},
     "output_type": "display_data"
    },
    {
     "data": {
      "application/vnd.jupyter.widget-view+json": {
       "model_id": "3246d2f66aec4409af08bf0996e1dd69",
       "version_major": 2,
       "version_minor": 0
      },
      "text/plain": [
       "Collect episodes:   0%|          | 0/3 [00:00<?, ?it/s]"
      ]
     },
     "metadata": {},
     "output_type": "display_data"
    },
    {
     "data": {
      "application/vnd.jupyter.widget-view+json": {
       "model_id": "add71f72fad94cd286c944640d769df0",
       "version_major": 2,
       "version_minor": 0
      },
      "text/plain": [
       "Collect episodes:   0%|          | 0/3 [00:00<?, ?it/s]"
      ]
     },
     "metadata": {},
     "output_type": "display_data"
    },
    {
     "data": {
      "application/vnd.jupyter.widget-view+json": {
       "model_id": "ee4aa8f6707444be928109a7634aeb44",
       "version_major": 2,
       "version_minor": 0
      },
      "text/plain": [
       "Collect episodes:   0%|          | 0/3 [00:00<?, ?it/s]"
      ]
     },
     "metadata": {},
     "output_type": "display_data"
    },
    {
     "data": {
      "application/vnd.jupyter.widget-view+json": {
       "model_id": "b2b5cd47658342369b976bed8fec3825",
       "version_major": 2,
       "version_minor": 0
      },
      "text/plain": [
       "Collect episodes:   0%|          | 0/3 [00:00<?, ?it/s]"
      ]
     },
     "metadata": {},
     "output_type": "display_data"
    },
    {
     "data": {
      "application/vnd.jupyter.widget-view+json": {
       "model_id": "bde7aa70e5ea4d61bef81a841e344211",
       "version_major": 2,
       "version_minor": 0
      },
      "text/plain": [
       "Collect episodes:   0%|          | 0/3 [00:00<?, ?it/s]"
      ]
     },
     "metadata": {},
     "output_type": "display_data"
    },
    {
     "data": {
      "application/vnd.jupyter.widget-view+json": {
       "model_id": "c233819fbe2d4a14a0a8b8c59055b1bf",
       "version_major": 2,
       "version_minor": 0
      },
      "text/plain": [
       "Collect episodes:   0%|          | 0/3 [00:00<?, ?it/s]"
      ]
     },
     "metadata": {},
     "output_type": "display_data"
    },
    {
     "data": {
      "application/vnd.jupyter.widget-view+json": {
       "model_id": "7c109f9cc27d4109ac65b4af6f2c93ad",
       "version_major": 2,
       "version_minor": 0
      },
      "text/plain": [
       "Collect episodes:   0%|          | 0/3 [00:00<?, ?it/s]"
      ]
     },
     "metadata": {},
     "output_type": "display_data"
    },
    {
     "data": {
      "application/vnd.jupyter.widget-view+json": {
       "model_id": "2123b1fe637f466b936776e16b0636cc",
       "version_major": 2,
       "version_minor": 0
      },
      "text/plain": [
       "Collect episodes:   0%|          | 0/3 [00:00<?, ?it/s]"
      ]
     },
     "metadata": {},
     "output_type": "display_data"
    },
    {
     "data": {
      "application/vnd.jupyter.widget-view+json": {
       "model_id": "6974cd3cc39f4448b759a128279614b5",
       "version_major": 2,
       "version_minor": 0
      },
      "text/plain": [
       "Collect episodes:   0%|          | 0/3 [00:00<?, ?it/s]"
      ]
     },
     "metadata": {},
     "output_type": "display_data"
    },
    {
     "data": {
      "application/vnd.jupyter.widget-view+json": {
       "model_id": "6136de46c5884d36ab61327d6bcffbf5",
       "version_major": 2,
       "version_minor": 0
      },
      "text/plain": [
       "Collect episodes:   0%|          | 0/3 [00:00<?, ?it/s]"
      ]
     },
     "metadata": {},
     "output_type": "display_data"
    },
    {
     "data": {
      "application/vnd.jupyter.widget-view+json": {
       "model_id": "b36e7bcd754d40cfb75ef95cad328089",
       "version_major": 2,
       "version_minor": 0
      },
      "text/plain": [
       "Collect episodes:   0%|          | 0/3 [00:00<?, ?it/s]"
      ]
     },
     "metadata": {},
     "output_type": "display_data"
    },
    {
     "data": {
      "application/vnd.jupyter.widget-view+json": {
       "model_id": "cf9530d980a04cf4aabcdf13be8b8eae",
       "version_major": 2,
       "version_minor": 0
      },
      "text/plain": [
       "Collect episodes:   0%|          | 0/3 [00:00<?, ?it/s]"
      ]
     },
     "metadata": {},
     "output_type": "display_data"
    },
    {
     "data": {
      "application/vnd.jupyter.widget-view+json": {
       "model_id": "de316295681443cc8bc7663a68f0f338",
       "version_major": 2,
       "version_minor": 0
      },
      "text/plain": [
       "Collect episodes:   0%|          | 0/3 [00:00<?, ?it/s]"
      ]
     },
     "metadata": {},
     "output_type": "display_data"
    },
    {
     "data": {
      "application/vnd.jupyter.widget-view+json": {
       "model_id": "fbff7b91eb874b008cf42b864022c102",
       "version_major": 2,
       "version_minor": 0
      },
      "text/plain": [
       "Collect episodes:   0%|          | 0/3 [00:00<?, ?it/s]"
      ]
     },
     "metadata": {},
     "output_type": "display_data"
    },
    {
     "data": {
      "application/vnd.jupyter.widget-view+json": {
       "model_id": "3335874a6d804f37a23f440499d480e2",
       "version_major": 2,
       "version_minor": 0
      },
      "text/plain": [
       "Collect episodes:   0%|          | 0/3 [00:00<?, ?it/s]"
      ]
     },
     "metadata": {},
     "output_type": "display_data"
    },
    {
     "data": {
      "application/vnd.jupyter.widget-view+json": {
       "model_id": "9471bd6596124f97ba4239b6b097ba9e",
       "version_major": 2,
       "version_minor": 0
      },
      "text/plain": [
       "Collect episodes:   0%|          | 0/3 [00:00<?, ?it/s]"
      ]
     },
     "metadata": {},
     "output_type": "display_data"
    },
    {
     "data": {
      "application/vnd.jupyter.widget-view+json": {
       "model_id": "023b41337c8d4d0a941f63d8fca90379",
       "version_major": 2,
       "version_minor": 0
      },
      "text/plain": [
       "Collect episodes:   0%|          | 0/3 [00:00<?, ?it/s]"
      ]
     },
     "metadata": {},
     "output_type": "display_data"
    },
    {
     "data": {
      "application/vnd.jupyter.widget-view+json": {
       "model_id": "df6c95f1615c4313ab46ba8ae3e3a34c",
       "version_major": 2,
       "version_minor": 0
      },
      "text/plain": [
       "Collect episodes:   0%|          | 0/3 [00:00<?, ?it/s]"
      ]
     },
     "metadata": {},
     "output_type": "display_data"
    },
    {
     "data": {
      "application/vnd.jupyter.widget-view+json": {
       "model_id": "15c627d18552489491227d83622abb5c",
       "version_major": 2,
       "version_minor": 0
      },
      "text/plain": [
       "Collect episodes:   0%|          | 0/3 [00:00<?, ?it/s]"
      ]
     },
     "metadata": {},
     "output_type": "display_data"
    },
    {
     "data": {
      "application/vnd.jupyter.widget-view+json": {
       "model_id": "e69c7df185914c0a861ab93ea1f55e15",
       "version_major": 2,
       "version_minor": 0
      },
      "text/plain": [
       "Collect episodes:   0%|          | 0/3 [00:00<?, ?it/s]"
      ]
     },
     "metadata": {},
     "output_type": "display_data"
    },
    {
     "data": {
      "application/vnd.jupyter.widget-view+json": {
       "model_id": "4ee8c3317c5544ffbadf6ffeda85a557",
       "version_major": 2,
       "version_minor": 0
      },
      "text/plain": [
       "Collect episodes:   0%|          | 0/3 [00:00<?, ?it/s]"
      ]
     },
     "metadata": {},
     "output_type": "display_data"
    },
    {
     "data": {
      "application/vnd.jupyter.widget-view+json": {
       "model_id": "fb7ccc06583541ce92e7cfe1a6dba37b",
       "version_major": 2,
       "version_minor": 0
      },
      "text/plain": [
       "Collect episodes:   0%|          | 0/3 [00:00<?, ?it/s]"
      ]
     },
     "metadata": {},
     "output_type": "display_data"
    },
    {
     "data": {
      "application/vnd.jupyter.widget-view+json": {
       "model_id": "18e01f2b8bb5462e8d22586a6387a707",
       "version_major": 2,
       "version_minor": 0
      },
      "text/plain": [
       "Collect episodes:   0%|          | 0/3 [00:00<?, ?it/s]"
      ]
     },
     "metadata": {},
     "output_type": "display_data"
    },
    {
     "data": {
      "application/vnd.jupyter.widget-view+json": {
       "model_id": "65aec827a36b49d5a3b18815260ab327",
       "version_major": 2,
       "version_minor": 0
      },
      "text/plain": [
       "Collect episodes:   0%|          | 0/3 [00:00<?, ?it/s]"
      ]
     },
     "metadata": {},
     "output_type": "display_data"
    },
    {
     "data": {
      "application/vnd.jupyter.widget-view+json": {
       "model_id": "35acd6a66e0b44a2876ed6c100697868",
       "version_major": 2,
       "version_minor": 0
      },
      "text/plain": [
       "Collect episodes:   0%|          | 0/3 [00:00<?, ?it/s]"
      ]
     },
     "metadata": {},
     "output_type": "display_data"
    },
    {
     "data": {
      "application/vnd.jupyter.widget-view+json": {
       "model_id": "068c683c945b4e70aa427fa04f00dcd6",
       "version_major": 2,
       "version_minor": 0
      },
      "text/plain": [
       "Collect episodes:   0%|          | 0/3 [00:00<?, ?it/s]"
      ]
     },
     "metadata": {},
     "output_type": "display_data"
    },
    {
     "data": {
      "application/vnd.jupyter.widget-view+json": {
       "model_id": "a9659dc8f4ec4a7fa9c8ae5d90181a9b",
       "version_major": 2,
       "version_minor": 0
      },
      "text/plain": [
       "Collect episodes:   0%|          | 0/3 [00:00<?, ?it/s]"
      ]
     },
     "metadata": {},
     "output_type": "display_data"
    },
    {
     "data": {
      "application/vnd.jupyter.widget-view+json": {
       "model_id": "6495e5554ab0463eb07296775ad30dd3",
       "version_major": 2,
       "version_minor": 0
      },
      "text/plain": [
       "Collect episodes:   0%|          | 0/3 [00:00<?, ?it/s]"
      ]
     },
     "metadata": {},
     "output_type": "display_data"
    },
    {
     "data": {
      "application/vnd.jupyter.widget-view+json": {
       "model_id": "9032034cda4744cc9848ea27ec368df5",
       "version_major": 2,
       "version_minor": 0
      },
      "text/plain": [
       "Collect episodes:   0%|          | 0/3 [00:00<?, ?it/s]"
      ]
     },
     "metadata": {},
     "output_type": "display_data"
    },
    {
     "data": {
      "application/vnd.jupyter.widget-view+json": {
       "model_id": "d9d07c01e78e43cd9c2227b0ded983a6",
       "version_major": 2,
       "version_minor": 0
      },
      "text/plain": [
       "Collect episodes:   0%|          | 0/3 [00:00<?, ?it/s]"
      ]
     },
     "metadata": {},
     "output_type": "display_data"
    },
    {
     "data": {
      "application/vnd.jupyter.widget-view+json": {
       "model_id": "deb497d012ea42639330f0387ffa603a",
       "version_major": 2,
       "version_minor": 0
      },
      "text/plain": [
       "Collect episodes:   0%|          | 0/3 [00:00<?, ?it/s]"
      ]
     },
     "metadata": {},
     "output_type": "display_data"
    },
    {
     "data": {
      "application/vnd.jupyter.widget-view+json": {
       "model_id": "22d0ee12c2b9404fbc96f3217f2b84fd",
       "version_major": 2,
       "version_minor": 0
      },
      "text/plain": [
       "Collect episodes:   0%|          | 0/3 [00:00<?, ?it/s]"
      ]
     },
     "metadata": {},
     "output_type": "display_data"
    },
    {
     "data": {
      "application/vnd.jupyter.widget-view+json": {
       "model_id": "7123e884343e4f36bec724b1e45fb356",
       "version_major": 2,
       "version_minor": 0
      },
      "text/plain": [
       "Collect episodes:   0%|          | 0/3 [00:00<?, ?it/s]"
      ]
     },
     "metadata": {},
     "output_type": "display_data"
    },
    {
     "data": {
      "application/vnd.jupyter.widget-view+json": {
       "model_id": "ec4a31b3c729449ea822591407e19134",
       "version_major": 2,
       "version_minor": 0
      },
      "text/plain": [
       "Collect episodes:   0%|          | 0/3 [00:00<?, ?it/s]"
      ]
     },
     "metadata": {},
     "output_type": "display_data"
    },
    {
     "data": {
      "application/vnd.jupyter.widget-view+json": {
       "model_id": "7d71fffab581420f96091cbcb20365b7",
       "version_major": 2,
       "version_minor": 0
      },
      "text/plain": [
       "Collect episodes:   0%|          | 0/3 [00:00<?, ?it/s]"
      ]
     },
     "metadata": {},
     "output_type": "display_data"
    },
    {
     "data": {
      "application/vnd.jupyter.widget-view+json": {
       "model_id": "dc0502208572465a8aa3d0d5cf79c20d",
       "version_major": 2,
       "version_minor": 0
      },
      "text/plain": [
       "Collect episodes:   0%|          | 0/3 [00:00<?, ?it/s]"
      ]
     },
     "metadata": {},
     "output_type": "display_data"
    },
    {
     "data": {
      "application/vnd.jupyter.widget-view+json": {
       "model_id": "cf1f95e1c7184e5c81a838a214040400",
       "version_major": 2,
       "version_minor": 0
      },
      "text/plain": [
       "Collect episodes:   0%|          | 0/3 [00:00<?, ?it/s]"
      ]
     },
     "metadata": {},
     "output_type": "display_data"
    },
    {
     "data": {
      "application/vnd.jupyter.widget-view+json": {
       "model_id": "687b1446dae64b049fa80d59328608b3",
       "version_major": 2,
       "version_minor": 0
      },
      "text/plain": [
       "Collect episodes:   0%|          | 0/3 [00:00<?, ?it/s]"
      ]
     },
     "metadata": {},
     "output_type": "display_data"
    },
    {
     "data": {
      "application/vnd.jupyter.widget-view+json": {
       "model_id": "2ae5597c3b6b424e9a567b1cd28dcfea",
       "version_major": 2,
       "version_minor": 0
      },
      "text/plain": [
       "Collect episodes:   0%|          | 0/3 [00:00<?, ?it/s]"
      ]
     },
     "metadata": {},
     "output_type": "display_data"
    },
    {
     "data": {
      "application/vnd.jupyter.widget-view+json": {
       "model_id": "9ab914fc09b3494d926521b564ce2251",
       "version_major": 2,
       "version_minor": 0
      },
      "text/plain": [
       "Collect episodes:   0%|          | 0/3 [00:00<?, ?it/s]"
      ]
     },
     "metadata": {},
     "output_type": "display_data"
    },
    {
     "data": {
      "application/vnd.jupyter.widget-view+json": {
       "model_id": "18657ac84e2d4f00b2ef821db9ec0f4c",
       "version_major": 2,
       "version_minor": 0
      },
      "text/plain": [
       "Collect episodes:   0%|          | 0/3 [00:00<?, ?it/s]"
      ]
     },
     "metadata": {},
     "output_type": "display_data"
    },
    {
     "data": {
      "application/vnd.jupyter.widget-view+json": {
       "model_id": "13238988633e455e93510fc3891c95aa",
       "version_major": 2,
       "version_minor": 0
      },
      "text/plain": [
       "Collect episodes:   0%|          | 0/3 [00:00<?, ?it/s]"
      ]
     },
     "metadata": {},
     "output_type": "display_data"
    },
    {
     "data": {
      "application/vnd.jupyter.widget-view+json": {
       "model_id": "63132074b83a4108b5eedc0e583a0e27",
       "version_major": 2,
       "version_minor": 0
      },
      "text/plain": [
       "Collect episodes:   0%|          | 0/3 [00:00<?, ?it/s]"
      ]
     },
     "metadata": {},
     "output_type": "display_data"
    },
    {
     "data": {
      "application/vnd.jupyter.widget-view+json": {
       "model_id": "f3038f2517e94c49b454f765024ecc35",
       "version_major": 2,
       "version_minor": 0
      },
      "text/plain": [
       "Collect episodes:   0%|          | 0/3 [00:00<?, ?it/s]"
      ]
     },
     "metadata": {},
     "output_type": "display_data"
    },
    {
     "data": {
      "application/vnd.jupyter.widget-view+json": {
       "model_id": "0f356d9aeaef4b61b75d7c6e2c08a623",
       "version_major": 2,
       "version_minor": 0
      },
      "text/plain": [
       "Collect episodes:   0%|          | 0/3 [00:00<?, ?it/s]"
      ]
     },
     "metadata": {},
     "output_type": "display_data"
    },
    {
     "data": {
      "application/vnd.jupyter.widget-view+json": {
       "model_id": "014b33431aa04633a8475a278adfebd9",
       "version_major": 2,
       "version_minor": 0
      },
      "text/plain": [
       "Collect episodes:   0%|          | 0/3 [00:00<?, ?it/s]"
      ]
     },
     "metadata": {},
     "output_type": "display_data"
    },
    {
     "data": {
      "application/vnd.jupyter.widget-view+json": {
       "model_id": "e6d4e973c8e04f5cad168b4352758611",
       "version_major": 2,
       "version_minor": 0
      },
      "text/plain": [
       "Collect episodes:   0%|          | 0/3 [00:00<?, ?it/s]"
      ]
     },
     "metadata": {},
     "output_type": "display_data"
    },
    {
     "data": {
      "application/vnd.jupyter.widget-view+json": {
       "model_id": "d020d77865364517918c60cdfc06eb29",
       "version_major": 2,
       "version_minor": 0
      },
      "text/plain": [
       "Collect episodes:   0%|          | 0/3 [00:00<?, ?it/s]"
      ]
     },
     "metadata": {},
     "output_type": "display_data"
    },
    {
     "data": {
      "application/vnd.jupyter.widget-view+json": {
       "model_id": "83a9ba65af1c47ad9b7227ec0b061820",
       "version_major": 2,
       "version_minor": 0
      },
      "text/plain": [
       "Collect episodes:   0%|          | 0/3 [00:00<?, ?it/s]"
      ]
     },
     "metadata": {},
     "output_type": "display_data"
    },
    {
     "data": {
      "application/vnd.jupyter.widget-view+json": {
       "model_id": "c662e3b72aac4128ae660f39599f1616",
       "version_major": 2,
       "version_minor": 0
      },
      "text/plain": [
       "Collect episodes:   0%|          | 0/3 [00:00<?, ?it/s]"
      ]
     },
     "metadata": {},
     "output_type": "display_data"
    },
    {
     "data": {
      "application/vnd.jupyter.widget-view+json": {
       "model_id": "a336c1579b3f4eef9079f50b37506340",
       "version_major": 2,
       "version_minor": 0
      },
      "text/plain": [
       "Collect episodes:   0%|          | 0/3 [00:00<?, ?it/s]"
      ]
     },
     "metadata": {},
     "output_type": "display_data"
    },
    {
     "data": {
      "application/vnd.jupyter.widget-view+json": {
       "model_id": "e6377dbb185e4a53afe6c1a44bfc6407",
       "version_major": 2,
       "version_minor": 0
      },
      "text/plain": [
       "Collect episodes:   0%|          | 0/3 [00:00<?, ?it/s]"
      ]
     },
     "metadata": {},
     "output_type": "display_data"
    },
    {
     "data": {
      "application/vnd.jupyter.widget-view+json": {
       "model_id": "e6e8d03cf7ac4a36989132c51c1b7ab6",
       "version_major": 2,
       "version_minor": 0
      },
      "text/plain": [
       "Collect episodes:   0%|          | 0/3 [00:00<?, ?it/s]"
      ]
     },
     "metadata": {},
     "output_type": "display_data"
    },
    {
     "data": {
      "application/vnd.jupyter.widget-view+json": {
       "model_id": "5a607f66e1e24757ad31fbfc62f733b8",
       "version_major": 2,
       "version_minor": 0
      },
      "text/plain": [
       "Collect episodes:   0%|          | 0/3 [00:00<?, ?it/s]"
      ]
     },
     "metadata": {},
     "output_type": "display_data"
    },
    {
     "data": {
      "application/vnd.jupyter.widget-view+json": {
       "model_id": "27e5c06ebb5f498d93310f774c1f9f08",
       "version_major": 2,
       "version_minor": 0
      },
      "text/plain": [
       "Collect episodes:   0%|          | 0/3 [00:00<?, ?it/s]"
      ]
     },
     "metadata": {},
     "output_type": "display_data"
    },
    {
     "data": {
      "application/vnd.jupyter.widget-view+json": {
       "model_id": "d61f8827e26f48ef904e6924c3b1feca",
       "version_major": 2,
       "version_minor": 0
      },
      "text/plain": [
       "Collect episodes:   0%|          | 0/3 [00:00<?, ?it/s]"
      ]
     },
     "metadata": {},
     "output_type": "display_data"
    },
    {
     "data": {
      "application/vnd.jupyter.widget-view+json": {
       "model_id": "ee56dea448a14b3781d462b0f1d72ad6",
       "version_major": 2,
       "version_minor": 0
      },
      "text/plain": [
       "Collect episodes:   0%|          | 0/3 [00:00<?, ?it/s]"
      ]
     },
     "metadata": {},
     "output_type": "display_data"
    },
    {
     "data": {
      "application/vnd.jupyter.widget-view+json": {
       "model_id": "74262bd600a0491fb26d8fcda0621244",
       "version_major": 2,
       "version_minor": 0
      },
      "text/plain": [
       "Collect episodes:   0%|          | 0/3 [00:00<?, ?it/s]"
      ]
     },
     "metadata": {},
     "output_type": "display_data"
    },
    {
     "data": {
      "application/vnd.jupyter.widget-view+json": {
       "model_id": "faf18d214fd149cd91ccd56b351679c5",
       "version_major": 2,
       "version_minor": 0
      },
      "text/plain": [
       "Collect episodes:   0%|          | 0/3 [00:00<?, ?it/s]"
      ]
     },
     "metadata": {},
     "output_type": "display_data"
    },
    {
     "data": {
      "application/vnd.jupyter.widget-view+json": {
       "model_id": "c860983d86854f1cb0f92f1d0549234d",
       "version_major": 2,
       "version_minor": 0
      },
      "text/plain": [
       "Collect episodes:   0%|          | 0/3 [00:00<?, ?it/s]"
      ]
     },
     "metadata": {},
     "output_type": "display_data"
    },
    {
     "data": {
      "application/vnd.jupyter.widget-view+json": {
       "model_id": "0657435007594f85bd61b7b171738811",
       "version_major": 2,
       "version_minor": 0
      },
      "text/plain": [
       "Collect episodes:   0%|          | 0/3 [00:00<?, ?it/s]"
      ]
     },
     "metadata": {},
     "output_type": "display_data"
    },
    {
     "data": {
      "application/vnd.jupyter.widget-view+json": {
       "model_id": "4c60eaebd7f148c3a6105bf100a68184",
       "version_major": 2,
       "version_minor": 0
      },
      "text/plain": [
       "Collect episodes:   0%|          | 0/3 [00:00<?, ?it/s]"
      ]
     },
     "metadata": {},
     "output_type": "display_data"
    },
    {
     "data": {
      "application/vnd.jupyter.widget-view+json": {
       "model_id": "65efc766b2964822b4122082654f1c01",
       "version_major": 2,
       "version_minor": 0
      },
      "text/plain": [
       "Collect episodes:   0%|          | 0/3 [00:00<?, ?it/s]"
      ]
     },
     "metadata": {},
     "output_type": "display_data"
    },
    {
     "data": {
      "application/vnd.jupyter.widget-view+json": {
       "model_id": "4bb5eb42ad9a4d62a241f4c74b7c5579",
       "version_major": 2,
       "version_minor": 0
      },
      "text/plain": [
       "Collect episodes:   0%|          | 0/3 [00:00<?, ?it/s]"
      ]
     },
     "metadata": {},
     "output_type": "display_data"
    },
    {
     "data": {
      "application/vnd.jupyter.widget-view+json": {
       "model_id": "c013fe641bca4b0aa927357c07c7f227",
       "version_major": 2,
       "version_minor": 0
      },
      "text/plain": [
       "Collect episodes:   0%|          | 0/3 [00:00<?, ?it/s]"
      ]
     },
     "metadata": {},
     "output_type": "display_data"
    },
    {
     "data": {
      "application/vnd.jupyter.widget-view+json": {
       "model_id": "e3a1b175129e403f8c5278368c5b2bdf",
       "version_major": 2,
       "version_minor": 0
      },
      "text/plain": [
       "Collect episodes:   0%|          | 0/3 [00:00<?, ?it/s]"
      ]
     },
     "metadata": {},
     "output_type": "display_data"
    },
    {
     "data": {
      "application/vnd.jupyter.widget-view+json": {
       "model_id": "1f4dd4dded46486dbeac9fb347bb14f2",
       "version_major": 2,
       "version_minor": 0
      },
      "text/plain": [
       "Collect episodes:   0%|          | 0/3 [00:00<?, ?it/s]"
      ]
     },
     "metadata": {},
     "output_type": "display_data"
    },
    {
     "data": {
      "application/vnd.jupyter.widget-view+json": {
       "model_id": "46964ccd72ba42e0a5dcf2bd6e48a9e9",
       "version_major": 2,
       "version_minor": 0
      },
      "text/plain": [
       "Collect episodes:   0%|          | 0/3 [00:00<?, ?it/s]"
      ]
     },
     "metadata": {},
     "output_type": "display_data"
    },
    {
     "data": {
      "application/vnd.jupyter.widget-view+json": {
       "model_id": "5bb8eebe5a2d41e5be0e6122c75d099e",
       "version_major": 2,
       "version_minor": 0
      },
      "text/plain": [
       "Collect episodes:   0%|          | 0/3 [00:00<?, ?it/s]"
      ]
     },
     "metadata": {},
     "output_type": "display_data"
    },
    {
     "data": {
      "application/vnd.jupyter.widget-view+json": {
       "model_id": "57af2b086096499d95a08a0b1b959b47",
       "version_major": 2,
       "version_minor": 0
      },
      "text/plain": [
       "Collect episodes:   0%|          | 0/3 [00:00<?, ?it/s]"
      ]
     },
     "metadata": {},
     "output_type": "display_data"
    },
    {
     "data": {
      "application/vnd.jupyter.widget-view+json": {
       "model_id": "9fde4b7ceb474b259d089cc7f7dea852",
       "version_major": 2,
       "version_minor": 0
      },
      "text/plain": [
       "Collect episodes:   0%|          | 0/3 [00:00<?, ?it/s]"
      ]
     },
     "metadata": {},
     "output_type": "display_data"
    },
    {
     "data": {
      "application/vnd.jupyter.widget-view+json": {
       "model_id": "5afa4ba5e8e7476c8efe8343a6606f4b",
       "version_major": 2,
       "version_minor": 0
      },
      "text/plain": [
       "Collect episodes:   0%|          | 0/3 [00:00<?, ?it/s]"
      ]
     },
     "metadata": {},
     "output_type": "display_data"
    },
    {
     "data": {
      "application/vnd.jupyter.widget-view+json": {
       "model_id": "413e4804e40a47c5be56bfac58266217",
       "version_major": 2,
       "version_minor": 0
      },
      "text/plain": [
       "Collect episodes:   0%|          | 0/3 [00:00<?, ?it/s]"
      ]
     },
     "metadata": {},
     "output_type": "display_data"
    },
    {
     "data": {
      "application/vnd.jupyter.widget-view+json": {
       "model_id": "51f4c8474aa344428b8496a850ffe803",
       "version_major": 2,
       "version_minor": 0
      },
      "text/plain": [
       "Collect episodes:   0%|          | 0/3 [00:00<?, ?it/s]"
      ]
     },
     "metadata": {},
     "output_type": "display_data"
    },
    {
     "data": {
      "application/vnd.jupyter.widget-view+json": {
       "model_id": "919bf29ffa8041f29223adf6f69201bc",
       "version_major": 2,
       "version_minor": 0
      },
      "text/plain": [
       "Collect episodes:   0%|          | 0/3 [00:00<?, ?it/s]"
      ]
     },
     "metadata": {},
     "output_type": "display_data"
    },
    {
     "data": {
      "application/vnd.jupyter.widget-view+json": {
       "model_id": "84476c92e18548d8afb155e122b2135e",
       "version_major": 2,
       "version_minor": 0
      },
      "text/plain": [
       "Collect episodes:   0%|          | 0/3 [00:00<?, ?it/s]"
      ]
     },
     "metadata": {},
     "output_type": "display_data"
    },
    {
     "data": {
      "application/vnd.jupyter.widget-view+json": {
       "model_id": "0d2a15da28d64072851548029c3eac2d",
       "version_major": 2,
       "version_minor": 0
      },
      "text/plain": [
       "Collect episodes:   0%|          | 0/3 [00:00<?, ?it/s]"
      ]
     },
     "metadata": {},
     "output_type": "display_data"
    },
    {
     "data": {
      "application/vnd.jupyter.widget-view+json": {
       "model_id": "685500a76701454c8cba8bffc6a16011",
       "version_major": 2,
       "version_minor": 0
      },
      "text/plain": [
       "Collect episodes:   0%|          | 0/3 [00:00<?, ?it/s]"
      ]
     },
     "metadata": {},
     "output_type": "display_data"
    },
    {
     "data": {
      "application/vnd.jupyter.widget-view+json": {
       "model_id": "0a830c75071d40cb94135554c4d6140f",
       "version_major": 2,
       "version_minor": 0
      },
      "text/plain": [
       "Collect episodes:   0%|          | 0/3 [00:00<?, ?it/s]"
      ]
     },
     "metadata": {},
     "output_type": "display_data"
    },
    {
     "data": {
      "application/vnd.jupyter.widget-view+json": {
       "model_id": "7108314d2d79467c9ef8a2895384c3eb",
       "version_major": 2,
       "version_minor": 0
      },
      "text/plain": [
       "Collect episodes:   0%|          | 0/3 [00:00<?, ?it/s]"
      ]
     },
     "metadata": {},
     "output_type": "display_data"
    },
    {
     "data": {
      "application/vnd.jupyter.widget-view+json": {
       "model_id": "f4d11e97740d4355b79d014534e94f60",
       "version_major": 2,
       "version_minor": 0
      },
      "text/plain": [
       "Collect episodes:   0%|          | 0/3 [00:00<?, ?it/s]"
      ]
     },
     "metadata": {},
     "output_type": "display_data"
    },
    {
     "data": {
      "application/vnd.jupyter.widget-view+json": {
       "model_id": "346b7dbd276940ac920166092c3d9fc2",
       "version_major": 2,
       "version_minor": 0
      },
      "text/plain": [
       "Collect episodes:   0%|          | 0/3 [00:00<?, ?it/s]"
      ]
     },
     "metadata": {},
     "output_type": "display_data"
    },
    {
     "data": {
      "application/vnd.jupyter.widget-view+json": {
       "model_id": "debd0123d50e439297fadae1195fcc07",
       "version_major": 2,
       "version_minor": 0
      },
      "text/plain": [
       "Collect episodes:   0%|          | 0/3 [00:00<?, ?it/s]"
      ]
     },
     "metadata": {},
     "output_type": "display_data"
    },
    {
     "data": {
      "application/vnd.jupyter.widget-view+json": {
       "model_id": "b93d9ce02bde4e53bcea64f3db123b48",
       "version_major": 2,
       "version_minor": 0
      },
      "text/plain": [
       "Collect episodes:   0%|          | 0/3 [00:00<?, ?it/s]"
      ]
     },
     "metadata": {},
     "output_type": "display_data"
    },
    {
     "data": {
      "application/vnd.jupyter.widget-view+json": {
       "model_id": "25fe913a60974d2f8fae676131e2f6b6",
       "version_major": 2,
       "version_minor": 0
      },
      "text/plain": [
       "Collect episodes:   0%|          | 0/3 [00:00<?, ?it/s]"
      ]
     },
     "metadata": {},
     "output_type": "display_data"
    },
    {
     "data": {
      "application/vnd.jupyter.widget-view+json": {
       "model_id": "05911f76890f4d8f83bbdd606dec1232",
       "version_major": 2,
       "version_minor": 0
      },
      "text/plain": [
       "Collect episodes:   0%|          | 0/3 [00:00<?, ?it/s]"
      ]
     },
     "metadata": {},
     "output_type": "display_data"
    },
    {
     "data": {
      "application/vnd.jupyter.widget-view+json": {
       "model_id": "bbf64bbc76e84e8d961c23ceada8851b",
       "version_major": 2,
       "version_minor": 0
      },
      "text/plain": [
       "Collect episodes:   0%|          | 0/3 [00:00<?, ?it/s]"
      ]
     },
     "metadata": {},
     "output_type": "display_data"
    },
    {
     "data": {
      "application/vnd.jupyter.widget-view+json": {
       "model_id": "25007aa107494e78b2e3f5f2dd1943c0",
       "version_major": 2,
       "version_minor": 0
      },
      "text/plain": [
       "Collect episodes:   0%|          | 0/3 [00:00<?, ?it/s]"
      ]
     },
     "metadata": {},
     "output_type": "display_data"
    },
    {
     "data": {
      "application/vnd.jupyter.widget-view+json": {
       "model_id": "92e2292ff9ce4f009f4eaf9ac09e6c56",
       "version_major": 2,
       "version_minor": 0
      },
      "text/plain": [
       "Collect episodes:   0%|          | 0/3 [00:00<?, ?it/s]"
      ]
     },
     "metadata": {},
     "output_type": "display_data"
    },
    {
     "data": {
      "application/vnd.jupyter.widget-view+json": {
       "model_id": "04264d96017f4824a1bd926cee365744",
       "version_major": 2,
       "version_minor": 0
      },
      "text/plain": [
       "Collect episodes:   0%|          | 0/3 [00:00<?, ?it/s]"
      ]
     },
     "metadata": {},
     "output_type": "display_data"
    },
    {
     "data": {
      "application/vnd.jupyter.widget-view+json": {
       "model_id": "1e40a864712a414ebca61c085def87b2",
       "version_major": 2,
       "version_minor": 0
      },
      "text/plain": [
       "Collect episodes:   0%|          | 0/3 [00:00<?, ?it/s]"
      ]
     },
     "metadata": {},
     "output_type": "display_data"
    },
    {
     "data": {
      "application/vnd.jupyter.widget-view+json": {
       "model_id": "ebc323f800a24a07b5dc0e45a92e1b25",
       "version_major": 2,
       "version_minor": 0
      },
      "text/plain": [
       "Collect episodes:   0%|          | 0/3 [00:00<?, ?it/s]"
      ]
     },
     "metadata": {},
     "output_type": "display_data"
    },
    {
     "data": {
      "application/vnd.jupyter.widget-view+json": {
       "model_id": "6796efbfc3c2403a8b2173f94b42bce1",
       "version_major": 2,
       "version_minor": 0
      },
      "text/plain": [
       "Collect episodes:   0%|          | 0/3 [00:00<?, ?it/s]"
      ]
     },
     "metadata": {},
     "output_type": "display_data"
    },
    {
     "data": {
      "application/vnd.jupyter.widget-view+json": {
       "model_id": "14c134244d984303b794c533d5501ee9",
       "version_major": 2,
       "version_minor": 0
      },
      "text/plain": [
       "Collect episodes:   0%|          | 0/3 [00:00<?, ?it/s]"
      ]
     },
     "metadata": {},
     "output_type": "display_data"
    },
    {
     "data": {
      "application/vnd.jupyter.widget-view+json": {
       "model_id": "eb47d58f91054225a9b89fc7ff8385ab",
       "version_major": 2,
       "version_minor": 0
      },
      "text/plain": [
       "Collect episodes:   0%|          | 0/3 [00:00<?, ?it/s]"
      ]
     },
     "metadata": {},
     "output_type": "display_data"
    },
    {
     "data": {
      "application/vnd.jupyter.widget-view+json": {
       "model_id": "e071b5a1cc6a45b9882bed9a3701bb9b",
       "version_major": 2,
       "version_minor": 0
      },
      "text/plain": [
       "Collect episodes:   0%|          | 0/3 [00:00<?, ?it/s]"
      ]
     },
     "metadata": {},
     "output_type": "display_data"
    },
    {
     "data": {
      "application/vnd.jupyter.widget-view+json": {
       "model_id": "6c26b76c324644d698c1fecc0700b840",
       "version_major": 2,
       "version_minor": 0
      },
      "text/plain": [
       "Collect episodes:   0%|          | 0/3 [00:00<?, ?it/s]"
      ]
     },
     "metadata": {},
     "output_type": "display_data"
    },
    {
     "data": {
      "application/vnd.jupyter.widget-view+json": {
       "model_id": "2d96e200869d485d998a9fd49d60acf7",
       "version_major": 2,
       "version_minor": 0
      },
      "text/plain": [
       "Collect episodes:   0%|          | 0/3 [00:00<?, ?it/s]"
      ]
     },
     "metadata": {},
     "output_type": "display_data"
    },
    {
     "data": {
      "application/vnd.jupyter.widget-view+json": {
       "model_id": "ddb7a32fc73e4285b1f7c16483ff8df8",
       "version_major": 2,
       "version_minor": 0
      },
      "text/plain": [
       "Collect episodes:   0%|          | 0/3 [00:00<?, ?it/s]"
      ]
     },
     "metadata": {},
     "output_type": "display_data"
    },
    {
     "data": {
      "application/vnd.jupyter.widget-view+json": {
       "model_id": "137e258c5c9548dcb01a3c55df3745a1",
       "version_major": 2,
       "version_minor": 0
      },
      "text/plain": [
       "Collect episodes:   0%|          | 0/3 [00:00<?, ?it/s]"
      ]
     },
     "metadata": {},
     "output_type": "display_data"
    },
    {
     "data": {
      "application/vnd.jupyter.widget-view+json": {
       "model_id": "1da5165a200c415980c38673e1a818fe",
       "version_major": 2,
       "version_minor": 0
      },
      "text/plain": [
       "Collect episodes:   0%|          | 0/3 [00:00<?, ?it/s]"
      ]
     },
     "metadata": {},
     "output_type": "display_data"
    },
    {
     "data": {
      "application/vnd.jupyter.widget-view+json": {
       "model_id": "094fe0dbc84d4c00a56992c8589d5291",
       "version_major": 2,
       "version_minor": 0
      },
      "text/plain": [
       "Collect episodes:   0%|          | 0/3 [00:00<?, ?it/s]"
      ]
     },
     "metadata": {},
     "output_type": "display_data"
    },
    {
     "data": {
      "application/vnd.jupyter.widget-view+json": {
       "model_id": "2c8d767606394ec9b53b4dcba42088a9",
       "version_major": 2,
       "version_minor": 0
      },
      "text/plain": [
       "Collect episodes:   0%|          | 0/3 [00:00<?, ?it/s]"
      ]
     },
     "metadata": {},
     "output_type": "display_data"
    },
    {
     "data": {
      "application/vnd.jupyter.widget-view+json": {
       "model_id": "a29b97c8d5b24a5a970a9ab72c9d21f0",
       "version_major": 2,
       "version_minor": 0
      },
      "text/plain": [
       "Collect episodes:   0%|          | 0/3 [00:00<?, ?it/s]"
      ]
     },
     "metadata": {},
     "output_type": "display_data"
    },
    {
     "data": {
      "application/vnd.jupyter.widget-view+json": {
       "model_id": "04ab75353ba74d19ba2563ecfbcef2e3",
       "version_major": 2,
       "version_minor": 0
      },
      "text/plain": [
       "Collect episodes:   0%|          | 0/3 [00:00<?, ?it/s]"
      ]
     },
     "metadata": {},
     "output_type": "display_data"
    },
    {
     "data": {
      "application/vnd.jupyter.widget-view+json": {
       "model_id": "ea0eb8ae757b4d79b772c1b8bad139a7",
       "version_major": 2,
       "version_minor": 0
      },
      "text/plain": [
       "Collect episodes:   0%|          | 0/3 [00:00<?, ?it/s]"
      ]
     },
     "metadata": {},
     "output_type": "display_data"
    },
    {
     "data": {
      "application/vnd.jupyter.widget-view+json": {
       "model_id": "61c73c0b60f643d68fc6e7d55acddaed",
       "version_major": 2,
       "version_minor": 0
      },
      "text/plain": [
       "Collect episodes:   0%|          | 0/3 [00:00<?, ?it/s]"
      ]
     },
     "metadata": {},
     "output_type": "display_data"
    },
    {
     "data": {
      "application/vnd.jupyter.widget-view+json": {
       "model_id": "263756164d064f6696d5ee9822190dbd",
       "version_major": 2,
       "version_minor": 0
      },
      "text/plain": [
       "Collect episodes:   0%|          | 0/3 [00:00<?, ?it/s]"
      ]
     },
     "metadata": {},
     "output_type": "display_data"
    },
    {
     "data": {
      "application/vnd.jupyter.widget-view+json": {
       "model_id": "16acc6392fa24e4090f26c7f7e76e558",
       "version_major": 2,
       "version_minor": 0
      },
      "text/plain": [
       "Collect episodes:   0%|          | 0/3 [00:00<?, ?it/s]"
      ]
     },
     "metadata": {},
     "output_type": "display_data"
    },
    {
     "data": {
      "application/vnd.jupyter.widget-view+json": {
       "model_id": "7a91c4a673294151b26c263687ffdaf6",
       "version_major": 2,
       "version_minor": 0
      },
      "text/plain": [
       "Collect episodes:   0%|          | 0/3 [00:00<?, ?it/s]"
      ]
     },
     "metadata": {},
     "output_type": "display_data"
    },
    {
     "data": {
      "application/vnd.jupyter.widget-view+json": {
       "model_id": "096c2729caff4fc99b86635ea4c6b441",
       "version_major": 2,
       "version_minor": 0
      },
      "text/plain": [
       "Collect episodes:   0%|          | 0/3 [00:00<?, ?it/s]"
      ]
     },
     "metadata": {},
     "output_type": "display_data"
    },
    {
     "data": {
      "application/vnd.jupyter.widget-view+json": {
       "model_id": "8fe3f8503ad44a60b61762d097fab006",
       "version_major": 2,
       "version_minor": 0
      },
      "text/plain": [
       "Collect episodes:   0%|          | 0/3 [00:00<?, ?it/s]"
      ]
     },
     "metadata": {},
     "output_type": "display_data"
    },
    {
     "data": {
      "application/vnd.jupyter.widget-view+json": {
       "model_id": "00d5302331d24819882a3f51dd7aeb76",
       "version_major": 2,
       "version_minor": 0
      },
      "text/plain": [
       "Collect episodes:   0%|          | 0/3 [00:00<?, ?it/s]"
      ]
     },
     "metadata": {},
     "output_type": "display_data"
    },
    {
     "data": {
      "application/vnd.jupyter.widget-view+json": {
       "model_id": "75b9e3a6dd794ee0ba6313f5f5038924",
       "version_major": 2,
       "version_minor": 0
      },
      "text/plain": [
       "Collect episodes:   0%|          | 0/3 [00:00<?, ?it/s]"
      ]
     },
     "metadata": {},
     "output_type": "display_data"
    },
    {
     "data": {
      "application/vnd.jupyter.widget-view+json": {
       "model_id": "20b4080d16b34a688ff220a2d49f3360",
       "version_major": 2,
       "version_minor": 0
      },
      "text/plain": [
       "Collect episodes:   0%|          | 0/3 [00:00<?, ?it/s]"
      ]
     },
     "metadata": {},
     "output_type": "display_data"
    },
    {
     "data": {
      "application/vnd.jupyter.widget-view+json": {
       "model_id": "a7e072c579f549a782d3effc3a60ce4d",
       "version_major": 2,
       "version_minor": 0
      },
      "text/plain": [
       "Collect episodes:   0%|          | 0/3 [00:00<?, ?it/s]"
      ]
     },
     "metadata": {},
     "output_type": "display_data"
    },
    {
     "data": {
      "application/vnd.jupyter.widget-view+json": {
       "model_id": "f69674ac399546d0ab5cbe9d60571d2e",
       "version_major": 2,
       "version_minor": 0
      },
      "text/plain": [
       "Collect episodes:   0%|          | 0/3 [00:00<?, ?it/s]"
      ]
     },
     "metadata": {},
     "output_type": "display_data"
    },
    {
     "data": {
      "application/vnd.jupyter.widget-view+json": {
       "model_id": "3067085054c34e00b8d2158c53c3e0fd",
       "version_major": 2,
       "version_minor": 0
      },
      "text/plain": [
       "Collect episodes:   0%|          | 0/3 [00:00<?, ?it/s]"
      ]
     },
     "metadata": {},
     "output_type": "display_data"
    },
    {
     "data": {
      "application/vnd.jupyter.widget-view+json": {
       "model_id": "2a756ecb4f5b41fcafca6324f0b48989",
       "version_major": 2,
       "version_minor": 0
      },
      "text/plain": [
       "Collect episodes:   0%|          | 0/3 [00:00<?, ?it/s]"
      ]
     },
     "metadata": {},
     "output_type": "display_data"
    },
    {
     "data": {
      "application/vnd.jupyter.widget-view+json": {
       "model_id": "978fdf03848b4d6e9fd70e3605966dbc",
       "version_major": 2,
       "version_minor": 0
      },
      "text/plain": [
       "Collect episodes:   0%|          | 0/3 [00:00<?, ?it/s]"
      ]
     },
     "metadata": {},
     "output_type": "display_data"
    },
    {
     "data": {
      "application/vnd.jupyter.widget-view+json": {
       "model_id": "0f4ac1ca01594f598a5ec028f21f6a41",
       "version_major": 2,
       "version_minor": 0
      },
      "text/plain": [
       "Collect episodes:   0%|          | 0/3 [00:00<?, ?it/s]"
      ]
     },
     "metadata": {},
     "output_type": "display_data"
    },
    {
     "data": {
      "application/vnd.jupyter.widget-view+json": {
       "model_id": "21be875725884e2eb67f53b7e45347ef",
       "version_major": 2,
       "version_minor": 0
      },
      "text/plain": [
       "Collect episodes:   0%|          | 0/3 [00:00<?, ?it/s]"
      ]
     },
     "metadata": {},
     "output_type": "display_data"
    },
    {
     "data": {
      "application/vnd.jupyter.widget-view+json": {
       "model_id": "5ef0bd6a0cb54a2aa984d6662a8b5b5c",
       "version_major": 2,
       "version_minor": 0
      },
      "text/plain": [
       "Collect episodes:   0%|          | 0/3 [00:00<?, ?it/s]"
      ]
     },
     "metadata": {},
     "output_type": "display_data"
    },
    {
     "data": {
      "application/vnd.jupyter.widget-view+json": {
       "model_id": "e51b66d0456640b880d366532e3b5c3e",
       "version_major": 2,
       "version_minor": 0
      },
      "text/plain": [
       "Collect episodes:   0%|          | 0/3 [00:00<?, ?it/s]"
      ]
     },
     "metadata": {},
     "output_type": "display_data"
    },
    {
     "data": {
      "application/vnd.jupyter.widget-view+json": {
       "model_id": "e19d49d5ff54413187f70ab2dd6ce6a0",
       "version_major": 2,
       "version_minor": 0
      },
      "text/plain": [
       "Collect episodes:   0%|          | 0/3 [00:00<?, ?it/s]"
      ]
     },
     "metadata": {},
     "output_type": "display_data"
    },
    {
     "data": {
      "application/vnd.jupyter.widget-view+json": {
       "model_id": "bdb11908d3f24b01b42fabecab077ef1",
       "version_major": 2,
       "version_minor": 0
      },
      "text/plain": [
       "Collect episodes:   0%|          | 0/3 [00:00<?, ?it/s]"
      ]
     },
     "metadata": {},
     "output_type": "display_data"
    },
    {
     "data": {
      "application/vnd.jupyter.widget-view+json": {
       "model_id": "6297e624b8e04f159f735daa0a8e581a",
       "version_major": 2,
       "version_minor": 0
      },
      "text/plain": [
       "Collect episodes:   0%|          | 0/3 [00:00<?, ?it/s]"
      ]
     },
     "metadata": {},
     "output_type": "display_data"
    },
    {
     "data": {
      "application/vnd.jupyter.widget-view+json": {
       "model_id": "61f13879245946d59deb283ea65db05b",
       "version_major": 2,
       "version_minor": 0
      },
      "text/plain": [
       "Collect episodes:   0%|          | 0/3 [00:00<?, ?it/s]"
      ]
     },
     "metadata": {},
     "output_type": "display_data"
    },
    {
     "data": {
      "application/vnd.jupyter.widget-view+json": {
       "model_id": "7b6ed7dd92d0412c90eaacef5d555745",
       "version_major": 2,
       "version_minor": 0
      },
      "text/plain": [
       "Collect episodes:   0%|          | 0/3 [00:00<?, ?it/s]"
      ]
     },
     "metadata": {},
     "output_type": "display_data"
    },
    {
     "data": {
      "application/vnd.jupyter.widget-view+json": {
       "model_id": "f6ab1b258ee94433b7c5cf08dd0a8ef9",
       "version_major": 2,
       "version_minor": 0
      },
      "text/plain": [
       "Collect episodes:   0%|          | 0/3 [00:00<?, ?it/s]"
      ]
     },
     "metadata": {},
     "output_type": "display_data"
    },
    {
     "data": {
      "application/vnd.jupyter.widget-view+json": {
       "model_id": "16f33f7311a44e459aad61a0eb481464",
       "version_major": 2,
       "version_minor": 0
      },
      "text/plain": [
       "Collect episodes:   0%|          | 0/3 [00:00<?, ?it/s]"
      ]
     },
     "metadata": {},
     "output_type": "display_data"
    },
    {
     "data": {
      "application/vnd.jupyter.widget-view+json": {
       "model_id": "4a9f026083974ef7b0677c0ed44e40b4",
       "version_major": 2,
       "version_minor": 0
      },
      "text/plain": [
       "Collect episodes:   0%|          | 0/3 [00:00<?, ?it/s]"
      ]
     },
     "metadata": {},
     "output_type": "display_data"
    },
    {
     "data": {
      "application/vnd.jupyter.widget-view+json": {
       "model_id": "87fdb5bbc207441f9e03037bff71cd39",
       "version_major": 2,
       "version_minor": 0
      },
      "text/plain": [
       "Collect episodes:   0%|          | 0/3 [00:00<?, ?it/s]"
      ]
     },
     "metadata": {},
     "output_type": "display_data"
    },
    {
     "data": {
      "application/vnd.jupyter.widget-view+json": {
       "model_id": "fa8707c0768140afbd58bc2823e89be9",
       "version_major": 2,
       "version_minor": 0
      },
      "text/plain": [
       "Collect episodes:   0%|          | 0/3 [00:00<?, ?it/s]"
      ]
     },
     "metadata": {},
     "output_type": "display_data"
    },
    {
     "name": "stdout",
     "output_type": "stream",
     "text": [
      "[I 2025-02-25 17:37:42,208] Trial 1 finished with value: 2167.4861813861403 and parameters: {'learning_rate': 0.0003013782953792595, 'n_steps': 733, 'batch_size': 247, 'gamma': 0.9561809235961739, 'gae_lambda': 0.8521382431828594, 'ent_coef': 0.016112422385531015, 'vf_coef': 0.8820560002986977, 'clip_range': 0.2605218719180772, 'max_grad_norm': 0.2541676920780071}. Best is trial 1 with value: 2167.4861813861403.\n",
      "[I 2025-02-25 17:38:05,965] Trial 2 finished with value: 2171.3972779789174 and parameters: {'learning_rate': 0.00010411425232915082, 'n_steps': 282, 'batch_size': 160, 'gamma': 0.9109791740437164, 'gae_lambda': 0.940028753772623, 'ent_coef': 0.010151278083469642, 'vf_coef': 0.7574533418881059, 'clip_range': 0.11068308973902517, 'max_grad_norm': 0.7304943615636335}. Best is trial 2 with value: 2171.3972779789174.\n",
      "[I 2025-02-25 17:38:26,132] Trial 7 finished with value: 2170.9305270996865 and parameters: {'learning_rate': 3.153798632408535e-05, 'n_steps': 230, 'batch_size': 95, 'gamma': 0.9737583652947351, 'gae_lambda': 0.891614610456762, 'ent_coef': 0.0028532794028110486, 'vf_coef': 0.3964719380477938, 'clip_range': 0.17732030924453626, 'max_grad_norm': 0.4586539727409841}. Best is trial 2 with value: 2171.3972779789174.\n"
     ]
    },
    {
     "data": {
      "application/vnd.jupyter.widget-view+json": {
       "model_id": "e8ddbbfdf8af4c398bb0db1a2c53b6d7",
       "version_major": 2,
       "version_minor": 0
      },
      "text/plain": [
       "Collect episodes:   0%|          | 0/3 [00:00<?, ?it/s]"
      ]
     },
     "metadata": {},
     "output_type": "display_data"
    },
    {
     "name": "stdout",
     "output_type": "stream",
     "text": [
      "[I 2025-02-25 17:38:38,020] Trial 6 finished with value: 2171.20315513742 and parameters: {'learning_rate': 3.662559264627972e-05, 'n_steps': 74, 'batch_size': 76, 'gamma': 0.9375170539146958, 'gae_lambda': 0.9379372283498484, 'ent_coef': 0.000233058325136164, 'vf_coef': 0.5047900228465663, 'clip_range': 0.10544347135449249, 'max_grad_norm': 0.5988212047146474}. Best is trial 2 with value: 2171.3972779789174.\n",
      "[I 2025-02-25 17:38:41,838] Trial 5 finished with value: 2169.911584578915 and parameters: {'learning_rate': 0.00019506285158486523, 'n_steps': 54, 'batch_size': 55, 'gamma': 0.9911787769574796, 'gae_lambda': 0.8343857488128679, 'ent_coef': 0.0036270385569936183, 'vf_coef': 0.58679510913267, 'clip_range': 0.28297981567386676, 'max_grad_norm': 0.7909494061523988}. Best is trial 2 with value: 2171.3972779789174.\n",
      "[I 2025-02-25 17:39:24,382] Trial 0 finished with value: 2175.652307607354 and parameters: {'learning_rate': 0.00042357193050137054, 'n_steps': 747, 'batch_size': 36, 'gamma': 0.964127898030469, 'gae_lambda': 0.9644764458282054, 'ent_coef': 0.0003322401263958041, 'vf_coef': 0.7899038041346093, 'clip_range': 0.11315474413185495, 'max_grad_norm': 0.7093403652664247}. Best is trial 0 with value: 2175.652307607354.\n",
      "[I 2025-02-25 17:39:33,113] Trial 3 finished with value: 2168.0621432873972 and parameters: {'learning_rate': 0.0006116665263593483, 'n_steps': 120, 'batch_size': 35, 'gamma': 0.9685384682316944, 'gae_lambda': 0.8139561133208018, 'ent_coef': 0.016852594255111434, 'vf_coef': 0.2238943500724921, 'clip_range': 0.21636142835882527, 'max_grad_norm': 0.7418968614717749}. Best is trial 0 with value: 2175.652307607354.\n",
      "[I 2025-02-25 17:39:51,926] Trial 4 finished with value: 2163.0363771347143 and parameters: {'learning_rate': 0.0007355812346385444, 'n_steps': 108, 'batch_size': 22, 'gamma': 0.9009144744823129, 'gae_lambda': 0.8149448337864622, 'ent_coef': 0.01072070780741456, 'vf_coef': 0.9705466149353564, 'clip_range': 0.2877364798260623, 'max_grad_norm': 0.6557548096744481}. Best is trial 0 with value: 2175.652307607354.\n"
     ]
    },
    {
     "data": {
      "application/vnd.jupyter.widget-view+json": {
       "model_id": "c206a9748f4942e5b49ac5dd76703201",
       "version_major": 2,
       "version_minor": 0
      },
      "text/plain": [
       "seeds:   0%|          | 0/30 [00:00<?, ?it/s]"
      ]
     },
     "metadata": {},
     "output_type": "display_data"
    },
    {
     "data": {
      "application/vnd.jupyter.widget-view+json": {
       "model_id": "a3d2631beb3444cdaeee015826826445",
       "version_major": 2,
       "version_minor": 0
      },
      "text/plain": [
       "Collect episodes:   0%|          | 0/3 [00:00<?, ?it/s]"
      ]
     },
     "metadata": {},
     "output_type": "display_data"
    },
    {
     "data": {
      "application/vnd.jupyter.widget-view+json": {
       "model_id": "f3cab5220afb4a65bbd4da54a31ab019",
       "version_major": 2,
       "version_minor": 0
      },
      "text/plain": [
       "seeds:   0%|          | 0/30 [00:00<?, ?it/s]"
      ]
     },
     "metadata": {},
     "output_type": "display_data"
    },
    {
     "data": {
      "application/vnd.jupyter.widget-view+json": {
       "model_id": "b06277139ecd4f2e9423e06a99b07a51",
       "version_major": 2,
       "version_minor": 0
      },
      "text/plain": [
       "Collect episodes:   0%|          | 0/3 [00:00<?, ?it/s]"
      ]
     },
     "metadata": {},
     "output_type": "display_data"
    },
    {
     "data": {
      "application/vnd.jupyter.widget-view+json": {
       "model_id": "260a21c2cc434c0683b5038c7db6b79c",
       "version_major": 2,
       "version_minor": 0
      },
      "text/plain": [
       "Collect episodes:   0%|          | 0/3 [00:00<?, ?it/s]"
      ]
     },
     "metadata": {},
     "output_type": "display_data"
    },
    {
     "data": {
      "application/vnd.jupyter.widget-view+json": {
       "model_id": "bbe07d605f9a49a3a96d03cb35d3d2ba",
       "version_major": 2,
       "version_minor": 0
      },
      "text/plain": [
       "Collect episodes:   0%|          | 0/3 [00:00<?, ?it/s]"
      ]
     },
     "metadata": {},
     "output_type": "display_data"
    },
    {
     "data": {
      "application/vnd.jupyter.widget-view+json": {
       "model_id": "3edbac9f661f48878501c4a73805b753",
       "version_major": 2,
       "version_minor": 0
      },
      "text/plain": [
       "Collect episodes:   0%|          | 0/3 [00:00<?, ?it/s]"
      ]
     },
     "metadata": {},
     "output_type": "display_data"
    },
    {
     "data": {
      "application/vnd.jupyter.widget-view+json": {
       "model_id": "f873ad79a32b4c76ac56d01e244638e3",
       "version_major": 2,
       "version_minor": 0
      },
      "text/plain": [
       "Collect episodes:   0%|          | 0/3 [00:00<?, ?it/s]"
      ]
     },
     "metadata": {},
     "output_type": "display_data"
    },
    {
     "data": {
      "application/vnd.jupyter.widget-view+json": {
       "model_id": "d32ebda0cbf9439e8cfa6386f886b8e0",
       "version_major": 2,
       "version_minor": 0
      },
      "text/plain": [
       "Collect episodes:   0%|          | 0/3 [00:00<?, ?it/s]"
      ]
     },
     "metadata": {},
     "output_type": "display_data"
    },
    {
     "data": {
      "application/vnd.jupyter.widget-view+json": {
       "model_id": "854e3e1be92646c4b4b7d8db7f2f0468",
       "version_major": 2,
       "version_minor": 0
      },
      "text/plain": [
       "Collect episodes:   0%|          | 0/3 [00:00<?, ?it/s]"
      ]
     },
     "metadata": {},
     "output_type": "display_data"
    },
    {
     "data": {
      "application/vnd.jupyter.widget-view+json": {
       "model_id": "8613dd467e894db3a05786127282e897",
       "version_major": 2,
       "version_minor": 0
      },
      "text/plain": [
       "Collect episodes:   0%|          | 0/3 [00:00<?, ?it/s]"
      ]
     },
     "metadata": {},
     "output_type": "display_data"
    },
    {
     "data": {
      "application/vnd.jupyter.widget-view+json": {
       "model_id": "69b842441be243a5b4f76e3c00ac182e",
       "version_major": 2,
       "version_minor": 0
      },
      "text/plain": [
       "Collect episodes:   0%|          | 0/3 [00:00<?, ?it/s]"
      ]
     },
     "metadata": {},
     "output_type": "display_data"
    },
    {
     "data": {
      "application/vnd.jupyter.widget-view+json": {
       "model_id": "7d59a0e8f7a048dfa7875fed69fd09c5",
       "version_major": 2,
       "version_minor": 0
      },
      "text/plain": [
       "Collect episodes:   0%|          | 0/3 [00:00<?, ?it/s]"
      ]
     },
     "metadata": {},
     "output_type": "display_data"
    },
    {
     "data": {
      "application/vnd.jupyter.widget-view+json": {
       "model_id": "8bc08cbb1ada47878d8d9e34c3d519c7",
       "version_major": 2,
       "version_minor": 0
      },
      "text/plain": [
       "Collect episodes:   0%|          | 0/3 [00:00<?, ?it/s]"
      ]
     },
     "metadata": {},
     "output_type": "display_data"
    },
    {
     "data": {
      "application/vnd.jupyter.widget-view+json": {
       "model_id": "b4543f894c094e87aa89f8bbb37b009e",
       "version_major": 2,
       "version_minor": 0
      },
      "text/plain": [
       "Collect episodes:   0%|          | 0/3 [00:00<?, ?it/s]"
      ]
     },
     "metadata": {},
     "output_type": "display_data"
    },
    {
     "data": {
      "application/vnd.jupyter.widget-view+json": {
       "model_id": "ccdd3d244be540fa81f3280363f8b535",
       "version_major": 2,
       "version_minor": 0
      },
      "text/plain": [
       "Collect episodes:   0%|          | 0/3 [00:00<?, ?it/s]"
      ]
     },
     "metadata": {},
     "output_type": "display_data"
    },
    {
     "data": {
      "application/vnd.jupyter.widget-view+json": {
       "model_id": "9080c2db7408403d9508ff2da4f7cbe8",
       "version_major": 2,
       "version_minor": 0
      },
      "text/plain": [
       "Collect episodes:   0%|          | 0/3 [00:00<?, ?it/s]"
      ]
     },
     "metadata": {},
     "output_type": "display_data"
    },
    {
     "data": {
      "application/vnd.jupyter.widget-view+json": {
       "model_id": "fdcf7dcbf9da48c4ab4cf2e58702bc64",
       "version_major": 2,
       "version_minor": 0
      },
      "text/plain": [
       "Collect episodes:   0%|          | 0/3 [00:00<?, ?it/s]"
      ]
     },
     "metadata": {},
     "output_type": "display_data"
    },
    {
     "data": {
      "application/vnd.jupyter.widget-view+json": {
       "model_id": "bc0e2e69d0064ccc85ecefa5378e7d5b",
       "version_major": 2,
       "version_minor": 0
      },
      "text/plain": [
       "Collect episodes:   0%|          | 0/3 [00:00<?, ?it/s]"
      ]
     },
     "metadata": {},
     "output_type": "display_data"
    },
    {
     "data": {
      "application/vnd.jupyter.widget-view+json": {
       "model_id": "1e384da26e684b32bf57fbc3d3c16fbf",
       "version_major": 2,
       "version_minor": 0
      },
      "text/plain": [
       "Collect episodes:   0%|          | 0/3 [00:00<?, ?it/s]"
      ]
     },
     "metadata": {},
     "output_type": "display_data"
    },
    {
     "data": {
      "application/vnd.jupyter.widget-view+json": {
       "model_id": "337e93d624e3429798b31a705bf5a7b1",
       "version_major": 2,
       "version_minor": 0
      },
      "text/plain": [
       "Collect episodes:   0%|          | 0/3 [00:00<?, ?it/s]"
      ]
     },
     "metadata": {},
     "output_type": "display_data"
    },
    {
     "data": {
      "application/vnd.jupyter.widget-view+json": {
       "model_id": "e15b9c652a254328a798ab01533e8aa1",
       "version_major": 2,
       "version_minor": 0
      },
      "text/plain": [
       "Collect episodes:   0%|          | 0/3 [00:00<?, ?it/s]"
      ]
     },
     "metadata": {},
     "output_type": "display_data"
    },
    {
     "data": {
      "application/vnd.jupyter.widget-view+json": {
       "model_id": "ee04a94297664d8d9da23a457bfefea6",
       "version_major": 2,
       "version_minor": 0
      },
      "text/plain": [
       "Collect episodes:   0%|          | 0/3 [00:00<?, ?it/s]"
      ]
     },
     "metadata": {},
     "output_type": "display_data"
    },
    {
     "data": {
      "application/vnd.jupyter.widget-view+json": {
       "model_id": "48e1c6cb121a414c88f93b4ccc609dc2",
       "version_major": 2,
       "version_minor": 0
      },
      "text/plain": [
       "Collect episodes:   0%|          | 0/3 [00:00<?, ?it/s]"
      ]
     },
     "metadata": {},
     "output_type": "display_data"
    },
    {
     "data": {
      "application/vnd.jupyter.widget-view+json": {
       "model_id": "4d869b80540547e1abfd8ad467213dce",
       "version_major": 2,
       "version_minor": 0
      },
      "text/plain": [
       "Collect episodes:   0%|          | 0/3 [00:00<?, ?it/s]"
      ]
     },
     "metadata": {},
     "output_type": "display_data"
    },
    {
     "data": {
      "application/vnd.jupyter.widget-view+json": {
       "model_id": "55b9f5dd902e4c919722e216cae36c8b",
       "version_major": 2,
       "version_minor": 0
      },
      "text/plain": [
       "Collect episodes:   0%|          | 0/3 [00:00<?, ?it/s]"
      ]
     },
     "metadata": {},
     "output_type": "display_data"
    },
    {
     "data": {
      "application/vnd.jupyter.widget-view+json": {
       "model_id": "0a350c9c1aec4a17adcd09659d682f39",
       "version_major": 2,
       "version_minor": 0
      },
      "text/plain": [
       "Collect episodes:   0%|          | 0/3 [00:00<?, ?it/s]"
      ]
     },
     "metadata": {},
     "output_type": "display_data"
    },
    {
     "data": {
      "application/vnd.jupyter.widget-view+json": {
       "model_id": "e4df51be4b1b4545b8f1732ccaa95bd8",
       "version_major": 2,
       "version_minor": 0
      },
      "text/plain": [
       "Collect episodes:   0%|          | 0/3 [00:00<?, ?it/s]"
      ]
     },
     "metadata": {},
     "output_type": "display_data"
    },
    {
     "data": {
      "application/vnd.jupyter.widget-view+json": {
       "model_id": "f0397b8683b14bc3b3765e923a0dbdcc",
       "version_major": 2,
       "version_minor": 0
      },
      "text/plain": [
       "Collect episodes:   0%|          | 0/3 [00:00<?, ?it/s]"
      ]
     },
     "metadata": {},
     "output_type": "display_data"
    },
    {
     "data": {
      "application/vnd.jupyter.widget-view+json": {
       "model_id": "0528181e4bf94a4c831d1186b164e90a",
       "version_major": 2,
       "version_minor": 0
      },
      "text/plain": [
       "Collect episodes:   0%|          | 0/3 [00:00<?, ?it/s]"
      ]
     },
     "metadata": {},
     "output_type": "display_data"
    },
    {
     "data": {
      "application/vnd.jupyter.widget-view+json": {
       "model_id": "4c23db8b94ab4b1cb4bb346acc4eb5d7",
       "version_major": 2,
       "version_minor": 0
      },
      "text/plain": [
       "Collect episodes:   0%|          | 0/3 [00:00<?, ?it/s]"
      ]
     },
     "metadata": {},
     "output_type": "display_data"
    },
    {
     "data": {
      "application/vnd.jupyter.widget-view+json": {
       "model_id": "230eca5729e848439e45fb38ba72efab",
       "version_major": 2,
       "version_minor": 0
      },
      "text/plain": [
       "Collect episodes:   0%|          | 0/3 [00:00<?, ?it/s]"
      ]
     },
     "metadata": {},
     "output_type": "display_data"
    },
    {
     "data": {
      "application/vnd.jupyter.widget-view+json": {
       "model_id": "ed7e26dac0e84dc8ba33a269cf3dae4c",
       "version_major": 2,
       "version_minor": 0
      },
      "text/plain": [
       "Collect episodes:   0%|          | 0/3 [00:00<?, ?it/s]"
      ]
     },
     "metadata": {},
     "output_type": "display_data"
    },
    {
     "data": {
      "application/vnd.jupyter.widget-view+json": {
       "model_id": "2fea088858834bda948e7ce386b61d72",
       "version_major": 2,
       "version_minor": 0
      },
      "text/plain": [
       "Collect episodes:   0%|          | 0/3 [00:00<?, ?it/s]"
      ]
     },
     "metadata": {},
     "output_type": "display_data"
    },
    {
     "data": {
      "application/vnd.jupyter.widget-view+json": {
       "model_id": "199f87a7274d4d9aaed97538611ad57d",
       "version_major": 2,
       "version_minor": 0
      },
      "text/plain": [
       "Collect episodes:   0%|          | 0/3 [00:00<?, ?it/s]"
      ]
     },
     "metadata": {},
     "output_type": "display_data"
    },
    {
     "data": {
      "application/vnd.jupyter.widget-view+json": {
       "model_id": "4d9afa5adeb44f49acb1ccf18295379d",
       "version_major": 2,
       "version_minor": 0
      },
      "text/plain": [
       "Collect episodes:   0%|          | 0/3 [00:00<?, ?it/s]"
      ]
     },
     "metadata": {},
     "output_type": "display_data"
    },
    {
     "data": {
      "application/vnd.jupyter.widget-view+json": {
       "model_id": "d930eb4b855247229cfad7f50a67063c",
       "version_major": 2,
       "version_minor": 0
      },
      "text/plain": [
       "Collect episodes:   0%|          | 0/3 [00:00<?, ?it/s]"
      ]
     },
     "metadata": {},
     "output_type": "display_data"
    },
    {
     "data": {
      "application/vnd.jupyter.widget-view+json": {
       "model_id": "462db8caafc54519a397a24426a0d0db",
       "version_major": 2,
       "version_minor": 0
      },
      "text/plain": [
       "Collect episodes:   0%|          | 0/3 [00:00<?, ?it/s]"
      ]
     },
     "metadata": {},
     "output_type": "display_data"
    },
    {
     "data": {
      "application/vnd.jupyter.widget-view+json": {
       "model_id": "a8de3a9ed7854cd6b173cae7fd8d3e04",
       "version_major": 2,
       "version_minor": 0
      },
      "text/plain": [
       "Collect episodes:   0%|          | 0/3 [00:00<?, ?it/s]"
      ]
     },
     "metadata": {},
     "output_type": "display_data"
    },
    {
     "data": {
      "application/vnd.jupyter.widget-view+json": {
       "model_id": "d39c3201d7be4f9f8b26f5fe4e615aeb",
       "version_major": 2,
       "version_minor": 0
      },
      "text/plain": [
       "Collect episodes:   0%|          | 0/3 [00:00<?, ?it/s]"
      ]
     },
     "metadata": {},
     "output_type": "display_data"
    },
    {
     "data": {
      "application/vnd.jupyter.widget-view+json": {
       "model_id": "3da9bc02ea5844a787a8a78e40be0967",
       "version_major": 2,
       "version_minor": 0
      },
      "text/plain": [
       "Collect episodes:   0%|          | 0/3 [00:00<?, ?it/s]"
      ]
     },
     "metadata": {},
     "output_type": "display_data"
    },
    {
     "data": {
      "application/vnd.jupyter.widget-view+json": {
       "model_id": "904e57b4345341f6a48c1dff8c8ceaaf",
       "version_major": 2,
       "version_minor": 0
      },
      "text/plain": [
       "Collect episodes:   0%|          | 0/3 [00:00<?, ?it/s]"
      ]
     },
     "metadata": {},
     "output_type": "display_data"
    },
    {
     "data": {
      "application/vnd.jupyter.widget-view+json": {
       "model_id": "43d27c6dad6d49e79142aea4f2037893",
       "version_major": 2,
       "version_minor": 0
      },
      "text/plain": [
       "Collect episodes:   0%|          | 0/3 [00:00<?, ?it/s]"
      ]
     },
     "metadata": {},
     "output_type": "display_data"
    },
    {
     "data": {
      "application/vnd.jupyter.widget-view+json": {
       "model_id": "b51bb83e01784bc099f1b2c9c4d492ca",
       "version_major": 2,
       "version_minor": 0
      },
      "text/plain": [
       "Collect episodes:   0%|          | 0/3 [00:00<?, ?it/s]"
      ]
     },
     "metadata": {},
     "output_type": "display_data"
    },
    {
     "data": {
      "application/vnd.jupyter.widget-view+json": {
       "model_id": "215d159b1e66484dbf4ddc90ee1dfa61",
       "version_major": 2,
       "version_minor": 0
      },
      "text/plain": [
       "Collect episodes:   0%|          | 0/3 [00:00<?, ?it/s]"
      ]
     },
     "metadata": {},
     "output_type": "display_data"
    },
    {
     "data": {
      "application/vnd.jupyter.widget-view+json": {
       "model_id": "bf71ddf32c834d4bb80a747787897491",
       "version_major": 2,
       "version_minor": 0
      },
      "text/plain": [
       "Collect episodes:   0%|          | 0/3 [00:00<?, ?it/s]"
      ]
     },
     "metadata": {},
     "output_type": "display_data"
    },
    {
     "data": {
      "application/vnd.jupyter.widget-view+json": {
       "model_id": "53ac6b71f31142d3afdc10cf72d1b14c",
       "version_major": 2,
       "version_minor": 0
      },
      "text/plain": [
       "Collect episodes:   0%|          | 0/3 [00:00<?, ?it/s]"
      ]
     },
     "metadata": {},
     "output_type": "display_data"
    },
    {
     "data": {
      "application/vnd.jupyter.widget-view+json": {
       "model_id": "98d3e398e3484975bbb65152de8941e4",
       "version_major": 2,
       "version_minor": 0
      },
      "text/plain": [
       "Collect episodes:   0%|          | 0/3 [00:00<?, ?it/s]"
      ]
     },
     "metadata": {},
     "output_type": "display_data"
    },
    {
     "data": {
      "application/vnd.jupyter.widget-view+json": {
       "model_id": "adefcef882224d1c83964f0f267b349e",
       "version_major": 2,
       "version_minor": 0
      },
      "text/plain": [
       "Collect episodes:   0%|          | 0/3 [00:00<?, ?it/s]"
      ]
     },
     "metadata": {},
     "output_type": "display_data"
    },
    {
     "data": {
      "application/vnd.jupyter.widget-view+json": {
       "model_id": "6fd287b4d46449cda20162c9d6d869f8",
       "version_major": 2,
       "version_minor": 0
      },
      "text/plain": [
       "Collect episodes:   0%|          | 0/3 [00:00<?, ?it/s]"
      ]
     },
     "metadata": {},
     "output_type": "display_data"
    },
    {
     "data": {
      "application/vnd.jupyter.widget-view+json": {
       "model_id": "5a05494a3c8e4997979ff806de125ca1",
       "version_major": 2,
       "version_minor": 0
      },
      "text/plain": [
       "Collect episodes:   0%|          | 0/3 [00:00<?, ?it/s]"
      ]
     },
     "metadata": {},
     "output_type": "display_data"
    },
    {
     "data": {
      "application/vnd.jupyter.widget-view+json": {
       "model_id": "ba14961e59d1476b9e52efe0f934d957",
       "version_major": 2,
       "version_minor": 0
      },
      "text/plain": [
       "Collect episodes:   0%|          | 0/3 [00:00<?, ?it/s]"
      ]
     },
     "metadata": {},
     "output_type": "display_data"
    },
    {
     "data": {
      "application/vnd.jupyter.widget-view+json": {
       "model_id": "653130a5ff51456497f73675c6280a76",
       "version_major": 2,
       "version_minor": 0
      },
      "text/plain": [
       "Collect episodes:   0%|          | 0/3 [00:00<?, ?it/s]"
      ]
     },
     "metadata": {},
     "output_type": "display_data"
    },
    {
     "data": {
      "application/vnd.jupyter.widget-view+json": {
       "model_id": "caede6c7b21a4177b357754dcb83d923",
       "version_major": 2,
       "version_minor": 0
      },
      "text/plain": [
       "Collect episodes:   0%|          | 0/3 [00:00<?, ?it/s]"
      ]
     },
     "metadata": {},
     "output_type": "display_data"
    },
    {
     "data": {
      "application/vnd.jupyter.widget-view+json": {
       "model_id": "cb5ab308fd9b4bd19f447b42feab3edd",
       "version_major": 2,
       "version_minor": 0
      },
      "text/plain": [
       "Collect episodes:   0%|          | 0/3 [00:00<?, ?it/s]"
      ]
     },
     "metadata": {},
     "output_type": "display_data"
    },
    {
     "data": {
      "application/vnd.jupyter.widget-view+json": {
       "model_id": "4a61aa44759442e59b14a67c110f841d",
       "version_major": 2,
       "version_minor": 0
      },
      "text/plain": [
       "Collect episodes:   0%|          | 0/3 [00:00<?, ?it/s]"
      ]
     },
     "metadata": {},
     "output_type": "display_data"
    },
    {
     "data": {
      "application/vnd.jupyter.widget-view+json": {
       "model_id": "dbc1ea9c0eab4ff1937baa1774d5cdf7",
       "version_major": 2,
       "version_minor": 0
      },
      "text/plain": [
       "Collect episodes:   0%|          | 0/3 [00:00<?, ?it/s]"
      ]
     },
     "metadata": {},
     "output_type": "display_data"
    },
    {
     "data": {
      "application/vnd.jupyter.widget-view+json": {
       "model_id": "a8cdc6166c2f4881aadff5097d1cb2c4",
       "version_major": 2,
       "version_minor": 0
      },
      "text/plain": [
       "Collect episodes:   0%|          | 0/3 [00:00<?, ?it/s]"
      ]
     },
     "metadata": {},
     "output_type": "display_data"
    },
    {
     "data": {
      "application/vnd.jupyter.widget-view+json": {
       "model_id": "9042ba1ede074d23b1e29e0766f53bef",
       "version_major": 2,
       "version_minor": 0
      },
      "text/plain": [
       "Collect episodes:   0%|          | 0/3 [00:00<?, ?it/s]"
      ]
     },
     "metadata": {},
     "output_type": "display_data"
    },
    {
     "data": {
      "application/vnd.jupyter.widget-view+json": {
       "model_id": "cf63efa73f704d8eb925b253c39ed4a4",
       "version_major": 2,
       "version_minor": 0
      },
      "text/plain": [
       "Collect episodes:   0%|          | 0/3 [00:00<?, ?it/s]"
      ]
     },
     "metadata": {},
     "output_type": "display_data"
    },
    {
     "data": {
      "application/vnd.jupyter.widget-view+json": {
       "model_id": "e1a1bd28e1854f0f8b91988ac2429096",
       "version_major": 2,
       "version_minor": 0
      },
      "text/plain": [
       "Collect episodes:   0%|          | 0/3 [00:00<?, ?it/s]"
      ]
     },
     "metadata": {},
     "output_type": "display_data"
    },
    {
     "data": {
      "application/vnd.jupyter.widget-view+json": {
       "model_id": "08fdf536d75b4f5ea67f217fd53726cd",
       "version_major": 2,
       "version_minor": 0
      },
      "text/plain": [
       "Collect episodes:   0%|          | 0/3 [00:00<?, ?it/s]"
      ]
     },
     "metadata": {},
     "output_type": "display_data"
    },
    {
     "name": "stdout",
     "output_type": "stream",
     "text": [
      "[I 2025-02-25 17:57:10,029] Trial 8 finished with value: 2170.055078716262 and parameters: {'learning_rate': 0.00013185759763542724, 'n_steps': 921, 'batch_size': 54, 'gamma': 0.9068261347929678, 'gae_lambda': 0.8786786724817562, 'ent_coef': 0.00638246751933137, 'vf_coef': 0.13591984816063743, 'clip_range': 0.28033338524185314, 'max_grad_norm': 0.35656920790810454}. Best is trial 0 with value: 2175.652307607354.\n",
      "[I 2025-02-25 17:57:15,484] Trial 9 finished with value: 2171.342910783646 and parameters: {'learning_rate': 9.804872997228437e-05, 'n_steps': 100, 'batch_size': 34, 'gamma': 0.9601555906509587, 'gae_lambda': 0.9718339416049988, 'ent_coef': 0.011038474437473498, 'vf_coef': 0.8655720118898798, 'clip_range': 0.2783440900293963, 'max_grad_norm': 0.931289650910097}. Best is trial 0 with value: 2175.652307607354.\n"
     ]
    },
    {
     "data": {
      "application/vnd.jupyter.widget-view+json": {
       "model_id": "13d77394cf4d48d0a91fd5aea8b808e5",
       "version_major": 2,
       "version_minor": 0
      },
      "text/plain": [
       "seeds:   0%|          | 0/30 [00:00<?, ?it/s]"
      ]
     },
     "metadata": {},
     "output_type": "display_data"
    },
    {
     "data": {
      "application/vnd.jupyter.widget-view+json": {
       "model_id": "0bb203c237ea4745b586f8db67befb18",
       "version_major": 2,
       "version_minor": 0
      },
      "text/plain": [
       "Training episodes:   0%|          | 0/3 [00:00<?, ?it/s]"
      ]
     },
     "metadata": {},
     "output_type": "display_data"
    },
    {
     "data": {
      "application/vnd.jupyter.widget-view+json": {
       "model_id": "bf50564cfe60409392a8bcc7b06e72a9",
       "version_major": 2,
       "version_minor": 0
      },
      "text/plain": [
       "Training episodes:   0%|          | 0/3 [00:00<?, ?it/s]"
      ]
     },
     "metadata": {},
     "output_type": "display_data"
    },
    {
     "data": {
      "application/vnd.jupyter.widget-view+json": {
       "model_id": "7578ba4f0261460993113deaa6546776",
       "version_major": 2,
       "version_minor": 0
      },
      "text/plain": [
       "Training episodes:   0%|          | 0/3 [00:00<?, ?it/s]"
      ]
     },
     "metadata": {},
     "output_type": "display_data"
    },
    {
     "data": {
      "application/vnd.jupyter.widget-view+json": {
       "model_id": "1afcdb950bb14b9eb776700dbd0c29d4",
       "version_major": 2,
       "version_minor": 0
      },
      "text/plain": [
       "Training episodes:   0%|          | 0/3 [00:00<?, ?it/s]"
      ]
     },
     "metadata": {},
     "output_type": "display_data"
    },
    {
     "data": {
      "application/vnd.jupyter.widget-view+json": {
       "model_id": "54e796ba2a374189820ce46d7f619963",
       "version_major": 2,
       "version_minor": 0
      },
      "text/plain": [
       "Training episodes:   0%|          | 0/3 [00:00<?, ?it/s]"
      ]
     },
     "metadata": {},
     "output_type": "display_data"
    },
    {
     "data": {
      "application/vnd.jupyter.widget-view+json": {
       "model_id": "889830a6ed7d4e57ad5bf18de3c88397",
       "version_major": 2,
       "version_minor": 0
      },
      "text/plain": [
       "Training episodes:   0%|          | 0/3 [00:00<?, ?it/s]"
      ]
     },
     "metadata": {},
     "output_type": "display_data"
    },
    {
     "data": {
      "application/vnd.jupyter.widget-view+json": {
       "model_id": "113be9398d60413abef8cfc8ad405857",
       "version_major": 2,
       "version_minor": 0
      },
      "text/plain": [
       "Training episodes:   0%|          | 0/3 [00:00<?, ?it/s]"
      ]
     },
     "metadata": {},
     "output_type": "display_data"
    },
    {
     "data": {
      "application/vnd.jupyter.widget-view+json": {
       "model_id": "c73f9d19dc404f5e8a7f06b43358bde5",
       "version_major": 2,
       "version_minor": 0
      },
      "text/plain": [
       "Training episodes:   0%|          | 0/3 [00:00<?, ?it/s]"
      ]
     },
     "metadata": {},
     "output_type": "display_data"
    },
    {
     "data": {
      "application/vnd.jupyter.widget-view+json": {
       "model_id": "4ab7edd3373443ad9cbf7a1ae456dfa8",
       "version_major": 2,
       "version_minor": 0
      },
      "text/plain": [
       "Training episodes:   0%|          | 0/3 [00:00<?, ?it/s]"
      ]
     },
     "metadata": {},
     "output_type": "display_data"
    },
    {
     "data": {
      "application/vnd.jupyter.widget-view+json": {
       "model_id": "f2876ffbb2f34194b22420eb4ee4c1f8",
       "version_major": 2,
       "version_minor": 0
      },
      "text/plain": [
       "Training episodes:   0%|          | 0/3 [00:00<?, ?it/s]"
      ]
     },
     "metadata": {},
     "output_type": "display_data"
    },
    {
     "data": {
      "application/vnd.jupyter.widget-view+json": {
       "model_id": "eae94d52badc45a8bc36640b9270734f",
       "version_major": 2,
       "version_minor": 0
      },
      "text/plain": [
       "Training episodes:   0%|          | 0/3 [00:00<?, ?it/s]"
      ]
     },
     "metadata": {},
     "output_type": "display_data"
    },
    {
     "data": {
      "application/vnd.jupyter.widget-view+json": {
       "model_id": "7caef254c164477787208b63fc53b1b0",
       "version_major": 2,
       "version_minor": 0
      },
      "text/plain": [
       "Training episodes:   0%|          | 0/3 [00:00<?, ?it/s]"
      ]
     },
     "metadata": {},
     "output_type": "display_data"
    },
    {
     "data": {
      "application/vnd.jupyter.widget-view+json": {
       "model_id": "8587944a519f450fabaf155e36038457",
       "version_major": 2,
       "version_minor": 0
      },
      "text/plain": [
       "Training episodes:   0%|          | 0/3 [00:00<?, ?it/s]"
      ]
     },
     "metadata": {},
     "output_type": "display_data"
    },
    {
     "data": {
      "application/vnd.jupyter.widget-view+json": {
       "model_id": "2c4f6c9c9b2340ef906e68e6abaeb547",
       "version_major": 2,
       "version_minor": 0
      },
      "text/plain": [
       "Training episodes:   0%|          | 0/3 [00:00<?, ?it/s]"
      ]
     },
     "metadata": {},
     "output_type": "display_data"
    },
    {
     "data": {
      "application/vnd.jupyter.widget-view+json": {
       "model_id": "6627297e6da24c59a75e3860d066dfac",
       "version_major": 2,
       "version_minor": 0
      },
      "text/plain": [
       "Training episodes:   0%|          | 0/3 [00:00<?, ?it/s]"
      ]
     },
     "metadata": {},
     "output_type": "display_data"
    },
    {
     "data": {
      "application/vnd.jupyter.widget-view+json": {
       "model_id": "90f1e28440bb470b9ecd5b7d3200cd99",
       "version_major": 2,
       "version_minor": 0
      },
      "text/plain": [
       "Training episodes:   0%|          | 0/3 [00:00<?, ?it/s]"
      ]
     },
     "metadata": {},
     "output_type": "display_data"
    },
    {
     "data": {
      "application/vnd.jupyter.widget-view+json": {
       "model_id": "6deaff166e9745f2a01b9063f818e4be",
       "version_major": 2,
       "version_minor": 0
      },
      "text/plain": [
       "Training episodes:   0%|          | 0/3 [00:00<?, ?it/s]"
      ]
     },
     "metadata": {},
     "output_type": "display_data"
    },
    {
     "data": {
      "application/vnd.jupyter.widget-view+json": {
       "model_id": "cff71bf6d6514102b7e3164c07f3995d",
       "version_major": 2,
       "version_minor": 0
      },
      "text/plain": [
       "Training episodes:   0%|          | 0/3 [00:00<?, ?it/s]"
      ]
     },
     "metadata": {},
     "output_type": "display_data"
    },
    {
     "data": {
      "application/vnd.jupyter.widget-view+json": {
       "model_id": "f25f903eff974cd0abd7dd5e60df76f0",
       "version_major": 2,
       "version_minor": 0
      },
      "text/plain": [
       "Training episodes:   0%|          | 0/3 [00:00<?, ?it/s]"
      ]
     },
     "metadata": {},
     "output_type": "display_data"
    },
    {
     "data": {
      "application/vnd.jupyter.widget-view+json": {
       "model_id": "358bd2d60eee448a941408c7e026fb18",
       "version_major": 2,
       "version_minor": 0
      },
      "text/plain": [
       "Training episodes:   0%|          | 0/3 [00:00<?, ?it/s]"
      ]
     },
     "metadata": {},
     "output_type": "display_data"
    },
    {
     "data": {
      "application/vnd.jupyter.widget-view+json": {
       "model_id": "8d13b7b53b6c4b059bda002ec7d30921",
       "version_major": 2,
       "version_minor": 0
      },
      "text/plain": [
       "Training episodes:   0%|          | 0/3 [00:00<?, ?it/s]"
      ]
     },
     "metadata": {},
     "output_type": "display_data"
    },
    {
     "data": {
      "application/vnd.jupyter.widget-view+json": {
       "model_id": "fc7cb60ded2c49e093305c1db8821f78",
       "version_major": 2,
       "version_minor": 0
      },
      "text/plain": [
       "Training episodes:   0%|          | 0/3 [00:00<?, ?it/s]"
      ]
     },
     "metadata": {},
     "output_type": "display_data"
    },
    {
     "data": {
      "application/vnd.jupyter.widget-view+json": {
       "model_id": "cae327b3ae574e898ab5d51f1aeffb2a",
       "version_major": 2,
       "version_minor": 0
      },
      "text/plain": [
       "Training episodes:   0%|          | 0/3 [00:00<?, ?it/s]"
      ]
     },
     "metadata": {},
     "output_type": "display_data"
    },
    {
     "data": {
      "application/vnd.jupyter.widget-view+json": {
       "model_id": "7302597e636744d993aec0056792a444",
       "version_major": 2,
       "version_minor": 0
      },
      "text/plain": [
       "Training episodes:   0%|          | 0/3 [00:00<?, ?it/s]"
      ]
     },
     "metadata": {},
     "output_type": "display_data"
    },
    {
     "data": {
      "application/vnd.jupyter.widget-view+json": {
       "model_id": "bf2d4dfea7114b029d08a323b9126b34",
       "version_major": 2,
       "version_minor": 0
      },
      "text/plain": [
       "Training episodes:   0%|          | 0/3 [00:00<?, ?it/s]"
      ]
     },
     "metadata": {},
     "output_type": "display_data"
    },
    {
     "data": {
      "application/vnd.jupyter.widget-view+json": {
       "model_id": "dc0295d67d1b419b96333621392d721f",
       "version_major": 2,
       "version_minor": 0
      },
      "text/plain": [
       "Training episodes:   0%|          | 0/3 [00:00<?, ?it/s]"
      ]
     },
     "metadata": {},
     "output_type": "display_data"
    },
    {
     "data": {
      "application/vnd.jupyter.widget-view+json": {
       "model_id": "c164127efd4a4c868e7ecc8d9a2f48ae",
       "version_major": 2,
       "version_minor": 0
      },
      "text/plain": [
       "Training episodes:   0%|          | 0/3 [00:00<?, ?it/s]"
      ]
     },
     "metadata": {},
     "output_type": "display_data"
    },
    {
     "data": {
      "application/vnd.jupyter.widget-view+json": {
       "model_id": "08d3e43319574d7cbb365347cab15f17",
       "version_major": 2,
       "version_minor": 0
      },
      "text/plain": [
       "Training episodes:   0%|          | 0/3 [00:00<?, ?it/s]"
      ]
     },
     "metadata": {},
     "output_type": "display_data"
    },
    {
     "data": {
      "application/vnd.jupyter.widget-view+json": {
       "model_id": "75bbf0403c9947a4bde7c9cb17b5e27e",
       "version_major": 2,
       "version_minor": 0
      },
      "text/plain": [
       "Training episodes:   0%|          | 0/3 [00:00<?, ?it/s]"
      ]
     },
     "metadata": {},
     "output_type": "display_data"
    },
    {
     "data": {
      "application/vnd.jupyter.widget-view+json": {
       "model_id": "2dc939910a24468ebada7951a7b4ee83",
       "version_major": 2,
       "version_minor": 0
      },
      "text/plain": [
       "Training episodes:   0%|          | 0/3 [00:00<?, ?it/s]"
      ]
     },
     "metadata": {},
     "output_type": "display_data"
    },
    {
     "data": {
      "application/vnd.jupyter.widget-view+json": {
       "model_id": "f4879f78cb0a4c73bccee056d6b83a80",
       "version_major": 2,
       "version_minor": 0
      },
      "text/plain": [
       "seeds:   0%|          | 0/30 [00:00<?, ?it/s]"
      ]
     },
     "metadata": {},
     "output_type": "display_data"
    },
    {
     "data": {
      "application/vnd.jupyter.widget-view+json": {
       "model_id": "8617b7e91e6c40f582872d6d307250f4",
       "version_major": 2,
       "version_minor": 0
      },
      "text/plain": [
       "Evaluation episodes:   0%|          | 0/3 [00:00<?, ?it/s]"
      ]
     },
     "metadata": {},
     "output_type": "display_data"
    },
    {
     "data": {
      "application/vnd.jupyter.widget-view+json": {
       "model_id": "f6d9269f79f54c898403e2d9b715bd42",
       "version_major": 2,
       "version_minor": 0
      },
      "text/plain": [
       "Evaluation episodes:   0%|          | 0/3 [00:00<?, ?it/s]"
      ]
     },
     "metadata": {},
     "output_type": "display_data"
    },
    {
     "data": {
      "application/vnd.jupyter.widget-view+json": {
       "model_id": "9adaf469e0f7471b82a67649e181caf6",
       "version_major": 2,
       "version_minor": 0
      },
      "text/plain": [
       "Evaluation episodes:   0%|          | 0/3 [00:00<?, ?it/s]"
      ]
     },
     "metadata": {},
     "output_type": "display_data"
    },
    {
     "data": {
      "application/vnd.jupyter.widget-view+json": {
       "model_id": "dbb44ee978e74693918b25439b3b2ec9",
       "version_major": 2,
       "version_minor": 0
      },
      "text/plain": [
       "Evaluation episodes:   0%|          | 0/3 [00:00<?, ?it/s]"
      ]
     },
     "metadata": {},
     "output_type": "display_data"
    },
    {
     "data": {
      "application/vnd.jupyter.widget-view+json": {
       "model_id": "a078abd828404bc2967be8cf82ea887f",
       "version_major": 2,
       "version_minor": 0
      },
      "text/plain": [
       "Evaluation episodes:   0%|          | 0/3 [00:00<?, ?it/s]"
      ]
     },
     "metadata": {},
     "output_type": "display_data"
    },
    {
     "data": {
      "application/vnd.jupyter.widget-view+json": {
       "model_id": "711d9e6325564e488e9a31f5c102df31",
       "version_major": 2,
       "version_minor": 0
      },
      "text/plain": [
       "Evaluation episodes:   0%|          | 0/3 [00:00<?, ?it/s]"
      ]
     },
     "metadata": {},
     "output_type": "display_data"
    },
    {
     "data": {
      "application/vnd.jupyter.widget-view+json": {
       "model_id": "0086c5271fc74e67aadf21ea6e71bec6",
       "version_major": 2,
       "version_minor": 0
      },
      "text/plain": [
       "Evaluation episodes:   0%|          | 0/3 [00:00<?, ?it/s]"
      ]
     },
     "metadata": {},
     "output_type": "display_data"
    },
    {
     "data": {
      "application/vnd.jupyter.widget-view+json": {
       "model_id": "39989e09fb6946bd85c7cd7b6c94dd37",
       "version_major": 2,
       "version_minor": 0
      },
      "text/plain": [
       "Evaluation episodes:   0%|          | 0/3 [00:00<?, ?it/s]"
      ]
     },
     "metadata": {},
     "output_type": "display_data"
    },
    {
     "data": {
      "application/vnd.jupyter.widget-view+json": {
       "model_id": "b56c73c079eb4e77beeac391faecbd84",
       "version_major": 2,
       "version_minor": 0
      },
      "text/plain": [
       "Evaluation episodes:   0%|          | 0/3 [00:00<?, ?it/s]"
      ]
     },
     "metadata": {},
     "output_type": "display_data"
    },
    {
     "data": {
      "application/vnd.jupyter.widget-view+json": {
       "model_id": "f407752f27274a478fa7e8da3da6a99e",
       "version_major": 2,
       "version_minor": 0
      },
      "text/plain": [
       "Evaluation episodes:   0%|          | 0/3 [00:00<?, ?it/s]"
      ]
     },
     "metadata": {},
     "output_type": "display_data"
    },
    {
     "data": {
      "application/vnd.jupyter.widget-view+json": {
       "model_id": "7e61fe09907f4b589f0855c492ac6169",
       "version_major": 2,
       "version_minor": 0
      },
      "text/plain": [
       "Evaluation episodes:   0%|          | 0/3 [00:00<?, ?it/s]"
      ]
     },
     "metadata": {},
     "output_type": "display_data"
    },
    {
     "data": {
      "application/vnd.jupyter.widget-view+json": {
       "model_id": "2088e673d7964c6faad646de96f0f233",
       "version_major": 2,
       "version_minor": 0
      },
      "text/plain": [
       "Evaluation episodes:   0%|          | 0/3 [00:00<?, ?it/s]"
      ]
     },
     "metadata": {},
     "output_type": "display_data"
    },
    {
     "data": {
      "application/vnd.jupyter.widget-view+json": {
       "model_id": "9a728fdc79124ddaacdb4622e0ee6718",
       "version_major": 2,
       "version_minor": 0
      },
      "text/plain": [
       "Evaluation episodes:   0%|          | 0/3 [00:00<?, ?it/s]"
      ]
     },
     "metadata": {},
     "output_type": "display_data"
    },
    {
     "data": {
      "application/vnd.jupyter.widget-view+json": {
       "model_id": "e87922bf80004da9b736a186cc2a9ee0",
       "version_major": 2,
       "version_minor": 0
      },
      "text/plain": [
       "Evaluation episodes:   0%|          | 0/3 [00:00<?, ?it/s]"
      ]
     },
     "metadata": {},
     "output_type": "display_data"
    },
    {
     "data": {
      "application/vnd.jupyter.widget-view+json": {
       "model_id": "72a759fb19b04849a7027407294b3772",
       "version_major": 2,
       "version_minor": 0
      },
      "text/plain": [
       "Evaluation episodes:   0%|          | 0/3 [00:00<?, ?it/s]"
      ]
     },
     "metadata": {},
     "output_type": "display_data"
    },
    {
     "data": {
      "application/vnd.jupyter.widget-view+json": {
       "model_id": "3b18f557a4ab4746b83fbde27bf402b2",
       "version_major": 2,
       "version_minor": 0
      },
      "text/plain": [
       "Evaluation episodes:   0%|          | 0/3 [00:00<?, ?it/s]"
      ]
     },
     "metadata": {},
     "output_type": "display_data"
    },
    {
     "data": {
      "application/vnd.jupyter.widget-view+json": {
       "model_id": "48d00551d8f648fcabd22fb01e41769b",
       "version_major": 2,
       "version_minor": 0
      },
      "text/plain": [
       "Evaluation episodes:   0%|          | 0/3 [00:00<?, ?it/s]"
      ]
     },
     "metadata": {},
     "output_type": "display_data"
    },
    {
     "data": {
      "application/vnd.jupyter.widget-view+json": {
       "model_id": "cbedca120e2c492e97b3f789369bc7f2",
       "version_major": 2,
       "version_minor": 0
      },
      "text/plain": [
       "Evaluation episodes:   0%|          | 0/3 [00:00<?, ?it/s]"
      ]
     },
     "metadata": {},
     "output_type": "display_data"
    },
    {
     "data": {
      "application/vnd.jupyter.widget-view+json": {
       "model_id": "cd3b1c6da8954da0afaa5f826248520b",
       "version_major": 2,
       "version_minor": 0
      },
      "text/plain": [
       "Evaluation episodes:   0%|          | 0/3 [00:00<?, ?it/s]"
      ]
     },
     "metadata": {},
     "output_type": "display_data"
    },
    {
     "data": {
      "application/vnd.jupyter.widget-view+json": {
       "model_id": "5b438870507c4202b6f1216f8eb1a6b9",
       "version_major": 2,
       "version_minor": 0
      },
      "text/plain": [
       "Evaluation episodes:   0%|          | 0/3 [00:00<?, ?it/s]"
      ]
     },
     "metadata": {},
     "output_type": "display_data"
    },
    {
     "data": {
      "application/vnd.jupyter.widget-view+json": {
       "model_id": "80b1814bed074cae865c25d1d572c8ca",
       "version_major": 2,
       "version_minor": 0
      },
      "text/plain": [
       "Evaluation episodes:   0%|          | 0/3 [00:00<?, ?it/s]"
      ]
     },
     "metadata": {},
     "output_type": "display_data"
    },
    {
     "data": {
      "application/vnd.jupyter.widget-view+json": {
       "model_id": "ca797926f7264dd89961881b5fd5c5a6",
       "version_major": 2,
       "version_minor": 0
      },
      "text/plain": [
       "Evaluation episodes:   0%|          | 0/3 [00:00<?, ?it/s]"
      ]
     },
     "metadata": {},
     "output_type": "display_data"
    },
    {
     "data": {
      "application/vnd.jupyter.widget-view+json": {
       "model_id": "e4c54131f7f14906a03a5d4b2e2aa00c",
       "version_major": 2,
       "version_minor": 0
      },
      "text/plain": [
       "Evaluation episodes:   0%|          | 0/3 [00:00<?, ?it/s]"
      ]
     },
     "metadata": {},
     "output_type": "display_data"
    },
    {
     "data": {
      "application/vnd.jupyter.widget-view+json": {
       "model_id": "8364bc8aca564a2ca70b228efb1e6f95",
       "version_major": 2,
       "version_minor": 0
      },
      "text/plain": [
       "Evaluation episodes:   0%|          | 0/3 [00:00<?, ?it/s]"
      ]
     },
     "metadata": {},
     "output_type": "display_data"
    },
    {
     "data": {
      "application/vnd.jupyter.widget-view+json": {
       "model_id": "9c9a67ad0ca74c6fac11402d49602ff3",
       "version_major": 2,
       "version_minor": 0
      },
      "text/plain": [
       "Evaluation episodes:   0%|          | 0/3 [00:00<?, ?it/s]"
      ]
     },
     "metadata": {},
     "output_type": "display_data"
    },
    {
     "data": {
      "application/vnd.jupyter.widget-view+json": {
       "model_id": "f808e7916e4b4c0297f6d0d48e73f3cc",
       "version_major": 2,
       "version_minor": 0
      },
      "text/plain": [
       "Evaluation episodes:   0%|          | 0/3 [00:00<?, ?it/s]"
      ]
     },
     "metadata": {},
     "output_type": "display_data"
    },
    {
     "data": {
      "application/vnd.jupyter.widget-view+json": {
       "model_id": "967abaf49b45472387564edf46ac2598",
       "version_major": 2,
       "version_minor": 0
      },
      "text/plain": [
       "Evaluation episodes:   0%|          | 0/3 [00:00<?, ?it/s]"
      ]
     },
     "metadata": {},
     "output_type": "display_data"
    },
    {
     "data": {
      "application/vnd.jupyter.widget-view+json": {
       "model_id": "a3409b77a16e4b7db2ec396e63286d12",
       "version_major": 2,
       "version_minor": 0
      },
      "text/plain": [
       "Evaluation episodes:   0%|          | 0/3 [00:00<?, ?it/s]"
      ]
     },
     "metadata": {},
     "output_type": "display_data"
    },
    {
     "data": {
      "application/vnd.jupyter.widget-view+json": {
       "model_id": "99ce145ac63b458c86fc0b399e1b2397",
       "version_major": 2,
       "version_minor": 0
      },
      "text/plain": [
       "Evaluation episodes:   0%|          | 0/3 [00:00<?, ?it/s]"
      ]
     },
     "metadata": {},
     "output_type": "display_data"
    },
    {
     "data": {
      "application/vnd.jupyter.widget-view+json": {
       "model_id": "f89a1084b6be4c049f97ecf6ed459fdf",
       "version_major": 2,
       "version_minor": 0
      },
      "text/plain": [
       "Evaluation episodes:   0%|          | 0/3 [00:00<?, ?it/s]"
      ]
     },
     "metadata": {},
     "output_type": "display_data"
    }
   ],
   "source": [
    "# | hide\n",
    "optimized_expert_maskable_ppo_agent = MaskablePPOAgent(\n",
    "    render_mode=\"human\", env_config=ENV_CONFIG, name=\"OptimizedExpertMaskablePPOAgent\"\n",
    ")\n",
    "optimized_expert_maskable_ppo_agent.optimize()\n",
    "\n",
    "optimized_expert_maskable_ppo_agent.export_hyperparameters(\n",
    "    f\"{optimized_expert_maskable_ppo_agent.name}.yaml\"\n",
    ")\n",
    "\n",
    "training_data_per_agent[optimized_expert_maskable_ppo_agent.name] = (\n",
    "    optimized_expert_maskable_ppo_agent.train()\n",
    ")\n",
    "\n",
    "optimized_expert_maskable_ppo_agent.save_model(\n",
    "    f\"{optimized_expert_maskable_ppo_agent.name}.model\"\n",
    ")\n",
    "\n",
    "evaluation_data_per_agent[optimized_expert_maskable_ppo_agent.name] = (\n",
    "    optimized_expert_maskable_ppo_agent.evaluate()\n",
    ")"
   ]
  },
  {
   "cell_type": "code",
   "execution_count": null,
   "metadata": {},
   "outputs": [],
   "source": [
    "# | hide\n",
    "\n",
    "with open(\"training_data_per_agent.pkl\", \"wb\") as f:\n",
    "    pickle.dump(training_data_per_agent, f)\n",
    "\n",
    "with open(\"evaluation_data_per_agent.pkl\", \"wb\") as f:\n",
    "    pickle.dump(evaluation_data_per_agent, f)"
   ]
  },
  {
   "cell_type": "code",
   "execution_count": null,
   "metadata": {},
   "outputs": [],
   "source": [
    "# | hide\n",
    "import nbdev\n",
    "\n",
    "nbdev.nbdev_export()"
   ]
  }
 ],
 "metadata": {
  "kernelspec": {
   "display_name": "python3",
   "language": "python",
   "name": "python3"
  }
 },
 "nbformat": 4,
 "nbformat_minor": 4
}
