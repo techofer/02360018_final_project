{
 "cells": [
  {
   "cell_type": "markdown",
   "metadata": {},
   "source": [
    "# electricity_market_env\n",
    "\n",
    "> Fill in a module description here"
   ]
  },
  {
   "cell_type": "code",
   "execution_count": null,
   "metadata": {},
   "outputs": [],
   "source": "#| default_exp electricity_market_env"
  },
  {
   "cell_type": "code",
   "execution_count": null,
   "metadata": {},
   "outputs": [],
   "source": [
    "#| hide\n",
    "from nbdev.showdoc import *"
   ]
  },
  {
   "cell_type": "code",
   "execution_count": null,
   "metadata": {},
   "outputs": [],
   "source": [
    "#| export\n",
    "import gymnasium as gym\n",
    "import numpy as np"
   ]
  },
  {
   "cell_type": "code",
   "execution_count": null,
   "metadata": {},
   "outputs": [],
   "source": [
    "class ElectricityMarketEnv(gym.Env):\n",
    "    def __init__(self, env_config):\n",
    "        # Environment Configuration\n",
    "        self._battery_capacity = env_config['battery_capacity']\n",
    "        self._config = env_config\n",
    "\n",
    "        self.action_space = gym.spaces.Box(low=-self._battery_capacity, high=self._battery_capacity, shape=(1,), dtype=np.float64)\n",
    "        self.observation_space = gym.spaces.Box(low=np.array([0, 0, 0]),\n",
    "                                                high=np.array([self._battery_capacity, np.inf, np.inf]),\n",
    "                                                shape=(3,), dtype=np.float64)\n",
    "\n",
    "\n",
    "        # State of Environment\n",
    "        self._current_state_of_charge = env_config['init_state_of_charge']\n",
    "        self._timestep = 0\n",
    "\n",
    "    def _is_action_valid(self, action) -> bool:\n",
    "        target_state_of_charge = self._current_state_of_charge + action\n",
    "        return target_state_of_charge > self._battery_capacity or target_state_of_charge < 0\n",
    "\n",
    "    def step(self, action):\n",
    "        if not self._is_action_valid(action):\n",
    "            raise ValueError('Invalid action')\n",
    "\n",
    "        reward = self._calculate_reward(action)\n",
    "\n",
    "        self._current_state_of_charge += action\n",
    "        self._timestep += 1\n",
    "\n",
    "        done = False\n",
    "        observation = self._get_obs()\n",
    "\n",
    "        return observation, reward, done, {}\n",
    "\n",
    "    def _calculate_reward(self, action) -> float:\n",
    "        return  (action - self._demand_of_electricity()) * self._price()\n",
    "\n",
    "    def _demand_of_electricity(self) -> float:\n",
    "        noise_std = 5\n",
    "        demand = 120 * np.exp(-((self._timestep - 0.4) ** 2) / (2 * (0.05 ** 2))) + 100 * np.exp(-((self._timestep - 0.7) ** 2) / (2 * (0.1 ** 2)))\n",
    "        noise = np.random.normal(0, noise_std)\n",
    "        return demand + noise\n",
    "\n",
    "\n",
    "    def _price(self) -> float:\n",
    "        noise_std = 5\n",
    "        f1 = 2\n",
    "        f2 = 3\n",
    "        price = 100 * np.sin(2 * np.pi * f1 * self._timestep) + 50 * np.sin(2 * np.pi * f2 * self._timestep)\n",
    "        noise = np.random.normal(0, noise_std)\n",
    "        return price + noise\n",
    "\n",
    "    def reset(self, seed=None, options=None):\n",
    "        # We need the following line to seed self.np_random\n",
    "        super().reset(seed=seed)\n",
    "\n",
    "        self._current_state_of_charge = self._config['init_state_of_charge']\n",
    "        self._timestep = 0\n",
    "\n",
    "        observation = self._get_obs()\n",
    "        return observation\n",
    "\n",
    "    def _get_obs(self):\n",
    "        return np.array([self._current_state_of_charge, self._demand_of_electricity(), self._price()])\n",
    "\n"
   ]
  },
  {
   "cell_type": "code",
   "execution_count": null,
   "metadata": {},
   "outputs": [],
   "source": [
    "#| hide\n",
    "env = ElectricityMarketEnv({\n",
    "    \"battery_capacity\": 100,\n",
    "    \"init_state_of_charge\": 100,\n",
    "    \"init_current_demand_of_electricity\": 0,\n",
    "    \"init_current_price\": 10\n",
    "})\n",
    "\n",
    "env.reset()"
   ]
  },
  {
   "cell_type": "code",
   "execution_count": null,
   "metadata": {},
   "outputs": [],
   "source": [
    "#| hide\n",
    "import nbdev; nbdev.nbdev_export()"
   ]
  }
 ],
 "metadata": {
  "kernelspec": {
   "display_name": "python3",
   "language": "python",
   "name": "python3"
  }
 },
 "nbformat": 4,
 "nbformat_minor": 4
}
