{
 "cells": [
  {
   "cell_type": "markdown",
   "metadata": {},
   "source": [
    "# electricity_market_env\n",
    "\n",
    "> Fill in a module description here"
   ]
  },
  {
   "cell_type": "code",
   "metadata": {
    "ExecuteTime": {
     "end_time": "2025-02-05T00:38:49.884332Z",
     "start_time": "2025-02-05T00:38:49.880294Z"
    }
   },
   "source": "#| default_exp electricity_market_env",
   "outputs": [],
   "execution_count": 19
  },
  {
   "cell_type": "code",
   "metadata": {
    "ExecuteTime": {
     "end_time": "2025-02-05T00:38:49.896961Z",
     "start_time": "2025-02-05T00:38:49.894929Z"
    }
   },
   "source": [
    "#| hide\n",
    "from nbdev.showdoc import *"
   ],
   "outputs": [],
   "execution_count": 20
  },
  {
   "cell_type": "code",
   "metadata": {
    "ExecuteTime": {
     "end_time": "2025-02-05T00:38:49.902982Z",
     "start_time": "2025-02-05T00:38:49.900697Z"
    }
   },
   "source": [
    "#| export\n",
    "import gymnasium as gym\n",
    "import numpy as np\n",
    "from gymnasium.envs.registration import register"
   ],
   "outputs": [],
   "execution_count": 21
  },
  {
   "cell_type": "code",
   "metadata": {
    "ExecuteTime": {
     "end_time": "2025-02-05T00:38:49.912853Z",
     "start_time": "2025-02-05T00:38:49.907700Z"
    }
   },
   "source": [
    "#| export\n",
    "class ElectricityMarketEnv(gym.Env):\n",
    "    def __init__(self, env_config=None):\n",
    "        # Environment Configuration\n",
    "        if env_config is None:\n",
    "            env_config = {}\n",
    "        self._battery_capacity = env_config.get('battery_capacity', 100)\n",
    "        self._config = env_config\n",
    "\n",
    "        self.action_space = gym.spaces.Box(low=-self._battery_capacity, high=self._battery_capacity, shape=(1,), dtype=np.float64)\n",
    "        self.observation_space = gym.spaces.Box(low=np.array([0, 0, 0]),\n",
    "                                                high=np.array([self._battery_capacity, np.inf, np.inf]),\n",
    "                                                shape=(3,), dtype=np.float64)\n",
    "\n",
    "\n",
    "        # State of Environment\n",
    "        self._current_state_of_charge = env_config.get('init_state_of_charge', 100)\n",
    "        self._timestep = 0\n",
    "\n",
    "    def _is_action_valid(self, action) -> bool:\n",
    "        target_state_of_charge = self._current_state_of_charge + action\n",
    "        return 0 < target_state_of_charge < self._battery_capacity\n",
    "\n",
    "    def step(self, action):\n",
    "        action = action[0]\n",
    "        self._timestep += 1\n",
    "        done = False\n",
    "        truncated = False\n",
    "\n",
    "        if not self._is_action_valid(action):\n",
    "            return self._get_obs(), 0, done, truncated, {}\n",
    "\n",
    "        reward = self._calculate_reward(action)\n",
    "        self._current_state_of_charge += action\n",
    "\n",
    "\n",
    "        observation = self._get_obs()\n",
    "\n",
    "        return observation, reward, done, truncated, {}\n",
    "\n",
    "    def _calculate_reward(self, action) -> float:\n",
    "        return  (action - self._demand_of_electricity()) * self._price()\n",
    "\n",
    "    def _demand_of_electricity(self) -> float:\n",
    "        noise_std = 5\n",
    "        demand = 120 * np.exp(-((self._timestep - 0.4) ** 2) / (2 * (0.05 ** 2))) + 100 * np.exp(-((self._timestep - 0.7) ** 2) / (2 * (0.1 ** 2)))\n",
    "        noise = np.random.normal(0, noise_std)\n",
    "        return demand + noise\n",
    "\n",
    "\n",
    "    def _price(self) -> float:\n",
    "        noise_std = 5\n",
    "        price = 120 * np.exp(-((self._timestep - 0.4) ** 2) / (2 * (0.05 ** 2))) + 100 * np.exp(-((self._timestep - 0.7) ** 2) / (2 * (0.1 ** 2)))\n",
    "        noise = np.random.normal(0, noise_std)\n",
    "        return price + noise\n",
    "\n",
    "    def reset(self, *, seed=None, options=None, **kwargs):\n",
    "        # We need the following line to seed self.np_random\n",
    "        super().reset(seed=seed)\n",
    "\n",
    "        self._current_state_of_charge = self._config.get('init_state_of_charge', 100)\n",
    "        self._timestep = 0\n",
    "\n",
    "        observation = self._get_obs()\n",
    "        return observation, {}\n",
    "\n",
    "    def _get_obs(self):\n",
    "        return np.array([self._current_state_of_charge, float(self._demand_of_electricity()), float(self._price())])\n",
    "\n"
   ],
   "outputs": [],
   "execution_count": 22
  },
  {
   "cell_type": "code",
   "metadata": {
    "ExecuteTime": {
     "end_time": "2025-02-05T00:38:49.920415Z",
     "start_time": "2025-02-05T00:38:49.918787Z"
    }
   },
   "source": [
    "#| export\n",
    "register(\n",
    "    id='ElectricityMarketEnv-v0',\n",
    "    entry_point='electricity_market.electricity_market_env:ElectricityMarketEnv',\n",
    ")"
   ],
   "outputs": [],
   "execution_count": 23
  },
  {
   "cell_type": "code",
   "metadata": {
    "ExecuteTime": {
     "end_time": "2025-02-05T00:38:49.937547Z",
     "start_time": "2025-02-05T00:38:49.927637Z"
    }
   },
   "source": [
    "#| hide\n",
    "import nbdev; nbdev.nbdev_export()"
   ],
   "outputs": [],
   "execution_count": 24
  }
 ],
 "metadata": {
  "kernelspec": {
   "display_name": "python3",
   "language": "python",
   "name": "python3"
  }
 },
 "nbformat": 4,
 "nbformat_minor": 4
}
