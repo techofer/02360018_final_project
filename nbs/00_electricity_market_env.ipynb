{
 "cells": [
  {
   "cell_type": "markdown",
   "metadata": {},
   "source": [
    "# electricity_market_env\n",
    "\n",
    "> Fill in a module description here"
   ]
  },
  {
   "cell_type": "code",
   "execution_count": null,
   "metadata": {},
   "outputs": [],
   "source": "#| default_exp electricity_market_env"
  },
  {
   "cell_type": "code",
   "execution_count": null,
   "metadata": {},
   "outputs": [],
   "source": [
    "#| hide\n",
    "from nbdev.showdoc import *"
   ]
  },
  {
   "cell_type": "code",
   "execution_count": null,
   "metadata": {},
   "outputs": [],
   "source": [
    "#| export\n",
    "import gymnasium as gym\n",
    "import numpy as np\n",
    "from gymnasium.envs.registration import register"
   ]
  },
  {
   "cell_type": "code",
   "execution_count": null,
   "metadata": {},
   "outputs": [],
   "source": [
    "#| export\n",
    "class ElectricityMarketEnv(gym.Env):\n",
    "    def __init__(self, env_config=None):\n",
    "        # Environment Configuration\n",
    "        if env_config is None:\n",
    "            env_config = {}\n",
    "        # State of Environment\n",
    "        self._timestep = 0\n",
    "        self._init_state_of_charge = env_config.get('init_state_of_charge', 50)\n",
    "        self._current_state_of_charge = env_config.get('init_state_of_charge', 100)\n",
    "        self._battery_capacity = env_config.get('battery_capacity', 100)\n",
    "        self._battery_efficiency = 0.95\n",
    "        self._battery_degradation = 0.999\n",
    "        self._config = env_config\n",
    "\n",
    "        self.action_space = gym.spaces.Discrete(2 * self._battery_capacity + 1)\n",
    "        self.actions = list(range(-self._battery_capacity, self._battery_capacity + 1))\n",
    "        # observation space: (Battery SoC, Current electricity demand, Current market price)\n",
    "        self.observation_space = gym.spaces.Box(low=np.array([0, 0, 0]),\n",
    "                                                high=np.array([self._battery_capacity, np.inf, np.inf]),\n",
    "                                                shape=(3,), dtype=np.float64)\n",
    "\n",
    "\n",
    "    def _is_action_valid(self, action) -> bool:\n",
    "        charge_amount = self.actions[action]\n",
    "        target_state_of_charge = self._current_state_of_charge + charge_amount * self._battery_efficiency\n",
    "        return 0 < target_state_of_charge < self._battery_capacity\n",
    "\n",
    "    def step(self, action):\n",
    "        charge_amount = self.actions[action]\n",
    "        self._timestep += 1\n",
    "        done = self._battery_efficiency == 0\n",
    "        truncated = False\n",
    "\n",
    "        demand = self._demand_of_electricity()\n",
    "        price = self._price()\n",
    "        if not self._is_action_valid(action):\n",
    "            truncated = True\n",
    "            return self._get_obs(), -1000, done, truncated, {}\n",
    "\n",
    "        self._current_state_of_charge += charge_amount * self._battery_efficiency\n",
    "\n",
    "        self._battery_capacity *= self._battery_degradation\n",
    "        reward = self._calculate_reward(charge_amount, demand, price)\n",
    "        return self._get_obs(), reward, done, truncated, {}\n",
    "\n",
    "    def _calculate_reward(self, charge_amount, demand, price):\n",
    "        \"\"\" Reward function considering price, demand, battery health, and grid stability. \"\"\"\n",
    "        if charge_amount > 0:\n",
    "            reward = -demand * price\n",
    "        else:\n",
    "            reward = (charge_amount - demand) * price\n",
    "        if self._current_state_of_charge < 20 or self._current_state_of_charge > 80:\n",
    "            reward *= 0.9\n",
    "\n",
    "        return reward\n",
    "\n",
    "    def _demand_of_electricity(self):\n",
    "        base_demand = 100 + 50 * np.sin(self._timestep * 2 * np.pi)  # Cyclical demand\n",
    "        noise = np.random.normal(0, 10)  # Random noise\n",
    "        return max(0, base_demand + noise)\n",
    "\n",
    "    def _price(self):\n",
    "        \"\"\" Simulates electricity price changes based on demand and supply. \"\"\"\n",
    "        base_price = 30 + 50 * np.sin(self._timestep * 2 * np.pi)  # Cyclical price changes\n",
    "        noise = np.random.normal(0, 5)  # Random price fluctuations\n",
    "        return max(0, base_price + noise)\n",
    "\n",
    "    def reset(self, *, seed=None, options=None):\n",
    "        \"\"\" Resets the environment to the initial state. \"\"\"\n",
    "        super().reset(seed=seed)\n",
    "        self._timestep = 0\n",
    "        self._init_state_of_charge = self._config.get('init_state_of_charge', 50)\n",
    "        self._current_state_of_charge = self._config.get('init_state_of_charge', 100)\n",
    "        self._battery_capacity = self._config.get('battery_capacity', 100)\n",
    "        self._battery_efficiency = 0.95\n",
    "        self._battery_degradation = 0.999\n",
    "        return self._get_obs(), {}\n",
    "\n",
    "    def action_masks(self):\n",
    "        \"\"\"Generate a boolean mask of valid actions for `MaskablePPO`.\"\"\"\n",
    "        return np.array([self._is_action_valid(i) for i in range(self.action_space.n)], dtype=bool)\n",
    "\n",
    "    def _get_obs(self):\n",
    "        \"\"\" Returns the current observation (state). \"\"\"\n",
    "        return np.array([\n",
    "            self._current_state_of_charge,  # Battery SoC\n",
    "            self._demand_of_electricity(),  # Current electricity demand\n",
    "            self._price()  # Current market price\n",
    "        ])\n",
    "\n"
   ]
  },
  {
   "cell_type": "code",
   "execution_count": null,
   "metadata": {},
   "outputs": [],
   "source": [
    "#| export\n",
    "register(\n",
    "    id='ElectricityMarketEnv-v0',\n",
    "    entry_point='electricity_market.electricity_market_env:ElectricityMarketEnv',\n",
    ")"
   ]
  },
  {
   "cell_type": "code",
   "execution_count": null,
   "metadata": {},
   "outputs": [],
   "source": [
    "#| hide\n",
    "import nbdev; nbdev.nbdev_export()"
   ]
  }
 ],
 "metadata": {
  "kernelspec": {
   "display_name": "python3",
   "language": "python",
   "name": "python3"
  }
 },
 "nbformat": 4,
 "nbformat_minor": 4
}
