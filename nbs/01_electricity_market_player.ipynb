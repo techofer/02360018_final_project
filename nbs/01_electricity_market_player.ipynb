{
 "cells": [
  {
   "cell_type": "markdown",
   "metadata": {},
   "source": [
    "# electricity_market_player\n",
    "\n",
    "> Fill in a module description here"
   ]
  },
  {
   "cell_type": "code",
   "execution_count": null,
   "metadata": {},
   "outputs": [],
   "source": "#| default_exp electricity_market_player"
  },
  {
   "cell_type": "code",
   "execution_count": null,
   "metadata": {},
   "outputs": [],
   "source": [
    "#| hide\n",
    "from nbdev.showdoc import *"
   ]
  },
  {
   "cell_type": "code",
   "execution_count": null,
   "metadata": {},
   "outputs": [],
   "source": [
    "#| export\n",
    "import gymnasium as gym\n",
    "from stable_baselines3 import PPO\n",
    "from stable_baselines3.common.evaluation import evaluate_policy\n",
    "from stable_baselines3.ppo.policies import MlpPolicy\n",
    "\n",
    "from electricity_market.electricity_market_env import ElectricityMarketEnv\n"
   ]
  },
  {
   "cell_type": "code",
   "execution_count": null,
   "metadata": {},
   "outputs": [
    {
     "name": "stdout",
     "output_type": "stream",
     "text": [
      "mean_reward:-85.09 +/- 735.75\n"
     ]
    }
   ],
   "source": [
    "#| export\n",
    "env = ElectricityMarketEnv({\n",
    "    \"battery_capacity\": 10000000,\n",
    "    \"init_state_of_charge\": 4000000,\n",
    "    \"init_current_demand_of_electricity\": 1000,\n",
    "    \"init_current_price\": 100\n",
    "})\n",
    "\n",
    "env.reset()\n",
    "\n",
    "model = PPO(MlpPolicy, env, verbose=0)\n",
    "\n",
    "\n",
    "model.learn(total_timesteps=10_000)\n",
    "mean_reward, std_reward = evaluate_policy(model, env, n_eval_episodes=100, warn=False)\n",
    "\n",
    "print(f\"mean_reward:{mean_reward:.2f} +/- {std_reward:.2f}\")\n"
   ]
  },
  {
   "cell_type": "code",
   "execution_count": null,
   "metadata": {},
   "outputs": [],
   "source": [
    "#| hide\n",
    "import nbdev; nbdev.nbdev_export()"
   ]
  }
 ],
 "metadata": {
  "kernelspec": {
   "display_name": "python3",
   "language": "python",
   "name": "python3"
  }
 },
 "nbformat": 4,
 "nbformat_minor": 4
}
