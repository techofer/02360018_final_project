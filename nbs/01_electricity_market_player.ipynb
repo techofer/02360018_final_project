{
 "cells": [
  {
   "cell_type": "markdown",
   "metadata": {},
   "source": [
    "# electricity_market_player\n",
    "\n",
    "> Fill in a module description here"
   ]
  },
  {
   "cell_type": "code",
   "metadata": {},
   "source": "#| default_exp electricity_market_player",
   "outputs": [],
   "execution_count": null
  },
  {
   "cell_type": "code",
   "metadata": {},
   "source": [
    "#| hide\n",
    "from nbdev.showdoc import *"
   ],
   "outputs": [],
   "execution_count": null
  },
  {
   "cell_type": "code",
   "metadata": {
    "ExecuteTime": {
     "end_time": "2025-02-06T20:53:25.968561Z",
     "start_time": "2025-02-06T20:53:24.727624Z"
    }
   },
   "source": [
    "#| export\n",
    "from sb3_contrib import MaskablePPO\n",
    "from stable_baselines3.common.evaluation import evaluate_policy\n",
    "from stable_baselines3.common.vec_env import DummyVecEnv\n",
    "\n",
    "from electricity_market.electricity_market_env import ElectricityMarketEnv\n"
   ],
   "outputs": [
    {
     "name": "stderr",
     "output_type": "stream",
     "text": [
      "/Users/ofer/Downloads/02360018_final_project/.venv/lib/python3.12/site-packages/gymnasium/envs/registration.py:642: UserWarning: \u001B[33mWARN: Overriding environment ElectricityMarketEnv-v0 already in registry.\u001B[0m\n",
      "  logger.warn(f\"Overriding environment {new_spec.id} already in registry.\")\n"
     ]
    }
   ],
   "execution_count": 1
  },
  {
   "cell_type": "code",
   "metadata": {
    "jupyter": {
     "is_executing": true
    },
    "ExecuteTime": {
     "start_time": "2025-02-06T21:00:57.722586Z"
    }
   },
   "source": [
    "#| export\n",
    "env_config = {\n",
    "    \"battery_capacity\": 10_000_000,\n",
    "    \"init_state_of_charge\": 4_000_000,\n",
    "    \"init_current_demand_of_electricity\": 1000,\n",
    "    \"init_current_price\": 100\n",
    "}\n",
    "env = ElectricityMarketEnv(env_config)\n",
    "\n",
    "env.reset(seed=12123)\n",
    "\n",
    "model = MaskablePPO(\"MlpPolicy\", env, verbose=0)\n",
    "\n",
    "\n",
    "model.learn(total_timesteps=10_000)\n",
    "mean_reward, std_reward = evaluate_policy(model, env, n_eval_episodes=1000)\n",
    "\n",
    "print(f\"mean_reward:{mean_reward:.2f} +/- {std_reward:.2f}\")\n"
   ],
   "outputs": [],
   "execution_count": null
  },
  {
   "cell_type": "code",
   "metadata": {},
   "source": "!python -m rl_zoo3.train --algo ppo --env ElectricityMarketEnv-v0 -n 50000 --optimize --n-trials 1000 --n-jobs 2 --gym-packages electricity_market",
   "outputs": [],
   "execution_count": null
  },
  {
   "metadata": {},
   "cell_type": "code",
   "source": [
    "import optuna\n",
    "from stable_baselines3 import PPO\n",
    "from electricity_market.electricity_market_env import ElectricityMarketEnv\n",
    "\n",
    "def optimize_agent(trial):\n",
    "    # Define hyperparameters to optimize\n",
    "    learning_rate = trial.suggest_float('learning_rate', 1e-5, 1e-1, log=True)\n",
    "    n_steps = trial.suggest_int('n_steps', 16, 2048, log=True)\n",
    "    batch_size = trial.suggest_int('batch_size', 16, 256, log=True)\n",
    "\n",
    "    # Create environment\n",
    "    env = DummyVecEnv([lambda: ElectricityMarketEnv()])\n",
    "\n",
    "    # Initialize PPO with trial hyperparameters\n",
    "    model = PPO(\"MlpPolicy\", env, learning_rate=learning_rate, n_steps=n_steps, batch_size=batch_size, verbose=0)\n",
    "\n",
    "    # Train the model\n",
    "    model.learn(total_timesteps=int(1e3))\n",
    "\n",
    "    # Evaluate the model\n",
    "    total_reward = 0\n",
    "    obs = env.reset()\n",
    "    for _ in range(1000):\n",
    "        action, _ = model.predict(obs)\n",
    "        obs, reward, done, _ = env.step(action)\n",
    "        total_reward += reward\n",
    "        if done:\n",
    "            break\n",
    "\n",
    "    return total_reward\n",
    "\n",
    "# Set up Optuna study\n",
    "study = optuna.create_study(direction=\"maximize\")\n",
    "study.optimize(optimize_agent, n_trials=10)\n",
    "\n",
    "# Print best trial\n",
    "print(\"Best trial:\", study.best_trial)"
   ],
   "outputs": [],
   "execution_count": null
  },
  {
   "cell_type": "code",
   "metadata": {},
   "source": [
    "#| hide\n",
    "import nbdev; nbdev.nbdev_export()"
   ],
   "outputs": [],
   "execution_count": null
  }
 ],
 "metadata": {
  "kernelspec": {
   "display_name": "python3",
   "language": "python",
   "name": "python3"
  }
 },
 "nbformat": 4,
 "nbformat_minor": 4
}
