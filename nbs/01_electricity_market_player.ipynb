{
 "cells": [
  {
   "cell_type": "markdown",
   "metadata": {},
   "source": [
    "# electricity_market_player\n",
    "\n",
    "> Fill in a module description here"
   ]
  },
  {
   "cell_type": "code",
   "execution_count": null,
   "metadata": {},
   "outputs": [],
   "source": "#| default_exp electricity_market_player"
  },
  {
   "cell_type": "code",
   "execution_count": null,
   "metadata": {},
   "outputs": [],
   "source": [
    "#| hide\n",
    "from nbdev.showdoc import *"
   ]
  },
  {
   "cell_type": "code",
   "metadata": {
    "ExecuteTime": {
     "end_time": "2025-02-05T01:26:33.104950Z",
     "start_time": "2025-02-05T01:26:33.102955Z"
    }
   },
   "source": [
    "#| export\n",
    "import gymnasium as gym\n",
    "from stable_baselines3 import PPO\n",
    "from stable_baselines3.common.evaluation import evaluate_policy\n",
    "from stable_baselines3.common.vec_env import DummyVecEnv\n",
    "from stable_baselines3.ppo.policies import MlpPolicy\n",
    "\n",
    "from electricity_market.electricity_market_env import ElectricityMarketEnv\n"
   ],
   "outputs": [],
   "execution_count": 9
  },
  {
   "cell_type": "code",
   "execution_count": null,
   "metadata": {},
   "outputs": [
    {
     "name": "stdout",
     "output_type": "stream",
     "text": [
      "mean_reward:-85.09 +/- 735.75\n"
     ]
    }
   ],
   "source": [
    "#| export\n",
    "env = ElectricityMarketEnv({\n",
    "    \"battery_capacity\": 10000000,\n",
    "    \"init_state_of_charge\": 4000000,\n",
    "    \"init_current_demand_of_electricity\": 1000,\n",
    "    \"init_current_price\": 100\n",
    "})\n",
    "\n",
    "env.reset()\n",
    "\n",
    "model = PPO(MlpPolicy, env, verbose=0)\n",
    "\n",
    "\n",
    "model.learn(total_timesteps=10_000)\n",
    "mean_reward, std_reward = evaluate_policy(model, env, n_eval_episodes=100, warn=False)\n",
    "\n",
    "print(f\"mean_reward:{mean_reward:.2f} +/- {std_reward:.2f}\")\n"
   ]
  },
  {
   "cell_type": "code",
   "metadata": {
    "ExecuteTime": {
     "end_time": "2025-02-05T00:44:47.377878Z",
     "start_time": "2025-02-05T00:44:45.838194Z"
    }
   },
   "source": "!python -m rl_zoo3.train --algo ppo --env ElectricityMarketEnv-v0 -n 50000 --optimize --n-trials 1000 --n-jobs 2 --gym-packages electricity_market",
   "outputs": [
    {
     "name": "stdout",
     "output_type": "stream",
     "text": [
      "========== ElectricityMarketEnv-v0 ==========\r\n",
      "Seed: 1872311507\r\n",
      "Loading hyperparameters from: /Users/ofer/Downloads/02360018_final_project/.venv/lib/python3.12/site-packages/rl_zoo3/hyperparams/ppo.yml\r\n",
      "Traceback (most recent call last):\r\n",
      "  File \"<frozen runpy>\", line 198, in _run_module_as_main\r\n",
      "  File \"<frozen runpy>\", line 88, in _run_code\r\n",
      "  File \"/Users/ofer/Downloads/02360018_final_project/.venv/lib/python3.12/site-packages/rl_zoo3/train.py\", line 279, in <module>\r\n",
      "    train()\r\n",
      "  File \"/Users/ofer/Downloads/02360018_final_project/.venv/lib/python3.12/site-packages/rl_zoo3/train.py\", line 261, in train\r\n",
      "    results = exp_manager.setup_experiment()\r\n",
      "              ^^^^^^^^^^^^^^^^^^^^^^^^^^^^^^\r\n",
      "  File \"/Users/ofer/Downloads/02360018_final_project/.venv/lib/python3.12/site-packages/rl_zoo3/exp_manager.py\", line 189, in setup_experiment\r\n",
      "    unprocessed_hyperparams, saved_hyperparams = self.read_hyperparameters()\r\n",
      "                                                 ^^^^^^^^^^^^^^^^^^^^^^^^^^^\r\n",
      "  File \"/Users/ofer/Downloads/02360018_final_project/.venv/lib/python3.12/site-packages/rl_zoo3/exp_manager.py\", line 315, in read_hyperparameters\r\n",
      "    raise ValueError(f\"Hyperparameters not found for {self.algo}-{self.env_name.gym_id} in {self.config}\")\r\n",
      "ValueError: Hyperparameters not found for ppo-ElectricityMarketEnv-v0 in /Users/ofer/Downloads/02360018_final_project/.venv/lib/python3.12/site-packages/rl_zoo3/hyperparams/ppo.yml\r\n"
     ]
    }
   ],
   "execution_count": 7
  },
  {
   "metadata": {
    "ExecuteTime": {
     "end_time": "2025-02-05T01:30:42.467875Z",
     "start_time": "2025-02-05T01:30:37.011325Z"
    }
   },
   "cell_type": "code",
   "source": [
    "import optuna\n",
    "from stable_baselines3 import PPO\n",
    "from electricity_market.electricity_market_env import ElectricityMarketEnv\n",
    "\n",
    "def optimize_agent(trial):\n",
    "    # Define hyperparameters to optimize\n",
    "    learning_rate = trial.suggest_float('learning_rate', 1e-5, 1e-1, log=True)\n",
    "    n_steps = trial.suggest_int('n_steps', 16, 2048, log=True)\n",
    "    batch_size = trial.suggest_int('batch_size', 16, 256, log=True)\n",
    "\n",
    "    # Create environment\n",
    "    env = DummyVecEnv([lambda: ElectricityMarketEnv()])\n",
    "\n",
    "    # Initialize PPO with trial hyperparameters\n",
    "    model = PPO(\"MlpPolicy\", env, learning_rate=learning_rate, n_steps=n_steps, batch_size=batch_size, verbose=0)\n",
    "\n",
    "    # Train the model\n",
    "    model.learn(total_timesteps=int(1e3))\n",
    "\n",
    "    # Evaluate the model\n",
    "    total_reward = 0\n",
    "    obs = env.reset()\n",
    "    for _ in range(1000):\n",
    "        action, _ = model.predict(obs)\n",
    "        obs, reward, done, _ = env.step(action)\n",
    "        total_reward += reward\n",
    "        if done:\n",
    "            break\n",
    "\n",
    "    return total_reward\n",
    "\n",
    "# Set up Optuna study\n",
    "study = optuna.create_study(direction=\"maximize\")\n",
    "study.optimize(optimize_agent, n_trials=10)\n",
    "\n",
    "# Print best trial\n",
    "print(\"Best trial:\", study.best_trial)"
   ],
   "outputs": [
    {
     "name": "stderr",
     "output_type": "stream",
     "text": [
      "[I 2025-02-05 03:30:37,013] A new study created in memory with name: no-name-9f75bf3a-7604-4757-b435-8887520f901d\n",
      "/Users/ofer/Downloads/02360018_final_project/.venv/lib/python3.12/site-packages/stable_baselines3/ppo/ppo.py:155: UserWarning: You have specified a mini-batch size of 31, but because the `RolloutBuffer` is of size `n_steps * n_envs = 35`, after every 1 untruncated mini-batches, there will be a truncated mini-batch of size 4\n",
      "We recommend using a `batch_size` that is a factor of `n_steps * n_envs`.\n",
      "Info: (n_steps=35 and n_envs=1)\n",
      "  warnings.warn(\n",
      "[I 2025-02-05 03:30:37,797] Trial 0 finished with value: -429.2867126464844 and parameters: {'learning_rate': 0.010783162190824478, 'n_steps': 35, 'batch_size': 31}. Best is trial 0 with value: -429.2867126464844.\n",
      "/Users/ofer/Downloads/02360018_final_project/.venv/lib/python3.12/site-packages/stable_baselines3/ppo/ppo.py:155: UserWarning: You have specified a mini-batch size of 61, but because the `RolloutBuffer` is of size `n_steps * n_envs = 78`, after every 1 untruncated mini-batches, there will be a truncated mini-batch of size 17\n",
      "We recommend using a `batch_size` that is a factor of `n_steps * n_envs`.\n",
      "Info: (n_steps=78 and n_envs=1)\n",
      "  warnings.warn(\n",
      "[I 2025-02-05 03:30:38,234] Trial 1 finished with value: 331.9625244140625 and parameters: {'learning_rate': 3.864062296016515e-05, 'n_steps': 78, 'batch_size': 61}. Best is trial 1 with value: 331.9625244140625.\n",
      "/Users/ofer/Downloads/02360018_final_project/.venv/lib/python3.12/site-packages/stable_baselines3/ppo/ppo.py:155: UserWarning: You have specified a mini-batch size of 193, but because the `RolloutBuffer` is of size `n_steps * n_envs = 152`, after every 0 untruncated mini-batches, there will be a truncated mini-batch of size 152\n",
      "We recommend using a `batch_size` that is a factor of `n_steps * n_envs`.\n",
      "Info: (n_steps=152 and n_envs=1)\n",
      "  warnings.warn(\n",
      "[I 2025-02-05 03:30:38,517] Trial 2 finished with value: -301.07598876953125 and parameters: {'learning_rate': 0.00019193742369037075, 'n_steps': 152, 'batch_size': 193}. Best is trial 1 with value: 331.9625244140625.\n",
      "/Users/ofer/Downloads/02360018_final_project/.venv/lib/python3.12/site-packages/stable_baselines3/ppo/ppo.py:155: UserWarning: You have specified a mini-batch size of 135, but because the `RolloutBuffer` is of size `n_steps * n_envs = 641`, after every 4 untruncated mini-batches, there will be a truncated mini-batch of size 101\n",
      "We recommend using a `batch_size` that is a factor of `n_steps * n_envs`.\n",
      "Info: (n_steps=641 and n_envs=1)\n",
      "  warnings.warn(\n",
      "[I 2025-02-05 03:30:38,854] Trial 3 finished with value: 1155.1278076171875 and parameters: {'learning_rate': 0.005550291149425107, 'n_steps': 641, 'batch_size': 135}. Best is trial 3 with value: 1155.1278076171875.\n",
      "/Users/ofer/Downloads/02360018_final_project/.venv/lib/python3.12/site-packages/stable_baselines3/ppo/ppo.py:155: UserWarning: You have specified a mini-batch size of 205, but because the `RolloutBuffer` is of size `n_steps * n_envs = 18`, after every 0 untruncated mini-batches, there will be a truncated mini-batch of size 18\n",
      "We recommend using a `batch_size` that is a factor of `n_steps * n_envs`.\n",
      "Info: (n_steps=18 and n_envs=1)\n",
      "  warnings.warn(\n",
      "[I 2025-02-05 03:30:39,663] Trial 4 finished with value: 866.7599487304688 and parameters: {'learning_rate': 1.3602583964521453e-05, 'n_steps': 18, 'batch_size': 205}. Best is trial 3 with value: 1155.1278076171875.\n",
      "/Users/ofer/Downloads/02360018_final_project/.venv/lib/python3.12/site-packages/stable_baselines3/ppo/ppo.py:155: UserWarning: You have specified a mini-batch size of 51, but because the `RolloutBuffer` is of size `n_steps * n_envs = 82`, after every 1 untruncated mini-batches, there will be a truncated mini-batch of size 31\n",
      "We recommend using a `batch_size` that is a factor of `n_steps * n_envs`.\n",
      "Info: (n_steps=82 and n_envs=1)\n",
      "  warnings.warn(\n",
      "[I 2025-02-05 03:30:40,128] Trial 5 finished with value: 608.13037109375 and parameters: {'learning_rate': 0.08438579554316837, 'n_steps': 82, 'batch_size': 51}. Best is trial 3 with value: 1155.1278076171875.\n",
      "/Users/ofer/Downloads/02360018_final_project/.venv/lib/python3.12/site-packages/stable_baselines3/ppo/ppo.py:155: UserWarning: You have specified a mini-batch size of 131, but because the `RolloutBuffer` is of size `n_steps * n_envs = 17`, after every 0 untruncated mini-batches, there will be a truncated mini-batch of size 17\n",
      "We recommend using a `batch_size` that is a factor of `n_steps * n_envs`.\n",
      "Info: (n_steps=17 and n_envs=1)\n",
      "  warnings.warn(\n",
      "[I 2025-02-05 03:30:40,821] Trial 6 finished with value: 973.41357421875 and parameters: {'learning_rate': 0.012232399611392981, 'n_steps': 17, 'batch_size': 131}. Best is trial 3 with value: 1155.1278076171875.\n",
      "/Users/ofer/Downloads/02360018_final_project/.venv/lib/python3.12/site-packages/stable_baselines3/ppo/ppo.py:155: UserWarning: You have specified a mini-batch size of 19, but because the `RolloutBuffer` is of size `n_steps * n_envs = 382`, after every 20 untruncated mini-batches, there will be a truncated mini-batch of size 2\n",
      "We recommend using a `batch_size` that is a factor of `n_steps * n_envs`.\n",
      "Info: (n_steps=382 and n_envs=1)\n",
      "  warnings.warn(\n",
      "[I 2025-02-05 03:30:41,516] Trial 7 finished with value: 0.0 and parameters: {'learning_rate': 0.05633533278589442, 'n_steps': 382, 'batch_size': 19}. Best is trial 3 with value: 1155.1278076171875.\n",
      "/Users/ofer/Downloads/02360018_final_project/.venv/lib/python3.12/site-packages/stable_baselines3/ppo/ppo.py:155: UserWarning: You have specified a mini-batch size of 93, but because the `RolloutBuffer` is of size `n_steps * n_envs = 606`, after every 6 untruncated mini-batches, there will be a truncated mini-batch of size 48\n",
      "We recommend using a `batch_size` that is a factor of `n_steps * n_envs`.\n",
      "Info: (n_steps=606 and n_envs=1)\n",
      "  warnings.warn(\n",
      "[I 2025-02-05 03:30:41,874] Trial 8 finished with value: -1812.334716796875 and parameters: {'learning_rate': 0.002477789172816433, 'n_steps': 606, 'batch_size': 93}. Best is trial 3 with value: 1155.1278076171875.\n",
      "/Users/ofer/Downloads/02360018_final_project/.venv/lib/python3.12/site-packages/stable_baselines3/ppo/ppo.py:155: UserWarning: You have specified a mini-batch size of 61, but because the `RolloutBuffer` is of size `n_steps * n_envs = 22`, after every 0 untruncated mini-batches, there will be a truncated mini-batch of size 22\n",
      "We recommend using a `batch_size` that is a factor of `n_steps * n_envs`.\n",
      "Info: (n_steps=22 and n_envs=1)\n",
      "  warnings.warn(\n",
      "[I 2025-02-05 03:30:42,466] Trial 9 finished with value: -251.1544189453125 and parameters: {'learning_rate': 0.00019171745953920472, 'n_steps': 22, 'batch_size': 61}. Best is trial 3 with value: 1155.1278076171875.\n"
     ]
    },
    {
     "name": "stdout",
     "output_type": "stream",
     "text": [
      "Best trial: FrozenTrial(number=3, state=1, values=[1155.1278076171875], datetime_start=datetime.datetime(2025, 2, 5, 3, 30, 38, 517436), datetime_complete=datetime.datetime(2025, 2, 5, 3, 30, 38, 854018), params={'learning_rate': 0.005550291149425107, 'n_steps': 641, 'batch_size': 135}, user_attrs={}, system_attrs={}, intermediate_values={}, distributions={'learning_rate': FloatDistribution(high=0.1, log=True, low=1e-05, step=None), 'n_steps': IntDistribution(high=2048, log=True, low=16, step=1), 'batch_size': IntDistribution(high=256, log=True, low=16, step=1)}, trial_id=3, value=None)\n"
     ]
    }
   ],
   "execution_count": 11
  },
  {
   "cell_type": "code",
   "execution_count": null,
   "metadata": {},
   "outputs": [],
   "source": [
    "#| hide\n",
    "import nbdev; nbdev.nbdev_export()"
   ]
  }
 ],
 "metadata": {
  "kernelspec": {
   "display_name": "python3",
   "language": "python",
   "name": "python3"
  }
 },
 "nbformat": 4,
 "nbformat_minor": 4
}
